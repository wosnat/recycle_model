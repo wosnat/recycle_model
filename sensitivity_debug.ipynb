{
 "cells": [
  {
   "cell_type": "code",
   "execution_count": 1,
   "id": "bb41bdda",
   "metadata": {},
   "outputs": [],
   "source": [
    "import numpy as np\n",
    "import pandas as pd\n",
    "import matplotlib.pyplot as plt\n",
    "import seaborn as sns\n",
    "import pprint\n",
    "sns.set(style=\"white\", context='poster')\n",
    "from sympy import *\n",
    "import math\n",
    "init_printing(use_unicode=True)\n",
    "from scipy.integrate import solve_ivp"
   ]
  },
  {
   "cell_type": "code",
   "execution_count": 2,
   "id": "1f52ce9e",
   "metadata": {},
   "outputs": [],
   "source": [
    "%load_ext autoreload\n",
    "%autoreload 2\n"
   ]
  },
  {
   "cell_type": "code",
   "execution_count": 43,
   "id": "92437b5a",
   "metadata": {},
   "outputs": [],
   "source": [
    "#from model_equations_separate_NC import *\n",
    "from model_equations_separate_NC_sep_vmax import *\n"
   ]
  },
  {
   "cell_type": "code",
   "execution_count": 44,
   "id": "e0ed5027",
   "metadata": {},
   "outputs": [],
   "source": [
    "import run_sensitivity"
   ]
  },
  {
   "cell_type": "code",
   "execution_count": 30,
   "id": "682904c1",
   "metadata": {},
   "outputs": [],
   "source": [
    "    param_df = pd.read_excel( 'Model_Parameters.xlsx',)"
   ]
  },
  {
   "cell_type": "code",
   "execution_count": 31,
   "id": "77b9a0da",
   "metadata": {},
   "outputs": [
    {
     "data": {
      "text/plain": [
       "Index(['parameter', 'units', 'description', 'organism', 'full model',\n",
       "       'full model per day', 'MIN model hardcoded parameters',\n",
       "       'LEAK model hardcoded parameters', 'MIXO model hardcoded parameters',\n",
       "       'Tunable parameters (PRO fitting)', 'Tunable parameters (HET fitting)',\n",
       "       'lower bound', 'upper bound', 'logscale fitting'],\n",
       "      dtype='object')"
      ]
     },
     "execution_count": 31,
     "metadata": {},
     "output_type": "execute_result"
    }
   ],
   "source": [
    "param_df.columns"
   ]
  },
  {
   "cell_type": "code",
   "execution_count": 32,
   "id": "089d13c3",
   "metadata": {},
   "outputs": [],
   "source": [
    "model_name = 'MIN'\n",
    "organism = 'PRO'\n",
    "\"\"\" return \n",
    "params_to_update (list of strings)\n",
    "bounds (list of pairs)\n",
    "log_params (list of bools\n",
    "\"\"\"\n",
    "param_df = pd.read_excel( 'Model_Parameters.xlsx',)\n",
    "param_df['values'] = param_df['full model']\n",
    "if model_name is not None:\n",
    "    model_col = f'{model_name} model hardcoded parameters'\n",
    "    param_df.loc[~param_df[model_col].isna(), 'values'] = param_df.loc[~param_df[model_col].isna(), model_col] \n",
    "param_vals_series = param_df['values']\n",
    "param_vals_series.index = param_df.parameter\n"
   ]
  },
  {
   "cell_type": "code",
   "execution_count": 33,
   "id": "0ee3e8aa",
   "metadata": {},
   "outputs": [
    {
     "data": {
      "text/plain": [
       "'MIN model hardcoded parameters'"
      ]
     },
     "execution_count": 33,
     "metadata": {},
     "output_type": "execute_result"
    }
   ],
   "source": [
    "    model_col = f'{model_name} model hardcoded parameters'\n",
    "    org_col = f'Tunable parameters ({organism} fitting)'\n",
    "    model_col\n",
    "    #param_df.loc[]"
   ]
  },
  {
   "cell_type": "code",
   "execution_count": 34,
   "id": "431ed5aa",
   "metadata": {},
   "outputs": [],
   "source": [
    "tunable_param_df = param_df.loc[param_df[model_col].isna() & \n",
    "             param_df[org_col].isin(['Yes'])] \n"
   ]
  },
  {
   "cell_type": "code",
   "execution_count": 35,
   "id": "01d5b528",
   "metadata": {},
   "outputs": [
    {
     "data": {
      "image/png": "[encoded data removed]",
      "text/latex": [
       "$\\displaystyle \\left[ \\left( 1.15740740740741 \\cdot 10^{-7}, \\  0.000115740740740741\\right), \\  \\left( 0.0, \\  1.0\\right), \\  \\left( 0.0142750799545261, \\  1.42750799545261\\right), \\  \\left( 0.0142750799545261, \\  1.42750799545261\\right), \\  \\left( 8.10185185185185 \\cdot 10^{-7}, \\  8.10185185185185 \\cdot 10^{-5}\\right), \\  \\left( 5.6712962962963 \\cdot 10^{-6}, \\  0.00056712962962963\\right)\\right]$"
      ],
      "text/plain": [
       "[(1.157407407407407e-07, 0.00011574074074074069), (0.0, 1.0), (0.0142750799545\n",
       "2611, 1.4275079954526109), (0.01427507995452611, 1.4275079954526109), (8.10185\n",
       "1851851852e-07, 8.101851851851852e-05), (5.671296296296296e-06, 0.000567129629\n",
       "6296296)]"
      ]
     },
     "execution_count": 35,
     "metadata": {},
     "output_type": "execute_result"
    }
   ],
   "source": [
    "list(zip(tunable_param_df['lower bound'],tunable_param_df['upper bound']))"
   ]
  },
  {
   "cell_type": "code",
   "execution_count": 40,
   "id": "35e4c2b2",
   "metadata": {},
   "outputs": [],
   "source": [
    "def get_param_tuning_values(model_name, organism_to_tune):\n",
    "    \"\"\" return \n",
    "    params_to_update (list of strings)\n",
    "    bounds (list of pairs)\n",
    "    log_params (list of bools\n",
    "    \"\"\"\n",
    "    param_df = pd.read_excel( 'Model_Parameters.xlsx',)\n",
    "    org_col = f'Tunable parameters ({organism_to_tune} fitting)'\n",
    "\n",
    "    if model_name not in [None, 'FULL']:\n",
    "        # restrict to given model\n",
    "        model_col = f'{model_name} model hardcoded parameters'\n",
    "        tunable_param_df = param_df.loc[param_df[model_col].isna() & param_df[org_col].isin(['Yes'])] \n",
    "    else: \n",
    "        # take the full model\n",
    "        tunable_param_df = param_df.loc[param_df[org_col].isin(['Yes'])] \n",
    "\n",
    "    params_to_update = list(tunable_param_df['parameter'])    \n",
    "    bounds = list(zip(tunable_param_df['lower bound'],tunable_param_df['upper bound']))    \n",
    "    \n",
    "    log_params = list(tunable_param_df['logscale fitting'].map({'Yes': True, 'No': 'False'}))                \n",
    "\n",
    "    return (params_to_update, bounds, log_params)\n"
   ]
  },
  {
   "cell_type": "code",
   "execution_count": 42,
   "id": "ce78229a",
   "metadata": {},
   "outputs": [
    {
     "data": {
      "text/plain": [
       "(['gammaDh',\n",
       "  'EOh',\n",
       "  'KONh',\n",
       "  'KINh',\n",
       "  'KOCh',\n",
       "  'VmaxONh',\n",
       "  'VmaxINh',\n",
       "  'VmaxOCh',\n",
       "  'E_ROSh',\n",
       "  'VmaxROSh',\n",
       "  'K_ROSh',\n",
       "  'omegaH',\n",
       "  'KABh',\n",
       "  'EABh',\n",
       "  'decayABh',\n",
       "  'MABh'],\n",
       " [(0.0, 1.0),\n",
       "  (0.0, 1.157407407407407e-05),\n",
       "  (0.02502723352076287, 2.502723352076287),\n",
       "  (0.02502723352076287, 2.502723352076287),\n",
       "  (0.02502723352076287, 2.502723352076287),\n",
       "  (1.50462962962963e-06, 0.000150462962962963),\n",
       "  (1.50462962962963e-06, 0.000150462962962963),\n",
       "  (6.770833333333335e-06, 0.0006770833333333335),\n",
       "  (4.050925925925926e-08, 4.050925925925926e-06),\n",
       "  (7.696759259259261e-07, 7.69675925925926e-05),\n",
       "  (0.02502723352076287, 2.502723352076287),\n",
       "  (1.0000000000000002e-06, 0.0001),\n",
       "  (0.01427507995452611, 1.4275079954526109),\n",
       "  (4.050925925925925e-18, 4.0509259259259247e-16),\n",
       "  (1.1574074074074074e-08, 1.1574074074074074e-06),\n",
       "  (1.15740740740741e-08, 1.1574074074074101e-06)],\n",
       " ['False',\n",
       "  'False',\n",
       "  True,\n",
       "  True,\n",
       "  True,\n",
       "  True,\n",
       "  True,\n",
       "  True,\n",
       "  True,\n",
       "  True,\n",
       "  True,\n",
       "  True,\n",
       "  True,\n",
       "  True,\n",
       "  True,\n",
       "  True])"
      ]
     },
     "execution_count": 42,
     "metadata": {},
     "output_type": "execute_result"
    }
   ],
   "source": [
    "get_param_tuning_values('FULL', 'HET')"
   ]
  },
  {
   "cell_type": "code",
   "execution_count": null,
   "id": "c2744dda",
   "metadata": {},
   "outputs": [],
   "source": []
  }
 ],
 "metadata": {
  "kernelspec": {
   "display_name": "Python 3 (ipykernel)",
   "language": "python",
   "name": "python3"
  },
  "language_info": {
   "codemirror_mode": {
    "name": "ipython",
    "version": 3
   },
   "file_extension": ".py",
   "mimetype": "text/x-python",
   "name": "python",
   "nbconvert_exporter": "python",
   "pygments_lexer": "ipython3",
   "version": "3.9.13"
  }
 },
 "nbformat": 4,
 "nbformat_minor": 5
}
