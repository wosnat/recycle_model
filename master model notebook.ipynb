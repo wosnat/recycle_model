{
 "cells": [
  {
   "cell_type": "code",
   "execution_count": 1,
   "id": "98671b95",
   "metadata": {},
   "outputs": [
    {
     "data": {
      "text/plain": [
       "['.ipynb_checkpoints',\n",
       " 'debug.xlsx',\n",
       " 'de_h-4189117550190018920_df.csv.gz',\n",
       " 'de_h-4189117550190018920_sum.csv.gz',\n",
       " 'draft first model run - nmol per ml.ipynb',\n",
       " 'first model run-Copy1.ipynb',\n",
       " 'first model run.ipynb',\n",
       " 'master model notebook.ipynb',\n",
       " 'model diagram.pptx',\n",
       " 'model notebook osnat try1.docx',\n",
       " 'model notebook sep2021 simplified no quota.docx',\n",
       " 'model notebook sep2021.docx',\n",
       " 'model overview.pptx',\n",
       " 'Modeling the diversity of interactions of Prochlorococcus 112021.docx',\n",
       " 'Modeling the diversity of interactions of Prochlorococcus 112021.pdf',\n",
       " 'Modeling the diversity of interactions of Prochlorococcus.docx',\n",
       " 'Modeling the diversity of interactions of Prochlorococcus.pdf',\n",
       " 'model_equations.py',\n",
       " 'model_equations_no_quota.py',\n",
       " 'model_equations_separate_NC.py',\n",
       " 'model_equations_separate_NC_sep_vmax.py',\n",
       " 'model_NC_cc.ipynb',\n",
       " 'model_NC_cc_mechanisms.ipynb',\n",
       " 'model_NC_cc_optimize.ipynb',\n",
       " 'model_NC_honly.ipynb',\n",
       " 'model_NC_ponly.ipynb',\n",
       " 'model_noquota_cc.ipynb',\n",
       " 'model_noquota_honly.ipynb',\n",
       " 'model_noquota_ponly.ipynb',\n",
       " 'model_quota_cc.ipynb',\n",
       " 'model_quota_honly.ipynb',\n",
       " 'model_quota_ponly.ipynb',\n",
       " 'prelim bottle.csv',\n",
       " 'recycle model results 041021.pptx',\n",
       " 'tmp',\n",
       " 'tmp_df.csv.gz',\n",
       " 'tmp_h1930067250827843357_df.csv.gz',\n",
       " 'tmp_h1930067250827843357_params.json',\n",
       " 'tmp_h1930067250827843357_sum.csv.gz',\n",
       " 'tmp_sum.csv.gz',\n",
       " 'Untitled.ipynb',\n",
       " 'workfile.json',\n",
       " '__pycache__']"
      ]
     },
     "execution_count": 1,
     "metadata": {},
     "output_type": "execute_result"
    }
   ],
   "source": [
    "import os\n",
    "os.listdir()"
   ]
  },
  {
   "cell_type": "markdown",
   "id": "2abae0c8",
   "metadata": {},
   "source": [
    "\n",
    "# Model Including Quota \n",
    "* [quota cc](./model_quota_cc.ipynb)\n",
    "* [quota ponly](./model_quota_ponly.ipynb)\n",
    "* [quota honly](./model_quota_honly.ipynb)\n",
    " "
   ]
  },
  {
   "cell_type": "markdown",
   "id": "bcf4b687",
   "metadata": {},
   "source": [
    "\n",
    "# Model without Quota (monod)\n",
    "* [no quota cc](./model_noquota_cc.ipynb)\n",
    "* [no quota ponly](./model_noquota_ponly.ipynb)\n",
    "* [no quota honly](./model_noquota_honly.ipynb)\n",
    " "
   ]
  },
  {
   "cell_type": "markdown",
   "id": "c79e4210",
   "metadata": {},
   "source": [
    "\n",
    "# Model with separate N and C reserves (stiochiometry, monod)\n",
    "* [N/C cc](./model_NC_cc.ipynb)\n",
    "* [N/C ponly](./model_NC_ponly.ipynb)\n",
    "* [N/C honly](./model_NC_honly.ipynb)\n",
    "* [N/C cc w/ mechanisms disabled](./model_NC_cc_mechanisms.ipynb)\n",
    "* [N/C cc w/ evolution optimization](./model_NC_cc_optimize.ipynb)\n",
    "\n"
   ]
  },
  {
   "cell_type": "code",
   "execution_count": null,
   "id": "6f36631e",
   "metadata": {},
   "outputs": [],
   "source": []
  }
 ],
 "metadata": {
  "kernelspec": {
   "display_name": "Python 3 (ipykernel)",
   "language": "python",
   "name": "python3"
  },
  "language_info": {
   "codemirror_mode": {
    "name": "ipython",
    "version": 3
   },
   "file_extension": ".py",
   "mimetype": "text/x-python",
   "name": "python",
   "nbconvert_exporter": "python",
   "pygments_lexer": "ipython3",
   "version": "3.7.1"
  }
 },
 "nbformat": 4,
 "nbformat_minor": 5
}
