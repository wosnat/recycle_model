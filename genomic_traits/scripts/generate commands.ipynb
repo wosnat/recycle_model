{
 "cells": [
  {
   "cell_type": "code",
   "execution_count": 1,
   "id": "fe35b95d-4af7-4064-bb54-d78f49f786cb",
   "metadata": {},
   "outputs": [],
   "source": [
    "import numpy as np\n",
    "import pandas as pd\n",
    "import matplotlib.pyplot as plt\n",
    "import seaborn as sns\n",
    "import pprint\n",
    "sns.set(style=\"white\", context='paper')"
   ]
  },
  {
   "cell_type": "code",
   "execution_count": 2,
   "id": "99fa0383-230c-46b3-a9ef-70af418bad70",
   "metadata": {},
   "outputs": [
    {
     "data": {
      "text/plain": [
       "['10cc_experimental_traits.xlsx',\n",
       " '42003_2022_3184_MOESM4_ESM_select_genomes.xlsx',\n",
       " 'brenda_2024_1.json.tar.gz',\n",
       " 'brenda_results_extracellluar enzymes.xlsx',\n",
       " 'genetic_traits_table.tsv',\n",
       " 'genetic_traits_table_filtered.tsv',\n",
       " 'genomes_annotation_long_format.7z',\n",
       " 'kegg_pathways.csv',\n",
       " 'MASTER_table.tsv',\n",
       " 'N related  enzymes.xlsx',\n",
       " 'ROS related  enzymes.xlsx',\n",
       " 'strain_list.csv']"
      ]
     },
     "execution_count": 2,
     "metadata": {},
     "output_type": "execute_result"
    }
   ],
   "source": [
    "import os\n",
    "dpath = '../trait_gene_annotations'\n",
    "os.listdir(dpath)"
   ]
  },
  {
   "cell_type": "code",
   "execution_count": 4,
   "id": "14c37b37-df3a-4059-89d1-a88bed961fd9",
   "metadata": {},
   "outputs": [],
   "source": [
    "import os\n",
    "strains = pd.read_csv(os.path.join(dpath, 'strain_list.csv'))\n",
    "strains['filename'] = strains.Filename_Elena.str.replace('.fna', '', regex=False)"
   ]
  },
  {
   "cell_type": "code",
   "execution_count": 5,
   "id": "aa10ad97-f25a-4112-899f-90d155439c71",
   "metadata": {},
   "outputs": [
    {
     "data": {
      "text/html": [
       "<div>\n",
       "<style scoped>\n",
       "    .dataframe tbody tr th:only-of-type {\n",
       "        vertical-align: middle;\n",
       "    }\n",
       "\n",
       "    .dataframe tbody tr th {\n",
       "        vertical-align: top;\n",
       "    }\n",
       "\n",
       "    .dataframe thead th {\n",
       "        text-align: right;\n",
       "    }\n",
       "</style>\n",
       "<table border=\"1\" class=\"dataframe\">\n",
       "  <thead>\n",
       "    <tr style=\"text-align: right;\">\n",
       "      <th></th>\n",
       "      <th>Species</th>\n",
       "      <th>GTDB taxonomy</th>\n",
       "      <th>NCBI taxonID</th>\n",
       "      <th>Accession number</th>\n",
       "      <th>Filename</th>\n",
       "      <th>Filename_Elena</th>\n",
       "      <th>filename</th>\n",
       "    </tr>\n",
       "  </thead>\n",
       "  <tbody>\n",
       "    <tr>\n",
       "      <th>0</th>\n",
       "      <td>Ruegeria pomeroyi DSS-3</td>\n",
       "      <td>d__Bacteria;p__Proteobacteria;c__Alphaproteoba...</td>\n",
       "      <td>246200.0</td>\n",
       "      <td>GCA_000011965.2</td>\n",
       "      <td>GCA_000011965</td>\n",
       "      <td>246200.7.fna</td>\n",
       "      <td>246200.7</td>\n",
       "    </tr>\n",
       "    <tr>\n",
       "      <th>1</th>\n",
       "      <td>Pseudoalteromonas haloplanktis TAC125</td>\n",
       "      <td>d__Bacteria;p__Proteobacteria;c__Gammaproteoba...</td>\n",
       "      <td>326442.0</td>\n",
       "      <td>GCA_000026085.1</td>\n",
       "      <td>GCA_000026085</td>\n",
       "      <td>326442.8.fna</td>\n",
       "      <td>326442.8</td>\n",
       "    </tr>\n",
       "    <tr>\n",
       "      <th>2</th>\n",
       "      <td>Alteromonas macleodii HOT1A3</td>\n",
       "      <td>d__Bacteria;p__Proteobacteria;c__Gammaproteoba...</td>\n",
       "      <td>529120.0</td>\n",
       "      <td>2687454166</td>\n",
       "      <td>2687453488</td>\n",
       "      <td>28108.53.fna</td>\n",
       "      <td>28108.53</td>\n",
       "    </tr>\n",
       "    <tr>\n",
       "      <th>3</th>\n",
       "      <td>Marinobacter adhaerens HP15</td>\n",
       "      <td>d__Bacteria;p__Proteobacteria;c__Gammaproteoba...</td>\n",
       "      <td>225937.0</td>\n",
       "      <td>650377991</td>\n",
       "      <td>650377991</td>\n",
       "      <td>225937.3.fna</td>\n",
       "      <td>225937.3</td>\n",
       "    </tr>\n",
       "    <tr>\n",
       "      <th>4</th>\n",
       "      <td>Phaeobacter gallaeciensis DSM 26640</td>\n",
       "      <td>d__Bacteria;p__Proteobacteria;c__Alphaproteoba...</td>\n",
       "      <td>1423144.0</td>\n",
       "      <td>GCA_000511385.1</td>\n",
       "      <td>GCA_000511385</td>\n",
       "      <td>1423144.3.fna</td>\n",
       "      <td>1423144.3</td>\n",
       "    </tr>\n",
       "    <tr>\n",
       "      <th>5</th>\n",
       "      <td>Sulfitobacter pseudonitzschiae strain SMR1</td>\n",
       "      <td>d__Bacteria;p__Proteobacteria;c__Alphaproteoba...</td>\n",
       "      <td>1402135.0</td>\n",
       "      <td>CeMEB_private</td>\n",
       "      <td>Sulfitobacter_pseudonitzschiae_SMR1</td>\n",
       "      <td>1402135.12.fna</td>\n",
       "      <td>1402135.12</td>\n",
       "    </tr>\n",
       "    <tr>\n",
       "      <th>6</th>\n",
       "      <td>Roseovrius HOT5_C3</td>\n",
       "      <td>d__Bacteria;p__Pseudomonadota;c__Alphaproteoba...</td>\n",
       "      <td>NaN</td>\n",
       "      <td>NaN</td>\n",
       "      <td>C03</td>\n",
       "      <td>C03.fna</td>\n",
       "      <td>C03</td>\n",
       "    </tr>\n",
       "    <tr>\n",
       "      <th>7</th>\n",
       "      <td>Marinovum HOT5_F3</td>\n",
       "      <td>d__Bacteria;p__Pseudomonadota;c__Alphaproteoba...</td>\n",
       "      <td>NaN</td>\n",
       "      <td>NaN</td>\n",
       "      <td>F03</td>\n",
       "      <td>F03.fna</td>\n",
       "      <td>F03</td>\n",
       "    </tr>\n",
       "  </tbody>\n",
       "</table>\n",
       "</div>"
      ],
      "text/plain": [
       "                                      Species  \\\n",
       "0                     Ruegeria pomeroyi DSS-3   \n",
       "1       Pseudoalteromonas haloplanktis TAC125   \n",
       "2                Alteromonas macleodii HOT1A3   \n",
       "3                 Marinobacter adhaerens HP15   \n",
       "4         Phaeobacter gallaeciensis DSM 26640   \n",
       "5  Sulfitobacter pseudonitzschiae strain SMR1   \n",
       "6                          Roseovrius HOT5_C3   \n",
       "7                           Marinovum HOT5_F3   \n",
       "\n",
       "                                       GTDB taxonomy  NCBI taxonID  \\\n",
       "0  d__Bacteria;p__Proteobacteria;c__Alphaproteoba...      246200.0   \n",
       "1  d__Bacteria;p__Proteobacteria;c__Gammaproteoba...      326442.0   \n",
       "2  d__Bacteria;p__Proteobacteria;c__Gammaproteoba...      529120.0   \n",
       "3  d__Bacteria;p__Proteobacteria;c__Gammaproteoba...      225937.0   \n",
       "4  d__Bacteria;p__Proteobacteria;c__Alphaproteoba...     1423144.0   \n",
       "5  d__Bacteria;p__Proteobacteria;c__Alphaproteoba...     1402135.0   \n",
       "6  d__Bacteria;p__Pseudomonadota;c__Alphaproteoba...           NaN   \n",
       "7  d__Bacteria;p__Pseudomonadota;c__Alphaproteoba...           NaN   \n",
       "\n",
       "  Accession number                             Filename  Filename_Elena  \\\n",
       "0  GCA_000011965.2                        GCA_000011965    246200.7.fna   \n",
       "1  GCA_000026085.1                        GCA_000026085    326442.8.fna   \n",
       "2       2687454166                           2687453488    28108.53.fna   \n",
       "3        650377991                            650377991    225937.3.fna   \n",
       "4  GCA_000511385.1                        GCA_000511385   1423144.3.fna   \n",
       "5    CeMEB_private  Sulfitobacter_pseudonitzschiae_SMR1  1402135.12.fna   \n",
       "6              NaN                                  C03         C03.fna   \n",
       "7              NaN                                  F03         F03.fna   \n",
       "\n",
       "     filename  \n",
       "0    246200.7  \n",
       "1    326442.8  \n",
       "2    28108.53  \n",
       "3    225937.3  \n",
       "4   1423144.3  \n",
       "5  1402135.12  \n",
       "6         C03  \n",
       "7         F03  "
      ]
     },
     "execution_count": 5,
     "metadata": {},
     "output_type": "execute_result"
    }
   ],
   "source": [
    "strains"
   ]
  },
  {
   "cell_type": "code",
   "execution_count": 6,
   "id": "9a025f2d-b763-43d3-9e2b-f3cde8491819",
   "metadata": {},
   "outputs": [
    {
     "data": {
      "text/plain": [
       "[]"
      ]
     },
     "execution_count": 6,
     "metadata": {},
     "output_type": "execute_result"
    }
   ],
   "source": [
    "import glob\n",
    "glob.glob('/lustre1/home/dsher/oweissber/RECYCLE_MODEL/reannotation/FunTrait/5_gnm_annotation/prokka_out/*/*.faa')"
   ]
  },
  {
   "cell_type": "code",
   "execution_count": 8,
   "id": "20f78d0d-9b9d-4830-a07d-37566848cd05",
   "metadata": {},
   "outputs": [],
   "source": [
    "#/lustre1/home/dsher/oweissber/RECYCLE_MODEL/reannotation/FunTrait/5_gnm_annotation/prokka_out/326442.8/PROKKA_03272025.faa\n",
    "fprefix = '/lustre1/home/dsher/oweissber/RECYCLE_MODEL/reannotation/FunTrait/5_gnm_annotation/prokka_out'\n",
    "fpostfix = 'PROKKA_03272025.faa'\n"
   ]
  },
  {
   "cell_type": "code",
   "execution_count": 20,
   "id": "35ea0792-d90b-4772-a372-3fd613bc7e48",
   "metadata": {},
   "outputs": [
    {
     "name": "stdout",
     "output_type": "stream",
     "text": [
      "cp /lustre1/home/dsher/oweissber/RECYCLE_MODEL/reannotation/FunTrait/5_gnm_annotation/prokka_out/246200.7/PROKKA_03272025.faa faa_files/246200.7.faa\n",
      "cp /lustre1/home/dsher/oweissber/RECYCLE_MODEL/reannotation/FunTrait/5_gnm_annotation/prokka_out/326442.8/PROKKA_03272025.faa faa_files/326442.8.faa\n",
      "cp /lustre1/home/dsher/oweissber/RECYCLE_MODEL/reannotation/FunTrait/5_gnm_annotation/prokka_out/28108.53/PROKKA_03272025.faa faa_files/28108.53.faa\n",
      "cp /lustre1/home/dsher/oweissber/RECYCLE_MODEL/reannotation/FunTrait/5_gnm_annotation/prokka_out/225937.3/PROKKA_03272025.faa faa_files/225937.3.faa\n",
      "cp /lustre1/home/dsher/oweissber/RECYCLE_MODEL/reannotation/FunTrait/5_gnm_annotation/prokka_out/1423144.3/PROKKA_03272025.faa faa_files/1423144.3.faa\n",
      "cp /lustre1/home/dsher/oweissber/RECYCLE_MODEL/reannotation/FunTrait/5_gnm_annotation/prokka_out/1402135.12/PROKKA_03272025.faa faa_files/1402135.12.faa\n",
      "cp /lustre1/home/dsher/oweissber/RECYCLE_MODEL/reannotation/FunTrait/5_gnm_annotation/prokka_out/C03/PROKKA_03272025.faa faa_files/C03.faa\n",
      "cp /lustre1/home/dsher/oweissber/RECYCLE_MODEL/reannotation/FunTrait/5_gnm_annotation/prokka_out/F03/PROKKA_03272025.faa faa_files/F03.faa\n"
     ]
    }
   ],
   "source": [
    "print('\\n'.join(strains.apply(lambda x: f'cp {fprefix}/{x.filename}/{fpostfix} faa_files/{x.filename}.faa', axis=1).values))"
   ]
  },
  {
   "cell_type": "code",
   "execution_count": null,
   "id": "46e9fdbf-535f-44a0-a188-6704d70b197b",
   "metadata": {},
   "outputs": [],
   "source": []
  }
 ],
 "metadata": {
  "kernelspec": {
   "display_name": "Python 3 (ipykernel)",
   "language": "python",
   "name": "python3"
  },
  "language_info": {
   "codemirror_mode": {
    "name": "ipython",
    "version": 3
   },
   "file_extension": ".py",
   "mimetype": "text/x-python",
   "name": "python",
   "nbconvert_exporter": "python",
   "pygments_lexer": "ipython3",
   "version": "3.11.7"
  }
 },
 "nbformat": 4,
 "nbformat_minor": 5
}
