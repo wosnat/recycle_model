{
 "cells": [
  {
   "cell_type": "code",
   "execution_count": 1,
   "id": "4ff1d1db-9574-4009-a48a-65ea63b879b4",
   "metadata": {},
   "outputs": [],
   "source": [
    "import numpy as np\n",
    "import pandas as pd\n",
    "import matplotlib.pyplot as plt\n",
    "import seaborn as sns\n",
    "import pprint\n",
    "sns.set(style=\"white\", context='paper')"
   ]
  },
  {
   "cell_type": "code",
   "execution_count": 2,
   "id": "d5376016-6126-48a8-9e18-048386948111",
   "metadata": {},
   "outputs": [
    {
     "data": {
      "text/plain": [
       "['10cc_experimental_traits.xlsx',\n",
       " '10cc_signalP.csv',\n",
       " '42003_2022_3184_MOESM4_ESM_select_genomes.xlsx',\n",
       " 'brenda_2024_1.json.tar.gz',\n",
       " 'brenda_results_extracellluar enzymes.xlsx',\n",
       " 'genetic_traits_table.tsv',\n",
       " 'genetic_traits_table_filtered.tsv',\n",
       " 'genomes_annotation_long_format.7z',\n",
       " 'kegg_pathways.csv',\n",
       " 'MASTER_table.tsv',\n",
       " 'N related  enzymes.xlsx',\n",
       " 'ROS related  enzymes.xlsx',\n",
       " 'signalp',\n",
       " 'strain_list.csv']"
      ]
     },
     "execution_count": 2,
     "metadata": {},
     "output_type": "execute_result"
    }
   ],
   "source": [
    "import os\n",
    "dpath = 'trait_gene_annotations'\n",
    "os.listdir(dpath)"
   ]
  },
  {
   "cell_type": "code",
   "execution_count": 3,
   "id": "f95b4389-e84a-4bbd-9226-1446f989a4bd",
   "metadata": {},
   "outputs": [
    {
     "data": {
      "text/html": [
       "<svg  width=\"330\" height=\"55\"><rect x=\"0\" y=\"0\" width=\"55\" height=\"55\" style=\"fill:#882255;stroke-width:2;stroke:rgb(255,255,255)\"/><rect x=\"55\" y=\"0\" width=\"55\" height=\"55\" style=\"fill:#cc6677;stroke-width:2;stroke:rgb(255,255,255)\"/><rect x=\"110\" y=\"0\" width=\"55\" height=\"55\" style=\"fill:#332288;stroke-width:2;stroke:rgb(255,255,255)\"/><rect x=\"165\" y=\"0\" width=\"55\" height=\"55\" style=\"fill:#44aa99;stroke-width:2;stroke:rgb(255,255,255)\"/><rect x=\"220\" y=\"0\" width=\"55\" height=\"55\" style=\"fill:#88ccee;stroke-width:2;stroke:rgb(255,255,255)\"/><rect x=\"275\" y=\"0\" width=\"55\" height=\"55\" style=\"fill:#d0cfca;stroke-width:2;stroke:rgb(255,255,255)\"/></svg>"
      ],
      "text/plain": [
       "[(0.5333333333333333, 0.13333333333333333, 0.3333333333333333),\n",
       " (0.8, 0.4, 0.4666666666666667),\n",
       " (0.2, 0.13333333333333333, 0.5333333333333333),\n",
       " (0.26666666666666666, 0.6666666666666666, 0.6),\n",
       " (0.5333333333333333, 0.8, 0.9333333333333333),\n",
       " (0.8156862745098039, 0.8117647058823529, 0.792156862745098)]"
      ]
     },
     "execution_count": 3,
     "metadata": {},
     "output_type": "execute_result"
    }
   ],
   "source": [
    "gorder = [ 'Strong', 'Sustained', 'Inhibited', 'Weak', 'Neutral',   'Other']\n",
    "gpalette = ['#882255', '#CC6677', '#332288', \n",
    "             '#44AA99','#88CCEE',\n",
    "            '#D0CFCA',  ]\n",
    "\n",
    "sns.color_palette(gpalette)"
   ]
  },
  {
   "cell_type": "code",
   "execution_count": 4,
   "id": "73d0cb01-5a8e-4f64-88bb-7eb1370d8f60",
   "metadata": {},
   "outputs": [],
   "source": [
    "horder = ['Alteromonas macleodii 1A3',\n",
    " 'Pseudoalteromonas haloplanktis',\n",
    " 'Sulfitobacter pseudonitzschiae',\n",
    " 'Ruegeria pomeroyi',\n",
    " 'Marinovum 5F3',\n",
    " 'Roseovarius 5C3',\n",
    " 'Marinobacter adhaerens HP15',\n",
    " 'Phaeobacter gallaeciensis',\n",
    "]"
   ]
  },
  {
   "cell_type": "code",
   "execution_count": 5,
   "id": "1ef468b6-5881-4719-afce-cb4a22f2f118",
   "metadata": {},
   "outputs": [],
   "source": [
    "horder_tmp = [ #'HOT1A3', 'CIP', 'nitzsch', 'HOT5_F3','HOT5_C3', 'HP15', 'Pgall',]\n",
    "'Alteromonas macleodii HOT1A3',\n",
    " 'Pseudoalteromonas haloplanktis TAC125',\n",
    " 'Sulfitobacter pseudonitzschiae strain SMR1',\n",
    " 'Ruegeria pomeroyi DSS-3',\n",
    " 'Marinovum HOT5_F3',\n",
    " 'Roseovrius HOT5_C3',\n",
    " 'Marinobacter adhaerens HP15',\n",
    " 'Phaeobacter gallaeciensis DSM 26640',\n",
    "]\n",
    "horder_r = list(reversed(horder))"
   ]
  },
  {
   "cell_type": "code",
   "execution_count": 6,
   "id": "842add9e-5948-4c1d-bb8f-7eb4bb351803",
   "metadata": {},
   "outputs": [
    {
     "data": {
      "text/html": [
       "<svg  width=\"440\" height=\"55\"><rect x=\"0\" y=\"0\" width=\"55\" height=\"55\" style=\"fill:#882255;stroke-width:2;stroke:rgb(255,255,255)\"/><rect x=\"55\" y=\"0\" width=\"55\" height=\"55\" style=\"fill:#882255;stroke-width:2;stroke:rgb(255,255,255)\"/><rect x=\"110\" y=\"0\" width=\"55\" height=\"55\" style=\"fill:#cc6677;stroke-width:2;stroke:rgb(255,255,255)\"/><rect x=\"165\" y=\"0\" width=\"55\" height=\"55\" style=\"fill:#cc6677;stroke-width:2;stroke:rgb(255,255,255)\"/><rect x=\"220\" y=\"0\" width=\"55\" height=\"55\" style=\"fill:#44aa99;stroke-width:2;stroke:rgb(255,255,255)\"/><rect x=\"275\" y=\"0\" width=\"55\" height=\"55\" style=\"fill:#44aa99;stroke-width:2;stroke:rgb(255,255,255)\"/><rect x=\"330\" y=\"0\" width=\"55\" height=\"55\" style=\"fill:#332288;stroke-width:2;stroke:rgb(255,255,255)\"/><rect x=\"385\" y=\"0\" width=\"55\" height=\"55\" style=\"fill:#332288;stroke-width:2;stroke:rgb(255,255,255)\"/></svg>"
      ],
      "text/plain": [
       "[(0.5333333333333333, 0.13333333333333333, 0.3333333333333333),\n",
       " (0.5333333333333333, 0.13333333333333333, 0.3333333333333333),\n",
       " (0.8, 0.4, 0.4666666666666667),\n",
       " (0.8, 0.4, 0.4666666666666667),\n",
       " (0.26666666666666666, 0.6666666666666666, 0.6),\n",
       " (0.26666666666666666, 0.6666666666666666, 0.6),\n",
       " (0.2, 0.13333333333333333, 0.5333333333333333),\n",
       " (0.2, 0.13333333333333333, 0.5333333333333333)]"
      ]
     },
     "execution_count": 6,
     "metadata": {},
     "output_type": "execute_result"
    }
   ],
   "source": [
    "gorder_full = [\n",
    "'Strong',\n",
    " 'Strong',\n",
    " 'Sustained',\n",
    " 'Sustained',\n",
    " 'Weak',\n",
    " 'Weak',\n",
    " 'Inhibited',\n",
    " 'Inhibited',\n",
    "]\n",
    "\n",
    "gpalette_dict = dict(zip(gorder, gpalette))\n",
    "hpalette_g = [gpalette_dict[i] for i in gorder_full]\n",
    "sns.color_palette(hpalette_g)"
   ]
  },
  {
   "cell_type": "code",
   "execution_count": 7,
   "id": "bde53c65-5dcd-459b-a204-767fbbf73e91",
   "metadata": {},
   "outputs": [],
   "source": [
    "import os\n",
    "df = pd.read_csv('genome_stats.csv')\n"
   ]
  },
  {
   "cell_type": "code",
   "execution_count": 8,
   "id": "42418b27-2d9a-4a45-96ff-d35c7e10b307",
   "metadata": {},
   "outputs": [],
   "source": [
    "exo_df = pd.read_excel('experimental assays/10cc ROS and proteolytic result.xlsx', sheet_name='proteolytic', skiprows=1)\n",
    "ros_df = pd.read_excel('experimental assays/10cc ROS and proteolytic result.xlsx', sheet_name='ROS detoxification', skiprows=1)\n"
   ]
  },
  {
   "cell_type": "code",
   "execution_count": null,
   "id": "3f6d73fe-0ff0-41d9-8bc6-f1015598d5ac",
   "metadata": {},
   "outputs": [],
   "source": []
  },
  {
   "cell_type": "code",
   "execution_count": 9,
   "id": "c9990b71-3a0b-4565-a68e-d9bcb04a8d9c",
   "metadata": {},
   "outputs": [],
   "source": [
    "# add the experimental results columns to the table"
   ]
  },
  {
   "cell_type": "code",
   "execution_count": 10,
   "id": "f97aa752-8824-4005-b285-363486cca4b7",
   "metadata": {},
   "outputs": [
    {
     "name": "stderr",
     "output_type": "stream",
     "text": [
      "C:\\Users\\oweisberg\\AppData\\Local\\Temp\\ipykernel_9464\\1906443933.py:3: FutureWarning: Setting an item of incompatible dtype is deprecated and will raise in a future error of pandas. Value 'ND' has dtype incompatible with float64, please explicitly cast to a compatible dtype first.\n",
      "  exo_df.loc[exo_df['Avg2'].lt(0), 'SD'] = 'ND'\n",
      "C:\\Users\\oweisberg\\AppData\\Local\\Temp\\ipykernel_9464\\1906443933.py:4: FutureWarning: Setting an item of incompatible dtype is deprecated and will raise in a future error of pandas. Value 'ND' has dtype incompatible with float64, please explicitly cast to a compatible dtype first.\n",
      "  exo_df.loc[exo_df['Avg2'].lt(0), 'Avg'] = 'ND'\n"
     ]
    }
   ],
   "source": [
    "exo_df['Avg2'] = exo_df['Avg']\n",
    "exo_df['SD2'] = exo_df['SD']\n",
    "exo_df.loc[exo_df['Avg2'].lt(0), 'SD'] = 'ND'\n",
    "exo_df.loc[exo_df['Avg2'].lt(0), 'Avg'] = 'ND'\n"
   ]
  },
  {
   "cell_type": "code",
   "execution_count": 11,
   "id": "9bc37bc6-7538-47f4-9ea0-14154f3dc9cc",
   "metadata": {},
   "outputs": [],
   "source": [
    "pexo_df = exo_df.pivot(index='Species', columns='Assay', values=['Avg', 'SD']).reorder_levels([1,0], axis='columns')\n"
   ]
  },
  {
   "cell_type": "code",
   "execution_count": 12,
   "id": "28bb5cd5-0899-4b5e-ba8f-c1e25be66d22",
   "metadata": {},
   "outputs": [
    {
     "data": {
      "text/html": [
       "<div>\n",
       "<style scoped>\n",
       "    .dataframe tbody tr th:only-of-type {\n",
       "        vertical-align: middle;\n",
       "    }\n",
       "\n",
       "    .dataframe tbody tr th {\n",
       "        vertical-align: top;\n",
       "    }\n",
       "\n",
       "    .dataframe thead th {\n",
       "        text-align: right;\n",
       "    }\n",
       "</style>\n",
       "<table border=\"1\" class=\"dataframe\">\n",
       "  <thead>\n",
       "    <tr style=\"text-align: right;\">\n",
       "      <th></th>\n",
       "      <th>Avg Chemotrypsin-like activity (fmole product cell-1 h-1)</th>\n",
       "      <th>Avg Leucine aminopeptidase (fmole product cell-1 h-1)</th>\n",
       "      <th>Avg Tryipsin-like (fmole product cell-1 h-1)</th>\n",
       "      <th>SD Chemotrypsin-like activity (fmole product cell-1 h-1)</th>\n",
       "      <th>SD Leucine aminopeptidase (fmole product cell-1 h-1)</th>\n",
       "      <th>SD Tryipsin-like (fmole product cell-1 h-1)</th>\n",
       "    </tr>\n",
       "    <tr>\n",
       "      <th>Species</th>\n",
       "      <th></th>\n",
       "      <th></th>\n",
       "      <th></th>\n",
       "      <th></th>\n",
       "      <th></th>\n",
       "      <th></th>\n",
       "    </tr>\n",
       "  </thead>\n",
       "  <tbody>\n",
       "    <tr>\n",
       "      <th>Alteromonas macleodii 1A3</th>\n",
       "      <td>0.030077</td>\n",
       "      <td>0.352445</td>\n",
       "      <td>0.011894</td>\n",
       "      <td>0.001338</td>\n",
       "      <td>0.071234</td>\n",
       "      <td>0.000531</td>\n",
       "    </tr>\n",
       "    <tr>\n",
       "      <th>Marinobacter adhaerens HP15</th>\n",
       "      <td>ND</td>\n",
       "      <td>0.016043</td>\n",
       "      <td>ND</td>\n",
       "      <td>ND</td>\n",
       "      <td>0.000838</td>\n",
       "      <td>ND</td>\n",
       "    </tr>\n",
       "    <tr>\n",
       "      <th>Marinovum 5F3</th>\n",
       "      <td>ND</td>\n",
       "      <td>0.007109</td>\n",
       "      <td>0.030547</td>\n",
       "      <td>ND</td>\n",
       "      <td>0.001791</td>\n",
       "      <td>0.001028</td>\n",
       "    </tr>\n",
       "    <tr>\n",
       "      <th>Phaeobacter gallaeciensis</th>\n",
       "      <td>0.008587</td>\n",
       "      <td>0.117446</td>\n",
       "      <td>ND</td>\n",
       "      <td>0.00198</td>\n",
       "      <td>0.005516</td>\n",
       "      <td>ND</td>\n",
       "    </tr>\n",
       "    <tr>\n",
       "      <th>Prochlorococcus MED4</th>\n",
       "      <td>ND</td>\n",
       "      <td>0.000213</td>\n",
       "      <td>ND</td>\n",
       "      <td>ND</td>\n",
       "      <td>0.000107</td>\n",
       "      <td>ND</td>\n",
       "    </tr>\n",
       "    <tr>\n",
       "      <th>Pseudoalteromonas haloplanktis</th>\n",
       "      <td>0.005858</td>\n",
       "      <td>0.235881</td>\n",
       "      <td>0.006563</td>\n",
       "      <td>0.00273</td>\n",
       "      <td>0.019269</td>\n",
       "      <td>0.000798</td>\n",
       "    </tr>\n",
       "    <tr>\n",
       "      <th>Roseovarius 5C3</th>\n",
       "      <td>ND</td>\n",
       "      <td>0.012951</td>\n",
       "      <td>ND</td>\n",
       "      <td>ND</td>\n",
       "      <td>0.000313</td>\n",
       "      <td>ND</td>\n",
       "    </tr>\n",
       "    <tr>\n",
       "      <th>Sulfitobacter pseudonitzschiae</th>\n",
       "      <td>ND</td>\n",
       "      <td>0.030105</td>\n",
       "      <td>ND</td>\n",
       "      <td>ND</td>\n",
       "      <td>0.000511</td>\n",
       "      <td>ND</td>\n",
       "    </tr>\n",
       "  </tbody>\n",
       "</table>\n",
       "</div>"
      ],
      "text/plain": [
       "                               Avg Chemotrypsin-like activity (fmole product cell-1 h-1)  \\\n",
       "Species                                                                                    \n",
       "Alteromonas macleodii 1A3                                                0.030077          \n",
       "Marinobacter adhaerens HP15                                                    ND          \n",
       "Marinovum 5F3                                                                  ND          \n",
       "Phaeobacter gallaeciensis                                                0.008587          \n",
       "Prochlorococcus MED4                                                           ND          \n",
       "Pseudoalteromonas haloplanktis                                           0.005858          \n",
       "Roseovarius 5C3                                                                ND          \n",
       "Sulfitobacter pseudonitzschiae                                                 ND          \n",
       "\n",
       "                               Avg Leucine aminopeptidase (fmole product cell-1 h-1)  \\\n",
       "Species                                                                                \n",
       "Alteromonas macleodii 1A3                                                0.352445      \n",
       "Marinobacter adhaerens HP15                                              0.016043      \n",
       "Marinovum 5F3                                                            0.007109      \n",
       "Phaeobacter gallaeciensis                                                0.117446      \n",
       "Prochlorococcus MED4                                                     0.000213      \n",
       "Pseudoalteromonas haloplanktis                                           0.235881      \n",
       "Roseovarius 5C3                                                          0.012951      \n",
       "Sulfitobacter pseudonitzschiae                                           0.030105      \n",
       "\n",
       "                               Avg Tryipsin-like (fmole product cell-1 h-1)  \\\n",
       "Species                                                                       \n",
       "Alteromonas macleodii 1A3                                          0.011894   \n",
       "Marinobacter adhaerens HP15                                              ND   \n",
       "Marinovum 5F3                                                      0.030547   \n",
       "Phaeobacter gallaeciensis                                                ND   \n",
       "Prochlorococcus MED4                                                     ND   \n",
       "Pseudoalteromonas haloplanktis                                     0.006563   \n",
       "Roseovarius 5C3                                                          ND   \n",
       "Sulfitobacter pseudonitzschiae                                           ND   \n",
       "\n",
       "                               SD Chemotrypsin-like activity (fmole product cell-1 h-1)  \\\n",
       "Species                                                                                   \n",
       "Alteromonas macleodii 1A3                                                0.001338         \n",
       "Marinobacter adhaerens HP15                                                    ND         \n",
       "Marinovum 5F3                                                                  ND         \n",
       "Phaeobacter gallaeciensis                                                 0.00198         \n",
       "Prochlorococcus MED4                                                           ND         \n",
       "Pseudoalteromonas haloplanktis                                            0.00273         \n",
       "Roseovarius 5C3                                                                ND         \n",
       "Sulfitobacter pseudonitzschiae                                                 ND         \n",
       "\n",
       "                               SD Leucine aminopeptidase (fmole product cell-1 h-1)  \\\n",
       "Species                                                                               \n",
       "Alteromonas macleodii 1A3                                                0.071234     \n",
       "Marinobacter adhaerens HP15                                              0.000838     \n",
       "Marinovum 5F3                                                            0.001791     \n",
       "Phaeobacter gallaeciensis                                                0.005516     \n",
       "Prochlorococcus MED4                                                     0.000107     \n",
       "Pseudoalteromonas haloplanktis                                           0.019269     \n",
       "Roseovarius 5C3                                                          0.000313     \n",
       "Sulfitobacter pseudonitzschiae                                           0.000511     \n",
       "\n",
       "                               SD Tryipsin-like (fmole product cell-1 h-1)  \n",
       "Species                                                                     \n",
       "Alteromonas macleodii 1A3                                         0.000531  \n",
       "Marinobacter adhaerens HP15                                             ND  \n",
       "Marinovum 5F3                                                     0.001028  \n",
       "Phaeobacter gallaeciensis                                               ND  \n",
       "Prochlorococcus MED4                                                    ND  \n",
       "Pseudoalteromonas haloplanktis                                    0.000798  \n",
       "Roseovarius 5C3                                                         ND  \n",
       "Sulfitobacter pseudonitzschiae                                          ND  "
      ]
     },
     "execution_count": 12,
     "metadata": {},
     "output_type": "execute_result"
    }
   ],
   "source": [
    "pexo_df.columns = [' '.join(reversed(col)).strip() for col in pexo_df.columns.values]\n",
    "pexo_df"
   ]
  },
  {
   "cell_type": "code",
   "execution_count": 13,
   "id": "7c364c08-f5de-4f93-8e65-9904d09f6658",
   "metadata": {},
   "outputs": [
    {
     "data": {
      "text/plain": [
       "Index(['Avg Chemotrypsin-like activity (fmole product cell-1 h-1)',\n",
       "       'Avg Leucine aminopeptidase (fmole product cell-1 h-1)',\n",
       "       'Avg Tryipsin-like (fmole product cell-1 h-1)',\n",
       "       'SD Chemotrypsin-like activity (fmole product cell-1 h-1)',\n",
       "       'SD Leucine aminopeptidase (fmole product cell-1 h-1)',\n",
       "       'SD Tryipsin-like (fmole product cell-1 h-1)'],\n",
       "      dtype='object')"
      ]
     },
     "execution_count": 13,
     "metadata": {},
     "output_type": "execute_result"
    }
   ],
   "source": [
    "pexo_df.columns"
   ]
  },
  {
   "cell_type": "code",
   "execution_count": 14,
   "id": "f749aa61-10a8-4615-9ff1-a335a8dfe34f",
   "metadata": {},
   "outputs": [],
   "source": [
    "pexocols = [\n",
    "       'Avg Leucine aminopeptidase (fmole product cell-1 h-1)',\n",
    "       'SD Leucine aminopeptidase (fmole product cell-1 h-1)',\n",
    "       'Avg Tryipsin-like (fmole product cell-1 h-1)',\n",
    "       'SD Tryipsin-like (fmole product cell-1 h-1)',\n",
    "    'Avg Chemotrypsin-like activity (fmole product cell-1 h-1)',\n",
    "       'SD Chemotrypsin-like activity (fmole product cell-1 h-1)',\n",
    "]\n",
    "pexo_df = pexo_df.reindex(columns=pexocols)"
   ]
  },
  {
   "cell_type": "markdown",
   "id": "38c10aff-23c7-4a9a-8e46-21c83874adf1",
   "metadata": {},
   "source": [
    "pexo_df = pexo_df.reindex(columns=[\n",
    "    'Leucine aminopeptidase (fmole product cell-1 h-1)', \n",
    "    'Tryipsin-like (fmole product cell-1 h-1)',\n",
    "    'Chemotrypsin-like activity (fmole product cell-1 h-1)' ], level='Assay')\n",
    "\n",
    "                    "
   ]
  },
  {
   "cell_type": "code",
   "execution_count": 15,
   "id": "25f3ecc8-bd76-4c7d-9ca0-2207fdf4b41b",
   "metadata": {},
   "outputs": [
    {
     "data": {
      "text/html": [
       "<div>\n",
       "<style scoped>\n",
       "    .dataframe tbody tr th:only-of-type {\n",
       "        vertical-align: middle;\n",
       "    }\n",
       "\n",
       "    .dataframe tbody tr th {\n",
       "        vertical-align: top;\n",
       "    }\n",
       "\n",
       "    .dataframe thead th {\n",
       "        text-align: right;\n",
       "    }\n",
       "</style>\n",
       "<table border=\"1\" class=\"dataframe\">\n",
       "  <thead>\n",
       "    <tr style=\"text-align: right;\">\n",
       "      <th></th>\n",
       "      <th>Avg H2O2 degradation rate (fmoles cell-1 h-1)</th>\n",
       "      <th>SD H2O2 degradation rate (fmoles cell-1 h-1)</th>\n",
       "    </tr>\n",
       "    <tr>\n",
       "      <th>Species</th>\n",
       "      <th></th>\n",
       "      <th></th>\n",
       "    </tr>\n",
       "  </thead>\n",
       "  <tbody>\n",
       "    <tr>\n",
       "      <th>Alteromonas macleodii 1A3</th>\n",
       "      <td>0.074066</td>\n",
       "      <td>0.015735</td>\n",
       "    </tr>\n",
       "    <tr>\n",
       "      <th>Marinobacter adhaerens HP15</th>\n",
       "      <td>0.009453</td>\n",
       "      <td>0.000006</td>\n",
       "    </tr>\n",
       "    <tr>\n",
       "      <th>Marinovum 5F3</th>\n",
       "      <td>0.026033</td>\n",
       "      <td>0.003789</td>\n",
       "    </tr>\n",
       "    <tr>\n",
       "      <th>Phaeobacter gallaeciensis</th>\n",
       "      <td>0.160295</td>\n",
       "      <td>0.017415</td>\n",
       "    </tr>\n",
       "    <tr>\n",
       "      <th>Pseudoalteromonas haloplanktis</th>\n",
       "      <td>0.059935</td>\n",
       "      <td>0.014557</td>\n",
       "    </tr>\n",
       "    <tr>\n",
       "      <th>Roseovarius 5C3</th>\n",
       "      <td>0.005901</td>\n",
       "      <td>0.003349</td>\n",
       "    </tr>\n",
       "    <tr>\n",
       "      <th>Ruegeria pomeroyi</th>\n",
       "      <td>0.007195</td>\n",
       "      <td>0.001085</td>\n",
       "    </tr>\n",
       "    <tr>\n",
       "      <th>Sulfitobacter pseudonitzschiae</th>\n",
       "      <td>0.009756</td>\n",
       "      <td>0.001152</td>\n",
       "    </tr>\n",
       "  </tbody>\n",
       "</table>\n",
       "</div>"
      ],
      "text/plain": [
       "                                Avg H2O2 degradation rate (fmoles cell-1 h-1)  \\\n",
       "Species                                                                         \n",
       "Alteromonas macleodii 1A3                                            0.074066   \n",
       "Marinobacter adhaerens HP15                                          0.009453   \n",
       "Marinovum 5F3                                                        0.026033   \n",
       "Phaeobacter gallaeciensis                                            0.160295   \n",
       "Pseudoalteromonas haloplanktis                                       0.059935   \n",
       "Roseovarius 5C3                                                      0.005901   \n",
       "Ruegeria pomeroyi                                                    0.007195   \n",
       "Sulfitobacter pseudonitzschiae                                       0.009756   \n",
       "\n",
       "                                SD H2O2 degradation rate (fmoles cell-1 h-1)  \n",
       "Species                                                                       \n",
       "Alteromonas macleodii 1A3                                           0.015735  \n",
       "Marinobacter adhaerens HP15                                         0.000006  \n",
       "Marinovum 5F3                                                       0.003789  \n",
       "Phaeobacter gallaeciensis                                           0.017415  \n",
       "Pseudoalteromonas haloplanktis                                      0.014557  \n",
       "Roseovarius 5C3                                                     0.003349  \n",
       "Ruegeria pomeroyi                                                   0.001085  \n",
       "Sulfitobacter pseudonitzschiae                                      0.001152  "
      ]
     },
     "execution_count": 15,
     "metadata": {},
     "output_type": "execute_result"
    }
   ],
   "source": [
    "\n",
    "pros_df = ros_df.pivot(index='Species', columns='Assay', values=['Avg', 'SD']).reorder_levels([1,0], axis='columns')\n",
    "pros_df.columns = [' '.join(reversed(col)).strip() for col in pros_df.columns.values]\n",
    "pros_df\n"
   ]
  },
  {
   "cell_type": "code",
   "execution_count": 16,
   "id": "e356578a-1cc1-4763-a368-732ecaf0fe81",
   "metadata": {},
   "outputs": [
    {
     "data": {
      "text/html": [
       "<div>\n",
       "<style scoped>\n",
       "    .dataframe tbody tr th:only-of-type {\n",
       "        vertical-align: middle;\n",
       "    }\n",
       "\n",
       "    .dataframe tbody tr th {\n",
       "        vertical-align: top;\n",
       "    }\n",
       "\n",
       "    .dataframe thead th {\n",
       "        text-align: right;\n",
       "    }\n",
       "</style>\n",
       "<table border=\"1\" class=\"dataframe\">\n",
       "  <thead>\n",
       "    <tr style=\"text-align: right;\">\n",
       "      <th></th>\n",
       "      <th>Coculture Outcome</th>\n",
       "      <th>Species</th>\n",
       "      <th>GTDB taxonomy</th>\n",
       "      <th>NCBI taxonID</th>\n",
       "      <th>Accession number</th>\n",
       "      <th>Number of genes</th>\n",
       "      <th>genes with EC/KO</th>\n",
       "      <th>Predicted extracellular enzymes</th>\n",
       "      <th>Predicted extracellular proteolytic enzymes</th>\n",
       "      <th>Total proteolytic enzymes</th>\n",
       "      <th>...</th>\n",
       "      <th>Isolation notes</th>\n",
       "      <th>Ref</th>\n",
       "      <th>Avg Leucine aminopeptidase (fmole product cell-1 h-1)</th>\n",
       "      <th>SD Leucine aminopeptidase (fmole product cell-1 h-1)</th>\n",
       "      <th>Avg Tryipsin-like (fmole product cell-1 h-1)</th>\n",
       "      <th>SD Tryipsin-like (fmole product cell-1 h-1)</th>\n",
       "      <th>Avg Chemotrypsin-like activity (fmole product cell-1 h-1)</th>\n",
       "      <th>SD Chemotrypsin-like activity (fmole product cell-1 h-1)</th>\n",
       "      <th>Avg H2O2 degradation rate (fmoles cell-1 h-1)</th>\n",
       "      <th>SD H2O2 degradation rate (fmoles cell-1 h-1)</th>\n",
       "    </tr>\n",
       "  </thead>\n",
       "  <tbody>\n",
       "    <tr>\n",
       "      <th>0</th>\n",
       "      <td>Strong</td>\n",
       "      <td>Alteromonas macleodii 1A3</td>\n",
       "      <td>d__Bacteria;p__Proteobacteria;c__Gammaproteoba...</td>\n",
       "      <td>529120.0</td>\n",
       "      <td>2687454166</td>\n",
       "      <td>4366</td>\n",
       "      <td>2664</td>\n",
       "      <td>828</td>\n",
       "      <td>10</td>\n",
       "      <td>30</td>\n",
       "      <td>...</td>\n",
       "      <td>seawater</td>\n",
       "      <td>48</td>\n",
       "      <td>0.352445</td>\n",
       "      <td>0.071234</td>\n",
       "      <td>0.011894</td>\n",
       "      <td>0.000531</td>\n",
       "      <td>0.030077</td>\n",
       "      <td>0.001338</td>\n",
       "      <td>0.074066</td>\n",
       "      <td>0.015735</td>\n",
       "    </tr>\n",
       "    <tr>\n",
       "      <th>1</th>\n",
       "      <td>Strong</td>\n",
       "      <td>Pseudoalteromonas haloplanktis</td>\n",
       "      <td>d__Bacteria;p__Proteobacteria;c__Gammaproteoba...</td>\n",
       "      <td>326442.0</td>\n",
       "      <td>GCA_000026085.1</td>\n",
       "      <td>3647</td>\n",
       "      <td>2395</td>\n",
       "      <td>684</td>\n",
       "      <td>18</td>\n",
       "      <td>35</td>\n",
       "      <td>...</td>\n",
       "      <td>seawater, Adelia Land, https://img.jgi.doe.gov...</td>\n",
       "      <td>49</td>\n",
       "      <td>0.235881</td>\n",
       "      <td>0.019269</td>\n",
       "      <td>0.006563</td>\n",
       "      <td>0.000798</td>\n",
       "      <td>0.005858</td>\n",
       "      <td>0.00273</td>\n",
       "      <td>0.059935</td>\n",
       "      <td>0.014557</td>\n",
       "    </tr>\n",
       "    <tr>\n",
       "      <th>2</th>\n",
       "      <td>Sustained</td>\n",
       "      <td>Sulfitobacter pseudonitzschiae</td>\n",
       "      <td>d__Bacteria;p__Proteobacteria;c__Alphaproteoba...</td>\n",
       "      <td>1402135.0</td>\n",
       "      <td>CeMEB_private</td>\n",
       "      <td>5190</td>\n",
       "      <td>3265</td>\n",
       "      <td>595</td>\n",
       "      <td>6</td>\n",
       "      <td>24</td>\n",
       "      <td>...</td>\n",
       "      <td>baltic sea, Smarinoi associated</td>\n",
       "      <td>10</td>\n",
       "      <td>0.030105</td>\n",
       "      <td>0.000511</td>\n",
       "      <td>ND</td>\n",
       "      <td>ND</td>\n",
       "      <td>ND</td>\n",
       "      <td>ND</td>\n",
       "      <td>0.009756</td>\n",
       "      <td>0.001152</td>\n",
       "    </tr>\n",
       "    <tr>\n",
       "      <th>3</th>\n",
       "      <td>Sustained</td>\n",
       "      <td>Ruegeria pomeroyi</td>\n",
       "      <td>d__Bacteria;p__Proteobacteria;c__Alphaproteoba...</td>\n",
       "      <td>246200.0</td>\n",
       "      <td>GCA_000011965.2</td>\n",
       "      <td>4575</td>\n",
       "      <td>2899</td>\n",
       "      <td>583</td>\n",
       "      <td>8</td>\n",
       "      <td>24</td>\n",
       "      <td>...</td>\n",
       "      <td>estuary seawater Georgia, https://www.ncbi.nlm...</td>\n",
       "      <td>6</td>\n",
       "      <td>NaN</td>\n",
       "      <td>NaN</td>\n",
       "      <td>NaN</td>\n",
       "      <td>NaN</td>\n",
       "      <td>NaN</td>\n",
       "      <td>NaN</td>\n",
       "      <td>0.007195</td>\n",
       "      <td>0.001085</td>\n",
       "    </tr>\n",
       "    <tr>\n",
       "      <th>4</th>\n",
       "      <td>Weak</td>\n",
       "      <td>Marinovum 5F3</td>\n",
       "      <td>d__Bacteria;p__Pseudomonadota;c__Alphaproteoba...</td>\n",
       "      <td>NaN</td>\n",
       "      <td>GCF_900109145.1</td>\n",
       "      <td>5810</td>\n",
       "      <td>3447</td>\n",
       "      <td>670</td>\n",
       "      <td>7</td>\n",
       "      <td>24</td>\n",
       "      <td>...</td>\n",
       "      <td>NaN</td>\n",
       "      <td>45</td>\n",
       "      <td>0.007109</td>\n",
       "      <td>0.001791</td>\n",
       "      <td>0.030547</td>\n",
       "      <td>0.001028</td>\n",
       "      <td>ND</td>\n",
       "      <td>ND</td>\n",
       "      <td>0.026033</td>\n",
       "      <td>0.003789</td>\n",
       "    </tr>\n",
       "    <tr>\n",
       "      <th>5</th>\n",
       "      <td>Weak</td>\n",
       "      <td>Roseovarius 5C3</td>\n",
       "      <td>d__Bacteria;p__Pseudomonadota;c__Alphaproteoba...</td>\n",
       "      <td>NaN</td>\n",
       "      <td>GCF_030733425.1</td>\n",
       "      <td>4423</td>\n",
       "      <td>2636</td>\n",
       "      <td>588</td>\n",
       "      <td>7</td>\n",
       "      <td>22</td>\n",
       "      <td>...</td>\n",
       "      <td>NaN</td>\n",
       "      <td>45</td>\n",
       "      <td>0.012951</td>\n",
       "      <td>0.000313</td>\n",
       "      <td>ND</td>\n",
       "      <td>ND</td>\n",
       "      <td>ND</td>\n",
       "      <td>ND</td>\n",
       "      <td>0.005901</td>\n",
       "      <td>0.003349</td>\n",
       "    </tr>\n",
       "    <tr>\n",
       "      <th>6</th>\n",
       "      <td>Inhibited</td>\n",
       "      <td>Marinobacter adhaerens HP15</td>\n",
       "      <td>d__Bacteria;p__Proteobacteria;c__Gammaproteoba...</td>\n",
       "      <td>225937.0</td>\n",
       "      <td>650377991</td>\n",
       "      <td>4541</td>\n",
       "      <td>2850</td>\n",
       "      <td>669</td>\n",
       "      <td>7</td>\n",
       "      <td>25</td>\n",
       "      <td>...</td>\n",
       "      <td>plankton net (0.1 mm pore size) German Wadden Sea</td>\n",
       "      <td>47</td>\n",
       "      <td>0.016043</td>\n",
       "      <td>0.000838</td>\n",
       "      <td>ND</td>\n",
       "      <td>ND</td>\n",
       "      <td>ND</td>\n",
       "      <td>ND</td>\n",
       "      <td>0.009453</td>\n",
       "      <td>0.000006</td>\n",
       "    </tr>\n",
       "    <tr>\n",
       "      <th>7</th>\n",
       "      <td>Inhibited</td>\n",
       "      <td>Phaeobacter gallaeciensis</td>\n",
       "      <td>d__Bacteria;p__Proteobacteria;c__Alphaproteoba...</td>\n",
       "      <td>1423144.0</td>\n",
       "      <td>GCA_000511385.1</td>\n",
       "      <td>4566</td>\n",
       "      <td>2767</td>\n",
       "      <td>590</td>\n",
       "      <td>6</td>\n",
       "      <td>26</td>\n",
       "      <td>...</td>\n",
       "      <td>seawater scallop, https://www.ncbi.nlm.nih.gov...</td>\n",
       "      <td>36</td>\n",
       "      <td>0.117446</td>\n",
       "      <td>0.005516</td>\n",
       "      <td>ND</td>\n",
       "      <td>ND</td>\n",
       "      <td>0.008587</td>\n",
       "      <td>0.00198</td>\n",
       "      <td>0.160295</td>\n",
       "      <td>0.017415</td>\n",
       "    </tr>\n",
       "  </tbody>\n",
       "</table>\n",
       "<p>8 rows × 36 columns</p>\n",
       "</div>"
      ],
      "text/plain": [
       "  Coculture Outcome                         Species  \\\n",
       "0            Strong       Alteromonas macleodii 1A3   \n",
       "1            Strong  Pseudoalteromonas haloplanktis   \n",
       "2         Sustained  Sulfitobacter pseudonitzschiae   \n",
       "3         Sustained               Ruegeria pomeroyi   \n",
       "4              Weak                   Marinovum 5F3   \n",
       "5              Weak                 Roseovarius 5C3   \n",
       "6         Inhibited     Marinobacter adhaerens HP15   \n",
       "7         Inhibited       Phaeobacter gallaeciensis   \n",
       "\n",
       "                                       GTDB taxonomy  NCBI taxonID  \\\n",
       "0  d__Bacteria;p__Proteobacteria;c__Gammaproteoba...      529120.0   \n",
       "1  d__Bacteria;p__Proteobacteria;c__Gammaproteoba...      326442.0   \n",
       "2  d__Bacteria;p__Proteobacteria;c__Alphaproteoba...     1402135.0   \n",
       "3  d__Bacteria;p__Proteobacteria;c__Alphaproteoba...      246200.0   \n",
       "4  d__Bacteria;p__Pseudomonadota;c__Alphaproteoba...           NaN   \n",
       "5  d__Bacteria;p__Pseudomonadota;c__Alphaproteoba...           NaN   \n",
       "6  d__Bacteria;p__Proteobacteria;c__Gammaproteoba...      225937.0   \n",
       "7  d__Bacteria;p__Proteobacteria;c__Alphaproteoba...     1423144.0   \n",
       "\n",
       "  Accession number  Number of genes  genes with EC/KO  \\\n",
       "0       2687454166             4366              2664   \n",
       "1  GCA_000026085.1             3647              2395   \n",
       "2    CeMEB_private             5190              3265   \n",
       "3  GCA_000011965.2             4575              2899   \n",
       "4  GCF_900109145.1             5810              3447   \n",
       "5  GCF_030733425.1             4423              2636   \n",
       "6        650377991             4541              2850   \n",
       "7  GCA_000511385.1             4566              2767   \n",
       "\n",
       "   Predicted extracellular enzymes  \\\n",
       "0                              828   \n",
       "1                              684   \n",
       "2                              595   \n",
       "3                              583   \n",
       "4                              670   \n",
       "5                              588   \n",
       "6                              669   \n",
       "7                              590   \n",
       "\n",
       "   Predicted extracellular proteolytic enzymes  Total proteolytic enzymes  \\\n",
       "0                                           10                         30   \n",
       "1                                           18                         35   \n",
       "2                                            6                         24   \n",
       "3                                            8                         24   \n",
       "4                                            7                         24   \n",
       "5                                            7                         22   \n",
       "6                                            7                         25   \n",
       "7                                            6                         26   \n",
       "\n",
       "   ...                                    Isolation notes  Ref  \\\n",
       "0  ...                                           seawater   48   \n",
       "1  ...  seawater, Adelia Land, https://img.jgi.doe.gov...   49   \n",
       "2  ...                    baltic sea, Smarinoi associated   10   \n",
       "3  ...  estuary seawater Georgia, https://www.ncbi.nlm...    6   \n",
       "4  ...                                                NaN   45   \n",
       "5  ...                                                NaN   45   \n",
       "6  ...  plankton net (0.1 mm pore size) German Wadden Sea   47   \n",
       "7  ...  seawater scallop, https://www.ncbi.nlm.nih.gov...   36   \n",
       "\n",
       "   Avg Leucine aminopeptidase (fmole product cell-1 h-1)  \\\n",
       "0                                           0.352445       \n",
       "1                                           0.235881       \n",
       "2                                           0.030105       \n",
       "3                                                NaN       \n",
       "4                                           0.007109       \n",
       "5                                           0.012951       \n",
       "6                                           0.016043       \n",
       "7                                           0.117446       \n",
       "\n",
       "  SD Leucine aminopeptidase (fmole product cell-1 h-1)  \\\n",
       "0                                           0.071234     \n",
       "1                                           0.019269     \n",
       "2                                           0.000511     \n",
       "3                                                NaN     \n",
       "4                                           0.001791     \n",
       "5                                           0.000313     \n",
       "6                                           0.000838     \n",
       "7                                           0.005516     \n",
       "\n",
       "  Avg Tryipsin-like (fmole product cell-1 h-1)  \\\n",
       "0                                     0.011894   \n",
       "1                                     0.006563   \n",
       "2                                           ND   \n",
       "3                                          NaN   \n",
       "4                                     0.030547   \n",
       "5                                           ND   \n",
       "6                                           ND   \n",
       "7                                           ND   \n",
       "\n",
       "   SD Tryipsin-like (fmole product cell-1 h-1)  \\\n",
       "0                                     0.000531   \n",
       "1                                     0.000798   \n",
       "2                                           ND   \n",
       "3                                          NaN   \n",
       "4                                     0.001028   \n",
       "5                                           ND   \n",
       "6                                           ND   \n",
       "7                                           ND   \n",
       "\n",
       "  Avg Chemotrypsin-like activity (fmole product cell-1 h-1)  \\\n",
       "0                                           0.030077          \n",
       "1                                           0.005858          \n",
       "2                                                 ND          \n",
       "3                                                NaN          \n",
       "4                                                 ND          \n",
       "5                                                 ND          \n",
       "6                                                 ND          \n",
       "7                                           0.008587          \n",
       "\n",
       "  SD Chemotrypsin-like activity (fmole product cell-1 h-1)  \\\n",
       "0                                           0.001338         \n",
       "1                                            0.00273         \n",
       "2                                                 ND         \n",
       "3                                                NaN         \n",
       "4                                                 ND         \n",
       "5                                                 ND         \n",
       "6                                                 ND         \n",
       "7                                            0.00198         \n",
       "\n",
       "  Avg H2O2 degradation rate (fmoles cell-1 h-1)  \\\n",
       "0                                      0.074066   \n",
       "1                                      0.059935   \n",
       "2                                      0.009756   \n",
       "3                                      0.007195   \n",
       "4                                      0.026033   \n",
       "5                                      0.005901   \n",
       "6                                      0.009453   \n",
       "7                                      0.160295   \n",
       "\n",
       "  SD H2O2 degradation rate (fmoles cell-1 h-1)  \n",
       "0                                     0.015735  \n",
       "1                                     0.014557  \n",
       "2                                     0.001152  \n",
       "3                                     0.001085  \n",
       "4                                     0.003789  \n",
       "5                                     0.003349  \n",
       "6                                     0.000006  \n",
       "7                                     0.017415  \n",
       "\n",
       "[8 rows x 36 columns]"
      ]
     },
     "execution_count": 16,
     "metadata": {},
     "output_type": "execute_result"
    }
   ],
   "source": [
    "df = pd.merge(df, pexo_df, left_on='Species', right_index=True, how='left')\n",
    "df = pd.merge(df, pros_df, left_on='Species', right_index=True, how='left')\n",
    "df"
   ]
  },
  {
   "cell_type": "raw",
   "id": "af650790-c2bd-43f0-bc18-78dd39fc6051",
   "metadata": {},
   "source": [
    "# rerun to recreate the table\n",
    "df.to_excel('10cc table1.xlsx')\n"
   ]
  },
  {
   "cell_type": "code",
   "execution_count": 17,
   "id": "6001a60e-70e5-4e81-85ab-aa64ad936845",
   "metadata": {},
   "outputs": [
    {
     "data": {
      "text/plain": [
       "Index(['Coculture Outcome', 'Species', 'GTDB taxonomy', 'NCBI taxonID',\n",
       "       'Accession number', 'Number of genes', 'genes with EC/KO',\n",
       "       'Predicted extracellular enzymes',\n",
       "       'Predicted extracellular proteolytic enzymes',\n",
       "       'Total proteolytic enzymes', 'Predicted extracellular ROS enzymes',\n",
       "       'Total ROS enzymes', 'Inoculum [cell ml-1]',\n",
       "       'MPN1 on day 120 [cell ml-1]', 'Repository', 'Length (Mbp)', 'GC %',\n",
       "       'Completeness %', 'Contamination %', 'Strain heterogeneity %',\n",
       "       'Scaffolds', 'Contigs', '#genes', 'Gene annotated %', 'Reason Selected',\n",
       "       'Isolation source', 'Isolation notes', 'Ref',\n",
       "       'Avg Leucine aminopeptidase (fmole product cell-1 h-1)',\n",
       "       'SD Leucine aminopeptidase (fmole product cell-1 h-1)',\n",
       "       'Avg Tryipsin-like (fmole product cell-1 h-1)',\n",
       "       'SD Tryipsin-like (fmole product cell-1 h-1)',\n",
       "       'Avg Chemotrypsin-like activity (fmole product cell-1 h-1)',\n",
       "       'SD Chemotrypsin-like activity (fmole product cell-1 h-1)',\n",
       "       'Avg H2O2 degradation rate (fmoles cell-1 h-1)',\n",
       "       'SD H2O2 degradation rate (fmoles cell-1 h-1)'],\n",
       "      dtype='object')"
      ]
     },
     "execution_count": 17,
     "metadata": {},
     "output_type": "execute_result"
    }
   ],
   "source": [
    "df.columns"
   ]
  },
  {
   "cell_type": "code",
   "execution_count": 26,
   "id": "3b48c0b0-a763-4f2b-98d7-5c539d3afe5b",
   "metadata": {},
   "outputs": [],
   "source": [
    "cols = [\n",
    "    'species_id',\n",
    "#           'Predicted extracellular enzymes',\n",
    "       'Predicted extracellular proteolytic enzymes',\n",
    "    #   'Total proteolytic enzymes', \n",
    "    'Predicted extracellular ROS enzymes',\n",
    "     #  'Total ROS enzymes', \n",
    "       'Avg Leucine aminopeptidase (fmole product cell-1 h-1)',\n",
    "       'Avg Tryipsin-like (fmole product cell-1 h-1)',\n",
    "       'Avg Chemotrypsin-like activity (fmole product cell-1 h-1)',\n",
    "       'Avg H2O2 degradation rate (fmoles cell-1 h-1)',\n",
    "\n",
    "]"
   ]
  },
  {
   "cell_type": "code",
   "execution_count": 27,
   "id": "19e01b95-effc-4cfb-bdc6-641491f84d78",
   "metadata": {},
   "outputs": [],
   "source": [
    "dfshow = df[[\n",
    "    'Coculture Outcome',\n",
    "     'Species', \n",
    "       'Predicted extracellular enzymes',\n",
    "       'Predicted extracellular proteolytic enzymes',\n",
    "       'Total proteolytic enzymes', 'Predicted extracellular ROS enzymes',\n",
    "       'Total ROS enzymes', \n",
    "       'Avg Leucine aminopeptidase (fmole product cell-1 h-1)',\n",
    "       'Avg Tryipsin-like (fmole product cell-1 h-1)',\n",
    "       'Avg Chemotrypsin-like activity (fmole product cell-1 h-1)',\n",
    "       'Avg H2O2 degradation rate (fmoles cell-1 h-1)',\n",
    "]].copy()"
   ]
  },
  {
   "cell_type": "code",
   "execution_count": 28,
   "id": "a1618915-f2e7-4fa8-9e2c-a374efbfc2e2",
   "metadata": {},
   "outputs": [],
   "source": [
    "dfshow = dfshow.reset_index(names='species_id')\n",
    "dfshow['species_id'] = 7 - dfshow['species_id']"
   ]
  },
  {
   "cell_type": "code",
   "execution_count": 29,
   "id": "836dbe66-5a78-458a-a5fb-accbefd81364",
   "metadata": {},
   "outputs": [],
   "source": [
    "for c in cols:\n",
    "    dfshow.loc[dfshow[c].isin(['ND']), c] = 0\n",
    "    dfshow.loc[dfshow[c].isna(), c] = 0\n",
    "    dfshow[c] = pd.to_numeric(dfshow[c])\n",
    "    "
   ]
  },
  {
   "cell_type": "code",
   "execution_count": 30,
   "id": "0f1f7fb1-433d-4e97-b977-5919e908c496",
   "metadata": {},
   "outputs": [
    {
     "data": {
      "text/plain": [
       "{'Strong': '#882255',\n",
       " 'Sustained': '#CC6677',\n",
       " 'Inhibited': '#332288',\n",
       " 'Weak': '#44AA99',\n",
       " 'Neutral': '#88CCEE',\n",
       " 'Other': '#D0CFCA'}"
      ]
     },
     "execution_count": 30,
     "metadata": {},
     "output_type": "execute_result"
    }
   ],
   "source": [
    "gpalette_dict"
   ]
  },
  {
   "cell_type": "code",
   "execution_count": 32,
   "id": "e02562ed-a953-4471-aa8f-ecce418efd50",
   "metadata": {},
   "outputs": [
    {
     "data": {
      "text/html": [
       "<div>\n",
       "<style scoped>\n",
       "    .dataframe tbody tr th:only-of-type {\n",
       "        vertical-align: middle;\n",
       "    }\n",
       "\n",
       "    .dataframe tbody tr th {\n",
       "        vertical-align: top;\n",
       "    }\n",
       "\n",
       "    .dataframe thead th {\n",
       "        text-align: right;\n",
       "    }\n",
       "</style>\n",
       "<table border=\"1\" class=\"dataframe\">\n",
       "  <thead>\n",
       "    <tr style=\"text-align: right;\">\n",
       "      <th></th>\n",
       "      <th>species_id</th>\n",
       "      <th>Coculture Outcome</th>\n",
       "      <th>Species</th>\n",
       "      <th>Predicted extracellular enzymes</th>\n",
       "      <th>Predicted extracellular proteolytic enzymes</th>\n",
       "      <th>Total proteolytic enzymes</th>\n",
       "      <th>Predicted extracellular ROS enzymes</th>\n",
       "      <th>Total ROS enzymes</th>\n",
       "      <th>Avg Leucine aminopeptidase (fmole product cell-1 h-1)</th>\n",
       "      <th>Avg Tryipsin-like (fmole product cell-1 h-1)</th>\n",
       "      <th>Avg Chemotrypsin-like activity (fmole product cell-1 h-1)</th>\n",
       "      <th>Avg H2O2 degradation rate (fmoles cell-1 h-1)</th>\n",
       "    </tr>\n",
       "  </thead>\n",
       "  <tbody>\n",
       "    <tr>\n",
       "      <th>0</th>\n",
       "      <td>7</td>\n",
       "      <td>Strong</td>\n",
       "      <td>Alteromonas macleodii 1A3</td>\n",
       "      <td>828</td>\n",
       "      <td>10</td>\n",
       "      <td>30</td>\n",
       "      <td>5</td>\n",
       "      <td>16</td>\n",
       "      <td>0.352445</td>\n",
       "      <td>0.011894</td>\n",
       "      <td>0.030077</td>\n",
       "      <td>0.074066</td>\n",
       "    </tr>\n",
       "    <tr>\n",
       "      <th>1</th>\n",
       "      <td>6</td>\n",
       "      <td>Strong</td>\n",
       "      <td>Pseudoalteromonas haloplanktis</td>\n",
       "      <td>684</td>\n",
       "      <td>18</td>\n",
       "      <td>35</td>\n",
       "      <td>4</td>\n",
       "      <td>16</td>\n",
       "      <td>0.235881</td>\n",
       "      <td>0.006563</td>\n",
       "      <td>0.005858</td>\n",
       "      <td>0.059935</td>\n",
       "    </tr>\n",
       "    <tr>\n",
       "      <th>2</th>\n",
       "      <td>5</td>\n",
       "      <td>Sustained</td>\n",
       "      <td>Sulfitobacter pseudonitzschiae</td>\n",
       "      <td>595</td>\n",
       "      <td>6</td>\n",
       "      <td>24</td>\n",
       "      <td>3</td>\n",
       "      <td>10</td>\n",
       "      <td>0.030105</td>\n",
       "      <td>0.000000</td>\n",
       "      <td>0.000000</td>\n",
       "      <td>0.009756</td>\n",
       "    </tr>\n",
       "    <tr>\n",
       "      <th>3</th>\n",
       "      <td>4</td>\n",
       "      <td>Sustained</td>\n",
       "      <td>Ruegeria pomeroyi</td>\n",
       "      <td>583</td>\n",
       "      <td>8</td>\n",
       "      <td>24</td>\n",
       "      <td>5</td>\n",
       "      <td>13</td>\n",
       "      <td>0.000000</td>\n",
       "      <td>0.000000</td>\n",
       "      <td>0.000000</td>\n",
       "      <td>0.007195</td>\n",
       "    </tr>\n",
       "    <tr>\n",
       "      <th>4</th>\n",
       "      <td>3</td>\n",
       "      <td>Weak</td>\n",
       "      <td>Marinovum 5F3</td>\n",
       "      <td>670</td>\n",
       "      <td>7</td>\n",
       "      <td>24</td>\n",
       "      <td>1</td>\n",
       "      <td>9</td>\n",
       "      <td>0.007109</td>\n",
       "      <td>0.030547</td>\n",
       "      <td>0.000000</td>\n",
       "      <td>0.026033</td>\n",
       "    </tr>\n",
       "    <tr>\n",
       "      <th>5</th>\n",
       "      <td>2</td>\n",
       "      <td>Weak</td>\n",
       "      <td>Roseovarius 5C3</td>\n",
       "      <td>588</td>\n",
       "      <td>7</td>\n",
       "      <td>22</td>\n",
       "      <td>3</td>\n",
       "      <td>12</td>\n",
       "      <td>0.012951</td>\n",
       "      <td>0.000000</td>\n",
       "      <td>0.000000</td>\n",
       "      <td>0.005901</td>\n",
       "    </tr>\n",
       "    <tr>\n",
       "      <th>6</th>\n",
       "      <td>1</td>\n",
       "      <td>Inhibited</td>\n",
       "      <td>Marinobacter adhaerens HP15</td>\n",
       "      <td>669</td>\n",
       "      <td>7</td>\n",
       "      <td>25</td>\n",
       "      <td>2</td>\n",
       "      <td>13</td>\n",
       "      <td>0.016043</td>\n",
       "      <td>0.000000</td>\n",
       "      <td>0.000000</td>\n",
       "      <td>0.009453</td>\n",
       "    </tr>\n",
       "    <tr>\n",
       "      <th>7</th>\n",
       "      <td>0</td>\n",
       "      <td>Inhibited</td>\n",
       "      <td>Phaeobacter gallaeciensis</td>\n",
       "      <td>590</td>\n",
       "      <td>6</td>\n",
       "      <td>26</td>\n",
       "      <td>4</td>\n",
       "      <td>14</td>\n",
       "      <td>0.117446</td>\n",
       "      <td>0.000000</td>\n",
       "      <td>0.008587</td>\n",
       "      <td>0.160295</td>\n",
       "    </tr>\n",
       "  </tbody>\n",
       "</table>\n",
       "</div>"
      ],
      "text/plain": [
       "   species_id Coculture Outcome                         Species  \\\n",
       "0           7            Strong       Alteromonas macleodii 1A3   \n",
       "1           6            Strong  Pseudoalteromonas haloplanktis   \n",
       "2           5         Sustained  Sulfitobacter pseudonitzschiae   \n",
       "3           4         Sustained               Ruegeria pomeroyi   \n",
       "4           3              Weak                   Marinovum 5F3   \n",
       "5           2              Weak                 Roseovarius 5C3   \n",
       "6           1         Inhibited     Marinobacter adhaerens HP15   \n",
       "7           0         Inhibited       Phaeobacter gallaeciensis   \n",
       "\n",
       "   Predicted extracellular enzymes  \\\n",
       "0                              828   \n",
       "1                              684   \n",
       "2                              595   \n",
       "3                              583   \n",
       "4                              670   \n",
       "5                              588   \n",
       "6                              669   \n",
       "7                              590   \n",
       "\n",
       "   Predicted extracellular proteolytic enzymes  Total proteolytic enzymes  \\\n",
       "0                                           10                         30   \n",
       "1                                           18                         35   \n",
       "2                                            6                         24   \n",
       "3                                            8                         24   \n",
       "4                                            7                         24   \n",
       "5                                            7                         22   \n",
       "6                                            7                         25   \n",
       "7                                            6                         26   \n",
       "\n",
       "   Predicted extracellular ROS enzymes  Total ROS enzymes  \\\n",
       "0                                    5                 16   \n",
       "1                                    4                 16   \n",
       "2                                    3                 10   \n",
       "3                                    5                 13   \n",
       "4                                    1                  9   \n",
       "5                                    3                 12   \n",
       "6                                    2                 13   \n",
       "7                                    4                 14   \n",
       "\n",
       "   Avg Leucine aminopeptidase (fmole product cell-1 h-1)  \\\n",
       "0                                           0.352445       \n",
       "1                                           0.235881       \n",
       "2                                           0.030105       \n",
       "3                                           0.000000       \n",
       "4                                           0.007109       \n",
       "5                                           0.012951       \n",
       "6                                           0.016043       \n",
       "7                                           0.117446       \n",
       "\n",
       "   Avg Tryipsin-like (fmole product cell-1 h-1)  \\\n",
       "0                                      0.011894   \n",
       "1                                      0.006563   \n",
       "2                                      0.000000   \n",
       "3                                      0.000000   \n",
       "4                                      0.030547   \n",
       "5                                      0.000000   \n",
       "6                                      0.000000   \n",
       "7                                      0.000000   \n",
       "\n",
       "   Avg Chemotrypsin-like activity (fmole product cell-1 h-1)  \\\n",
       "0                                           0.030077           \n",
       "1                                           0.005858           \n",
       "2                                           0.000000           \n",
       "3                                           0.000000           \n",
       "4                                           0.000000           \n",
       "5                                           0.000000           \n",
       "6                                           0.000000           \n",
       "7                                           0.008587           \n",
       "\n",
       "   Avg H2O2 degradation rate (fmoles cell-1 h-1)  \n",
       "0                                       0.074066  \n",
       "1                                       0.059935  \n",
       "2                                       0.009756  \n",
       "3                                       0.007195  \n",
       "4                                       0.026033  \n",
       "5                                       0.005901  \n",
       "6                                       0.009453  \n",
       "7                                       0.160295  "
      ]
     },
     "execution_count": 32,
     "metadata": {},
     "output_type": "execute_result"
    }
   ],
   "source": [
    "dfshow"
   ]
  },
  {
   "cell_type": "code",
   "execution_count": 44,
   "id": "ea9a6cd7-ef60-4710-a2f4-5ff40a08635e",
   "metadata": {},
   "outputs": [
    {
     "data": {
      "image/png": "[encoded data removed]",
      "text/plain": [
       "<Figure size 200x200 with 1 Axes>"
      ]
     },
     "metadata": {},
     "output_type": "display_data"
    }
   ],
   "source": [
    "for i in [\n",
    "       'Avg H2O2 degradation rate (fmoles cell-1 h-1)',\n",
    "]:\n",
    "    xcol =  'Predicted extracellular ROS enzymes'\n",
    "    xmax = dfshow[xcol].max()\n",
    "    ylabel = i.replace(' (', '\\n(')\n",
    "    title = 'H2O2 degradation'\n",
    "    xlabel = 'Predicted extracellular\\nROS enzymes'\n",
    "    g = sns.relplot(\n",
    "        data=dfshow,\n",
    "        x=xcol,\n",
    "        y=i,\n",
    "        hue='Species', hue_order=horder, palette=hpalette_g,\n",
    "        style='Species', style_order=horder,\n",
    "        height=2, legend=False,\n",
    "        s=50,\n",
    "    )\n",
    "    g.set(\n",
    "        ylabel=ylabel, title=title, xlabel=xlabel, xlim = (-1,xmax+1)\n",
    "    )\n"
   ]
  },
  {
   "cell_type": "code",
   "execution_count": 47,
   "id": "5d908ab5-2960-4447-bb2a-1892822cad92",
   "metadata": {},
   "outputs": [
    {
     "data": {
      "image/png": "[encoded data removed]",
      "text/plain": [
       "<Figure size 200x200 with 1 Axes>"
      ]
     },
     "metadata": {},
     "output_type": "display_data"
    },
    {
     "data": {
      "image/png": "[encoded data removed]",
      "text/plain": [
       "<Figure size 200x200 with 1 Axes>"
      ]
     },
     "metadata": {},
     "output_type": "display_data"
    },
    {
     "data": {
      "image/png": "[encoded data removed]",
      "text/plain": [
       "<Figure size 200x200 with 1 Axes>"
      ]
     },
     "metadata": {},
     "output_type": "display_data"
    }
   ],
   "source": [
    "for i in [\n",
    "           'Avg Leucine aminopeptidase (fmole product cell-1 h-1)',\n",
    "       'Avg Tryipsin-like (fmole product cell-1 h-1)',\n",
    "       'Avg Chemotrypsin-like activity (fmole product cell-1 h-1)',\n",
    "]:\n",
    "    xcol =  'Predicted extracellular proteolytic enzymes'\n",
    "    xmax = dfshow[xcol].max()\n",
    "    ylabel = i.replace(' (', '\\n(')\n",
    "    title = i.replace(' (fmole product cell-1 h-1)','').replace('Avg ','').replace(' activity','')\n",
    "    xlabel = 'Predicted extracellular\\nproteolytic enzymes'\n",
    "    g = sns.relplot(\n",
    "        data=dfshow,\n",
    "        x=xcol,\n",
    "        y=i,\n",
    "        hue='Species', hue_order=horder, palette=hpalette_g,\n",
    "        style='Species', style_order=horder,\n",
    "        height=2, legend=False,\n",
    "        s=50, lw=0.1, alpha=0.8,\n",
    "    )\n",
    "    g.set(\n",
    "        ylabel=ylabel, title=title, xlabel=xlabel, xlim = (-1,xmax+1)\n",
    "    )"
   ]
  },
  {
   "cell_type": "code",
   "execution_count": 63,
   "id": "98d13cf6-85c7-4c6a-b298-a71a2b272ed8",
   "metadata": {},
   "outputs": [],
   "source": [
    "exo_cols_labels = [\n",
    "  #  'Species',\n",
    "#           'Predicted extracellular enzymes',\n",
    "       'Extracellular proteolytic enzymes',\n",
    "       'Total proteolytic enzymes', \n",
    "    #'ROS enzymes',\n",
    "     #  'Total ROS enzymes', \n",
    "       'Leucine aminopeptidase',\n",
    "       'Tryipsin-like',\n",
    "       'Chemotrypsin-like',\n",
    "     #  'H2O2 degradation',\n",
    "\n",
    "]"
   ]
  },
  {
   "cell_type": "code",
   "execution_count": 64,
   "id": "75949bc1-4d96-4c85-b5e1-099b3d8a917a",
   "metadata": {},
   "outputs": [],
   "source": [
    "dfshow['color'] = dfshow['Coculture Outcome'].map(gpalette_dict)"
   ]
  },
  {
   "cell_type": "code",
   "execution_count": 72,
   "id": "d1eb0434-8d79-462b-8523-348c116e96d6",
   "metadata": {},
   "outputs": [],
   "source": [
    "dfshow['Species_short'] = dfshow['Species'].str.replace(r' .*', '', regex=True)\n"
   ]
  },
  {
   "cell_type": "code",
   "execution_count": 65,
   "id": "135a1676-99c1-4caf-ad43-c2209a77e1a8",
   "metadata": {},
   "outputs": [],
   "source": [
    "exocols = [\n",
    "    #'species_id',\n",
    "#           'Predicted extracellular enzymes',\n",
    "       'Predicted extracellular proteolytic enzymes',\n",
    "       'Total proteolytic enzymes', \n",
    "    #'Predicted extracellular ROS enzymes',\n",
    "     #  'Total ROS enzymes', \n",
    "       'Avg Leucine aminopeptidase (fmole product cell-1 h-1)',\n",
    "       'Avg Tryipsin-like (fmole product cell-1 h-1)',\n",
    "       'Avg Chemotrypsin-like activity (fmole product cell-1 h-1)',\n",
    "    #   'Avg H2O2 degradation rate (fmoles cell-1 h-1)',\n",
    "\n",
    "]"
   ]
  },
  {
   "cell_type": "code",
   "execution_count": 75,
   "id": "be022669-61ac-4eac-9749-5e4d71d3e595",
   "metadata": {},
   "outputs": [
    {
     "data": {
      "application/vnd.plotly.v1+json": {
       "config": {
        "plotlyServerURL": "https://plot.ly"
       },
       "data": [
        {
         "dimensions": [
          {
           "label": "Species",
           "range": [
            0,
            7
           ],
           "ticktext": [
            "Phaeobacter",
            "Marinobacter",
            "Roseovarius",
            "Marinovum",
            "Ruegeria",
            "Sulfitobacter",
            "Pseudoalteromonas",
            "Alteromonas"
           ],
           "tickvals": [
            0,
            1,
            2,
            3,
            4,
            5,
            6,
            7
           ],
           "values": [
            7,
            6,
            5,
            4,
            3,
            2,
            1,
            0
           ]
          },
          {
           "label": "Extracellular proteolytic enzymes",
           "range": [
            0,
            18
           ],
           "values": [
            10,
            18,
            6,
            8,
            7,
            7,
            7,
            6
           ]
          },
          {
           "label": "Total proteolytic enzymes",
           "range": [
            0,
            35
           ],
           "values": [
            30,
            35,
            24,
            24,
            24,
            22,
            25,
            26
           ]
          },
          {
           "label": "Leucine aminopeptidase",
           "range": [
            0,
            0.35244508218160786
           ],
           "values": [
            0.35244508218160786,
            0.23588054495907182,
            0.0301054391819819,
            0,
            0.007108525840726375,
            0.012951377608313379,
            0.01604267837938435,
            0.11744591677028747
           ]
          },
          {
           "label": "Tryipsin-like",
           "range": [
            0,
            0.03054672673706967
           ],
           "values": [
            0.01189377455418162,
            0.006562984103517436,
            0,
            0,
            0.03054672673706967,
            0,
            0,
            0
           ]
          },
          {
           "label": "Chemotrypsin-like",
           "range": [
            0,
            0.03007715716501151
           ],
           "values": [
            0.03007715716501151,
            0.005858351297440153,
            0,
            0,
            0,
            0,
            0,
            0.008587042611603904
           ]
          }
         ],
         "line": {
          "color": [
           7,
           6,
           5,
           4,
           3,
           2,
           1,
           0
          ],
          "colorscale": [
           [
            0,
            "#332288"
           ],
           [
            0.14285714285714285,
            "#332288"
           ],
           [
            0.2857142857142857,
            "#44AA99"
           ],
           [
            0.42857142857142855,
            "#44AA99"
           ],
           [
            0.5714285714285714,
            "#CC6677"
           ],
           [
            0.7142857142857143,
            "#CC6677"
           ],
           [
            0.8571428571428571,
            "#882255"
           ],
           [
            1,
            "#882255"
           ]
          ]
         },
         "type": "parcoords"
        }
       ],
       "layout": {
        "height": 600,
        "paper_bgcolor": "white",
        "plot_bgcolor": "white",
        "template": {
         "data": {
          "bar": [
           {
            "error_x": {
             "color": "#2a3f5f"
            },
            "error_y": {
             "color": "#2a3f5f"
            },
            "marker": {
             "line": {
              "color": "#E5ECF6",
              "width": 0.5
             },
             "pattern": {
              "fillmode": "overlay",
              "size": 10,
              "solidity": 0.2
             }
            },
            "type": "bar"
           }
          ],
          "barpolar": [
           {
            "marker": {
             "line": {
              "color": "#E5ECF6",
              "width": 0.5
             },
             "pattern": {
              "fillmode": "overlay",
              "size": 10,
              "solidity": 0.2
             }
            },
            "type": "barpolar"
           }
          ],
          "carpet": [
           {
            "aaxis": {
             "endlinecolor": "#2a3f5f",
             "gridcolor": "white",
             "linecolor": "white",
             "minorgridcolor": "white",
             "startlinecolor": "#2a3f5f"
            },
            "baxis": {
             "endlinecolor": "#2a3f5f",
             "gridcolor": "white",
             "linecolor": "white",
             "minorgridcolor": "white",
             "startlinecolor": "#2a3f5f"
            },
            "type": "carpet"
           }
          ],
          "choropleth": [
           {
            "colorbar": {
             "outlinewidth": 0,
             "ticks": ""
            },
            "type": "choropleth"
           }
          ],
          "contour": [
           {
            "colorbar": {
             "outlinewidth": 0,
             "ticks": ""
            },
            "colorscale": [
             [
              0,
              "#0d0887"
             ],
             [
              0.1111111111111111,
              "#46039f"
             ],
             [
              0.2222222222222222,
              "#7201a8"
             ],
             [
              0.3333333333333333,
              "#9c179e"
             ],
             [
              0.4444444444444444,
              "#bd3786"
             ],
             [
              0.5555555555555556,
              "#d8576b"
             ],
             [
              0.6666666666666666,
              "#ed7953"
             ],
             [
              0.7777777777777778,
              "#fb9f3a"
             ],
             [
              0.8888888888888888,
              "#fdca26"
             ],
             [
              1,
              "#f0f921"
             ]
            ],
            "type": "contour"
           }
          ],
          "contourcarpet": [
           {
            "colorbar": {
             "outlinewidth": 0,
             "ticks": ""
            },
            "type": "contourcarpet"
           }
          ],
          "heatmap": [
           {
            "colorbar": {
             "outlinewidth": 0,
             "ticks": ""
            },
            "colorscale": [
             [
              0,
              "#0d0887"
             ],
             [
              0.1111111111111111,
              "#46039f"
             ],
             [
              0.2222222222222222,
              "#7201a8"
             ],
             [
              0.3333333333333333,
              "#9c179e"
             ],
             [
              0.4444444444444444,
              "#bd3786"
             ],
             [
              0.5555555555555556,
              "#d8576b"
             ],
             [
              0.6666666666666666,
              "#ed7953"
             ],
             [
              0.7777777777777778,
              "#fb9f3a"
             ],
             [
              0.8888888888888888,
              "#fdca26"
             ],
             [
              1,
              "#f0f921"
             ]
            ],
            "type": "heatmap"
           }
          ],
          "heatmapgl": [
           {
            "colorbar": {
             "outlinewidth": 0,
             "ticks": ""
            },
            "colorscale": [
             [
              0,
              "#0d0887"
             ],
             [
              0.1111111111111111,
              "#46039f"
             ],
             [
              0.2222222222222222,
              "#7201a8"
             ],
             [
              0.3333333333333333,
              "#9c179e"
             ],
             [
              0.4444444444444444,
              "#bd3786"
             ],
             [
              0.5555555555555556,
              "#d8576b"
             ],
             [
              0.6666666666666666,
              "#ed7953"
             ],
             [
              0.7777777777777778,
              "#fb9f3a"
             ],
             [
              0.8888888888888888,
              "#fdca26"
             ],
             [
              1,
              "#f0f921"
             ]
            ],
            "type": "heatmapgl"
           }
          ],
          "histogram": [
           {
            "marker": {
             "pattern": {
              "fillmode": "overlay",
              "size": 10,
              "solidity": 0.2
             }
            },
            "type": "histogram"
           }
          ],
          "histogram2d": [
           {
            "colorbar": {
             "outlinewidth": 0,
             "ticks": ""
            },
            "colorscale": [
             [
              0,
              "#0d0887"
             ],
             [
              0.1111111111111111,
              "#46039f"
             ],
             [
              0.2222222222222222,
              "#7201a8"
             ],
             [
              0.3333333333333333,
              "#9c179e"
             ],
             [
              0.4444444444444444,
              "#bd3786"
             ],
             [
              0.5555555555555556,
              "#d8576b"
             ],
             [
              0.6666666666666666,
              "#ed7953"
             ],
             [
              0.7777777777777778,
              "#fb9f3a"
             ],
             [
              0.8888888888888888,
              "#fdca26"
             ],
             [
              1,
              "#f0f921"
             ]
            ],
            "type": "histogram2d"
           }
          ],
          "histogram2dcontour": [
           {
            "colorbar": {
             "outlinewidth": 0,
             "ticks": ""
            },
            "colorscale": [
             [
              0,
              "#0d0887"
             ],
             [
              0.1111111111111111,
              "#46039f"
             ],
             [
              0.2222222222222222,
              "#7201a8"
             ],
             [
              0.3333333333333333,
              "#9c179e"
             ],
             [
              0.4444444444444444,
              "#bd3786"
             ],
             [
              0.5555555555555556,
              "#d8576b"
             ],
             [
              0.6666666666666666,
              "#ed7953"
             ],
             [
              0.7777777777777778,
              "#fb9f3a"
             ],
             [
              0.8888888888888888,
              "#fdca26"
             ],
             [
              1,
              "#f0f921"
             ]
            ],
            "type": "histogram2dcontour"
           }
          ],
          "mesh3d": [
           {
            "colorbar": {
             "outlinewidth": 0,
             "ticks": ""
            },
            "type": "mesh3d"
           }
          ],
          "parcoords": [
           {
            "line": {
             "colorbar": {
              "outlinewidth": 0,
              "ticks": ""
             }
            },
            "type": "parcoords"
           }
          ],
          "pie": [
           {
            "automargin": true,
            "type": "pie"
           }
          ],
          "scatter": [
           {
            "fillpattern": {
             "fillmode": "overlay",
             "size": 10,
             "solidity": 0.2
            },
            "type": "scatter"
           }
          ],
          "scatter3d": [
           {
            "line": {
             "colorbar": {
              "outlinewidth": 0,
              "ticks": ""
             }
            },
            "marker": {
             "colorbar": {
              "outlinewidth": 0,
              "ticks": ""
             }
            },
            "type": "scatter3d"
           }
          ],
          "scattercarpet": [
           {
            "marker": {
             "colorbar": {
              "outlinewidth": 0,
              "ticks": ""
             }
            },
            "type": "scattercarpet"
           }
          ],
          "scattergeo": [
           {
            "marker": {
             "colorbar": {
              "outlinewidth": 0,
              "ticks": ""
             }
            },
            "type": "scattergeo"
           }
          ],
          "scattergl": [
           {
            "marker": {
             "colorbar": {
              "outlinewidth": 0,
              "ticks": ""
             }
            },
            "type": "scattergl"
           }
          ],
          "scattermapbox": [
           {
            "marker": {
             "colorbar": {
              "outlinewidth": 0,
              "ticks": ""
             }
            },
            "type": "scattermapbox"
           }
          ],
          "scatterpolar": [
           {
            "marker": {
             "colorbar": {
              "outlinewidth": 0,
              "ticks": ""
             }
            },
            "type": "scatterpolar"
           }
          ],
          "scatterpolargl": [
           {
            "marker": {
             "colorbar": {
              "outlinewidth": 0,
              "ticks": ""
             }
            },
            "type": "scatterpolargl"
           }
          ],
          "scatterternary": [
           {
            "marker": {
             "colorbar": {
              "outlinewidth": 0,
              "ticks": ""
             }
            },
            "type": "scatterternary"
           }
          ],
          "surface": [
           {
            "colorbar": {
             "outlinewidth": 0,
             "ticks": ""
            },
            "colorscale": [
             [
              0,
              "#0d0887"
             ],
             [
              0.1111111111111111,
              "#46039f"
             ],
             [
              0.2222222222222222,
              "#7201a8"
             ],
             [
              0.3333333333333333,
              "#9c179e"
             ],
             [
              0.4444444444444444,
              "#bd3786"
             ],
             [
              0.5555555555555556,
              "#d8576b"
             ],
             [
              0.6666666666666666,
              "#ed7953"
             ],
             [
              0.7777777777777778,
              "#fb9f3a"
             ],
             [
              0.8888888888888888,
              "#fdca26"
             ],
             [
              1,
              "#f0f921"
             ]
            ],
            "type": "surface"
           }
          ],
          "table": [
           {
            "cells": {
             "fill": {
              "color": "#EBF0F8"
             },
             "line": {
              "color": "white"
             }
            },
            "header": {
             "fill": {
              "color": "#C8D4E3"
             },
             "line": {
              "color": "white"
             }
            },
            "type": "table"
           }
          ]
         },
         "layout": {
          "annotationdefaults": {
           "arrowcolor": "#2a3f5f",
           "arrowhead": 0,
           "arrowwidth": 1
          },
          "autotypenumbers": "strict",
          "coloraxis": {
           "colorbar": {
            "outlinewidth": 0,
            "ticks": ""
           }
          },
          "colorscale": {
           "diverging": [
            [
             0,
             "#8e0152"
            ],
            [
             0.1,
             "#c51b7d"
            ],
            [
             0.2,
             "#de77ae"
            ],
            [
             0.3,
             "#f1b6da"
            ],
            [
             0.4,
             "#fde0ef"
            ],
            [
             0.5,
             "#f7f7f7"
            ],
            [
             0.6,
             "#e6f5d0"
            ],
            [
             0.7,
             "#b8e186"
            ],
            [
             0.8,
             "#7fbc41"
            ],
            [
             0.9,
             "#4d9221"
            ],
            [
             1,
             "#276419"
            ]
           ],
           "sequential": [
            [
             0,
             "#0d0887"
            ],
            [
             0.1111111111111111,
             "#46039f"
            ],
            [
             0.2222222222222222,
             "#7201a8"
            ],
            [
             0.3333333333333333,
             "#9c179e"
            ],
            [
             0.4444444444444444,
             "#bd3786"
            ],
            [
             0.5555555555555556,
             "#d8576b"
            ],
            [
             0.6666666666666666,
             "#ed7953"
            ],
            [
             0.7777777777777778,
             "#fb9f3a"
            ],
            [
             0.8888888888888888,
             "#fdca26"
            ],
            [
             1,
             "#f0f921"
            ]
           ],
           "sequentialminus": [
            [
             0,
             "#0d0887"
            ],
            [
             0.1111111111111111,
             "#46039f"
            ],
            [
             0.2222222222222222,
             "#7201a8"
            ],
            [
             0.3333333333333333,
             "#9c179e"
            ],
            [
             0.4444444444444444,
             "#bd3786"
            ],
            [
             0.5555555555555556,
             "#d8576b"
            ],
            [
             0.6666666666666666,
             "#ed7953"
            ],
            [
             0.7777777777777778,
             "#fb9f3a"
            ],
            [
             0.8888888888888888,
             "#fdca26"
            ],
            [
             1,
             "#f0f921"
            ]
           ]
          },
          "colorway": [
           "#636efa",
           "#EF553B",
           "#00cc96",
           "#ab63fa",
           "#FFA15A",
           "#19d3f3",
           "#FF6692",
           "#B6E880",
           "#FF97FF",
           "#FECB52"
          ],
          "font": {
           "color": "#2a3f5f"
          },
          "geo": {
           "bgcolor": "white",
           "lakecolor": "white",
           "landcolor": "#E5ECF6",
           "showlakes": true,
           "showland": true,
           "subunitcolor": "white"
          },
          "hoverlabel": {
           "align": "left"
          },
          "hovermode": "closest",
          "mapbox": {
           "style": "light"
          },
          "paper_bgcolor": "white",
          "plot_bgcolor": "#E5ECF6",
          "polar": {
           "angularaxis": {
            "gridcolor": "white",
            "linecolor": "white",
            "ticks": ""
           },
           "bgcolor": "#E5ECF6",
           "radialaxis": {
            "gridcolor": "white",
            "linecolor": "white",
            "ticks": ""
           }
          },
          "scene": {
           "xaxis": {
            "backgroundcolor": "#E5ECF6",
            "gridcolor": "white",
            "gridwidth": 2,
            "linecolor": "white",
            "showbackground": true,
            "ticks": "",
            "zerolinecolor": "white"
           },
           "yaxis": {
            "backgroundcolor": "#E5ECF6",
            "gridcolor": "white",
            "gridwidth": 2,
            "linecolor": "white",
            "showbackground": true,
            "ticks": "",
            "zerolinecolor": "white"
           },
           "zaxis": {
            "backgroundcolor": "#E5ECF6",
            "gridcolor": "white",
            "gridwidth": 2,
            "linecolor": "white",
            "showbackground": true,
            "ticks": "",
            "zerolinecolor": "white"
           }
          },
          "shapedefaults": {
           "line": {
            "color": "#2a3f5f"
           }
          },
          "ternary": {
           "aaxis": {
            "gridcolor": "white",
            "linecolor": "white",
            "ticks": ""
           },
           "baxis": {
            "gridcolor": "white",
            "linecolor": "white",
            "ticks": ""
           },
           "bgcolor": "#E5ECF6",
           "caxis": {
            "gridcolor": "white",
            "linecolor": "white",
            "ticks": ""
           }
          },
          "title": {
           "x": 0.05
          },
          "xaxis": {
           "automargin": true,
           "gridcolor": "white",
           "linecolor": "white",
           "ticks": "",
           "title": {
            "standoff": 15
           },
           "zerolinecolor": "white",
           "zerolinewidth": 2
          },
          "yaxis": {
           "automargin": true,
           "gridcolor": "white",
           "linecolor": "white",
           "ticks": "",
           "title": {
            "standoff": 15
           },
           "zerolinecolor": "white",
           "zerolinewidth": 2
          }
         }
        },
        "width": 1200
       }
      },
      "image/png": "[encoded data removed]",
      "text/html": [
       "<div>                            <div id=\"0692dd6f-31fd-42bd-8844-3f2f9a5abfd0\" class=\"plotly-graph-div\" style=\"height:600px; width:1200px;\"></div>            <script type=\"text/javascript\">                require([\"plotly\"], function(Plotly) {                    window.PLOTLYENV=window.PLOTLYENV || {};                                    if (document.getElementById(\"0692dd6f-31fd-42bd-8844-3f2f9a5abfd0\")) {                    Plotly.newPlot(                        \"0692dd6f-31fd-42bd-8844-3f2f9a5abfd0\",                        [{\"dimensions\":[{\"label\":\"Species\",\"range\":[0,7],\"ticktext\":[\"Alteromonas\",\"Pseudoalteromonas\",\"Sulfitobacter\",\"Ruegeria\",\"Marinovum\",\"Roseovarius\",\"Marinobacter\",\"Phaeobacter\"],\"tickvals\":[7,6,5,4,3,2,1,0],\"values\":[7,6,5,4,3,2,1,0]},{\"label\":\"Extracellular proteolytic enzymes\",\"range\":[0,18],\"values\":[10,18,6,8,7,7,7,6]},{\"label\":\"Total proteolytic enzymes\",\"range\":[0,35],\"values\":[30,35,24,24,24,22,25,26]},{\"label\":\"Leucine aminopeptidase\",\"range\":[0,0.35244508218160786],\"values\":[0.35244508218160786,0.23588054495907182,0.0301054391819819,0.0,0.007108525840726375,0.012951377608313379,0.01604267837938435,0.11744591677028747]},{\"label\":\"Tryipsin-like\",\"range\":[0,0.03054672673706967],\"values\":[0.01189377455418162,0.006562984103517436,0.0,0.0,0.03054672673706967,0.0,0.0,0.0]},{\"label\":\"Chemotrypsin-like\",\"range\":[0,0.03007715716501151],\"values\":[0.03007715716501151,0.005858351297440153,0.0,0.0,0.0,0.0,0.0,0.008587042611603904]}],\"line\":{\"color\":[7,6,5,4,3,2,1,0],\"colorscale\":[[0.0,\"#332288\"],[0.14285714285714285,\"#332288\"],[0.2857142857142857,\"#44AA99\"],[0.42857142857142855,\"#44AA99\"],[0.5714285714285714,\"#CC6677\"],[0.7142857142857143,\"#CC6677\"],[0.8571428571428571,\"#882255\"],[1.0,\"#882255\"]]},\"type\":\"parcoords\"}],                        {\"template\":{\"data\":{\"histogram2dcontour\":[{\"type\":\"histogram2dcontour\",\"colorbar\":{\"outlinewidth\":0,\"ticks\":\"\"},\"colorscale\":[[0.0,\"#0d0887\"],[0.1111111111111111,\"#46039f\"],[0.2222222222222222,\"#7201a8\"],[0.3333333333333333,\"#9c179e\"],[0.4444444444444444,\"#bd3786\"],[0.5555555555555556,\"#d8576b\"],[0.6666666666666666,\"#ed7953\"],[0.7777777777777778,\"#fb9f3a\"],[0.8888888888888888,\"#fdca26\"],[1.0,\"#f0f921\"]]}],\"choropleth\":[{\"type\":\"choropleth\",\"colorbar\":{\"outlinewidth\":0,\"ticks\":\"\"}}],\"histogram2d\":[{\"type\":\"histogram2d\",\"colorbar\":{\"outlinewidth\":0,\"ticks\":\"\"},\"colorscale\":[[0.0,\"#0d0887\"],[0.1111111111111111,\"#46039f\"],[0.2222222222222222,\"#7201a8\"],[0.3333333333333333,\"#9c179e\"],[0.4444444444444444,\"#bd3786\"],[0.5555555555555556,\"#d8576b\"],[0.6666666666666666,\"#ed7953\"],[0.7777777777777778,\"#fb9f3a\"],[0.8888888888888888,\"#fdca26\"],[1.0,\"#f0f921\"]]}],\"heatmap\":[{\"type\":\"heatmap\",\"colorbar\":{\"outlinewidth\":0,\"ticks\":\"\"},\"colorscale\":[[0.0,\"#0d0887\"],[0.1111111111111111,\"#46039f\"],[0.2222222222222222,\"#7201a8\"],[0.3333333333333333,\"#9c179e\"],[0.4444444444444444,\"#bd3786\"],[0.5555555555555556,\"#d8576b\"],[0.6666666666666666,\"#ed7953\"],[0.7777777777777778,\"#fb9f3a\"],[0.8888888888888888,\"#fdca26\"],[1.0,\"#f0f921\"]]}],\"heatmapgl\":[{\"type\":\"heatmapgl\",\"colorbar\":{\"outlinewidth\":0,\"ticks\":\"\"},\"colorscale\":[[0.0,\"#0d0887\"],[0.1111111111111111,\"#46039f\"],[0.2222222222222222,\"#7201a8\"],[0.3333333333333333,\"#9c179e\"],[0.4444444444444444,\"#bd3786\"],[0.5555555555555556,\"#d8576b\"],[0.6666666666666666,\"#ed7953\"],[0.7777777777777778,\"#fb9f3a\"],[0.8888888888888888,\"#fdca26\"],[1.0,\"#f0f921\"]]}],\"contourcarpet\":[{\"type\":\"contourcarpet\",\"colorbar\":{\"outlinewidth\":0,\"ticks\":\"\"}}],\"contour\":[{\"type\":\"contour\",\"colorbar\":{\"outlinewidth\":0,\"ticks\":\"\"},\"colorscale\":[[0.0,\"#0d0887\"],[0.1111111111111111,\"#46039f\"],[0.2222222222222222,\"#7201a8\"],[0.3333333333333333,\"#9c179e\"],[0.4444444444444444,\"#bd3786\"],[0.5555555555555556,\"#d8576b\"],[0.6666666666666666,\"#ed7953\"],[0.7777777777777778,\"#fb9f3a\"],[0.8888888888888888,\"#fdca26\"],[1.0,\"#f0f921\"]]}],\"surface\":[{\"type\":\"surface\",\"colorbar\":{\"outlinewidth\":0,\"ticks\":\"\"},\"colorscale\":[[0.0,\"#0d0887\"],[0.1111111111111111,\"#46039f\"],[0.2222222222222222,\"#7201a8\"],[0.3333333333333333,\"#9c179e\"],[0.4444444444444444,\"#bd3786\"],[0.5555555555555556,\"#d8576b\"],[0.6666666666666666,\"#ed7953\"],[0.7777777777777778,\"#fb9f3a\"],[0.8888888888888888,\"#fdca26\"],[1.0,\"#f0f921\"]]}],\"mesh3d\":[{\"type\":\"mesh3d\",\"colorbar\":{\"outlinewidth\":0,\"ticks\":\"\"}}],\"scatter\":[{\"fillpattern\":{\"fillmode\":\"overlay\",\"size\":10,\"solidity\":0.2},\"type\":\"scatter\"}],\"parcoords\":[{\"type\":\"parcoords\",\"line\":{\"colorbar\":{\"outlinewidth\":0,\"ticks\":\"\"}}}],\"scatterpolargl\":[{\"type\":\"scatterpolargl\",\"marker\":{\"colorbar\":{\"outlinewidth\":0,\"ticks\":\"\"}}}],\"bar\":[{\"error_x\":{\"color\":\"#2a3f5f\"},\"error_y\":{\"color\":\"#2a3f5f\"},\"marker\":{\"line\":{\"color\":\"#E5ECF6\",\"width\":0.5},\"pattern\":{\"fillmode\":\"overlay\",\"size\":10,\"solidity\":0.2}},\"type\":\"bar\"}],\"scattergeo\":[{\"type\":\"scattergeo\",\"marker\":{\"colorbar\":{\"outlinewidth\":0,\"ticks\":\"\"}}}],\"scatterpolar\":[{\"type\":\"scatterpolar\",\"marker\":{\"colorbar\":{\"outlinewidth\":0,\"ticks\":\"\"}}}],\"histogram\":[{\"marker\":{\"pattern\":{\"fillmode\":\"overlay\",\"size\":10,\"solidity\":0.2}},\"type\":\"histogram\"}],\"scattergl\":[{\"type\":\"scattergl\",\"marker\":{\"colorbar\":{\"outlinewidth\":0,\"ticks\":\"\"}}}],\"scatter3d\":[{\"type\":\"scatter3d\",\"line\":{\"colorbar\":{\"outlinewidth\":0,\"ticks\":\"\"}},\"marker\":{\"colorbar\":{\"outlinewidth\":0,\"ticks\":\"\"}}}],\"scattermapbox\":[{\"type\":\"scattermapbox\",\"marker\":{\"colorbar\":{\"outlinewidth\":0,\"ticks\":\"\"}}}],\"scatterternary\":[{\"type\":\"scatterternary\",\"marker\":{\"colorbar\":{\"outlinewidth\":0,\"ticks\":\"\"}}}],\"scattercarpet\":[{\"type\":\"scattercarpet\",\"marker\":{\"colorbar\":{\"outlinewidth\":0,\"ticks\":\"\"}}}],\"carpet\":[{\"aaxis\":{\"endlinecolor\":\"#2a3f5f\",\"gridcolor\":\"white\",\"linecolor\":\"white\",\"minorgridcolor\":\"white\",\"startlinecolor\":\"#2a3f5f\"},\"baxis\":{\"endlinecolor\":\"#2a3f5f\",\"gridcolor\":\"white\",\"linecolor\":\"white\",\"minorgridcolor\":\"white\",\"startlinecolor\":\"#2a3f5f\"},\"type\":\"carpet\"}],\"table\":[{\"cells\":{\"fill\":{\"color\":\"#EBF0F8\"},\"line\":{\"color\":\"white\"}},\"header\":{\"fill\":{\"color\":\"#C8D4E3\"},\"line\":{\"color\":\"white\"}},\"type\":\"table\"}],\"barpolar\":[{\"marker\":{\"line\":{\"color\":\"#E5ECF6\",\"width\":0.5},\"pattern\":{\"fillmode\":\"overlay\",\"size\":10,\"solidity\":0.2}},\"type\":\"barpolar\"}],\"pie\":[{\"automargin\":true,\"type\":\"pie\"}]},\"layout\":{\"autotypenumbers\":\"strict\",\"colorway\":[\"#636efa\",\"#EF553B\",\"#00cc96\",\"#ab63fa\",\"#FFA15A\",\"#19d3f3\",\"#FF6692\",\"#B6E880\",\"#FF97FF\",\"#FECB52\"],\"font\":{\"color\":\"#2a3f5f\"},\"hovermode\":\"closest\",\"hoverlabel\":{\"align\":\"left\"},\"paper_bgcolor\":\"white\",\"plot_bgcolor\":\"#E5ECF6\",\"polar\":{\"bgcolor\":\"#E5ECF6\",\"angularaxis\":{\"gridcolor\":\"white\",\"linecolor\":\"white\",\"ticks\":\"\"},\"radialaxis\":{\"gridcolor\":\"white\",\"linecolor\":\"white\",\"ticks\":\"\"}},\"ternary\":{\"bgcolor\":\"#E5ECF6\",\"aaxis\":{\"gridcolor\":\"white\",\"linecolor\":\"white\",\"ticks\":\"\"},\"baxis\":{\"gridcolor\":\"white\",\"linecolor\":\"white\",\"ticks\":\"\"},\"caxis\":{\"gridcolor\":\"white\",\"linecolor\":\"white\",\"ticks\":\"\"}},\"coloraxis\":{\"colorbar\":{\"outlinewidth\":0,\"ticks\":\"\"}},\"colorscale\":{\"sequential\":[[0.0,\"#0d0887\"],[0.1111111111111111,\"#46039f\"],[0.2222222222222222,\"#7201a8\"],[0.3333333333333333,\"#9c179e\"],[0.4444444444444444,\"#bd3786\"],[0.5555555555555556,\"#d8576b\"],[0.6666666666666666,\"#ed7953\"],[0.7777777777777778,\"#fb9f3a\"],[0.8888888888888888,\"#fdca26\"],[1.0,\"#f0f921\"]],\"sequentialminus\":[[0.0,\"#0d0887\"],[0.1111111111111111,\"#46039f\"],[0.2222222222222222,\"#7201a8\"],[0.3333333333333333,\"#9c179e\"],[0.4444444444444444,\"#bd3786\"],[0.5555555555555556,\"#d8576b\"],[0.6666666666666666,\"#ed7953\"],[0.7777777777777778,\"#fb9f3a\"],[0.8888888888888888,\"#fdca26\"],[1.0,\"#f0f921\"]],\"diverging\":[[0,\"#8e0152\"],[0.1,\"#c51b7d\"],[0.2,\"#de77ae\"],[0.3,\"#f1b6da\"],[0.4,\"#fde0ef\"],[0.5,\"#f7f7f7\"],[0.6,\"#e6f5d0\"],[0.7,\"#b8e186\"],[0.8,\"#7fbc41\"],[0.9,\"#4d9221\"],[1,\"#276419\"]]},\"xaxis\":{\"gridcolor\":\"white\",\"linecolor\":\"white\",\"ticks\":\"\",\"title\":{\"standoff\":15},\"zerolinecolor\":\"white\",\"automargin\":true,\"zerolinewidth\":2},\"yaxis\":{\"gridcolor\":\"white\",\"linecolor\":\"white\",\"ticks\":\"\",\"title\":{\"standoff\":15},\"zerolinecolor\":\"white\",\"automargin\":true,\"zerolinewidth\":2},\"scene\":{\"xaxis\":{\"backgroundcolor\":\"#E5ECF6\",\"gridcolor\":\"white\",\"linecolor\":\"white\",\"showbackground\":true,\"ticks\":\"\",\"zerolinecolor\":\"white\",\"gridwidth\":2},\"yaxis\":{\"backgroundcolor\":\"#E5ECF6\",\"gridcolor\":\"white\",\"linecolor\":\"white\",\"showbackground\":true,\"ticks\":\"\",\"zerolinecolor\":\"white\",\"gridwidth\":2},\"zaxis\":{\"backgroundcolor\":\"#E5ECF6\",\"gridcolor\":\"white\",\"linecolor\":\"white\",\"showbackground\":true,\"ticks\":\"\",\"zerolinecolor\":\"white\",\"gridwidth\":2}},\"shapedefaults\":{\"line\":{\"color\":\"#2a3f5f\"}},\"annotationdefaults\":{\"arrowcolor\":\"#2a3f5f\",\"arrowhead\":0,\"arrowwidth\":1},\"geo\":{\"bgcolor\":\"white\",\"landcolor\":\"#E5ECF6\",\"subunitcolor\":\"white\",\"showland\":true,\"showlakes\":true,\"lakecolor\":\"white\"},\"title\":{\"x\":0.05},\"mapbox\":{\"style\":\"light\"}}},\"plot_bgcolor\":\"white\",\"paper_bgcolor\":\"white\",\"width\":1200,\"height\":600},                        {\"responsive\": true}                    ).then(function(){\n",
       "                            \n",
       "var gd = document.getElementById('0692dd6f-31fd-42bd-8844-3f2f9a5abfd0');\n",
       "var x = new MutationObserver(function (mutations, observer) {{\n",
       "        var display = window.getComputedStyle(gd).display;\n",
       "        if (!display || display === 'none') {{\n",
       "            console.log([gd, 'removed!']);\n",
       "            Plotly.purge(gd);\n",
       "            observer.disconnect();\n",
       "        }}\n",
       "}});\n",
       "\n",
       "// Listen for the removal of the full notebook cells\n",
       "var notebookContainer = gd.closest('#notebook-container');\n",
       "if (notebookContainer) {{\n",
       "    x.observe(notebookContainer, {childList: true});\n",
       "}}\n",
       "\n",
       "// Listen for the clearing of the current output cell\n",
       "var outputEl = gd.closest('.output');\n",
       "if (outputEl) {{\n",
       "    x.observe(outputEl, {childList: true});\n",
       "}}\n",
       "\n",
       "                        })                };                });            </script>        </div>"
      ]
     },
     "metadata": {},
     "output_type": "display_data"
    }
   ],
   "source": [
    "import plotly.graph_objects as go\n",
    "\n",
    "\n",
    "fig = go.Figure(data=\n",
    "    go.Parcoords(\n",
    "        line = dict(color = dfshow['species_id'],\n",
    "                   #colorscale = list(zip(dfshow.species_id, dfshow.color)),\n",
    "                   colorscale = list(reversed(hpalette_g)),\n",
    "                    #width = 6,\n",
    "                    #width = 3, \n",
    "                   ),\n",
    "        dimensions = list(\n",
    "            [\n",
    "                dict(range = [0, dfshow['species_id'].max()],\n",
    "                     label = 'Species', values = dfshow['species_id'], tickvals =dfshow['species_id'], ticktext = dfshow['Species_short'])\n",
    "            ] + [\n",
    "                dict(range = [0, dfshow[c].max()],\n",
    "                     label = l, values = dfshow[c]) for c,l in zip(exocols, exo_cols_labels)\n",
    "            ]\n",
    "        )\n",
    "    )\n",
    ")\n",
    "\n",
    "fig.update_layout(\n",
    "    plot_bgcolor = 'white',\n",
    "    paper_bgcolor = 'white',\n",
    "    width=1200,   #  Set desired width in pixels\n",
    "    height=600,  #  Set desired height in pixels\n",
    ")\n",
    "\n",
    "fig.show()"
   ]
  },
  {
   "cell_type": "code",
   "execution_count": 51,
   "id": "4884360e-dcfe-4ab0-8ef9-b6a398447b95",
   "metadata": {},
   "outputs": [
    {
     "data": {
      "text/plain": [
       "species_id                                                     int64\n",
       "Coculture Outcome                                             object\n",
       "Species                                                       object\n",
       "Predicted extracellular enzymes                                int64\n",
       "Predicted extracellular proteolytic enzymes                    int64\n",
       "Total proteolytic enzymes                                      int64\n",
       "Predicted extracellular ROS enzymes                            int64\n",
       "Total ROS enzymes                                              int64\n",
       "Avg Leucine aminopeptidase (fmole product cell-1 h-1)        float64\n",
       "Avg Tryipsin-like (fmole product cell-1 h-1)                 float64\n",
       "Avg Chemotrypsin-like activity (fmole product cell-1 h-1)    float64\n",
       "Avg H2O2 degradation rate (fmoles cell-1 h-1)                float64\n",
       "color                                                         object\n",
       "dtype: object"
      ]
     },
     "execution_count": 51,
     "metadata": {},
     "output_type": "execute_result"
    }
   ],
   "source": [
    "dfshow.dtypes"
   ]
  },
  {
   "cell_type": "code",
   "execution_count": 52,
   "id": "175034e2-89c6-46c6-9e0f-6b193f0b9966",
   "metadata": {},
   "outputs": [],
   "source": [
    "from sklearn.preprocessing import MinMaxScaler\n",
    "\n",
    "scaler = MinMaxScaler()\n",
    "df_scaled = dfshow.copy()\n",
    "df_scaled[cols] = scaler.fit_transform(dfshow[cols])"
   ]
  },
  {
   "cell_type": "code",
   "execution_count": 56,
   "id": "416b18e8-8bfa-4bfc-8579-4bcc3727e0c3",
   "metadata": {},
   "outputs": [
    {
     "data": {
      "application/vnd.plotly.v1+json": {
       "config": {
        "plotlyServerURL": "https://plot.ly"
       },
       "data": [
        {
         "hoverinfo": "text",
         "hovertext": [
          "species_id: 7.00",
          "Predicted extracellular proteolytic enzymes: 10.00",
          "Predicted extracellular ROS enzymes: 5.00",
          "Avg Leucine aminopeptidase (fmole product cell-1 h-1): 0.35",
          "Avg Tryipsin-like (fmole product cell-1 h-1): 0.01",
          "Avg Chemotrypsin-like activity (fmole product cell-1 h-1): 0.03",
          "Avg H2O2 degradation rate (fmoles cell-1 h-1): 0.07"
         ],
         "line": {
          "color": "#882255",
          "width": 4
         },
         "marker": {
          "color": "#882255",
          "size": 8,
          "symbol": "circle"
         },
         "mode": "lines+markers",
         "name": "Species 7",
         "type": "scatter",
         "x": [
          0,
          1,
          2,
          3,
          4,
          5,
          6
         ],
         "y": [
          1,
          0.33333333333333326,
          1,
          1,
          0.3893633074521222,
          1,
          0.44150376526659224
         ]
        },
        {
         "hoverinfo": "text",
         "hovertext": [
          "species_id: 6.00",
          "Predicted extracellular proteolytic enzymes: 18.00",
          "Predicted extracellular ROS enzymes: 4.00",
          "Avg Leucine aminopeptidase (fmole product cell-1 h-1): 0.24",
          "Avg Tryipsin-like (fmole product cell-1 h-1): 0.01",
          "Avg Chemotrypsin-like activity (fmole product cell-1 h-1): 0.01",
          "Avg H2O2 degradation rate (fmoles cell-1 h-1): 0.06"
         ],
         "line": {
          "color": "#882255",
          "width": 4
         },
         "marker": {
          "color": "#882255",
          "size": 8,
          "symbol": "circle"
         },
         "mode": "lines+markers",
         "name": "Species 6",
         "type": "scatter",
         "x": [
          0,
          1,
          2,
          3,
          4,
          5,
          6
         ],
         "y": [
          0.8571428571428571,
          1,
          0.75,
          0.6692689354579426,
          0.21485065028433942,
          0.19477742744434373,
          0.3499776291070473
         ]
        },
        {
         "hoverinfo": "text",
         "hovertext": [
          "species_id: 5.00",
          "Predicted extracellular proteolytic enzymes: 6.00",
          "Predicted extracellular ROS enzymes: 3.00",
          "Avg Leucine aminopeptidase (fmole product cell-1 h-1): 0.03",
          "Avg Tryipsin-like (fmole product cell-1 h-1): 0.00",
          "Avg Chemotrypsin-like activity (fmole product cell-1 h-1): 0.00",
          "Avg H2O2 degradation rate (fmoles cell-1 h-1): 0.01"
         ],
         "line": {
          "color": "#CC6677",
          "width": 4
         },
         "marker": {
          "color": "#CC6677",
          "size": 8,
          "symbol": "circle"
         },
         "mode": "lines+markers",
         "name": "Species 5",
         "type": "scatter",
         "x": [
          0,
          1,
          2,
          3,
          4,
          5,
          6
         ],
         "y": [
          0.7142857142857142,
          0,
          0.5,
          0.08541880906844139,
          0,
          0,
          0.02496933912313795
         ]
        },
        {
         "hoverinfo": "text",
         "hovertext": [
          "species_id: 4.00",
          "Predicted extracellular proteolytic enzymes: 8.00",
          "Predicted extracellular ROS enzymes: 5.00",
          "Avg Leucine aminopeptidase (fmole product cell-1 h-1): 0.00",
          "Avg Tryipsin-like (fmole product cell-1 h-1): 0.00",
          "Avg Chemotrypsin-like activity (fmole product cell-1 h-1): 0.00",
          "Avg H2O2 degradation rate (fmoles cell-1 h-1): 0.01"
         ],
         "line": {
          "color": "#CC6677",
          "width": 4
         },
         "marker": {
          "color": "#CC6677",
          "size": 8,
          "symbol": "circle"
         },
         "mode": "lines+markers",
         "name": "Species 4",
         "type": "scatter",
         "x": [
          0,
          1,
          2,
          3,
          4,
          5,
          6
         ],
         "y": [
          0.5714285714285714,
          0.16666666666666663,
          1,
          0,
          0,
          0,
          0.008380548337268062
         ]
        },
        {
         "hoverinfo": "text",
         "hovertext": [
          "species_id: 3.00",
          "Predicted extracellular proteolytic enzymes: 7.00",
          "Predicted extracellular ROS enzymes: 1.00",
          "Avg Leucine aminopeptidase (fmole product cell-1 h-1): 0.01",
          "Avg Tryipsin-like (fmole product cell-1 h-1): 0.03",
          "Avg Chemotrypsin-like activity (fmole product cell-1 h-1): 0.00",
          "Avg H2O2 degradation rate (fmoles cell-1 h-1): 0.03"
         ],
         "line": {
          "color": "#44AA99",
          "width": 4
         },
         "marker": {
          "color": "#44AA99",
          "size": 8,
          "symbol": "circle"
         },
         "mode": "lines+markers",
         "name": "Species 3",
         "type": "scatter",
         "x": [
          0,
          1,
          2,
          3,
          4,
          5,
          6
         ],
         "y": [
          0.42857142857142855,
          0.08333333333333326,
          0,
          0.02016917301477197,
          1,
          0,
          0.13039365093928162
         ]
        },
        {
         "hoverinfo": "text",
         "hovertext": [
          "species_id: 2.00",
          "Predicted extracellular proteolytic enzymes: 7.00",
          "Predicted extracellular ROS enzymes: 3.00",
          "Avg Leucine aminopeptidase (fmole product cell-1 h-1): 0.01",
          "Avg Tryipsin-like (fmole product cell-1 h-1): 0.00",
          "Avg Chemotrypsin-like activity (fmole product cell-1 h-1): 0.00",
          "Avg H2O2 degradation rate (fmoles cell-1 h-1): 0.01"
         ],
         "line": {
          "color": "#44AA99",
          "width": 4
         },
         "marker": {
          "color": "#44AA99",
          "size": 8,
          "symbol": "circle"
         },
         "mode": "lines+markers",
         "name": "Species 2",
         "type": "scatter",
         "x": [
          0,
          1,
          2,
          3,
          4,
          5,
          6
         ],
         "y": [
          0.2857142857142857,
          0.08333333333333326,
          0.5,
          0.0367472218030263,
          0,
          0,
          0
         ]
        },
        {
         "hoverinfo": "text",
         "hovertext": [
          "species_id: 1.00",
          "Predicted extracellular proteolytic enzymes: 7.00",
          "Predicted extracellular ROS enzymes: 2.00",
          "Avg Leucine aminopeptidase (fmole product cell-1 h-1): 0.02",
          "Avg Tryipsin-like (fmole product cell-1 h-1): 0.00",
          "Avg Chemotrypsin-like activity (fmole product cell-1 h-1): 0.00",
          "Avg H2O2 degradation rate (fmoles cell-1 h-1): 0.01"
         ],
         "line": {
          "color": "#332288",
          "width": 4
         },
         "marker": {
          "color": "#332288",
          "size": 8,
          "symbol": "circle"
         },
         "mode": "lines+markers",
         "name": "Species 1",
         "type": "scatter",
         "x": [
          0,
          1,
          2,
          3,
          4,
          5,
          6
         ],
         "y": [
          0.14285714285714285,
          0.08333333333333326,
          0.25,
          0.04551823586268082,
          0,
          0,
          0.02300521424219064
         ]
        },
        {
         "hoverinfo": "text",
         "hovertext": [
          "species_id: 0.00",
          "Predicted extracellular proteolytic enzymes: 6.00",
          "Predicted extracellular ROS enzymes: 4.00",
          "Avg Leucine aminopeptidase (fmole product cell-1 h-1): 0.12",
          "Avg Tryipsin-like (fmole product cell-1 h-1): 0.00",
          "Avg Chemotrypsin-like activity (fmole product cell-1 h-1): 0.01",
          "Avg H2O2 degradation rate (fmoles cell-1 h-1): 0.16"
         ],
         "line": {
          "color": "#332288",
          "width": 4
         },
         "marker": {
          "color": "#332288",
          "size": 8,
          "symbol": "circle"
         },
         "mode": "lines+markers",
         "name": "Species 0",
         "type": "scatter",
         "x": [
          0,
          1,
          2,
          3,
          4,
          5,
          6
         ],
         "y": [
          0,
          0,
          0.75,
          0.3332318216594378,
          0,
          0.28550047348201957,
          1
         ]
        }
       ],
       "layout": {
        "autosize": true,
        "legend": {
         "title": {
          "text": "Species"
         }
        },
        "template": {
         "data": {
          "bar": [
           {
            "error_x": {
             "color": "#2a3f5f"
            },
            "error_y": {
             "color": "#2a3f5f"
            },
            "marker": {
             "line": {
              "color": "white",
              "width": 0.5
             },
             "pattern": {
              "fillmode": "overlay",
              "size": 10,
              "solidity": 0.2
             }
            },
            "type": "bar"
           }
          ],
          "barpolar": [
           {
            "marker": {
             "line": {
              "color": "white",
              "width": 0.5
             },
             "pattern": {
              "fillmode": "overlay",
              "size": 10,
              "solidity": 0.2
             }
            },
            "type": "barpolar"
           }
          ],
          "carpet": [
           {
            "aaxis": {
             "endlinecolor": "#2a3f5f",
             "gridcolor": "#C8D4E3",
             "linecolor": "#C8D4E3",
             "minorgridcolor": "#C8D4E3",
             "startlinecolor": "#2a3f5f"
            },
            "baxis": {
             "endlinecolor": "#2a3f5f",
             "gridcolor": "#C8D4E3",
             "linecolor": "#C8D4E3",
             "minorgridcolor": "#C8D4E3",
             "startlinecolor": "#2a3f5f"
            },
            "type": "carpet"
           }
          ],
          "choropleth": [
           {
            "colorbar": {
             "outlinewidth": 0,
             "ticks": ""
            },
            "type": "choropleth"
           }
          ],
          "contour": [
           {
            "colorbar": {
             "outlinewidth": 0,
             "ticks": ""
            },
            "colorscale": [
             [
              0,
              "#0d0887"
             ],
             [
              0.1111111111111111,
              "#46039f"
             ],
             [
              0.2222222222222222,
              "#7201a8"
             ],
             [
              0.3333333333333333,
              "#9c179e"
             ],
             [
              0.4444444444444444,
              "#bd3786"
             ],
             [
              0.5555555555555556,
              "#d8576b"
             ],
             [
              0.6666666666666666,
              "#ed7953"
             ],
             [
              0.7777777777777778,
              "#fb9f3a"
             ],
             [
              0.8888888888888888,
              "#fdca26"
             ],
             [
              1,
              "#f0f921"
             ]
            ],
            "type": "contour"
           }
          ],
          "contourcarpet": [
           {
            "colorbar": {
             "outlinewidth": 0,
             "ticks": ""
            },
            "type": "contourcarpet"
           }
          ],
          "heatmap": [
           {
            "colorbar": {
             "outlinewidth": 0,
             "ticks": ""
            },
            "colorscale": [
             [
              0,
              "#0d0887"
             ],
             [
              0.1111111111111111,
              "#46039f"
             ],
             [
              0.2222222222222222,
              "#7201a8"
             ],
             [
              0.3333333333333333,
              "#9c179e"
             ],
             [
              0.4444444444444444,
              "#bd3786"
             ],
             [
              0.5555555555555556,
              "#d8576b"
             ],
             [
              0.6666666666666666,
              "#ed7953"
             ],
             [
              0.7777777777777778,
              "#fb9f3a"
             ],
             [
              0.8888888888888888,
              "#fdca26"
             ],
             [
              1,
              "#f0f921"
             ]
            ],
            "type": "heatmap"
           }
          ],
          "heatmapgl": [
           {
            "colorbar": {
             "outlinewidth": 0,
             "ticks": ""
            },
            "colorscale": [
             [
              0,
              "#0d0887"
             ],
             [
              0.1111111111111111,
              "#46039f"
             ],
             [
              0.2222222222222222,
              "#7201a8"
             ],
             [
              0.3333333333333333,
              "#9c179e"
             ],
             [
              0.4444444444444444,
              "#bd3786"
             ],
             [
              0.5555555555555556,
              "#d8576b"
             ],
             [
              0.6666666666666666,
              "#ed7953"
             ],
             [
              0.7777777777777778,
              "#fb9f3a"
             ],
             [
              0.8888888888888888,
              "#fdca26"
             ],
             [
              1,
              "#f0f921"
             ]
            ],
            "type": "heatmapgl"
           }
          ],
          "histogram": [
           {
            "marker": {
             "pattern": {
              "fillmode": "overlay",
              "size": 10,
              "solidity": 0.2
             }
            },
            "type": "histogram"
           }
          ],
          "histogram2d": [
           {
            "colorbar": {
             "outlinewidth": 0,
             "ticks": ""
            },
            "colorscale": [
             [
              0,
              "#0d0887"
             ],
             [
              0.1111111111111111,
              "#46039f"
             ],
             [
              0.2222222222222222,
              "#7201a8"
             ],
             [
              0.3333333333333333,
              "#9c179e"
             ],
             [
              0.4444444444444444,
              "#bd3786"
             ],
             [
              0.5555555555555556,
              "#d8576b"
             ],
             [
              0.6666666666666666,
              "#ed7953"
             ],
             [
              0.7777777777777778,
              "#fb9f3a"
             ],
             [
              0.8888888888888888,
              "#fdca26"
             ],
             [
              1,
              "#f0f921"
             ]
            ],
            "type": "histogram2d"
           }
          ],
          "histogram2dcontour": [
           {
            "colorbar": {
             "outlinewidth": 0,
             "ticks": ""
            },
            "colorscale": [
             [
              0,
              "#0d0887"
             ],
             [
              0.1111111111111111,
              "#46039f"
             ],
             [
              0.2222222222222222,
              "#7201a8"
             ],
             [
              0.3333333333333333,
              "#9c179e"
             ],
             [
              0.4444444444444444,
              "#bd3786"
             ],
             [
              0.5555555555555556,
              "#d8576b"
             ],
             [
              0.6666666666666666,
              "#ed7953"
             ],
             [
              0.7777777777777778,
              "#fb9f3a"
             ],
             [
              0.8888888888888888,
              "#fdca26"
             ],
             [
              1,
              "#f0f921"
             ]
            ],
            "type": "histogram2dcontour"
           }
          ],
          "mesh3d": [
           {
            "colorbar": {
             "outlinewidth": 0,
             "ticks": ""
            },
            "type": "mesh3d"
           }
          ],
          "parcoords": [
           {
            "line": {
             "colorbar": {
              "outlinewidth": 0,
              "ticks": ""
             }
            },
            "type": "parcoords"
           }
          ],
          "pie": [
           {
            "automargin": true,
            "type": "pie"
           }
          ],
          "scatter": [
           {
            "fillpattern": {
             "fillmode": "overlay",
             "size": 10,
             "solidity": 0.2
            },
            "type": "scatter"
           }
          ],
          "scatter3d": [
           {
            "line": {
             "colorbar": {
              "outlinewidth": 0,
              "ticks": ""
             }
            },
            "marker": {
             "colorbar": {
              "outlinewidth": 0,
              "ticks": ""
             }
            },
            "type": "scatter3d"
           }
          ],
          "scattercarpet": [
           {
            "marker": {
             "colorbar": {
              "outlinewidth": 0,
              "ticks": ""
             }
            },
            "type": "scattercarpet"
           }
          ],
          "scattergeo": [
           {
            "marker": {
             "colorbar": {
              "outlinewidth": 0,
              "ticks": ""
             }
            },
            "type": "scattergeo"
           }
          ],
          "scattergl": [
           {
            "marker": {
             "colorbar": {
              "outlinewidth": 0,
              "ticks": ""
             }
            },
            "type": "scattergl"
           }
          ],
          "scattermapbox": [
           {
            "marker": {
             "colorbar": {
              "outlinewidth": 0,
              "ticks": ""
             }
            },
            "type": "scattermapbox"
           }
          ],
          "scatterpolar": [
           {
            "marker": {
             "colorbar": {
              "outlinewidth": 0,
              "ticks": ""
             }
            },
            "type": "scatterpolar"
           }
          ],
          "scatterpolargl": [
           {
            "marker": {
             "colorbar": {
              "outlinewidth": 0,
              "ticks": ""
             }
            },
            "type": "scatterpolargl"
           }
          ],
          "scatterternary": [
           {
            "marker": {
             "colorbar": {
              "outlinewidth": 0,
              "ticks": ""
             }
            },
            "type": "scatterternary"
           }
          ],
          "surface": [
           {
            "colorbar": {
             "outlinewidth": 0,
             "ticks": ""
            },
            "colorscale": [
             [
              0,
              "#0d0887"
             ],
             [
              0.1111111111111111,
              "#46039f"
             ],
             [
              0.2222222222222222,
              "#7201a8"
             ],
             [
              0.3333333333333333,
              "#9c179e"
             ],
             [
              0.4444444444444444,
              "#bd3786"
             ],
             [
              0.5555555555555556,
              "#d8576b"
             ],
             [
              0.6666666666666666,
              "#ed7953"
             ],
             [
              0.7777777777777778,
              "#fb9f3a"
             ],
             [
              0.8888888888888888,
              "#fdca26"
             ],
             [
              1,
              "#f0f921"
             ]
            ],
            "type": "surface"
           }
          ],
          "table": [
           {
            "cells": {
             "fill": {
              "color": "#EBF0F8"
             },
             "line": {
              "color": "white"
             }
            },
            "header": {
             "fill": {
              "color": "#C8D4E3"
             },
             "line": {
              "color": "white"
             }
            },
            "type": "table"
           }
          ]
         },
         "layout": {
          "annotationdefaults": {
           "arrowcolor": "#2a3f5f",
           "arrowhead": 0,
           "arrowwidth": 1
          },
          "autotypenumbers": "strict",
          "coloraxis": {
           "colorbar": {
            "outlinewidth": 0,
            "ticks": ""
           }
          },
          "colorscale": {
           "diverging": [
            [
             0,
             "#8e0152"
            ],
            [
             0.1,
             "#c51b7d"
            ],
            [
             0.2,
             "#de77ae"
            ],
            [
             0.3,
             "#f1b6da"
            ],
            [
             0.4,
             "#fde0ef"
            ],
            [
             0.5,
             "#f7f7f7"
            ],
            [
             0.6,
             "#e6f5d0"
            ],
            [
             0.7,
             "#b8e186"
            ],
            [
             0.8,
             "#7fbc41"
            ],
            [
             0.9,
             "#4d9221"
            ],
            [
             1,
             "#276419"
            ]
           ],
           "sequential": [
            [
             0,
             "#0d0887"
            ],
            [
             0.1111111111111111,
             "#46039f"
            ],
            [
             0.2222222222222222,
             "#7201a8"
            ],
            [
             0.3333333333333333,
             "#9c179e"
            ],
            [
             0.4444444444444444,
             "#bd3786"
            ],
            [
             0.5555555555555556,
             "#d8576b"
            ],
            [
             0.6666666666666666,
             "#ed7953"
            ],
            [
             0.7777777777777778,
             "#fb9f3a"
            ],
            [
             0.8888888888888888,
             "#fdca26"
            ],
            [
             1,
             "#f0f921"
            ]
           ],
           "sequentialminus": [
            [
             0,
             "#0d0887"
            ],
            [
             0.1111111111111111,
             "#46039f"
            ],
            [
             0.2222222222222222,
             "#7201a8"
            ],
            [
             0.3333333333333333,
             "#9c179e"
            ],
            [
             0.4444444444444444,
             "#bd3786"
            ],
            [
             0.5555555555555556,
             "#d8576b"
            ],
            [
             0.6666666666666666,
             "#ed7953"
            ],
            [
             0.7777777777777778,
             "#fb9f3a"
            ],
            [
             0.8888888888888888,
             "#fdca26"
            ],
            [
             1,
             "#f0f921"
            ]
           ]
          },
          "colorway": [
           "#636efa",
           "#EF553B",
           "#00cc96",
           "#ab63fa",
           "#FFA15A",
           "#19d3f3",
           "#FF6692",
           "#B6E880",
           "#FF97FF",
           "#FECB52"
          ],
          "font": {
           "color": "#2a3f5f"
          },
          "geo": {
           "bgcolor": "white",
           "lakecolor": "white",
           "landcolor": "white",
           "showlakes": true,
           "showland": true,
           "subunitcolor": "#C8D4E3"
          },
          "hoverlabel": {
           "align": "left"
          },
          "hovermode": "closest",
          "mapbox": {
           "style": "light"
          },
          "paper_bgcolor": "white",
          "plot_bgcolor": "white",
          "polar": {
           "angularaxis": {
            "gridcolor": "#EBF0F8",
            "linecolor": "#EBF0F8",
            "ticks": ""
           },
           "bgcolor": "white",
           "radialaxis": {
            "gridcolor": "#EBF0F8",
            "linecolor": "#EBF0F8",
            "ticks": ""
           }
          },
          "scene": {
           "xaxis": {
            "backgroundcolor": "white",
            "gridcolor": "#DFE8F3",
            "gridwidth": 2,
            "linecolor": "#EBF0F8",
            "showbackground": true,
            "ticks": "",
            "zerolinecolor": "#EBF0F8"
           },
           "yaxis": {
            "backgroundcolor": "white",
            "gridcolor": "#DFE8F3",
            "gridwidth": 2,
            "linecolor": "#EBF0F8",
            "showbackground": true,
            "ticks": "",
            "zerolinecolor": "#EBF0F8"
           },
           "zaxis": {
            "backgroundcolor": "white",
            "gridcolor": "#DFE8F3",
            "gridwidth": 2,
            "linecolor": "#EBF0F8",
            "showbackground": true,
            "ticks": "",
            "zerolinecolor": "#EBF0F8"
           }
          },
          "shapedefaults": {
           "line": {
            "color": "#2a3f5f"
           }
          },
          "ternary": {
           "aaxis": {
            "gridcolor": "#DFE8F3",
            "linecolor": "#A2B1C6",
            "ticks": ""
           },
           "baxis": {
            "gridcolor": "#DFE8F3",
            "linecolor": "#A2B1C6",
            "ticks": ""
           },
           "bgcolor": "white",
           "caxis": {
            "gridcolor": "#DFE8F3",
            "linecolor": "#A2B1C6",
            "ticks": ""
           }
          },
          "title": {
           "x": 0.05
          },
          "xaxis": {
           "automargin": true,
           "gridcolor": "#EBF0F8",
           "linecolor": "#EBF0F8",
           "ticks": "",
           "title": {
            "standoff": 15
           },
           "zerolinecolor": "#EBF0F8",
           "zerolinewidth": 2
          },
          "yaxis": {
           "automargin": true,
           "gridcolor": "#EBF0F8",
           "linecolor": "#EBF0F8",
           "ticks": "",
           "title": {
            "standoff": 15
           },
           "zerolinecolor": "#EBF0F8",
           "zerolinewidth": 2
          }
         }
        },
        "title": {
         "text": "Scaled Parallel Coordinates with Custom Lines"
        },
        "xaxis": {
         "autorange": true,
         "range": [
          -0.3748598480129563,
          6.374859848012957
         ],
         "tickmode": "array",
         "ticktext": [
          "Species",
          "proteolytic enzymes",
          "ROS enzymes",
          "Leucine aminopeptidase",
          "Tryipsin-like",
          "Chemotrypsin-like",
          "H2O2 degradation"
         ],
         "tickvals": [
          0,
          1,
          2,
          3,
          4,
          5,
          6
         ],
         "title": {
          "text": "Dimensions"
         },
         "type": "linear"
        },
        "yaxis": {
         "autorange": true,
         "range": [
          -0.09210526315789473,
          1.0921052631578947
         ],
         "title": {
          "text": "Scaled Values"
         },
         "type": "linear"
        }
       }
      },
      "image/png": "[encoded data removed]",
      "text/html": [
       "<div>                            <div id=\"5fb8b1df-70c7-482c-ab43-a8d790508c53\" class=\"plotly-graph-div\" style=\"height:525px; width:100%;\"></div>            <script type=\"text/javascript\">                require([\"plotly\"], function(Plotly) {                    window.PLOTLYENV=window.PLOTLYENV || {};                                    if (document.getElementById(\"5fb8b1df-70c7-482c-ab43-a8d790508c53\")) {                    Plotly.newPlot(                        \"5fb8b1df-70c7-482c-ab43-a8d790508c53\",                        [{\"hoverinfo\":\"text\",\"hovertext\":[\"species_id: 7.00\",\"Predicted extracellular proteolytic enzymes: 10.00\",\"Predicted extracellular ROS enzymes: 5.00\",\"Avg Leucine aminopeptidase (fmole product cell-1 h-1): 0.35\",\"Avg Tryipsin-like (fmole product cell-1 h-1): 0.01\",\"Avg Chemotrypsin-like activity (fmole product cell-1 h-1): 0.03\",\"Avg H2O2 degradation rate (fmoles cell-1 h-1): 0.07\"],\"line\":{\"color\":\"#882255\",\"width\":4},\"marker\":{\"color\":\"#882255\",\"size\":8,\"symbol\":\"circle\"},\"mode\":\"lines+markers\",\"name\":\"Species 7\",\"x\":[0,1,2,3,4,5,6],\"y\":[1.0,0.33333333333333326,1.0,1.0,0.3893633074521222,1.0,0.44150376526659224],\"type\":\"scatter\"},{\"hoverinfo\":\"text\",\"hovertext\":[\"species_id: 6.00\",\"Predicted extracellular proteolytic enzymes: 18.00\",\"Predicted extracellular ROS enzymes: 4.00\",\"Avg Leucine aminopeptidase (fmole product cell-1 h-1): 0.24\",\"Avg Tryipsin-like (fmole product cell-1 h-1): 0.01\",\"Avg Chemotrypsin-like activity (fmole product cell-1 h-1): 0.01\",\"Avg H2O2 degradation rate (fmoles cell-1 h-1): 0.06\"],\"line\":{\"color\":\"#882255\",\"width\":4},\"marker\":{\"color\":\"#882255\",\"size\":8,\"symbol\":\"circle\"},\"mode\":\"lines+markers\",\"name\":\"Species 6\",\"x\":[0,1,2,3,4,5,6],\"y\":[0.8571428571428571,1.0,0.75,0.6692689354579426,0.21485065028433942,0.19477742744434373,0.3499776291070473],\"type\":\"scatter\"},{\"hoverinfo\":\"text\",\"hovertext\":[\"species_id: 5.00\",\"Predicted extracellular proteolytic enzymes: 6.00\",\"Predicted extracellular ROS enzymes: 3.00\",\"Avg Leucine aminopeptidase (fmole product cell-1 h-1): 0.03\",\"Avg Tryipsin-like (fmole product cell-1 h-1): 0.00\",\"Avg Chemotrypsin-like activity (fmole product cell-1 h-1): 0.00\",\"Avg H2O2 degradation rate (fmoles cell-1 h-1): 0.01\"],\"line\":{\"color\":\"#CC6677\",\"width\":4},\"marker\":{\"color\":\"#CC6677\",\"size\":8,\"symbol\":\"circle\"},\"mode\":\"lines+markers\",\"name\":\"Species 5\",\"x\":[0,1,2,3,4,5,6],\"y\":[0.7142857142857142,0.0,0.5,0.08541880906844139,0.0,0.0,0.02496933912313795],\"type\":\"scatter\"},{\"hoverinfo\":\"text\",\"hovertext\":[\"species_id: 4.00\",\"Predicted extracellular proteolytic enzymes: 8.00\",\"Predicted extracellular ROS enzymes: 5.00\",\"Avg Leucine aminopeptidase (fmole product cell-1 h-1): 0.00\",\"Avg Tryipsin-like (fmole product cell-1 h-1): 0.00\",\"Avg Chemotrypsin-like activity (fmole product cell-1 h-1): 0.00\",\"Avg H2O2 degradation rate (fmoles cell-1 h-1): 0.01\"],\"line\":{\"color\":\"#CC6677\",\"width\":4},\"marker\":{\"color\":\"#CC6677\",\"size\":8,\"symbol\":\"circle\"},\"mode\":\"lines+markers\",\"name\":\"Species 4\",\"x\":[0,1,2,3,4,5,6],\"y\":[0.5714285714285714,0.16666666666666663,1.0,0.0,0.0,0.0,0.008380548337268062],\"type\":\"scatter\"},{\"hoverinfo\":\"text\",\"hovertext\":[\"species_id: 3.00\",\"Predicted extracellular proteolytic enzymes: 7.00\",\"Predicted extracellular ROS enzymes: 1.00\",\"Avg Leucine aminopeptidase (fmole product cell-1 h-1): 0.01\",\"Avg Tryipsin-like (fmole product cell-1 h-1): 0.03\",\"Avg Chemotrypsin-like activity (fmole product cell-1 h-1): 0.00\",\"Avg H2O2 degradation rate (fmoles cell-1 h-1): 0.03\"],\"line\":{\"color\":\"#44AA99\",\"width\":4},\"marker\":{\"color\":\"#44AA99\",\"size\":8,\"symbol\":\"circle\"},\"mode\":\"lines+markers\",\"name\":\"Species 3\",\"x\":[0,1,2,3,4,5,6],\"y\":[0.42857142857142855,0.08333333333333326,0.0,0.02016917301477197,1.0,0.0,0.13039365093928162],\"type\":\"scatter\"},{\"hoverinfo\":\"text\",\"hovertext\":[\"species_id: 2.00\",\"Predicted extracellular proteolytic enzymes: 7.00\",\"Predicted extracellular ROS enzymes: 3.00\",\"Avg Leucine aminopeptidase (fmole product cell-1 h-1): 0.01\",\"Avg Tryipsin-like (fmole product cell-1 h-1): 0.00\",\"Avg Chemotrypsin-like activity (fmole product cell-1 h-1): 0.00\",\"Avg H2O2 degradation rate (fmoles cell-1 h-1): 0.01\"],\"line\":{\"color\":\"#44AA99\",\"width\":4},\"marker\":{\"color\":\"#44AA99\",\"size\":8,\"symbol\":\"circle\"},\"mode\":\"lines+markers\",\"name\":\"Species 2\",\"x\":[0,1,2,3,4,5,6],\"y\":[0.2857142857142857,0.08333333333333326,0.5,0.0367472218030263,0.0,0.0,0.0],\"type\":\"scatter\"},{\"hoverinfo\":\"text\",\"hovertext\":[\"species_id: 1.00\",\"Predicted extracellular proteolytic enzymes: 7.00\",\"Predicted extracellular ROS enzymes: 2.00\",\"Avg Leucine aminopeptidase (fmole product cell-1 h-1): 0.02\",\"Avg Tryipsin-like (fmole product cell-1 h-1): 0.00\",\"Avg Chemotrypsin-like activity (fmole product cell-1 h-1): 0.00\",\"Avg H2O2 degradation rate (fmoles cell-1 h-1): 0.01\"],\"line\":{\"color\":\"#332288\",\"width\":4},\"marker\":{\"color\":\"#332288\",\"size\":8,\"symbol\":\"circle\"},\"mode\":\"lines+markers\",\"name\":\"Species 1\",\"x\":[0,1,2,3,4,5,6],\"y\":[0.14285714285714285,0.08333333333333326,0.25,0.04551823586268082,0.0,0.0,0.02300521424219064],\"type\":\"scatter\"},{\"hoverinfo\":\"text\",\"hovertext\":[\"species_id: 0.00\",\"Predicted extracellular proteolytic enzymes: 6.00\",\"Predicted extracellular ROS enzymes: 4.00\",\"Avg Leucine aminopeptidase (fmole product cell-1 h-1): 0.12\",\"Avg Tryipsin-like (fmole product cell-1 h-1): 0.00\",\"Avg Chemotrypsin-like activity (fmole product cell-1 h-1): 0.01\",\"Avg H2O2 degradation rate (fmoles cell-1 h-1): 0.16\"],\"line\":{\"color\":\"#332288\",\"width\":4},\"marker\":{\"color\":\"#332288\",\"size\":8,\"symbol\":\"circle\"},\"mode\":\"lines+markers\",\"name\":\"Species 0\",\"x\":[0,1,2,3,4,5,6],\"y\":[0.0,0.0,0.75,0.3332318216594378,0.0,0.28550047348201957,1.0],\"type\":\"scatter\"}],                        {\"template\":{\"data\":{\"barpolar\":[{\"marker\":{\"line\":{\"color\":\"white\",\"width\":0.5},\"pattern\":{\"fillmode\":\"overlay\",\"size\":10,\"solidity\":0.2}},\"type\":\"barpolar\"}],\"bar\":[{\"error_x\":{\"color\":\"#2a3f5f\"},\"error_y\":{\"color\":\"#2a3f5f\"},\"marker\":{\"line\":{\"color\":\"white\",\"width\":0.5},\"pattern\":{\"fillmode\":\"overlay\",\"size\":10,\"solidity\":0.2}},\"type\":\"bar\"}],\"carpet\":[{\"aaxis\":{\"endlinecolor\":\"#2a3f5f\",\"gridcolor\":\"#C8D4E3\",\"linecolor\":\"#C8D4E3\",\"minorgridcolor\":\"#C8D4E3\",\"startlinecolor\":\"#2a3f5f\"},\"baxis\":{\"endlinecolor\":\"#2a3f5f\",\"gridcolor\":\"#C8D4E3\",\"linecolor\":\"#C8D4E3\",\"minorgridcolor\":\"#C8D4E3\",\"startlinecolor\":\"#2a3f5f\"},\"type\":\"carpet\"}],\"choropleth\":[{\"colorbar\":{\"outlinewidth\":0,\"ticks\":\"\"},\"type\":\"choropleth\"}],\"contourcarpet\":[{\"colorbar\":{\"outlinewidth\":0,\"ticks\":\"\"},\"type\":\"contourcarpet\"}],\"contour\":[{\"colorbar\":{\"outlinewidth\":0,\"ticks\":\"\"},\"colorscale\":[[0.0,\"#0d0887\"],[0.1111111111111111,\"#46039f\"],[0.2222222222222222,\"#7201a8\"],[0.3333333333333333,\"#9c179e\"],[0.4444444444444444,\"#bd3786\"],[0.5555555555555556,\"#d8576b\"],[0.6666666666666666,\"#ed7953\"],[0.7777777777777778,\"#fb9f3a\"],[0.8888888888888888,\"#fdca26\"],[1.0,\"#f0f921\"]],\"type\":\"contour\"}],\"heatmapgl\":[{\"colorbar\":{\"outlinewidth\":0,\"ticks\":\"\"},\"colorscale\":[[0.0,\"#0d0887\"],[0.1111111111111111,\"#46039f\"],[0.2222222222222222,\"#7201a8\"],[0.3333333333333333,\"#9c179e\"],[0.4444444444444444,\"#bd3786\"],[0.5555555555555556,\"#d8576b\"],[0.6666666666666666,\"#ed7953\"],[0.7777777777777778,\"#fb9f3a\"],[0.8888888888888888,\"#fdca26\"],[1.0,\"#f0f921\"]],\"type\":\"heatmapgl\"}],\"heatmap\":[{\"colorbar\":{\"outlinewidth\":0,\"ticks\":\"\"},\"colorscale\":[[0.0,\"#0d0887\"],[0.1111111111111111,\"#46039f\"],[0.2222222222222222,\"#7201a8\"],[0.3333333333333333,\"#9c179e\"],[0.4444444444444444,\"#bd3786\"],[0.5555555555555556,\"#d8576b\"],[0.6666666666666666,\"#ed7953\"],[0.7777777777777778,\"#fb9f3a\"],[0.8888888888888888,\"#fdca26\"],[1.0,\"#f0f921\"]],\"type\":\"heatmap\"}],\"histogram2dcontour\":[{\"colorbar\":{\"outlinewidth\":0,\"ticks\":\"\"},\"colorscale\":[[0.0,\"#0d0887\"],[0.1111111111111111,\"#46039f\"],[0.2222222222222222,\"#7201a8\"],[0.3333333333333333,\"#9c179e\"],[0.4444444444444444,\"#bd3786\"],[0.5555555555555556,\"#d8576b\"],[0.6666666666666666,\"#ed7953\"],[0.7777777777777778,\"#fb9f3a\"],[0.8888888888888888,\"#fdca26\"],[1.0,\"#f0f921\"]],\"type\":\"histogram2dcontour\"}],\"histogram2d\":[{\"colorbar\":{\"outlinewidth\":0,\"ticks\":\"\"},\"colorscale\":[[0.0,\"#0d0887\"],[0.1111111111111111,\"#46039f\"],[0.2222222222222222,\"#7201a8\"],[0.3333333333333333,\"#9c179e\"],[0.4444444444444444,\"#bd3786\"],[0.5555555555555556,\"#d8576b\"],[0.6666666666666666,\"#ed7953\"],[0.7777777777777778,\"#fb9f3a\"],[0.8888888888888888,\"#fdca26\"],[1.0,\"#f0f921\"]],\"type\":\"histogram2d\"}],\"histogram\":[{\"marker\":{\"pattern\":{\"fillmode\":\"overlay\",\"size\":10,\"solidity\":0.2}},\"type\":\"histogram\"}],\"mesh3d\":[{\"colorbar\":{\"outlinewidth\":0,\"ticks\":\"\"},\"type\":\"mesh3d\"}],\"parcoords\":[{\"line\":{\"colorbar\":{\"outlinewidth\":0,\"ticks\":\"\"}},\"type\":\"parcoords\"}],\"pie\":[{\"automargin\":true,\"type\":\"pie\"}],\"scatter3d\":[{\"line\":{\"colorbar\":{\"outlinewidth\":0,\"ticks\":\"\"}},\"marker\":{\"colorbar\":{\"outlinewidth\":0,\"ticks\":\"\"}},\"type\":\"scatter3d\"}],\"scattercarpet\":[{\"marker\":{\"colorbar\":{\"outlinewidth\":0,\"ticks\":\"\"}},\"type\":\"scattercarpet\"}],\"scattergeo\":[{\"marker\":{\"colorbar\":{\"outlinewidth\":0,\"ticks\":\"\"}},\"type\":\"scattergeo\"}],\"scattergl\":[{\"marker\":{\"colorbar\":{\"outlinewidth\":0,\"ticks\":\"\"}},\"type\":\"scattergl\"}],\"scattermapbox\":[{\"marker\":{\"colorbar\":{\"outlinewidth\":0,\"ticks\":\"\"}},\"type\":\"scattermapbox\"}],\"scatterpolargl\":[{\"marker\":{\"colorbar\":{\"outlinewidth\":0,\"ticks\":\"\"}},\"type\":\"scatterpolargl\"}],\"scatterpolar\":[{\"marker\":{\"colorbar\":{\"outlinewidth\":0,\"ticks\":\"\"}},\"type\":\"scatterpolar\"}],\"scatter\":[{\"fillpattern\":{\"fillmode\":\"overlay\",\"size\":10,\"solidity\":0.2},\"type\":\"scatter\"}],\"scatterternary\":[{\"marker\":{\"colorbar\":{\"outlinewidth\":0,\"ticks\":\"\"}},\"type\":\"scatterternary\"}],\"surface\":[{\"colorbar\":{\"outlinewidth\":0,\"ticks\":\"\"},\"colorscale\":[[0.0,\"#0d0887\"],[0.1111111111111111,\"#46039f\"],[0.2222222222222222,\"#7201a8\"],[0.3333333333333333,\"#9c179e\"],[0.4444444444444444,\"#bd3786\"],[0.5555555555555556,\"#d8576b\"],[0.6666666666666666,\"#ed7953\"],[0.7777777777777778,\"#fb9f3a\"],[0.8888888888888888,\"#fdca26\"],[1.0,\"#f0f921\"]],\"type\":\"surface\"}],\"table\":[{\"cells\":{\"fill\":{\"color\":\"#EBF0F8\"},\"line\":{\"color\":\"white\"}},\"header\":{\"fill\":{\"color\":\"#C8D4E3\"},\"line\":{\"color\":\"white\"}},\"type\":\"table\"}]},\"layout\":{\"annotationdefaults\":{\"arrowcolor\":\"#2a3f5f\",\"arrowhead\":0,\"arrowwidth\":1},\"autotypenumbers\":\"strict\",\"coloraxis\":{\"colorbar\":{\"outlinewidth\":0,\"ticks\":\"\"}},\"colorscale\":{\"diverging\":[[0,\"#8e0152\"],[0.1,\"#c51b7d\"],[0.2,\"#de77ae\"],[0.3,\"#f1b6da\"],[0.4,\"#fde0ef\"],[0.5,\"#f7f7f7\"],[0.6,\"#e6f5d0\"],[0.7,\"#b8e186\"],[0.8,\"#7fbc41\"],[0.9,\"#4d9221\"],[1,\"#276419\"]],\"sequential\":[[0.0,\"#0d0887\"],[0.1111111111111111,\"#46039f\"],[0.2222222222222222,\"#7201a8\"],[0.3333333333333333,\"#9c179e\"],[0.4444444444444444,\"#bd3786\"],[0.5555555555555556,\"#d8576b\"],[0.6666666666666666,\"#ed7953\"],[0.7777777777777778,\"#fb9f3a\"],[0.8888888888888888,\"#fdca26\"],[1.0,\"#f0f921\"]],\"sequentialminus\":[[0.0,\"#0d0887\"],[0.1111111111111111,\"#46039f\"],[0.2222222222222222,\"#7201a8\"],[0.3333333333333333,\"#9c179e\"],[0.4444444444444444,\"#bd3786\"],[0.5555555555555556,\"#d8576b\"],[0.6666666666666666,\"#ed7953\"],[0.7777777777777778,\"#fb9f3a\"],[0.8888888888888888,\"#fdca26\"],[1.0,\"#f0f921\"]]},\"colorway\":[\"#636efa\",\"#EF553B\",\"#00cc96\",\"#ab63fa\",\"#FFA15A\",\"#19d3f3\",\"#FF6692\",\"#B6E880\",\"#FF97FF\",\"#FECB52\"],\"font\":{\"color\":\"#2a3f5f\"},\"geo\":{\"bgcolor\":\"white\",\"lakecolor\":\"white\",\"landcolor\":\"white\",\"showlakes\":true,\"showland\":true,\"subunitcolor\":\"#C8D4E3\"},\"hoverlabel\":{\"align\":\"left\"},\"hovermode\":\"closest\",\"mapbox\":{\"style\":\"light\"},\"paper_bgcolor\":\"white\",\"plot_bgcolor\":\"white\",\"polar\":{\"angularaxis\":{\"gridcolor\":\"#EBF0F8\",\"linecolor\":\"#EBF0F8\",\"ticks\":\"\"},\"bgcolor\":\"white\",\"radialaxis\":{\"gridcolor\":\"#EBF0F8\",\"linecolor\":\"#EBF0F8\",\"ticks\":\"\"}},\"scene\":{\"xaxis\":{\"backgroundcolor\":\"white\",\"gridcolor\":\"#DFE8F3\",\"gridwidth\":2,\"linecolor\":\"#EBF0F8\",\"showbackground\":true,\"ticks\":\"\",\"zerolinecolor\":\"#EBF0F8\"},\"yaxis\":{\"backgroundcolor\":\"white\",\"gridcolor\":\"#DFE8F3\",\"gridwidth\":2,\"linecolor\":\"#EBF0F8\",\"showbackground\":true,\"ticks\":\"\",\"zerolinecolor\":\"#EBF0F8\"},\"zaxis\":{\"backgroundcolor\":\"white\",\"gridcolor\":\"#DFE8F3\",\"gridwidth\":2,\"linecolor\":\"#EBF0F8\",\"showbackground\":true,\"ticks\":\"\",\"zerolinecolor\":\"#EBF0F8\"}},\"shapedefaults\":{\"line\":{\"color\":\"#2a3f5f\"}},\"ternary\":{\"aaxis\":{\"gridcolor\":\"#DFE8F3\",\"linecolor\":\"#A2B1C6\",\"ticks\":\"\"},\"baxis\":{\"gridcolor\":\"#DFE8F3\",\"linecolor\":\"#A2B1C6\",\"ticks\":\"\"},\"bgcolor\":\"white\",\"caxis\":{\"gridcolor\":\"#DFE8F3\",\"linecolor\":\"#A2B1C6\",\"ticks\":\"\"}},\"title\":{\"x\":0.05},\"xaxis\":{\"automargin\":true,\"gridcolor\":\"#EBF0F8\",\"linecolor\":\"#EBF0F8\",\"ticks\":\"\",\"title\":{\"standoff\":15},\"zerolinecolor\":\"#EBF0F8\",\"zerolinewidth\":2},\"yaxis\":{\"automargin\":true,\"gridcolor\":\"#EBF0F8\",\"linecolor\":\"#EBF0F8\",\"ticks\":\"\",\"title\":{\"standoff\":15},\"zerolinecolor\":\"#EBF0F8\",\"zerolinewidth\":2}}},\"xaxis\":{\"tickmode\":\"array\",\"tickvals\":[0,1,2,3,4,5,6],\"ticktext\":[\"Species\",\"proteolytic enzymes\",\"ROS enzymes\",\"Leucine aminopeptidase\",\"Tryipsin-like\",\"Chemotrypsin-like\",\"H2O2 degradation\"],\"title\":{\"text\":\"Dimensions\"}},\"yaxis\":{\"title\":{\"text\":\"Scaled Values\"}},\"title\":{\"text\":\"Scaled Parallel Coordinates with Custom Lines\"},\"legend\":{\"title\":{\"text\":\"Species\"}}},                        {\"responsive\": true}                    ).then(function(){\n",
       "                            \n",
       "var gd = document.getElementById('5fb8b1df-70c7-482c-ab43-a8d790508c53');\n",
       "var x = new MutationObserver(function (mutations, observer) {{\n",
       "        var display = window.getComputedStyle(gd).display;\n",
       "        if (!display || display === 'none') {{\n",
       "            console.log([gd, 'removed!']);\n",
       "            Plotly.purge(gd);\n",
       "            observer.disconnect();\n",
       "        }}\n",
       "}});\n",
       "\n",
       "// Listen for the removal of the full notebook cells\n",
       "var notebookContainer = gd.closest('#notebook-container');\n",
       "if (notebookContainer) {{\n",
       "    x.observe(notebookContainer, {childList: true});\n",
       "}}\n",
       "\n",
       "// Listen for the clearing of the current output cell\n",
       "var outputEl = gd.closest('.output');\n",
       "if (outputEl) {{\n",
       "    x.observe(outputEl, {childList: true});\n",
       "}}\n",
       "\n",
       "                        })                };                });            </script>        </div>"
      ]
     },
     "metadata": {},
     "output_type": "display_data"
    }
   ],
   "source": [
    "x_ticks = list(range(len(exocols)))  # x-axis positions\n",
    "\n",
    "fig = go.Figure()\n",
    "\n",
    "for i, row in df_scaled.iterrows():\n",
    "    y_vals = [row[col] for col in exocols]\n",
    "    fig.add_trace(go.Scatter(\n",
    "        x=x_ticks,\n",
    "        y=y_vals,\n",
    "        mode='lines+markers',\n",
    "        line=dict(color=dfshow['color'][i], width=4),  # use original color\n",
    "        marker=dict(color=dfshow['color'][i], size=8, symbol='circle'),\n",
    "        name=f\"Species {dfshow['species_id'][i]}\",\n",
    "        hovertext=[f\"{col}: {dfshow[col][i]:.2f}\" for col in cols],  # original values!\n",
    "        hoverinfo=\"text\"\n",
    "    ))\n",
    "\n",
    "fig.update_layout(\n",
    "    xaxis=dict(\n",
    "        tickmode='array',\n",
    "        tickvals=x_ticks,\n",
    "        ticktext=cols_labels,\n",
    "        title=\"Dimensions\"\n",
    "    ),\n",
    "    yaxis=dict(title=\"Scaled Values\"),\n",
    "    title=\"Scaled Parallel Coordinates with Custom Lines\",\n",
    "    template=\"plotly_white\",\n",
    "    legend_title=\"Species\"\n",
    ")\n",
    "\n",
    "fig.show()"
   ]
  },
  {
   "cell_type": "code",
   "execution_count": null,
   "id": "abfbddf4-d506-450b-ab71-3e80f03660bc",
   "metadata": {},
   "outputs": [],
   "source": []
  }
 ],
 "metadata": {
  "kernelspec": {
   "display_name": "Python 3 (ipykernel)",
   "language": "python",
   "name": "python3"
  },
  "language_info": {
   "codemirror_mode": {
    "name": "ipython",
    "version": 3
   },
   "file_extension": ".py",
   "mimetype": "text/x-python",
   "name": "python",
   "nbconvert_exporter": "python",
   "pygments_lexer": "ipython3",
   "version": "3.11.7"
  }
 },
 "nbformat": 4,
 "nbformat_minor": 5
}
