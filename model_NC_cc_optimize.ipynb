{
 "cells": [
  {
   "cell_type": "code",
   "execution_count": 1,
   "id": "0b5df45e",
   "metadata": {},
   "outputs": [],
   "source": [
    "import numpy as np\n",
    "import pandas as pd\n",
    "import matplotlib.pyplot as plt\n",
    "import seaborn as sns\n",
    "import pprint\n",
    "sns.set(style=\"white\", context='poster')\n",
    "from sympy import *\n",
    "import math\n",
    "init_printing(use_unicode=True)\n",
    "from scipy.integrate import solve_ivp"
   ]
  },
  {
   "cell_type": "code",
   "execution_count": 2,
   "id": "4d435a10",
   "metadata": {},
   "outputs": [],
   "source": [
    "%load_ext autoreload\n",
    "%autoreload 2\n"
   ]
  },
  {
   "cell_type": "code",
   "execution_count": 3,
   "id": "047a0867",
   "metadata": {},
   "outputs": [],
   "source": [
    "#from model_equations_separate_NC import *\n",
    "from model_equations_separate_NC_sep_vmax import *\n",
    "\n"
   ]
  },
  {
   "cell_type": "code",
   "execution_count": 4,
   "id": "779bcf7a",
   "metadata": {},
   "outputs": [
    {
     "data": {
      "image/png": "[encoded data removed]",
      "text/html": [
       "<svg  width=\"550\" height=\"55\"><rect x=\"0\" y=\"0\" width=\"55\" height=\"55\" style=\"fill:#7285b7;stroke-width:2;stroke:rgb(255,255,255)\"/><rect x=\"55\" y=\"0\" width=\"55\" height=\"55\" style=\"fill:#000000;stroke-width:2;stroke:rgb(255,255,255)\"/><rect x=\"110\" y=\"0\" width=\"55\" height=\"55\" style=\"fill:#bbdaff;stroke-width:2;stroke:rgb(255,255,255)\"/><rect x=\"165\" y=\"0\" width=\"55\" height=\"55\" style=\"fill:#99cc99;stroke-width:2;stroke:rgb(255,255,255)\"/><rect x=\"220\" y=\"0\" width=\"55\" height=\"55\" style=\"fill:#ffc58f;stroke-width:2;stroke:rgb(255,255,255)\"/><rect x=\"275\" y=\"0\" width=\"55\" height=\"55\" style=\"fill:#cc6666;stroke-width:2;stroke:rgb(255,255,255)\"/><rect x=\"330\" y=\"0\" width=\"55\" height=\"55\" style=\"fill:#000000;stroke-width:2;stroke:rgb(255,255,255)\"/><rect x=\"385\" y=\"0\" width=\"55\" height=\"55\" style=\"fill:#ff9da4;stroke-width:2;stroke:rgb(255,255,255)\"/><rect x=\"440\" y=\"0\" width=\"55\" height=\"55\" style=\"fill:#99cc99;stroke-width:2;stroke:rgb(255,255,255)\"/><rect x=\"495\" y=\"0\" width=\"55\" height=\"55\" style=\"fill:#ffc58f;stroke-width:2;stroke:rgb(255,255,255)\"/></svg>"
      ],
      "text/latex": [
       "$\\displaystyle \\left[ \\left( 0.4470588235294118, \\  0.5215686274509804, \\  0.7176470588235294\\right), \\  \\left( 0.0, \\  0.0, \\  0.0\\right), \\  \\left( 0.7333333333333333, \\  0.8549019607843137, \\  1.0\\right), \\  \\left( 0.6, \\  0.8, \\  0.6\\right), \\  \\left( 1.0, \\  0.7725490196078432, \\  0.5607843137254902\\right), \\  \\left( 0.8, \\  0.4, \\  0.4\\right), \\  \\left( 0.0, \\  0.0, \\  0.0\\right), \\  \\left( 1.0, \\  0.615686274509804, \\  0.6431372549019608\\right), \\  \\left( 0.6, \\  0.8, \\  0.6\\right), \\  \\left( 1.0, \\  0.7725490196078432, \\  0.5607843137254902\\right)\\right]$"
      ],
      "text/plain": [
       "[(0.4470588235294118, 0.5215686274509804, 0.7176470588235294), (0.0, 0.0, 0.0)\n",
       ", (0.7333333333333333, 0.8549019607843137, 1.0), (0.6, 0.8, 0.6), (1.0, 0.7725\n",
       "490196078432, 0.5607843137254902), (0.8, 0.4, 0.4), (0.0, 0.0, 0.0), (1.0, 0.6\n",
       "15686274509804, 0.6431372549019608), (0.6, 0.8, 0.6), (1.0, 0.7725490196078432\n",
       ", 0.5607843137254902)]"
      ]
     },
     "execution_count": 4,
     "metadata": {},
     "output_type": "execute_result"
    }
   ],
   "source": [
    "\n",
    "HCOLOR = '#ffc58f'\n",
    "HCOLOR_light = '#ffd2a9'\n",
    "PCOLOR = '#99cc99'\n",
    "PCOLOR_light = '#aad5aa'\n",
    "\n",
    "DONCOLOR = '#7285b7'\n",
    "RDONCOLOR = 'black' #'#00334D'\n",
    "DINCOLOR = '#bbdaff' #'#000066'\n",
    "\n",
    "DOCCOLOR = '#cc6666'\n",
    "RDOCCOLOR = 'black' #'#00334D'\n",
    "DICCOLOR = '#ff9da4' #'#000066'\n",
    "\n",
    "ccnpalette = [DONCOLOR, RDONCOLOR, DINCOLOR, PCOLOR, HCOLOR, ]\n",
    "ccnorder = [ 'DON', 'RDON', 'DIN', 'Bp', 'Bh',]\n",
    "cccpalette = [ DOCCOLOR, RDOCCOLOR, DICCOLOR, PCOLOR, HCOLOR,]\n",
    "cccorder = [ 'DOC', 'RDOC', 'DIC', 'Bp[C]', 'Bh[C]',]\n",
    "ccxpalette = [PCOLOR, HCOLOR]\n",
    "ccxorder = ['Xp', 'Xh']\n",
    "hnpalette = [ HCOLOR_light, DONCOLOR, RDONCOLOR, DINCOLOR]\n",
    "hnorder = [ 'Bh', 'DON', 'RDON', 'DIN']\n",
    "hcpalette = [ HCOLOR_light, DOCCOLOR, RDOCCOLOR, DICCOLOR]\n",
    "hcorder = [ 'Bh[C]', 'DOC', 'RDOC', 'DIC']\n",
    "pnpalette = [ PCOLOR_light, DONCOLOR, RDONCOLOR, DINCOLOR]\n",
    "pnorder = [ 'Bp', 'DON', 'RDON', 'DIN']\n",
    "pcpalette = [ PCOLOR_light, DOCCOLOR, RDOCCOLOR, DICCOLOR]\n",
    "pcorder = [ 'Bp[C]', 'DOC', 'RDOC', 'DIC']\n",
    "sns.color_palette(ccnpalette + cccpalette, )\n",
    "# \n"
   ]
  },
  {
   "cell_type": "code",
   "execution_count": 5,
   "id": "abe1785c",
   "metadata": {},
   "outputs": [
    {
     "data": {
      "image/png": "[encoded data removed]",
      "text/html": [
       "<svg  width=\"220\" height=\"55\"><rect x=\"0\" y=\"0\" width=\"55\" height=\"55\" style=\"fill:#99cc99;stroke-width:2;stroke:rgb(255,255,255)\"/><rect x=\"55\" y=\"0\" width=\"55\" height=\"55\" style=\"fill:#ffc58f;stroke-width:2;stroke:rgb(255,255,255)\"/><rect x=\"110\" y=\"0\" width=\"55\" height=\"55\" style=\"fill:#aad5aa;stroke-width:2;stroke:rgb(255,255,255)\"/><rect x=\"165\" y=\"0\" width=\"55\" height=\"55\" style=\"fill:#ffd2a9;stroke-width:2;stroke:rgb(255,255,255)\"/></svg>"
      ],
      "text/latex": [
       "$\\displaystyle \\left[ \\left( 0.6, \\  0.8, \\  0.6\\right), \\  \\left( 1.0, \\  0.7725490196078432, \\  0.5607843137254902\\right), \\  \\left( 0.6666666666666666, \\  0.8352941176470589, \\  0.6666666666666666\\right), \\  \\left( 1.0, \\  0.8235294117647058, \\  0.6627450980392157\\right)\\right]$"
      ],
      "text/plain": [
       "[(0.6, 0.8, 0.6), (1.0, 0.7725490196078432, 0.5607843137254902), (0.6666666666\n",
       "666666, 0.8352941176470589, 0.6666666666666666), (1.0, 0.8235294117647058, 0.6\n",
       "627450980392157)]"
      ]
     },
     "execution_count": 5,
     "metadata": {},
     "output_type": "execute_result"
    }
   ],
   "source": [
    "\n",
    " \n",
    "sns.color_palette([PCOLOR, HCOLOR, PCOLOR_light, HCOLOR_light] )\n"
   ]
  },
  {
   "cell_type": "code",
   "execution_count": 8,
   "id": "0f714019",
   "metadata": {},
   "outputs": [],
   "source": [
    "refdf = pd.read_csv('prelim_bottle.csv')\n"
   ]
  },
  {
   "cell_type": "code",
   "execution_count": 9,
   "id": "97f8b1bb",
   "metadata": {},
   "outputs": [
    {
     "data": {
      "text/html": [
       "<div>\n",
       "<style scoped>\n",
       "    .dataframe tbody tr th:only-of-type {\n",
       "        vertical-align: middle;\n",
       "    }\n",
       "\n",
       "    .dataframe tbody tr th {\n",
       "        vertical-align: top;\n",
       "    }\n",
       "\n",
       "    .dataframe thead th {\n",
       "        text-align: right;\n",
       "    }\n",
       "</style>\n",
       "<table border=\"1\" class=\"dataframe\">\n",
       "  <thead>\n",
       "    <tr style=\"text-align: right;\">\n",
       "      <th></th>\n",
       "      <th>Unnamed: 0</th>\n",
       "      <th>day</th>\n",
       "      <th>1A3</th>\n",
       "      <th>cc 1A3</th>\n",
       "      <th>cc mit9312</th>\n",
       "      <th>mit9312</th>\n",
       "      <th>cc Bh[N]</th>\n",
       "      <th>Bh[N]</th>\n",
       "      <th>cc Bp[N]</th>\n",
       "      <th>Bp[N]</th>\n",
       "      <th>cc Bh[C]</th>\n",
       "      <th>Bh[C]</th>\n",
       "      <th>cc Bp[C]</th>\n",
       "      <th>Bp[C]</th>\n",
       "      <th>t</th>\n",
       "    </tr>\n",
       "  </thead>\n",
       "  <tbody>\n",
       "    <tr>\n",
       "      <th>0</th>\n",
       "      <td>0</td>\n",
       "      <td>0.000000</td>\n",
       "      <td>9.297512e+09</td>\n",
       "      <td>4.698967e+09</td>\n",
       "      <td>7.178947e+08</td>\n",
       "      <td>1.032630e+09</td>\n",
       "      <td>41.350913</td>\n",
       "      <td>81.818106</td>\n",
       "      <td>0.789684</td>\n",
       "      <td>1.135893</td>\n",
       "      <td>273.949801</td>\n",
       "      <td>542.044955</td>\n",
       "      <td>5.231658</td>\n",
       "      <td>7.525288</td>\n",
       "      <td>0.000000</td>\n",
       "    </tr>\n",
       "    <tr>\n",
       "      <th>1</th>\n",
       "      <td>1</td>\n",
       "      <td>1.820833</td>\n",
       "      <td>1.469212e+10</td>\n",
       "      <td>4.648133e+09</td>\n",
       "      <td>1.753684e+09</td>\n",
       "      <td>1.641075e+09</td>\n",
       "      <td>40.903574</td>\n",
       "      <td>129.290670</td>\n",
       "      <td>1.929053</td>\n",
       "      <td>1.805182</td>\n",
       "      <td>270.986179</td>\n",
       "      <td>856.550691</td>\n",
       "      <td>12.779974</td>\n",
       "      <td>11.959333</td>\n",
       "      <td>157319.999971</td>\n",
       "    </tr>\n",
       "    <tr>\n",
       "      <th>2</th>\n",
       "      <td>2</td>\n",
       "      <td>4.832639</td>\n",
       "      <td>6.030062e+09</td>\n",
       "      <td>2.996029e+09</td>\n",
       "      <td>9.823158e+09</td>\n",
       "      <td>2.853167e+09</td>\n",
       "      <td>26.365052</td>\n",
       "      <td>53.064547</td>\n",
       "      <td>10.805474</td>\n",
       "      <td>3.138484</td>\n",
       "      <td>174.668467</td>\n",
       "      <td>351.552626</td>\n",
       "      <td>71.586263</td>\n",
       "      <td>20.792454</td>\n",
       "      <td>417540.000010</td>\n",
       "    </tr>\n",
       "    <tr>\n",
       "      <th>3</th>\n",
       "      <td>3</td>\n",
       "      <td>6.853472</td>\n",
       "      <td>4.987215e+09</td>\n",
       "      <td>2.290707e+09</td>\n",
       "      <td>2.812842e+10</td>\n",
       "      <td>1.576008e+10</td>\n",
       "      <td>20.158221</td>\n",
       "      <td>43.887491</td>\n",
       "      <td>30.941263</td>\n",
       "      <td>17.336084</td>\n",
       "      <td>133.548213</td>\n",
       "      <td>290.754630</td>\n",
       "      <td>204.985868</td>\n",
       "      <td>114.851560</td>\n",
       "      <td>592139.999981</td>\n",
       "    </tr>\n",
       "    <tr>\n",
       "      <th>4</th>\n",
       "      <td>4</td>\n",
       "      <td>8.779167</td>\n",
       "      <td>2.867312e+09</td>\n",
       "      <td>1.598094e+09</td>\n",
       "      <td>6.262316e+10</td>\n",
       "      <td>4.113340e+10</td>\n",
       "      <td>14.063225</td>\n",
       "      <td>25.232343</td>\n",
       "      <td>68.885474</td>\n",
       "      <td>45.246737</td>\n",
       "      <td>93.168864</td>\n",
       "      <td>167.164271</td>\n",
       "      <td>456.366263</td>\n",
       "      <td>299.759633</td>\n",
       "      <td>758520.000029</td>\n",
       "    </tr>\n",
       "  </tbody>\n",
       "</table>\n",
       "</div>"
      ],
      "text/plain": [
       "   Unnamed: 0       day           1A3        cc 1A3    cc mit9312  \\\n",
       "0           0  0.000000  9.297512e+09  4.698967e+09  7.178947e+08   \n",
       "1           1  1.820833  1.469212e+10  4.648133e+09  1.753684e+09   \n",
       "2           2  4.832639  6.030062e+09  2.996029e+09  9.823158e+09   \n",
       "3           3  6.853472  4.987215e+09  2.290707e+09  2.812842e+10   \n",
       "4           4  8.779167  2.867312e+09  1.598094e+09  6.262316e+10   \n",
       "\n",
       "        mit9312   cc Bh[N]       Bh[N]   cc Bp[N]      Bp[N]    cc Bh[C]  \\\n",
       "0  1.032630e+09  41.350913   81.818106   0.789684   1.135893  273.949801   \n",
       "1  1.641075e+09  40.903574  129.290670   1.929053   1.805182  270.986179   \n",
       "2  2.853167e+09  26.365052   53.064547  10.805474   3.138484  174.668467   \n",
       "3  1.576008e+10  20.158221   43.887491  30.941263  17.336084  133.548213   \n",
       "4  4.113340e+10  14.063225   25.232343  68.885474  45.246737   93.168864   \n",
       "\n",
       "        Bh[C]    cc Bp[C]       Bp[C]              t  \n",
       "0  542.044955    5.231658    7.525288       0.000000  \n",
       "1  856.550691   12.779974   11.959333  157319.999971  \n",
       "2  351.552626   71.586263   20.792454  417540.000010  \n",
       "3  290.754630  204.985868  114.851560  592139.999981  \n",
       "4  167.164271  456.366263  299.759633  758520.000029  "
      ]
     },
     "execution_count": 9,
     "metadata": {},
     "output_type": "execute_result"
    }
   ],
   "source": [
    "refdf.head()"
   ]
  },
  {
   "cell_type": "code",
   "execution_count": 10,
   "id": "4242de6b",
   "metadata": {},
   "outputs": [
    {
     "name": "stdout",
     "output_type": "stream",
     "text": [
      "M_h  = 1.16e-06, 1.00e-01\n",
      "M_p  = 1.16e-06, 1.00e-01\n",
      "gamma^D_p  = 8.00e-01, 6.91e+04\n",
      "gamma^D_h  = 8.00e-01, 6.91e+04\n",
      "R_p  = 6.62e+00, 5.72e+05\n",
      "R_h  = 6.62e+00, 5.72e+05\n",
      "E^O_p  = 1.16e-06, 1.00e-01\n",
      "E^I_p  = 0.00e+00, 0.00e+00\n",
      "E^O_h  = 0.00e+00, 0.00e+00\n",
      "E^I_h  = 1.16e-06, 1.00e-01\n",
      "K^ON_p  = 1.43e-01, 1.23e+04\n",
      "K^IN_p  = 7.14e-01, 6.17e+04\n",
      "K^OC_p  = 1.43e-01, 1.23e+04\n",
      "K^IC_p  = 1.43e-01, 1.23e+04\n",
      "K^ON_h  = 2.50e-01, 2.16e+04\n",
      "K^IN_h  = 2.50e-01, 2.16e+04\n",
      "K^OC_h  = 1.25e+00, 1.08e+05\n",
      "K^IC_h  = 2.50e-01, 2.16e+04\n",
      "Vmax^ON_p  = 1.40e-09, 1.21e-04\n",
      "Vmax^IN_p  = 1.00e-05, 8.64e-01\n",
      "Vmax^OC_p  = 9.27e-09, 8.01e-04\n",
      "Vmax^IC_p  = 9.27e-05, 8.01e+00\n",
      "Vmax^ON_h  = 5.00e-06, 4.32e-01\n",
      "Vmax^IN_h  = 1.00e-05, 8.64e-01\n",
      "Vmax^OC_h  = 3.31e-05, 2.86e+00\n",
      "Vmax^IC_h  = 3.31e-09, 2.86e-04\n",
      "O_p  = 6.00e-01, 5.18e+04\n",
      "O_h  = 6.00e-01, 5.18e+04\n",
      "epsilon  = 1.05e-06, 9.09e-02\n",
      "VTmax  = 2.50e-06, 2.16e-01\n",
      "KT_h  = 2.50e-01, 2.16e+04\n",
      "omega  = 1.00e-02, 8.64e+02\n",
      "K^S_p  = 1.43e+01, 1.23e+06\n",
      "K^S_h  = 1.43e+01, 1.23e+06\n",
      "E^S_p  = 1.05e-16, 9.09e-12\n",
      "E^S_h  = 1.32e-17, 1.14e-12\n",
      "M^S_p  = -1.16e-07, -1.00e-02\n",
      "M^S_h  = -1.16e-07, -1.00e-02\n",
      "tau  = 5.22e+04, 4.51e+09\n",
      "r0_p  = 2.08e-06, 1.80e-01\n",
      "r0_h  = 2.08e-06, 1.80e-01\n",
      "b_p  = 1.00e-02, 8.64e+02\n",
      "b_h  = 1.00e-02, 8.64e+02\n"
     ]
    }
   ],
   "source": [
    "print_params()"
   ]
  },
  {
   "cell_type": "code",
   "execution_count": 11,
   "id": "e219e420",
   "metadata": {},
   "outputs": [
    {
     "data": {
      "image/png": "[encoded data removed]",
      "text/latex": [
       "$\\displaystyle 14$"
      ],
      "text/plain": [
       "14"
      ]
     },
     "execution_count": 11,
     "metadata": {},
     "output_type": "execute_result"
    }
   ],
   "source": [
    "# params to update:\n",
    "params_to_update1 = [Mh, Mp, gammaDp, gammaDh, EOp,  EIh, VmaxINp, VmaxICp, VmaxONh, VmaxINh, \n",
    "                    VmaxOCh, epsilon, VTmax, omega]\n",
    "params_to_update = [str(p) for p in params_to_update1]\n",
    "len(params_to_update)"
   ]
  },
  {
   "cell_type": "code",
   "execution_count": 12,
   "id": "670918fb",
   "metadata": {},
   "outputs": [],
   "source": [
    "bounds = [\n",
    "    (0.01/ seconds_in_day,0.9/ seconds_in_day ), # Mh\n",
    "    (0.01/ seconds_in_day,0.9/ seconds_in_day ), # Mp\n",
    "    (0.1,0.9 ), # gammaDp\n",
    "    (0.1,0.9 ), # gammaDh\n",
    "    (0.1/ seconds_in_day,0.9/ seconds_in_day ), # EOp\n",
    "    (0.1/ seconds_in_day,0.9/ seconds_in_day ), # EIh\n",
    "    (param_vals[str(VmaxINp)]/100,param_vals[str(VmaxINp)]*100 ), # VmaxINp, \n",
    "    (param_vals[str(VmaxICp)]/100,param_vals[str(VmaxICp)]*100 ), # VmaxICp, \n",
    "    (param_vals[str(VmaxONh)]/100,param_vals[str(VmaxONh)]*100 ), # VmaxONh, \n",
    "    (param_vals[str(VmaxINh)]/100,param_vals[str(VmaxINh)]*100 ), # VmaxINh, \n",
    "    (param_vals[str(VmaxOCh)]/100,param_vals[str(VmaxOCh)]*100 ), # VmaxOCh, \n",
    "    (0.1/ seconds_in_day,0.9/ seconds_in_day ), # epsilon, \n",
    "    (param_vals[str(VTmax)]/100,param_vals[str(VTmax)]*100 ), # VTmax, \n",
    "    (0.01,0.9), # omega\n",
    "    \n",
    "]"
   ]
  },
  {
   "cell_type": "code",
   "execution_count": 13,
   "id": "28aa6326",
   "metadata": {},
   "outputs": [
    {
     "ename": "NameError",
     "evalue": "name 'result' is not defined",
     "output_type": "error",
     "traceback": [
      "\u001b[1;31m---------------------------------------------------------------------------\u001b[0m",
      "\u001b[1;31mNameError\u001b[0m                                 Traceback (most recent call last)",
      "\u001b[1;32m~\\AppData\\Local\\Temp/ipykernel_13748/1049141082.py\u001b[0m in \u001b[0;36m<module>\u001b[1;34m\u001b[0m\n\u001b[1;32m----> 1\u001b[1;33m \u001b[0mresult\u001b[0m\u001b[1;33m\u001b[0m\u001b[1;33m\u001b[0m\u001b[0m\n\u001b[0m",
      "\u001b[1;31mNameError\u001b[0m: name 'result' is not defined"
     ]
    }
   ],
   "source": [
    "result"
   ]
  },
  {
   "cell_type": "code",
   "execution_count": 14,
   "id": "a8878942",
   "metadata": {},
   "outputs": [
    {
     "ename": "NameError",
     "evalue": "name 'result' is not defined",
     "output_type": "error",
     "traceback": [
      "\u001b[1;31m---------------------------------------------------------------------------\u001b[0m",
      "\u001b[1;31mNameError\u001b[0m                                 Traceback (most recent call last)",
      "\u001b[1;32m~\\AppData\\Local\\Temp/ipykernel_13748/2986698563.py\u001b[0m in \u001b[0;36m<module>\u001b[1;34m\u001b[0m\n\u001b[1;32m----> 1\u001b[1;33m \u001b[1;32mfor\u001b[0m \u001b[0mi\u001b[0m\u001b[1;33m,\u001b[0m\u001b[0mj\u001b[0m \u001b[1;32min\u001b[0m \u001b[0mzip\u001b[0m\u001b[1;33m(\u001b[0m\u001b[0mparams_to_update\u001b[0m\u001b[1;33m,\u001b[0m \u001b[0mresult\u001b[0m\u001b[1;33m.\u001b[0m\u001b[0mx\u001b[0m\u001b[1;33m)\u001b[0m\u001b[1;33m:\u001b[0m\u001b[1;33m\u001b[0m\u001b[1;33m\u001b[0m\u001b[0m\n\u001b[0m\u001b[0;32m      2\u001b[0m     \u001b[0mprint\u001b[0m\u001b[1;33m(\u001b[0m\u001b[0mi\u001b[0m\u001b[1;33m,\u001b[0m \u001b[0mj\u001b[0m\u001b[1;33m)\u001b[0m\u001b[1;33m\u001b[0m\u001b[1;33m\u001b[0m\u001b[0m\n",
      "\u001b[1;31mNameError\u001b[0m: name 'result' is not defined"
     ]
    }
   ],
   "source": [
    "for i,j in zip(params_to_update, result.x):\n",
    "    print(i, j)\n"
   ]
  },
  {
   "cell_type": "code",
   "execution_count": 15,
   "id": "eb37b6dd",
   "metadata": {},
   "outputs": [
    {
     "name": "stdout",
     "output_type": "stream",
     "text": [
      "M_h 1.1574074074074074e-06\n",
      "M_p 1.1574074074074074e-06\n",
      "gamma^D_p 0.8\n",
      "gamma^D_h 0.8\n",
      "E^O_p 1.1574074074074074e-06\n",
      "E^I_h 1.1574074074074074e-06\n",
      "Vmax^IN_p 9.995791245791247e-06\n",
      "Vmax^IC_p 9.27109638047138e-05\n",
      "Vmax^ON_h 4.9978956228956235e-06\n",
      "Vmax^IN_h 9.995791245791247e-06\n",
      "Vmax^OC_h 3.311105850168351e-05\n",
      "epsilon 1.0521885521885523e-06\n",
      "VTmax 2.4989478114478117e-06\n",
      "omega 0.01\n"
     ]
    }
   ],
   "source": [
    "for i in params_to_update:\n",
    "    print(i, param_vals[i])"
   ]
  },
  {
   "cell_type": "code",
   "execution_count": 18,
   "id": "344df26e",
   "metadata": {},
   "outputs": [],
   "source": [
    "os.mkdir('tmp')"
   ]
  },
  {
   "cell_type": "code",
   "execution_count": null,
   "id": "3dfd0fec",
   "metadata": {
    "scrolled": false
   },
   "outputs": [],
   "source": [
    "def _func(X):\n",
    "    print('.')\n",
    "    return generate_json_and_run_from_X(\n",
    "    X, params_to_update, param_vals, 'prelim_bottle.csv', 'tmp', 'tmp', 'de', \n",
    "    timeout=2*60)\n",
    "\n",
    "from scipy.optimize import differential_evolution\n",
    "\n",
    "result = differential_evolution(_func, bounds, disp=True, init='latinhypercube', workers=4)\n",
    "result.x, result.fun"
   ]
  },
  {
   "cell_type": "code",
   "execution_count": null,
   "id": "bf7f58a7",
   "metadata": {},
   "outputs": [],
   "source": [
    "print list(zip(params_to_update, result.x))"
   ]
  },
  {
   "cell_type": "code",
   "execution_count": null,
   "id": "30a94cb8",
   "metadata": {},
   "outputs": [],
   "source": []
  }
 ],
 "metadata": {
  "kernelspec": {
   "display_name": "Python 3 (ipykernel)",
   "language": "python",
   "name": "python3"
  },
  "language_info": {
   "codemirror_mode": {
    "name": "ipython",
    "version": 3
   },
   "file_extension": ".py",
   "mimetype": "text/x-python",
   "name": "python",
   "nbconvert_exporter": "python",
   "pygments_lexer": "ipython3",
   "version": "3.7.1"
  }
 },
 "nbformat": 4,
 "nbformat_minor": 5
}
