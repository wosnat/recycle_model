{
 "cells": [
  {
   "cell_type": "code",
   "execution_count": 1,
   "id": "0b5df45e",
   "metadata": {},
   "outputs": [],
   "source": [
    "import numpy as np\n",
    "import pandas as pd\n",
    "import matplotlib.pyplot as plt\n",
    "import seaborn as sns\n",
    "import pprint\n",
    "sns.set(style=\"white\", context='poster')\n",
    "from sympy import *\n",
    "import math\n",
    "init_printing(use_unicode=True)\n",
    "from scipy.integrate import solve_ivp"
   ]
  },
  {
   "cell_type": "code",
   "execution_count": 2,
   "id": "1aa400f4",
   "metadata": {},
   "outputs": [],
   "source": [
    "from SALib.sample import saltelli\n",
    "from SALib.analyze import sobol"
   ]
  },
  {
   "cell_type": "code",
   "execution_count": 3,
   "id": "4d435a10",
   "metadata": {},
   "outputs": [],
   "source": [
    "%load_ext autoreload\n",
    "%autoreload 2\n"
   ]
  },
  {
   "cell_type": "code",
   "execution_count": 23,
   "id": "047a0867",
   "metadata": {},
   "outputs": [],
   "source": [
    "from model_equations_separate_NC_sep_vmax import *"
   ]
  },
  {
   "cell_type": "code",
   "execution_count": 24,
   "id": "b9a2adca",
   "metadata": {},
   "outputs": [],
   "source": [
    "from run_sensitivity import *"
   ]
  },
  {
   "cell_type": "code",
   "execution_count": 25,
   "id": "a83858b8",
   "metadata": {},
   "outputs": [
    {
     "data": {
      "image/png": "[encoded data removed]",
      "text/html": [
       "<svg  width=\"550\" height=\"55\"><rect x=\"0\" y=\"0\" width=\"55\" height=\"55\" style=\"fill:#99cc99;stroke-width:2;stroke:rgb(255,255,255)\"/><rect x=\"55\" y=\"0\" width=\"55\" height=\"55\" style=\"fill:#ffc58f;stroke-width:2;stroke:rgb(255,255,255)\"/><rect x=\"110\" y=\"0\" width=\"55\" height=\"55\" style=\"fill:#7285b7;stroke-width:2;stroke:rgb(255,255,255)\"/><rect x=\"165\" y=\"0\" width=\"55\" height=\"55\" style=\"fill:#000000;stroke-width:2;stroke:rgb(255,255,255)\"/><rect x=\"220\" y=\"0\" width=\"55\" height=\"55\" style=\"fill:#bbdaff;stroke-width:2;stroke:rgb(255,255,255)\"/><rect x=\"275\" y=\"0\" width=\"55\" height=\"55\" style=\"fill:#99cc99;stroke-width:2;stroke:rgb(255,255,255)\"/><rect x=\"330\" y=\"0\" width=\"55\" height=\"55\" style=\"fill:#ffc58f;stroke-width:2;stroke:rgb(255,255,255)\"/><rect x=\"385\" y=\"0\" width=\"55\" height=\"55\" style=\"fill:#cc6666;stroke-width:2;stroke:rgb(255,255,255)\"/><rect x=\"440\" y=\"0\" width=\"55\" height=\"55\" style=\"fill:#000000;stroke-width:2;stroke:rgb(255,255,255)\"/><rect x=\"495\" y=\"0\" width=\"55\" height=\"55\" style=\"fill:#ff9da4;stroke-width:2;stroke:rgb(255,255,255)\"/></svg>"
      ],
      "text/latex": [
       "$\\displaystyle \\left[ \\left( 0.6, \\  0.8, \\  0.6\\right), \\  \\left( 1.0, \\  0.7725490196078432, \\  0.5607843137254902\\right), \\  \\left( 0.4470588235294118, \\  0.5215686274509804, \\  0.7176470588235294\\right), \\  \\left( 0.0, \\  0.0, \\  0.0\\right), \\  \\left( 0.7333333333333333, \\  0.8549019607843137, \\  1.0\\right), \\  \\left( 0.6, \\  0.8, \\  0.6\\right), \\  \\left( 1.0, \\  0.7725490196078432, \\  0.5607843137254902\\right), \\  \\left( 0.8, \\  0.4, \\  0.4\\right), \\  \\left( 0.0, \\  0.0, \\  0.0\\right), \\  \\left( 1.0, \\  0.615686274509804, \\  0.6431372549019608\\right)\\right]$"
      ],
      "text/plain": [
       "[(0.6, 0.8, 0.6), (1.0, 0.7725490196078432, 0.5607843137254902), (0.4470588235\n",
       "294118, 0.5215686274509804, 0.7176470588235294), (0.0, 0.0, 0.0), (0.733333333\n",
       "3333333, 0.8549019607843137, 1.0), (0.6, 0.8, 0.6), (1.0, 0.7725490196078432, \n",
       "0.5607843137254902), (0.8, 0.4, 0.4), (0.0, 0.0, 0.0), (1.0, 0.615686274509804\n",
       ", 0.6431372549019608)]"
      ]
     },
     "execution_count": 25,
     "metadata": {},
     "output_type": "execute_result"
    }
   ],
   "source": [
    "\n",
    "HCOLOR = '#ffc58f'\n",
    "HCOLOR_light = '#ffd2a9'\n",
    "PCOLOR = '#99cc99'\n",
    "PCOLOR_light = '#aad5aa'\n",
    "\n",
    "DONCOLOR = '#7285b7'\n",
    "RDONCOLOR = 'black' #'#00334D'\n",
    "DINCOLOR = '#bbdaff' #'#000066'\n",
    "\n",
    "DOCCOLOR = '#cc6666'\n",
    "RDOCCOLOR = 'black' #'#00334D'\n",
    "DICCOLOR = '#ff9da4' #'#000066'\n",
    "\n",
    "ccnpalette = [PCOLOR, HCOLOR, DONCOLOR, RDONCOLOR, DINCOLOR]\n",
    "ccnorder = ['Bp', 'Bh', 'DON', 'RDON', 'DIN']\n",
    "cccpalette = [PCOLOR, HCOLOR, DOCCOLOR, RDOCCOLOR, DICCOLOR]\n",
    "cccorder = ['Bp[C]', 'Bh[C]', 'DOC', 'RDOC', 'DIC']\n",
    "ccxpalette = [PCOLOR, HCOLOR]\n",
    "ccxorder = ['Xp', 'Xh']\n",
    "hnpalette = [ HCOLOR_light, DONCOLOR, RDONCOLOR, DINCOLOR]\n",
    "hnorder = [ 'Bh', 'DON', 'RDON', 'DIN']\n",
    "hcpalette = [ HCOLOR_light, DOCCOLOR, RDOCCOLOR, DICCOLOR]\n",
    "hcorder = [ 'Bh[C]', 'DOC', 'RDOC', 'DIC']\n",
    "pnpalette = [ PCOLOR_light, DONCOLOR, RDONCOLOR, DINCOLOR]\n",
    "pnorder = [ 'Bp', 'DON', 'RDON', 'DIN']\n",
    "pcpalette = [ PCOLOR_light, DOCCOLOR, RDOCCOLOR, DICCOLOR]\n",
    "pcorder = [ 'Bp[C]', 'DOC', 'RDOC', 'DIC']\n",
    "sns.color_palette(ccnpalette + cccpalette, )\n",
    "# \n"
   ]
  },
  {
   "cell_type": "code",
   "execution_count": 26,
   "id": "0f714019",
   "metadata": {},
   "outputs": [],
   "source": [
    "refdf = pd.read_csv('prelim_bottle.csv')\n"
   ]
  },
  {
   "cell_type": "code",
   "execution_count": 27,
   "id": "4242de6b",
   "metadata": {},
   "outputs": [
    {
     "name": "stdout",
     "output_type": "stream",
     "text": [
      "M_h  = 1.16e-06, 1.00e-01\n",
      "M_p  = 1.16e-06, 1.00e-01\n",
      "gamma^D_p  = 8.00e-01, 6.91e+04\n",
      "gamma^D_h  = 8.00e-01, 6.91e+04\n",
      "R_p  = 6.62e+00, 5.72e+05\n",
      "R_h  = 6.62e+00, 5.72e+05\n",
      "E^O_p  = 1.16e-06, 1.00e-01\n",
      "E^I_p  = 0.00e+00, 0.00e+00\n",
      "E^O_h  = 0.00e+00, 0.00e+00\n",
      "E^I_h  = 1.16e-06, 1.00e-01\n",
      "K^ON_p  = 1.43e-01, 1.23e+04\n",
      "K^IN_p  = 1.43e-01, 1.23e+04\n",
      "K^OC_p  = 1.43e-01, 1.23e+04\n",
      "K^IC_p  = 1.43e-01, 1.23e+04\n",
      "K^ON_h  = 2.50e-01, 2.16e+04\n",
      "K^IN_h  = 2.50e-01, 2.16e+04\n",
      "K^OC_h  = 2.50e-01, 2.16e+04\n",
      "K^IC_h  = 2.50e-01, 2.16e+04\n",
      "Vmax^ON_p  = 1.40e-09, 1.21e-04\n",
      "Vmax^IN_p  = 1.00e-05, 8.64e-01\n",
      "Vmax^OC_p  = 9.27e-09, 8.01e-04\n",
      "Vmax^IC_p  = 9.27e-05, 8.01e+00\n",
      "Vmax^ON_h  = 5.00e-06, 4.32e-01\n",
      "Vmax^IN_h  = 5.00e-06, 4.32e-01\n",
      "Vmax^OC_h  = 3.31e-05, 2.86e+00\n",
      "Vmax^IC_h  = 3.31e-09, 2.86e-04\n",
      "O_p  = 1.00e+00, 8.64e+04\n",
      "O_h  = 1.00e+00, 8.64e+04\n",
      "epsilon  = 1.05e-06, 9.09e-02\n",
      "VTmax  = 2.50e-06, 2.16e-01\n",
      "KT_h  = 2.50e-01, 2.16e+04\n",
      "omega  = 1.00e-02, 8.64e+02\n",
      "K^S_p  = 1.43e+01, 1.23e+06\n",
      "K^S_h  = 1.43e+01, 1.23e+06\n",
      "E^S_p  = 1.05e-16, 9.09e-12\n",
      "E^S_h  = 1.32e-17, 1.14e-12\n",
      "M^S_p  = -1.16e-07, -1.00e-02\n",
      "M^S_h  = -1.16e-07, -1.00e-02\n",
      "tau  = 5.22e+04, 4.51e+09\n",
      "r0_p  = 2.08e-06, 1.80e-01\n",
      "r0_h  = 2.08e-06, 1.80e-01\n",
      "b_p  = 1.00e-02, 8.64e+02\n",
      "b_h  = 1.00e-02, 8.64e+02\n"
     ]
    }
   ],
   "source": [
    "print_params()"
   ]
  },
  {
   "cell_type": "code",
   "execution_count": 28,
   "id": "1b5b0415",
   "metadata": {},
   "outputs": [
    {
     "data": {
      "text/plain": [
       "{'M_h': 1.1574074074074074e-06,\n",
       " 'M_p': 1.1574074074074074e-06,\n",
       " 'gamma^D_p': 0.8,\n",
       " 'gamma^D_h': 0.8,\n",
       " 'R_p': 6.625,\n",
       " 'R_h': 6.625,\n",
       " 'E^O_p': 1.1574074074074074e-06,\n",
       " 'E^I_p': 0.0,\n",
       " 'E^O_h': 0.0,\n",
       " 'E^I_h': 1.1574074074074074e-06,\n",
       " 'K^ON_p': 0.14275079954526113,\n",
       " 'K^IN_p': 0.14275079954526113,\n",
       " 'K^OC_p': 0.14275079954526113,\n",
       " 'K^IC_p': 0.14275079954526113,\n",
       " 'K^ON_h': 0.2502723352076287,\n",
       " 'K^IN_h': 0.2502723352076287,\n",
       " 'K^OC_h': 0.2502723352076287,\n",
       " 'K^IC_h': 0.2502723352076287,\n",
       " 'Vmax^ON_p': 1.3994107744107743e-09,\n",
       " 'Vmax^IN_p': 9.995791245791247e-06,\n",
       " 'Vmax^OC_p': 9.271096380471381e-09,\n",
       " 'Vmax^IC_p': 9.27109638047138e-05,\n",
       " 'Vmax^ON_h': 4.9978956228956235e-06,\n",
       " 'Vmax^IN_h': 4.9978956228956235e-06,\n",
       " 'Vmax^OC_h': 3.311105850168351e-05,\n",
       " 'Vmax^IC_h': 3.3111058501683504e-09,\n",
       " 'O_p': 1,\n",
       " 'O_h': 1,\n",
       " 'epsilon': 1.0521885521885523e-06,\n",
       " 'VTmax': 2.4989478114478117e-06,\n",
       " 'KT_h': 0.2502723352076287,\n",
       " 'omega': 0.01,\n",
       " 'K^S_p': 14.275079954526113,\n",
       " 'K^S_h': 14.275079954526113,\n",
       " 'E^S_p': 1.0521885521885522e-16,\n",
       " 'E^S_h': 1.3152356902356902e-17,\n",
       " 'M^S_p': -1.1574074074074074e-07,\n",
       " 'M^S_h': -1.1574074074074074e-07,\n",
       " 'tau': 52173.91304347826,\n",
       " 'r0_p': 2.0833333333333334e-06,\n",
       " 'r0_h': 2.0833333333333334e-06,\n",
       " 'b_p': 0.01,\n",
       " 'b_h': 0.01}"
      ]
     },
     "execution_count": 28,
     "metadata": {},
     "output_type": "execute_result"
    }
   ],
   "source": [
    "param_vals"
   ]
  },
  {
   "cell_type": "code",
   "execution_count": 29,
   "id": "78e570c6",
   "metadata": {},
   "outputs": [
    {
     "data": {
      "text/plain": [
       "dict_keys(['M_h', 'M_p', 'gamma^D_p', 'gamma^D_h', 'R_p', 'R_h', 'E^O_p', 'E^I_p', 'E^O_h', 'E^I_h', 'K^ON_p', 'K^IN_p', 'K^OC_p', 'K^IC_p', 'K^ON_h', 'K^IN_h', 'K^OC_h', 'K^IC_h', 'Vmax^ON_p', 'Vmax^IN_p', 'Vmax^OC_p', 'Vmax^IC_p', 'Vmax^ON_h', 'Vmax^IN_h', 'Vmax^OC_h', 'Vmax^IC_h', 'O_p', 'O_h', 'epsilon', 'VTmax', 'KT_h', 'omega', 'K^S_p', 'K^S_h', 'E^S_p', 'E^S_h', 'M^S_p', 'M^S_h', 'tau', 'r0_p', 'r0_h', 'b_p', 'b_h'])"
      ]
     },
     "execution_count": 29,
     "metadata": {},
     "output_type": "execute_result"
    }
   ],
   "source": [
    "param_vals.keys()"
   ]
  },
  {
   "cell_type": "raw",
   "id": "a8f2371e",
   "metadata": {},
   "source": [
    "#params_to_update = list(param_vals.keys())\n",
    "params_to_update = [\n",
    "    'M_h', 'M_p', 'gamma^D_p', 'gamma^D_h', \n",
    "    #'R_p', 'R_h', \n",
    "    'E^O_p', 'E^I_p', 'E^O_h', 'E^I_h', \n",
    "    'K^ON_p', 'K^IN_p', 'K^OC_p', 'K^IC_p', 'K^ON_h', 'K^IN_h', 'K^OC_h', 'K^IC_h', \n",
    "    # 'Vmax^ON_p', \n",
    "    'Vmax^IN_p', \n",
    "    # 'Vmax^OC_p', \n",
    "    'Vmax^IC_p', 'Vmax^ON_h', 'Vmax^IN_h', 'Vmax^OC_h', \n",
    "    #'Vmax^IC_h', \n",
    "    'O_p', 'O_h', 'epsilon', 'VTmax', 'KT_h', 'omega',\n",
    "    'K^S_p', 'K^S_h', 'E^S_p', 'E^S_h', 'M^S_p', 'M^S_h', \n",
    "    #'tau', 'r0_p', 'r0_h', 'b_p', 'b_h'\n",
    "]\n"
   ]
  },
  {
   "cell_type": "raw",
   "id": "ac9bca78",
   "metadata": {},
   "source": [
    "print_params()"
   ]
  },
  {
   "cell_type": "raw",
   "id": "8e7ca6b2",
   "metadata": {},
   "source": [
    "\n",
    "bounds = [\n",
    "    (0/ seconds_in_day,1/ seconds_in_day ), # 'M_h', \n",
    "    (0/ seconds_in_day,1/ seconds_in_day ), # 'M_p', \n",
    "    (0,1 ), # 'gamma^D_p', \n",
    "    (0,1 ), # 'gamma^D_h', \n",
    "    # ?? 'R_p', 'R_h', \n",
    "    \n",
    "    (0/ seconds_in_day,0.9/ seconds_in_day ), # 'E^O_p', \n",
    "    (0/ seconds_in_day,0.9/ seconds_in_day ), # 'E^I_p',\n",
    "    (0/ seconds_in_day,0.9/ seconds_in_day ), # 'E^O_h',\n",
    "    (0/ seconds_in_day,0.9/ seconds_in_day ), # 'E^I_h',\n",
    "    (param_vals[str(KONp)]/100,param_vals[str(KONp)]*100 ), # 'K^ON_p', \n",
    "    (param_vals[str(KINp)]/100,param_vals[str(KINp)]*100 ), # 'K^IN_p', \n",
    "    (param_vals[str(KOCp)]/100,param_vals[str(KOCp)]*100 ), # 'K^OC_p', \n",
    "    (param_vals[str(KICp)]/100,param_vals[str(KICp)]*100 ), # 'K^IC_p', \n",
    "    (param_vals[str(KONh)]/100,param_vals[str(KONh)]*100 ), # 'K^ON_h',  \n",
    "    (param_vals[str(KINh)]/100,param_vals[str(KINh)]*100 ), # 'K^IN_h', \n",
    "    (param_vals[str(KOCh)]/100,param_vals[str(KOCh)]*100 ), # 'K^OC_h', \n",
    "    (param_vals[str(KICh)]/100,param_vals[str(KICh)]*100 ), # 'K^IC_h', \n",
    "    # 'Vmax^ON_p',\n",
    "    (param_vals[str(VmaxINp)]/100,param_vals[str(VmaxINp)]*100 ), #  'Vmax^IN_p',\n",
    "    # 'Vmax^OC_p', \n",
    "    (param_vals[str(VmaxICp)]/100,param_vals[str(VmaxICp)]*100 ), # 'Vmax^IC_p', \n",
    "    (param_vals[str(VmaxONh)]/100,param_vals[str(VmaxONh)]*100 ), # 'Vmax^ON_h', \n",
    "    (param_vals[str(VmaxINh)]/100,param_vals[str(VmaxINh)]*100 ), # 'Vmax^IN_h', \n",
    "    (param_vals[str(VmaxOCh)]/100,param_vals[str(VmaxOCh)]*100 ), # 'Vmax^OC_h', \n",
    "    # 'Vmax^IC_h', \n",
    "    (0, 1 ), # 'O_p', \n",
    "    (0, 1 ), # 'O_h', \n",
    "    (0/ seconds_in_day,1/ seconds_in_day ), # 'epsilon', \n",
    "    (param_vals[str(VTmax)]/100,param_vals[str(VTmax)]*100 ), # 'VTmax', \n",
    "    (param_vals[str(KTh)]/100,param_vals[str(KTh)]*100 ), # 'KT_h'\n",
    "    (0,2), # 'omega'\n",
    "    (param_vals[str(KSp)]/100,param_vals[str(KSp)]*10 ), # 'K^S_p', \n",
    "    (param_vals[str(KSh)]/100,param_vals[str(KSh)]*10 ), # 'K^S_h'\n",
    "    (0/ seconds_in_day,0.9/ seconds_in_day  ), # 'E^S_p',\n",
    "    (0/ seconds_in_day,0.9/ seconds_in_day  ), # 'E^S_h', \n",
    "    (-1/ seconds_in_day,1/ seconds_in_day  ), #  'M^S_p', \n",
    "    (-1/ seconds_in_day,1/ seconds_in_day  ), #  'M^S_h', \n",
    "    \n",
    "]"
   ]
  },
  {
   "cell_type": "code",
   "execution_count": 30,
   "id": "c0498f0b",
   "metadata": {},
   "outputs": [
    {
     "data": {
      "image/png": "[encoded data removed]",
      "text/latex": [
       "$\\displaystyle \\left( 33, \\  33, \\  33\\right)$"
      ],
      "text/plain": [
       "(33, 33, 33)"
      ]
     },
     "execution_count": 30,
     "metadata": {},
     "output_type": "execute_result"
    }
   ],
   "source": [
    "len(bounds), len(params_to_update), len(log_params)"
   ]
  },
  {
   "cell_type": "code",
   "execution_count": 31,
   "id": "d195915d",
   "metadata": {},
   "outputs": [],
   "source": [
    "bounds_logged = [(np.log(b[0]),  np.log(b[1]))  if lg else b for b,lg in zip(bounds, log_params)]\n",
    "\n",
    "problem = {\n",
    "    'num_vars': len(params_to_update),\n",
    "    'names': params_to_update,\n",
    "    'bounds': bounds_logged,\n",
    "}"
   ]
  },
  {
   "cell_type": "code",
   "execution_count": 32,
   "id": "77fc5cb0",
   "metadata": {},
   "outputs": [
    {
     "data": {
      "image/png": "[encoded data removed]",
      "text/latex": [
       "$\\displaystyle \\left[ \\left( 0.0, \\  1.1574074074074073e-05\\right), \\  \\left( 0.0, \\  1.1574074074074073e-05\\right), \\  \\left( 0, \\  1\\right), \\  \\left( 0, \\  1\\right), \\  \\left( 0.0, \\  1.0416666666666666e-05\\right), \\  \\left( 0.0, \\  1.0416666666666666e-05\\right), \\  \\left( 0.0, \\  1.0416666666666666e-05\\right), \\  \\left( 0.0, \\  1.0416666666666666e-05\\right), \\  \\left( 0.0014275079954526114, \\  14.275079954526113\\right), \\  \\left( 0.0014275079954526114, \\  14.275079954526113\\right), \\  \\left( 0.0014275079954526114, \\  14.275079954526113\\right), \\  \\left( 0.0014275079954526114, \\  14.275079954526113\\right), \\  \\left( 0.002502723352076287, \\  25.02723352076287\\right), \\  \\left( 0.002502723352076287, \\  25.02723352076287\\right), \\  \\left( 0.002502723352076287, \\  25.02723352076287\\right), \\  \\left( 0.002502723352076287, \\  25.02723352076287\\right), \\  \\left( 9.995791245791247e-08, \\  0.0009995791245791248\\right), \\  \\left( 9.27109638047138e-07, \\  0.00927109638047138\\right), \\  \\left( 4.9978956228956235e-08, \\  0.0004997895622895624\\right), \\  \\left( 4.9978956228956235e-08, \\  0.0004997895622895624\\right), \\  \\left( 3.3111058501683505e-07, \\  0.0033111058501683506\\right), \\  \\left( 0, \\  1\\right), \\  \\left( 0, \\  1\\right), \\  \\left( 0.0, \\  1.1574074074074073e-05\\right), \\  \\left( 2.4989478114478117e-08, \\  0.0002498947811447812\\right), \\  \\left( 0.002502723352076287, \\  25.02723352076287\\right), \\  \\left( 0, \\  2\\right), \\  \\left( 0.14275079954526113, \\  142.75079954526115\\right), \\  \\left( 0.14275079954526113, \\  142.75079954526115\\right), \\  \\left( 0.0, \\  1.0416666666666666e-05\\right), \\  \\left( 0.0, \\  1.0416666666666666e-05\\right), \\  \\left( -1.1574074074074073e-05, \\  1.1574074074074073e-05\\right), \\  \\left( -1.1574074074074073e-05, \\  1.1574074074074073e-05\\right)\\right]$"
      ],
      "text/plain": [
       "[(0.0, 1.1574074074074073e-05), (0.0, 1.1574074074074073e-05), (0, 1), (0, 1),\n",
       " (0.0, 1.0416666666666666e-05), (0.0, 1.0416666666666666e-05), (0.0, 1.0416666\n",
       "666666666e-05), (0.0, 1.0416666666666666e-05), (0.0014275079954526114, 14.2750\n",
       "79954526113), (0.0014275079954526114, 14.275079954526113), (0.0014275079954526\n",
       "114, 14.275079954526113), (0.0014275079954526114, 14.275079954526113), (0.0025\n",
       "02723352076287, 25.02723352076287), (0.002502723352076287, 25.02723352076287),\n",
       " (0.002502723352076287, 25.02723352076287), (0.002502723352076287, 25.02723352\n",
       "076287), (9.995791245791247e-08, 0.0009995791245791248), (9.27109638047138e-07\n",
       ", 0.00927109638047138), (4.9978956228956235e-08, 0.0004997895622895624), (4.99\n",
       "78956228956235e-08, 0.0004997895622895624), (3.3111058501683505e-07, 0.0033111\n",
       "058501683506), (0, 1), (0, 1), (0.0, 1.1574074074074073e-05), (2.4989478114478\n",
       "117e-08, 0.0002498947811447812), (0.002502723352076287, 25.02723352076287), (0\n",
       ", 2), (0.14275079954526113, 142.75079954526115), (0.14275079954526113, 142.750\n",
       "79954526115), (0.0, 1.0416666666666666e-05), (0.0, 1.0416666666666666e-05), (-\n",
       "1.1574074074074073e-05, 1.1574074074074073e-05), (-1.1574074074074073e-05, 1.1\n",
       "574074074074073e-05)]"
      ]
     },
     "execution_count": 32,
     "metadata": {},
     "output_type": "execute_result"
    }
   ],
   "source": [
    "bounds"
   ]
  },
  {
   "cell_type": "code",
   "execution_count": 33,
   "id": "15616aa5",
   "metadata": {},
   "outputs": [
    {
     "data": {
      "text/plain": [
       "{'num_vars': 33,\n",
       " 'names': ['M_h',\n",
       "  'M_p',\n",
       "  'gamma^D_p',\n",
       "  'gamma^D_h',\n",
       "  'E^O_p',\n",
       "  'E^I_p',\n",
       "  'E^O_h',\n",
       "  'E^I_h',\n",
       "  'K^ON_p',\n",
       "  'K^IN_p',\n",
       "  'K^OC_p',\n",
       "  'K^IC_p',\n",
       "  'K^ON_h',\n",
       "  'K^IN_h',\n",
       "  'K^OC_h',\n",
       "  'K^IC_h',\n",
       "  'Vmax^IN_p',\n",
       "  'Vmax^IC_p',\n",
       "  'Vmax^ON_h',\n",
       "  'Vmax^IN_h',\n",
       "  'Vmax^OC_h',\n",
       "  'O_p',\n",
       "  'O_h',\n",
       "  'epsilon',\n",
       "  'VTmax',\n",
       "  'KT_h',\n",
       "  'omega',\n",
       "  'K^S_p',\n",
       "  'K^S_h',\n",
       "  'E^S_p',\n",
       "  'E^S_h',\n",
       "  'M^S_p',\n",
       "  'M^S_h'],\n",
       " 'bounds': [(0.0, 1.1574074074074073e-05),\n",
       "  (0.0, 1.1574074074074073e-05),\n",
       "  (0, 1),\n",
       "  (0, 1),\n",
       "  (0.0, 1.0416666666666666e-05),\n",
       "  (0.0, 1.0416666666666666e-05),\n",
       "  (0.0, 1.0416666666666666e-05),\n",
       "  (0.0, 1.0416666666666666e-05),\n",
       "  (-6.551825015432203, 2.658515356543979),\n",
       "  (-6.551825015432203, 2.658515356543979),\n",
       "  (-6.551825015432203, 2.658515356543979),\n",
       "  (-6.551825015432203, 2.658515356543979),\n",
       "  (-5.990375799178648, 3.219964572797535),\n",
       "  (-5.990375799178648, 3.219964572797535),\n",
       "  (-5.990375799178648, 3.219964572797535),\n",
       "  (-5.990375799178648, 3.219964572797535),\n",
       "  (-16.118516614972112, -6.908176242995931),\n",
       "  (-13.891194006478615, -4.680853634502432),\n",
       "  (-16.81166379553206, -7.601323423555876),\n",
       "  (-16.81166379553206, -7.601323423555876),\n",
       "  (-14.920813423659773, -5.71047305168359),\n",
       "  (0, 1),\n",
       "  (0, 1),\n",
       "  (0.0, 1.1574074074074073e-05),\n",
       "  (-17.504810976092003, -8.294470604115821),\n",
       "  (-5.990375799178648, 3.219964572797535),\n",
       "  (0, 2),\n",
       "  (-1.946654829444112, 4.9611004495380255),\n",
       "  (-1.946654829444112, 4.9611004495380255),\n",
       "  (0.0, 1.0416666666666666e-05),\n",
       "  (0.0, 1.0416666666666666e-05),\n",
       "  (-1.1574074074074073e-05, 1.1574074074074073e-05),\n",
       "  (-1.1574074074074073e-05, 1.1574074074074073e-05)]}"
      ]
     },
     "execution_count": 33,
     "metadata": {},
     "output_type": "execute_result"
    }
   ],
   "source": [
    "problem"
   ]
  },
  {
   "cell_type": "code",
   "execution_count": 34,
   "id": "24e73827",
   "metadata": {},
   "outputs": [],
   "source": [
    "# Generate samples\n",
    "param_values = saltelli.sample(problem, 1024)"
   ]
  },
  {
   "cell_type": "code",
   "execution_count": 35,
   "id": "fba7658b",
   "metadata": {},
   "outputs": [
    {
     "data": {
      "image/png": "[encoded data removed]",
      "text/latex": [
       "$\\displaystyle \\left( 69632, \\  33\\right)$"
      ],
      "text/plain": [
       "(69632, 33)"
      ]
     },
     "execution_count": 35,
     "metadata": {},
     "output_type": "execute_result"
    }
   ],
   "source": [
    "param_values.shape"
   ]
  },
  {
   "cell_type": "code",
   "execution_count": 36,
   "id": "233100f4",
   "metadata": {},
   "outputs": [],
   "source": [
    "np.savetxt(\"param_values_log.txt.gz\", param_values)"
   ]
  },
  {
   "cell_type": "code",
   "execution_count": 33,
   "id": "dccfc210",
   "metadata": {},
   "outputs": [
    {
     "data": {
      "text/plain": [
       "array([[ 1.69542101e-08,  4.35723199e-06,  4.47753906e-01, ...,\n",
       "         1.03607178e-05,  1.07941804e-05, -2.81439887e-06],\n",
       "       [ 9.18353045e-06,  4.35723199e-06,  4.47753906e-01, ...,\n",
       "         1.03607178e-05,  1.07941804e-05, -2.81439887e-06],\n",
       "       [ 1.69542101e-08,  2.27751555e-06,  4.47753906e-01, ...,\n",
       "         1.03607178e-05,  1.07941804e-05, -2.81439887e-06],\n",
       "       ...,\n",
       "       [ 9.43784361e-07,  4.66240777e-06,  4.64355469e-01, ...,\n",
       "         1.02996826e-05, -1.97799117e-06, -4.55503111e-06],\n",
       "       [ 9.43784361e-07,  4.66240777e-06,  4.64355469e-01, ...,\n",
       "         1.02996826e-05, -5.54967810e-06, -9.84474465e-06],\n",
       "       [ 9.43784361e-07,  4.66240777e-06,  4.64355469e-01, ...,\n",
       "         1.02996826e-05, -5.54967810e-06, -4.55503111e-06]])"
      ]
     },
     "execution_count": 33,
     "metadata": {},
     "output_type": "execute_result"
    }
   ],
   "source": [
    "np.loadtxt(\"param_values.txt.gz\")"
   ]
  },
  {
   "cell_type": "code",
   "execution_count": 34,
   "id": "761b5e65",
   "metadata": {},
   "outputs": [
    {
     "data": {
      "text/plain": [
       "array([5.02974899e-07, 1.09580711e-05, 4.20410156e-01, 5.98144531e-01,\n",
       "       2.07010905e-06, 5.02014160e-06, 3.90116374e-06, 1.76493327e-06,\n",
       "       1.18845220e+01, 7.84217897e+00, 9.16639478e+00, 9.38942060e+00,\n",
       "       8.86135518e+00, 1.02054569e+01, 6.73523059e+00, 6.00208418e+00,\n",
       "       8.26329562e-04, 7.00334501e-03, 2.55044053e-04, 4.62455502e-04,\n",
       "       2.22637448e-03, 7.86132812e-02, 6.96777344e-01, 1.05850785e-05,\n",
       "       6.87147808e-05, 2.20335523e+01, 1.26074219e+00, 4.30164409e+02,\n",
       "       1.52776046e+02, 4.61324056e-06, 7.75655111e-06, 2.52052590e-06,\n",
       "       1.11106590e-05])"
      ]
     },
     "execution_count": 34,
     "metadata": {},
     "output_type": "execute_result"
    }
   ],
   "source": [
    "param_values[200]"
   ]
  },
  {
   "cell_type": "code",
   "execution_count": null,
   "id": "1aadc5c4",
   "metadata": {},
   "outputs": [],
   "source": [
    "for p, b in zip(params_to_update, bounds):\n",
    "    for v in range()\n"
   ]
  },
  {
   "cell_type": "code",
   "execution_count": 42,
   "id": "6266a415",
   "metadata": {},
   "outputs": [],
   "source": [
    "def run_sensitivity(parameter, bound, number_of_runs, run_id, ref_csv, json_dpath, out_dpath, timeout, skip_if_found=True):\n",
    "    for i,v in enumerate(np.linspace(bound[0], bound[1],num=number_of_runs)):\n",
    "        out_fprefix = f'{run_id}_{parameter}_{i}'\n",
    "        print(out_fprefix)\n",
    "        generate_json_and_run_from_X(\n",
    "            [v], [parameter], param_vals, \n",
    "            ref_csv, json_dpath, out_dpath, out_fprefix, timeout)\n"
   ]
  },
  {
   "cell_type": "code",
   "execution_count": 37,
   "id": "8448707a",
   "metadata": {},
   "outputs": [
    {
     "data": {
      "text/plain": [
       "('M_h', (0.0, 1.1574074074074073e-05))"
      ]
     },
     "execution_count": 37,
     "metadata": {},
     "output_type": "execute_result"
    }
   ],
   "source": []
  },
  {
   "cell_type": "code",
   "execution_count": 39,
   "id": "ead9932f",
   "metadata": {},
   "outputs": [],
   "source": [
    "r = np.linspace(b[0], b[1],num=number_of_runs)"
   ]
  },
  {
   "cell_type": "code",
   "execution_count": 40,
   "id": "ed1ba655",
   "metadata": {},
   "outputs": [
    {
     "data": {
      "image/png": "[encoded data removed]",
      "text/latex": [
       "$\\displaystyle 0.0$"
      ],
      "text/plain": [
       "0.0"
      ]
     },
     "execution_count": 40,
     "metadata": {},
     "output_type": "execute_result"
    }
   ],
   "source": [
    "r[0]"
   ]
  },
  {
   "cell_type": "code",
   "execution_count": 41,
   "id": "3912772f",
   "metadata": {},
   "outputs": [
    {
     "ename": "NameError",
     "evalue": "name 'ref_csv' is not defined",
     "output_type": "error",
     "traceback": [
      "\u001b[1;31m---------------------------------------------------------------------------\u001b[0m",
      "\u001b[1;31mNameError\u001b[0m                                 Traceback (most recent call last)",
      "\u001b[1;32m~\\AppData\\Local\\Temp/ipykernel_6476/1629226553.py\u001b[0m in \u001b[0;36m<module>\u001b[1;34m\u001b[0m\n\u001b[0;32m      1\u001b[0m generate_json_and_run_from_X(\n\u001b[0;32m      2\u001b[0m     \u001b[1;33m[\u001b[0m\u001b[0mr\u001b[0m\u001b[1;33m[\u001b[0m\u001b[1;36m0\u001b[0m\u001b[1;33m]\u001b[0m\u001b[1;33m]\u001b[0m\u001b[1;33m,\u001b[0m \u001b[1;33m[\u001b[0m\u001b[0mp\u001b[0m\u001b[1;33m]\u001b[0m\u001b[1;33m,\u001b[0m \u001b[0mparam_vals\u001b[0m\u001b[1;33m,\u001b[0m\u001b[1;33m\u001b[0m\u001b[1;33m\u001b[0m\u001b[0m\n\u001b[1;32m----> 3\u001b[1;33m     ref_csv, json_dpath, out_dpath, out_fprefix, timeout)\n\u001b[0m",
      "\u001b[1;31mNameError\u001b[0m: name 'ref_csv' is not defined"
     ]
    }
   ],
   "source": [
    "generate_json_and_run_from_X(\n",
    "    [r[0]], [p], param_vals, \n",
    "    ref_csv, json_dpath, out_dpath, out_fprefix, timeout)\n"
   ]
  },
  {
   "cell_type": "code",
   "execution_count": null,
   "id": "0ba8f8f2",
   "metadata": {},
   "outputs": [],
   "source": []
  }
 ],
 "metadata": {
  "kernelspec": {
   "display_name": "Python 3 (ipykernel)",
   "language": "python",
   "name": "python3"
  },
  "language_info": {
   "codemirror_mode": {
    "name": "ipython",
    "version": 3
   },
   "file_extension": ".py",
   "mimetype": "text/x-python",
   "name": "python",
   "nbconvert_exporter": "python",
   "pygments_lexer": "ipython3",
   "version": "3.7.1"
  }
 },
 "nbformat": 4,
 "nbformat_minor": 5
}
