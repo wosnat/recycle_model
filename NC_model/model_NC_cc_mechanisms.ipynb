{
 "cells": [
  {
   "cell_type": "code",
   "execution_count": 1,
   "id": "0b5df45e",
   "metadata": {},
   "outputs": [],
   "source": [
    "import numpy as np\n",
    "import pandas as pd\n",
    "import matplotlib.pyplot as plt\n",
    "import seaborn as sns\n",
    "import pprint\n",
    "sns.set(style=\"white\", context='poster')\n",
    "from sympy import *\n",
    "import math\n",
    "init_printing(use_unicode=True)\n",
    "from scipy.integrate import solve_ivp"
   ]
  },
  {
   "cell_type": "code",
   "execution_count": 2,
   "id": "4d435a10",
   "metadata": {},
   "outputs": [],
   "source": [
    "%load_ext autoreload\n",
    "%autoreload 2\n"
   ]
  },
  {
   "cell_type": "code",
   "execution_count": 3,
   "id": "047a0867",
   "metadata": {},
   "outputs": [],
   "source": [
    "#from model_equations_separate_NC import *\n",
    "from model_equations_separate_NC_sep_vmax import *\n"
   ]
  },
  {
   "cell_type": "code",
   "execution_count": 4,
   "id": "779bcf7a",
   "metadata": {},
   "outputs": [
    {
     "data": {
      "image/png": "[encoded data removed]",
      "text/html": [
       "<svg  width=\"770\" height=\"55\"><rect x=\"0\" y=\"0\" width=\"55\" height=\"55\" style=\"fill:#99cc99;stroke-width:2;stroke:rgb(255,255,255)\"/><rect x=\"55\" y=\"0\" width=\"55\" height=\"55\" style=\"fill:#ffc58f;stroke-width:2;stroke:rgb(255,255,255)\"/><rect x=\"110\" y=\"0\" width=\"55\" height=\"55\" style=\"fill:#326232;stroke-width:2;stroke:rgb(255,255,255)\"/><rect x=\"165\" y=\"0\" width=\"55\" height=\"55\" style=\"fill:#ffa98f;stroke-width:2;stroke:rgb(255,255,255)\"/><rect x=\"220\" y=\"0\" width=\"55\" height=\"55\" style=\"fill:#7285b7;stroke-width:2;stroke:rgb(255,255,255)\"/><rect x=\"275\" y=\"0\" width=\"55\" height=\"55\" style=\"fill:#000000;stroke-width:2;stroke:rgb(255,255,255)\"/><rect x=\"330\" y=\"0\" width=\"55\" height=\"55\" style=\"fill:#bbdaff;stroke-width:2;stroke:rgb(255,255,255)\"/><rect x=\"385\" y=\"0\" width=\"55\" height=\"55\" style=\"fill:#99cc99;stroke-width:2;stroke:rgb(255,255,255)\"/><rect x=\"440\" y=\"0\" width=\"55\" height=\"55\" style=\"fill:#ffc58f;stroke-width:2;stroke:rgb(255,255,255)\"/><rect x=\"495\" y=\"0\" width=\"55\" height=\"55\" style=\"fill:#326232;stroke-width:2;stroke:rgb(255,255,255)\"/><rect x=\"550\" y=\"0\" width=\"55\" height=\"55\" style=\"fill:#ffa98f;stroke-width:2;stroke:rgb(255,255,255)\"/><rect x=\"605\" y=\"0\" width=\"55\" height=\"55\" style=\"fill:#cc6666;stroke-width:2;stroke:rgb(255,255,255)\"/><rect x=\"660\" y=\"0\" width=\"55\" height=\"55\" style=\"fill:#000000;stroke-width:2;stroke:rgb(255,255,255)\"/><rect x=\"715\" y=\"0\" width=\"55\" height=\"55\" style=\"fill:#ff9da4;stroke-width:2;stroke:rgb(255,255,255)\"/></svg>"
      ],
      "text/latex": [
       "$\\displaystyle \\left[ \\left( 0.6, \\  0.8, \\  0.6\\right), \\  \\left( 1.0, \\  0.772549019607843, \\  0.56078431372549\\right), \\  \\left( 0.196078431372549, \\  0.384313725490196, \\  0.196078431372549\\right), \\  \\left( 1.0, \\  0.662745098039216, \\  0.56078431372549\\right), \\  \\left( 0.447058823529412, \\  0.52156862745098, \\  0.717647058823529\\right), \\  \\left( 0.0, \\  0.0, \\  0.0\\right), \\  \\left( 0.733333333333333, \\  0.854901960784314, \\  1.0\\right), \\  \\left( 0.6, \\  0.8, \\  0.6\\right), \\  \\left( 1.0, \\  0.772549019607843, \\  0.56078431372549\\right), \\  \\left( 0.196078431372549, \\  0.384313725490196, \\  0.196078431372549\\right), \\  \\left( 1.0, \\  0.662745098039216, \\  0.56078431372549\\right), \\  \\left( 0.8, \\  0.4, \\  0.4\\right), \\  \\left( 0.0, \\  0.0, \\  0.0\\right), \\  \\left( 1.0, \\  0.615686274509804, \\  0.643137254901961\\right)\\right]$"
      ],
      "text/plain": [
       "[(0.6, 0.8, 0.6), (1.0, 0.7725490196078432, 0.5607843137254902), (0.1960784313\n",
       "7254902, 0.3843137254901961, 0.19607843137254902), (1.0, 0.6627450980392157, 0\n",
       ".5607843137254902), (0.4470588235294118, 0.5215686274509804, 0.717647058823529\n",
       "4), (0.0, 0.0, 0.0), (0.7333333333333333, 0.8549019607843137, 1.0), (0.6, 0.8,\n",
       " 0.6), (1.0, 0.7725490196078432, 0.5607843137254902), (0.19607843137254902, 0.\n",
       "3843137254901961, 0.19607843137254902), (1.0, 0.6627450980392157, 0.5607843137\n",
       "254902), (0.8, 0.4, 0.4), (0.0, 0.0, 0.0), (1.0, 0.615686274509804, 0.64313725\n",
       "49019608)]"
      ]
     },
     "execution_count": 4,
     "metadata": {},
     "output_type": "execute_result"
    }
   ],
   "source": [
    "\n",
    "HCOLOR = '#ffc58f'\n",
    "HCOLOR_light = '#ffd2a9'\n",
    "PCOLOR = '#99cc99'\n",
    "PCOLOR_light = '#aad5aa'\n",
    "\n",
    "DONCOLOR = '#7285b7'\n",
    "RDONCOLOR = 'black' #'#00334D'\n",
    "DINCOLOR = '#bbdaff' #'#000066'\n",
    "\n",
    "DOCCOLOR = '#cc6666'\n",
    "RDOCCOLOR = 'black' #'#00334D'\n",
    "DICCOLOR = '#ff9da4' #'#000066'\n",
    "\n",
    "SHCOLOR = '#ffa98f'\n",
    "SPCOLOR = '#326232'\n",
    "\n",
    "\n",
    "ccnpalette = [PCOLOR, HCOLOR, SPCOLOR, SHCOLOR,DONCOLOR, RDONCOLOR, DINCOLOR]\n",
    "ccnorder = ['Bp', 'Bh', 'Sp', 'Sh', 'DON', 'RDON', 'DIN', ]\n",
    "cccpalette = [PCOLOR, HCOLOR, SPCOLOR, SHCOLOR, DOCCOLOR, RDOCCOLOR, DICCOLOR]\n",
    "cccorder = ['Bp[C]', 'Bh[C]', 'Sp[C]', 'Sh[C]', 'DOC', 'RDOC', 'DIC']\n",
    "ccxpalette = [PCOLOR, HCOLOR]\n",
    "ccxorder = ['Xp', 'Xh']\n",
    "hnpalette = [ HCOLOR_light, SPCOLOR, SHCOLOR, DONCOLOR, RDONCOLOR, DINCOLOR]\n",
    "hnorder = [ 'Bh', 'Sp', 'Sh', 'DON', 'RDON', 'DIN']\n",
    "hcpalette = [ HCOLOR_light, SPCOLOR, SHCOLOR, DOCCOLOR, RDOCCOLOR, DICCOLOR]\n",
    "hcorder = [ 'Bh[C]', 'Sp[C]', 'Sh[C]', 'DOC', 'RDOC', 'DIC']\n",
    "pnpalette = [ PCOLOR_light, SPCOLOR, SHCOLOR, DONCOLOR, RDONCOLOR, DINCOLOR]\n",
    "pnorder = [ 'Bp', 'Sp', 'Sh', 'DON', 'RDON', 'DIN']\n",
    "pcpalette = [ PCOLOR_light, SPCOLOR, SHCOLOR, DOCCOLOR, RDOCCOLOR, DICCOLOR]\n",
    "pcorder = [ 'Bp[C]', 'Sp[C]', 'Sh[C]', 'DOC', 'RDOC', 'DIC']\n",
    "sns.color_palette(ccnpalette + cccpalette, )\n",
    "# \n"
   ]
  },
  {
   "cell_type": "code",
   "execution_count": 5,
   "id": "abe1785c",
   "metadata": {},
   "outputs": [
    {
     "data": {
      "image/png": "[encoded data removed]",
      "text/html": [
       "<svg  width=\"220\" height=\"55\"><rect x=\"0\" y=\"0\" width=\"55\" height=\"55\" style=\"fill:#99cc99;stroke-width:2;stroke:rgb(255,255,255)\"/><rect x=\"55\" y=\"0\" width=\"55\" height=\"55\" style=\"fill:#ffc58f;stroke-width:2;stroke:rgb(255,255,255)\"/><rect x=\"110\" y=\"0\" width=\"55\" height=\"55\" style=\"fill:#aad5aa;stroke-width:2;stroke:rgb(255,255,255)\"/><rect x=\"165\" y=\"0\" width=\"55\" height=\"55\" style=\"fill:#ffd2a9;stroke-width:2;stroke:rgb(255,255,255)\"/></svg>"
      ],
      "text/latex": [
       "$\\displaystyle \\left[ \\left( 0.6, \\  0.8, \\  0.6\\right), \\  \\left( 1.0, \\  0.772549019607843, \\  0.56078431372549\\right), \\  \\left( 0.666666666666667, \\  0.835294117647059, \\  0.666666666666667\\right), \\  \\left( 1.0, \\  0.823529411764706, \\  0.662745098039216\\right)\\right]$"
      ],
      "text/plain": [
       "[(0.6, 0.8, 0.6), (1.0, 0.7725490196078432, 0.5607843137254902), (0.6666666666\n",
       "666666, 0.8352941176470589, 0.6666666666666666), (1.0, 0.8235294117647058, 0.6\n",
       "627450980392157)]"
      ]
     },
     "execution_count": 5,
     "metadata": {},
     "output_type": "execute_result"
    }
   ],
   "source": [
    "\n",
    " \n",
    "sns.color_palette([PCOLOR, HCOLOR, PCOLOR_light, HCOLOR_light] )\n"
   ]
  },
  {
   "cell_type": "code",
   "execution_count": 6,
   "id": "0f714019",
   "metadata": {},
   "outputs": [],
   "source": [
    "refdf = pd.read_csv('prelim_bottle.csv')\n"
   ]
  },
  {
   "cell_type": "code",
   "execution_count": 7,
   "id": "97f8b1bb",
   "metadata": {},
   "outputs": [
    {
     "data": {
      "text/html": [
       "<div>\n",
       "<style scoped>\n",
       "    .dataframe tbody tr th:only-of-type {\n",
       "        vertical-align: middle;\n",
       "    }\n",
       "\n",
       "    .dataframe tbody tr th {\n",
       "        vertical-align: top;\n",
       "    }\n",
       "\n",
       "    .dataframe thead th {\n",
       "        text-align: right;\n",
       "    }\n",
       "</style>\n",
       "<table border=\"1\" class=\"dataframe\">\n",
       "  <thead>\n",
       "    <tr style=\"text-align: right;\">\n",
       "      <th></th>\n",
       "      <th>Unnamed: 0.1</th>\n",
       "      <th>Unnamed: 0</th>\n",
       "      <th>day</th>\n",
       "      <th>1A3</th>\n",
       "      <th>cc 1A3</th>\n",
       "      <th>cc mit9312</th>\n",
       "      <th>mit9312</th>\n",
       "      <th>cc Bh[N]</th>\n",
       "      <th>Bh[N]</th>\n",
       "      <th>cc Bp[N]</th>\n",
       "      <th>Bp[N]</th>\n",
       "      <th>cc Bh[C]</th>\n",
       "      <th>Bh[C]</th>\n",
       "      <th>cc Bp[C]</th>\n",
       "      <th>Bp[C]</th>\n",
       "      <th>t</th>\n",
       "    </tr>\n",
       "  </thead>\n",
       "  <tbody>\n",
       "    <tr>\n",
       "      <th>0</th>\n",
       "      <td>0</td>\n",
       "      <td>0</td>\n",
       "      <td>0.000000</td>\n",
       "      <td>9.297512e+09</td>\n",
       "      <td>4.698967e+09</td>\n",
       "      <td>7.178947e+08</td>\n",
       "      <td>1.032630e+09</td>\n",
       "      <td>10.069216</td>\n",
       "      <td>19.923240</td>\n",
       "      <td>0.307669</td>\n",
       "      <td>0.442556</td>\n",
       "      <td>45.311472</td>\n",
       "      <td>89.654581</td>\n",
       "      <td>2.153684</td>\n",
       "      <td>3.097889</td>\n",
       "      <td>0.000000</td>\n",
       "    </tr>\n",
       "    <tr>\n",
       "      <th>1</th>\n",
       "      <td>1</td>\n",
       "      <td>1</td>\n",
       "      <td>1.820833</td>\n",
       "      <td>1.469212e+10</td>\n",
       "      <td>4.648133e+09</td>\n",
       "      <td>1.753684e+09</td>\n",
       "      <td>1.641075e+09</td>\n",
       "      <td>9.960286</td>\n",
       "      <td>31.483118</td>\n",
       "      <td>0.751579</td>\n",
       "      <td>0.703318</td>\n",
       "      <td>44.821287</td>\n",
       "      <td>141.674030</td>\n",
       "      <td>5.261053</td>\n",
       "      <td>4.923225</td>\n",
       "      <td>157319.999971</td>\n",
       "    </tr>\n",
       "    <tr>\n",
       "      <th>2</th>\n",
       "      <td>2</td>\n",
       "      <td>2</td>\n",
       "      <td>4.832639</td>\n",
       "      <td>6.030062e+09</td>\n",
       "      <td>2.996029e+09</td>\n",
       "      <td>9.823158e+09</td>\n",
       "      <td>2.853167e+09</td>\n",
       "      <td>6.420061</td>\n",
       "      <td>12.921562</td>\n",
       "      <td>4.209925</td>\n",
       "      <td>1.222786</td>\n",
       "      <td>28.890276</td>\n",
       "      <td>58.147028</td>\n",
       "      <td>29.469474</td>\n",
       "      <td>8.559501</td>\n",
       "      <td>417540.000010</td>\n",
       "    </tr>\n",
       "    <tr>\n",
       "      <th>3</th>\n",
       "      <td>3</td>\n",
       "      <td>3</td>\n",
       "      <td>6.853472</td>\n",
       "      <td>4.987215e+09</td>\n",
       "      <td>2.290707e+09</td>\n",
       "      <td>2.812842e+10</td>\n",
       "      <td>1.576008e+10</td>\n",
       "      <td>4.908658</td>\n",
       "      <td>10.686889</td>\n",
       "      <td>12.055038</td>\n",
       "      <td>6.754319</td>\n",
       "      <td>22.088959</td>\n",
       "      <td>48.091001</td>\n",
       "      <td>84.385263</td>\n",
       "      <td>47.280230</td>\n",
       "      <td>592139.999981</td>\n",
       "    </tr>\n",
       "    <tr>\n",
       "      <th>4</th>\n",
       "      <td>4</td>\n",
       "      <td>4</td>\n",
       "      <td>8.779167</td>\n",
       "      <td>2.867312e+09</td>\n",
       "      <td>1.598094e+09</td>\n",
       "      <td>6.262316e+10</td>\n",
       "      <td>4.113340e+10</td>\n",
       "      <td>3.424487</td>\n",
       "      <td>6.144239</td>\n",
       "      <td>26.838496</td>\n",
       "      <td>17.628599</td>\n",
       "      <td>15.410189</td>\n",
       "      <td>27.649077</td>\n",
       "      <td>187.869474</td>\n",
       "      <td>123.400192</td>\n",
       "      <td>758520.000029</td>\n",
       "    </tr>\n",
       "  </tbody>\n",
       "</table>\n",
       "</div>"
      ],
      "text/plain": [
       "   Unnamed: 0.1  Unnamed: 0       day           1A3        cc 1A3  \\\n",
       "0             0           0  0.000000  9.297512e+09  4.698967e+09   \n",
       "1             1           1  1.820833  1.469212e+10  4.648133e+09   \n",
       "2             2           2  4.832639  6.030062e+09  2.996029e+09   \n",
       "3             3           3  6.853472  4.987215e+09  2.290707e+09   \n",
       "4             4           4  8.779167  2.867312e+09  1.598094e+09   \n",
       "\n",
       "     cc mit9312       mit9312   cc Bh[N]      Bh[N]   cc Bp[N]      Bp[N]  \\\n",
       "0  7.178947e+08  1.032630e+09  10.069216  19.923240   0.307669   0.442556   \n",
       "1  1.753684e+09  1.641075e+09   9.960286  31.483118   0.751579   0.703318   \n",
       "2  9.823158e+09  2.853167e+09   6.420061  12.921562   4.209925   1.222786   \n",
       "3  2.812842e+10  1.576008e+10   4.908658  10.686889  12.055038   6.754319   \n",
       "4  6.262316e+10  4.113340e+10   3.424487   6.144239  26.838496  17.628599   \n",
       "\n",
       "    cc Bh[C]       Bh[C]    cc Bp[C]       Bp[C]              t  \n",
       "0  45.311472   89.654581    2.153684    3.097889       0.000000  \n",
       "1  44.821287  141.674030    5.261053    4.923225  157319.999971  \n",
       "2  28.890276   58.147028   29.469474    8.559501  417540.000010  \n",
       "3  22.088959   48.091001   84.385263   47.280230  592139.999981  \n",
       "4  15.410189   27.649077  187.869474  123.400192  758520.000029  "
      ]
     },
     "execution_count": 7,
     "metadata": {},
     "output_type": "execute_result"
    }
   ],
   "source": [
    "refdf.head()"
   ]
  },
  {
   "cell_type": "code",
   "execution_count": 8,
   "id": "e94b03de",
   "metadata": {},
   "outputs": [
    {
     "data": {
      "text/plain": [
       "['COMPETITION',\n",
       " 'DETOXIFICATION',\n",
       " 'H_EXUDATION',\n",
       " 'H_OVERFLOW',\n",
       " 'H_RECYCLING',\n",
       " 'H_SIGNAL',\n",
       " 'MIXOTROPHY',\n",
       " 'P_EXUDATION',\n",
       " 'P_OVERFLOW',\n",
       " 'P_RECYCLING',\n",
       " 'P_SIGNAL',\n",
       " '__class__',\n",
       " '__doc__',\n",
       " '__members__',\n",
       " '__module__']"
      ]
     },
     "execution_count": 8,
     "metadata": {},
     "output_type": "execute_result"
    }
   ],
   "source": [
    "dir(DISABLE_MECHANISMS)"
   ]
  },
  {
   "cell_type": "code",
   "execution_count": 9,
   "id": "3a4c377e",
   "metadata": {},
   "outputs": [],
   "source": [
    "def run_with_mechanisms_disabled(m):\n",
    "    print(m)\n",
    "    new_params = disable_mechanism(m, param_vals)\n",
    "    #prelim_bottle.csv\n",
    "    err = generate_json_and_run(\n",
    "        new_params, os.path.join('prepare data', 'refdf_10cc_12.csv.gz'), 'mechanism_json', 'mechanism_out', \n",
    "        f\"dis_{ str(m).replace('DISABLE_MECHANISMS.', '').replace('|','-') }\", timeout=5*60)\n",
    "\n",
    "    print (m, err)"
   ]
  },
  {
   "cell_type": "code",
   "execution_count": 10,
   "id": "3840e889",
   "metadata": {},
   "outputs": [],
   "source": [
    "os.makedirs(\"mechanism_out\", exist_ok=True)\n",
    "os.makedirs(\"mechanism_json\", exist_ok=True)\n"
   ]
  },
  {
   "cell_type": "code",
   "execution_count": 11,
   "id": "5f511988",
   "metadata": {},
   "outputs": [
    {
     "data": {
      "text/plain": [
       "[<DISABLE_MECHANISMS.COMPETITION: 1>,\n",
       " <DISABLE_MECHANISMS.P_RECYCLING: 2>,\n",
       " <DISABLE_MECHANISMS.H_RECYCLING: 4>,\n",
       " <DISABLE_MECHANISMS.P_EXUDATION: 8>,\n",
       " <DISABLE_MECHANISMS.H_EXUDATION: 16>,\n",
       " <DISABLE_MECHANISMS.P_OVERFLOW: 32>,\n",
       " <DISABLE_MECHANISMS.H_OVERFLOW: 64>,\n",
       " <DISABLE_MECHANISMS.MIXOTROPHY: 128>,\n",
       " <DISABLE_MECHANISMS.DETOXIFICATION: 256>,\n",
       " <DISABLE_MECHANISMS.P_SIGNAL: 512>,\n",
       " <DISABLE_MECHANISMS.H_SIGNAL: 1024>]"
      ]
     },
     "execution_count": 11,
     "metadata": {},
     "output_type": "execute_result"
    }
   ],
   "source": [
    "list(DISABLE_MECHANISMS)"
   ]
  },
  {
   "cell_type": "code",
   "execution_count": 19,
   "id": "ad1b5f2e",
   "metadata": {
    "scrolled": false
   },
   "outputs": [
    {
     "name": "stdout",
     "output_type": "stream",
     "text": [
      "DISABLE_MECHANISMS.0\n",
      "stdout: simulation time 76.3125\n",
      "\n",
      "MSE: 1447866.0362166672\n",
      "\n",
      "stderr: \n",
      "DISABLE_MECHANISMS.0 1447866.0362166672\n",
      "DISABLE_MECHANISMS.COMPETITION\n",
      "stdout: simulation time 61.84375\n",
      "\n",
      "MSE: 1495472.4606348095\n",
      "\n",
      "stderr: \n",
      "DISABLE_MECHANISMS.COMPETITION 1495472.4606348095\n",
      "DISABLE_MECHANISMS.P_RECYCLING\n",
      "stdout: simulation time 74.0\n",
      "\n",
      "MSE: 1498176.5534550054\n",
      "\n",
      "stderr: \n",
      "DISABLE_MECHANISMS.P_RECYCLING 1498176.5534550054\n",
      "DISABLE_MECHANISMS.H_RECYCLING\n",
      "stdout: simulation time 76.640625\n",
      "\n",
      "MSE: 1511861.0575495372\n",
      "\n",
      "stderr: \n",
      "DISABLE_MECHANISMS.H_RECYCLING 1511861.0575495372\n",
      "DISABLE_MECHANISMS.P_EXUDATION\n",
      "stdout: simulation time 77.5\n",
      "\n",
      "MSE: 1451470.0139656535\n",
      "\n",
      "stderr: \n",
      "DISABLE_MECHANISMS.P_EXUDATION 1451470.0139656535\n",
      "DISABLE_MECHANISMS.H_EXUDATION\n",
      "stdout: simulation time 61.046875\n",
      "\n",
      "MSE: 1396973.377021325\n",
      "\n",
      "stderr: \n",
      "DISABLE_MECHANISMS.H_EXUDATION 1396973.377021325\n",
      "DISABLE_MECHANISMS.P_OVERFLOW\n",
      "stdout: simulation time 53.984375\n",
      "\n",
      "MSE: 1511546.5691876495\n",
      "\n",
      "stderr: \n",
      "DISABLE_MECHANISMS.P_OVERFLOW 1511546.5691876495\n",
      "DISABLE_MECHANISMS.H_OVERFLOW\n",
      "stdout: simulation time 60.734375\n",
      "\n",
      "MSE: 1465254.1344702605\n",
      "\n",
      "stderr: \n",
      "DISABLE_MECHANISMS.H_OVERFLOW 1465254.1344702605\n",
      "DISABLE_MECHANISMS.MIXOTROPHY\n",
      "stdout: simulation time 75.265625\n",
      "\n",
      "MSE: 1444252.4789157137\n",
      "\n",
      "stderr: \n",
      "DISABLE_MECHANISMS.MIXOTROPHY 1444252.4789157137\n",
      "DISABLE_MECHANISMS.DETOXIFICATION\n"
     ]
    },
    {
     "ename": "KeyboardInterrupt",
     "evalue": "",
     "output_type": "error",
     "traceback": [
      "\u001b[1;31m---------------------------------------------------------------------------\u001b[0m",
      "\u001b[1;31mKeyboardInterrupt\u001b[0m                         Traceback (most recent call last)",
      "\u001b[1;32m~\\AppData\\Local\\Temp/ipykernel_17160/1968777767.py\u001b[0m in \u001b[0;36m<module>\u001b[1;34m\u001b[0m\n\u001b[1;32m----> 1\u001b[1;33m \u001b[0malldfs\u001b[0m \u001b[1;33m=\u001b[0m \u001b[1;33m[\u001b[0m\u001b[0mrun_with_mechanisms_disabled\u001b[0m\u001b[1;33m(\u001b[0m\u001b[0mm\u001b[0m\u001b[1;33m)\u001b[0m \u001b[1;32mfor\u001b[0m  \u001b[0mm\u001b[0m \u001b[1;32min\u001b[0m \u001b[1;33m[\u001b[0m\u001b[0mDISABLE_MECHANISMS\u001b[0m\u001b[1;33m(\u001b[0m\u001b[1;36m0\u001b[0m\u001b[1;33m)\u001b[0m\u001b[1;33m]\u001b[0m \u001b[1;33m+\u001b[0m \u001b[0mlist\u001b[0m\u001b[1;33m(\u001b[0m\u001b[0mDISABLE_MECHANISMS\u001b[0m\u001b[1;33m)\u001b[0m\u001b[1;33m]\u001b[0m\u001b[1;33m\u001b[0m\u001b[1;33m\u001b[0m\u001b[0m\n\u001b[0m",
      "\u001b[1;32m~\\AppData\\Local\\Temp/ipykernel_17160/1968777767.py\u001b[0m in \u001b[0;36m<listcomp>\u001b[1;34m(.0)\u001b[0m\n\u001b[1;32m----> 1\u001b[1;33m \u001b[0malldfs\u001b[0m \u001b[1;33m=\u001b[0m \u001b[1;33m[\u001b[0m\u001b[0mrun_with_mechanisms_disabled\u001b[0m\u001b[1;33m(\u001b[0m\u001b[0mm\u001b[0m\u001b[1;33m)\u001b[0m \u001b[1;32mfor\u001b[0m  \u001b[0mm\u001b[0m \u001b[1;32min\u001b[0m \u001b[1;33m[\u001b[0m\u001b[0mDISABLE_MECHANISMS\u001b[0m\u001b[1;33m(\u001b[0m\u001b[1;36m0\u001b[0m\u001b[1;33m)\u001b[0m\u001b[1;33m]\u001b[0m \u001b[1;33m+\u001b[0m \u001b[0mlist\u001b[0m\u001b[1;33m(\u001b[0m\u001b[0mDISABLE_MECHANISMS\u001b[0m\u001b[1;33m)\u001b[0m\u001b[1;33m]\u001b[0m\u001b[1;33m\u001b[0m\u001b[1;33m\u001b[0m\u001b[0m\n\u001b[0m",
      "\u001b[1;32m~\\AppData\\Local\\Temp/ipykernel_17160/3453529293.py\u001b[0m in \u001b[0;36mrun_with_mechanisms_disabled\u001b[1;34m(m)\u001b[0m\n\u001b[0;32m      5\u001b[0m     err = generate_json_and_run(\n\u001b[0;32m      6\u001b[0m         \u001b[0mnew_params\u001b[0m\u001b[1;33m,\u001b[0m \u001b[0mos\u001b[0m\u001b[1;33m.\u001b[0m\u001b[0mpath\u001b[0m\u001b[1;33m.\u001b[0m\u001b[0mjoin\u001b[0m\u001b[1;33m(\u001b[0m\u001b[1;34m'prepare data'\u001b[0m\u001b[1;33m,\u001b[0m \u001b[1;34m'refdf_10cc_12.csv.gz'\u001b[0m\u001b[1;33m)\u001b[0m\u001b[1;33m,\u001b[0m \u001b[1;34m'mechanism_json'\u001b[0m\u001b[1;33m,\u001b[0m \u001b[1;34m'mechanism_out'\u001b[0m\u001b[1;33m,\u001b[0m\u001b[1;33m\u001b[0m\u001b[1;33m\u001b[0m\u001b[0m\n\u001b[1;32m----> 7\u001b[1;33m         f\"dis_{ str(m).replace('DISABLE_MECHANISMS.', '').replace('|','-') }\", timeout=5*60)\n\u001b[0m\u001b[0;32m      8\u001b[0m \u001b[1;33m\u001b[0m\u001b[0m\n\u001b[0;32m      9\u001b[0m     \u001b[0mprint\u001b[0m \u001b[1;33m(\u001b[0m\u001b[0mm\u001b[0m\u001b[1;33m,\u001b[0m \u001b[0merr\u001b[0m\u001b[1;33m)\u001b[0m\u001b[1;33m\u001b[0m\u001b[1;33m\u001b[0m\u001b[0m\n",
      "\u001b[1;32m~\\Documents\\GitHub\\recycle_model\\model_equations_separate_NC_sep_vmax.py\u001b[0m in \u001b[0;36mgenerate_json_and_run\u001b[1;34m(params, ref_csv, json_dpath, out_dpath, out_fprefix, timeout)\u001b[0m\n\u001b[0;32m    744\u001b[0m     \u001b[0mjson_fpath\u001b[0m \u001b[1;33m=\u001b[0m \u001b[0mos\u001b[0m\u001b[1;33m.\u001b[0m\u001b[0mpath\u001b[0m\u001b[1;33m.\u001b[0m\u001b[0mjoin\u001b[0m\u001b[1;33m(\u001b[0m\u001b[0mjson_dpath\u001b[0m\u001b[1;33m,\u001b[0m \u001b[1;34mf'{run_id}_params.json'\u001b[0m\u001b[1;33m)\u001b[0m\u001b[1;33m\u001b[0m\u001b[1;33m\u001b[0m\u001b[0m\n\u001b[0;32m    745\u001b[0m     \u001b[0mparams2json\u001b[0m\u001b[1;33m(\u001b[0m\u001b[0mparams\u001b[0m\u001b[1;33m,\u001b[0m \u001b[0mjson_fpath\u001b[0m\u001b[1;33m)\u001b[0m\u001b[1;33m\u001b[0m\u001b[1;33m\u001b[0m\u001b[0m\n\u001b[1;32m--> 746\u001b[1;33m     \u001b[1;32mreturn\u001b[0m \u001b[0mrun_with_timout\u001b[0m\u001b[1;33m(\u001b[0m\u001b[0mjson_fpath\u001b[0m\u001b[1;33m,\u001b[0m \u001b[0mref_csv\u001b[0m\u001b[1;33m,\u001b[0m \u001b[0mout_dpath\u001b[0m\u001b[1;33m,\u001b[0m \u001b[0mrun_id\u001b[0m\u001b[1;33m,\u001b[0m \u001b[0mtimeout\u001b[0m\u001b[1;33m)\u001b[0m\u001b[1;33m\u001b[0m\u001b[1;33m\u001b[0m\u001b[0m\n\u001b[0m\u001b[0;32m    747\u001b[0m \u001b[1;33m\u001b[0m\u001b[0m\n\u001b[0;32m    748\u001b[0m \u001b[1;33m\u001b[0m\u001b[0m\n",
      "\u001b[1;32m~\\Documents\\GitHub\\recycle_model\\model_equations_separate_NC_sep_vmax.py\u001b[0m in \u001b[0;36mrun_with_timout\u001b[1;34m(json_fpath, ref_csv, out_dpath, run_id, timeout)\u001b[0m\n\u001b[0;32m    770\u001b[0m              \u001b[1;34m'--outdpath'\u001b[0m\u001b[1;33m,\u001b[0m \u001b[0mout_dpath\u001b[0m\u001b[1;33m,\u001b[0m\u001b[1;33m\u001b[0m\u001b[1;33m\u001b[0m\u001b[0m\n\u001b[0;32m    771\u001b[0m             ], \n\u001b[1;32m--> 772\u001b[1;33m             \u001b[0mcapture_output\u001b[0m\u001b[1;33m=\u001b[0m\u001b[1;32mTrue\u001b[0m\u001b[1;33m,\u001b[0m \u001b[0mtext\u001b[0m\u001b[1;33m=\u001b[0m\u001b[1;32mTrue\u001b[0m\u001b[1;33m,\u001b[0m \u001b[0mcheck\u001b[0m\u001b[1;33m=\u001b[0m\u001b[1;32mTrue\u001b[0m\u001b[1;33m,\u001b[0m \u001b[0mtimeout\u001b[0m\u001b[1;33m=\u001b[0m\u001b[0mtimeout\u001b[0m\u001b[1;33m,\u001b[0m\u001b[1;33m\u001b[0m\u001b[1;33m\u001b[0m\u001b[0m\n\u001b[0m\u001b[0;32m    773\u001b[0m         )\n\u001b[0;32m    774\u001b[0m         \u001b[0mprint\u001b[0m\u001b[1;33m(\u001b[0m\u001b[1;34m\"stdout:\"\u001b[0m\u001b[1;33m,\u001b[0m \u001b[0mresult\u001b[0m\u001b[1;33m.\u001b[0m\u001b[0mstdout\u001b[0m\u001b[1;33m)\u001b[0m\u001b[1;33m\u001b[0m\u001b[1;33m\u001b[0m\u001b[0m\n",
      "\u001b[1;32m~\\Anaconda3\\lib\\subprocess.py\u001b[0m in \u001b[0;36mrun\u001b[1;34m(input, capture_output, timeout, check, *popenargs, **kwargs)\u001b[0m\n\u001b[0;32m    466\u001b[0m     \u001b[1;32mwith\u001b[0m \u001b[0mPopen\u001b[0m\u001b[1;33m(\u001b[0m\u001b[1;33m*\u001b[0m\u001b[0mpopenargs\u001b[0m\u001b[1;33m,\u001b[0m \u001b[1;33m**\u001b[0m\u001b[0mkwargs\u001b[0m\u001b[1;33m)\u001b[0m \u001b[1;32mas\u001b[0m \u001b[0mprocess\u001b[0m\u001b[1;33m:\u001b[0m\u001b[1;33m\u001b[0m\u001b[1;33m\u001b[0m\u001b[0m\n\u001b[0;32m    467\u001b[0m         \u001b[1;32mtry\u001b[0m\u001b[1;33m:\u001b[0m\u001b[1;33m\u001b[0m\u001b[1;33m\u001b[0m\u001b[0m\n\u001b[1;32m--> 468\u001b[1;33m             \u001b[0mstdout\u001b[0m\u001b[1;33m,\u001b[0m \u001b[0mstderr\u001b[0m \u001b[1;33m=\u001b[0m \u001b[0mprocess\u001b[0m\u001b[1;33m.\u001b[0m\u001b[0mcommunicate\u001b[0m\u001b[1;33m(\u001b[0m\u001b[0minput\u001b[0m\u001b[1;33m,\u001b[0m \u001b[0mtimeout\u001b[0m\u001b[1;33m=\u001b[0m\u001b[0mtimeout\u001b[0m\u001b[1;33m)\u001b[0m\u001b[1;33m\u001b[0m\u001b[1;33m\u001b[0m\u001b[0m\n\u001b[0m\u001b[0;32m    469\u001b[0m         \u001b[1;32mexcept\u001b[0m \u001b[0mTimeoutExpired\u001b[0m\u001b[1;33m:\u001b[0m\u001b[1;33m\u001b[0m\u001b[1;33m\u001b[0m\u001b[0m\n\u001b[0;32m    470\u001b[0m             \u001b[0mprocess\u001b[0m\u001b[1;33m.\u001b[0m\u001b[0mkill\u001b[0m\u001b[1;33m(\u001b[0m\u001b[1;33m)\u001b[0m\u001b[1;33m\u001b[0m\u001b[1;33m\u001b[0m\u001b[0m\n",
      "\u001b[1;32m~\\Anaconda3\\lib\\subprocess.py\u001b[0m in \u001b[0;36mcommunicate\u001b[1;34m(self, input, timeout)\u001b[0m\n\u001b[0;32m    931\u001b[0m \u001b[1;33m\u001b[0m\u001b[0m\n\u001b[0;32m    932\u001b[0m             \u001b[1;32mtry\u001b[0m\u001b[1;33m:\u001b[0m\u001b[1;33m\u001b[0m\u001b[1;33m\u001b[0m\u001b[0m\n\u001b[1;32m--> 933\u001b[1;33m                 \u001b[0mstdout\u001b[0m\u001b[1;33m,\u001b[0m \u001b[0mstderr\u001b[0m \u001b[1;33m=\u001b[0m \u001b[0mself\u001b[0m\u001b[1;33m.\u001b[0m\u001b[0m_communicate\u001b[0m\u001b[1;33m(\u001b[0m\u001b[0minput\u001b[0m\u001b[1;33m,\u001b[0m \u001b[0mendtime\u001b[0m\u001b[1;33m,\u001b[0m \u001b[0mtimeout\u001b[0m\u001b[1;33m)\u001b[0m\u001b[1;33m\u001b[0m\u001b[1;33m\u001b[0m\u001b[0m\n\u001b[0m\u001b[0;32m    934\u001b[0m             \u001b[1;32mexcept\u001b[0m \u001b[0mKeyboardInterrupt\u001b[0m\u001b[1;33m:\u001b[0m\u001b[1;33m\u001b[0m\u001b[1;33m\u001b[0m\u001b[0m\n\u001b[0;32m    935\u001b[0m                 \u001b[1;31m# https://bugs.python.org/issue25942\u001b[0m\u001b[1;33m\u001b[0m\u001b[1;33m\u001b[0m\u001b[1;33m\u001b[0m\u001b[0m\n",
      "\u001b[1;32m~\\Anaconda3\\lib\\subprocess.py\u001b[0m in \u001b[0;36m_communicate\u001b[1;34m(self, input, endtime, orig_timeout)\u001b[0m\n\u001b[0;32m   1259\u001b[0m             \u001b[1;31m# calls communicate again.\u001b[0m\u001b[1;33m\u001b[0m\u001b[1;33m\u001b[0m\u001b[1;33m\u001b[0m\u001b[0m\n\u001b[0;32m   1260\u001b[0m             \u001b[1;32mif\u001b[0m \u001b[0mself\u001b[0m\u001b[1;33m.\u001b[0m\u001b[0mstdout\u001b[0m \u001b[1;32mis\u001b[0m \u001b[1;32mnot\u001b[0m \u001b[1;32mNone\u001b[0m\u001b[1;33m:\u001b[0m\u001b[1;33m\u001b[0m\u001b[1;33m\u001b[0m\u001b[0m\n\u001b[1;32m-> 1261\u001b[1;33m                 \u001b[0mself\u001b[0m\u001b[1;33m.\u001b[0m\u001b[0mstdout_thread\u001b[0m\u001b[1;33m.\u001b[0m\u001b[0mjoin\u001b[0m\u001b[1;33m(\u001b[0m\u001b[0mself\u001b[0m\u001b[1;33m.\u001b[0m\u001b[0m_remaining_time\u001b[0m\u001b[1;33m(\u001b[0m\u001b[0mendtime\u001b[0m\u001b[1;33m)\u001b[0m\u001b[1;33m)\u001b[0m\u001b[1;33m\u001b[0m\u001b[1;33m\u001b[0m\u001b[0m\n\u001b[0m\u001b[0;32m   1262\u001b[0m                 \u001b[1;32mif\u001b[0m \u001b[0mself\u001b[0m\u001b[1;33m.\u001b[0m\u001b[0mstdout_thread\u001b[0m\u001b[1;33m.\u001b[0m\u001b[0mis_alive\u001b[0m\u001b[1;33m(\u001b[0m\u001b[1;33m)\u001b[0m\u001b[1;33m:\u001b[0m\u001b[1;33m\u001b[0m\u001b[1;33m\u001b[0m\u001b[0m\n\u001b[0;32m   1263\u001b[0m                     \u001b[1;32mraise\u001b[0m \u001b[0mTimeoutExpired\u001b[0m\u001b[1;33m(\u001b[0m\u001b[0mself\u001b[0m\u001b[1;33m.\u001b[0m\u001b[0margs\u001b[0m\u001b[1;33m,\u001b[0m \u001b[0morig_timeout\u001b[0m\u001b[1;33m)\u001b[0m\u001b[1;33m\u001b[0m\u001b[1;33m\u001b[0m\u001b[0m\n",
      "\u001b[1;32m~\\Anaconda3\\lib\\threading.py\u001b[0m in \u001b[0;36mjoin\u001b[1;34m(self, timeout)\u001b[0m\n\u001b[0;32m   1034\u001b[0m             \u001b[1;31m# the behavior of a negative timeout isn't documented, but\u001b[0m\u001b[1;33m\u001b[0m\u001b[1;33m\u001b[0m\u001b[1;33m\u001b[0m\u001b[0m\n\u001b[0;32m   1035\u001b[0m             \u001b[1;31m# historically .join(timeout=x) for x<0 has acted as if timeout=0\u001b[0m\u001b[1;33m\u001b[0m\u001b[1;33m\u001b[0m\u001b[1;33m\u001b[0m\u001b[0m\n\u001b[1;32m-> 1036\u001b[1;33m             \u001b[0mself\u001b[0m\u001b[1;33m.\u001b[0m\u001b[0m_wait_for_tstate_lock\u001b[0m\u001b[1;33m(\u001b[0m\u001b[0mtimeout\u001b[0m\u001b[1;33m=\u001b[0m\u001b[0mmax\u001b[0m\u001b[1;33m(\u001b[0m\u001b[0mtimeout\u001b[0m\u001b[1;33m,\u001b[0m \u001b[1;36m0\u001b[0m\u001b[1;33m)\u001b[0m\u001b[1;33m)\u001b[0m\u001b[1;33m\u001b[0m\u001b[1;33m\u001b[0m\u001b[0m\n\u001b[0m\u001b[0;32m   1037\u001b[0m \u001b[1;33m\u001b[0m\u001b[0m\n\u001b[0;32m   1038\u001b[0m     \u001b[1;32mdef\u001b[0m \u001b[0m_wait_for_tstate_lock\u001b[0m\u001b[1;33m(\u001b[0m\u001b[0mself\u001b[0m\u001b[1;33m,\u001b[0m \u001b[0mblock\u001b[0m\u001b[1;33m=\u001b[0m\u001b[1;32mTrue\u001b[0m\u001b[1;33m,\u001b[0m \u001b[0mtimeout\u001b[0m\u001b[1;33m=\u001b[0m\u001b[1;33m-\u001b[0m\u001b[1;36m1\u001b[0m\u001b[1;33m)\u001b[0m\u001b[1;33m:\u001b[0m\u001b[1;33m\u001b[0m\u001b[1;33m\u001b[0m\u001b[0m\n",
      "\u001b[1;32m~\\Anaconda3\\lib\\threading.py\u001b[0m in \u001b[0;36m_wait_for_tstate_lock\u001b[1;34m(self, block, timeout)\u001b[0m\n\u001b[0;32m   1046\u001b[0m         \u001b[1;32mif\u001b[0m \u001b[0mlock\u001b[0m \u001b[1;32mis\u001b[0m \u001b[1;32mNone\u001b[0m\u001b[1;33m:\u001b[0m  \u001b[1;31m# already determined that the C code is done\u001b[0m\u001b[1;33m\u001b[0m\u001b[1;33m\u001b[0m\u001b[0m\n\u001b[0;32m   1047\u001b[0m             \u001b[1;32massert\u001b[0m \u001b[0mself\u001b[0m\u001b[1;33m.\u001b[0m\u001b[0m_is_stopped\u001b[0m\u001b[1;33m\u001b[0m\u001b[1;33m\u001b[0m\u001b[0m\n\u001b[1;32m-> 1048\u001b[1;33m         \u001b[1;32melif\u001b[0m \u001b[0mlock\u001b[0m\u001b[1;33m.\u001b[0m\u001b[0macquire\u001b[0m\u001b[1;33m(\u001b[0m\u001b[0mblock\u001b[0m\u001b[1;33m,\u001b[0m \u001b[0mtimeout\u001b[0m\u001b[1;33m)\u001b[0m\u001b[1;33m:\u001b[0m\u001b[1;33m\u001b[0m\u001b[1;33m\u001b[0m\u001b[0m\n\u001b[0m\u001b[0;32m   1049\u001b[0m             \u001b[0mlock\u001b[0m\u001b[1;33m.\u001b[0m\u001b[0mrelease\u001b[0m\u001b[1;33m(\u001b[0m\u001b[1;33m)\u001b[0m\u001b[1;33m\u001b[0m\u001b[1;33m\u001b[0m\u001b[0m\n\u001b[0;32m   1050\u001b[0m             \u001b[0mself\u001b[0m\u001b[1;33m.\u001b[0m\u001b[0m_stop\u001b[0m\u001b[1;33m(\u001b[0m\u001b[1;33m)\u001b[0m\u001b[1;33m\u001b[0m\u001b[1;33m\u001b[0m\u001b[0m\n",
      "\u001b[1;31mKeyboardInterrupt\u001b[0m: "
     ]
    }
   ],
   "source": [
    "alldfs = [run_with_mechanisms_disabled(m) for  m in [DISABLE_MECHANISMS(0)] + list(DISABLE_MECHANISMS)]"
   ]
  },
  {
   "cell_type": "code",
   "execution_count": 13,
   "id": "e3d898fc",
   "metadata": {
    "scrolled": false
   },
   "outputs": [
    {
     "name": "stdout",
     "output_type": "stream",
     "text": [
      "DISABLE_MECHANISMS.P_RECYCLING|COMPETITION\n",
      "stdout: simulation time 77.5\n",
      "\n",
      "MSE: 3501.3385554655197\n",
      "\n",
      "stderr: \n",
      "DISABLE_MECHANISMS.P_RECYCLING|COMPETITION 3501.3385554655197\n",
      "DISABLE_MECHANISMS.H_RECYCLING|COMPETITION\n",
      "stdout: simulation time 101.640625\n",
      "\n",
      "MSE: 2747.312430912841\n",
      "\n",
      "stderr: \n",
      "DISABLE_MECHANISMS.H_RECYCLING|COMPETITION 2747.312430912841\n",
      "DISABLE_MECHANISMS.P_EXUDATION|COMPETITION\n",
      "TimeoutExpired 120\n",
      "stdout: \n",
      "stderr: \n",
      "DISABLE_MECHANISMS.P_EXUDATION|COMPETITION 1e+50\n",
      "DISABLE_MECHANISMS.H_EXUDATION|COMPETITION\n",
      "stdout: simulation time 73.4375\n",
      "\n",
      "MSE: 1680.5115807746595\n",
      "\n",
      "stderr: \n",
      "DISABLE_MECHANISMS.H_EXUDATION|COMPETITION 1680.5115807746595\n",
      "DISABLE_MECHANISMS.P_OVERFLOW|COMPETITION\n",
      "stdout: simulation time 66.421875\n",
      "\n",
      "MSE: 1933.6504613950026\n",
      "\n",
      "stderr: \n",
      "DISABLE_MECHANISMS.P_OVERFLOW|COMPETITION 1933.6504613950026\n",
      "DISABLE_MECHANISMS.H_OVERFLOW|COMPETITION\n",
      "stdout: simulation time 71.125\n",
      "\n",
      "MSE: 1932.2604404433187\n",
      "\n",
      "stderr: \n",
      "DISABLE_MECHANISMS.H_OVERFLOW|COMPETITION 1932.2604404433187\n",
      "DISABLE_MECHANISMS.MIXOTROPHY|COMPETITION\n",
      "stdout: simulation time 65.703125\n",
      "\n",
      "MSE: 1977.9994890946682\n",
      "\n",
      "stderr: \n",
      "DISABLE_MECHANISMS.MIXOTROPHY|COMPETITION 1977.9994890946682\n",
      "DISABLE_MECHANISMS.DETOXIFICATION|COMPETITION\n",
      "stdout: simulation time 59.921875\n",
      "\n",
      "MSE: 1932.621111069553\n",
      "\n",
      "stderr: \n",
      "DISABLE_MECHANISMS.DETOXIFICATION|COMPETITION 1932.621111069553\n",
      "DISABLE_MECHANISMS.P_SIGNAL|COMPETITION\n",
      "stdout: simulation time 72.96875\n",
      "\n",
      "MSE: 1932.2604404442557\n",
      "\n",
      "stderr: \n",
      "DISABLE_MECHANISMS.P_SIGNAL|COMPETITION 1932.2604404442557\n",
      "DISABLE_MECHANISMS.H_SIGNAL|COMPETITION\n",
      "stdout: simulation time 73.21875\n",
      "\n",
      "MSE: 1932.2604404487574\n",
      "\n",
      "stderr: \n",
      "DISABLE_MECHANISMS.H_SIGNAL|COMPETITION 1932.2604404487574\n",
      "DISABLE_MECHANISMS.H_RECYCLING|P_RECYCLING\n",
      "stdout: simulation time 72.171875\n",
      "\n",
      "MSE: 3738.831342721098\n",
      "\n",
      "stderr: \n",
      "DISABLE_MECHANISMS.H_RECYCLING|P_RECYCLING 3738.831342721098\n",
      "DISABLE_MECHANISMS.P_EXUDATION|P_RECYCLING\n",
      "stdout: simulation time 89.640625\n",
      "\n",
      "MSE: 2376.0302871917834\n",
      "\n",
      "stderr: \n",
      "DISABLE_MECHANISMS.P_EXUDATION|P_RECYCLING 2376.0302871917834\n",
      "DISABLE_MECHANISMS.H_EXUDATION|P_RECYCLING\n"
     ]
    },
    {
     "ename": "KeyboardInterrupt",
     "evalue": "",
     "output_type": "error",
     "traceback": [
      "\u001b[1;31m---------------------------------------------------------------------------\u001b[0m",
      "\u001b[1;31mKeyboardInterrupt\u001b[0m                         Traceback (most recent call last)",
      "\u001b[1;32m~\\AppData\\Local\\Temp/ipykernel_17160/4283510339.py\u001b[0m in \u001b[0;36m<module>\u001b[1;34m\u001b[0m\n\u001b[0;32m      3\u001b[0m \u001b[1;32mfrom\u001b[0m \u001b[0mitertools\u001b[0m \u001b[1;32mimport\u001b[0m \u001b[0mcombinations\u001b[0m\u001b[1;33m\u001b[0m\u001b[1;33m\u001b[0m\u001b[0m\n\u001b[0;32m      4\u001b[0m \u001b[0mcomb2\u001b[0m \u001b[1;33m=\u001b[0m \u001b[1;33m[\u001b[0m\u001b[0mi\u001b[0m \u001b[1;33m|\u001b[0m \u001b[0mj\u001b[0m \u001b[1;32mfor\u001b[0m \u001b[0mi\u001b[0m\u001b[1;33m,\u001b[0m\u001b[0mj\u001b[0m \u001b[1;32min\u001b[0m \u001b[1;33m(\u001b[0m\u001b[0mcombinations\u001b[0m\u001b[1;33m(\u001b[0m\u001b[0mDISABLE_MECHANISMS\u001b[0m\u001b[1;33m,\u001b[0m \u001b[1;36m2\u001b[0m\u001b[1;33m)\u001b[0m\u001b[1;33m)\u001b[0m\u001b[1;33m]\u001b[0m\u001b[1;33m\u001b[0m\u001b[1;33m\u001b[0m\u001b[0m\n\u001b[1;32m----> 5\u001b[1;33m \u001b[0malldfs2\u001b[0m \u001b[1;33m=\u001b[0m \u001b[1;33m[\u001b[0m\u001b[0mrun_with_mechanisms_disabled\u001b[0m\u001b[1;33m(\u001b[0m\u001b[0mm\u001b[0m\u001b[1;33m)\u001b[0m \u001b[1;32mfor\u001b[0m  \u001b[0mm\u001b[0m \u001b[1;32min\u001b[0m \u001b[0mcomb2\u001b[0m\u001b[1;33m]\u001b[0m\u001b[1;33m\u001b[0m\u001b[1;33m\u001b[0m\u001b[0m\n\u001b[0m",
      "\u001b[1;32m~\\AppData\\Local\\Temp/ipykernel_17160/4283510339.py\u001b[0m in \u001b[0;36m<listcomp>\u001b[1;34m(.0)\u001b[0m\n\u001b[0;32m      3\u001b[0m \u001b[1;32mfrom\u001b[0m \u001b[0mitertools\u001b[0m \u001b[1;32mimport\u001b[0m \u001b[0mcombinations\u001b[0m\u001b[1;33m\u001b[0m\u001b[1;33m\u001b[0m\u001b[0m\n\u001b[0;32m      4\u001b[0m \u001b[0mcomb2\u001b[0m \u001b[1;33m=\u001b[0m \u001b[1;33m[\u001b[0m\u001b[0mi\u001b[0m \u001b[1;33m|\u001b[0m \u001b[0mj\u001b[0m \u001b[1;32mfor\u001b[0m \u001b[0mi\u001b[0m\u001b[1;33m,\u001b[0m\u001b[0mj\u001b[0m \u001b[1;32min\u001b[0m \u001b[1;33m(\u001b[0m\u001b[0mcombinations\u001b[0m\u001b[1;33m(\u001b[0m\u001b[0mDISABLE_MECHANISMS\u001b[0m\u001b[1;33m,\u001b[0m \u001b[1;36m2\u001b[0m\u001b[1;33m)\u001b[0m\u001b[1;33m)\u001b[0m\u001b[1;33m]\u001b[0m\u001b[1;33m\u001b[0m\u001b[1;33m\u001b[0m\u001b[0m\n\u001b[1;32m----> 5\u001b[1;33m \u001b[0malldfs2\u001b[0m \u001b[1;33m=\u001b[0m \u001b[1;33m[\u001b[0m\u001b[0mrun_with_mechanisms_disabled\u001b[0m\u001b[1;33m(\u001b[0m\u001b[0mm\u001b[0m\u001b[1;33m)\u001b[0m \u001b[1;32mfor\u001b[0m  \u001b[0mm\u001b[0m \u001b[1;32min\u001b[0m \u001b[0mcomb2\u001b[0m\u001b[1;33m]\u001b[0m\u001b[1;33m\u001b[0m\u001b[1;33m\u001b[0m\u001b[0m\n\u001b[0m",
      "\u001b[1;32m~\\AppData\\Local\\Temp/ipykernel_17160/1996792105.py\u001b[0m in \u001b[0;36mrun_with_mechanisms_disabled\u001b[1;34m(m)\u001b[0m\n\u001b[0;32m      4\u001b[0m     err = generate_json_and_run(\n\u001b[0;32m      5\u001b[0m         \u001b[0mnew_params\u001b[0m\u001b[1;33m,\u001b[0m \u001b[1;34m'prelim_bottle.csv'\u001b[0m\u001b[1;33m,\u001b[0m \u001b[1;34m'mechanism_json'\u001b[0m\u001b[1;33m,\u001b[0m \u001b[1;34m'mechanism_out'\u001b[0m\u001b[1;33m,\u001b[0m\u001b[1;33m\u001b[0m\u001b[1;33m\u001b[0m\u001b[0m\n\u001b[1;32m----> 6\u001b[1;33m         f\"dis_{ str(m).replace('DISABLE_MECHANISMS.', '').replace('|','-') }\", timeout=2*60)\n\u001b[0m\u001b[0;32m      7\u001b[0m \u001b[1;33m\u001b[0m\u001b[0m\n\u001b[0;32m      8\u001b[0m     \u001b[0mprint\u001b[0m \u001b[1;33m(\u001b[0m\u001b[0mm\u001b[0m\u001b[1;33m,\u001b[0m \u001b[0merr\u001b[0m\u001b[1;33m)\u001b[0m\u001b[1;33m\u001b[0m\u001b[1;33m\u001b[0m\u001b[0m\n",
      "\u001b[1;32m~\\Documents\\GitHub\\recycle_model\\model_equations_separate_NC_sep_vmax.py\u001b[0m in \u001b[0;36mgenerate_json_and_run\u001b[1;34m(params, ref_csv, json_dpath, out_dpath, out_fprefix, timeout)\u001b[0m\n\u001b[0;32m    740\u001b[0m     \u001b[0mjson_fpath\u001b[0m \u001b[1;33m=\u001b[0m \u001b[0mos\u001b[0m\u001b[1;33m.\u001b[0m\u001b[0mpath\u001b[0m\u001b[1;33m.\u001b[0m\u001b[0mjoin\u001b[0m\u001b[1;33m(\u001b[0m\u001b[0mjson_dpath\u001b[0m\u001b[1;33m,\u001b[0m \u001b[1;34mf'{run_id}_params.json'\u001b[0m\u001b[1;33m)\u001b[0m\u001b[1;33m\u001b[0m\u001b[1;33m\u001b[0m\u001b[0m\n\u001b[0;32m    741\u001b[0m     \u001b[0mparams2json\u001b[0m\u001b[1;33m(\u001b[0m\u001b[0mparams\u001b[0m\u001b[1;33m,\u001b[0m \u001b[0mjson_fpath\u001b[0m\u001b[1;33m)\u001b[0m\u001b[1;33m\u001b[0m\u001b[1;33m\u001b[0m\u001b[0m\n\u001b[1;32m--> 742\u001b[1;33m     \u001b[1;32mreturn\u001b[0m \u001b[0mrun_with_timout\u001b[0m\u001b[1;33m(\u001b[0m\u001b[0mjson_fpath\u001b[0m\u001b[1;33m,\u001b[0m \u001b[0mref_csv\u001b[0m\u001b[1;33m,\u001b[0m \u001b[0mout_dpath\u001b[0m\u001b[1;33m,\u001b[0m \u001b[0mrun_id\u001b[0m\u001b[1;33m,\u001b[0m \u001b[0mtimeout\u001b[0m\u001b[1;33m)\u001b[0m\u001b[1;33m\u001b[0m\u001b[1;33m\u001b[0m\u001b[0m\n\u001b[0m\u001b[0;32m    743\u001b[0m \u001b[1;33m\u001b[0m\u001b[0m\n\u001b[0;32m    744\u001b[0m \u001b[1;33m\u001b[0m\u001b[0m\n",
      "\u001b[1;32m~\\Documents\\GitHub\\recycle_model\\model_equations_separate_NC_sep_vmax.py\u001b[0m in \u001b[0;36mrun_with_timout\u001b[1;34m(json_fpath, ref_csv, out_dpath, run_id, timeout)\u001b[0m\n\u001b[0;32m    766\u001b[0m              \u001b[1;34m'--outdpath'\u001b[0m\u001b[1;33m,\u001b[0m \u001b[0mout_dpath\u001b[0m\u001b[1;33m,\u001b[0m\u001b[1;33m\u001b[0m\u001b[1;33m\u001b[0m\u001b[0m\n\u001b[0;32m    767\u001b[0m             ], \n\u001b[1;32m--> 768\u001b[1;33m             \u001b[0mcapture_output\u001b[0m\u001b[1;33m=\u001b[0m\u001b[1;32mTrue\u001b[0m\u001b[1;33m,\u001b[0m \u001b[0mtext\u001b[0m\u001b[1;33m=\u001b[0m\u001b[1;32mTrue\u001b[0m\u001b[1;33m,\u001b[0m \u001b[0mcheck\u001b[0m\u001b[1;33m=\u001b[0m\u001b[1;32mTrue\u001b[0m\u001b[1;33m,\u001b[0m \u001b[0mtimeout\u001b[0m\u001b[1;33m=\u001b[0m\u001b[0mtimeout\u001b[0m\u001b[1;33m,\u001b[0m\u001b[1;33m\u001b[0m\u001b[1;33m\u001b[0m\u001b[0m\n\u001b[0m\u001b[0;32m    769\u001b[0m         )\n\u001b[0;32m    770\u001b[0m         \u001b[0mprint\u001b[0m\u001b[1;33m(\u001b[0m\u001b[1;34m\"stdout:\"\u001b[0m\u001b[1;33m,\u001b[0m \u001b[0mresult\u001b[0m\u001b[1;33m.\u001b[0m\u001b[0mstdout\u001b[0m\u001b[1;33m)\u001b[0m\u001b[1;33m\u001b[0m\u001b[1;33m\u001b[0m\u001b[0m\n",
      "\u001b[1;32m~\\Anaconda3\\lib\\subprocess.py\u001b[0m in \u001b[0;36mrun\u001b[1;34m(input, capture_output, timeout, check, *popenargs, **kwargs)\u001b[0m\n\u001b[0;32m    466\u001b[0m     \u001b[1;32mwith\u001b[0m \u001b[0mPopen\u001b[0m\u001b[1;33m(\u001b[0m\u001b[1;33m*\u001b[0m\u001b[0mpopenargs\u001b[0m\u001b[1;33m,\u001b[0m \u001b[1;33m**\u001b[0m\u001b[0mkwargs\u001b[0m\u001b[1;33m)\u001b[0m \u001b[1;32mas\u001b[0m \u001b[0mprocess\u001b[0m\u001b[1;33m:\u001b[0m\u001b[1;33m\u001b[0m\u001b[1;33m\u001b[0m\u001b[0m\n\u001b[0;32m    467\u001b[0m         \u001b[1;32mtry\u001b[0m\u001b[1;33m:\u001b[0m\u001b[1;33m\u001b[0m\u001b[1;33m\u001b[0m\u001b[0m\n\u001b[1;32m--> 468\u001b[1;33m             \u001b[0mstdout\u001b[0m\u001b[1;33m,\u001b[0m \u001b[0mstderr\u001b[0m \u001b[1;33m=\u001b[0m \u001b[0mprocess\u001b[0m\u001b[1;33m.\u001b[0m\u001b[0mcommunicate\u001b[0m\u001b[1;33m(\u001b[0m\u001b[0minput\u001b[0m\u001b[1;33m,\u001b[0m \u001b[0mtimeout\u001b[0m\u001b[1;33m=\u001b[0m\u001b[0mtimeout\u001b[0m\u001b[1;33m)\u001b[0m\u001b[1;33m\u001b[0m\u001b[1;33m\u001b[0m\u001b[0m\n\u001b[0m\u001b[0;32m    469\u001b[0m         \u001b[1;32mexcept\u001b[0m \u001b[0mTimeoutExpired\u001b[0m\u001b[1;33m:\u001b[0m\u001b[1;33m\u001b[0m\u001b[1;33m\u001b[0m\u001b[0m\n\u001b[0;32m    470\u001b[0m             \u001b[0mprocess\u001b[0m\u001b[1;33m.\u001b[0m\u001b[0mkill\u001b[0m\u001b[1;33m(\u001b[0m\u001b[1;33m)\u001b[0m\u001b[1;33m\u001b[0m\u001b[1;33m\u001b[0m\u001b[0m\n",
      "\u001b[1;32m~\\Anaconda3\\lib\\subprocess.py\u001b[0m in \u001b[0;36mcommunicate\u001b[1;34m(self, input, timeout)\u001b[0m\n\u001b[0;32m    931\u001b[0m \u001b[1;33m\u001b[0m\u001b[0m\n\u001b[0;32m    932\u001b[0m             \u001b[1;32mtry\u001b[0m\u001b[1;33m:\u001b[0m\u001b[1;33m\u001b[0m\u001b[1;33m\u001b[0m\u001b[0m\n\u001b[1;32m--> 933\u001b[1;33m                 \u001b[0mstdout\u001b[0m\u001b[1;33m,\u001b[0m \u001b[0mstderr\u001b[0m \u001b[1;33m=\u001b[0m \u001b[0mself\u001b[0m\u001b[1;33m.\u001b[0m\u001b[0m_communicate\u001b[0m\u001b[1;33m(\u001b[0m\u001b[0minput\u001b[0m\u001b[1;33m,\u001b[0m \u001b[0mendtime\u001b[0m\u001b[1;33m,\u001b[0m \u001b[0mtimeout\u001b[0m\u001b[1;33m)\u001b[0m\u001b[1;33m\u001b[0m\u001b[1;33m\u001b[0m\u001b[0m\n\u001b[0m\u001b[0;32m    934\u001b[0m             \u001b[1;32mexcept\u001b[0m \u001b[0mKeyboardInterrupt\u001b[0m\u001b[1;33m:\u001b[0m\u001b[1;33m\u001b[0m\u001b[1;33m\u001b[0m\u001b[0m\n\u001b[0;32m    935\u001b[0m                 \u001b[1;31m# https://bugs.python.org/issue25942\u001b[0m\u001b[1;33m\u001b[0m\u001b[1;33m\u001b[0m\u001b[1;33m\u001b[0m\u001b[0m\n",
      "\u001b[1;32m~\\Anaconda3\\lib\\subprocess.py\u001b[0m in \u001b[0;36m_communicate\u001b[1;34m(self, input, endtime, orig_timeout)\u001b[0m\n\u001b[0;32m   1259\u001b[0m             \u001b[1;31m# calls communicate again.\u001b[0m\u001b[1;33m\u001b[0m\u001b[1;33m\u001b[0m\u001b[1;33m\u001b[0m\u001b[0m\n\u001b[0;32m   1260\u001b[0m             \u001b[1;32mif\u001b[0m \u001b[0mself\u001b[0m\u001b[1;33m.\u001b[0m\u001b[0mstdout\u001b[0m \u001b[1;32mis\u001b[0m \u001b[1;32mnot\u001b[0m \u001b[1;32mNone\u001b[0m\u001b[1;33m:\u001b[0m\u001b[1;33m\u001b[0m\u001b[1;33m\u001b[0m\u001b[0m\n\u001b[1;32m-> 1261\u001b[1;33m                 \u001b[0mself\u001b[0m\u001b[1;33m.\u001b[0m\u001b[0mstdout_thread\u001b[0m\u001b[1;33m.\u001b[0m\u001b[0mjoin\u001b[0m\u001b[1;33m(\u001b[0m\u001b[0mself\u001b[0m\u001b[1;33m.\u001b[0m\u001b[0m_remaining_time\u001b[0m\u001b[1;33m(\u001b[0m\u001b[0mendtime\u001b[0m\u001b[1;33m)\u001b[0m\u001b[1;33m)\u001b[0m\u001b[1;33m\u001b[0m\u001b[1;33m\u001b[0m\u001b[0m\n\u001b[0m\u001b[0;32m   1262\u001b[0m                 \u001b[1;32mif\u001b[0m \u001b[0mself\u001b[0m\u001b[1;33m.\u001b[0m\u001b[0mstdout_thread\u001b[0m\u001b[1;33m.\u001b[0m\u001b[0mis_alive\u001b[0m\u001b[1;33m(\u001b[0m\u001b[1;33m)\u001b[0m\u001b[1;33m:\u001b[0m\u001b[1;33m\u001b[0m\u001b[1;33m\u001b[0m\u001b[0m\n\u001b[0;32m   1263\u001b[0m                     \u001b[1;32mraise\u001b[0m \u001b[0mTimeoutExpired\u001b[0m\u001b[1;33m(\u001b[0m\u001b[0mself\u001b[0m\u001b[1;33m.\u001b[0m\u001b[0margs\u001b[0m\u001b[1;33m,\u001b[0m \u001b[0morig_timeout\u001b[0m\u001b[1;33m)\u001b[0m\u001b[1;33m\u001b[0m\u001b[1;33m\u001b[0m\u001b[0m\n",
      "\u001b[1;32m~\\Anaconda3\\lib\\threading.py\u001b[0m in \u001b[0;36mjoin\u001b[1;34m(self, timeout)\u001b[0m\n\u001b[0;32m   1034\u001b[0m             \u001b[1;31m# the behavior of a negative timeout isn't documented, but\u001b[0m\u001b[1;33m\u001b[0m\u001b[1;33m\u001b[0m\u001b[1;33m\u001b[0m\u001b[0m\n\u001b[0;32m   1035\u001b[0m             \u001b[1;31m# historically .join(timeout=x) for x<0 has acted as if timeout=0\u001b[0m\u001b[1;33m\u001b[0m\u001b[1;33m\u001b[0m\u001b[1;33m\u001b[0m\u001b[0m\n\u001b[1;32m-> 1036\u001b[1;33m             \u001b[0mself\u001b[0m\u001b[1;33m.\u001b[0m\u001b[0m_wait_for_tstate_lock\u001b[0m\u001b[1;33m(\u001b[0m\u001b[0mtimeout\u001b[0m\u001b[1;33m=\u001b[0m\u001b[0mmax\u001b[0m\u001b[1;33m(\u001b[0m\u001b[0mtimeout\u001b[0m\u001b[1;33m,\u001b[0m \u001b[1;36m0\u001b[0m\u001b[1;33m)\u001b[0m\u001b[1;33m)\u001b[0m\u001b[1;33m\u001b[0m\u001b[1;33m\u001b[0m\u001b[0m\n\u001b[0m\u001b[0;32m   1037\u001b[0m \u001b[1;33m\u001b[0m\u001b[0m\n\u001b[0;32m   1038\u001b[0m     \u001b[1;32mdef\u001b[0m \u001b[0m_wait_for_tstate_lock\u001b[0m\u001b[1;33m(\u001b[0m\u001b[0mself\u001b[0m\u001b[1;33m,\u001b[0m \u001b[0mblock\u001b[0m\u001b[1;33m=\u001b[0m\u001b[1;32mTrue\u001b[0m\u001b[1;33m,\u001b[0m \u001b[0mtimeout\u001b[0m\u001b[1;33m=\u001b[0m\u001b[1;33m-\u001b[0m\u001b[1;36m1\u001b[0m\u001b[1;33m)\u001b[0m\u001b[1;33m:\u001b[0m\u001b[1;33m\u001b[0m\u001b[1;33m\u001b[0m\u001b[0m\n",
      "\u001b[1;32m~\\Anaconda3\\lib\\threading.py\u001b[0m in \u001b[0;36m_wait_for_tstate_lock\u001b[1;34m(self, block, timeout)\u001b[0m\n\u001b[0;32m   1046\u001b[0m         \u001b[1;32mif\u001b[0m \u001b[0mlock\u001b[0m \u001b[1;32mis\u001b[0m \u001b[1;32mNone\u001b[0m\u001b[1;33m:\u001b[0m  \u001b[1;31m# already determined that the C code is done\u001b[0m\u001b[1;33m\u001b[0m\u001b[1;33m\u001b[0m\u001b[0m\n\u001b[0;32m   1047\u001b[0m             \u001b[1;32massert\u001b[0m \u001b[0mself\u001b[0m\u001b[1;33m.\u001b[0m\u001b[0m_is_stopped\u001b[0m\u001b[1;33m\u001b[0m\u001b[1;33m\u001b[0m\u001b[0m\n\u001b[1;32m-> 1048\u001b[1;33m         \u001b[1;32melif\u001b[0m \u001b[0mlock\u001b[0m\u001b[1;33m.\u001b[0m\u001b[0macquire\u001b[0m\u001b[1;33m(\u001b[0m\u001b[0mblock\u001b[0m\u001b[1;33m,\u001b[0m \u001b[0mtimeout\u001b[0m\u001b[1;33m)\u001b[0m\u001b[1;33m:\u001b[0m\u001b[1;33m\u001b[0m\u001b[1;33m\u001b[0m\u001b[0m\n\u001b[0m\u001b[0;32m   1049\u001b[0m             \u001b[0mlock\u001b[0m\u001b[1;33m.\u001b[0m\u001b[0mrelease\u001b[0m\u001b[1;33m(\u001b[0m\u001b[1;33m)\u001b[0m\u001b[1;33m\u001b[0m\u001b[1;33m\u001b[0m\u001b[0m\n\u001b[0;32m   1050\u001b[0m             \u001b[0mself\u001b[0m\u001b[1;33m.\u001b[0m\u001b[0m_stop\u001b[0m\u001b[1;33m(\u001b[0m\u001b[1;33m)\u001b[0m\u001b[1;33m\u001b[0m\u001b[1;33m\u001b[0m\u001b[0m\n",
      "\u001b[1;31mKeyboardInterrupt\u001b[0m: "
     ]
    }
   ],
   "source": [
    "#alldfs = [run_with_mechanisms_disabled(m) for  m in [DISABLE_MECHANISMS(0)] + list(DISABLE_MECHANISMS)]\n",
    "\n",
    "from itertools import combinations\n",
    "comb2 = [i | j for i,j in (combinations(DISABLE_MECHANISMS, 2))]\n",
    "alldfs2 = [run_with_mechanisms_disabled(m) for  m in comb2]\n"
   ]
  },
  {
   "cell_type": "code",
   "execution_count": null,
   "id": "f7b0e2e9",
   "metadata": {},
   "outputs": [],
   "source": [
    "[DISABLE_MECHANISMS(0)] + list(DISABLE_MECHANISMS)"
   ]
  },
  {
   "cell_type": "code",
   "execution_count": null,
   "id": "e143b000",
   "metadata": {},
   "outputs": [],
   "source": [
    "from itertools import combinations\n",
    "comb2 = [i | j for i,j in (combinations(DISABLE_MECHANISMS, 2))]\n",
    "comb2"
   ]
  },
  {
   "cell_type": "code",
   "execution_count": null,
   "id": "50823575",
   "metadata": {},
   "outputs": [],
   "source": [
    "dislist = [DISABLE_MECHANISMS(0)] + list(DISABLE_MECHANISMS) + comb2"
   ]
  },
  {
   "cell_type": "code",
   "execution_count": null,
   "id": "07402a3e",
   "metadata": {},
   "outputs": [],
   "source": [
    "str(dislist[20])"
   ]
  },
  {
   "cell_type": "code",
   "execution_count": null,
   "id": "23a7c66e",
   "metadata": {},
   "outputs": [],
   "source": [
    "l = [DISABLE_MECHANISMS['P_SIGNAL'] , DISABLE_MECHANISMS['COMPETITION']]"
   ]
  },
  {
   "cell_type": "code",
   "execution_count": null,
   "id": "5544d71b",
   "metadata": {},
   "outputs": [],
   "source": [
    "l"
   ]
  },
  {
   "cell_type": "code",
   "execution_count": null,
   "id": "6fe8a964",
   "metadata": {},
   "outputs": [],
   "source": [
    "len(dislist)"
   ]
  },
  {
   "cell_type": "code",
   "execution_count": null,
   "id": "3002c954",
   "metadata": {},
   "outputs": [],
   "source": []
  },
  {
   "cell_type": "raw",
   "id": "bcbb507e",
   "metadata": {},
   "source": [
    "sns.relplot(data=mdf, x='day', y='value', hue='variable',\n",
    "            kind='line', \n",
    "            col='variable', col_wrap=6, facet_kws=dict(sharey=False),\n",
    "            legend=False,\n",
    "           ).set_titles(row_template = '{row_name}', col_template = '{col_name}')"
   ]
  },
  {
   "cell_type": "code",
   "execution_count": null,
   "id": "4edb115a",
   "metadata": {},
   "outputs": [],
   "source": [
    "mdf = pd.concat(alldfs + alldfs2)"
   ]
  },
  {
   "cell_type": "code",
   "execution_count": null,
   "id": "4a99e4cf",
   "metadata": {},
   "outputs": [],
   "source": [
    "mdf.columns"
   ]
  },
  {
   "cell_type": "code",
   "execution_count": null,
   "id": "f5613744",
   "metadata": {},
   "outputs": [],
   "source": [
    "mdf.loc[mdf.disable_mechanism == '0', 'disable_mechanism'] = 'default'"
   ]
  },
  {
   "cell_type": "code",
   "execution_count": null,
   "id": "594cf81f",
   "metadata": {},
   "outputs": [],
   "source": [
    "mdf['disable_mechanism'] = mdf['disable_mechanism'].str.lower()"
   ]
  },
  {
   "cell_type": "code",
   "execution_count": null,
   "id": "d4f9872f",
   "metadata": {},
   "outputs": [],
   "source": [
    "mdf.disable_mechanism.unique()"
   ]
  },
  {
   "cell_type": "code",
   "execution_count": null,
   "id": "af8ae539",
   "metadata": {},
   "outputs": [],
   "source": [
    "mdf.disable_mechanism.nunique()"
   ]
  },
  {
   "cell_type": "code",
   "execution_count": null,
   "id": "da1f9fce",
   "metadata": {
    "scrolled": false
   },
   "outputs": [],
   "source": [
    "g1 = sns.relplot(data=mdf.loc[mdf.variable.isin(ccnorder)], \n",
    "            x='day', y='value', hue='variable',\n",
    "            kind='line', \n",
    "            lw=10,\n",
    "            palette=ccnpalette, hue_order=ccnorder,\n",
    "            col='disable_mechanism', col_wrap=8,\n",
    "           ).set(ylabel='umol N/l').set_titles('{col_name}')\n",
    "\n",
    "for ax in g1.axes_dict.values():\n",
    "    sns.scatterplot(data=refdf, x='day', y='cc Bp[N]', ax=ax, s=300, legend=False, color=PCOLOR)\n",
    "    sns.scatterplot(data=refdf, x='day', y='cc Bh[N]', ax=ax, s=300, legend=False, color=HCOLOR)\n",
    "\n",
    "g2 = sns.relplot(data=mdf.loc[mdf.variable.isin(cccorder)], \n",
    "            x='day', y='value', hue='variable',\n",
    "            kind='line', \n",
    "            lw=10,\n",
    "            palette=cccpalette, hue_order=cccorder,\n",
    "            col='disable_mechanism', col_wrap=8,\n",
    "            \n",
    "           ).set(ylabel='umol C/l').set_titles('{col_name}')\n",
    "for ax in g2.axes_dict.values():\n",
    "    sns.scatterplot(data=refdf, x='day', y='cc Bp[C]', ax=ax, s=300, legend=False, color=PCOLOR)\n",
    "    sns.scatterplot(data=refdf, x='day', y='cc Bh[C]', ax=ax, s=300, legend=False, color=HCOLOR)\n",
    "\n",
    "# g = sns.relplot(data=mdf.loc[mdf.variable.isin(['Xp', 'Xh'])], \n",
    "#             x='day', y='value', hue='variable',\n",
    "#             kind='line', \n",
    "#             lw=2,\n",
    "#             palette=ccxpalette, hue_order=ccxorder,\n",
    "#             col='disable_mechanism', col_wrap=4,\n",
    "                \n",
    "#            ).set(ylabel='cells/l').set_titles('{col_name}')\n"
   ]
  },
  {
   "cell_type": "code",
   "execution_count": null,
   "id": "c0efacee",
   "metadata": {},
   "outputs": [],
   "source": [
    "mdf[['mechanism1', 'mechanism2']] = mdf.disable_mechanism.str.split('|', expand=True)\n",
    "mdf.loc[mdf['mechanism2'].isna(), 'mechanism2'] = mdf.loc[mdf['mechanism2'].isna(), 'mechanism1']\n"
   ]
  },
  {
   "cell_type": "code",
   "execution_count": null,
   "id": "0d2af0bf",
   "metadata": {},
   "outputs": [],
   "source": [
    "g = sns.relplot(data=mdf.loc[mdf.variable.isin(['Bp'])], \n",
    "            x='day', y='value', \n",
    "            kind='line', \n",
    "            #lw=2,\n",
    "            #palette=['black'] + sns.color_palette('Dark2', 6),\n",
    "            color=PCOLOR, lw=20, alpha=1,\n",
    "            #hue='disable_mechanism', \n",
    "            col='disable_mechanism', col_wrap=8,\n",
    "            aspect=1.4, legend=False,\n",
    "           ).set(ylabel='PRO umol N/L').set_titles('{col_name}')\n",
    "\n",
    "#g.map(sns.lineplot, 'day', 'value', color=PCOLOR, lw=10, alpha=1)\n",
    "for ax in g.axes_dict.values():\n",
    "    sns.lineplot(data=mdf.loc[mdf.variable.isin(['Bp'])], \n",
    "            x='day', y='value', \n",
    "            palette='Greys', lw=2, alpha=0.5,\n",
    "            hue='disable_mechanism', \n",
    "            legend=False, ax=ax, zorder=0,\n",
    "           )\n",
    "    sns.scatterplot(data=refdf, x='day', y='cc Bp[N]', s=500, legend=False, color=PCOLOR, label='cc mit9312', ax=ax)\n"
   ]
  },
  {
   "cell_type": "code",
   "execution_count": null,
   "id": "14d1f45c",
   "metadata": {},
   "outputs": [],
   "source": [
    "def pp(**kwargs):\n",
    "    \n",
    "    # get a reference to the currently active axes\n",
    "    ax = plt.gca()    \n",
    "#     sns.lineplot(data=mdf.loc[mdf.variable.isin(['Bp'])], \n",
    "#             x='day', y='value', \n",
    "#             palette='Greys', lw=2, alpha=0.5,\n",
    "#             style='disable_mechanism', \n",
    "#             legend=False, ax=ax, zorder=0,\n",
    "#            )\n",
    "    sns.lineplot(data=mdf.loc[mdf.variable.isin(['Bp']) & mdf.mechanism1.isin(['default'])],\n",
    "            x='day', y='value', \n",
    "            color='black', lw=3, alpha=1, ls='--',\n",
    "            legend=False, ax=ax, #zorder=1,\n",
    "           )\n",
    "    sns.scatterplot(data=refdf, x='day', y='cc Bp[N]', s=300, legend=False, color=PCOLOR_light, label='cc mit9312', ax=ax)\n",
    "\n",
    "g = sns.relplot(data=mdf.loc[mdf.variable.isin(['Bp']) & ~mdf.mechanism1.isin(['default'])], \n",
    "            x='day', y='value', \n",
    "            kind='line', \n",
    "            color=PCOLOR, lw=15, alpha=1,\n",
    "            col='mechanism1', row='mechanism2',\n",
    "            aspect=1, legend=False, facet_kws=dict(margin_titles=True),\n",
    "           )\n",
    "\n",
    "g.map(pp)\n",
    "g.set(ylabel='PRO umol N/L')\n",
    "g.set_titles(col_template='{col_name}', row_template='{row_name}')\n",
    "\n",
    "# #g.map(sns.lineplot, 'day', 'value', color=PCOLOR, lw=10, alpha=1)\n",
    "# for ax in g.axes_dict.values():\n",
    "#     sns.lineplot(data=mdf.loc[mdf.variable.isin(['Bp'])], \n",
    "#             x='day', y='value', \n",
    "#             palette='Greys', lw=2, alpha=0.5,\n",
    "#             style='disable_mechanism', \n",
    "#             legend=False, ax=ax, zorder=0,\n",
    "#            )\n",
    "#     sns.scatterplot(data=refdf, x='day', y='cc Bp[N]', s=500, legend=False, color=PCOLOR, label='cc mit9312', ax=ax)\n"
   ]
  },
  {
   "cell_type": "code",
   "execution_count": null,
   "id": "85018060",
   "metadata": {},
   "outputs": [],
   "source": [
    "def pp(**kwargs):\n",
    "    \n",
    "    # get a reference to the currently active axes\n",
    "    ax = plt.gca()    \n",
    "#     sns.lineplot(data=mdf.loc[mdf.variable.isin(['Bp'])], \n",
    "#             x='day', y='value', \n",
    "#             palette='Greys', lw=2, alpha=0.5,\n",
    "#             style='disable_mechanism', \n",
    "#             legend=False, ax=ax, zorder=0,\n",
    "#            )\n",
    "    sns.lineplot(data=mdf.loc[mdf.variable.isin(['Bp']) & mdf.mechanism1.isin(['default'])],\n",
    "            x='day', y='value', \n",
    "            color='black', lw=3, alpha=1, ls='--',\n",
    "            legend=False, ax=ax, #zorder=1,\n",
    "           )\n",
    "    sns.lineplot(data=mdf.loc[mdf.variable.isin(['Bh']) & mdf.mechanism1.isin(['default'])],\n",
    "            x='day', y='value', \n",
    "            color='black', lw=3, alpha=1, ls='--',\n",
    "            legend=False, ax=ax, #zorder=1,\n",
    "           )\n",
    "    sns.scatterplot(data=refdf, x='day', y='cc Bp[N]', ax=ax, s=300, legend=False, color=PCOLOR)\n",
    "    sns.scatterplot(data=refdf, x='day', y='cc Bh[N]', ax=ax, s=300, legend=False, color=HCOLOR)\n",
    "\n",
    "g = sns.relplot(data=mdf.loc[mdf.variable.isin(ccnorder)& ~mdf.mechanism1.isin(['default'])], \n",
    "            x='day', y='value', hue='variable',\n",
    "            kind='line', \n",
    "            lw=10,\n",
    "            palette=ccnpalette, hue_order=ccnorder,\n",
    "            col='mechanism1', row='mechanism2',\n",
    "            aspect=1, legend=False, facet_kws=dict(margin_titles=True),\n",
    "           )\n",
    "\n",
    "g.map(pp)\n",
    "g.set(ylabel='umol N/L')\n",
    "g.set_titles(col_template='{col_name}', row_template='{row_name}')\n",
    "\n",
    "# #g.map(sns.lineplot, 'day', 'value', color=PCOLOR, lw=10, alpha=1)\n",
    "# for ax in g.axes_dict.values():\n",
    "#     sns.lineplot(data=mdf.loc[mdf.variable.isin(['Bp'])], \n",
    "#             x='day', y='value', \n",
    "#             palette='Greys', lw=2, alpha=0.5,\n",
    "#             style='disable_mechanism', \n",
    "#             legend=False, ax=ax, zorder=0,\n",
    "#            )\n",
    "#     sns.scatterplot(data=refdf, x='day', y='cc Bp[N]', s=500, legend=False, color=PCOLOR, label='cc mit9312', ax=ax)\n"
   ]
  },
  {
   "cell_type": "code",
   "execution_count": null,
   "id": "41bc8c66",
   "metadata": {},
   "outputs": [],
   "source": [
    "def pp(**kwargs):\n",
    "    \n",
    "    # get a reference to the currently active axes\n",
    "    ax = plt.gca()    \n",
    "#     sns.lineplot(data=mdf.loc[mdf.variable.isin(['Bp'])], \n",
    "#             x='day', y='value', \n",
    "#             palette='Greys', lw=2, alpha=0.5,\n",
    "#             style='disable_mechanism', \n",
    "#             legend=False, ax=ax, zorder=0,\n",
    "#            )\n",
    "\n",
    "    for c,i in zip(cccpalette, cccorder):\n",
    "\n",
    "        sns.lineplot(data=mdf.loc[mdf.variable.isin([i]) & mdf.mechanism1.isin(['default'])],\n",
    "                x='day', y='value', \n",
    "                color=c, lw=2, alpha=1, ls='--',\n",
    "                legend=False, ax=ax, #zorder=1,\n",
    "               )\n",
    "    sns.scatterplot(data=refdf, x='day', y='cc Bp[C]', ax=ax, s=300, legend=False, color=PCOLOR)\n",
    "    sns.scatterplot(data=refdf, x='day', y='cc Bh[C]', ax=ax, s=300, legend=False, color=HCOLOR)\n",
    "\n",
    "g = sns.relplot(data=mdf.loc[mdf.variable.isin(cccorder)& ~mdf.mechanism1.isin(['default'])], \n",
    "            x='day', y='value', hue='variable',\n",
    "            kind='line', \n",
    "            lw=10,\n",
    "            palette=cccpalette, hue_order=cccorder,\n",
    "            col='mechanism1', row='mechanism2',\n",
    "            aspect=1, legend=False, facet_kws=dict(margin_titles=True),\n",
    "           )\n",
    "\n",
    "g.map(pp)\n",
    "g.set(ylabel='umol C/L')\n",
    "g.set_titles(col_template='{col_name}', row_template='{row_name}')\n",
    "\n",
    "# #g.map(sns.lineplot, 'day', 'value', color=PCOLOR, lw=10, alpha=1)\n",
    "# for ax in g.axes_dict.values():\n",
    "#     sns.lineplot(data=mdf.loc[mdf.variable.isin(['Bp'])], \n",
    "#             x='day', y='value', \n",
    "#             palette='Greys', lw=2, alpha=0.5,\n",
    "#             style='disable_mechanism', \n",
    "#             legend=False, ax=ax, zorder=0,\n",
    "#            )\n",
    "#     sns.scatterplot(data=refdf, x='day', y='cc Bp[N]', s=500, legend=False, color=PCOLOR, label='cc mit9312', ax=ax)\n"
   ]
  },
  {
   "cell_type": "code",
   "execution_count": null,
   "id": "ddc45d26",
   "metadata": {
    "scrolled": false
   },
   "outputs": [],
   "source": [
    "d = mdf.loc[mdf.variable.isin(['Bp']) & ~mdf.mechanism1.isin(['default'])]\n",
    "\n",
    "for m in d.mechanism1.unique():\n",
    "    g = sns.relplot(\n",
    "        data=mdf.loc[mdf.variable.isin(['Bp']) & (mdf.mechanism1.isin([m]) | mdf.mechanism2.isin([m]))], \n",
    "        x='day', y='value', \n",
    "        kind='line', style='disable_mechanism', #dashes=False, markers=True,\n",
    "        color=PCOLOR, lw=3, alpha=1,\n",
    "        aspect=1, legend=False,\n",
    "               )\n",
    "    \n",
    "\n",
    "    sns.lineplot(data=mdf.loc[mdf.variable.isin(['Bp']) & mdf.mechanism1.isin(['default'])],\n",
    "            x='day', y='value', \n",
    "            color='black', lw=3, alpha=1, ls='--',\n",
    "            legend=False, #ax=ax, #zorder=1,\n",
    "           )\n",
    "    sns.scatterplot(data=refdf, x='day', y='cc Bp[N]', s=100, legend=False, color=PCOLOR_light, label='cc mit9312', #ax=ax\n",
    "                   )\n",
    "\n",
    "    g.set(ylabel='PRO umol N/L', title=m, ylim=(0,120))\n",
    "    \n",
    "#g.set_titles(col_template='{col_name}', row_template='{row_name}')\n",
    "\n",
    "\n",
    "# #g.map(sns.lineplot, 'day', 'value', color=PCOLOR, lw=10, alpha=1)\n",
    "# for ax in g.axes_dict.values():\n",
    "#     sns.lineplot(data=mdf.loc[mdf.variable.isin(['Bp'])], \n",
    "#             x='day', y='value', \n",
    "#             palette='Greys', lw=2, alpha=0.5,\n",
    "#             style='disable_mechanism', \n",
    "#             legend=False, ax=ax, zorder=0,\n",
    "#            )\n",
    "#     sns.scatterplot(data=refdf, x='day', y='cc Bp[N]', s=500, legend=False, color=PCOLOR, label='cc mit9312', ax=ax)\n"
   ]
  },
  {
   "cell_type": "code",
   "execution_count": null,
   "id": "c9d74e25",
   "metadata": {
    "scrolled": false
   },
   "outputs": [],
   "source": [
    "d = mdf.loc[mdf.variable.isin(['Bh']) & ~mdf.mechanism1.isin(['default'])]\n",
    "\n",
    "for m in d.mechanism1.unique():\n",
    "    g = sns.relplot(\n",
    "        data=mdf.loc[mdf.variable.isin(['Bh']) & (mdf.mechanism1.isin([m]) | mdf.mechanism2.isin([m]))], \n",
    "        x='day', y='value', \n",
    "        kind='line', style='disable_mechanism', #dashes=False, markers=True,\n",
    "        color=HCOLOR, lw=3, alpha=1,\n",
    "        aspect=1, legend=False,\n",
    "               )\n",
    "    \n",
    "\n",
    "    sns.lineplot(data=mdf.loc[mdf.variable.isin(['Bh']) & mdf.mechanism1.isin(['default'])],\n",
    "            x='day', y='value', \n",
    "            color='black', lw=3, alpha=1, ls='--',\n",
    "            legend=False, #ax=ax, #zorder=1,\n",
    "           )\n",
    "    sns.scatterplot(data=refdf, x='day', y='cc Bh[N]', s=100, legend=False, color=HCOLOR_light, label='cc mit9312', #ax=ax\n",
    "                   )\n",
    "\n",
    "    g.set(ylabel='HET umol N/L', title=m, ylim=(0,120))\n",
    "    \n",
    "#g.set_titles(col_template='{col_name}', row_template='{row_name}')\n",
    "\n",
    "\n",
    "# #g.map(sns.lineplot, 'day', 'value', color=PCOLOR, lw=10, alpha=1)\n",
    "# for ax in g.axes_dict.values():\n",
    "#     sns.lineplot(data=mdf.loc[mdf.variable.isin(['Bp'])], \n",
    "#             x='day', y='value', \n",
    "#             palette='Greys', lw=2, alpha=0.5,\n",
    "#             style='disable_mechanism', \n",
    "#             legend=False, ax=ax, zorder=0,\n",
    "#            )\n",
    "#     sns.scatterplot(data=refdf, x='day', y='cc Bp[N]', s=500, legend=False, color=PCOLOR, label='cc mit9312', ax=ax)\n"
   ]
  },
  {
   "cell_type": "code",
   "execution_count": null,
   "id": "d7f7518b",
   "metadata": {},
   "outputs": [],
   "source": [
    "def pp(**kwargs):\n",
    "    \n",
    "    # get a reference to the currently active axes\n",
    "    ax = plt.gca()    \n",
    "#     sns.lineplot(data=mdf.loc[mdf.variable.isin(['Bp'])], \n",
    "#             x='day', y='value', \n",
    "#             palette='Greys', lw=2, alpha=0.5,\n",
    "#             style='disable_mechanism', \n",
    "#             legend=False, ax=ax, zorder=0,\n",
    "#            )\n",
    "    sns.lineplot(data=mdf.loc[mdf.variable.isin(['Bh']) & mdf.mechanism1.isin(['default'])],\n",
    "            x='day', y='value', \n",
    "            color='black', lw=3, alpha=1, ls='--',\n",
    "            legend=False, ax=ax, #zorder=1,\n",
    "           )\n",
    "    sns.scatterplot(data=refdf, x='day', y='cc Bh[N]', s=300, legend=False, color=HCOLOR_light, label='cc mit9312', ax=ax)\n",
    "\n",
    "g = sns.relplot(data=mdf.loc[mdf.variable.isin(['Bh']) & ~mdf.mechanism1.isin(['default'])], \n",
    "            x='day', y='value', \n",
    "            kind='line', \n",
    "            color=HCOLOR, lw=15, alpha=1,\n",
    "            col='mechanism1', row='mechanism2',\n",
    "            aspect=1, legend=False, facet_kws=dict(margin_titles=True),\n",
    "           )\n",
    "\n",
    "g.map(pp)\n",
    "g.set(ylabel='HET umol N/L')\n",
    "g.set_titles(col_template='{col_name}', row_template='{row_name}')\n",
    "\n",
    "# #g.map(sns.lineplot, 'day', 'value', color=PCOLOR, lw=10, alpha=1)\n",
    "# for ax in g.axes_dict.values():\n",
    "#     sns.lineplot(data=mdf.loc[mdf.variable.isin(['Bp'])], \n",
    "#             x='day', y='value', \n",
    "#             palette='Greys', lw=2, alpha=0.5,\n",
    "#             style='disable_mechanism', \n",
    "#             legend=False, ax=ax, zorder=0,\n",
    "#            )\n",
    "#     sns.scatterplot(data=refdf, x='day', y='cc Bp[N]', s=500, legend=False, color=PCOLOR, label='cc mit9312', ax=ax)\n"
   ]
  },
  {
   "cell_type": "code",
   "execution_count": null,
   "id": "82da6f5e",
   "metadata": {},
   "outputs": [],
   "source": [
    "g = sns.relplot(data=mdf.loc[mdf.variable.isin(['Bh'])], \n",
    "            x='day', y='value', \n",
    "            kind='line', \n",
    "            #lw=2,\n",
    "            #palette=['black'] + sns.color_palette('Dark2', 6),\n",
    "            color=HCOLOR, lw=20, alpha=1,\n",
    "            #hue='disable_mechanism', \n",
    "            col='disable_mechanism', col_wrap=8,\n",
    "            aspect=1.4, legend=False,\n",
    "           ).set(ylabel='HET umol N/L').set_titles('{col_name}')\n",
    "\n",
    "#g.map(sns.lineplot, 'day', 'value', color=PCOLOR, lw=10, alpha=1)\n",
    "for ax in g.axes_dict.values():\n",
    "    sns.lineplot(data=mdf.loc[mdf.variable.isin(['Bh'])], \n",
    "            x='day', y='value', \n",
    "            palette='Greys', lw=2, alpha=0.5,\n",
    "            style='disable_mechanism', \n",
    "            legend=False, ax=ax, zorder=0,\n",
    "           )\n",
    "    sns.scatterplot(data=refdf, x='day', y='cc Bh[N]', s=500, legend=False, color=HCOLOR, label='cc 1A3', ax=ax)\n"
   ]
  },
  {
   "cell_type": "code",
   "execution_count": null,
   "id": "2baf40e0",
   "metadata": {},
   "outputs": [],
   "source": [
    "g = sns.relplot(data=mdf.loc[mdf.variable.isin(['Xh'])], \n",
    "            x='day', y='value', \n",
    "            kind='line', \n",
    "            #lw=2,\n",
    "            #palette=['black'] + sns.color_palette('Dark2', 6),\n",
    "            hue='disable_mechanism', \n",
    "            aspect=1.4,\n",
    "           ).set(ylabel='HET cells/l', ).set_titles('{col_name}')\n",
    "#sns.scatterplot(data=refdf, x='day', y='cc mit9312', s=100, legend=False, color=PCOLOR, label='cc mit9312')\n",
    "#sns.scatterplot(data=refdf, x='day', y='mit9312', s=100, legend=False, color=PCOLOR_light, label='mit9312', marker='P')\n",
    "sns.scatterplot(data=refdf, x='day', y='cc 1A3[]',  s=100, legend=False,color=HCOLOR, label='cc 1A3')\n"
   ]
  },
  {
   "cell_type": "code",
   "execution_count": null,
   "id": "a35428f0",
   "metadata": {},
   "outputs": [],
   "source": [
    "g = sns.relplot(data=mdf.loc[mdf.variable.isin(['Xh'])], \n",
    "            x='day', y='value', \n",
    "            kind='line', \n",
    "            #lw=2,\n",
    "            #palette=['black'] + sns.color_palette('Dark2', 6),\n",
    "            hue='disable_mechanism', \n",
    "            aspect=1.4,\n",
    "           ).set(ylabel='HET cells/l', yscale='log' ).set_titles('{col_name}')\n",
    "#sns.scatterplot(data=refdf, x='day', y='cc mit9312', s=100, legend=False, color=PCOLOR, label='cc mit9312')\n",
    "#sns.scatterplot(data=refdf, x='day', y='mit9312', s=100, legend=False, color=PCOLOR_light, label='mit9312', marker='P')\n",
    "sns.scatterplot(data=refdf, x='day', y='cc 1A3',  s=100, legend=False,color=HCOLOR, label='cc 1A3')\n"
   ]
  },
  {
   "cell_type": "code",
   "execution_count": null,
   "id": "a06ab9c7",
   "metadata": {},
   "outputs": [],
   "source": [
    "g = sns.relplot(data=mdf.loc[mdf.variable.isin(['Xp'])], \n",
    "            x='day', y='value', \n",
    "            kind='line', \n",
    "            #lw=2,\n",
    "            #palette=['black'] + sns.color_palette('Dark2', 6),\n",
    "            hue='disable_mechanism', \n",
    "            aspect=1.4,\n",
    "           ).set(ylabel='PRO cells/l', yscale='log').set_titles('{col_name}')\n",
    "sns.scatterplot(data=refdf, x='day', y='cc mit9312', s=100, legend=False, color=PCOLOR, label='cc mit9312')\n",
    "#sns.scatterplot(data=refdf, x='day', y='mit9312', s=100, legend=False, color=PCOLOR_light, label='mit9312', marker='P')\n"
   ]
  },
  {
   "cell_type": "code",
   "execution_count": null,
   "id": "a84dff55",
   "metadata": {},
   "outputs": [],
   "source": [
    "len(param_vals)"
   ]
  },
  {
   "cell_type": "code",
   "execution_count": null,
   "id": "3dfd0fec",
   "metadata": {},
   "outputs": [],
   "source": [
    "mdf.to_csv('disable_mechanism_res.csv.gz')"
   ]
  },
  {
   "cell_type": "code",
   "execution_count": null,
   "id": "e9228004",
   "metadata": {},
   "outputs": [],
   "source": []
  },
  {
   "cell_type": "code",
   "execution_count": null,
   "id": "4e7cf389",
   "metadata": {},
   "outputs": [],
   "source": []
  },
  {
   "cell_type": "code",
   "execution_count": null,
   "id": "7a1337e0",
   "metadata": {},
   "outputs": [],
   "source": []
  }
 ],
 "metadata": {
  "kernelspec": {
   "display_name": "Python 3 (ipykernel)",
   "language": "python",
   "name": "python3"
  },
  "language_info": {
   "codemirror_mode": {
    "name": "ipython",
    "version": 3
   },
   "file_extension": ".py",
   "mimetype": "text/x-python",
   "name": "python",
   "nbconvert_exporter": "python",
   "pygments_lexer": "ipython3",
   "version": "3.9.12"
  }
 },
 "nbformat": 4,
 "nbformat_minor": 5
}
