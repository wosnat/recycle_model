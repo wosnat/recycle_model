{
 "cells": [
  {
   "cell_type": "code",
   "execution_count": 1,
   "id": "0b5df45e",
   "metadata": {},
   "outputs": [],
   "source": [
    "import numpy as np\n",
    "import pandas as pd\n",
    "import matplotlib.pyplot as plt\n",
    "import seaborn as sns\n",
    "import pprint\n",
    "sns.set(style=\"white\", context='poster')\n",
    "from scipy.integrate import solve_ivp"
   ]
  },
  {
   "cell_type": "markdown",
   "id": "ec94ccd8",
   "metadata": {},
   "source": [
    "levenberg optimization"
   ]
  },
  {
   "cell_type": "code",
   "execution_count": 2,
   "id": "4d435a10",
   "metadata": {},
   "outputs": [],
   "source": [
    "%load_ext autoreload\n",
    "%autoreload 2\n"
   ]
  },
  {
   "cell_type": "code",
   "execution_count": 3,
   "id": "047a0867",
   "metadata": {},
   "outputs": [],
   "source": [
    "#from model_equations_separate_NC import *\n",
    "from model_equations_separate_NC_store_numba import *\n"
   ]
  },
  {
   "cell_type": "code",
   "execution_count": 4,
   "id": "29512801",
   "metadata": {},
   "outputs": [
    {
     "data": {
      "text/html": [
       "<svg  width=\"990\" height=\"55\"><rect x=\"0\" y=\"0\" width=\"55\" height=\"55\" style=\"fill:#99cc99;stroke-width:2;stroke:rgb(255,255,255)\"/><rect x=\"55\" y=\"0\" width=\"55\" height=\"55\" style=\"fill:#aad5aa;stroke-width:2;stroke:rgb(255,255,255)\"/><rect x=\"110\" y=\"0\" width=\"55\" height=\"55\" style=\"fill:#ffc58f;stroke-width:2;stroke:rgb(255,255,255)\"/><rect x=\"165\" y=\"0\" width=\"55\" height=\"55\" style=\"fill:#ffd2a9;stroke-width:2;stroke:rgb(255,255,255)\"/><rect x=\"220\" y=\"0\" width=\"55\" height=\"55\" style=\"fill:#326232;stroke-width:2;stroke:rgb(255,255,255)\"/><rect x=\"275\" y=\"0\" width=\"55\" height=\"55\" style=\"fill:#ffa98f;stroke-width:2;stroke:rgb(255,255,255)\"/><rect x=\"330\" y=\"0\" width=\"55\" height=\"55\" style=\"fill:#7285b7;stroke-width:2;stroke:rgb(255,255,255)\"/><rect x=\"385\" y=\"0\" width=\"55\" height=\"55\" style=\"fill:#000000;stroke-width:2;stroke:rgb(255,255,255)\"/><rect x=\"440\" y=\"0\" width=\"55\" height=\"55\" style=\"fill:#bbdaff;stroke-width:2;stroke:rgb(255,255,255)\"/><rect x=\"495\" y=\"0\" width=\"55\" height=\"55\" style=\"fill:#99cc99;stroke-width:2;stroke:rgb(255,255,255)\"/><rect x=\"550\" y=\"0\" width=\"55\" height=\"55\" style=\"fill:#aad5aa;stroke-width:2;stroke:rgb(255,255,255)\"/><rect x=\"605\" y=\"0\" width=\"55\" height=\"55\" style=\"fill:#ffc58f;stroke-width:2;stroke:rgb(255,255,255)\"/><rect x=\"660\" y=\"0\" width=\"55\" height=\"55\" style=\"fill:#ffd2a9;stroke-width:2;stroke:rgb(255,255,255)\"/><rect x=\"715\" y=\"0\" width=\"55\" height=\"55\" style=\"fill:#326232;stroke-width:2;stroke:rgb(255,255,255)\"/><rect x=\"770\" y=\"0\" width=\"55\" height=\"55\" style=\"fill:#ffa98f;stroke-width:2;stroke:rgb(255,255,255)\"/><rect x=\"825\" y=\"0\" width=\"55\" height=\"55\" style=\"fill:#cc6666;stroke-width:2;stroke:rgb(255,255,255)\"/><rect x=\"880\" y=\"0\" width=\"55\" height=\"55\" style=\"fill:#000000;stroke-width:2;stroke:rgb(255,255,255)\"/><rect x=\"935\" y=\"0\" width=\"55\" height=\"55\" style=\"fill:#ff9da4;stroke-width:2;stroke:rgb(255,255,255)\"/></svg>"
      ],
      "text/plain": [
       "[(0.6, 0.8, 0.6),\n",
       " (0.6666666666666666, 0.8352941176470589, 0.6666666666666666),\n",
       " (1.0, 0.7725490196078432, 0.5607843137254902),\n",
       " (1.0, 0.8235294117647058, 0.6627450980392157),\n",
       " (0.19607843137254902, 0.3843137254901961, 0.19607843137254902),\n",
       " (1.0, 0.6627450980392157, 0.5607843137254902),\n",
       " (0.4470588235294118, 0.5215686274509804, 0.7176470588235294),\n",
       " (0.0, 0.0, 0.0),\n",
       " (0.7333333333333333, 0.8549019607843137, 1.0),\n",
       " (0.6, 0.8, 0.6),\n",
       " (0.6666666666666666, 0.8352941176470589, 0.6666666666666666),\n",
       " (1.0, 0.7725490196078432, 0.5607843137254902),\n",
       " (1.0, 0.8235294117647058, 0.6627450980392157),\n",
       " (0.19607843137254902, 0.3843137254901961, 0.19607843137254902),\n",
       " (1.0, 0.6627450980392157, 0.5607843137254902),\n",
       " (0.8, 0.4, 0.4),\n",
       " (0.0, 0.0, 0.0),\n",
       " (1.0, 0.615686274509804, 0.6431372549019608)]"
      ]
     },
     "execution_count": 4,
     "metadata": {},
     "output_type": "execute_result"
    }
   ],
   "source": [
    "\n",
    "HCOLOR = '#ffc58f'\n",
    "HCOLOR_light = '#ffd2a9'\n",
    "PCOLOR = '#99cc99'\n",
    "PCOLOR_light = '#aad5aa'\n",
    "\n",
    "DONCOLOR = '#7285b7'\n",
    "RDONCOLOR = 'black' #'#00334D'\n",
    "DINCOLOR = '#bbdaff' #'#000066'\n",
    "\n",
    "DOCCOLOR = '#cc6666'\n",
    "RDOCCOLOR = 'black' #'#00334D'\n",
    "DICCOLOR = '#ff9da4' #'#000066'\n",
    "\n",
    "SHCOLOR = '#ffa98f'\n",
    "SPCOLOR = '#326232'\n",
    "\n",
    "\n",
    "ccnpalette = [PCOLOR, PCOLOR_light, HCOLOR, HCOLOR_light, SPCOLOR, SHCOLOR,DONCOLOR, RDONCOLOR, DINCOLOR]\n",
    "ccnorder = ['Bp', 'Np', 'Bh','Nh',  'ABp', 'ABh', 'DON', 'RDON', 'DIN', ]\n",
    "cccpalette = [PCOLOR, PCOLOR_light, HCOLOR, HCOLOR_light, SPCOLOR, SHCOLOR, DOCCOLOR, RDOCCOLOR, DICCOLOR]\n",
    "cccorder = ['Bp[C]', 'Cp', 'Bh[C]', 'Ch', 'ABp[C]', 'ABh[C]', 'DOC', 'RDOC', 'DIC']\n",
    "ccxpalette = [PCOLOR, HCOLOR]\n",
    "ccxorder = ['Xp', 'Xh']\n",
    "hnpalette = [ HCOLOR_light, SPCOLOR, SHCOLOR, DONCOLOR, RDONCOLOR, DINCOLOR]\n",
    "hnorder = [ 'Bh', 'ABp', 'ABh', 'DON', 'RDON', 'DIN']\n",
    "hcpalette = [ HCOLOR_light, SPCOLOR, SHCOLOR, DOCCOLOR, RDOCCOLOR, DICCOLOR]\n",
    "hcorder = [ 'Bh[C]', 'ABp[C]', 'ABh[C]', 'DOC', 'RDOC', 'DIC']\n",
    "pnpalette = [ PCOLOR_light, SPCOLOR, SHCOLOR, DONCOLOR, RDONCOLOR, DINCOLOR]\n",
    "pnorder = [ 'Bp', 'ABp', 'ABh', 'DON', 'RDON', 'DIN']\n",
    "pcpalette = [ PCOLOR_light, SPCOLOR, SHCOLOR, DOCCOLOR, RDOCCOLOR, DICCOLOR]\n",
    "pcorder = [ 'Bp[C]', 'ABp[C]', 'ABh[C]', 'DOC', 'RDOC', 'DIC']\n",
    "sns.color_palette(ccnpalette + cccpalette, )\n",
    "# \n"
   ]
  },
  {
   "cell_type": "code",
   "execution_count": 5,
   "id": "041f9573",
   "metadata": {},
   "outputs": [
    {
     "data": {
      "text/html": [
       "<svg  width=\"220\" height=\"55\"><rect x=\"0\" y=\"0\" width=\"55\" height=\"55\" style=\"fill:#99cc99;stroke-width:2;stroke:rgb(255,255,255)\"/><rect x=\"55\" y=\"0\" width=\"55\" height=\"55\" style=\"fill:#ffc58f;stroke-width:2;stroke:rgb(255,255,255)\"/><rect x=\"110\" y=\"0\" width=\"55\" height=\"55\" style=\"fill:#aad5aa;stroke-width:2;stroke:rgb(255,255,255)\"/><rect x=\"165\" y=\"0\" width=\"55\" height=\"55\" style=\"fill:#ffd2a9;stroke-width:2;stroke:rgb(255,255,255)\"/></svg>"
      ],
      "text/plain": [
       "[(0.6, 0.8, 0.6),\n",
       " (1.0, 0.7725490196078432, 0.5607843137254902),\n",
       " (0.6666666666666666, 0.8352941176470589, 0.6666666666666666),\n",
       " (1.0, 0.8235294117647058, 0.6627450980392157)]"
      ]
     },
     "execution_count": 5,
     "metadata": {},
     "output_type": "execute_result"
    }
   ],
   "source": [
    "\n",
    " \n",
    "sns.color_palette([PCOLOR, HCOLOR, PCOLOR_light, HCOLOR_light] )\n"
   ]
  },
  {
   "cell_type": "code",
   "execution_count": 6,
   "id": "0f714019",
   "metadata": {},
   "outputs": [],
   "source": [
    "refdf = pd.read_excel('reference_10cc_axenic.xlsx')\n"
   ]
  },
  {
   "cell_type": "code",
   "execution_count": 7,
   "id": "b2ff81b3",
   "metadata": {},
   "outputs": [
    {
     "data": {
      "text/plain": [
       "Index(['Sample', 'id', 'replicate', 'transfer', 'transfer day', 'heterotroph',\n",
       "       'full name', 'Group', 't', 'day', 'FL', 'ref_Bp[N]', 'ref_Bp[C]'],\n",
       "      dtype='object')"
      ]
     },
     "execution_count": 7,
     "metadata": {},
     "output_type": "execute_result"
    }
   ],
   "source": [
    "refdf.columns"
   ]
  },
  {
   "cell_type": "code",
   "execution_count": 8,
   "id": "2b05dab2",
   "metadata": {},
   "outputs": [],
   "source": [
    "param_vals = get_param_vals('MIN')\n",
    "param_vals = get_param_vals('OVERFLOW')\n",
    "param_vals = get_param_vals('MIXOTROPH')\n",
    "param_vals = get_param_vals('EXOENZYME')\n"
   ]
  },
  {
   "cell_type": "code",
   "execution_count": 9,
   "id": "5dcf7f8b",
   "metadata": {},
   "outputs": [
    {
     "data": {
      "text/plain": [
       "{'VmaxICp': 2.2315471698113204e-06,\n",
       " 'VmaxICh': 0.0,\n",
       " 'VmaxINp': 5.555555555555556e-06,\n",
       " 'VmaxINh': 1.6666666666666667e-06,\n",
       " 'VmaxOCp': 0.0,\n",
       " 'VmaxOCh': 5.541666666666666e-08,\n",
       " 'VmaxONp': 0.0,\n",
       " 'VmaxONh': 4.277777777777778e-08,\n",
       " 'KICp': 37.0,\n",
       " 'KICh': 1.0,\n",
       " 'KINp': 0.02,\n",
       " 'KINh': 0.02,\n",
       " 'KOCp': 0.03,\n",
       " 'KOCh': 0.1,\n",
       " 'KONp': 0.1,\n",
       " 'KONh': 0.1,\n",
       " 'Mp': 1.157407407407407e-06,\n",
       " 'Mh': 1.157407407407407e-06,\n",
       " 'gammaDp': 0.8,\n",
       " 'gammaDh': 0.8,\n",
       " 'Rp': 6.625,\n",
       " 'Rh': 5.0,\n",
       " 'QCmaxp': 10.0,\n",
       " 'QCminp': 4.0,\n",
       " 'QCmaxh': 10.0,\n",
       " 'QCminh': 4.0,\n",
       " 'Kmtbp': 3.5e-05,\n",
       " 'Kmtbh': 3.5e-05,\n",
       " 'bp': 0.01,\n",
       " 'bh': 0.01,\n",
       " 'r0p': 2.083333333333333e-06,\n",
       " 'r0h': 2.083333333333333e-06,\n",
       " 'KdecayDON': 2.31481481481482e-08,\n",
       " 'KprodEXOp': 0.0,\n",
       " 'KprodEXOh': 1.15740740740741e-06,\n",
       " 'OverflowMode': 0.0,\n",
       " 'Koverflowp': 0.0,\n",
       " 'Koverflowh': 0.0,\n",
       " 'ROSMode': 0.0,\n",
       " 'KprodROSp': 0.0,\n",
       " 'KprodROSh': 0.0,\n",
       " 'KlossROSp': 0.0,\n",
       " 'KlossROSh': 0.0,\n",
       " 'KdecayROS': 0.0,\n",
       " 'omegaP': 0.0,\n",
       " 'omegaH': 0.0,\n",
       " 'paramROSmaxD': 0.0}"
      ]
     },
     "execution_count": 9,
     "metadata": {},
     "output_type": "execute_result"
    }
   ],
   "source": [
    "param_vals"
   ]
  },
  {
   "cell_type": "code",
   "execution_count": 10,
   "id": "4242de6b",
   "metadata": {},
   "outputs": [
    {
     "name": "stdout",
     "output_type": "stream",
     "text": [
      "VmaxICp  = 2.23e-06, 1.93e-01\n",
      "VmaxICh  = 0.00e+00, 0.00e+00\n",
      "VmaxINp  = 5.56e-06, 4.80e-01\n",
      "VmaxINh  = 1.67e-06, 1.44e-01\n",
      "VmaxOCp  = 2.70e-08, 2.34e-03\n",
      "VmaxOCh  = 5.54e-08, 4.79e-03\n",
      "VmaxONp  = 1.09e-07, 9.41e-03\n",
      "VmaxONh  = 4.28e-08, 3.70e-03\n",
      "KICp  = 3.70e+01, 3.20e+06\n",
      "KICh  = 1.00e+00, 8.64e+04\n",
      "KINp  = 2.00e-02, 1.73e+03\n",
      "KINh  = 2.00e-02, 1.73e+03\n",
      "KOCp  = 3.00e-02, 2.59e+03\n",
      "KOCh  = 1.00e-01, 8.64e+03\n",
      "KONp  = 1.00e-01, 8.64e+03\n",
      "KONh  = 1.00e-01, 8.64e+03\n",
      "Mp  = 1.16e-06, 1.00e-01\n",
      "Mh  = 1.16e-06, 1.00e-01\n",
      "gammaDp  = 8.00e-01, 6.91e+04\n",
      "gammaDh  = 8.00e-01, 6.91e+04\n",
      "Rp  = 6.62e+00, 5.72e+05\n",
      "Rh  = 5.00e+00, 4.32e+05\n",
      "QCmaxp  = 1.00e+01, 8.64e+05\n",
      "QCminp  = 4.00e+00, 3.46e+05\n",
      "QCmaxh  = 1.00e+01, 8.64e+05\n",
      "QCminh  = 4.00e+00, 3.46e+05\n",
      "Kmtbp  = 3.50e-05, 3.02e+00\n",
      "Kmtbh  = 3.50e-05, 3.02e+00\n",
      "bp  = 1.00e-02, 8.64e+02\n",
      "bh  = 1.00e-02, 8.64e+02\n",
      "r0p  = 2.08e-06, 1.80e-01\n",
      "r0h  = 2.08e-06, 1.80e-01\n",
      "KdecayDON  = 2.31e-08, 2.00e-03\n",
      "KprodEXOp  = 0.00e+00, 0.00e+00\n",
      "KprodEXOh  = 1.16e-06, 1.00e-01\n",
      "OverflowMode  = 1.00e+00, 8.64e+04\n",
      "Koverflowp  = 1.16e-06, 1.00e-01\n",
      "Koverflowh  = 1.16e-06, 1.00e-01\n",
      "ROSMode  = 1.00e+00, 8.64e+04\n",
      "KprodROSp  = 4.70e-09, 4.06e-04\n",
      "KprodROSh  = 1.94e-08, 1.68e-03\n",
      "KlossROSp  = 1.96e-06, 1.69e-01\n",
      "KlossROSh  = 9.72e-06, 8.40e-01\n",
      "KdecayROS  = 2.78e-06, 2.40e-01\n",
      "omegaP  = 3.41e-05, 2.94e+00\n",
      "omegaH  = 3.41e-08, 2.94e-03\n",
      "paramROSmaxD  = 3.21e-05, 2.77e+00\n"
     ]
    }
   ],
   "source": [
    "print_params()"
   ]
  },
  {
   "cell_type": "code",
   "execution_count": 11,
   "id": "fb426ac2",
   "metadata": {},
   "outputs": [
    {
     "data": {
      "text/plain": [
       "47"
      ]
     },
     "execution_count": 11,
     "metadata": {},
     "output_type": "execute_result"
    }
   ],
   "source": [
    "len(param_vals)"
   ]
  },
  {
   "cell_type": "code",
   "execution_count": 12,
   "id": "37679068",
   "metadata": {},
   "outputs": [
    {
     "data": {
      "text/plain": [
       "(0.5235987755982988,\n",
       " 4.1887902047863905,\n",
       " 0.6482299264066116,\n",
       " 2.6109548884319835,\n",
       " 8.92857142857143e-10,\n",
       " 2.857142857142857e-09)"
      ]
     },
     "execution_count": 12,
     "metadata": {},
     "output_type": "execute_result"
    }
   ],
   "source": [
    "pro_vol, alt_vol, pro_vol**0.67, alt_vol**0.67, Qp, Qh"
   ]
  },
  {
   "cell_type": "code",
   "execution_count": 13,
   "id": "4bbf91e2",
   "metadata": {},
   "outputs": [
    {
     "data": {
      "text/plain": [
       "(40.0, 12.500000000000002)"
      ]
     },
     "execution_count": 13,
     "metadata": {},
     "output_type": "execute_result"
    }
   ],
   "source": [
    "Qh * 14 * 1e9, Qp * 14 * 1e9, "
   ]
  },
  {
   "cell_type": "code",
   "execution_count": 14,
   "id": "94473d64",
   "metadata": {
    "scrolled": true
   },
   "outputs": [
    {
     "ename": "NameError",
     "evalue": "name 'print_equations' is not defined",
     "output_type": "error",
     "traceback": [
      "\u001b[1;31m---------------------------------------------------------------------------\u001b[0m",
      "\u001b[1;31mNameError\u001b[0m                                 Traceback (most recent call last)",
      "Cell \u001b[1;32mIn[14], line 1\u001b[0m\n\u001b[1;32m----> 1\u001b[0m \u001b[43mprint_equations\u001b[49m()\n",
      "\u001b[1;31mNameError\u001b[0m: name 'print_equations' is not defined"
     ]
    }
   ],
   "source": [
    "print_equations()\n"
   ]
  },
  {
   "cell_type": "code",
   "execution_count": 15,
   "id": "ad1b5f2e",
   "metadata": {},
   "outputs": [
    {
     "ename": "NameError",
     "evalue": "name 'get_main_data' is not defined",
     "output_type": "error",
     "traceback": [
      "\u001b[1;31m---------------------------------------------------------------------------\u001b[0m",
      "\u001b[1;31mNameError\u001b[0m                                 Traceback (most recent call last)",
      "Cell \u001b[1;32mIn[15], line 2\u001b[0m\n\u001b[0;32m      1\u001b[0m \u001b[38;5;66;03m#### %%timeit -r 1 -n 1\u001b[39;00m\n\u001b[1;32m----> 2\u001b[0m var_names, init_vars, calc_dydt, interm_names, intermediate_func \u001b[38;5;241m=\u001b[39m \u001b[43mget_main_data\u001b[49m(param_vals, pro99_mode\u001b[38;5;241m=\u001b[39m\u001b[38;5;28;01mFalse\u001b[39;00m)\n",
      "\u001b[1;31mNameError\u001b[0m: name 'get_main_data' is not defined"
     ]
    }
   ],
   "source": [
    "#### %%timeit -r 1 -n 1\n",
    "var_names, init_vars, calc_dydt, interm_names, intermediate_func = get_main_data(param_vals, pro99_mode=False)"
   ]
  },
  {
   "cell_type": "code",
   "execution_count": null,
   "id": "57694a8c",
   "metadata": {},
   "outputs": [],
   "source": [
    "len(var_names), len(init_vars),  len(interm_names), "
   ]
  },
  {
   "cell_type": "code",
   "execution_count": null,
   "id": "c2dd65a1",
   "metadata": {},
   "outputs": [],
   "source": [
    "print_dydt0(calc_dydt, var_names, init_vars)\n"
   ]
  },
  {
   "cell_type": "code",
   "execution_count": null,
   "id": "2c3770a4",
   "metadata": {},
   "outputs": [],
   "source": [
    "print_intermediate0(intermediate_func, interm_names, init_vars)\n"
   ]
  },
  {
   "cell_type": "code",
   "execution_count": null,
   "id": "8e758d7e",
   "metadata": {},
   "outputs": [],
   "source": [
    "biomass_diff0(calc_dydt, var_names,init_vars, param_vals)\n"
   ]
  },
  {
   "cell_type": "code",
   "execution_count": null,
   "id": "e6a7da6f",
   "metadata": {},
   "outputs": [],
   "source": [
    "init_vars"
   ]
  },
  {
   "cell_type": "code",
   "execution_count": null,
   "id": "52be57f3",
   "metadata": {},
   "outputs": [],
   "source": [
    "#   %%timeit -r 1 -n 1\n",
    "\n",
    "sol = run_solver(calc_dydt, init_vars, days=140, t_eval=get_t_eval(maxday=140, step = 3600*4, ref_times = refdf['t']))"
   ]
  },
  {
   "cell_type": "raw",
   "id": "a1b2a503",
   "metadata": {},
   "source": [
    "sol = run_solver(calc_dydt, init_vars, days=1, t_eval=get_t_eval(maxday=0.1, step = 1,))"
   ]
  },
  {
   "cell_type": "raw",
   "id": "02e7d46b",
   "metadata": {},
   "source": [
    "sol = run_solver(calc_dydt, init_vars, days=1, t_eval=get_t_eval(maxday=0.1, step = 1,))"
   ]
  },
  {
   "cell_type": "code",
   "execution_count": null,
   "id": "c09ae652",
   "metadata": {},
   "outputs": [],
   "source": [
    "sol"
   ]
  },
  {
   "cell_type": "code",
   "execution_count": null,
   "id": "fafbfcb4",
   "metadata": {},
   "outputs": [],
   "source": [
    "df = solver2df(sol, var_names, interm_names, intermediate_func, param_vals)"
   ]
  },
  {
   "cell_type": "raw",
   "id": "a8c2da9c",
   "metadata": {},
   "source": [
    "df = solver2df(sol, var_names, None, None, param_vals)"
   ]
  },
  {
   "cell_type": "code",
   "execution_count": null,
   "id": "71bc4ab9",
   "metadata": {},
   "outputs": [],
   "source": [
    "df.columns"
   ]
  },
  {
   "cell_type": "raw",
   "id": "616af65b",
   "metadata": {},
   "source": [
    "df= df.head(20)"
   ]
  },
  {
   "cell_type": "raw",
   "id": "89f4b443",
   "metadata": {},
   "source": [
    "        df[interm_names] = df[var_names].apply(lambda x : intermediate_func(*x), axis=1, \n",
    "                                           result_type='expand')\n"
   ]
  },
  {
   "cell_type": "code",
   "execution_count": null,
   "id": "1bf62af1",
   "metadata": {},
   "outputs": [],
   "source": [
    "mdf = df.melt(id_vars=['t', 'day'])"
   ]
  },
  {
   "cell_type": "code",
   "execution_count": null,
   "id": "aa7835ec",
   "metadata": {},
   "outputs": [],
   "source": [
    "mdf.variable.unique()"
   ]
  },
  {
   "cell_type": "code",
   "execution_count": null,
   "id": "f84f0d31",
   "metadata": {},
   "outputs": [],
   "source": []
  },
  {
   "cell_type": "code",
   "execution_count": null,
   "id": "9e243435",
   "metadata": {},
   "outputs": [],
   "source": [
    "mdf.nsmallest(10, 'value')"
   ]
  },
  {
   "cell_type": "code",
   "execution_count": null,
   "id": "4c17198f",
   "metadata": {},
   "outputs": [],
   "source": [
    "df.head()"
   ]
  },
  {
   "cell_type": "code",
   "execution_count": null,
   "id": "7f33b1b9",
   "metadata": {},
   "outputs": [],
   "source": [
    "df.min().head(30)"
   ]
  },
  {
   "cell_type": "code",
   "execution_count": null,
   "id": "c362d245",
   "metadata": {},
   "outputs": [],
   "source": []
  },
  {
   "cell_type": "code",
   "execution_count": null,
   "id": "2aff20b7",
   "metadata": {},
   "outputs": [],
   "source": [
    "df.describe().T.head(30)"
   ]
  },
  {
   "cell_type": "code",
   "execution_count": null,
   "id": "d3c767da",
   "metadata": {
    "scrolled": false
   },
   "outputs": [],
   "source": [
    "sns.set_context('talk')\n",
    "sns.relplot(data=mdf.loc[~mdf.value.isin([np.Inf, -np.Inf, ])], x='t', y='value', hue='variable',\n",
    "            kind='line', \n",
    "            col='variable', col_wrap=6, facet_kws=dict(sharey=False),\n",
    "            legend=False,\n",
    "           ).set_titles(row_template = '{row_name}', col_template = '{col_name}')"
   ]
  },
  {
   "cell_type": "code",
   "execution_count": null,
   "id": "917801af",
   "metadata": {
    "scrolled": false
   },
   "outputs": [],
   "source": [
    "plt.show()"
   ]
  },
  {
   "cell_type": "code",
   "execution_count": null,
   "id": "325f7feb",
   "metadata": {},
   "outputs": [],
   "source": [
    "df.columns"
   ]
  },
  {
   "cell_type": "code",
   "execution_count": null,
   "id": "c9377b23",
   "metadata": {},
   "outputs": [],
   "source": [
    "df.loc[df.t.isin([11, 12])][['t','Bp', 'Np', 'Cp', 'Bh', 'Nh', 'Ch', 'DON', 'RDON', 'DIN', 'DOC', 'RDOC',\n",
    "       'DIC',  'netDeltaNp', 'netDeltaNh',\n",
    "       'netDeltaCp', 'netDeltaCh', 'store_keepNp', 'store_keepNh',\n",
    "       'overflowNp', 'overflowNh', 'overflowCp', 'overflowCh', 'biomass_breakdown_for_respirationCh'\n",
    "]].T\n"
   ]
  },
  {
   "cell_type": "code",
   "execution_count": null,
   "id": "4edb115a",
   "metadata": {},
   "outputs": [],
   "source": [
    "refdf.columns"
   ]
  },
  {
   "cell_type": "code",
   "execution_count": null,
   "id": "da1f9fce",
   "metadata": {
    "scrolled": false
   },
   "outputs": [],
   "source": [
    "g = sns.relplot(data=mdf.loc[mdf.variable.isin(ccnorder)], \n",
    "            x='day', y='value', hue='variable',\n",
    "            kind='line', \n",
    "            lw=5, #legend=False,\n",
    "            palette=ccnpalette, hue_order=ccnorder,\n",
    "           ).set(ylabel='umol N/l', )\n",
    "sns.scatterplot(data=refdf, x='day', y='ref_Bp', ax=g.ax, s=100, legend=False, color=PCOLOR)\n",
    "#sns.scatterplot(data=refdf, x='day', y='cc Bh[N]', ax=g.ax, s=100, legend=False, color=HCOLOR)\n",
    "\n",
    "g = sns.relplot(data=mdf.loc[mdf.variable.isin(cccorder)], \n",
    "            x='day', y='value', hue='variable',\n",
    "            kind='line', \n",
    "            lw=5, #legend=False,\n",
    "            palette=cccpalette, hue_order=cccorder,\n",
    "           ).set(ylabel='umol C/l', )\n",
    "#sns.scatterplot(data=refdf, x='day', y='cc Bp[C]', ax=g.ax, s=100, legend=False, color=PCOLOR)\n",
    "#sns.scatterplot(data=refdf, x='day', y='cc Bh[C]', ax=g.ax, s=100, legend=False, color=HCOLOR)\n",
    "\n",
    "# g = sns.relplot(data=mdf.loc[mdf.variable.isin(['Xp', 'Xh'])], \n",
    "#             x='day', y='value', hue='variable',\n",
    "#             kind='line', \n",
    "#             lw=5, legend=False,\n",
    "#             palette=ccxpalette, hue_order=ccxorder,\n",
    "#            ).set(ylabel='cells/l')\n",
    "#sns.scatterplot(data=refdf, x='day', y='cc mit9312', ax=g.ax, s=100, legend=False, color=PCOLOR)\n",
    "#sns.scatterplot(data=refdf, x='day', y='cc 1A3', ax=g.ax, s=100, legend=False, color=HCOLOR)\n",
    "plt.show()"
   ]
  },
  {
   "cell_type": "code",
   "execution_count": null,
   "id": "781516a7",
   "metadata": {},
   "outputs": [],
   "source": [
    "df.Bh.value_counts()"
   ]
  },
  {
   "cell_type": "code",
   "execution_count": null,
   "id": "f36d751e",
   "metadata": {},
   "outputs": [],
   "source": [
    "sns.set_context('paper')\n",
    "sns.relplot(data=df, x='day', y='Cp')\n",
    "sns.relplot(data=df, x='day', y='Nh')\n",
    "#plt.ylim((0,0.0002))\n",
    "#plt.yscale('log')\n",
    "plt.show()"
   ]
  },
  {
   "cell_type": "code",
   "execution_count": null,
   "id": "a4da7e71",
   "metadata": {},
   "outputs": [],
   "source": [
    "df.columns"
   ]
  },
  {
   "cell_type": "code",
   "execution_count": null,
   "id": "a415f960",
   "metadata": {},
   "outputs": [],
   "source": [
    "df.clip(lower=0)"
   ]
  },
  {
   "cell_type": "code",
   "execution_count": null,
   "id": "dd886e6c",
   "metadata": {},
   "outputs": [],
   "source": [
    "from matplotlib.colors import LinearSegmentedColormap\n",
    "df.clip(lower=0)[ccnorder+ ['day']].plot.area(x='day', \n",
    "                                colormap=LinearSegmentedColormap.from_list(\"\", ccnpalette) \n",
    "                               )\n",
    "plt.legend(bbox_to_anchor =(1,1))\n",
    "plt.show()\n",
    "df.clip(lower=0)[cccorder+ ['day']].plot.area(x='day', \n",
    "                                colormap=LinearSegmentedColormap.from_list(\"\", cccpalette) \n",
    "                               )\n",
    "plt.legend(bbox_to_anchor =(1,1))\n",
    "plt.show()\n"
   ]
  },
  {
   "cell_type": "code",
   "execution_count": null,
   "id": "56819953",
   "metadata": {},
   "outputs": [],
   "source": []
  },
  {
   "cell_type": "code",
   "execution_count": null,
   "id": "7bac0919",
   "metadata": {},
   "outputs": [],
   "source": []
  },
  {
   "cell_type": "code",
   "execution_count": null,
   "id": "39ec139f",
   "metadata": {},
   "outputs": [],
   "source": [
    "    sfunc_list = [dBpdt, dNpdt, dCpdt, dBhdt, dNhdt, dChdt, dDONdt, dRDONdt, dDINdt, dDOCdt, dRDOCdt, dDICdt, dROSdt, dABpdt, dABhdt]\n",
    "    subs_funclist = [sfunc.subs(param_vals) for sfunc in sfunc_list]\n",
    "    \n",
    "    #final_func = lambdify(var_list, subs_funclist, modules=['math'])\n",
    "    #final_func_jit = jit(final_func, nopython=True)  \n",
    "    #final_func_jit = lambdify(var_list, subs_funclist)\n",
    "    #calc_dydt = lambda t, y : final_func_jit(*y)\n"
   ]
  },
  {
   "cell_type": "code",
   "execution_count": null,
   "id": "d889dae5",
   "metadata": {},
   "outputs": [],
   "source": [
    "str(subs_funclist)"
   ]
  },
  {
   "cell_type": "code",
   "execution_count": null,
   "id": "db7eb2cc",
   "metadata": {},
   "outputs": [],
   "source": [
    "simplify_sfunc_list = [simplify(i) for i in sfunc_list]"
   ]
  },
  {
   "cell_type": "code",
   "execution_count": null,
   "id": "06aaabca",
   "metadata": {},
   "outputs": [],
   "source": [
    "simplify_sfunc_list"
   ]
  },
  {
   "cell_type": "code",
   "execution_count": null,
   "id": "96954cdd",
   "metadata": {},
   "outputs": [],
   "source": []
  }
 ],
 "metadata": {
  "kernelspec": {
   "display_name": "Python 3 (ipykernel)",
   "language": "python",
   "name": "python3"
  },
  "language_info": {
   "codemirror_mode": {
    "name": "ipython",
    "version": 3
   },
   "file_extension": ".py",
   "mimetype": "text/x-python",
   "name": "python",
   "nbconvert_exporter": "python",
   "pygments_lexer": "ipython3",
   "version": "3.9.18"
  }
 },
 "nbformat": 4,
 "nbformat_minor": 5
}
