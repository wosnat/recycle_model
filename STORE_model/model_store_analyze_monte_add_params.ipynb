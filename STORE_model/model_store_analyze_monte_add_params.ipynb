{
 "cells": [
  {
   "cell_type": "code",
   "execution_count": 1,
   "id": "0b5df45e",
   "metadata": {},
   "outputs": [],
   "source": [
    "import numpy as np\n",
    "import pandas as pd\n",
    "import matplotlib.pyplot as plt\n",
    "import seaborn as sns\n",
    "sns.set(style=\"white\", context='poster')\n",
    "import math"
   ]
  },
  {
   "cell_type": "code",
   "execution_count": 2,
   "id": "15e129b2-3691-4f0f-8519-36d5bf046710",
   "metadata": {},
   "outputs": [],
   "source": [
    "import datashader as ds, datashader.transfer_functions as tf\n",
    "import dask.dataframe as dd"
   ]
  },
  {
   "cell_type": "code",
   "execution_count": 3,
   "id": "4d435a10",
   "metadata": {},
   "outputs": [],
   "source": [
    "%load_ext autoreload\n",
    "%autoreload 2\n"
   ]
  },
  {
   "cell_type": "code",
   "execution_count": 4,
   "id": "8292832b-7864-4d1b-9dbd-d0948666bba7",
   "metadata": {},
   "outputs": [],
   "source": [
    "plot_width  = int(900)\n",
    "plot_height  = plot_width\n",
    "\n",
    "#plot_height = int(plot_width*7.0/12)"
   ]
  },
  {
   "cell_type": "code",
   "execution_count": 5,
   "id": "748a46f8-d681-47c0-861f-a530b45235c9",
   "metadata": {},
   "outputs": [],
   "source": [
    "plot_width  = int(900)\n",
    "plot_height  = plot_width\n",
    "\n",
    "#plot_height = int(plot_width*7.0/12)\n",
    "#background = \"black\"\n",
    "background=None\n",
    "\n",
    "from functools import partial\n",
    "from datashader.utils import export_image\n",
    "from datashader.colors import colormap_select, Greys9\n",
    "\n",
    "export = partial(export_image, background = background, export_path=\"export\")\n",
    "cm = partial(colormap_select, reverse=(background!=\"black\"))"
   ]
  },
  {
   "cell_type": "code",
   "execution_count": 6,
   "id": "047a0867",
   "metadata": {},
   "outputs": [],
   "source": [
    "#from model_equations_separate_NC import *\n",
    "from model_equations_separate_NC_store_numba import *\n"
   ]
  },
  {
   "cell_type": "code",
   "execution_count": 7,
   "id": "cb0123d0",
   "metadata": {},
   "outputs": [],
   "source": [
    "corder = ['C1', 'C2', 'C3', 'C4', 'C0']"
   ]
  },
  {
   "cell_type": "code",
   "execution_count": 8,
   "id": "6df9ae5e",
   "metadata": {},
   "outputs": [
    {
     "data": {
      "text/html": [
       "<svg  width=\"275\" height=\"55\"><rect x=\"0\" y=\"0\" width=\"55\" height=\"55\" style=\"fill:#7ba1c2;stroke-width:2;stroke:rgb(255,255,255)\"/><rect x=\"55\" y=\"0\" width=\"55\" height=\"55\" style=\"fill:#5e43a5;stroke-width:2;stroke:rgb(255,255,255)\"/><rect x=\"110\" y=\"0\" width=\"55\" height=\"55\" style=\"fill:#2f1436;stroke-width:2;stroke:rgb(255,255,255)\"/><rect x=\"165\" y=\"0\" width=\"55\" height=\"55\" style=\"fill:#8e2c50;stroke-width:2;stroke:rgb(255,255,255)\"/><rect x=\"220\" y=\"0\" width=\"55\" height=\"55\" style=\"fill:#c6896c;stroke-width:2;stroke:rgb(255,255,255)\"/></svg>"
      ],
      "text/plain": [
       "[(0.4828677867260272, 0.6304330455306234, 0.761915371498953),\n",
       " (0.3668108554010799, 0.26404857724525643, 0.6464799165290824),\n",
       " (0.18488035509396164, 0.07942573027972388, 0.21307651648984993),\n",
       " (0.5566322903496934, 0.17269677158182117, 0.31423043195101424),\n",
       " (0.775907907306857, 0.5355421788246119, 0.42413367909988375)]"
      ]
     },
     "execution_count": 8,
     "metadata": {},
     "output_type": "execute_result"
    }
   ],
   "source": [
    "morder = ['EXOENZYME','OVERFLOW',   'ROS','MIXOTROPH','MIN', ]\n",
    "media_order = ['lowN', 'pro99']\n",
    "mpalette = 'twilight'\n",
    "mpalette = sns.color_palette(mpalette, n_colors=5)\n",
    "#morder = [morder[1]] + morder[3:]\n",
    "#mpalette = [mpalette[1]] + mpalette[3:]\n",
    "sns.color_palette(mpalette)"
   ]
  },
  {
   "cell_type": "code",
   "execution_count": 9,
   "id": "13290bb6",
   "metadata": {},
   "outputs": [
    {
     "data": {
      "text/html": [
       "<svg  width=\"330\" height=\"55\"><rect x=\"0\" y=\"0\" width=\"55\" height=\"55\" style=\"fill:#882255;stroke-width:2;stroke:rgb(255,255,255)\"/><rect x=\"55\" y=\"0\" width=\"55\" height=\"55\" style=\"fill:#cc6677;stroke-width:2;stroke:rgb(255,255,255)\"/><rect x=\"110\" y=\"0\" width=\"55\" height=\"55\" style=\"fill:#332288;stroke-width:2;stroke:rgb(255,255,255)\"/><rect x=\"165\" y=\"0\" width=\"55\" height=\"55\" style=\"fill:#44aa99;stroke-width:2;stroke:rgb(255,255,255)\"/><rect x=\"220\" y=\"0\" width=\"55\" height=\"55\" style=\"fill:#88ccee;stroke-width:2;stroke:rgb(255,255,255)\"/><rect x=\"275\" y=\"0\" width=\"55\" height=\"55\" style=\"fill:#d0cfca;stroke-width:2;stroke:rgb(255,255,255)\"/></svg>"
      ],
      "text/plain": [
       "[(0.5333333333333333, 0.13333333333333333, 0.3333333333333333),\n",
       " (0.8, 0.4, 0.4666666666666667),\n",
       " (0.2, 0.13333333333333333, 0.5333333333333333),\n",
       " (0.26666666666666666, 0.6666666666666666, 0.6),\n",
       " (0.5333333333333333, 0.8, 0.9333333333333333),\n",
       " (0.8156862745098039, 0.8117647058823529, 0.792156862745098)]"
      ]
     },
     "execution_count": 9,
     "metadata": {},
     "output_type": "execute_result"
    }
   ],
   "source": [
    "gorder = [ 'Strong', 'Sustained', 'Inhibited', 'Weak', 'Axenic',   'Other']\n",
    "gpalette = sns.color_palette('Set2', n_colors=4).as_hex() + ['black', 'lightgrey']\n",
    "gpalette = ['#882255', '#CC6677', '#332288', \n",
    "             '#44AA99','#88CCEE',\n",
    "            '#D0CFCA',  ]\n",
    "\n",
    "sns.color_palette(gpalette)"
   ]
  },
  {
   "cell_type": "code",
   "execution_count": 10,
   "id": "29512801",
   "metadata": {},
   "outputs": [
    {
     "data": {
      "text/html": [
       "<svg  width=\"990\" height=\"55\"><rect x=\"0\" y=\"0\" width=\"55\" height=\"55\" style=\"fill:#99cc99;stroke-width:2;stroke:rgb(255,255,255)\"/><rect x=\"55\" y=\"0\" width=\"55\" height=\"55\" style=\"fill:#aad5aa;stroke-width:2;stroke:rgb(255,255,255)\"/><rect x=\"110\" y=\"0\" width=\"55\" height=\"55\" style=\"fill:#ffc58f;stroke-width:2;stroke:rgb(255,255,255)\"/><rect x=\"165\" y=\"0\" width=\"55\" height=\"55\" style=\"fill:#ffd2a9;stroke-width:2;stroke:rgb(255,255,255)\"/><rect x=\"220\" y=\"0\" width=\"55\" height=\"55\" style=\"fill:#326232;stroke-width:2;stroke:rgb(255,255,255)\"/><rect x=\"275\" y=\"0\" width=\"55\" height=\"55\" style=\"fill:#ffa98f;stroke-width:2;stroke:rgb(255,255,255)\"/><rect x=\"330\" y=\"0\" width=\"55\" height=\"55\" style=\"fill:#7285b7;stroke-width:2;stroke:rgb(255,255,255)\"/><rect x=\"385\" y=\"0\" width=\"55\" height=\"55\" style=\"fill:#000000;stroke-width:2;stroke:rgb(255,255,255)\"/><rect x=\"440\" y=\"0\" width=\"55\" height=\"55\" style=\"fill:#bbdaff;stroke-width:2;stroke:rgb(255,255,255)\"/><rect x=\"495\" y=\"0\" width=\"55\" height=\"55\" style=\"fill:#99cc99;stroke-width:2;stroke:rgb(255,255,255)\"/><rect x=\"550\" y=\"0\" width=\"55\" height=\"55\" style=\"fill:#aad5aa;stroke-width:2;stroke:rgb(255,255,255)\"/><rect x=\"605\" y=\"0\" width=\"55\" height=\"55\" style=\"fill:#ffc58f;stroke-width:2;stroke:rgb(255,255,255)\"/><rect x=\"660\" y=\"0\" width=\"55\" height=\"55\" style=\"fill:#ffd2a9;stroke-width:2;stroke:rgb(255,255,255)\"/><rect x=\"715\" y=\"0\" width=\"55\" height=\"55\" style=\"fill:#326232;stroke-width:2;stroke:rgb(255,255,255)\"/><rect x=\"770\" y=\"0\" width=\"55\" height=\"55\" style=\"fill:#ffa98f;stroke-width:2;stroke:rgb(255,255,255)\"/><rect x=\"825\" y=\"0\" width=\"55\" height=\"55\" style=\"fill:#cc6666;stroke-width:2;stroke:rgb(255,255,255)\"/><rect x=\"880\" y=\"0\" width=\"55\" height=\"55\" style=\"fill:#000000;stroke-width:2;stroke:rgb(255,255,255)\"/><rect x=\"935\" y=\"0\" width=\"55\" height=\"55\" style=\"fill:#ff9da4;stroke-width:2;stroke:rgb(255,255,255)\"/></svg>"
      ],
      "text/plain": [
       "[(0.6, 0.8, 0.6),\n",
       " (0.6666666666666666, 0.8352941176470589, 0.6666666666666666),\n",
       " (1.0, 0.7725490196078432, 0.5607843137254902),\n",
       " (1.0, 0.8235294117647058, 0.6627450980392157),\n",
       " (0.19607843137254902, 0.3843137254901961, 0.19607843137254902),\n",
       " (1.0, 0.6627450980392157, 0.5607843137254902),\n",
       " (0.4470588235294118, 0.5215686274509804, 0.7176470588235294),\n",
       " (0.0, 0.0, 0.0),\n",
       " (0.7333333333333333, 0.8549019607843137, 1.0),\n",
       " (0.6, 0.8, 0.6),\n",
       " (0.6666666666666666, 0.8352941176470589, 0.6666666666666666),\n",
       " (1.0, 0.7725490196078432, 0.5607843137254902),\n",
       " (1.0, 0.8235294117647058, 0.6627450980392157),\n",
       " (0.19607843137254902, 0.3843137254901961, 0.19607843137254902),\n",
       " (1.0, 0.6627450980392157, 0.5607843137254902),\n",
       " (0.8, 0.4, 0.4),\n",
       " (0.0, 0.0, 0.0),\n",
       " (1.0, 0.615686274509804, 0.6431372549019608)]"
      ]
     },
     "execution_count": 10,
     "metadata": {},
     "output_type": "execute_result"
    }
   ],
   "source": [
    "\n",
    "HCOLOR = '#ffc58f'\n",
    "HCOLOR_light = '#ffd2a9'\n",
    "PCOLOR = '#99cc99'\n",
    "PCOLOR_light = '#aad5aa'\n",
    "\n",
    "DONCOLOR = '#7285b7'\n",
    "RDONCOLOR = 'black' #'#00334D'\n",
    "DINCOLOR = '#bbdaff' #'#000066'\n",
    "\n",
    "DOCCOLOR = '#cc6666'\n",
    "RDOCCOLOR = 'black' #'#00334D'\n",
    "DICCOLOR = '#ff9da4' #'#000066'\n",
    "\n",
    "SHCOLOR = '#ffa98f'\n",
    "SPCOLOR = '#326232'\n",
    "\n",
    "\n",
    "ccnpalette = [PCOLOR, PCOLOR_light, HCOLOR, HCOLOR_light, SPCOLOR, SHCOLOR,DONCOLOR, RDONCOLOR, DINCOLOR]\n",
    "ccnorder = ['Bp', 'Np', 'Bh','Nh',  'ABp', 'ABh', 'DON', 'RDON', 'DIN', ]\n",
    "cccpalette = [PCOLOR, PCOLOR_light, HCOLOR, HCOLOR_light, SPCOLOR, SHCOLOR, DOCCOLOR, RDOCCOLOR, DICCOLOR]\n",
    "cccorder = ['Bp[C]', 'Cp', 'Bh[C]', 'Ch', 'ABp[C]', 'ABh[C]', 'DOC', 'RDOC', 'DIC']\n",
    "ccxpalette = [PCOLOR, HCOLOR]\n",
    "ccxorder = ['Xp', 'Xh']\n",
    "hnpalette = [ HCOLOR_light, SPCOLOR, SHCOLOR, DONCOLOR, RDONCOLOR, DINCOLOR]\n",
    "hnorder = [ 'Bh', 'ABp', 'ABh', 'DON', 'RDON', 'DIN']\n",
    "hcpalette = [ HCOLOR_light, SPCOLOR, SHCOLOR, DOCCOLOR, RDOCCOLOR, DICCOLOR]\n",
    "hcorder = [ 'Bh[C]', 'ABp[C]', 'ABh[C]', 'DOC', 'RDOC', 'DIC']\n",
    "pnpalette = [ PCOLOR_light, SPCOLOR, SHCOLOR, DONCOLOR, RDONCOLOR, DINCOLOR]\n",
    "pnorder = [ 'Bp', 'ABp', 'ABh', 'DON', 'RDON', 'DIN']\n",
    "pcpalette = [ PCOLOR_light, SPCOLOR, SHCOLOR, DOCCOLOR, RDOCCOLOR, DICCOLOR]\n",
    "pcorder = [ 'Bp[C]', 'ABp[C]', 'ABh[C]', 'DOC', 'RDOC', 'DIC']\n",
    "sns.color_palette(ccnpalette + cccpalette, )\n",
    "# \n"
   ]
  },
  {
   "cell_type": "code",
   "execution_count": 11,
   "id": "c93a5978",
   "metadata": {},
   "outputs": [
    {
     "data": {
      "text/html": [
       "<svg  width=\"330\" height=\"55\"><rect x=\"0\" y=\"0\" width=\"55\" height=\"55\" style=\"fill:#249266;stroke-width:2;stroke:rgb(255,255,255)\"/><rect x=\"55\" y=\"0\" width=\"55\" height=\"55\" style=\"fill:#49a466;stroke-width:2;stroke:rgb(255,255,255)\"/><rect x=\"110\" y=\"0\" width=\"55\" height=\"55\" style=\"fill:#6db666;stroke-width:2;stroke:rgb(255,255,255)\"/><rect x=\"165\" y=\"0\" width=\"55\" height=\"55\" style=\"fill:#92c866;stroke-width:2;stroke:rgb(255,255,255)\"/><rect x=\"220\" y=\"0\" width=\"55\" height=\"55\" style=\"fill:#b6db66;stroke-width:2;stroke:rgb(255,255,255)\"/><rect x=\"275\" y=\"0\" width=\"55\" height=\"55\" style=\"fill:#dbed66;stroke-width:2;stroke:rgb(255,255,255)\"/></svg>"
      ],
      "text/plain": [
       "[(0.1411764705882353, 0.5705882352941176, 0.4),\n",
       " (0.28627450980392155, 0.6431372549019607, 0.4),\n",
       " (0.42745098039215684, 0.7137254901960784, 0.4),\n",
       " (0.5725490196078431, 0.7862745098039216, 0.4),\n",
       " (0.7137254901960784, 0.8568627450980393, 0.4),\n",
       " (0.8588235294117647, 0.9294117647058824, 0.4)]"
      ]
     },
     "execution_count": 11,
     "metadata": {},
     "output_type": "execute_result"
    }
   ],
   "source": [
    "sns.color_palette('summer')"
   ]
  },
  {
   "cell_type": "code",
   "execution_count": 12,
   "id": "aed92fd5",
   "metadata": {},
   "outputs": [
    {
     "data": {
      "text/plain": [
       "['tab10',\n",
       " 'tab20',\n",
       " 'tab20b',\n",
       " 'tab20c',\n",
       " 'Set1',\n",
       " 'Set2',\n",
       " 'Set3',\n",
       " 'Accent',\n",
       " 'Paired',\n",
       " 'Pastel1',\n",
       " 'Pastel2',\n",
       " 'Dark2',\n",
       " 'deep',\n",
       " 'deep6',\n",
       " 'muted',\n",
       " 'muted6',\n",
       " 'pastel',\n",
       " 'pastel6',\n",
       " 'bright',\n",
       " 'bright6',\n",
       " 'dark',\n",
       " 'dark6',\n",
       " 'colorblind',\n",
       " 'colorblind6']"
      ]
     },
     "execution_count": 12,
     "metadata": {},
     "output_type": "execute_result"
    }
   ],
   "source": [
    "sns.palettes.QUAL_PALETTES"
   ]
  },
  {
   "cell_type": "code",
   "execution_count": 13,
   "id": "1aa81fa9",
   "metadata": {},
   "outputs": [
    {
     "data": {
      "text/html": [
       "<svg  width=\"385\" height=\"55\"><rect x=\"0\" y=\"0\" width=\"55\" height=\"55\" style=\"fill:#2f6755;stroke-width:2;stroke:rgb(255,255,255)\"/><rect x=\"55\" y=\"0\" width=\"55\" height=\"55\" style=\"fill:#98a69a;stroke-width:2;stroke:rgb(255,255,255)\"/><rect x=\"110\" y=\"0\" width=\"55\" height=\"55\" style=\"fill:#7d5c54;stroke-width:2;stroke:rgb(255,255,255)\"/><rect x=\"165\" y=\"0\" width=\"55\" height=\"55\" style=\"fill:#e7bb96;stroke-width:2;stroke:rgb(255,255,255)\"/><rect x=\"220\" y=\"0\" width=\"55\" height=\"55\" style=\"fill:#df5f35;stroke-width:2;stroke:rgb(255,255,255)\"/><rect x=\"275\" y=\"0\" width=\"55\" height=\"55\" style=\"fill:#ef9e84;stroke-width:2;stroke:rgb(255,255,255)\"/><rect x=\"330\" y=\"0\" width=\"55\" height=\"55\" style=\"fill:#ffd8d1;stroke-width:2;stroke:rgb(255,255,255)\"/></svg>"
      ],
      "text/plain": [
       "[(0.1843137254901961, 0.403921568627451, 0.3333333333333333),\n",
       " (0.596078431372549, 0.6509803921568628, 0.6039215686274509),\n",
       " (0.49019607843137253, 0.3607843137254902, 0.32941176470588235),\n",
       " (0.9058823529411765, 0.7333333333333333, 0.5882352941176471),\n",
       " (0.8745098039215686, 0.37254901960784315, 0.20784313725490197),\n",
       " (0.9372549019607843, 0.6196078431372549, 0.5176470588235295),\n",
       " (1.0, 0.8470588235294118, 0.8196078431372549)]"
      ]
     },
     "execution_count": 13,
     "metadata": {},
     "output_type": "execute_result"
    }
   ],
   "source": [
    "ccnorder = ['Bp', 'Np','Bh',  'Nh', 'DIN','DON',  'RDON', ]\n",
    "ccnpalette = [PCOLOR, PCOLOR_light, HCOLOR, HCOLOR_light,DINCOLOR, DONCOLOR, RDONCOLOR, ]\n",
    "\n",
    "#Hex Codes: #262842, #293961, #2C497F, #8897BD, #E3E4FA\n",
    "#Hex Codes: #49593C, #945C39, #DF5F35, #EF9E84, #FFE3D1\n",
    "#Hex Codes: #5E1525, #C74F29, #E99E46, #B6C38D, #828144\n",
    "ccnpalette = ['#2F6755', '#98A69A', '#7d5c54', '#E7BB96', '#262842', '#2C497F', '#8897BD']\n",
    "#ccnpalette = ['#828144', '#B6C38D', '#E99E46', '#E7BB96', '#262842', '#2C497F', '#8897BD']\n",
    "cccorder = ['Bp[C]', 'Cp','Bh[C]',  'Ch', 'DIC','DOC',  'RDOC', ]\n",
    "cccpalette = [PCOLOR, PCOLOR_light, HCOLOR, HCOLOR_light,DICCOLOR, DOCCOLOR, RDOCCOLOR, ]\n",
    "#Hex Codes: #49593C, #945C39, #DF5F35, #EF9E84, #FFE3D1\n",
    "cccpalette = ['#2F6755', '#98A69A', '#7d5c54', '#E7BB96', '#DF5F35', '#EF9E84', '#ffd8d1']\n",
    "\n",
    "sns.color_palette(cccpalette)"
   ]
  },
  {
   "cell_type": "code",
   "execution_count": 423,
   "id": "4d62b6d6-6a7f-4324-98b4-c5bdcb78befa",
   "metadata": {},
   "outputs": [
    {
     "data": {
      "text/html": [
       "<svg  width=\"220\" height=\"55\"><rect x=\"0\" y=\"0\" width=\"55\" height=\"55\" style=\"fill:#882255;stroke-width:2;stroke:rgb(255,255,255)\"/><rect x=\"55\" y=\"0\" width=\"55\" height=\"55\" style=\"fill:#cc6677;stroke-width:2;stroke:rgb(255,255,255)\"/><rect x=\"110\" y=\"0\" width=\"55\" height=\"55\" style=\"fill:#44aa99;stroke-width:2;stroke:rgb(255,255,255)\"/><rect x=\"165\" y=\"0\" width=\"55\" height=\"55\" style=\"fill:#332288;stroke-width:2;stroke:rgb(255,255,255)\"/></svg>"
      ],
      "text/plain": [
       "[(0.5333333333333333, 0.13333333333333333, 0.3333333333333333),\n",
       " (0.8, 0.4, 0.4666666666666667),\n",
       " (0.26666666666666666, 0.6666666666666666, 0.6),\n",
       " (0.2, 0.13333333333333333, 0.5333333333333333)]"
      ]
     },
     "execution_count": 423,
     "metadata": {},
     "output_type": "execute_result"
    }
   ],
   "source": [
    "gorder1 = ['Strong', 'Sustained', 'Weak','Inhibited',  ]\n",
    "gpalette1 = gpalette[:2] + [gpalette[3], gpalette[2], ]\n",
    "sns.color_palette(gpalette1)"
   ]
  },
  {
   "cell_type": "code",
   "execution_count": 14,
   "id": "041f9573",
   "metadata": {},
   "outputs": [
    {
     "data": {
      "text/html": [
       "<svg  width=\"220\" height=\"55\"><rect x=\"0\" y=\"0\" width=\"55\" height=\"55\" style=\"fill:#99cc99;stroke-width:2;stroke:rgb(255,255,255)\"/><rect x=\"55\" y=\"0\" width=\"55\" height=\"55\" style=\"fill:#ffc58f;stroke-width:2;stroke:rgb(255,255,255)\"/><rect x=\"110\" y=\"0\" width=\"55\" height=\"55\" style=\"fill:#aad5aa;stroke-width:2;stroke:rgb(255,255,255)\"/><rect x=\"165\" y=\"0\" width=\"55\" height=\"55\" style=\"fill:#ffd2a9;stroke-width:2;stroke:rgb(255,255,255)\"/></svg>"
      ],
      "text/plain": [
       "[(0.6, 0.8, 0.6),\n",
       " (1.0, 0.7725490196078432, 0.5607843137254902),\n",
       " (0.6666666666666666, 0.8352941176470589, 0.6666666666666666),\n",
       " (1.0, 0.8235294117647058, 0.6627450980392157)]"
      ]
     },
     "execution_count": 14,
     "metadata": {},
     "output_type": "execute_result"
    }
   ],
   "source": [
    "\n",
    " \n",
    "sns.color_palette([PCOLOR, HCOLOR, PCOLOR_light, HCOLOR_light] )\n"
   ]
  },
  {
   "cell_type": "code",
   "execution_count": 15,
   "id": "10f7a882",
   "metadata": {},
   "outputs": [],
   "source": [
    "refdf = pd.read_excel('ML_model/reference_final.xlsx')"
   ]
  },
  {
   "cell_type": "code",
   "execution_count": 16,
   "id": "5ba784b1",
   "metadata": {},
   "outputs": [],
   "source": [
    "dpath = '/fast_data/Osnat/RECYCLE_MODEL/results/shgo2/out'\n",
    "dpath = 'results'"
   ]
  },
  {
   "cell_type": "code",
   "execution_count": 17,
   "id": "d516a829",
   "metadata": {},
   "outputs": [
    {
     "data": {
      "text/plain": [
       "['reference_yara_axenic.xlsx',\n",
       " '10CC_ML_classifier.joblib',\n",
       " '10CC model estimate.ipynb',\n",
       " '__pycache__',\n",
       " 'model_store_compare_RMSE_model.ipynb',\n",
       " '10CC_reference_to_model_test_train.ipynb',\n",
       " 'model_store_compare_RMSE_OVERFLOW_fix.ipynb',\n",
       " 'monte_add_ponly_predicted_classes.csv.gz',\n",
       " 'features_monte_add_ponly_clean.csv.gz',\n",
       " '.ipynb_checkpoints',\n",
       " 'monte_ponly_predicted_classes.csv.gz',\n",
       " 'reference_10cc_axenic.xlsx',\n",
       " 'features_monte_ponly_clean.csv.gz',\n",
       " 'monte_ponly_add_OVERFLOW_predicted_classes.csv.gz',\n",
       " 'reference_10cc_all.xlsx',\n",
       " '10CC_reference_to_model.ipynb',\n",
       " 'monte_het_predicted_classes.csv.gz',\n",
       " 'features_monte_OVERFLOW_fix.csv.gz',\n",
       " 'reference_final.xlsx',\n",
       " 'monte_predicted_classes.csv.gz',\n",
       " 'features_monte_het_clean.csv.gz',\n",
       " 'features_monte_ponly_add_OVERFLOW.csv.gz',\n",
       " 'reference_pro99_axenic.xlsx',\n",
       " 'monte_add_het_predicted_classes.csv.gz',\n",
       " '10cc_FL_to_cell_numbers.ipynb',\n",
       " '10CC_reference_to_model_per_strain_shuffle.ipynb',\n",
       " 'reference_ccpa.xlsx',\n",
       " 'reference_10cc.xlsx',\n",
       " 'model_store_compare_RMSE_add_ROS.ipynb',\n",
       " '10CC model build refactor.ipynb',\n",
       " 'data',\n",
       " 'features_monte_add_het_clean.csv.gz',\n",
       " 'monte_OVERFLOW_fix_predicted_classes.csv.gz',\n",
       " 'features_training.csv.gz',\n",
       " 'model_store_compare_OVERFLOW_fix.ipynb',\n",
       " 'run_ML_classification.py',\n",
       " 'model_store_compare_additional_het.ipynb',\n",
       " '10CC_reference_to_model_per_strain_full.ipynb',\n",
       " 'model_store_analyze_features.ipynb']"
      ]
     },
     "execution_count": 17,
     "metadata": {},
     "output_type": "execute_result"
    }
   ],
   "source": [
    "os.listdir('ML_model')"
   ]
  },
  {
   "cell_type": "code",
   "execution_count": 18,
   "id": "323f8a48",
   "metadata": {},
   "outputs": [
    {
     "data": {
      "text/plain": [
       "['monte_add_ROS_round2_sum.csv.gz',\n",
       " 'monte_add_OVERFLOW_df.csv.gz',\n",
       " 'monte_ponly_add_OVERFLOW_clean_df.csv.gz',\n",
       " 'monte_ponly_clean_mse.csv.gz',\n",
       " 'monte2_ponly_sum.csv.gz',\n",
       " 'sensitivity_vmax2_df.csv.gz',\n",
       " 'monte_ponly_clean_df.csv.gz',\n",
       " 'monte_ponly_fix_OVERFLOW_df.csv.gz',\n",
       " 'monte_het_minmse.csv.gz',\n",
       " 'sensitivity_df.csv.gz',\n",
       " 'default_initial_lowN_ponly_MIN_h4139617574487472499_sum.csv.gz',\n",
       " 'monte_add_ROS_round2_mse.csv.gz',\n",
       " 'monte_add_het_mse.csv.gz',\n",
       " 'monte_ponly_add_OVERFLOW_df.csv.gz',\n",
       " 'monte_ponly_df.csv.gz',\n",
       " 'default_initial_lowN_ponly_MIN_h4139617574487472499_mse.csv.gz',\n",
       " 'monte_ponly_fix_OVERFLOW_clean_df.csv.gz',\n",
       " 'default_initial_lowN_ponly_MIN_h4139617574487472499_df.csv.gz',\n",
       " 'baseline_df.csv.gz',\n",
       " 'results_old_26122023',\n",
       " 'monte_het_clean_sum.csv.gz',\n",
       " 'baseline_sum.csv.gz',\n",
       " 'monte2_add_het_mse.csv.gz',\n",
       " 'monte_strong_ponly_clean_df.csv.gz',\n",
       " 'sensitivity_vmax2_sum.csv.gz',\n",
       " 'monte_fix_OVERFLOW_mse.csv.gz',\n",
       " 'monte_strong_ponly_sum.csv.gz',\n",
       " 'monte_add_het_df.csv.gz',\n",
       " 'sensitivity_vmax_mse.csv.gz',\n",
       " 'monte_ponly_mse.csv.gz',\n",
       " 'monte2_add_het_sum.csv.gz',\n",
       " 'monte_add_OVERFLOW_mse.csv.gz',\n",
       " 'monte_ponly_sum.csv.gz',\n",
       " 'monte_fix_OVERFLOW_clean_df.csv.gz',\n",
       " 'monte_het_clean_mse.csv.gz',\n",
       " 'monte_strong_ponly_df.csv.gz',\n",
       " 'sensitivity_sum.csv.gz',\n",
       " 'sensitivity_vmax2_mse.csv.gz',\n",
       " 'sensitivity_vmax_df.csv.gz',\n",
       " 'monte_ponly_fix_OVERFLOW_mse.csv.gz',\n",
       " 'monte_het_mse.csv.gz',\n",
       " 'monte_ponly_add_OVERFLOW_clean_sum.csv.gz',\n",
       " 'monte_add_het_clean_mse.csv.gz',\n",
       " 'monte_strong_ponly_clean_sum.csv.gz',\n",
       " 'monte_het_sum.csv.gz',\n",
       " 'monte_strong_ponly_mse.csv.gz',\n",
       " 'monte_ponly_clean_sum.csv.gz',\n",
       " 'monte2_add_het_df.csv.gz',\n",
       " 'monte_fix_OVERFLOW_df.csv.gz',\n",
       " 'sensitivity_mse.csv.gz',\n",
       " 'monte_het_df.csv.gz',\n",
       " 'monte_add_het_clean_sum.csv.gz',\n",
       " 'monte_add_ROS_round2_df.csv.gz',\n",
       " 'monte2_ponly_df.csv.gz',\n",
       " 'sensitivity_vmax_sum.csv.gz',\n",
       " 'monte_add_het_clean_df.csv.gz',\n",
       " 'monte_fix_OVERFLOW_clean_sum.csv.gz',\n",
       " 'monte_strong_ponly_clean_mse.csv.gz',\n",
       " 'monte_ponly_fix_OVERFLOW_sum.csv.gz',\n",
       " 'monte_fix_OVERFLOW_clean_mse.csv.gz',\n",
       " 'monte_ponly_add_OVERFLOW_clean_mse.csv.gz',\n",
       " 'monte_add_het_sum.csv.gz',\n",
       " 'monte_fix_OVERFLOW_sum.csv.gz',\n",
       " 'monte_ponly_add_OVERFLOW_mse.csv.gz',\n",
       " 'monte_ponly_fix_OVERFLOW_clean_mse.csv.gz',\n",
       " 'monte_ponly_fix_OVERFLOW_clean_sum.csv.gz',\n",
       " 'monte2_ponly_mse.csv.gz',\n",
       " 'baseline_mse.csv.gz',\n",
       " 'monte_add_OVERFLOW_sum.csv.gz',\n",
       " 'monte_ponly_add_OVERFLOW_sum.csv.gz',\n",
       " 'monte_het_clean_df.csv.gz']"
      ]
     },
     "execution_count": 18,
     "metadata": {},
     "output_type": "execute_result"
    }
   ],
   "source": [
    "os.listdir(dpath)"
   ]
  },
  {
   "cell_type": "code",
   "execution_count": 19,
   "id": "5254812c",
   "metadata": {},
   "outputs": [],
   "source": [
    "dpath = 'results'\n",
    "sim_df1 = pd.read_csv(os.path.join(dpath,'monte_het_clean_sum.csv.gz',))\n",
    "sim_df2 = pd.read_csv(os.path.join(dpath,'monte_add_het_clean_sum.csv.gz',))\n",
    "\n",
    "\n",
    "# sim_df = pd.concat([\n",
    "#     sim_df1,\n",
    "#     sim_df2,\n",
    "# ])"
   ]
  },
  {
   "cell_type": "code",
   "execution_count": 20,
   "id": "c04ac921",
   "metadata": {},
   "outputs": [],
   "source": [
    "minmse_df1 = pd.read_csv('ML_model/monte_add_het_predicted_classes.csv.gz',)\n",
    "minmse_df2 = pd.read_csv('ML_model/monte_het_predicted_classes.csv.gz',)\n",
    "\n"
   ]
  },
  {
   "cell_type": "code",
   "execution_count": 21,
   "id": "9be15927-8c53-4b89-9c60-ce25b4dbebb3",
   "metadata": {},
   "outputs": [],
   "source": [
    "sim_df = pd.concat([sim_df1, sim_df2, ], ignore_index=True)\n",
    "minmse_df = pd.concat([minmse_df1, minmse_df2, ], ignore_index=True)"
   ]
  },
  {
   "cell_type": "code",
   "execution_count": 22,
   "id": "b5eae045",
   "metadata": {},
   "outputs": [
    {
     "data": {
      "text/html": [
       "<div>\n",
       "<style scoped>\n",
       "    .dataframe tbody tr th:only-of-type {\n",
       "        vertical-align: middle;\n",
       "    }\n",
       "\n",
       "    .dataframe tbody tr th {\n",
       "        vertical-align: top;\n",
       "    }\n",
       "\n",
       "    .dataframe thead th {\n",
       "        text-align: right;\n",
       "    }\n",
       "</style>\n",
       "<table border=\"1\" class=\"dataframe\">\n",
       "  <thead>\n",
       "    <tr style=\"text-align: right;\">\n",
       "      <th></th>\n",
       "      <th>run_id</th>\n",
       "      <th>y_pred</th>\n",
       "      <th>max_prob</th>\n",
       "      <th>idx</th>\n",
       "      <th>media</th>\n",
       "      <th>which</th>\n",
       "      <th>model</th>\n",
       "      <th>hash</th>\n",
       "      <th>VPRO</th>\n",
       "      <th>Unnamed: 0</th>\n",
       "      <th>Sample</th>\n",
       "      <th>full name</th>\n",
       "      <th>Group</th>\n",
       "      <th>RMSE_Bptotal[N]</th>\n",
       "      <th>RMSE_Bptotal[C]</th>\n",
       "      <th>compare_points</th>\n",
       "      <th>RMSE</th>\n",
       "      <th>RMSE_filled</th>\n",
       "      <th>VPRO_cluster</th>\n",
       "    </tr>\n",
       "  </thead>\n",
       "  <tbody>\n",
       "    <tr>\n",
       "      <th>0</th>\n",
       "      <td>monteadd2_EXOENZYME_13_monte_vpro_11_62_EXOENZ...</td>\n",
       "      <td>Weak</td>\n",
       "      <td>0.989477</td>\n",
       "      <td>monteadd2_EXOENZYME_13_monte_vpro_11_62_EXOENZ...</td>\n",
       "      <td>lowN</td>\n",
       "      <td>all</td>\n",
       "      <td>EXOENZYME</td>\n",
       "      <td>h8519271514136708373</td>\n",
       "      <td>vpro_11_62_EXOENZYME_C1_20</td>\n",
       "      <td>710504.0</td>\n",
       "      <td>10C0</td>\n",
       "      <td>Marinovum 5F3</td>\n",
       "      <td>Weak</td>\n",
       "      <td>5.205234</td>\n",
       "      <td>45.551143</td>\n",
       "      <td>74.0</td>\n",
       "      <td>237.104339</td>\n",
       "      <td>237.104339</td>\n",
       "      <td>NaN</td>\n",
       "    </tr>\n",
       "    <tr>\n",
       "      <th>1</th>\n",
       "      <td>monteadd2_EXOENZYME_13_monte_vpro_11_62_EXOENZ...</td>\n",
       "      <td>Weak</td>\n",
       "      <td>0.989400</td>\n",
       "      <td>monteadd2_EXOENZYME_13_monte_vpro_11_62_EXOENZ...</td>\n",
       "      <td>lowN</td>\n",
       "      <td>all</td>\n",
       "      <td>EXOENZYME</td>\n",
       "      <td>h8519271514136708373</td>\n",
       "      <td>vpro_11_62_EXOENZYME_C1_22</td>\n",
       "      <td>717797.0</td>\n",
       "      <td>10C0</td>\n",
       "      <td>Marinovum 5F3</td>\n",
       "      <td>Weak</td>\n",
       "      <td>4.224180</td>\n",
       "      <td>40.240316</td>\n",
       "      <td>74.0</td>\n",
       "      <td>169.982320</td>\n",
       "      <td>169.982320</td>\n",
       "      <td>NaN</td>\n",
       "    </tr>\n",
       "    <tr>\n",
       "      <th>2</th>\n",
       "      <td>monteadd2_EXOENZYME_13_monte_vpro_11_62_EXOENZ...</td>\n",
       "      <td>Other</td>\n",
       "      <td>0.528581</td>\n",
       "      <td>monteadd2_EXOENZYME_13_monte_vpro_11_62_EXOENZ...</td>\n",
       "      <td>lowN</td>\n",
       "      <td>all</td>\n",
       "      <td>EXOENZYME</td>\n",
       "      <td>h8519271514136708373</td>\n",
       "      <td>vpro_11_62_EXOENZYME_C1_54</td>\n",
       "      <td>NaN</td>\n",
       "      <td>NaN</td>\n",
       "      <td>NaN</td>\n",
       "      <td>NaN</td>\n",
       "      <td>NaN</td>\n",
       "      <td>NaN</td>\n",
       "      <td>NaN</td>\n",
       "      <td>NaN</td>\n",
       "      <td>0.000000</td>\n",
       "      <td>NaN</td>\n",
       "    </tr>\n",
       "    <tr>\n",
       "      <th>3</th>\n",
       "      <td>monteadd2_EXOENZYME_13_monte_vpro_11_62_EXOENZ...</td>\n",
       "      <td>Axenic</td>\n",
       "      <td>0.624934</td>\n",
       "      <td>monteadd2_EXOENZYME_13_monte_vpro_11_62_EXOENZ...</td>\n",
       "      <td>lowN</td>\n",
       "      <td>all</td>\n",
       "      <td>EXOENZYME</td>\n",
       "      <td>h8519271514136708373</td>\n",
       "      <td>vpro_11_62_EXOENZYME_C1_94</td>\n",
       "      <td>701930.0</td>\n",
       "      <td>1C0</td>\n",
       "      <td>Axenic</td>\n",
       "      <td>Axenic</td>\n",
       "      <td>4.316923</td>\n",
       "      <td>19.416927</td>\n",
       "      <td>74.0</td>\n",
       "      <td>83.821385</td>\n",
       "      <td>83.821385</td>\n",
       "      <td>NaN</td>\n",
       "    </tr>\n",
       "    <tr>\n",
       "      <th>4</th>\n",
       "      <td>monteadd2_EXOENZYME_13_monte_vpro_13_69_EXOENZ...</td>\n",
       "      <td>Axenic</td>\n",
       "      <td>0.968536</td>\n",
       "      <td>monteadd2_EXOENZYME_13_monte_vpro_13_69_EXOENZ...</td>\n",
       "      <td>lowN</td>\n",
       "      <td>all</td>\n",
       "      <td>EXOENZYME</td>\n",
       "      <td>h8519271514136708373</td>\n",
       "      <td>vpro_13_69_EXOENZYME_C1_28</td>\n",
       "      <td>711639.0</td>\n",
       "      <td>1A0</td>\n",
       "      <td>Axenic</td>\n",
       "      <td>Axenic</td>\n",
       "      <td>10.445065</td>\n",
       "      <td>72.373841</td>\n",
       "      <td>74.0</td>\n",
       "      <td>755.949501</td>\n",
       "      <td>755.949501</td>\n",
       "      <td>NaN</td>\n",
       "    </tr>\n",
       "    <tr>\n",
       "      <th>...</th>\n",
       "      <td>...</td>\n",
       "      <td>...</td>\n",
       "      <td>...</td>\n",
       "      <td>...</td>\n",
       "      <td>...</td>\n",
       "      <td>...</td>\n",
       "      <td>...</td>\n",
       "      <td>...</td>\n",
       "      <td>...</td>\n",
       "      <td>...</td>\n",
       "      <td>...</td>\n",
       "      <td>...</td>\n",
       "      <td>...</td>\n",
       "      <td>...</td>\n",
       "      <td>...</td>\n",
       "      <td>...</td>\n",
       "      <td>...</td>\n",
       "      <td>...</td>\n",
       "      <td>...</td>\n",
       "    </tr>\n",
       "    <tr>\n",
       "      <th>86810</th>\n",
       "      <td>monte_ROS_9_monte_vpro_93_82_ROS_C1_64_lowN_al...</td>\n",
       "      <td>Weak</td>\n",
       "      <td>0.987644</td>\n",
       "      <td>monte_ROS_9_monte_vpro_93_82_ROS_C1_64</td>\n",
       "      <td>lowN</td>\n",
       "      <td>all</td>\n",
       "      <td>ROS</td>\n",
       "      <td>h-8660846992299669535</td>\n",
       "      <td>vpro_93_82_ROS_C1</td>\n",
       "      <td>127611.0</td>\n",
       "      <td>11A0</td>\n",
       "      <td>Roseovarius 5C3</td>\n",
       "      <td>Weak</td>\n",
       "      <td>4.590178</td>\n",
       "      <td>37.560730</td>\n",
       "      <td>74.0</td>\n",
       "      <td>172.410439</td>\n",
       "      <td>172.410439</td>\n",
       "      <td>C1</td>\n",
       "    </tr>\n",
       "    <tr>\n",
       "      <th>86811</th>\n",
       "      <td>monte_ROS_9_monte_vpro_96_60_ROS_C1_59_lowN_al...</td>\n",
       "      <td>Weak</td>\n",
       "      <td>0.990016</td>\n",
       "      <td>monte_ROS_9_monte_vpro_96_60_ROS_C1_59</td>\n",
       "      <td>lowN</td>\n",
       "      <td>all</td>\n",
       "      <td>ROS</td>\n",
       "      <td>h-8660846992299669535</td>\n",
       "      <td>vpro_96_60_ROS_C1</td>\n",
       "      <td>1518623.0</td>\n",
       "      <td>10C0</td>\n",
       "      <td>Marinovum 5F3</td>\n",
       "      <td>Weak</td>\n",
       "      <td>2.031882</td>\n",
       "      <td>22.689852</td>\n",
       "      <td>74.0</td>\n",
       "      <td>46.103093</td>\n",
       "      <td>46.103093</td>\n",
       "      <td>C1</td>\n",
       "    </tr>\n",
       "    <tr>\n",
       "      <th>86812</th>\n",
       "      <td>monte_ROS_9_monte_vpro_96_60_ROS_C1_66_lowN_al...</td>\n",
       "      <td>Weak</td>\n",
       "      <td>0.990016</td>\n",
       "      <td>monte_ROS_9_monte_vpro_96_60_ROS_C1_66</td>\n",
       "      <td>lowN</td>\n",
       "      <td>all</td>\n",
       "      <td>ROS</td>\n",
       "      <td>h-8660846992299669535</td>\n",
       "      <td>vpro_96_60_ROS_C1</td>\n",
       "      <td>927500.0</td>\n",
       "      <td>10C0</td>\n",
       "      <td>Marinovum 5F3</td>\n",
       "      <td>Weak</td>\n",
       "      <td>2.074992</td>\n",
       "      <td>22.349891</td>\n",
       "      <td>74.0</td>\n",
       "      <td>46.375842</td>\n",
       "      <td>46.375842</td>\n",
       "      <td>C1</td>\n",
       "    </tr>\n",
       "    <tr>\n",
       "      <th>86813</th>\n",
       "      <td>monte_ROS_9_monte_vpro_97_23_ROS_C1_3_lowN_all...</td>\n",
       "      <td>Weak</td>\n",
       "      <td>0.990016</td>\n",
       "      <td>monte_ROS_9_monte_vpro_97_23_ROS_C1_3</td>\n",
       "      <td>lowN</td>\n",
       "      <td>all</td>\n",
       "      <td>ROS</td>\n",
       "      <td>h-8660846992299669535</td>\n",
       "      <td>vpro_97_23_ROS_C1</td>\n",
       "      <td>1466519.0</td>\n",
       "      <td>10C0</td>\n",
       "      <td>Marinovum 5F3</td>\n",
       "      <td>Weak</td>\n",
       "      <td>4.263308</td>\n",
       "      <td>36.547564</td>\n",
       "      <td>74.0</td>\n",
       "      <td>155.813533</td>\n",
       "      <td>155.813533</td>\n",
       "      <td>C1</td>\n",
       "    </tr>\n",
       "    <tr>\n",
       "      <th>86814</th>\n",
       "      <td>monte_ROS_9_monte_vpro_97_23_ROS_C1_5_lowN_all...</td>\n",
       "      <td>Weak</td>\n",
       "      <td>0.990229</td>\n",
       "      <td>monte_ROS_9_monte_vpro_97_23_ROS_C1_5</td>\n",
       "      <td>lowN</td>\n",
       "      <td>all</td>\n",
       "      <td>ROS</td>\n",
       "      <td>h-8660846992299669535</td>\n",
       "      <td>vpro_97_23_ROS_C1</td>\n",
       "      <td>1209667.0</td>\n",
       "      <td>11B0</td>\n",
       "      <td>Roseovarius 5C3</td>\n",
       "      <td>Weak</td>\n",
       "      <td>2.237044</td>\n",
       "      <td>18.039775</td>\n",
       "      <td>74.0</td>\n",
       "      <td>40.355763</td>\n",
       "      <td>40.355763</td>\n",
       "      <td>C1</td>\n",
       "    </tr>\n",
       "  </tbody>\n",
       "</table>\n",
       "<p>86815 rows × 19 columns</p>\n",
       "</div>"
      ],
      "text/plain": [
       "                                                  run_id  y_pred  max_prob  \\\n",
       "0      monteadd2_EXOENZYME_13_monte_vpro_11_62_EXOENZ...    Weak  0.989477   \n",
       "1      monteadd2_EXOENZYME_13_monte_vpro_11_62_EXOENZ...    Weak  0.989400   \n",
       "2      monteadd2_EXOENZYME_13_monte_vpro_11_62_EXOENZ...   Other  0.528581   \n",
       "3      monteadd2_EXOENZYME_13_monte_vpro_11_62_EXOENZ...  Axenic  0.624934   \n",
       "4      monteadd2_EXOENZYME_13_monte_vpro_13_69_EXOENZ...  Axenic  0.968536   \n",
       "...                                                  ...     ...       ...   \n",
       "86810  monte_ROS_9_monte_vpro_93_82_ROS_C1_64_lowN_al...    Weak  0.987644   \n",
       "86811  monte_ROS_9_monte_vpro_96_60_ROS_C1_59_lowN_al...    Weak  0.990016   \n",
       "86812  monte_ROS_9_monte_vpro_96_60_ROS_C1_66_lowN_al...    Weak  0.990016   \n",
       "86813  monte_ROS_9_monte_vpro_97_23_ROS_C1_3_lowN_all...    Weak  0.990016   \n",
       "86814  monte_ROS_9_monte_vpro_97_23_ROS_C1_5_lowN_all...    Weak  0.990229   \n",
       "\n",
       "                                                     idx media which  \\\n",
       "0      monteadd2_EXOENZYME_13_monte_vpro_11_62_EXOENZ...  lowN   all   \n",
       "1      monteadd2_EXOENZYME_13_monte_vpro_11_62_EXOENZ...  lowN   all   \n",
       "2      monteadd2_EXOENZYME_13_monte_vpro_11_62_EXOENZ...  lowN   all   \n",
       "3      monteadd2_EXOENZYME_13_monte_vpro_11_62_EXOENZ...  lowN   all   \n",
       "4      monteadd2_EXOENZYME_13_monte_vpro_13_69_EXOENZ...  lowN   all   \n",
       "...                                                  ...   ...   ...   \n",
       "86810             monte_ROS_9_monte_vpro_93_82_ROS_C1_64  lowN   all   \n",
       "86811             monte_ROS_9_monte_vpro_96_60_ROS_C1_59  lowN   all   \n",
       "86812             monte_ROS_9_monte_vpro_96_60_ROS_C1_66  lowN   all   \n",
       "86813              monte_ROS_9_monte_vpro_97_23_ROS_C1_3  lowN   all   \n",
       "86814              monte_ROS_9_monte_vpro_97_23_ROS_C1_5  lowN   all   \n",
       "\n",
       "           model                   hash                        VPRO  \\\n",
       "0      EXOENZYME   h8519271514136708373  vpro_11_62_EXOENZYME_C1_20   \n",
       "1      EXOENZYME   h8519271514136708373  vpro_11_62_EXOENZYME_C1_22   \n",
       "2      EXOENZYME   h8519271514136708373  vpro_11_62_EXOENZYME_C1_54   \n",
       "3      EXOENZYME   h8519271514136708373  vpro_11_62_EXOENZYME_C1_94   \n",
       "4      EXOENZYME   h8519271514136708373  vpro_13_69_EXOENZYME_C1_28   \n",
       "...          ...                    ...                         ...   \n",
       "86810        ROS  h-8660846992299669535           vpro_93_82_ROS_C1   \n",
       "86811        ROS  h-8660846992299669535           vpro_96_60_ROS_C1   \n",
       "86812        ROS  h-8660846992299669535           vpro_96_60_ROS_C1   \n",
       "86813        ROS  h-8660846992299669535           vpro_97_23_ROS_C1   \n",
       "86814        ROS  h-8660846992299669535           vpro_97_23_ROS_C1   \n",
       "\n",
       "       Unnamed: 0 Sample        full name   Group  RMSE_Bptotal[N]  \\\n",
       "0        710504.0   10C0    Marinovum 5F3    Weak         5.205234   \n",
       "1        717797.0   10C0    Marinovum 5F3    Weak         4.224180   \n",
       "2             NaN    NaN              NaN     NaN              NaN   \n",
       "3        701930.0    1C0           Axenic  Axenic         4.316923   \n",
       "4        711639.0    1A0           Axenic  Axenic        10.445065   \n",
       "...           ...    ...              ...     ...              ...   \n",
       "86810    127611.0   11A0  Roseovarius 5C3    Weak         4.590178   \n",
       "86811   1518623.0   10C0    Marinovum 5F3    Weak         2.031882   \n",
       "86812    927500.0   10C0    Marinovum 5F3    Weak         2.074992   \n",
       "86813   1466519.0   10C0    Marinovum 5F3    Weak         4.263308   \n",
       "86814   1209667.0   11B0  Roseovarius 5C3    Weak         2.237044   \n",
       "\n",
       "       RMSE_Bptotal[C]  compare_points        RMSE  RMSE_filled VPRO_cluster  \n",
       "0            45.551143            74.0  237.104339   237.104339          NaN  \n",
       "1            40.240316            74.0  169.982320   169.982320          NaN  \n",
       "2                  NaN             NaN         NaN     0.000000          NaN  \n",
       "3            19.416927            74.0   83.821385    83.821385          NaN  \n",
       "4            72.373841            74.0  755.949501   755.949501          NaN  \n",
       "...                ...             ...         ...          ...          ...  \n",
       "86810        37.560730            74.0  172.410439   172.410439           C1  \n",
       "86811        22.689852            74.0   46.103093    46.103093           C1  \n",
       "86812        22.349891            74.0   46.375842    46.375842           C1  \n",
       "86813        36.547564            74.0  155.813533   155.813533           C1  \n",
       "86814        18.039775            74.0   40.355763    40.355763           C1  \n",
       "\n",
       "[86815 rows x 19 columns]"
      ]
     },
     "execution_count": 22,
     "metadata": {},
     "output_type": "execute_result"
    }
   ],
   "source": [
    "minmse_df"
   ]
  },
  {
   "cell_type": "code",
   "execution_count": 24,
   "id": "0198ec42",
   "metadata": {},
   "outputs": [],
   "source": [
    "df = pd.merge(minmse_df, \n",
    "                  sim_df, \n",
    "                  on='run_id', how='left')"
   ]
  },
  {
   "cell_type": "code",
   "execution_count": 25,
   "id": "8b2a12ee",
   "metadata": {},
   "outputs": [
    {
     "data": {
      "text/plain": [
       "Index(['run_id', 'y_pred', 'max_prob', 'idx', 'media', 'which', 'model',\n",
       "       'hash', 'VPRO', 'Unnamed: 0_x', 'Sample', 'full name', 'Group',\n",
       "       'RMSE_Bptotal[N]', 'RMSE_Bptotal[C]', 'compare_points', 'RMSE',\n",
       "       'RMSE_filled', 'VPRO_cluster', 'Unnamed: 0_y', 'VmaxICp', 'VmaxICh',\n",
       "       'VmaxINp', 'VmaxINh', 'VmaxOCp', 'VmaxOCh', 'VmaxONp', 'VmaxONh',\n",
       "       'KICp', 'KICh', 'KINp', 'KINh', 'KOCp', 'KOCh', 'KONp', 'KONh', 'Mp',\n",
       "       'Mh', 'gammaDp', 'gammaDh', 'Rp', 'Rh', 'QCmaxp', 'QCminp', 'QCmaxh',\n",
       "       'QCminh', 'Kmtbp', 'Kmtbh', 'bp', 'bh', 'r0p', 'r0h', 'KdecayDON',\n",
       "       'KprodEXOp', 'KprodEXOh', 'OverflowMode', 'Koverflowp', 'Koverflowh',\n",
       "       'ROSMode', 'KprodROSp', 'KprodROSh', 'KlossROSp', 'KlossROSh',\n",
       "       'KdecayROS', 'omegaP', 'omegaH', 'ROSmaxD'],\n",
       "      dtype='object')"
      ]
     },
     "execution_count": 25,
     "metadata": {},
     "output_type": "execute_result"
    }
   ],
   "source": [
    "df.columns"
   ]
  },
  {
   "cell_type": "code",
   "execution_count": 26,
   "id": "a85e3a37",
   "metadata": {},
   "outputs": [],
   "source": [
    "df = df.reset_index(drop=True)"
   ]
  },
  {
   "cell_type": "code",
   "execution_count": 38,
   "id": "f251ae37-54b6-4164-86b2-b42fdae8ecfc",
   "metadata": {},
   "outputs": [
    {
     "data": {
      "text/plain": [
       "array(['vpro_11_62_EXOENZYME_C1_20', 'vpro_11_62_EXOENZYME_C1_22',\n",
       "       'vpro_11_62_EXOENZYME_C1_54', ..., 'vpro_19_33_ROS_C0_321',\n",
       "       'vpro_19_33_ROS_C0_454', 'vpro_19_33_ROS_C0_295'], dtype=object)"
      ]
     },
     "execution_count": 38,
     "metadata": {},
     "output_type": "execute_result"
    }
   ],
   "source": [
    "minmse_df1.VPRO.unique()"
   ]
  },
  {
   "cell_type": "code",
   "execution_count": 34,
   "id": "4bd13f62-52c8-4708-8f6c-d05c4147c08e",
   "metadata": {},
   "outputs": [
    {
     "data": {
      "text/plain": [
       "array(['monte_OVERFLOW_fix_OVERFLOW_100_monte_vpro_2_100_31_OVERFLOW_82',\n",
       "       'monte_OVERFLOW_fix_OVERFLOW_100_monte_vpro_2_100_31_OVERFLOW_93',\n",
       "       'monte_OVERFLOW_fix_OVERFLOW_100_monte_vpro_2_100_5_OVERFLOW_24',\n",
       "       ...,\n",
       "       'monte_OVERFLOW_fix_OVERFLOW_9_monte_vpro_2_91_13_OVERFLOW_80',\n",
       "       'monte_OVERFLOW_fix_OVERFLOW_9_monte_vpro_2_94_87_OVERFLOW_36',\n",
       "       'monte_OVERFLOW_fix_OVERFLOW_9_monte_vpro_2_97_16_OVERFLOW_1'],\n",
       "      dtype=object)"
      ]
     },
     "execution_count": 34,
     "metadata": {},
     "output_type": "execute_result"
    }
   ],
   "source": [
    "df.loc[~df.VPRO.str.startswith('vpro'), 'idx'].unique()"
   ]
  },
  {
   "cell_type": "code",
   "execution_count": 36,
   "id": "0158f005-418b-49d6-853f-f5fb123dd16d",
   "metadata": {},
   "outputs": [
    {
     "data": {
      "text/html": [
       "<div>\n",
       "<style scoped>\n",
       "    .dataframe tbody tr th:only-of-type {\n",
       "        vertical-align: middle;\n",
       "    }\n",
       "\n",
       "    .dataframe tbody tr th {\n",
       "        vertical-align: top;\n",
       "    }\n",
       "\n",
       "    .dataframe thead th {\n",
       "        text-align: right;\n",
       "    }\n",
       "</style>\n",
       "<table border=\"1\" class=\"dataframe\">\n",
       "  <thead>\n",
       "    <tr style=\"text-align: right;\">\n",
       "      <th></th>\n",
       "      <th>0</th>\n",
       "    </tr>\n",
       "  </thead>\n",
       "  <tbody>\n",
       "    <tr>\n",
       "      <th>67108</th>\n",
       "      <td>vpro_2_100_31_OVERFLOW</td>\n",
       "    </tr>\n",
       "    <tr>\n",
       "      <th>67109</th>\n",
       "      <td>vpro_2_100_31_OVERFLOW</td>\n",
       "    </tr>\n",
       "    <tr>\n",
       "      <th>67110</th>\n",
       "      <td>vpro_2_100_5_OVERFLOW</td>\n",
       "    </tr>\n",
       "    <tr>\n",
       "      <th>67111</th>\n",
       "      <td>vpro_2_100_5_OVERFLOW</td>\n",
       "    </tr>\n",
       "    <tr>\n",
       "      <th>67112</th>\n",
       "      <td>vpro_2_100_5_OVERFLOW</td>\n",
       "    </tr>\n",
       "    <tr>\n",
       "      <th>...</th>\n",
       "      <td>...</td>\n",
       "    </tr>\n",
       "    <tr>\n",
       "      <th>76938</th>\n",
       "      <td>vpro_2_88_4_OVERFLOW</td>\n",
       "    </tr>\n",
       "    <tr>\n",
       "      <th>76939</th>\n",
       "      <td>vpro_2_91_13_OVERFLOW</td>\n",
       "    </tr>\n",
       "    <tr>\n",
       "      <th>76940</th>\n",
       "      <td>vpro_2_91_13_OVERFLOW</td>\n",
       "    </tr>\n",
       "    <tr>\n",
       "      <th>76941</th>\n",
       "      <td>vpro_2_94_87_OVERFLOW</td>\n",
       "    </tr>\n",
       "    <tr>\n",
       "      <th>76942</th>\n",
       "      <td>vpro_2_97_16_OVERFLOW</td>\n",
       "    </tr>\n",
       "  </tbody>\n",
       "</table>\n",
       "<p>9835 rows × 1 columns</p>\n",
       "</div>"
      ],
      "text/plain": [
       "                            0\n",
       "67108  vpro_2_100_31_OVERFLOW\n",
       "67109  vpro_2_100_31_OVERFLOW\n",
       "67110   vpro_2_100_5_OVERFLOW\n",
       "67111   vpro_2_100_5_OVERFLOW\n",
       "67112   vpro_2_100_5_OVERFLOW\n",
       "...                       ...\n",
       "76938    vpro_2_88_4_OVERFLOW\n",
       "76939   vpro_2_91_13_OVERFLOW\n",
       "76940   vpro_2_91_13_OVERFLOW\n",
       "76941   vpro_2_94_87_OVERFLOW\n",
       "76942   vpro_2_97_16_OVERFLOW\n",
       "\n",
       "[9835 rows x 1 columns]"
      ]
     },
     "execution_count": 36,
     "metadata": {},
     "output_type": "execute_result"
    }
   ],
   "source": [
    "df.loc[~df.VPRO.str.startswith('vpro'), 'idx'].str.extract(r'.*_(vpro.*_OVERFLOW)')"
   ]
  },
  {
   "cell_type": "code",
   "execution_count": 41,
   "id": "3cf0cec0-1a28-458c-82ec-bb7aabe9af2e",
   "metadata": {},
   "outputs": [
    {
     "data": {
      "text/plain": [
       "model      VPRO                      \n",
       "EXOENZYME  vpro_11_62_EXOENZYME_C1       242\n",
       "           vpro_11_62_EXOENZYME_C1_15     29\n",
       "           vpro_11_62_EXOENZYME_C1_20     34\n",
       "           vpro_11_62_EXOENZYME_C1_22     26\n",
       "           vpro_11_62_EXOENZYME_C1_32     21\n",
       "                                        ... \n",
       "ROS        vpro_89_60_ROS_C2             333\n",
       "           vpro_90_89_ROS_C0             347\n",
       "           vpro_93_82_ROS_C1             321\n",
       "           vpro_96_60_ROS_C1             319\n",
       "           vpro_97_23_ROS_C1             328\n",
       "Length: 11058, dtype: int64"
      ]
     },
     "execution_count": 41,
     "metadata": {},
     "output_type": "execute_result"
    }
   ],
   "source": [
    "df.groupby(['model', 'VPRO']).size() #.value_counts()"
   ]
  },
  {
   "cell_type": "code",
   "execution_count": 44,
   "id": "47f44ae2-965d-4d2c-be32-bfaecfdbfa1d",
   "metadata": {},
   "outputs": [
    {
     "data": {
      "text/plain": [
       "model     VPRO                                                                                                 \n",
       "OVERFLOW  monte_OVERFLOW_fix_OVERFLOW_56_monte_vpro_2_34_47_OVERFLOW_50_lowN_all_OVERFLOW_h6878164821315599434     1\n",
       "          monte_OVERFLOW_fix_OVERFLOW_68_monte_vpro_2_99_15_OVERFLOW_72_lowN_all_OVERFLOW_h6878164821315599434     1\n",
       "          monte_OVERFLOW_fix_OVERFLOW_68_monte_vpro_2_99_15_OVERFLOW_84_lowN_all_OVERFLOW_h6878164821315599434     1\n",
       "          monte_OVERFLOW_fix_OVERFLOW_68_monte_vpro_2_99_15_OVERFLOW_90_lowN_all_OVERFLOW_h6878164821315599434     1\n",
       "          monte_OVERFLOW_fix_OVERFLOW_69_monte_vpro_2_100_31_OVERFLOW_72_lowN_all_OVERFLOW_h6878164821315599434    1\n",
       "                                                                                                                  ..\n",
       "          monte_OVERFLOW_fix_OVERFLOW_68_monte_vpro_2_33_12_OVERFLOW_20_lowN_all_OVERFLOW_h6878164821315599434     1\n",
       "          monte_OVERFLOW_fix_OVERFLOW_68_monte_vpro_2_33_12_OVERFLOW_85_lowN_all_OVERFLOW_h6878164821315599434     1\n",
       "          monte_OVERFLOW_fix_OVERFLOW_68_monte_vpro_2_31_17_OVERFLOW_11_lowN_all_OVERFLOW_h6878164821315599434     1\n",
       "          monte_OVERFLOW_fix_OVERFLOW_68_monte_vpro_2_34_47_OVERFLOW_45_lowN_all_OVERFLOW_h6878164821315599434     1\n",
       "          monte_OVERFLOW_fix_OVERFLOW_68_monte_vpro_2_18_79_OVERFLOW_63_lowN_all_OVERFLOW_h6878164821315599434     1\n",
       "Length: 100, dtype: int64"
      ]
     },
     "execution_count": 44,
     "metadata": {},
     "output_type": "execute_result"
    }
   ],
   "source": [
    "df.groupby(['model', 'VPRO']).size().sort_values().head(100)"
   ]
  },
  {
   "cell_type": "code",
   "execution_count": 48,
   "id": "4d2442ae-3307-45e6-9a11-505ac5418bb3",
   "metadata": {},
   "outputs": [
    {
     "data": {
      "text/html": [
       "<div>\n",
       "<style scoped>\n",
       "    .dataframe tbody tr th:only-of-type {\n",
       "        vertical-align: middle;\n",
       "    }\n",
       "\n",
       "    .dataframe tbody tr th {\n",
       "        vertical-align: top;\n",
       "    }\n",
       "\n",
       "    .dataframe thead th {\n",
       "        text-align: right;\n",
       "    }\n",
       "</style>\n",
       "<table border=\"1\" class=\"dataframe\">\n",
       "  <thead>\n",
       "    <tr style=\"text-align: right;\">\n",
       "      <th></th>\n",
       "      <th>VPRO</th>\n",
       "      <th>idx</th>\n",
       "    </tr>\n",
       "  </thead>\n",
       "  <tbody>\n",
       "    <tr>\n",
       "      <th>0</th>\n",
       "      <td>vpro_11_62_EXOENZYME_C1_20</td>\n",
       "      <td>monteadd2_EXOENZYME_13_monte_vpro_11_62_EXOENZYME_C1_20_38</td>\n",
       "    </tr>\n",
       "    <tr>\n",
       "      <th>1</th>\n",
       "      <td>vpro_11_62_EXOENZYME_C1_22</td>\n",
       "      <td>monteadd2_EXOENZYME_13_monte_vpro_11_62_EXOENZYME_C1_22_48</td>\n",
       "    </tr>\n",
       "    <tr>\n",
       "      <th>2</th>\n",
       "      <td>vpro_11_62_EXOENZYME_C1_54</td>\n",
       "      <td>monteadd2_EXOENZYME_13_monte_vpro_11_62_EXOENZYME_C1_54_56</td>\n",
       "    </tr>\n",
       "    <tr>\n",
       "      <th>3</th>\n",
       "      <td>vpro_11_62_EXOENZYME_C1_94</td>\n",
       "      <td>monteadd2_EXOENZYME_13_monte_vpro_11_62_EXOENZYME_C1_94_13</td>\n",
       "    </tr>\n",
       "    <tr>\n",
       "      <th>4</th>\n",
       "      <td>vpro_13_69_EXOENZYME_C1_28</td>\n",
       "      <td>monteadd2_EXOENZYME_13_monte_vpro_13_69_EXOENZYME_C1_28_83</td>\n",
       "    </tr>\n",
       "    <tr>\n",
       "      <th>...</th>\n",
       "      <td>...</td>\n",
       "      <td>...</td>\n",
       "    </tr>\n",
       "    <tr>\n",
       "      <th>86810</th>\n",
       "      <td>vpro_93_82_ROS_C1</td>\n",
       "      <td>monte_ROS_9_monte_vpro_93_82_ROS_C1_64</td>\n",
       "    </tr>\n",
       "    <tr>\n",
       "      <th>86811</th>\n",
       "      <td>vpro_96_60_ROS_C1</td>\n",
       "      <td>monte_ROS_9_monte_vpro_96_60_ROS_C1_59</td>\n",
       "    </tr>\n",
       "    <tr>\n",
       "      <th>86812</th>\n",
       "      <td>vpro_96_60_ROS_C1</td>\n",
       "      <td>monte_ROS_9_monte_vpro_96_60_ROS_C1_66</td>\n",
       "    </tr>\n",
       "    <tr>\n",
       "      <th>86813</th>\n",
       "      <td>vpro_97_23_ROS_C1</td>\n",
       "      <td>monte_ROS_9_monte_vpro_97_23_ROS_C1_3</td>\n",
       "    </tr>\n",
       "    <tr>\n",
       "      <th>86814</th>\n",
       "      <td>vpro_97_23_ROS_C1</td>\n",
       "      <td>monte_ROS_9_monte_vpro_97_23_ROS_C1_5</td>\n",
       "    </tr>\n",
       "  </tbody>\n",
       "</table>\n",
       "<p>86815 rows × 2 columns</p>\n",
       "</div>"
      ],
      "text/plain": [
       "                             VPRO  \\\n",
       "0      vpro_11_62_EXOENZYME_C1_20   \n",
       "1      vpro_11_62_EXOENZYME_C1_22   \n",
       "2      vpro_11_62_EXOENZYME_C1_54   \n",
       "3      vpro_11_62_EXOENZYME_C1_94   \n",
       "4      vpro_13_69_EXOENZYME_C1_28   \n",
       "...                           ...   \n",
       "86810           vpro_93_82_ROS_C1   \n",
       "86811           vpro_96_60_ROS_C1   \n",
       "86812           vpro_96_60_ROS_C1   \n",
       "86813           vpro_97_23_ROS_C1   \n",
       "86814           vpro_97_23_ROS_C1   \n",
       "\n",
       "                                                              idx  \n",
       "0      monteadd2_EXOENZYME_13_monte_vpro_11_62_EXOENZYME_C1_20_38  \n",
       "1      monteadd2_EXOENZYME_13_monte_vpro_11_62_EXOENZYME_C1_22_48  \n",
       "2      monteadd2_EXOENZYME_13_monte_vpro_11_62_EXOENZYME_C1_54_56  \n",
       "3      monteadd2_EXOENZYME_13_monte_vpro_11_62_EXOENZYME_C1_94_13  \n",
       "4      monteadd2_EXOENZYME_13_monte_vpro_13_69_EXOENZYME_C1_28_83  \n",
       "...                                                           ...  \n",
       "86810                      monte_ROS_9_monte_vpro_93_82_ROS_C1_64  \n",
       "86811                      monte_ROS_9_monte_vpro_96_60_ROS_C1_59  \n",
       "86812                      monte_ROS_9_monte_vpro_96_60_ROS_C1_66  \n",
       "86813                       monte_ROS_9_monte_vpro_97_23_ROS_C1_3  \n",
       "86814                       monte_ROS_9_monte_vpro_97_23_ROS_C1_5  \n",
       "\n",
       "[86815 rows x 2 columns]"
      ]
     },
     "execution_count": 48,
     "metadata": {},
     "output_type": "execute_result"
    }
   ],
   "source": [
    "pd.set_option('display.max_colwidth', 200) \n",
    "df[['VPRO', 'idx']]"
   ]
  },
  {
   "cell_type": "code",
   "execution_count": null,
   "id": "d826764d-bb3d-41bb-be4a-d2ffe92dff43",
   "metadata": {},
   "outputs": [],
   "source": []
  }
 ],
 "metadata": {
  "kernelspec": {
   "display_name": "Python 3 (ipykernel)",
   "language": "python",
   "name": "python3"
  },
  "language_info": {
   "codemirror_mode": {
    "name": "ipython",
    "version": 3
   },
   "file_extension": ".py",
   "mimetype": "text/x-python",
   "name": "python",
   "nbconvert_exporter": "python",
   "pygments_lexer": "ipython3",
   "version": "3.11.7"
  }
 },
 "nbformat": 4,
 "nbformat_minor": 5
}
