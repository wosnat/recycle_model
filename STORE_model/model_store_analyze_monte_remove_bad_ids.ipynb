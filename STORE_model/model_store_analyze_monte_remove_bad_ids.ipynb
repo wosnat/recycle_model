{
 "cells": [
  {
   "cell_type": "code",
   "execution_count": 14,
   "id": "0b5df45e",
   "metadata": {},
   "outputs": [],
   "source": [
    "import numpy as np\n",
    "import pandas as pd\n",
    "import matplotlib.pyplot as plt\n",
    "import seaborn as sns\n",
    "sns.set(style=\"white\", context='poster')\n",
    "import math"
   ]
  },
  {
   "cell_type": "code",
   "execution_count": 15,
   "id": "4d435a10",
   "metadata": {},
   "outputs": [
    {
     "name": "stdout",
     "output_type": "stream",
     "text": [
      "The autoreload extension is already loaded. To reload it, use:\n",
      "  %reload_ext autoreload\n"
     ]
    }
   ],
   "source": [
    "%load_ext autoreload\n",
    "%autoreload 2\n"
   ]
  },
  {
   "cell_type": "code",
   "execution_count": 16,
   "id": "047a0867",
   "metadata": {},
   "outputs": [],
   "source": [
    "#from model_equations_separate_NC import *\n",
    "from model_equations_separate_NC_store_numba import *\n"
   ]
  },
  {
   "cell_type": "code",
   "execution_count": 17,
   "id": "6df9ae5e",
   "metadata": {},
   "outputs": [
    {
     "data": {
      "text/html": [
       "<svg  width=\"275\" height=\"55\"><rect x=\"0\" y=\"0\" width=\"55\" height=\"55\" style=\"fill:#7ba1c2;stroke-width:2;stroke:rgb(255,255,255)\"/><rect x=\"55\" y=\"0\" width=\"55\" height=\"55\" style=\"fill:#5e43a5;stroke-width:2;stroke:rgb(255,255,255)\"/><rect x=\"110\" y=\"0\" width=\"55\" height=\"55\" style=\"fill:#2f1436;stroke-width:2;stroke:rgb(255,255,255)\"/><rect x=\"165\" y=\"0\" width=\"55\" height=\"55\" style=\"fill:#8e2c50;stroke-width:2;stroke:rgb(255,255,255)\"/><rect x=\"220\" y=\"0\" width=\"55\" height=\"55\" style=\"fill:#c6896c;stroke-width:2;stroke:rgb(255,255,255)\"/></svg>"
      ],
      "text/plain": [
       "[(0.4828677867260272, 0.6304330455306234, 0.761915371498953),\n",
       " (0.3668108554010799, 0.26404857724525643, 0.6464799165290824),\n",
       " (0.18488035509396164, 0.07942573027972388, 0.21307651648984993),\n",
       " (0.5566322903496934, 0.17269677158182117, 0.31423043195101424),\n",
       " (0.775907907306857, 0.5355421788246119, 0.42413367909988375)]"
      ]
     },
     "execution_count": 17,
     "metadata": {},
     "output_type": "execute_result"
    }
   ],
   "source": [
    "morder = ['MIN', 'OVERFLOW', 'MIXOTROPH', 'EXOENZYME', 'ROS',]\n",
    "media_order = ['lowN', 'pro99']\n",
    "mpalette = 'twilight'\n",
    "sns.color_palette(mpalette, n_colors=5)\n"
   ]
  },
  {
   "cell_type": "code",
   "execution_count": 18,
   "id": "193932a0",
   "metadata": {},
   "outputs": [
    {
     "data": {
      "text/html": [
       "<svg  width=\"330\" height=\"55\"><rect x=\"0\" y=\"0\" width=\"55\" height=\"55\" style=\"fill:#66c2a5;stroke-width:2;stroke:rgb(255,255,255)\"/><rect x=\"55\" y=\"0\" width=\"55\" height=\"55\" style=\"fill:#fc8d62;stroke-width:2;stroke:rgb(255,255,255)\"/><rect x=\"110\" y=\"0\" width=\"55\" height=\"55\" style=\"fill:#8da0cb;stroke-width:2;stroke:rgb(255,255,255)\"/><rect x=\"165\" y=\"0\" width=\"55\" height=\"55\" style=\"fill:#e78ac3;stroke-width:2;stroke:rgb(255,255,255)\"/><rect x=\"220\" y=\"0\" width=\"55\" height=\"55\" style=\"fill:#000000;stroke-width:2;stroke:rgb(255,255,255)\"/><rect x=\"275\" y=\"0\" width=\"55\" height=\"55\" style=\"fill:#d3d3d3;stroke-width:2;stroke:rgb(255,255,255)\"/></svg>"
      ],
      "text/plain": [
       "[(0.4, 0.7607843137254902, 0.6470588235294118),\n",
       " (0.9882352941176471, 0.5529411764705883, 0.3843137254901961),\n",
       " (0.5529411764705883, 0.6274509803921569, 0.796078431372549),\n",
       " (0.9058823529411765, 0.5411764705882353, 0.7647058823529411),\n",
       " (0.0, 0.0, 0.0),\n",
       " (0.8274509803921568, 0.8274509803921568, 0.8274509803921568)]"
      ]
     },
     "execution_count": 18,
     "metadata": {},
     "output_type": "execute_result"
    }
   ],
   "source": [
    "gorder = [ 'Strong', 'Sustained', 'Weak', 'Inhibited','Axenic', 'Other']\n",
    "gpalette = sns.color_palette('Set2', n_colors=4).as_hex() + ['black', 'lightgrey']\n",
    "sns.color_palette(gpalette)"
   ]
  },
  {
   "cell_type": "code",
   "execution_count": 19,
   "id": "29512801",
   "metadata": {},
   "outputs": [
    {
     "data": {
      "text/html": [
       "<svg  width=\"990\" height=\"55\"><rect x=\"0\" y=\"0\" width=\"55\" height=\"55\" style=\"fill:#99cc99;stroke-width:2;stroke:rgb(255,255,255)\"/><rect x=\"55\" y=\"0\" width=\"55\" height=\"55\" style=\"fill:#aad5aa;stroke-width:2;stroke:rgb(255,255,255)\"/><rect x=\"110\" y=\"0\" width=\"55\" height=\"55\" style=\"fill:#ffc58f;stroke-width:2;stroke:rgb(255,255,255)\"/><rect x=\"165\" y=\"0\" width=\"55\" height=\"55\" style=\"fill:#ffd2a9;stroke-width:2;stroke:rgb(255,255,255)\"/><rect x=\"220\" y=\"0\" width=\"55\" height=\"55\" style=\"fill:#326232;stroke-width:2;stroke:rgb(255,255,255)\"/><rect x=\"275\" y=\"0\" width=\"55\" height=\"55\" style=\"fill:#ffa98f;stroke-width:2;stroke:rgb(255,255,255)\"/><rect x=\"330\" y=\"0\" width=\"55\" height=\"55\" style=\"fill:#7285b7;stroke-width:2;stroke:rgb(255,255,255)\"/><rect x=\"385\" y=\"0\" width=\"55\" height=\"55\" style=\"fill:#000000;stroke-width:2;stroke:rgb(255,255,255)\"/><rect x=\"440\" y=\"0\" width=\"55\" height=\"55\" style=\"fill:#bbdaff;stroke-width:2;stroke:rgb(255,255,255)\"/><rect x=\"495\" y=\"0\" width=\"55\" height=\"55\" style=\"fill:#99cc99;stroke-width:2;stroke:rgb(255,255,255)\"/><rect x=\"550\" y=\"0\" width=\"55\" height=\"55\" style=\"fill:#aad5aa;stroke-width:2;stroke:rgb(255,255,255)\"/><rect x=\"605\" y=\"0\" width=\"55\" height=\"55\" style=\"fill:#ffc58f;stroke-width:2;stroke:rgb(255,255,255)\"/><rect x=\"660\" y=\"0\" width=\"55\" height=\"55\" style=\"fill:#ffd2a9;stroke-width:2;stroke:rgb(255,255,255)\"/><rect x=\"715\" y=\"0\" width=\"55\" height=\"55\" style=\"fill:#326232;stroke-width:2;stroke:rgb(255,255,255)\"/><rect x=\"770\" y=\"0\" width=\"55\" height=\"55\" style=\"fill:#ffa98f;stroke-width:2;stroke:rgb(255,255,255)\"/><rect x=\"825\" y=\"0\" width=\"55\" height=\"55\" style=\"fill:#cc6666;stroke-width:2;stroke:rgb(255,255,255)\"/><rect x=\"880\" y=\"0\" width=\"55\" height=\"55\" style=\"fill:#000000;stroke-width:2;stroke:rgb(255,255,255)\"/><rect x=\"935\" y=\"0\" width=\"55\" height=\"55\" style=\"fill:#ff9da4;stroke-width:2;stroke:rgb(255,255,255)\"/></svg>"
      ],
      "text/plain": [
       "[(0.6, 0.8, 0.6),\n",
       " (0.6666666666666666, 0.8352941176470589, 0.6666666666666666),\n",
       " (1.0, 0.7725490196078432, 0.5607843137254902),\n",
       " (1.0, 0.8235294117647058, 0.6627450980392157),\n",
       " (0.19607843137254902, 0.3843137254901961, 0.19607843137254902),\n",
       " (1.0, 0.6627450980392157, 0.5607843137254902),\n",
       " (0.4470588235294118, 0.5215686274509804, 0.7176470588235294),\n",
       " (0.0, 0.0, 0.0),\n",
       " (0.7333333333333333, 0.8549019607843137, 1.0),\n",
       " (0.6, 0.8, 0.6),\n",
       " (0.6666666666666666, 0.8352941176470589, 0.6666666666666666),\n",
       " (1.0, 0.7725490196078432, 0.5607843137254902),\n",
       " (1.0, 0.8235294117647058, 0.6627450980392157),\n",
       " (0.19607843137254902, 0.3843137254901961, 0.19607843137254902),\n",
       " (1.0, 0.6627450980392157, 0.5607843137254902),\n",
       " (0.8, 0.4, 0.4),\n",
       " (0.0, 0.0, 0.0),\n",
       " (1.0, 0.615686274509804, 0.6431372549019608)]"
      ]
     },
     "execution_count": 19,
     "metadata": {},
     "output_type": "execute_result"
    }
   ],
   "source": [
    "\n",
    "HCOLOR = '#ffc58f'\n",
    "HCOLOR_light = '#ffd2a9'\n",
    "PCOLOR = '#99cc99'\n",
    "PCOLOR_light = '#aad5aa'\n",
    "\n",
    "DONCOLOR = '#7285b7'\n",
    "RDONCOLOR = 'black' #'#00334D'\n",
    "DINCOLOR = '#bbdaff' #'#000066'\n",
    "\n",
    "DOCCOLOR = '#cc6666'\n",
    "RDOCCOLOR = 'black' #'#00334D'\n",
    "DICCOLOR = '#ff9da4' #'#000066'\n",
    "\n",
    "SHCOLOR = '#ffa98f'\n",
    "SPCOLOR = '#326232'\n",
    "\n",
    "\n",
    "ccnpalette = [PCOLOR, PCOLOR_light, HCOLOR, HCOLOR_light, SPCOLOR, SHCOLOR,DONCOLOR, RDONCOLOR, DINCOLOR]\n",
    "ccnorder = ['Bp', 'Np', 'Bh','Nh',  'ABp', 'ABh', 'DON', 'RDON', 'DIN', ]\n",
    "cccpalette = [PCOLOR, PCOLOR_light, HCOLOR, HCOLOR_light, SPCOLOR, SHCOLOR, DOCCOLOR, RDOCCOLOR, DICCOLOR]\n",
    "cccorder = ['Bp[C]', 'Cp', 'Bh[C]', 'Ch', 'ABp[C]', 'ABh[C]', 'DOC', 'RDOC', 'DIC']\n",
    "ccxpalette = [PCOLOR, HCOLOR]\n",
    "ccxorder = ['Xp', 'Xh']\n",
    "hnpalette = [ HCOLOR_light, SPCOLOR, SHCOLOR, DONCOLOR, RDONCOLOR, DINCOLOR]\n",
    "hnorder = [ 'Bh', 'ABp', 'ABh', 'DON', 'RDON', 'DIN']\n",
    "hcpalette = [ HCOLOR_light, SPCOLOR, SHCOLOR, DOCCOLOR, RDOCCOLOR, DICCOLOR]\n",
    "hcorder = [ 'Bh[C]', 'ABp[C]', 'ABh[C]', 'DOC', 'RDOC', 'DIC']\n",
    "pnpalette = [ PCOLOR_light, SPCOLOR, SHCOLOR, DONCOLOR, RDONCOLOR, DINCOLOR]\n",
    "pnorder = [ 'Bp', 'ABp', 'ABh', 'DON', 'RDON', 'DIN']\n",
    "pcpalette = [ PCOLOR_light, SPCOLOR, SHCOLOR, DOCCOLOR, RDOCCOLOR, DICCOLOR]\n",
    "pcorder = [ 'Bp[C]', 'ABp[C]', 'ABh[C]', 'DOC', 'RDOC', 'DIC']\n",
    "sns.color_palette(ccnpalette + cccpalette, )\n",
    "# \n"
   ]
  },
  {
   "cell_type": "code",
   "execution_count": 20,
   "id": "041f9573",
   "metadata": {},
   "outputs": [
    {
     "data": {
      "text/html": [
       "<svg  width=\"220\" height=\"55\"><rect x=\"0\" y=\"0\" width=\"55\" height=\"55\" style=\"fill:#99cc99;stroke-width:2;stroke:rgb(255,255,255)\"/><rect x=\"55\" y=\"0\" width=\"55\" height=\"55\" style=\"fill:#ffc58f;stroke-width:2;stroke:rgb(255,255,255)\"/><rect x=\"110\" y=\"0\" width=\"55\" height=\"55\" style=\"fill:#aad5aa;stroke-width:2;stroke:rgb(255,255,255)\"/><rect x=\"165\" y=\"0\" width=\"55\" height=\"55\" style=\"fill:#ffd2a9;stroke-width:2;stroke:rgb(255,255,255)\"/></svg>"
      ],
      "text/plain": [
       "[(0.6, 0.8, 0.6),\n",
       " (1.0, 0.7725490196078432, 0.5607843137254902),\n",
       " (0.6666666666666666, 0.8352941176470589, 0.6666666666666666),\n",
       " (1.0, 0.8235294117647058, 0.6627450980392157)]"
      ]
     },
     "execution_count": 20,
     "metadata": {},
     "output_type": "execute_result"
    }
   ],
   "source": [
    "\n",
    " \n",
    "sns.color_palette([PCOLOR, HCOLOR, PCOLOR_light, HCOLOR_light] )\n"
   ]
  },
  {
   "cell_type": "code",
   "execution_count": 21,
   "id": "10f7a882",
   "metadata": {},
   "outputs": [],
   "source": [
    "refdf = pd.read_excel('ML_model/reference_final.xlsx')"
   ]
  },
  {
   "cell_type": "code",
   "execution_count": 22,
   "id": "5ba784b1",
   "metadata": {},
   "outputs": [],
   "source": [
    "dpath = '/fast_data/Osnat/RECYCLE_MODEL/results/shgo2/out'\n",
    "dpath = 'results'"
   ]
  },
  {
   "cell_type": "code",
   "execution_count": 23,
   "id": "323f8a48",
   "metadata": {},
   "outputs": [
    {
     "data": {
      "text/plain": [
       "['monte_add_OVERFLOW_df.csv.gz',\n",
       " 'monte_ponly_add_OVERFLOW_clean_df.csv.gz',\n",
       " 'monte_ponly_clean_mse.csv.gz',\n",
       " 'monte2_ponly_sum.csv.gz',\n",
       " 'sensitivity_vmax2_df.csv.gz',\n",
       " 'monte_ponly_clean_df.csv.gz',\n",
       " 'monte_ponly_fix_OVERFLOW_df.csv.gz',\n",
       " 'monte_het_minmse.csv.gz',\n",
       " 'sensitivity_df.csv.gz',\n",
       " 'default_initial_lowN_ponly_MIN_h4139617574487472499_sum.csv.gz',\n",
       " 'monte_add_het_mse.csv.gz',\n",
       " 'monte_ponly_add_OVERFLOW_df.csv.gz',\n",
       " 'monte_ponly_df.csv.gz',\n",
       " 'default_initial_lowN_ponly_MIN_h4139617574487472499_mse.csv.gz',\n",
       " 'monte_ponly_fix_OVERFLOW_clean_df.csv.gz',\n",
       " 'default_initial_lowN_ponly_MIN_h4139617574487472499_df.csv.gz',\n",
       " 'baseline_df.csv.gz',\n",
       " 'results_old_26122023',\n",
       " 'monte_het_clean_sum.csv.gz',\n",
       " 'baseline_sum.csv.gz',\n",
       " 'monte2_add_het_mse.csv.gz',\n",
       " 'monte_strong_ponly_clean_df.csv.gz',\n",
       " 'sensitivity_vmax2_sum.csv.gz',\n",
       " 'monte_fix_OVERFLOW_mse.csv.gz',\n",
       " 'monte_strong_ponly_sum.csv.gz',\n",
       " 'monte_add_het_df.csv.gz',\n",
       " 'sensitivity_vmax_mse.csv.gz',\n",
       " 'monte_ponly_mse.csv.gz',\n",
       " 'monte2_add_het_sum.csv.gz',\n",
       " 'monte_add_OVERFLOW_mse.csv.gz',\n",
       " 'monte_ponly_sum.csv.gz',\n",
       " 'monte_fix_OVERFLOW_clean_df.csv.gz',\n",
       " 'monte_het_clean_mse.csv.gz',\n",
       " 'monte_strong_ponly_df.csv.gz',\n",
       " 'sensitivity_sum.csv.gz',\n",
       " 'sensitivity_vmax2_mse.csv.gz',\n",
       " 'sensitivity_vmax_df.csv.gz',\n",
       " 'monte_ponly_fix_OVERFLOW_mse.csv.gz',\n",
       " 'monte_het_mse.csv.gz',\n",
       " 'monte_ponly_add_OVERFLOW_clean_sum.csv.gz',\n",
       " 'monte_add_het_clean_mse.csv.gz',\n",
       " 'monte_strong_ponly_clean_sum.csv.gz',\n",
       " 'monte_het_sum.csv.gz',\n",
       " 'monte_strong_ponly_mse.csv.gz',\n",
       " 'monte_ponly_clean_sum.csv.gz',\n",
       " 'monte2_add_het_df.csv.gz',\n",
       " 'monte_fix_OVERFLOW_df.csv.gz',\n",
       " 'sensitivity_mse.csv.gz',\n",
       " 'monte_het_df.csv.gz',\n",
       " 'monte_add_het_clean_sum.csv.gz',\n",
       " 'monte2_ponly_df.csv.gz',\n",
       " 'sensitivity_vmax_sum.csv.gz',\n",
       " 'monte_add_het_clean_df.csv.gz',\n",
       " 'monte_fix_OVERFLOW_clean_sum.csv.gz',\n",
       " 'monte_strong_ponly_clean_mse.csv.gz',\n",
       " 'monte_ponly_fix_OVERFLOW_sum.csv.gz',\n",
       " 'monte_fix_OVERFLOW_clean_mse.csv.gz',\n",
       " 'monte_ponly_add_OVERFLOW_clean_mse.csv.gz',\n",
       " 'monte_add_het_sum.csv.gz',\n",
       " 'monte_fix_OVERFLOW_sum.csv.gz',\n",
       " 'monte_ponly_add_OVERFLOW_mse.csv.gz',\n",
       " 'monte_ponly_fix_OVERFLOW_clean_mse.csv.gz',\n",
       " 'monte_ponly_fix_OVERFLOW_clean_sum.csv.gz',\n",
       " 'monte2_ponly_mse.csv.gz',\n",
       " 'baseline_mse.csv.gz',\n",
       " 'monte_add_OVERFLOW_sum.csv.gz',\n",
       " 'monte_ponly_add_OVERFLOW_sum.csv.gz',\n",
       " 'monte_het_clean_df.csv.gz']"
      ]
     },
     "execution_count": 23,
     "metadata": {},
     "output_type": "execute_result"
    }
   ],
   "source": [
    "os.listdir(dpath)"
   ]
  },
  {
   "cell_type": "code",
   "execution_count": 24,
   "id": "c297fd3f",
   "metadata": {},
   "outputs": [],
   "source": [
    "pro99_mode = False \n",
    "which_organism = 'all'\n",
    "organism_to_tune = 'HET'\n",
    "(var_names, init_var_vals, intermediate_names, calc_dydt, prepare_params_tuple\n",
    ") = get_constants_per_organism(pro99_mode, which_organism)\n",
    "    \n"
   ]
  },
  {
   "cell_type": "code",
   "execution_count": 25,
   "id": "aa1264e5",
   "metadata": {},
   "outputs": [
    {
     "data": {
      "text/plain": [
       "['Bp',\n",
       " 'Np',\n",
       " 'Cp',\n",
       " 'Bh',\n",
       " 'Nh',\n",
       " 'Ch',\n",
       " 'DON',\n",
       " 'RDON',\n",
       " 'DIN',\n",
       " 'DOC',\n",
       " 'RDOC',\n",
       " 'DIC',\n",
       " 'ROS']"
      ]
     },
     "execution_count": 25,
     "metadata": {},
     "output_type": "execute_result"
    }
   ],
   "source": [
    "var_names"
   ]
  },
  {
   "cell_type": "markdown",
   "id": "399a0655",
   "metadata": {},
   "source": [
    "# first monte"
   ]
  },
  {
   "cell_type": "code",
   "execution_count": 13,
   "id": "5254812c",
   "metadata": {},
   "outputs": [],
   "source": [
    "dpath = 'results'\n",
    "sim_df = pd.read_csv(os.path.join(dpath,'monte_het_df.csv.gz',))\n",
    "mse_df = pd.read_csv(os.path.join(dpath,'monte_het_mse.csv.gz',))\n",
    "sum_df = pd.read_csv(os.path.join(dpath,'monte_het_sum.csv.gz',))\n"
   ]
  },
  {
   "cell_type": "code",
   "execution_count": 20,
   "id": "12a17575",
   "metadata": {},
   "outputs": [],
   "source": [
    "# remove overflow buggy simulations\n",
    "sim_df = sim_df.loc[~sim_df.run_id.str.startswith('monte_OVERFLOW')]\n",
    "mse_df = mse_df.loc[~mse_df.run_id.str.startswith('monte_OVERFLOW')]\n",
    "sum_df = sum_df.loc[~sum_df.run_id.str.startswith('monte_OVERFLOW')]\n"
   ]
  },
  {
   "cell_type": "code",
   "execution_count": 21,
   "id": "c5bcad6f",
   "metadata": {},
   "outputs": [],
   "source": [
    "sim2_df = pd.read_csv(os.path.join(dpath,'monte_fix_OVERFLOW_df.csv.gz',))\n",
    "mse2_df = pd.read_csv(os.path.join(dpath,'monte_fix_OVERFLOW_mse.csv.gz',))\n",
    "sum2_df = pd.read_csv(os.path.join(dpath,'monte_fix_OVERFLOW_sum.csv.gz',))\n"
   ]
  },
  {
   "cell_type": "code",
   "execution_count": 22,
   "id": "81a32157",
   "metadata": {},
   "outputs": [],
   "source": [
    "sim_df = pd.concat([sim_df, sim2_df], ignore_index=True)\n",
    "mse_df = pd.concat([mse_df, mse2_df], ignore_index=True)\n",
    "sum_df = pd.concat([sum_df, sum2_df], ignore_index=True)\n"
   ]
  },
  {
   "cell_type": "code",
   "execution_count": 23,
   "id": "c04ac921",
   "metadata": {},
   "outputs": [
    {
     "data": {
      "text/plain": [
       "667"
      ]
     },
     "execution_count": 23,
     "metadata": {},
     "output_type": "execute_result"
    }
   ],
   "source": [
    "min_values = sim_df[var_names+['run_id']].groupby('run_id').min().min(axis=1)\n",
    "bad_ids_negative_values = set(min_values[min_values< -1e-9].index)\n",
    "len(bad_ids_negative_values)"
   ]
  },
  {
   "cell_type": "code",
   "execution_count": 24,
   "id": "67e7ec7f",
   "metadata": {},
   "outputs": [
    {
     "data": {
      "text/plain": [
       "1"
      ]
     },
     "execution_count": 24,
     "metadata": {},
     "output_type": "execute_result"
    }
   ],
   "source": [
    "max_values = sim_df[var_names+['run_id']].groupby('run_id').max().max(axis=1)\n",
    "bad_ids_toolarge_values = set(max_values[max_values > 1e9].index)\n",
    "len(bad_ids_toolarge_values)"
   ]
  },
  {
   "cell_type": "code",
   "execution_count": 25,
   "id": "7449a8cc",
   "metadata": {},
   "outputs": [
    {
     "data": {
      "text/plain": [
       "819"
      ]
     },
     "execution_count": 25,
     "metadata": {},
     "output_type": "execute_result"
    }
   ],
   "source": [
    "bad_ids_missing_compare_points =  mse_df.loc[mse_df.compare_points != 74, 'run_id']\n",
    "len(bad_ids_missing_compare_points)"
   ]
  },
  {
   "cell_type": "code",
   "execution_count": 26,
   "id": "8c7f5815",
   "metadata": {},
   "outputs": [
    {
     "data": {
      "text/plain": [
       "21"
      ]
     },
     "execution_count": 26,
     "metadata": {},
     "output_type": "execute_result"
    }
   ],
   "source": [
    "bad_ids_missing_compare_points.nunique()"
   ]
  },
  {
   "cell_type": "code",
   "execution_count": 27,
   "id": "3641093a",
   "metadata": {},
   "outputs": [
    {
     "data": {
      "text/plain": [
       "673"
      ]
     },
     "execution_count": 27,
     "metadata": {},
     "output_type": "execute_result"
    }
   ],
   "source": [
    "bad_ids = set(bad_ids_missing_compare_points) | set(bad_ids_negative_values) | set(bad_ids_toolarge_values)\n",
    "len(bad_ids)"
   ]
  },
  {
   "cell_type": "code",
   "execution_count": 28,
   "id": "63db214f",
   "metadata": {},
   "outputs": [],
   "source": [
    "sim_df = sim_df.loc[~sim_df['run_id'].isin(bad_ids)]\n",
    "mse_df = mse_df.loc[~mse_df['run_id'].isin(bad_ids)]\n",
    "sum_df = sum_df.loc[~sum_df['run_id'].isin(bad_ids)]\n"
   ]
  },
  {
   "cell_type": "code",
   "execution_count": 29,
   "id": "8b2a12ee",
   "metadata": {},
   "outputs": [
    {
     "data": {
      "text/plain": [
       "Index(['Bp', 'Np', 'Cp', 'Bh', 'Nh', 'Ch', 'DON', 'RDON', 'DIN', 'DOC', 'RDOC',\n",
       "       'DIC', 'ROS', 't', 'day', 'gross_uptakeINp', 'gross_uptakeINh',\n",
       "       'gross_uptakeONp', 'gross_uptakeONh', 'gross_uptakeICp',\n",
       "       'gross_uptakeICh', 'gross_uptakeOCp', 'gross_uptakeOCh', 'uptakeNp',\n",
       "       'uptakeNh', 'uptakeCp', 'uptakeCh', 'QCp', 'QCh', 'biosynthesisNp',\n",
       "       'biosynthesisNh', 'respirationCp', 'respirationCh',\n",
       "       'biomass_breakdownCp', 'biomass_breakdownCh', 'overflowNp',\n",
       "       'overflowNh', 'overflowCp', 'overflowCh', 'Bp[C]', 'Bptotal[N]',\n",
       "       'Bptotal[C]', 'Bh[C]', 'Bhtotal[N]', 'Bhtotal[C]', 'run_id',\n",
       "       'ROSproductionp', 'ROSproductionh', 'ROSlossp', 'ROSlossh',\n",
       "       'deathbiomassNp', 'deathbiomassNh', 'deathstoreNp', 'deathstoreNh',\n",
       "       'deathstoreCp', 'deathstoreCh', 'DON2DIN_exop', 'DON2DIN_exoh',\n",
       "       'DON2DIN', 'additionalLossRatep', 'additionalLossRateh', 'regNp',\n",
       "       'regNh', 'regCp', 'regCh', 'deathC_DOCp', 'deathC_DOCh', 'deathN_DONp',\n",
       "       'deathN_DONh'],\n",
       "      dtype='object')"
      ]
     },
     "execution_count": 29,
     "metadata": {},
     "output_type": "execute_result"
    }
   ],
   "source": [
    "sim_df.columns"
   ]
  },
  {
   "cell_type": "code",
   "execution_count": 30,
   "id": "0349acf3",
   "metadata": {},
   "outputs": [],
   "source": [
    "sim_df.to_csv(os.path.join(dpath,'monte_het_clean_df.csv.gz',))\n",
    "mse_df.to_csv(os.path.join(dpath,'monte_het_clean_mse.csv.gz',))\n",
    "sum_df.to_csv(os.path.join(dpath,'monte_het_clean_sum.csv.gz',))\n"
   ]
  },
  {
   "cell_type": "markdown",
   "id": "fca30cdc",
   "metadata": {},
   "source": [
    "# additional monte"
   ]
  },
  {
   "cell_type": "code",
   "execution_count": 26,
   "id": "fd79d67a",
   "metadata": {},
   "outputs": [],
   "source": [
    "dpath = 'results'\n",
    "sim1_df = pd.read_csv(os.path.join(dpath,'monte_add_het_df.csv.gz',))\n",
    "mse1_df = pd.read_csv(os.path.join(dpath,'monte_add_het_mse.csv.gz',))\n",
    "sum1_df = pd.read_csv(os.path.join(dpath,'monte_add_het_sum.csv.gz',))\n",
    "\n",
    "sim2_df = pd.read_csv(os.path.join(dpath,'monte2_add_het_df.csv.gz',))\n",
    "mse2_df = pd.read_csv(os.path.join(dpath,'monte2_add_het_mse.csv.gz',))\n",
    "sum2_df = pd.read_csv(os.path.join(dpath,'monte2_add_het_sum.csv.gz',))\n",
    "\n",
    "sim3_df = pd.read_csv(os.path.join(dpath,'monte_add_OVERFLOW_df.csv.gz',))\n",
    "mse3_df = pd.read_csv(os.path.join(dpath,'monte_add_OVERFLOW_mse.csv.gz',))\n",
    "sum3_df = pd.read_csv(os.path.join(dpath,'monte_add_OVERFLOW_sum.csv.gz',))\n",
    "\n",
    "sim_df = pd.concat([sim1_df,sim2_df,sim3_df,], ignore_index=True)\n",
    "mse_df = pd.concat([mse1_df,mse2_df,mse3_df,], ignore_index=True)\n",
    "sum_df = pd.concat([sum1_df,sum2_df,sum3_df,], ignore_index=True)\n"
   ]
  },
  {
   "cell_type": "code",
   "execution_count": 27,
   "id": "8d1542eb",
   "metadata": {},
   "outputs": [
    {
     "data": {
      "text/plain": [
       "451"
      ]
     },
     "execution_count": 27,
     "metadata": {},
     "output_type": "execute_result"
    }
   ],
   "source": [
    "min_values = sim_df[var_names+['run_id']].groupby('run_id').min().min(axis=1)\n",
    "bad_ids_negative_values = set(min_values[min_values< -1e-9].index)\n",
    "len(bad_ids_negative_values)"
   ]
  },
  {
   "cell_type": "code",
   "execution_count": 28,
   "id": "830fddd8",
   "metadata": {},
   "outputs": [
    {
     "data": {
      "text/plain": [
       "1"
      ]
     },
     "execution_count": 28,
     "metadata": {},
     "output_type": "execute_result"
    }
   ],
   "source": [
    "max_values = sim_df[var_names+['run_id']].groupby('run_id').max().max(axis=1)\n",
    "bad_ids_toolarge_values = set(max_values[max_values > 1e9].index)\n",
    "len(bad_ids_toolarge_values)"
   ]
  },
  {
   "cell_type": "code",
   "execution_count": 29,
   "id": "f3b2f31f",
   "metadata": {},
   "outputs": [
    {
     "data": {
      "text/plain": [
       "897"
      ]
     },
     "execution_count": 29,
     "metadata": {},
     "output_type": "execute_result"
    }
   ],
   "source": [
    "bad_ids_missing_compare_points =  mse_df.loc[mse_df.compare_points != 74, 'run_id']\n",
    "len(bad_ids_missing_compare_points)"
   ]
  },
  {
   "cell_type": "code",
   "execution_count": 30,
   "id": "337a08f0",
   "metadata": {},
   "outputs": [
    {
     "data": {
      "text/plain": [
       "23"
      ]
     },
     "execution_count": 30,
     "metadata": {},
     "output_type": "execute_result"
    }
   ],
   "source": [
    "bad_ids_missing_compare_points.nunique()"
   ]
  },
  {
   "cell_type": "code",
   "execution_count": 31,
   "id": "3064d656",
   "metadata": {},
   "outputs": [
    {
     "data": {
      "text/plain": [
       "459"
      ]
     },
     "execution_count": 31,
     "metadata": {},
     "output_type": "execute_result"
    }
   ],
   "source": [
    "bad_ids = set(bad_ids_missing_compare_points) | set(bad_ids_negative_values) | set(bad_ids_toolarge_values)\n",
    "len(bad_ids)"
   ]
  },
  {
   "cell_type": "code",
   "execution_count": 32,
   "id": "8ef521eb",
   "metadata": {},
   "outputs": [],
   "source": [
    "sim_df = sim_df.loc[~sim_df['run_id'].isin(bad_ids)]\n",
    "mse_df = mse_df.loc[~mse_df['run_id'].isin(bad_ids)]\n",
    "sum_df = sum_df.loc[~sum_df['run_id'].isin(bad_ids)]\n"
   ]
  },
  {
   "cell_type": "code",
   "execution_count": 33,
   "id": "91d34784",
   "metadata": {},
   "outputs": [
    {
     "data": {
      "text/plain": [
       "Index(['Bp', 'Np', 'Cp', 'Bh', 'Nh', 'Ch', 'DON', 'RDON', 'DIN', 'DOC', 'RDOC',\n",
       "       'DIC', 'ROS', 't', 'day', 'gross_uptakeINp', 'gross_uptakeINh',\n",
       "       'gross_uptakeONp', 'gross_uptakeONh', 'gross_uptakeICp',\n",
       "       'gross_uptakeICh', 'gross_uptakeOCp', 'gross_uptakeOCh', 'uptakeNp',\n",
       "       'uptakeNh', 'uptakeCp', 'uptakeCh', 'QCp', 'QCh', 'biosynthesisNp',\n",
       "       'biosynthesisNh', 'respirationCp', 'respirationCh',\n",
       "       'biomass_breakdownCp', 'biomass_breakdownCh', 'overflowNp',\n",
       "       'overflowNh', 'overflowCp', 'overflowCh', 'Bp[C]', 'Bptotal[N]',\n",
       "       'Bptotal[C]', 'Bh[C]', 'Bhtotal[N]', 'Bhtotal[C]', 'run_id',\n",
       "       'ROSproductionp', 'ROSproductionh', 'ROSlossp', 'ROSlossh',\n",
       "       'deathbiomassNp', 'deathbiomassNh', 'deathstoreNp', 'deathstoreNh',\n",
       "       'deathstoreCp', 'deathstoreCh', 'DON2DIN_exop', 'DON2DIN_exoh',\n",
       "       'DON2DIN', 'additionalLossRatep', 'additionalLossRateh', 'regNp',\n",
       "       'regNh', 'regCp', 'regCh', 'deathC_DOCp', 'deathC_DOCh', 'deathN_DONp',\n",
       "       'deathN_DONh'],\n",
       "      dtype='object')"
      ]
     },
     "execution_count": 33,
     "metadata": {},
     "output_type": "execute_result"
    }
   ],
   "source": [
    "sim_df.columns"
   ]
  },
  {
   "cell_type": "code",
   "execution_count": 45,
   "id": "6bbe807c",
   "metadata": {},
   "outputs": [],
   "source": [
    "def gen_df(y, sum_df=sum_df, which_organism='all'):\n",
    "    run_id = y.name\n",
    "    #print(run_id)\n",
    "    param_vals = sum_df.loc[sum_df['run_id'].isin([run_id])].squeeze().to_dict()\n",
    "    (var_names, init_var_vals, intermediate_names, calc_dydt, prepare_params_tuple\n",
    "        ) = get_constants_per_organism(pro99_mode=False, which_organism=which_organism)\n",
    "    par_tuple = prepare_params_tuple(param_vals)\n",
    "    d = y.copy()\n",
    "    d[intermediate_names] = d[var_names].apply(\n",
    "        lambda x : calc_dydt(0, x.to_numpy(), par_tuple=par_tuple, return_intermediate=True), axis=1, \n",
    "        result_type='expand')\n",
    "    return d"
   ]
  },
  {
   "cell_type": "code",
   "execution_count": 46,
   "id": "7443a9c9",
   "metadata": {},
   "outputs": [],
   "source": [
    "sim_df1 = sim_df.groupby('run_id',group_keys=True).apply(gen_df)\n"
   ]
  },
  {
   "cell_type": "code",
   "execution_count": 50,
   "id": "92e16a9d",
   "metadata": {},
   "outputs": [
    {
     "data": {
      "text/html": [
       "<div>\n",
       "<style scoped>\n",
       "    .dataframe tbody tr th:only-of-type {\n",
       "        vertical-align: middle;\n",
       "    }\n",
       "\n",
       "    .dataframe tbody tr th {\n",
       "        vertical-align: top;\n",
       "    }\n",
       "\n",
       "    .dataframe thead th {\n",
       "        text-align: right;\n",
       "    }\n",
       "</style>\n",
       "<table border=\"1\" class=\"dataframe\">\n",
       "  <thead>\n",
       "    <tr style=\"text-align: right;\">\n",
       "      <th></th>\n",
       "      <th>Bp</th>\n",
       "      <th>Np</th>\n",
       "      <th>Cp</th>\n",
       "      <th>Bh</th>\n",
       "      <th>Nh</th>\n",
       "      <th>Ch</th>\n",
       "      <th>DON</th>\n",
       "      <th>RDON</th>\n",
       "      <th>DIN</th>\n",
       "      <th>DOC</th>\n",
       "      <th>...</th>\n",
       "      <th>additionalLossRatep</th>\n",
       "      <th>additionalLossRateh</th>\n",
       "      <th>regNp</th>\n",
       "      <th>regNh</th>\n",
       "      <th>regCp</th>\n",
       "      <th>regCh</th>\n",
       "      <th>deathC_DOCp</th>\n",
       "      <th>deathC_DOCh</th>\n",
       "      <th>deathN_DONp</th>\n",
       "      <th>deathN_DONh</th>\n",
       "    </tr>\n",
       "  </thead>\n",
       "  <tbody>\n",
       "    <tr>\n",
       "      <th>0</th>\n",
       "      <td>0.892857</td>\n",
       "      <td>0.000000</td>\n",
       "      <td>0.000000</td>\n",
       "      <td>28.571429</td>\n",
       "      <td>0.000000</td>\n",
       "      <td>0.000000e+00</td>\n",
       "      <td>3.000000</td>\n",
       "      <td>0.000000</td>\n",
       "      <td>100.000000</td>\n",
       "      <td>19.875000</td>\n",
       "      <td>...</td>\n",
       "      <td>0.000000e+00</td>\n",
       "      <td>0.000000e+00</td>\n",
       "      <td>0.660377</td>\n",
       "      <td>0.333333</td>\n",
       "      <td>0.562500</td>\n",
       "      <td>0.833333</td>\n",
       "      <td>3.230399e-05</td>\n",
       "      <td>7.572618e-05</td>\n",
       "      <td>4.876074e-06</td>\n",
       "      <td>1.514524e-05</td>\n",
       "    </tr>\n",
       "    <tr>\n",
       "      <th>1</th>\n",
       "      <td>1.847883</td>\n",
       "      <td>0.962160</td>\n",
       "      <td>6.397689</td>\n",
       "      <td>24.375349</td>\n",
       "      <td>7.208548</td>\n",
       "      <td>-2.380534e-20</td>\n",
       "      <td>0.736171</td>\n",
       "      <td>4.936542</td>\n",
       "      <td>92.397633</td>\n",
       "      <td>0.004494</td>\n",
       "      <td>...</td>\n",
       "      <td>0.000000e+00</td>\n",
       "      <td>0.000000e+00</td>\n",
       "      <td>0.661640</td>\n",
       "      <td>0.000000</td>\n",
       "      <td>0.561113</td>\n",
       "      <td>1.000000</td>\n",
       "      <td>1.017964e-04</td>\n",
       "      <td>6.460482e-05</td>\n",
       "      <td>1.534621e-05</td>\n",
       "      <td>1.674209e-05</td>\n",
       "    </tr>\n",
       "    <tr>\n",
       "      <th>2</th>\n",
       "      <td>5.132588</td>\n",
       "      <td>2.676543</td>\n",
       "      <td>17.792950</td>\n",
       "      <td>20.241568</td>\n",
       "      <td>5.927899</td>\n",
       "      <td>6.069075e-01</td>\n",
       "      <td>1.781009</td>\n",
       "      <td>9.777628</td>\n",
       "      <td>86.927050</td>\n",
       "      <td>0.011324</td>\n",
       "      <td>...</td>\n",
       "      <td>0.000000e+00</td>\n",
       "      <td>0.000000e+00</td>\n",
       "      <td>0.661560</td>\n",
       "      <td>0.000000</td>\n",
       "      <td>0.561201</td>\n",
       "      <td>1.000000</td>\n",
       "      <td>2.828704e-04</td>\n",
       "      <td>5.397029e-05</td>\n",
       "      <td>4.264725e-05</td>\n",
       "      <td>1.387200e-05</td>\n",
       "    </tr>\n",
       "    <tr>\n",
       "      <th>3</th>\n",
       "      <td>8.894839</td>\n",
       "      <td>4.637646</td>\n",
       "      <td>30.819319</td>\n",
       "      <td>20.181810</td>\n",
       "      <td>5.164542</td>\n",
       "      <td>1.713848e+00</td>\n",
       "      <td>1.576714</td>\n",
       "      <td>12.644330</td>\n",
       "      <td>79.364403</td>\n",
       "      <td>0.019207</td>\n",
       "      <td>...</td>\n",
       "      <td>0.000000e+00</td>\n",
       "      <td>0.000000e+00</td>\n",
       "      <td>0.661442</td>\n",
       "      <td>0.020098</td>\n",
       "      <td>0.561331</td>\n",
       "      <td>0.991863</td>\n",
       "      <td>4.901300e-04</td>\n",
       "      <td>5.439868e-05</td>\n",
       "      <td>7.390365e-05</td>\n",
       "      <td>1.343568e-05</td>\n",
       "    </tr>\n",
       "    <tr>\n",
       "      <th>4</th>\n",
       "      <td>22.988248</td>\n",
       "      <td>11.973216</td>\n",
       "      <td>79.464560</td>\n",
       "      <td>26.482778</td>\n",
       "      <td>6.912094</td>\n",
       "      <td>5.567835e+00</td>\n",
       "      <td>0.255829</td>\n",
       "      <td>19.954995</td>\n",
       "      <td>43.897126</td>\n",
       "      <td>0.039995</td>\n",
       "      <td>...</td>\n",
       "      <td>0.000000e+00</td>\n",
       "      <td>0.000000e+00</td>\n",
       "      <td>0.660994</td>\n",
       "      <td>0.053174</td>\n",
       "      <td>0.561823</td>\n",
       "      <td>0.978029</td>\n",
       "      <td>1.265698e-03</td>\n",
       "      <td>7.314180e-05</td>\n",
       "      <td>1.909317e-04</td>\n",
       "      <td>1.770206e-05</td>\n",
       "    </tr>\n",
       "    <tr>\n",
       "      <th>...</th>\n",
       "      <td>...</td>\n",
       "      <td>...</td>\n",
       "      <td>...</td>\n",
       "      <td>...</td>\n",
       "      <td>...</td>\n",
       "      <td>...</td>\n",
       "      <td>...</td>\n",
       "      <td>...</td>\n",
       "      <td>...</td>\n",
       "      <td>...</td>\n",
       "      <td>...</td>\n",
       "      <td>...</td>\n",
       "      <td>...</td>\n",
       "      <td>...</td>\n",
       "      <td>...</td>\n",
       "      <td>...</td>\n",
       "      <td>...</td>\n",
       "      <td>...</td>\n",
       "      <td>...</td>\n",
       "      <td>...</td>\n",
       "      <td>...</td>\n",
       "    </tr>\n",
       "    <tr>\n",
       "      <th>2776253</th>\n",
       "      <td>0.000386</td>\n",
       "      <td>0.000044</td>\n",
       "      <td>0.001120</td>\n",
       "      <td>0.000272</td>\n",
       "      <td>0.000041</td>\n",
       "      <td>5.401385e-05</td>\n",
       "      <td>0.077061</td>\n",
       "      <td>132.385510</td>\n",
       "      <td>0.000973</td>\n",
       "      <td>0.002339</td>\n",
       "      <td>...</td>\n",
       "      <td>1.853287e-10</td>\n",
       "      <td>5.077168e-13</td>\n",
       "      <td>0.887121</td>\n",
       "      <td>0.192610</td>\n",
       "      <td>0.241336</td>\n",
       "      <td>0.912889</td>\n",
       "      <td>1.022541e-08</td>\n",
       "      <td>2.544323e-09</td>\n",
       "      <td>1.195677e-09</td>\n",
       "      <td>5.625713e-10</td>\n",
       "    </tr>\n",
       "    <tr>\n",
       "      <th>2776254</th>\n",
       "      <td>0.000377</td>\n",
       "      <td>0.000043</td>\n",
       "      <td>0.001095</td>\n",
       "      <td>0.000265</td>\n",
       "      <td>0.000039</td>\n",
       "      <td>5.277020e-05</td>\n",
       "      <td>0.076158</td>\n",
       "      <td>132.386421</td>\n",
       "      <td>0.000982</td>\n",
       "      <td>0.002348</td>\n",
       "      <td>...</td>\n",
       "      <td>1.809472e-10</td>\n",
       "      <td>4.957134e-13</td>\n",
       "      <td>0.886578</td>\n",
       "      <td>0.193901</td>\n",
       "      <td>0.242327</td>\n",
       "      <td>0.912228</td>\n",
       "      <td>1.000493e-08</td>\n",
       "      <td>2.478164e-09</td>\n",
       "      <td>1.170709e-09</td>\n",
       "      <td>5.474633e-10</td>\n",
       "    </tr>\n",
       "    <tr>\n",
       "      <th>2776255</th>\n",
       "      <td>0.000374</td>\n",
       "      <td>0.000043</td>\n",
       "      <td>0.001086</td>\n",
       "      <td>0.000262</td>\n",
       "      <td>0.000039</td>\n",
       "      <td>5.234495e-05</td>\n",
       "      <td>0.075622</td>\n",
       "      <td>132.386959</td>\n",
       "      <td>0.000987</td>\n",
       "      <td>0.002354</td>\n",
       "      <td>...</td>\n",
       "      <td>1.787449e-10</td>\n",
       "      <td>4.896801e-13</td>\n",
       "      <td>0.886254</td>\n",
       "      <td>0.194784</td>\n",
       "      <td>0.242919</td>\n",
       "      <td>0.911776</td>\n",
       "      <td>9.922825e-09</td>\n",
       "      <td>2.452457e-09</td>\n",
       "      <td>1.161585e-09</td>\n",
       "      <td>5.414594e-10</td>\n",
       "    </tr>\n",
       "    <tr>\n",
       "      <th>2776256</th>\n",
       "      <td>0.000372</td>\n",
       "      <td>0.000043</td>\n",
       "      <td>0.001080</td>\n",
       "      <td>0.000260</td>\n",
       "      <td>0.000038</td>\n",
       "      <td>5.210315e-05</td>\n",
       "      <td>0.075081</td>\n",
       "      <td>132.387501</td>\n",
       "      <td>0.000990</td>\n",
       "      <td>0.002360</td>\n",
       "      <td>...</td>\n",
       "      <td>1.770323e-10</td>\n",
       "      <td>4.849884e-13</td>\n",
       "      <td>0.886025</td>\n",
       "      <td>0.195611</td>\n",
       "      <td>0.243336</td>\n",
       "      <td>0.911351</td>\n",
       "      <td>9.870168e-09</td>\n",
       "      <td>2.436471e-09</td>\n",
       "      <td>1.155759e-09</td>\n",
       "      <td>5.376277e-10</td>\n",
       "    </tr>\n",
       "    <tr>\n",
       "      <th>2776257</th>\n",
       "      <td>0.000369</td>\n",
       "      <td>0.000043</td>\n",
       "      <td>0.001071</td>\n",
       "      <td>0.000259</td>\n",
       "      <td>0.000038</td>\n",
       "      <td>5.179192e-05</td>\n",
       "      <td>0.073829</td>\n",
       "      <td>132.388758</td>\n",
       "      <td>0.000990</td>\n",
       "      <td>0.002365</td>\n",
       "      <td>...</td>\n",
       "      <td>1.746812e-10</td>\n",
       "      <td>4.785475e-13</td>\n",
       "      <td>0.885984</td>\n",
       "      <td>0.196984</td>\n",
       "      <td>0.243411</td>\n",
       "      <td>0.910646</td>\n",
       "      <td>9.792063e-09</td>\n",
       "      <td>2.419050e-09</td>\n",
       "      <td>1.146675e-09</td>\n",
       "      <td>5.332854e-10</td>\n",
       "    </tr>\n",
       "  </tbody>\n",
       "</table>\n",
       "<p>2776258 rows × 69 columns</p>\n",
       "</div>"
      ],
      "text/plain": [
       "                Bp         Np         Cp         Bh        Nh            Ch  \\\n",
       "0         0.892857   0.000000   0.000000  28.571429  0.000000  0.000000e+00   \n",
       "1         1.847883   0.962160   6.397689  24.375349  7.208548 -2.380534e-20   \n",
       "2         5.132588   2.676543  17.792950  20.241568  5.927899  6.069075e-01   \n",
       "3         8.894839   4.637646  30.819319  20.181810  5.164542  1.713848e+00   \n",
       "4        22.988248  11.973216  79.464560  26.482778  6.912094  5.567835e+00   \n",
       "...            ...        ...        ...        ...       ...           ...   \n",
       "2776253   0.000386   0.000044   0.001120   0.000272  0.000041  5.401385e-05   \n",
       "2776254   0.000377   0.000043   0.001095   0.000265  0.000039  5.277020e-05   \n",
       "2776255   0.000374   0.000043   0.001086   0.000262  0.000039  5.234495e-05   \n",
       "2776256   0.000372   0.000043   0.001080   0.000260  0.000038  5.210315e-05   \n",
       "2776257   0.000369   0.000043   0.001071   0.000259  0.000038  5.179192e-05   \n",
       "\n",
       "              DON        RDON         DIN        DOC  ...  \\\n",
       "0        3.000000    0.000000  100.000000  19.875000  ...   \n",
       "1        0.736171    4.936542   92.397633   0.004494  ...   \n",
       "2        1.781009    9.777628   86.927050   0.011324  ...   \n",
       "3        1.576714   12.644330   79.364403   0.019207  ...   \n",
       "4        0.255829   19.954995   43.897126   0.039995  ...   \n",
       "...           ...         ...         ...        ...  ...   \n",
       "2776253  0.077061  132.385510    0.000973   0.002339  ...   \n",
       "2776254  0.076158  132.386421    0.000982   0.002348  ...   \n",
       "2776255  0.075622  132.386959    0.000987   0.002354  ...   \n",
       "2776256  0.075081  132.387501    0.000990   0.002360  ...   \n",
       "2776257  0.073829  132.388758    0.000990   0.002365  ...   \n",
       "\n",
       "         additionalLossRatep  additionalLossRateh     regNp     regNh  \\\n",
       "0               0.000000e+00         0.000000e+00  0.660377  0.333333   \n",
       "1               0.000000e+00         0.000000e+00  0.661640  0.000000   \n",
       "2               0.000000e+00         0.000000e+00  0.661560  0.000000   \n",
       "3               0.000000e+00         0.000000e+00  0.661442  0.020098   \n",
       "4               0.000000e+00         0.000000e+00  0.660994  0.053174   \n",
       "...                      ...                  ...       ...       ...   \n",
       "2776253         1.853287e-10         5.077168e-13  0.887121  0.192610   \n",
       "2776254         1.809472e-10         4.957134e-13  0.886578  0.193901   \n",
       "2776255         1.787449e-10         4.896801e-13  0.886254  0.194784   \n",
       "2776256         1.770323e-10         4.849884e-13  0.886025  0.195611   \n",
       "2776257         1.746812e-10         4.785475e-13  0.885984  0.196984   \n",
       "\n",
       "            regCp     regCh   deathC_DOCp   deathC_DOCh   deathN_DONp  \\\n",
       "0        0.562500  0.833333  3.230399e-05  7.572618e-05  4.876074e-06   \n",
       "1        0.561113  1.000000  1.017964e-04  6.460482e-05  1.534621e-05   \n",
       "2        0.561201  1.000000  2.828704e-04  5.397029e-05  4.264725e-05   \n",
       "3        0.561331  0.991863  4.901300e-04  5.439868e-05  7.390365e-05   \n",
       "4        0.561823  0.978029  1.265698e-03  7.314180e-05  1.909317e-04   \n",
       "...           ...       ...           ...           ...           ...   \n",
       "2776253  0.241336  0.912889  1.022541e-08  2.544323e-09  1.195677e-09   \n",
       "2776254  0.242327  0.912228  1.000493e-08  2.478164e-09  1.170709e-09   \n",
       "2776255  0.242919  0.911776  9.922825e-09  2.452457e-09  1.161585e-09   \n",
       "2776256  0.243336  0.911351  9.870168e-09  2.436471e-09  1.155759e-09   \n",
       "2776257  0.243411  0.910646  9.792063e-09  2.419050e-09  1.146675e-09   \n",
       "\n",
       "          deathN_DONh  \n",
       "0        1.514524e-05  \n",
       "1        1.674209e-05  \n",
       "2        1.387200e-05  \n",
       "3        1.343568e-05  \n",
       "4        1.770206e-05  \n",
       "...               ...  \n",
       "2776253  5.625713e-10  \n",
       "2776254  5.474633e-10  \n",
       "2776255  5.414594e-10  \n",
       "2776256  5.376277e-10  \n",
       "2776257  5.332854e-10  \n",
       "\n",
       "[2776258 rows x 69 columns]"
      ]
     },
     "execution_count": 50,
     "metadata": {},
     "output_type": "execute_result"
    }
   ],
   "source": [
    "sim_df1"
   ]
  },
  {
   "cell_type": "code",
   "execution_count": 49,
   "id": "eb10a16a",
   "metadata": {},
   "outputs": [],
   "source": [
    "sim_df1 = sim_df1.reset_index(drop=True)"
   ]
  },
  {
   "cell_type": "code",
   "execution_count": 51,
   "id": "10701973",
   "metadata": {},
   "outputs": [
    {
     "data": {
      "text/plain": [
       "Index(['Bp', 'Np', 'Cp', 'Bh', 'Nh', 'Ch', 'DON', 'RDON', 'DIN', 'DOC', 'RDOC',\n",
       "       'DIC', 'ROS', 't', 'day', 'gross_uptakeINp', 'gross_uptakeINh',\n",
       "       'gross_uptakeONp', 'gross_uptakeONh', 'gross_uptakeICp',\n",
       "       'gross_uptakeICh', 'gross_uptakeOCp', 'gross_uptakeOCh', 'uptakeNp',\n",
       "       'uptakeNh', 'uptakeCp', 'uptakeCh', 'QCp', 'QCh', 'biosynthesisNp',\n",
       "       'biosynthesisNh', 'respirationCp', 'respirationCh',\n",
       "       'biomass_breakdownCp', 'biomass_breakdownCh', 'overflowNp',\n",
       "       'overflowNh', 'overflowCp', 'overflowCh', 'Bp[C]', 'Bptotal[N]',\n",
       "       'Bptotal[C]', 'Bh[C]', 'Bhtotal[N]', 'Bhtotal[C]', 'run_id',\n",
       "       'ROSproductionp', 'ROSproductionh', 'ROSlossp', 'ROSlossh',\n",
       "       'deathbiomassNp', 'deathbiomassNh', 'deathstoreNp', 'deathstoreNh',\n",
       "       'deathstoreCp', 'deathstoreCh', 'DON2DIN_exop', 'DON2DIN_exoh',\n",
       "       'DON2DIN', 'additionalLossRatep', 'additionalLossRateh', 'regNp',\n",
       "       'regNh', 'regCp', 'regCh', 'deathC_DOCp', 'deathC_DOCh', 'deathN_DONp',\n",
       "       'deathN_DONh'],\n",
       "      dtype='object')"
      ]
     },
     "execution_count": 51,
     "metadata": {},
     "output_type": "execute_result"
    }
   ],
   "source": [
    "sim_df1.columns"
   ]
  },
  {
   "cell_type": "code",
   "execution_count": 52,
   "id": "1f575f5d",
   "metadata": {},
   "outputs": [],
   "source": [
    "sim_df1.to_csv(os.path.join(dpath,'monte_add_het_clean_df.csv.gz',))\n",
    "mse_df.to_csv(os.path.join(dpath,'monte_add_het_clean_mse.csv.gz',))\n",
    "sum_df.to_csv(os.path.join(dpath,'monte_add_het_clean_sum.csv.gz',))\n"
   ]
  },
  {
   "cell_type": "markdown",
   "id": "a799d841",
   "metadata": {},
   "source": [
    "#  monte for OVERFLOW fix"
   ]
  },
  {
   "cell_type": "code",
   "execution_count": 13,
   "id": "a0050fc6",
   "metadata": {},
   "outputs": [],
   "source": [
    "dpath = 'results'\n",
    "sim_df = pd.read_csv(os.path.join(dpath,'monte_fix_OVERFLOW_df.csv.gz',))\n",
    "mse_df = pd.read_csv(os.path.join(dpath,'monte_fix_OVERFLOW_mse.csv.gz',))\n",
    "sum_df = pd.read_csv(os.path.join(dpath,'monte_fix_OVERFLOW_sum.csv.gz',))\n",
    "\n"
   ]
  },
  {
   "cell_type": "code",
   "execution_count": 14,
   "id": "729ba42c",
   "metadata": {},
   "outputs": [
    {
     "data": {
      "text/plain": [
       "160"
      ]
     },
     "execution_count": 14,
     "metadata": {},
     "output_type": "execute_result"
    }
   ],
   "source": [
    "min_values = sim_df[var_names+['run_id']].groupby('run_id').min().min(axis=1)\n",
    "bad_ids_negative_values = set(min_values[min_values< -1e-9].index)\n",
    "len(bad_ids_negative_values)"
   ]
  },
  {
   "cell_type": "code",
   "execution_count": 15,
   "id": "61cd6421",
   "metadata": {},
   "outputs": [
    {
     "data": {
      "text/plain": [
       "0"
      ]
     },
     "execution_count": 15,
     "metadata": {},
     "output_type": "execute_result"
    }
   ],
   "source": [
    "max_values = sim_df[var_names+['run_id']].groupby('run_id').max().max(axis=1)\n",
    "bad_ids_toolarge_values = set(max_values[max_values > 1e9].index)\n",
    "len(bad_ids_toolarge_values)"
   ]
  },
  {
   "cell_type": "code",
   "execution_count": 16,
   "id": "885d630a",
   "metadata": {},
   "outputs": [
    {
     "data": {
      "text/plain": [
       "0"
      ]
     },
     "execution_count": 16,
     "metadata": {},
     "output_type": "execute_result"
    }
   ],
   "source": [
    "bad_ids_missing_compare_points =  mse_df.loc[mse_df.compare_points != 74, 'run_id']\n",
    "len(bad_ids_missing_compare_points)"
   ]
  },
  {
   "cell_type": "code",
   "execution_count": 17,
   "id": "4f408341",
   "metadata": {},
   "outputs": [
    {
     "data": {
      "text/plain": [
       "0"
      ]
     },
     "execution_count": 17,
     "metadata": {},
     "output_type": "execute_result"
    }
   ],
   "source": [
    "bad_ids_missing_compare_points.nunique()"
   ]
  },
  {
   "cell_type": "code",
   "execution_count": 18,
   "id": "7b413904",
   "metadata": {},
   "outputs": [
    {
     "data": {
      "text/plain": [
       "160"
      ]
     },
     "execution_count": 18,
     "metadata": {},
     "output_type": "execute_result"
    }
   ],
   "source": [
    "bad_ids = set(bad_ids_missing_compare_points) | set(bad_ids_negative_values) | set(bad_ids_toolarge_values)\n",
    "len(bad_ids)"
   ]
  },
  {
   "cell_type": "code",
   "execution_count": 19,
   "id": "0de7f954",
   "metadata": {},
   "outputs": [],
   "source": [
    "sim_df = sim_df.loc[~sim_df['run_id'].isin(bad_ids)]\n",
    "mse_df = mse_df.loc[~mse_df['run_id'].isin(bad_ids)]\n",
    "sum_df = sum_df.loc[~sum_df['run_id'].isin(bad_ids)]\n"
   ]
  },
  {
   "cell_type": "code",
   "execution_count": 20,
   "id": "d45d3fc1",
   "metadata": {},
   "outputs": [
    {
     "data": {
      "text/plain": [
       "Index(['Bp', 'Np', 'Cp', 'Bh', 'Nh', 'Ch', 'DON', 'RDON', 'DIN', 'DOC', 'RDOC',\n",
       "       'DIC', 'ROS', 't', 'day', 'gross_uptakeINp', 'gross_uptakeINh',\n",
       "       'gross_uptakeONp', 'gross_uptakeONh', 'gross_uptakeICp',\n",
       "       'gross_uptakeICh', 'gross_uptakeOCp', 'gross_uptakeOCh', 'uptakeNp',\n",
       "       'uptakeNh', 'uptakeCp', 'uptakeCh', 'QCp', 'QCh', 'biosynthesisNp',\n",
       "       'biosynthesisNh', 'respirationCp', 'respirationCh',\n",
       "       'biomass_breakdownCp', 'biomass_breakdownCh', 'overflowNp',\n",
       "       'overflowNh', 'overflowCp', 'overflowCh', 'ROSproductionp',\n",
       "       'ROSproductionh', 'ROSlossp', 'ROSlossh', 'deathbiomassNp',\n",
       "       'deathbiomassNh', 'deathstoreNp', 'deathstoreNh', 'deathstoreCp',\n",
       "       'deathstoreCh', 'DON2DIN_exop', 'DON2DIN_exoh', 'DON2DIN',\n",
       "       'additionalLossRatep', 'additionalLossRateh', 'regNp', 'regNh', 'regCp',\n",
       "       'regCh', 'deathC_DOCp', 'deathC_DOCh', 'deathN_DONp', 'deathN_DONh',\n",
       "       'Bp[C]', 'Bptotal[N]', 'Bptotal[C]', 'Bh[C]', 'Bhtotal[N]',\n",
       "       'Bhtotal[C]', 'run_id'],\n",
       "      dtype='object')"
      ]
     },
     "execution_count": 20,
     "metadata": {},
     "output_type": "execute_result"
    }
   ],
   "source": [
    "sim_df.columns"
   ]
  },
  {
   "cell_type": "code",
   "execution_count": 21,
   "id": "8e5b3ef6",
   "metadata": {},
   "outputs": [],
   "source": [
    "sim_df.to_csv(os.path.join(dpath,'monte_fix_OVERFLOW_clean_df.csv.gz',))\n",
    "mse_df.to_csv(os.path.join(dpath,'monte_fix_OVERFLOW_clean_mse.csv.gz',))\n",
    "sum_df.to_csv(os.path.join(dpath,'monte_fix_OVERFLOW_clean_sum.csv.gz',))\n"
   ]
  },
  {
   "cell_type": "code",
   "execution_count": null,
   "id": "ab57f584",
   "metadata": {},
   "outputs": [],
   "source": []
  },
  {
   "cell_type": "code",
   "execution_count": null,
   "id": "9001f03f",
   "metadata": {},
   "outputs": [],
   "source": []
  }
 ],
 "metadata": {
  "kernelspec": {
   "display_name": "Python 3 (ipykernel)",
   "language": "python",
   "name": "python3"
  },
  "language_info": {
   "codemirror_mode": {
    "name": "ipython",
    "version": 3
   },
   "file_extension": ".py",
   "mimetype": "text/x-python",
   "name": "python",
   "nbconvert_exporter": "python",
   "pygments_lexer": "ipython3",
   "version": "3.11.4"
  }
 },
 "nbformat": 4,
 "nbformat_minor": 5
}
