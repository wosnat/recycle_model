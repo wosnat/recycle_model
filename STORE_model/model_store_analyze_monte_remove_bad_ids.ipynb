{
 "cells": [
  {
   "cell_type": "code",
   "execution_count": 1,
   "id": "0b5df45e",
   "metadata": {},
   "outputs": [],
   "source": [
    "import numpy as np\n",
    "import pandas as pd\n",
    "import matplotlib.pyplot as plt\n",
    "import seaborn as sns\n",
    "sns.set(style=\"white\", context='poster')\n",
    "import math"
   ]
  },
  {
   "cell_type": "code",
   "execution_count": 2,
   "id": "4d435a10",
   "metadata": {},
   "outputs": [],
   "source": [
    "%load_ext autoreload\n",
    "%autoreload 2\n"
   ]
  },
  {
   "cell_type": "code",
   "execution_count": 3,
   "id": "047a0867",
   "metadata": {},
   "outputs": [],
   "source": [
    "#from model_equations_separate_NC import *\n",
    "from model_equations_separate_NC_store_numba import *\n"
   ]
  },
  {
   "cell_type": "code",
   "execution_count": 4,
   "id": "6df9ae5e",
   "metadata": {},
   "outputs": [
    {
     "data": {
      "text/html": [
       "<svg  width=\"275\" height=\"55\"><rect x=\"0\" y=\"0\" width=\"55\" height=\"55\" style=\"fill:#7ba1c2;stroke-width:2;stroke:rgb(255,255,255)\"/><rect x=\"55\" y=\"0\" width=\"55\" height=\"55\" style=\"fill:#5e43a5;stroke-width:2;stroke:rgb(255,255,255)\"/><rect x=\"110\" y=\"0\" width=\"55\" height=\"55\" style=\"fill:#2f1436;stroke-width:2;stroke:rgb(255,255,255)\"/><rect x=\"165\" y=\"0\" width=\"55\" height=\"55\" style=\"fill:#8e2c50;stroke-width:2;stroke:rgb(255,255,255)\"/><rect x=\"220\" y=\"0\" width=\"55\" height=\"55\" style=\"fill:#c6896c;stroke-width:2;stroke:rgb(255,255,255)\"/></svg>"
      ],
      "text/plain": [
       "[(0.4828677867260272, 0.6304330455306234, 0.761915371498953),\n",
       " (0.3668108554010799, 0.26404857724525643, 0.6464799165290824),\n",
       " (0.18488035509396164, 0.07942573027972388, 0.21307651648984993),\n",
       " (0.5566322903496934, 0.17269677158182117, 0.31423043195101424),\n",
       " (0.775907907306857, 0.5355421788246119, 0.42413367909988375)]"
      ]
     },
     "execution_count": 4,
     "metadata": {},
     "output_type": "execute_result"
    }
   ],
   "source": [
    "morder = ['MIN', 'OVERFLOW', 'MIXOTROPH', 'EXOENZYME', 'ROS',]\n",
    "media_order = ['lowN', 'pro99']\n",
    "mpalette = 'twilight'\n",
    "sns.color_palette(mpalette, n_colors=5)\n"
   ]
  },
  {
   "cell_type": "code",
   "execution_count": 5,
   "id": "193932a0",
   "metadata": {},
   "outputs": [
    {
     "data": {
      "text/html": [
       "<svg  width=\"330\" height=\"55\"><rect x=\"0\" y=\"0\" width=\"55\" height=\"55\" style=\"fill:#66c2a5;stroke-width:2;stroke:rgb(255,255,255)\"/><rect x=\"55\" y=\"0\" width=\"55\" height=\"55\" style=\"fill:#fc8d62;stroke-width:2;stroke:rgb(255,255,255)\"/><rect x=\"110\" y=\"0\" width=\"55\" height=\"55\" style=\"fill:#8da0cb;stroke-width:2;stroke:rgb(255,255,255)\"/><rect x=\"165\" y=\"0\" width=\"55\" height=\"55\" style=\"fill:#e78ac3;stroke-width:2;stroke:rgb(255,255,255)\"/><rect x=\"220\" y=\"0\" width=\"55\" height=\"55\" style=\"fill:#000000;stroke-width:2;stroke:rgb(255,255,255)\"/><rect x=\"275\" y=\"0\" width=\"55\" height=\"55\" style=\"fill:#d3d3d3;stroke-width:2;stroke:rgb(255,255,255)\"/></svg>"
      ],
      "text/plain": [
       "[(0.4, 0.7607843137254902, 0.6470588235294118),\n",
       " (0.9882352941176471, 0.5529411764705883, 0.3843137254901961),\n",
       " (0.5529411764705883, 0.6274509803921569, 0.796078431372549),\n",
       " (0.9058823529411765, 0.5411764705882353, 0.7647058823529411),\n",
       " (0.0, 0.0, 0.0),\n",
       " (0.8274509803921568, 0.8274509803921568, 0.8274509803921568)]"
      ]
     },
     "execution_count": 5,
     "metadata": {},
     "output_type": "execute_result"
    }
   ],
   "source": [
    "gorder = [ 'Strong', 'Sustained', 'Weak', 'Inhibited','Axenic', 'Other']\n",
    "gpalette = sns.color_palette('Set2', n_colors=4).as_hex() + ['black', 'lightgrey']\n",
    "sns.color_palette(gpalette)"
   ]
  },
  {
   "cell_type": "code",
   "execution_count": 6,
   "id": "29512801",
   "metadata": {},
   "outputs": [
    {
     "data": {
      "text/html": [
       "<svg  width=\"990\" height=\"55\"><rect x=\"0\" y=\"0\" width=\"55\" height=\"55\" style=\"fill:#99cc99;stroke-width:2;stroke:rgb(255,255,255)\"/><rect x=\"55\" y=\"0\" width=\"55\" height=\"55\" style=\"fill:#aad5aa;stroke-width:2;stroke:rgb(255,255,255)\"/><rect x=\"110\" y=\"0\" width=\"55\" height=\"55\" style=\"fill:#ffc58f;stroke-width:2;stroke:rgb(255,255,255)\"/><rect x=\"165\" y=\"0\" width=\"55\" height=\"55\" style=\"fill:#ffd2a9;stroke-width:2;stroke:rgb(255,255,255)\"/><rect x=\"220\" y=\"0\" width=\"55\" height=\"55\" style=\"fill:#326232;stroke-width:2;stroke:rgb(255,255,255)\"/><rect x=\"275\" y=\"0\" width=\"55\" height=\"55\" style=\"fill:#ffa98f;stroke-width:2;stroke:rgb(255,255,255)\"/><rect x=\"330\" y=\"0\" width=\"55\" height=\"55\" style=\"fill:#7285b7;stroke-width:2;stroke:rgb(255,255,255)\"/><rect x=\"385\" y=\"0\" width=\"55\" height=\"55\" style=\"fill:#000000;stroke-width:2;stroke:rgb(255,255,255)\"/><rect x=\"440\" y=\"0\" width=\"55\" height=\"55\" style=\"fill:#bbdaff;stroke-width:2;stroke:rgb(255,255,255)\"/><rect x=\"495\" y=\"0\" width=\"55\" height=\"55\" style=\"fill:#99cc99;stroke-width:2;stroke:rgb(255,255,255)\"/><rect x=\"550\" y=\"0\" width=\"55\" height=\"55\" style=\"fill:#aad5aa;stroke-width:2;stroke:rgb(255,255,255)\"/><rect x=\"605\" y=\"0\" width=\"55\" height=\"55\" style=\"fill:#ffc58f;stroke-width:2;stroke:rgb(255,255,255)\"/><rect x=\"660\" y=\"0\" width=\"55\" height=\"55\" style=\"fill:#ffd2a9;stroke-width:2;stroke:rgb(255,255,255)\"/><rect x=\"715\" y=\"0\" width=\"55\" height=\"55\" style=\"fill:#326232;stroke-width:2;stroke:rgb(255,255,255)\"/><rect x=\"770\" y=\"0\" width=\"55\" height=\"55\" style=\"fill:#ffa98f;stroke-width:2;stroke:rgb(255,255,255)\"/><rect x=\"825\" y=\"0\" width=\"55\" height=\"55\" style=\"fill:#cc6666;stroke-width:2;stroke:rgb(255,255,255)\"/><rect x=\"880\" y=\"0\" width=\"55\" height=\"55\" style=\"fill:#000000;stroke-width:2;stroke:rgb(255,255,255)\"/><rect x=\"935\" y=\"0\" width=\"55\" height=\"55\" style=\"fill:#ff9da4;stroke-width:2;stroke:rgb(255,255,255)\"/></svg>"
      ],
      "text/plain": [
       "[(0.6, 0.8, 0.6),\n",
       " (0.6666666666666666, 0.8352941176470589, 0.6666666666666666),\n",
       " (1.0, 0.7725490196078432, 0.5607843137254902),\n",
       " (1.0, 0.8235294117647058, 0.6627450980392157),\n",
       " (0.19607843137254902, 0.3843137254901961, 0.19607843137254902),\n",
       " (1.0, 0.6627450980392157, 0.5607843137254902),\n",
       " (0.4470588235294118, 0.5215686274509804, 0.7176470588235294),\n",
       " (0.0, 0.0, 0.0),\n",
       " (0.7333333333333333, 0.8549019607843137, 1.0),\n",
       " (0.6, 0.8, 0.6),\n",
       " (0.6666666666666666, 0.8352941176470589, 0.6666666666666666),\n",
       " (1.0, 0.7725490196078432, 0.5607843137254902),\n",
       " (1.0, 0.8235294117647058, 0.6627450980392157),\n",
       " (0.19607843137254902, 0.3843137254901961, 0.19607843137254902),\n",
       " (1.0, 0.6627450980392157, 0.5607843137254902),\n",
       " (0.8, 0.4, 0.4),\n",
       " (0.0, 0.0, 0.0),\n",
       " (1.0, 0.615686274509804, 0.6431372549019608)]"
      ]
     },
     "execution_count": 6,
     "metadata": {},
     "output_type": "execute_result"
    }
   ],
   "source": [
    "\n",
    "HCOLOR = '#ffc58f'\n",
    "HCOLOR_light = '#ffd2a9'\n",
    "PCOLOR = '#99cc99'\n",
    "PCOLOR_light = '#aad5aa'\n",
    "\n",
    "DONCOLOR = '#7285b7'\n",
    "RDONCOLOR = 'black' #'#00334D'\n",
    "DINCOLOR = '#bbdaff' #'#000066'\n",
    "\n",
    "DOCCOLOR = '#cc6666'\n",
    "RDOCCOLOR = 'black' #'#00334D'\n",
    "DICCOLOR = '#ff9da4' #'#000066'\n",
    "\n",
    "SHCOLOR = '#ffa98f'\n",
    "SPCOLOR = '#326232'\n",
    "\n",
    "\n",
    "ccnpalette = [PCOLOR, PCOLOR_light, HCOLOR, HCOLOR_light, SPCOLOR, SHCOLOR,DONCOLOR, RDONCOLOR, DINCOLOR]\n",
    "ccnorder = ['Bp', 'Np', 'Bh','Nh',  'ABp', 'ABh', 'DON', 'RDON', 'DIN', ]\n",
    "cccpalette = [PCOLOR, PCOLOR_light, HCOLOR, HCOLOR_light, SPCOLOR, SHCOLOR, DOCCOLOR, RDOCCOLOR, DICCOLOR]\n",
    "cccorder = ['Bp[C]', 'Cp', 'Bh[C]', 'Ch', 'ABp[C]', 'ABh[C]', 'DOC', 'RDOC', 'DIC']\n",
    "ccxpalette = [PCOLOR, HCOLOR]\n",
    "ccxorder = ['Xp', 'Xh']\n",
    "hnpalette = [ HCOLOR_light, SPCOLOR, SHCOLOR, DONCOLOR, RDONCOLOR, DINCOLOR]\n",
    "hnorder = [ 'Bh', 'ABp', 'ABh', 'DON', 'RDON', 'DIN']\n",
    "hcpalette = [ HCOLOR_light, SPCOLOR, SHCOLOR, DOCCOLOR, RDOCCOLOR, DICCOLOR]\n",
    "hcorder = [ 'Bh[C]', 'ABp[C]', 'ABh[C]', 'DOC', 'RDOC', 'DIC']\n",
    "pnpalette = [ PCOLOR_light, SPCOLOR, SHCOLOR, DONCOLOR, RDONCOLOR, DINCOLOR]\n",
    "pnorder = [ 'Bp', 'ABp', 'ABh', 'DON', 'RDON', 'DIN']\n",
    "pcpalette = [ PCOLOR_light, SPCOLOR, SHCOLOR, DOCCOLOR, RDOCCOLOR, DICCOLOR]\n",
    "pcorder = [ 'Bp[C]', 'ABp[C]', 'ABh[C]', 'DOC', 'RDOC', 'DIC']\n",
    "sns.color_palette(ccnpalette + cccpalette, )\n",
    "# \n"
   ]
  },
  {
   "cell_type": "code",
   "execution_count": 7,
   "id": "041f9573",
   "metadata": {},
   "outputs": [
    {
     "data": {
      "text/html": [
       "<svg  width=\"220\" height=\"55\"><rect x=\"0\" y=\"0\" width=\"55\" height=\"55\" style=\"fill:#99cc99;stroke-width:2;stroke:rgb(255,255,255)\"/><rect x=\"55\" y=\"0\" width=\"55\" height=\"55\" style=\"fill:#ffc58f;stroke-width:2;stroke:rgb(255,255,255)\"/><rect x=\"110\" y=\"0\" width=\"55\" height=\"55\" style=\"fill:#aad5aa;stroke-width:2;stroke:rgb(255,255,255)\"/><rect x=\"165\" y=\"0\" width=\"55\" height=\"55\" style=\"fill:#ffd2a9;stroke-width:2;stroke:rgb(255,255,255)\"/></svg>"
      ],
      "text/plain": [
       "[(0.6, 0.8, 0.6),\n",
       " (1.0, 0.7725490196078432, 0.5607843137254902),\n",
       " (0.6666666666666666, 0.8352941176470589, 0.6666666666666666),\n",
       " (1.0, 0.8235294117647058, 0.6627450980392157)]"
      ]
     },
     "execution_count": 7,
     "metadata": {},
     "output_type": "execute_result"
    }
   ],
   "source": [
    "\n",
    " \n",
    "sns.color_palette([PCOLOR, HCOLOR, PCOLOR_light, HCOLOR_light] )\n"
   ]
  },
  {
   "cell_type": "code",
   "execution_count": 8,
   "id": "10f7a882",
   "metadata": {},
   "outputs": [],
   "source": [
    "refdf = pd.read_excel('ML_model/reference_final.xlsx')"
   ]
  },
  {
   "cell_type": "code",
   "execution_count": 9,
   "id": "5ba784b1",
   "metadata": {},
   "outputs": [],
   "source": [
    "dpath = '/fast_data/Osnat/RECYCLE_MODEL/results/shgo2/out'\n",
    "dpath = 'results'"
   ]
  },
  {
   "cell_type": "code",
   "execution_count": 10,
   "id": "323f8a48",
   "metadata": {},
   "outputs": [
    {
     "data": {
      "text/plain": [
       "['monte_ponly_clean_mse.csv.gz',\n",
       " 'monte2_ponly_sum.csv.gz',\n",
       " 'sensitivity_vmax2_df.csv.gz',\n",
       " 'monte_ponly_clean_df.csv.gz',\n",
       " 'monte_ponly_fix_OVERFLOW_df.csv.gz',\n",
       " 'monte_het_minmse.csv.gz',\n",
       " 'sensitivity_df.csv.gz',\n",
       " 'default_initial_lowN_ponly_MIN_h4139617574487472499_sum.csv.gz',\n",
       " 'monte_add_het_mse.csv.gz',\n",
       " 'monte_ponly_df.csv.gz',\n",
       " 'default_initial_lowN_ponly_MIN_h4139617574487472499_mse.csv.gz',\n",
       " 'monte_ponly_fix_OVERFLOW_clean_df.csv.gz',\n",
       " 'default_initial_lowN_ponly_MIN_h4139617574487472499_df.csv.gz',\n",
       " 'baseline_df.csv.gz',\n",
       " 'results_old_26122023',\n",
       " 'monte_het_clean_sum.csv.gz',\n",
       " 'baseline_sum.csv.gz',\n",
       " 'monte2_add_het_mse.csv.gz',\n",
       " 'monte_strong_ponly_clean_df.csv.gz',\n",
       " 'sensitivity_vmax2_sum.csv.gz',\n",
       " 'monte_fix_OVERFLOW_mse.csv.gz',\n",
       " 'monte_strong_ponly_sum.csv.gz',\n",
       " 'monte_add_het_df.csv.gz',\n",
       " 'sensitivity_vmax_mse.csv.gz',\n",
       " 'monte_ponly_mse.csv.gz',\n",
       " 'monte2_add_het_sum.csv.gz',\n",
       " 'monte_ponly_sum.csv.gz',\n",
       " 'monte_het_clean_mse.csv.gz',\n",
       " 'monte_strong_ponly_df.csv.gz',\n",
       " 'sensitivity_sum.csv.gz',\n",
       " 'sensitivity_vmax2_mse.csv.gz',\n",
       " 'sensitivity_vmax_df.csv.gz',\n",
       " 'monte_ponly_fix_OVERFLOW_mse.csv.gz',\n",
       " 'monte_het_mse.csv.gz',\n",
       " 'monte_add_het_clean_mse.csv.gz',\n",
       " 'monte_strong_ponly_clean_sum.csv.gz',\n",
       " 'monte_het_sum.csv.gz',\n",
       " 'monte_strong_ponly_mse.csv.gz',\n",
       " 'monte_ponly_clean_sum.csv.gz',\n",
       " 'monte2_add_het_df.csv.gz',\n",
       " 'monte_fix_OVERFLOW_df.csv.gz',\n",
       " 'sensitivity_mse.csv.gz',\n",
       " 'monte_het_df.csv.gz',\n",
       " 'monte_add_het_clean_sum.csv.gz',\n",
       " 'monte2_ponly_df.csv.gz',\n",
       " 'sensitivity_vmax_sum.csv.gz',\n",
       " 'monte_add_het_clean_df.csv.gz',\n",
       " 'monte_strong_ponly_clean_mse.csv.gz',\n",
       " 'monte_ponly_fix_OVERFLOW_sum.csv.gz',\n",
       " 'monte_add_het_sum.csv.gz',\n",
       " 'monte_fix_OVERFLOW_sum.csv.gz',\n",
       " 'monte_ponly_fix_OVERFLOW_clean_mse.csv.gz',\n",
       " 'monte_ponly_fix_OVERFLOW_clean_sum.csv.gz',\n",
       " 'monte2_ponly_mse.csv.gz',\n",
       " 'baseline_mse.csv.gz',\n",
       " 'monte_het_clean_df.csv.gz']"
      ]
     },
     "execution_count": 10,
     "metadata": {},
     "output_type": "execute_result"
    }
   ],
   "source": [
    "os.listdir(dpath)"
   ]
  },
  {
   "cell_type": "code",
   "execution_count": 11,
   "id": "c297fd3f",
   "metadata": {},
   "outputs": [],
   "source": [
    "pro99_mode = False \n",
    "which_organism = 'all'\n",
    "organism_to_tune = 'HET'\n",
    "(var_names, init_var_vals, intermediate_names, calc_dydt, prepare_params_tuple\n",
    ") = get_constants_per_organism(pro99_mode, which_organism)\n",
    "    \n"
   ]
  },
  {
   "cell_type": "code",
   "execution_count": 12,
   "id": "aa1264e5",
   "metadata": {},
   "outputs": [
    {
     "data": {
      "text/plain": [
       "['Bp',\n",
       " 'Np',\n",
       " 'Cp',\n",
       " 'Bh',\n",
       " 'Nh',\n",
       " 'Ch',\n",
       " 'DON',\n",
       " 'RDON',\n",
       " 'DIN',\n",
       " 'DOC',\n",
       " 'RDOC',\n",
       " 'DIC',\n",
       " 'ROS']"
      ]
     },
     "execution_count": 12,
     "metadata": {},
     "output_type": "execute_result"
    }
   ],
   "source": [
    "var_names"
   ]
  },
  {
   "cell_type": "markdown",
   "id": "399a0655",
   "metadata": {},
   "source": [
    "# first monte"
   ]
  },
  {
   "cell_type": "code",
   "execution_count": 22,
   "id": "5254812c",
   "metadata": {},
   "outputs": [
    {
     "name": "stderr",
     "output_type": "stream",
     "text": [
      "\n",
      "KeyboardInterrupt\n",
      "\n"
     ]
    }
   ],
   "source": [
    "dpath = 'results'\n",
    "sim_df = pd.read_csv(os.path.join(dpath,'monte_het_df.csv.gz',))\n",
    "mse_df = pd.read_csv(os.path.join(dpath,'monte_het_mse.csv.gz',))\n",
    "sum_df = pd.read_csv(os.path.join(dpath,'monte_het_sum.csv.gz',))\n"
   ]
  },
  {
   "cell_type": "code",
   "execution_count": null,
   "id": "c04ac921",
   "metadata": {},
   "outputs": [],
   "source": [
    "min_values = sim_df[var_names+['run_id']].groupby('run_id').min().min(axis=1)\n",
    "bad_ids_negative_values = set(min_values[min_values< -1e-9].index)\n",
    "len(bad_ids_negative_values)"
   ]
  },
  {
   "cell_type": "code",
   "execution_count": null,
   "id": "67e7ec7f",
   "metadata": {},
   "outputs": [],
   "source": [
    "max_values = sim_df[var_names+['run_id']].groupby('run_id').max().max(axis=1)\n",
    "bad_ids_toolarge_values = set(max_values[max_values > 1e9].index)\n",
    "len(bad_ids_toolarge_values)"
   ]
  },
  {
   "cell_type": "code",
   "execution_count": null,
   "id": "7449a8cc",
   "metadata": {},
   "outputs": [],
   "source": [
    "bad_ids_missing_compare_points =  mse_df.loc[mse_df.compare_points != 74, 'run_id']\n",
    "len(bad_ids_missing_compare_points)"
   ]
  },
  {
   "cell_type": "code",
   "execution_count": null,
   "id": "8c7f5815",
   "metadata": {},
   "outputs": [],
   "source": [
    "bad_ids_missing_compare_points.nunique()"
   ]
  },
  {
   "cell_type": "code",
   "execution_count": null,
   "id": "3641093a",
   "metadata": {},
   "outputs": [],
   "source": [
    "bad_ids = set(bad_ids_missing_compare_points) | set(bad_ids_negative_values) | set(bad_ids_toolarge_values)\n",
    "len(bad_ids)"
   ]
  },
  {
   "cell_type": "code",
   "execution_count": null,
   "id": "63db214f",
   "metadata": {},
   "outputs": [],
   "source": [
    "sim_df = sim_df.loc[~sim_df['run_id'].isin(bad_ids)]\n",
    "mse_df = mse_df.loc[~mse_df['run_id'].isin(bad_ids)]\n",
    "sum_df = sum_df.loc[~sum_df['run_id'].isin(bad_ids)]\n"
   ]
  },
  {
   "cell_type": "code",
   "execution_count": null,
   "id": "8b2a12ee",
   "metadata": {},
   "outputs": [],
   "source": [
    "sim_df.columns"
   ]
  },
  {
   "cell_type": "code",
   "execution_count": null,
   "id": "0349acf3",
   "metadata": {},
   "outputs": [],
   "source": [
    "sim_df.to_csv(os.path.join(dpath,'monte_het_clean_df.csv.gz',))\n",
    "mse_df.to_csv(os.path.join(dpath,'monte_het_clean_mse.csv.gz',))\n",
    "sum_df.to_csv(os.path.join(dpath,'monte_het_clean_sum.csv.gz',))\n"
   ]
  },
  {
   "cell_type": "markdown",
   "id": "fca30cdc",
   "metadata": {},
   "source": [
    "# additional monte"
   ]
  },
  {
   "cell_type": "code",
   "execution_count": 23,
   "id": "fd79d67a",
   "metadata": {},
   "outputs": [],
   "source": [
    "dpath = 'results'\n",
    "sim1_df = pd.read_csv(os.path.join(dpath,'monte_add_het_df.csv.gz',))\n",
    "mse1_df = pd.read_csv(os.path.join(dpath,'monte_add_het_mse.csv.gz',))\n",
    "sum1_df = pd.read_csv(os.path.join(dpath,'monte_add_het_sum.csv.gz',))\n",
    "\n",
    "sim2_df = pd.read_csv(os.path.join(dpath,'monte2_add_het_df.csv.gz',))\n",
    "mse2_df = pd.read_csv(os.path.join(dpath,'monte2_add_het_mse.csv.gz',))\n",
    "sum2_df = pd.read_csv(os.path.join(dpath,'monte2_add_het_sum.csv.gz',))\n",
    "\n",
    "sim_df = pd.concat([sim1_df,sim2_df,], ignore_index=True)\n",
    "mse_df = pd.concat([mse1_df,mse2_df,], ignore_index=True)\n",
    "sum_df = pd.concat([sum1_df,sum2_df,], ignore_index=True)\n"
   ]
  },
  {
   "cell_type": "code",
   "execution_count": 24,
   "id": "8d1542eb",
   "metadata": {},
   "outputs": [
    {
     "data": {
      "text/plain": [
       "231"
      ]
     },
     "execution_count": 24,
     "metadata": {},
     "output_type": "execute_result"
    }
   ],
   "source": [
    "min_values = sim_df[var_names+['run_id']].groupby('run_id').min().min(axis=1)\n",
    "bad_ids_negative_values = set(min_values[min_values< -1e-9].index)\n",
    "len(bad_ids_negative_values)"
   ]
  },
  {
   "cell_type": "code",
   "execution_count": 25,
   "id": "830fddd8",
   "metadata": {},
   "outputs": [
    {
     "data": {
      "text/plain": [
       "0"
      ]
     },
     "execution_count": 25,
     "metadata": {},
     "output_type": "execute_result"
    }
   ],
   "source": [
    "max_values = sim_df[var_names+['run_id']].groupby('run_id').max().max(axis=1)\n",
    "bad_ids_toolarge_values = set(max_values[max_values > 1e9].index)\n",
    "len(bad_ids_toolarge_values)"
   ]
  },
  {
   "cell_type": "code",
   "execution_count": 26,
   "id": "f3b2f31f",
   "metadata": {},
   "outputs": [
    {
     "data": {
      "text/plain": [
       "585"
      ]
     },
     "execution_count": 26,
     "metadata": {},
     "output_type": "execute_result"
    }
   ],
   "source": [
    "bad_ids_missing_compare_points =  mse_df.loc[mse_df.compare_points != 74, 'run_id']\n",
    "len(bad_ids_missing_compare_points)"
   ]
  },
  {
   "cell_type": "code",
   "execution_count": 27,
   "id": "337a08f0",
   "metadata": {},
   "outputs": [
    {
     "data": {
      "text/plain": [
       "15"
      ]
     },
     "execution_count": 27,
     "metadata": {},
     "output_type": "execute_result"
    }
   ],
   "source": [
    "bad_ids_missing_compare_points.nunique()"
   ]
  },
  {
   "cell_type": "code",
   "execution_count": 28,
   "id": "3064d656",
   "metadata": {},
   "outputs": [
    {
     "data": {
      "text/plain": [
       "236"
      ]
     },
     "execution_count": 28,
     "metadata": {},
     "output_type": "execute_result"
    }
   ],
   "source": [
    "bad_ids = set(bad_ids_missing_compare_points) | set(bad_ids_negative_values) | set(bad_ids_toolarge_values)\n",
    "len(bad_ids)"
   ]
  },
  {
   "cell_type": "code",
   "execution_count": 29,
   "id": "8ef521eb",
   "metadata": {},
   "outputs": [],
   "source": [
    "sim_df = sim_df.loc[~sim_df['run_id'].isin(bad_ids)]\n",
    "mse_df = mse_df.loc[~mse_df['run_id'].isin(bad_ids)]\n",
    "sum_df = sum_df.loc[~sum_df['run_id'].isin(bad_ids)]\n"
   ]
  },
  {
   "cell_type": "code",
   "execution_count": 30,
   "id": "91d34784",
   "metadata": {},
   "outputs": [
    {
     "data": {
      "text/plain": [
       "Index(['Bp', 'Np', 'Cp', 'Bh', 'Nh', 'Ch', 'DON', 'RDON', 'DIN', 'DOC', 'RDOC',\n",
       "       'DIC', 'ROS', 't', 'day', 'gross_uptakeINp', 'gross_uptakeINh',\n",
       "       'gross_uptakeONp', 'gross_uptakeONh', 'gross_uptakeICp',\n",
       "       'gross_uptakeICh', 'gross_uptakeOCp', 'gross_uptakeOCh', 'uptakeNp',\n",
       "       'uptakeNh', 'uptakeCp', 'uptakeCh', 'QCp', 'QCh', 'biosynthesisNp',\n",
       "       'biosynthesisNh', 'respirationCp', 'respirationCh',\n",
       "       'biomass_breakdownCp', 'biomass_breakdownCh', 'overflowNp',\n",
       "       'overflowNh', 'overflowCp', 'overflowCh', 'Bp[C]', 'Bptotal[N]',\n",
       "       'Bptotal[C]', 'Bh[C]', 'Bhtotal[N]', 'Bhtotal[C]', 'run_id'],\n",
       "      dtype='object')"
      ]
     },
     "execution_count": 30,
     "metadata": {},
     "output_type": "execute_result"
    }
   ],
   "source": [
    "sim_df.columns"
   ]
  },
  {
   "cell_type": "code",
   "execution_count": 31,
   "id": "1f575f5d",
   "metadata": {},
   "outputs": [],
   "source": [
    "sim_df.to_csv(os.path.join(dpath,'monte_add_het_clean_df.csv.gz',))\n",
    "mse_df.to_csv(os.path.join(dpath,'monte_add_het_clean_mse.csv.gz',))\n",
    "sum_df.to_csv(os.path.join(dpath,'monte_add_het_clean_sum.csv.gz',))\n"
   ]
  },
  {
   "cell_type": "code",
   "execution_count": 32,
   "id": "0cf69a49",
   "metadata": {},
   "outputs": [
    {
     "data": {
      "text/plain": [
       "'results/monte_add_het_clean_df.csv.gz'"
      ]
     },
     "execution_count": 32,
     "metadata": {},
     "output_type": "execute_result"
    }
   ],
   "source": [
    "os.path.join(dpath,'monte_add_het_clean_df.csv.gz',)"
   ]
  },
  {
   "cell_type": "markdown",
   "id": "a799d841",
   "metadata": {},
   "source": [
    "#  monte for OVERFLOW fix"
   ]
  },
  {
   "cell_type": "code",
   "execution_count": 13,
   "id": "a0050fc6",
   "metadata": {},
   "outputs": [],
   "source": [
    "dpath = 'results'\n",
    "sim_df = pd.read_csv(os.path.join(dpath,'monte_fix_OVERFLOW_df.csv.gz',))\n",
    "mse_df = pd.read_csv(os.path.join(dpath,'monte_fix_OVERFLOW_mse.csv.gz',))\n",
    "sum_df = pd.read_csv(os.path.join(dpath,'monte_fix_OVERFLOW_sum.csv.gz',))\n",
    "\n"
   ]
  },
  {
   "cell_type": "code",
   "execution_count": 14,
   "id": "729ba42c",
   "metadata": {},
   "outputs": [
    {
     "data": {
      "text/plain": [
       "160"
      ]
     },
     "execution_count": 14,
     "metadata": {},
     "output_type": "execute_result"
    }
   ],
   "source": [
    "min_values = sim_df[var_names+['run_id']].groupby('run_id').min().min(axis=1)\n",
    "bad_ids_negative_values = set(min_values[min_values< -1e-9].index)\n",
    "len(bad_ids_negative_values)"
   ]
  },
  {
   "cell_type": "code",
   "execution_count": 15,
   "id": "61cd6421",
   "metadata": {},
   "outputs": [
    {
     "data": {
      "text/plain": [
       "0"
      ]
     },
     "execution_count": 15,
     "metadata": {},
     "output_type": "execute_result"
    }
   ],
   "source": [
    "max_values = sim_df[var_names+['run_id']].groupby('run_id').max().max(axis=1)\n",
    "bad_ids_toolarge_values = set(max_values[max_values > 1e9].index)\n",
    "len(bad_ids_toolarge_values)"
   ]
  },
  {
   "cell_type": "code",
   "execution_count": 16,
   "id": "885d630a",
   "metadata": {},
   "outputs": [
    {
     "data": {
      "text/plain": [
       "0"
      ]
     },
     "execution_count": 16,
     "metadata": {},
     "output_type": "execute_result"
    }
   ],
   "source": [
    "bad_ids_missing_compare_points =  mse_df.loc[mse_df.compare_points != 74, 'run_id']\n",
    "len(bad_ids_missing_compare_points)"
   ]
  },
  {
   "cell_type": "code",
   "execution_count": 17,
   "id": "4f408341",
   "metadata": {},
   "outputs": [
    {
     "data": {
      "text/plain": [
       "0"
      ]
     },
     "execution_count": 17,
     "metadata": {},
     "output_type": "execute_result"
    }
   ],
   "source": [
    "bad_ids_missing_compare_points.nunique()"
   ]
  },
  {
   "cell_type": "code",
   "execution_count": 18,
   "id": "7b413904",
   "metadata": {},
   "outputs": [
    {
     "data": {
      "text/plain": [
       "160"
      ]
     },
     "execution_count": 18,
     "metadata": {},
     "output_type": "execute_result"
    }
   ],
   "source": [
    "bad_ids = set(bad_ids_missing_compare_points) | set(bad_ids_negative_values) | set(bad_ids_toolarge_values)\n",
    "len(bad_ids)"
   ]
  },
  {
   "cell_type": "code",
   "execution_count": 19,
   "id": "0de7f954",
   "metadata": {},
   "outputs": [],
   "source": [
    "sim_df = sim_df.loc[~sim_df['run_id'].isin(bad_ids)]\n",
    "mse_df = mse_df.loc[~mse_df['run_id'].isin(bad_ids)]\n",
    "sum_df = sum_df.loc[~sum_df['run_id'].isin(bad_ids)]\n"
   ]
  },
  {
   "cell_type": "code",
   "execution_count": 20,
   "id": "d45d3fc1",
   "metadata": {},
   "outputs": [
    {
     "data": {
      "text/plain": [
       "Index(['Bp', 'Np', 'Cp', 'Bh', 'Nh', 'Ch', 'DON', 'RDON', 'DIN', 'DOC', 'RDOC',\n",
       "       'DIC', 'ROS', 't', 'day', 'gross_uptakeINp', 'gross_uptakeINh',\n",
       "       'gross_uptakeONp', 'gross_uptakeONh', 'gross_uptakeICp',\n",
       "       'gross_uptakeICh', 'gross_uptakeOCp', 'gross_uptakeOCh', 'uptakeNp',\n",
       "       'uptakeNh', 'uptakeCp', 'uptakeCh', 'QCp', 'QCh', 'biosynthesisNp',\n",
       "       'biosynthesisNh', 'respirationCp', 'respirationCh',\n",
       "       'biomass_breakdownCp', 'biomass_breakdownCh', 'overflowNp',\n",
       "       'overflowNh', 'overflowCp', 'overflowCh', 'ROSproductionp',\n",
       "       'ROSproductionh', 'ROSlossp', 'ROSlossh', 'deathbiomassNp',\n",
       "       'deathbiomassNh', 'deathstoreNp', 'deathstoreNh', 'deathstoreCp',\n",
       "       'deathstoreCh', 'DON2DIN_exop', 'DON2DIN_exoh', 'DON2DIN',\n",
       "       'additionalLossRatep', 'additionalLossRateh', 'regNp', 'regNh', 'regCp',\n",
       "       'regCh', 'deathC_DOCp', 'deathC_DOCh', 'deathN_DONp', 'deathN_DONh',\n",
       "       'Bp[C]', 'Bptotal[N]', 'Bptotal[C]', 'Bh[C]', 'Bhtotal[N]',\n",
       "       'Bhtotal[C]', 'run_id'],\n",
       "      dtype='object')"
      ]
     },
     "execution_count": 20,
     "metadata": {},
     "output_type": "execute_result"
    }
   ],
   "source": [
    "sim_df.columns"
   ]
  },
  {
   "cell_type": "code",
   "execution_count": 21,
   "id": "8e5b3ef6",
   "metadata": {},
   "outputs": [],
   "source": [
    "sim_df.to_csv(os.path.join(dpath,'monte_fix_OVERFLOW_clean_df.csv.gz',))\n",
    "mse_df.to_csv(os.path.join(dpath,'monte_fix_OVERFLOW_clean_mse.csv.gz',))\n",
    "sum_df.to_csv(os.path.join(dpath,'monte_fix_OVERFLOW_clean_sum.csv.gz',))\n"
   ]
  },
  {
   "cell_type": "code",
   "execution_count": null,
   "id": "ab57f584",
   "metadata": {},
   "outputs": [],
   "source": []
  },
  {
   "cell_type": "code",
   "execution_count": null,
   "id": "9001f03f",
   "metadata": {},
   "outputs": [],
   "source": []
  }
 ],
 "metadata": {
  "kernelspec": {
   "display_name": "Python 3 (ipykernel)",
   "language": "python",
   "name": "python3"
  },
  "language_info": {
   "codemirror_mode": {
    "name": "ipython",
    "version": 3
   },
   "file_extension": ".py",
   "mimetype": "text/x-python",
   "name": "python",
   "nbconvert_exporter": "python",
   "pygments_lexer": "ipython3",
   "version": "3.11.4"
  }
 },
 "nbformat": 4,
 "nbformat_minor": 5
}
