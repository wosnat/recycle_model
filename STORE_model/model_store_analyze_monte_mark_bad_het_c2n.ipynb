{
 "cells": [
  {
   "cell_type": "code",
   "execution_count": 1,
   "id": "0b5df45e",
   "metadata": {},
   "outputs": [],
   "source": [
    "import numpy as np\n",
    "import pandas as pd\n",
    "import matplotlib.pyplot as plt\n",
    "import seaborn as sns\n",
    "sns.set(style=\"white\", context='poster')\n",
    "import math"
   ]
  },
  {
   "cell_type": "code",
   "execution_count": 2,
   "id": "4d435a10",
   "metadata": {},
   "outputs": [],
   "source": [
    "%load_ext autoreload\n",
    "%autoreload 2\n"
   ]
  },
  {
   "cell_type": "code",
   "execution_count": 3,
   "id": "047a0867",
   "metadata": {},
   "outputs": [],
   "source": [
    "#from model_equations_separate_NC import *\n",
    "from model_equations_separate_NC_store_numba import *\n"
   ]
  },
  {
   "cell_type": "markdown",
   "id": "399a0655",
   "metadata": {},
   "source": [
    "# first monte"
   ]
  },
  {
   "cell_type": "code",
   "execution_count": 17,
   "id": "5254812c",
   "metadata": {},
   "outputs": [],
   "source": [
    "dpath = 'results'\n",
    "sim_df = pd.read_csv(os.path.join(dpath,'monte_het_clean_df.csv.gz',))\n"
   ]
  },
  {
   "cell_type": "code",
   "execution_count": 18,
   "id": "c3cf5b0d-0d75-4d3a-bc10-0d7aa369f0f7",
   "metadata": {},
   "outputs": [],
   "source": [
    "problematic_runids = sim_df.loc[\n",
    "    sim_df['Bhtotal[C]'].ge(5) & \n",
    "    sim_df['QCh'].le(3.5)& \n",
    "    sim_df['day'].ge(10)\n",
    "].run_id.unique()\n",
    "    \n"
   ]
  },
  {
   "cell_type": "code",
   "execution_count": 19,
   "id": "c7a7065e-086b-4cba-adb1-1c27bfd21aae",
   "metadata": {},
   "outputs": [
    {
     "data": {
      "text/plain": [
       "(49298, (31350,))"
      ]
     },
     "execution_count": 19,
     "metadata": {},
     "output_type": "execute_result"
    }
   ],
   "source": [
    "sim_df.run_id.nunique(), problematic_runids.shape"
   ]
  },
  {
   "cell_type": "code",
   "execution_count": 25,
   "id": "5d9d516d-6404-48b2-b178-f4244795dc50",
   "metadata": {},
   "outputs": [
    {
     "data": {
      "text/plain": [
       "0.36407156476936187"
      ]
     },
     "execution_count": 25,
     "metadata": {},
     "output_type": "execute_result"
    }
   ],
   "source": [
    "(49298 - 31350) / 49298"
   ]
  },
  {
   "cell_type": "code",
   "execution_count": 20,
   "id": "5669ab8b-bf38-410b-b2f8-b41195ca6de3",
   "metadata": {},
   "outputs": [],
   "source": [
    "np.savetxt('ML_model/problematic_runids_het.txt', problematic_runids, fmt=\"%s\")"
   ]
  },
  {
   "cell_type": "markdown",
   "id": "fca30cdc",
   "metadata": {},
   "source": [
    "# additional monte"
   ]
  },
  {
   "cell_type": "code",
   "execution_count": 21,
   "id": "fd79d67a",
   "metadata": {},
   "outputs": [],
   "source": [
    "dpath = 'results'\n",
    "sim_df = pd.read_csv(os.path.join(dpath,'monte_add_het_clean_df.csv.gz',))"
   ]
  },
  {
   "cell_type": "code",
   "execution_count": 22,
   "id": "c5a9ef13-2159-4988-8b25-05a26ae3c46a",
   "metadata": {},
   "outputs": [],
   "source": [
    "problematic_runids = sim_df.loc[\n",
    "    sim_df['Bhtotal[C]'].ge(5) & \n",
    "    sim_df['QCh'].le(3.5)& \n",
    "    sim_df['day'].ge(10)\n",
    "].run_id.unique()\n",
    "    \n"
   ]
  },
  {
   "cell_type": "code",
   "execution_count": 23,
   "id": "ec4f4317-ed5a-424d-a6d9-59d6c3ca2e01",
   "metadata": {},
   "outputs": [
    {
     "data": {
      "text/plain": [
       "(37517, (18198,))"
      ]
     },
     "execution_count": 23,
     "metadata": {},
     "output_type": "execute_result"
    }
   ],
   "source": [
    "sim_df.run_id.nunique(), problematic_runids.shape"
   ]
  },
  {
   "cell_type": "code",
   "execution_count": 26,
   "id": "70b5faf5-16bf-4ed8-8a25-b8a014c830c0",
   "metadata": {},
   "outputs": [
    {
     "data": {
      "text/plain": [
       "0.5149398939147587"
      ]
     },
     "execution_count": 26,
     "metadata": {},
     "output_type": "execute_result"
    }
   ],
   "source": [
    "(37517 - 18198) / 37517\n"
   ]
  },
  {
   "cell_type": "code",
   "execution_count": 24,
   "id": "b6776347-dfa5-493a-99d7-7d62875cc795",
   "metadata": {},
   "outputs": [],
   "source": [
    "np.savetxt('ML_model/problematic_runids_add_het.txt', problematic_runids, fmt=\"%s\")"
   ]
  },
  {
   "cell_type": "code",
   "execution_count": null,
   "id": "ab57f584",
   "metadata": {},
   "outputs": [],
   "source": []
  },
  {
   "cell_type": "code",
   "execution_count": null,
   "id": "9001f03f",
   "metadata": {},
   "outputs": [],
   "source": []
  }
 ],
 "metadata": {
  "kernelspec": {
   "display_name": "Python 3 (ipykernel)",
   "language": "python",
   "name": "python3"
  },
  "language_info": {
   "codemirror_mode": {
    "name": "ipython",
    "version": 3
   },
   "file_extension": ".py",
   "mimetype": "text/x-python",
   "name": "python",
   "nbconvert_exporter": "python",
   "pygments_lexer": "ipython3",
   "version": "3.11.7"
  }
 },
 "nbformat": 4,
 "nbformat_minor": 5
}
