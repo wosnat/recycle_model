{
 "cells": [
  {
   "cell_type": "code",
   "execution_count": 1,
   "id": "98b7e0d5",
   "metadata": {},
   "outputs": [],
   "source": [
    "import itertools\n",
    "import sys, os\n",
    "\n",
    "import numpy as np\n",
    "import pandas as pd\n",
    "from scipy.special import comb\n",
    "from scipy import stats\n",
    "import scipy.cluster.hierarchy as hac\n",
    "import matplotlib.pyplot as plt\n",
    "plt.style.use('classic')\n",
    "%matplotlib inline\n",
    "import numpy as np\n",
    "import pandas as pd\n",
    "import seaborn as sns\n",
    "from sklearn.decomposition import PCA\n",
    "from sklearn.preprocessing import StandardScaler\n",
    "from sklearn import metrics\n",
    "import statsmodels.api as sm\n",
    "\n",
    "sns.set(rc={'figure.figsize':(15,8)})\n",
    "sns.set_context('poster')\n",
    "sns.set_style('white')\n",
    "#plt.rcParams[\"figure.dpi\"] = 600\n",
    "from sklearn.model_selection import train_test_split"
   ]
  },
  {
   "cell_type": "code",
   "execution_count": 2,
   "id": "2ea6f7ea",
   "metadata": {},
   "outputs": [],
   "source": [
    "corder = ['C1', 'C2', 'C3', 'C4', 'C0']"
   ]
  },
  {
   "cell_type": "code",
   "execution_count": 3,
   "id": "2e6f27c3",
   "metadata": {},
   "outputs": [
    {
     "data": {
      "text/html": [
       "<svg  width=\"275\" height=\"55\"><rect x=\"0\" y=\"0\" width=\"55\" height=\"55\" style=\"fill:#7ba1c2;stroke-width:2;stroke:rgb(255,255,255)\"/><rect x=\"55\" y=\"0\" width=\"55\" height=\"55\" style=\"fill:#5e43a5;stroke-width:2;stroke:rgb(255,255,255)\"/><rect x=\"110\" y=\"0\" width=\"55\" height=\"55\" style=\"fill:#2f1436;stroke-width:2;stroke:rgb(255,255,255)\"/><rect x=\"165\" y=\"0\" width=\"55\" height=\"55\" style=\"fill:#8e2c50;stroke-width:2;stroke:rgb(255,255,255)\"/><rect x=\"220\" y=\"0\" width=\"55\" height=\"55\" style=\"fill:#c6896c;stroke-width:2;stroke:rgb(255,255,255)\"/></svg>"
      ],
      "text/plain": [
       "[(0.4828677867260272, 0.6304330455306234, 0.761915371498953),\n",
       " (0.3668108554010799, 0.26404857724525643, 0.6464799165290824),\n",
       " (0.18488035509396164, 0.07942573027972388, 0.21307651648984993),\n",
       " (0.5566322903496934, 0.17269677158182117, 0.31423043195101424),\n",
       " (0.775907907306857, 0.5355421788246119, 0.42413367909988375)]"
      ]
     },
     "execution_count": 3,
     "metadata": {},
     "output_type": "execute_result"
    }
   ],
   "source": [
    "morder = ['MIN', 'OVERFLOW', 'MIXOTROPH', 'EXOENZYME', 'ROS',]\n",
    "media_order = ['lowN', 'pro99']\n",
    "mpalette = 'twilight'\n",
    "sns.color_palette(mpalette, n_colors=5)"
   ]
  },
  {
   "cell_type": "code",
   "execution_count": 4,
   "id": "f48bfc00",
   "metadata": {},
   "outputs": [
    {
     "data": {
      "text/html": [
       "<svg  width=\"330\" height=\"55\"><rect x=\"0\" y=\"0\" width=\"55\" height=\"55\" style=\"fill:#66c2a5;stroke-width:2;stroke:rgb(255,255,255)\"/><rect x=\"55\" y=\"0\" width=\"55\" height=\"55\" style=\"fill:#fc8d62;stroke-width:2;stroke:rgb(255,255,255)\"/><rect x=\"110\" y=\"0\" width=\"55\" height=\"55\" style=\"fill:#8da0cb;stroke-width:2;stroke:rgb(255,255,255)\"/><rect x=\"165\" y=\"0\" width=\"55\" height=\"55\" style=\"fill:#e78ac3;stroke-width:2;stroke:rgb(255,255,255)\"/><rect x=\"220\" y=\"0\" width=\"55\" height=\"55\" style=\"fill:#000000;stroke-width:2;stroke:rgb(255,255,255)\"/><rect x=\"275\" y=\"0\" width=\"55\" height=\"55\" style=\"fill:#d3d3d3;stroke-width:2;stroke:rgb(255,255,255)\"/></svg>"
      ],
      "text/plain": [
       "[(0.4, 0.7607843137254902, 0.6470588235294118),\n",
       " (0.9882352941176471, 0.5529411764705883, 0.3843137254901961),\n",
       " (0.5529411764705883, 0.6274509803921569, 0.796078431372549),\n",
       " (0.9058823529411765, 0.5411764705882353, 0.7647058823529411),\n",
       " (0.0, 0.0, 0.0),\n",
       " (0.8274509803921568, 0.8274509803921568, 0.8274509803921568)]"
      ]
     },
     "execution_count": 4,
     "metadata": {},
     "output_type": "execute_result"
    }
   ],
   "source": [
    "gorder = [ 'Strong', 'Sustained', 'Weak', 'Inhibited','Axenic', 'Other']\n",
    "gpalette = sns.color_palette('Set2', n_colors=4).as_hex() + ['black', 'lightgrey']\n",
    "sns.color_palette(gpalette)"
   ]
  },
  {
   "cell_type": "code",
   "execution_count": 6,
   "id": "892eb424",
   "metadata": {},
   "outputs": [],
   "source": [
    "df_predicted_classes = pd.read_csv('monte_OVERFLOW_fix_predicted_classes.csv.gz')"
   ]
  },
  {
   "cell_type": "code",
   "execution_count": 7,
   "id": "db3b7532",
   "metadata": {},
   "outputs": [
    {
     "data": {
      "text/plain": [
       "Index(['run_id', 'y_pred', 'max_prob', 'idx', 'media', 'which', 'model',\n",
       "       'hash', 'VPRO', 'Unnamed: 0', 'Sample', 'full name', 'Group',\n",
       "       'RMSE_Bptotal[N]', 'RMSE_Bptotal[C]', 'compare_points', 'RMSE',\n",
       "       'RMSE_filled'],\n",
       "      dtype='object')"
      ]
     },
     "execution_count": 7,
     "metadata": {},
     "output_type": "execute_result"
    }
   ],
   "source": [
    "df_predicted_classes.columns\n",
    "# ['run_id', 'y_pred', 'max_prob', 'idx', 'media', 'which', 'model','hash']"
   ]
  },
  {
   "cell_type": "code",
   "execution_count": 8,
   "id": "48da0928",
   "metadata": {},
   "outputs": [
    {
     "data": {
      "text/plain": [
       "array(['monte_OVERFLOW_fix_OVERFLOW_100_monte_vpro_2_100_31_OVERFLOW_82_lowN_all_OVERFLOW_h6878164821315599434',\n",
       "       'monte_OVERFLOW_fix_OVERFLOW_100_monte_vpro_2_100_31_OVERFLOW_93_lowN_all_OVERFLOW_h6878164821315599434',\n",
       "       'monte_OVERFLOW_fix_OVERFLOW_100_monte_vpro_2_100_5_OVERFLOW_24_lowN_all_OVERFLOW_h6878164821315599434',\n",
       "       ...,\n",
       "       'monte_OVERFLOW_fix_OVERFLOW_9_monte_vpro_2_91_13_OVERFLOW_80_lowN_all_OVERFLOW_h6878164821315599434',\n",
       "       'monte_OVERFLOW_fix_OVERFLOW_9_monte_vpro_2_94_87_OVERFLOW_36_lowN_all_OVERFLOW_h6878164821315599434',\n",
       "       'monte_OVERFLOW_fix_OVERFLOW_9_monte_vpro_2_97_16_OVERFLOW_1_lowN_all_OVERFLOW_h6878164821315599434'],\n",
       "      dtype=object)"
      ]
     },
     "execution_count": 8,
     "metadata": {},
     "output_type": "execute_result"
    }
   ],
   "source": [
    "df_predicted_classes.run_id.unique()"
   ]
  },
  {
   "cell_type": "raw",
   "id": "e1d65fba",
   "metadata": {},
   "source": [
    "df_predicted_classes['VPRO'] = df_predicted_classes.run_id.str.replace(r'.*(vpro.*)_\\d+_lowN_.*',r'\\1', regex=True)"
   ]
  },
  {
   "cell_type": "code",
   "execution_count": 9,
   "id": "4fdebd0e",
   "metadata": {},
   "outputs": [],
   "source": [
    "df = df_predicted_classes"
   ]
  },
  {
   "cell_type": "code",
   "execution_count": 10,
   "id": "b9d712dc",
   "metadata": {},
   "outputs": [
    {
     "data": {
      "text/plain": [
       "Index(['run_id', 'y_pred', 'max_prob', 'idx', 'media', 'which', 'model',\n",
       "       'hash', 'VPRO', 'Unnamed: 0', 'Sample', 'full name', 'Group',\n",
       "       'RMSE_Bptotal[N]', 'RMSE_Bptotal[C]', 'compare_points', 'RMSE',\n",
       "       'RMSE_filled'],\n",
       "      dtype='object')"
      ]
     },
     "execution_count": 10,
     "metadata": {},
     "output_type": "execute_result"
    }
   ],
   "source": [
    "df.columns"
   ]
  },
  {
   "cell_type": "code",
   "execution_count": 11,
   "id": "eb009ec1",
   "metadata": {},
   "outputs": [
    {
     "data": {
      "text/html": [
       "<div>\n",
       "<style scoped>\n",
       "    .dataframe tbody tr th:only-of-type {\n",
       "        vertical-align: middle;\n",
       "    }\n",
       "\n",
       "    .dataframe tbody tr th {\n",
       "        vertical-align: top;\n",
       "    }\n",
       "\n",
       "    .dataframe thead th {\n",
       "        text-align: right;\n",
       "    }\n",
       "</style>\n",
       "<table border=\"1\" class=\"dataframe\">\n",
       "  <thead>\n",
       "    <tr style=\"text-align: right;\">\n",
       "      <th></th>\n",
       "      <th>run_id</th>\n",
       "      <th>y_pred</th>\n",
       "      <th>max_prob</th>\n",
       "      <th>idx</th>\n",
       "      <th>media</th>\n",
       "      <th>which</th>\n",
       "      <th>model</th>\n",
       "      <th>hash</th>\n",
       "      <th>VPRO</th>\n",
       "      <th>Unnamed: 0</th>\n",
       "      <th>Sample</th>\n",
       "      <th>full name</th>\n",
       "      <th>Group</th>\n",
       "      <th>RMSE_Bptotal[N]</th>\n",
       "      <th>RMSE_Bptotal[C]</th>\n",
       "      <th>compare_points</th>\n",
       "      <th>RMSE</th>\n",
       "      <th>RMSE_filled</th>\n",
       "    </tr>\n",
       "  </thead>\n",
       "  <tbody>\n",
       "    <tr>\n",
       "      <th>0</th>\n",
       "      <td>monte_OVERFLOW_fix_OVERFLOW_100_monte_vpro_2_1...</td>\n",
       "      <td>Weak</td>\n",
       "      <td>0.989954</td>\n",
       "      <td>monte_OVERFLOW_fix_OVERFLOW_100_monte_vpro_2_1...</td>\n",
       "      <td>lowN</td>\n",
       "      <td>all</td>\n",
       "      <td>OVERFLOW</td>\n",
       "      <td>h6878164821315599434</td>\n",
       "      <td>vpro_2_100_31_OVERFLOW</td>\n",
       "      <td>70865.0</td>\n",
       "      <td>10C0</td>\n",
       "      <td>Marinovum 5F3</td>\n",
       "      <td>Weak</td>\n",
       "      <td>3.045764</td>\n",
       "      <td>22.746265</td>\n",
       "      <td>74.0</td>\n",
       "      <td>69.279765</td>\n",
       "      <td>69.279765</td>\n",
       "    </tr>\n",
       "    <tr>\n",
       "      <th>1</th>\n",
       "      <td>monte_OVERFLOW_fix_OVERFLOW_100_monte_vpro_2_1...</td>\n",
       "      <td>Weak</td>\n",
       "      <td>0.990010</td>\n",
       "      <td>monte_OVERFLOW_fix_OVERFLOW_100_monte_vpro_2_1...</td>\n",
       "      <td>lowN</td>\n",
       "      <td>all</td>\n",
       "      <td>OVERFLOW</td>\n",
       "      <td>h6878164821315599434</td>\n",
       "      <td>vpro_2_100_31_OVERFLOW</td>\n",
       "      <td>55148.0</td>\n",
       "      <td>10C0</td>\n",
       "      <td>Marinovum 5F3</td>\n",
       "      <td>Weak</td>\n",
       "      <td>3.055595</td>\n",
       "      <td>23.774721</td>\n",
       "      <td>74.0</td>\n",
       "      <td>72.645929</td>\n",
       "      <td>72.645929</td>\n",
       "    </tr>\n",
       "    <tr>\n",
       "      <th>2</th>\n",
       "      <td>monte_OVERFLOW_fix_OVERFLOW_100_monte_vpro_2_1...</td>\n",
       "      <td>Axenic</td>\n",
       "      <td>0.800768</td>\n",
       "      <td>monte_OVERFLOW_fix_OVERFLOW_100_monte_vpro_2_1...</td>\n",
       "      <td>lowN</td>\n",
       "      <td>all</td>\n",
       "      <td>OVERFLOW</td>\n",
       "      <td>h6878164821315599434</td>\n",
       "      <td>vpro_2_100_5_OVERFLOW</td>\n",
       "      <td>299060.0</td>\n",
       "      <td>1C0</td>\n",
       "      <td>Axenic</td>\n",
       "      <td>Axenic</td>\n",
       "      <td>4.030727</td>\n",
       "      <td>18.886218</td>\n",
       "      <td>74.0</td>\n",
       "      <td>76.125190</td>\n",
       "      <td>76.125190</td>\n",
       "    </tr>\n",
       "    <tr>\n",
       "      <th>3</th>\n",
       "      <td>monte_OVERFLOW_fix_OVERFLOW_100_monte_vpro_2_1...</td>\n",
       "      <td>Weak</td>\n",
       "      <td>0.821818</td>\n",
       "      <td>monte_OVERFLOW_fix_OVERFLOW_100_monte_vpro_2_1...</td>\n",
       "      <td>lowN</td>\n",
       "      <td>all</td>\n",
       "      <td>OVERFLOW</td>\n",
       "      <td>h6878164821315599434</td>\n",
       "      <td>vpro_2_100_5_OVERFLOW</td>\n",
       "      <td>25781.0</td>\n",
       "      <td>10C0</td>\n",
       "      <td>Marinovum 5F3</td>\n",
       "      <td>Weak</td>\n",
       "      <td>5.319050</td>\n",
       "      <td>56.862859</td>\n",
       "      <td>74.0</td>\n",
       "      <td>302.456376</td>\n",
       "      <td>302.456376</td>\n",
       "    </tr>\n",
       "    <tr>\n",
       "      <th>4</th>\n",
       "      <td>monte_OVERFLOW_fix_OVERFLOW_100_monte_vpro_2_1...</td>\n",
       "      <td>Axenic</td>\n",
       "      <td>0.709254</td>\n",
       "      <td>monte_OVERFLOW_fix_OVERFLOW_100_monte_vpro_2_1...</td>\n",
       "      <td>lowN</td>\n",
       "      <td>all</td>\n",
       "      <td>OVERFLOW</td>\n",
       "      <td>h6878164821315599434</td>\n",
       "      <td>vpro_2_100_5_OVERFLOW</td>\n",
       "      <td>135650.0</td>\n",
       "      <td>1C0</td>\n",
       "      <td>Axenic</td>\n",
       "      <td>Axenic</td>\n",
       "      <td>4.367854</td>\n",
       "      <td>18.849859</td>\n",
       "      <td>74.0</td>\n",
       "      <td>82.333438</td>\n",
       "      <td>82.333438</td>\n",
       "    </tr>\n",
       "  </tbody>\n",
       "</table>\n",
       "</div>"
      ],
      "text/plain": [
       "                                              run_id  y_pred  max_prob  \\\n",
       "0  monte_OVERFLOW_fix_OVERFLOW_100_monte_vpro_2_1...    Weak  0.989954   \n",
       "1  monte_OVERFLOW_fix_OVERFLOW_100_monte_vpro_2_1...    Weak  0.990010   \n",
       "2  monte_OVERFLOW_fix_OVERFLOW_100_monte_vpro_2_1...  Axenic  0.800768   \n",
       "3  monte_OVERFLOW_fix_OVERFLOW_100_monte_vpro_2_1...    Weak  0.821818   \n",
       "4  monte_OVERFLOW_fix_OVERFLOW_100_monte_vpro_2_1...  Axenic  0.709254   \n",
       "\n",
       "                                                 idx media which     model  \\\n",
       "0  monte_OVERFLOW_fix_OVERFLOW_100_monte_vpro_2_1...  lowN   all  OVERFLOW   \n",
       "1  monte_OVERFLOW_fix_OVERFLOW_100_monte_vpro_2_1...  lowN   all  OVERFLOW   \n",
       "2  monte_OVERFLOW_fix_OVERFLOW_100_monte_vpro_2_1...  lowN   all  OVERFLOW   \n",
       "3  monte_OVERFLOW_fix_OVERFLOW_100_monte_vpro_2_1...  lowN   all  OVERFLOW   \n",
       "4  monte_OVERFLOW_fix_OVERFLOW_100_monte_vpro_2_1...  lowN   all  OVERFLOW   \n",
       "\n",
       "                   hash                    VPRO  Unnamed: 0 Sample  \\\n",
       "0  h6878164821315599434  vpro_2_100_31_OVERFLOW     70865.0   10C0   \n",
       "1  h6878164821315599434  vpro_2_100_31_OVERFLOW     55148.0   10C0   \n",
       "2  h6878164821315599434   vpro_2_100_5_OVERFLOW    299060.0    1C0   \n",
       "3  h6878164821315599434   vpro_2_100_5_OVERFLOW     25781.0   10C0   \n",
       "4  h6878164821315599434   vpro_2_100_5_OVERFLOW    135650.0    1C0   \n",
       "\n",
       "       full name   Group  RMSE_Bptotal[N]  RMSE_Bptotal[C]  compare_points  \\\n",
       "0  Marinovum 5F3    Weak         3.045764        22.746265            74.0   \n",
       "1  Marinovum 5F3    Weak         3.055595        23.774721            74.0   \n",
       "2         Axenic  Axenic         4.030727        18.886218            74.0   \n",
       "3  Marinovum 5F3    Weak         5.319050        56.862859            74.0   \n",
       "4         Axenic  Axenic         4.367854        18.849859            74.0   \n",
       "\n",
       "         RMSE  RMSE_filled  \n",
       "0   69.279765    69.279765  \n",
       "1   72.645929    72.645929  \n",
       "2   76.125190    76.125190  \n",
       "3  302.456376   302.456376  \n",
       "4   82.333438    82.333438  "
      ]
     },
     "execution_count": 11,
     "metadata": {},
     "output_type": "execute_result"
    }
   ],
   "source": [
    "df.head()"
   ]
  },
  {
   "cell_type": "code",
   "execution_count": 12,
   "id": "00b03091",
   "metadata": {},
   "outputs": [
    {
     "data": {
      "text/plain": [
       "<seaborn.axisgrid.FacetGrid at 0x7f9c0b9e3a50>"
      ]
     },
     "execution_count": 12,
     "metadata": {},
     "output_type": "execute_result"
    },
    {
     "data": {
      "image/png": "[encoded data removed]",
      "text/plain": [
       "<Figure size 2400x400 with 6 Axes>"
      ]
     },
     "metadata": {},
     "output_type": "display_data"
    }
   ],
   "source": [
    "g = sns.catplot(\n",
    "    data=df,\n",
    "    y='model', order=morder, \n",
    "    col='y_pred', col_order=gorder,\n",
    "    palette=mpalette, hue='model', hue_order=morder, dodge=False,\n",
    "    kind='count',\n",
    "    facet_kws=dict(sharex=False, margin_titles=True),\n",
    "    sharex=False,\n",
    "    #col_wrap=3,\n",
    "    legend=False,\n",
    "    #aspect=2,\n",
    ")\n",
    "g.set_titles(col_template='{col_name}', row_template='{row_name}')\n",
    "g.set(xscale='log')\n",
    "#g.set_xticklabels(rotation=30)"
   ]
  },
  {
   "cell_type": "code",
   "execution_count": null,
   "id": "e2af1d8c",
   "metadata": {},
   "outputs": [],
   "source": []
  },
  {
   "cell_type": "code",
   "execution_count": 13,
   "id": "90906e3a",
   "metadata": {},
   "outputs": [
    {
     "data": {
      "text/html": [
       "<div>\n",
       "<style scoped>\n",
       "    .dataframe tbody tr th:only-of-type {\n",
       "        vertical-align: middle;\n",
       "    }\n",
       "\n",
       "    .dataframe tbody tr th {\n",
       "        vertical-align: top;\n",
       "    }\n",
       "\n",
       "    .dataframe thead th {\n",
       "        text-align: right;\n",
       "    }\n",
       "</style>\n",
       "<table border=\"1\" class=\"dataframe\">\n",
       "  <thead>\n",
       "    <tr style=\"text-align: right;\">\n",
       "      <th>y_pred</th>\n",
       "      <th>Strong</th>\n",
       "      <th>Sustained</th>\n",
       "      <th>Weak</th>\n",
       "      <th>Inhibited</th>\n",
       "      <th>Axenic</th>\n",
       "      <th>Other</th>\n",
       "    </tr>\n",
       "    <tr>\n",
       "      <th>model</th>\n",
       "      <th></th>\n",
       "      <th></th>\n",
       "      <th></th>\n",
       "      <th></th>\n",
       "      <th></th>\n",
       "      <th></th>\n",
       "    </tr>\n",
       "  </thead>\n",
       "  <tbody>\n",
       "    <tr>\n",
       "      <th>MIN</th>\n",
       "      <td>NaN</td>\n",
       "      <td>NaN</td>\n",
       "      <td>NaN</td>\n",
       "      <td>NaN</td>\n",
       "      <td>NaN</td>\n",
       "      <td>NaN</td>\n",
       "    </tr>\n",
       "    <tr>\n",
       "      <th>OVERFLOW</th>\n",
       "      <td>5.0</td>\n",
       "      <td>238.0</td>\n",
       "      <td>3832.0</td>\n",
       "      <td>31.0</td>\n",
       "      <td>5370.0</td>\n",
       "      <td>359.0</td>\n",
       "    </tr>\n",
       "    <tr>\n",
       "      <th>MIXOTROPH</th>\n",
       "      <td>NaN</td>\n",
       "      <td>NaN</td>\n",
       "      <td>NaN</td>\n",
       "      <td>NaN</td>\n",
       "      <td>NaN</td>\n",
       "      <td>NaN</td>\n",
       "    </tr>\n",
       "    <tr>\n",
       "      <th>EXOENZYME</th>\n",
       "      <td>NaN</td>\n",
       "      <td>NaN</td>\n",
       "      <td>NaN</td>\n",
       "      <td>NaN</td>\n",
       "      <td>NaN</td>\n",
       "      <td>NaN</td>\n",
       "    </tr>\n",
       "    <tr>\n",
       "      <th>ROS</th>\n",
       "      <td>NaN</td>\n",
       "      <td>NaN</td>\n",
       "      <td>NaN</td>\n",
       "      <td>NaN</td>\n",
       "      <td>NaN</td>\n",
       "      <td>NaN</td>\n",
       "    </tr>\n",
       "  </tbody>\n",
       "</table>\n",
       "</div>"
      ],
      "text/plain": [
       "y_pred     Strong  Sustained    Weak  Inhibited  Axenic  Other\n",
       "model                                                         \n",
       "MIN           NaN        NaN     NaN        NaN     NaN    NaN\n",
       "OVERFLOW      5.0      238.0  3832.0       31.0  5370.0  359.0\n",
       "MIXOTROPH     NaN        NaN     NaN        NaN     NaN    NaN\n",
       "EXOENZYME     NaN        NaN     NaN        NaN     NaN    NaN\n",
       "ROS           NaN        NaN     NaN        NaN     NaN    NaN"
      ]
     },
     "execution_count": 13,
     "metadata": {},
     "output_type": "execute_result"
    }
   ],
   "source": [
    "df.pivot_table(index='model', columns='y_pred', values='run_id', aggfunc='count', fill_value=0).reindex(index=morder, columns=gorder)"
   ]
  },
  {
   "cell_type": "code",
   "execution_count": 14,
   "id": "a3dbdbde",
   "metadata": {},
   "outputs": [
    {
     "data": {
      "text/plain": [
       "count     55.000000\n",
       "mean     178.818182\n",
       "std       12.165663\n",
       "min      144.000000\n",
       "25%      170.500000\n",
       "50%      180.000000\n",
       "75%      187.000000\n",
       "max      203.000000\n",
       "dtype: float64"
      ]
     },
     "execution_count": 14,
     "metadata": {},
     "output_type": "execute_result"
    }
   ],
   "source": [
    "df.groupby(['model', 'VPRO']).size().describe()"
   ]
  },
  {
   "cell_type": "code",
   "execution_count": 15,
   "id": "e880d709",
   "metadata": {},
   "outputs": [
    {
     "data": {
      "text/plain": [
       "model     y_pred                            \n",
       "OVERFLOW  Axenic                                 1\n",
       "          Axenic,Inhibited,Weak                  1\n",
       "          Axenic,Other,Sustained,Strong,Weak     1\n",
       "          Axenic,Other,Weak                      3\n",
       "          Axenic,Other,Weak,Sustained            1\n",
       "          Axenic,Sustained,Other,Weak            3\n",
       "          Axenic,Sustained,Other,Weak,Strong     1\n",
       "          Axenic,Sustained,Weak,Other            1\n",
       "          Axenic,Weak                           10\n",
       "          Axenic,Weak,Other                      3\n",
       "          Axenic,Weak,Other,Sustained            3\n",
       "          Axenic,Weak,Sustained                  1\n",
       "          Axenic,Weak,Sustained,Other            2\n",
       "          Weak                                   4\n",
       "          Weak,Axenic                            5\n",
       "          Weak,Axenic,Other                      1\n",
       "          Weak,Axenic,Other,Sustained            2\n",
       "          Weak,Axenic,Sustained                  4\n",
       "          Weak,Axenic,Sustained,Other            2\n",
       "          Weak,Other,Axenic                      1\n",
       "          Weak,Other,Axenic,Sustained            1\n",
       "          Weak,Other,Sustained,Axenic            1\n",
       "          Weak,Sustained,Axenic,Other            2\n",
       "          Weak,Sustained,Other                   1\n",
       "dtype: int64"
      ]
     },
     "execution_count": 15,
     "metadata": {},
     "output_type": "execute_result"
    }
   ],
   "source": [
    "df.groupby(['model', 'VPRO']).y_pred.unique().str.join(',').reset_index().groupby(['model','y_pred']).size().tail(50)"
   ]
  },
  {
   "cell_type": "code",
   "execution_count": 16,
   "id": "759554c6",
   "metadata": {
    "scrolled": false
   },
   "outputs": [
    {
     "data": {
      "image/png": "[encoded data removed]",
      "text/plain": [
       "<Figure size 1200x400 with 1 Axes>"
      ]
     },
     "metadata": {},
     "output_type": "display_data"
    }
   ],
   "source": [
    "#fig, axs = plt.subplots(2, sharey=True, figsize=(10,5))\n",
    "for i,m in enumerate(['OVERFLOW']):\n",
    "        t = df.loc[\n",
    "            df.model.isin([m]) #& df.VPRO_cluster.isin([c])\n",
    "            #df.Group.isin(glist)\n",
    "        ].copy()\n",
    "        if t.shape[0]>0:\n",
    "            tnumdf = t.pivot_table(\n",
    "                index='VPRO', columns='y_pred', values='model', aggfunc='count', fill_value=0\n",
    "            )\n",
    "            #tnumdf = tnumdf.clip(lower=5)\n",
    "            tnumdf = tnumdf.reindex(columns=gorder)\n",
    "            tnumdf = tnumdf.sort_values(by=list(tnumdf.columns.to_list()), ascending=False)\n",
    "            t['VPRO_'] = pd.Categorical(t['VPRO'], tnumdf.index)\n",
    "            g = sns.displot(\n",
    "                data=t, lw=0.3,\n",
    "                hue='y_pred', x='VPRO_',  discrete=True, multiple='stack',\n",
    "                #hue_order=[gorder[-1]] + gorder[:-1], palette=[gpalette[-1]] + gpalette[:-1],\n",
    "                hue_order=reversed(gorder), palette=reversed(gpalette),\n",
    "                #ax=axs[i], \n",
    "                aspect=3,\n",
    "                legend=False,\n",
    "                \n",
    "                       )\n",
    "#         axs[i].set_xticks([])\n",
    "#         axs[i].set_yticks([0,200,400])\n",
    "#         axs[i].set_xlabel('')\n",
    "            plt.title(m)\n",
    "#         sns.despine()\n",
    "            g.set(xticklabels=[])\n",
    "\n",
    "            #g.set_titles(col_template='{col_name}', row_template='{row_name}')\n",
    "            #axs[i,j].set_title(f'{m} {c}')\n"
   ]
  },
  {
   "cell_type": "code",
   "execution_count": 17,
   "id": "7613087e",
   "metadata": {
    "scrolled": false
   },
   "outputs": [
    {
     "data": {
      "image/png": "[encoded data removed]",
      "text/plain": [
       "<Figure size 800x400 with 2 Axes>"
      ]
     },
     "metadata": {},
     "output_type": "display_data"
    }
   ],
   "source": [
    "fig, axs = plt.subplots(2, sharey=True, figsize=(10,5))\n",
    "for i,m in enumerate(['OVERFLOW']):\n",
    "        t = df.loc[\n",
    "            df.model.isin([m]) #& df.VPRO_cluster.isin([c])\n",
    "            #df.Group.isin(glist)\n",
    "        ].copy()\n",
    "        if t.shape[0]>0:\n",
    "            tnumdf = t.pivot_table(\n",
    "                index='VPRO', columns='y_pred', values='model', aggfunc='count', fill_value=0\n",
    "            ).reindex(columns=[ 'Axenic','Weak',  'Sustained','Strong',   'Inhibited','Other', ])\n",
    "            #tnumdf['total'] = tnumdf.sum(axis=1)        \n",
    "            tnumdf = tnumdf.sort_values(by=list(reversed(tnumdf.columns.to_list())))\n",
    "            t['VPRO_'] = pd.Categorical(t['VPRO'], reversed(tnumdf.index))\n",
    "            g = sns.histplot(\n",
    "                data=t, lw=0.3,\n",
    "                hue='y_pred', x='VPRO_',  discrete=True, multiple='stack',\n",
    "                hue_order=[gorder[-1]] + gorder[:-1], palette=[gpalette[-1]] + gpalette[:-1],\n",
    "                ax=axs[i], \n",
    "                #aspect=1,\n",
    "                legend=False,\n",
    "                       )\n",
    "        axs[i].set_xticks([])\n",
    "        axs[i].set_yticks([0,200,400])\n",
    "        axs[i].set_xlabel('')\n",
    "        axs[i].set_title(m, y=0.85)\n",
    "        sns.despine()\n",
    "            #g.set(xticklabels=[])\n",
    "            #g.set_titles(col_template='{col_name}', row_template='{row_name}')\n",
    "            #axs[i,j].set_title(f'{m} {c}')\n",
    "plt.show()\n"
   ]
  },
  {
   "cell_type": "code",
   "execution_count": null,
   "id": "b15e8b14",
   "metadata": {},
   "outputs": [],
   "source": []
  },
  {
   "cell_type": "code",
   "execution_count": null,
   "id": "18e0bfe8",
   "metadata": {},
   "outputs": [],
   "source": []
  }
 ],
 "metadata": {
  "kernelspec": {
   "display_name": "Python 3 (ipykernel)",
   "language": "python",
   "name": "python3"
  },
  "language_info": {
   "codemirror_mode": {
    "name": "ipython",
    "version": 3
   },
   "file_extension": ".py",
   "mimetype": "text/x-python",
   "name": "python",
   "nbconvert_exporter": "python",
   "pygments_lexer": "ipython3",
   "version": "3.11.4"
  }
 },
 "nbformat": 4,
 "nbformat_minor": 5
}
