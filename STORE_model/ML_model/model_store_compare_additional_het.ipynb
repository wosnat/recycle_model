{
 "cells": [
  {
   "cell_type": "code",
   "execution_count": 1,
   "id": "98b7e0d5",
   "metadata": {},
   "outputs": [],
   "source": [
    "import itertools\n",
    "import sys, os\n",
    "\n",
    "import numpy as np\n",
    "import pandas as pd\n",
    "from scipy.special import comb\n",
    "from scipy import stats\n",
    "import scipy.cluster.hierarchy as hac\n",
    "import matplotlib.pyplot as plt\n",
    "plt.style.use('classic')\n",
    "%matplotlib inline\n",
    "import numpy as np\n",
    "import pandas as pd\n",
    "import seaborn as sns\n",
    "from sklearn.decomposition import PCA\n",
    "from sklearn.preprocessing import StandardScaler\n",
    "from sklearn import metrics\n",
    "import statsmodels.api as sm\n",
    "\n",
    "sns.set(rc={'figure.figsize':(15,8)})\n",
    "sns.set_context('poster')\n",
    "sns.set_style('white')\n",
    "#plt.rcParams[\"figure.dpi\"] = 600\n",
    "from sklearn.model_selection import train_test_split"
   ]
  },
  {
   "cell_type": "code",
   "execution_count": 2,
   "id": "2ea6f7ea",
   "metadata": {},
   "outputs": [],
   "source": [
    "corder = ['C1', 'C2', 'C3', 'C4', 'C0']"
   ]
  },
  {
   "cell_type": "code",
   "execution_count": 3,
   "id": "2e6f27c3",
   "metadata": {},
   "outputs": [
    {
     "data": {
      "text/html": [
       "<svg  width=\"275\" height=\"55\"><rect x=\"0\" y=\"0\" width=\"55\" height=\"55\" style=\"fill:#7ba1c2;stroke-width:2;stroke:rgb(255,255,255)\"/><rect x=\"55\" y=\"0\" width=\"55\" height=\"55\" style=\"fill:#5e43a5;stroke-width:2;stroke:rgb(255,255,255)\"/><rect x=\"110\" y=\"0\" width=\"55\" height=\"55\" style=\"fill:#2f1436;stroke-width:2;stroke:rgb(255,255,255)\"/><rect x=\"165\" y=\"0\" width=\"55\" height=\"55\" style=\"fill:#8e2c50;stroke-width:2;stroke:rgb(255,255,255)\"/><rect x=\"220\" y=\"0\" width=\"55\" height=\"55\" style=\"fill:#c6896c;stroke-width:2;stroke:rgb(255,255,255)\"/></svg>"
      ],
      "text/plain": [
       "[(0.4828677867260272, 0.6304330455306234, 0.761915371498953),\n",
       " (0.3668108554010799, 0.26404857724525643, 0.6464799165290824),\n",
       " (0.18488035509396164, 0.07942573027972388, 0.21307651648984993),\n",
       " (0.5566322903496934, 0.17269677158182117, 0.31423043195101424),\n",
       " (0.775907907306857, 0.5355421788246119, 0.42413367909988375)]"
      ]
     },
     "execution_count": 3,
     "metadata": {},
     "output_type": "execute_result"
    }
   ],
   "source": [
    "morder = ['MIN', 'OVERFLOW', 'MIXOTROPH', 'EXOENZYME', 'ROS',]\n",
    "media_order = ['lowN', 'pro99']\n",
    "mpalette = 'twilight'\n",
    "sns.color_palette(mpalette, n_colors=5)"
   ]
  },
  {
   "cell_type": "code",
   "execution_count": 4,
   "id": "f48bfc00",
   "metadata": {},
   "outputs": [
    {
     "data": {
      "text/html": [
       "<svg  width=\"330\" height=\"55\"><rect x=\"0\" y=\"0\" width=\"55\" height=\"55\" style=\"fill:#66c2a5;stroke-width:2;stroke:rgb(255,255,255)\"/><rect x=\"55\" y=\"0\" width=\"55\" height=\"55\" style=\"fill:#fc8d62;stroke-width:2;stroke:rgb(255,255,255)\"/><rect x=\"110\" y=\"0\" width=\"55\" height=\"55\" style=\"fill:#8da0cb;stroke-width:2;stroke:rgb(255,255,255)\"/><rect x=\"165\" y=\"0\" width=\"55\" height=\"55\" style=\"fill:#e78ac3;stroke-width:2;stroke:rgb(255,255,255)\"/><rect x=\"220\" y=\"0\" width=\"55\" height=\"55\" style=\"fill:#000000;stroke-width:2;stroke:rgb(255,255,255)\"/><rect x=\"275\" y=\"0\" width=\"55\" height=\"55\" style=\"fill:#d3d3d3;stroke-width:2;stroke:rgb(255,255,255)\"/></svg>"
      ],
      "text/plain": [
       "[(0.4, 0.7607843137254902, 0.6470588235294118),\n",
       " (0.9882352941176471, 0.5529411764705883, 0.3843137254901961),\n",
       " (0.5529411764705883, 0.6274509803921569, 0.796078431372549),\n",
       " (0.9058823529411765, 0.5411764705882353, 0.7647058823529411),\n",
       " (0.0, 0.0, 0.0),\n",
       " (0.8274509803921568, 0.8274509803921568, 0.8274509803921568)]"
      ]
     },
     "execution_count": 4,
     "metadata": {},
     "output_type": "execute_result"
    }
   ],
   "source": [
    "gorder = [ 'Strong', 'Sustained', 'Weak', 'Inhibited','Axenic', 'Other']\n",
    "gpalette = sns.color_palette('Set2', n_colors=4).as_hex() + ['black', 'lightgrey']\n",
    "sns.color_palette(gpalette)"
   ]
  },
  {
   "cell_type": "code",
   "execution_count": 5,
   "id": "892eb424",
   "metadata": {},
   "outputs": [],
   "source": [
    "df_predicted_classes = pd.read_csv('monte_add_het_predicted_classes.csv.gz')"
   ]
  },
  {
   "cell_type": "code",
   "execution_count": 6,
   "id": "db3b7532",
   "metadata": {},
   "outputs": [
    {
     "data": {
      "text/plain": [
       "Index(['run_id', 'y_pred', 'max_prob', 'idx', 'media', 'which', 'model',\n",
       "       'hash'],\n",
       "      dtype='object')"
      ]
     },
     "execution_count": 6,
     "metadata": {},
     "output_type": "execute_result"
    }
   ],
   "source": [
    "df_predicted_classes.columns\n",
    "# ['run_id', 'y_pred', 'max_prob', 'idx', 'media', 'which', 'model','hash']"
   ]
  },
  {
   "cell_type": "code",
   "execution_count": 10,
   "id": "48da0928",
   "metadata": {},
   "outputs": [
    {
     "data": {
      "text/plain": [
       "array(['monteadd2_EXOENZYME_13_monte_vpro_11_62_EXOENZYME_C1_20_38_lowN_all_EXOENZYME_h8519271514136708373',\n",
       "       'monteadd2_EXOENZYME_13_monte_vpro_11_62_EXOENZYME_C1_22_48_lowN_all_EXOENZYME_h8519271514136708373',\n",
       "       'monteadd2_EXOENZYME_13_monte_vpro_11_62_EXOENZYME_C1_54_56_lowN_all_EXOENZYME_h8519271514136708373',\n",
       "       ...,\n",
       "       'monteadd_ROS_9_monte_vpro_19_33_ROS_C0_980_59_lowN_all_ROS_h-8660846992299669535',\n",
       "       'monteadd_ROS_9_monte_vpro_19_33_ROS_C0_994_14_lowN_all_ROS_h-8660846992299669535',\n",
       "       'monteadd_ROS_9_monte_vpro_19_33_ROS_C0_999_26_lowN_all_ROS_h-8660846992299669535'],\n",
       "      dtype=object)"
      ]
     },
     "execution_count": 10,
     "metadata": {},
     "output_type": "execute_result"
    }
   ],
   "source": [
    "df_predicted_classes.run_id.unique()"
   ]
  },
  {
   "cell_type": "code",
   "execution_count": 30,
   "id": "79f7f66f",
   "metadata": {},
   "outputs": [],
   "source": [
    "df_predicted_classes['VPRO'] = df_predicted_classes.run_id.str.replace(r'.*(vpro.*)_\\d+_lowN_.*',r'\\1', regex=True)"
   ]
  },
  {
   "cell_type": "code",
   "execution_count": 31,
   "id": "4fdebd0e",
   "metadata": {},
   "outputs": [],
   "source": [
    "df = df_predicted_classes"
   ]
  },
  {
   "cell_type": "code",
   "execution_count": 14,
   "id": "b9d712dc",
   "metadata": {},
   "outputs": [
    {
     "data": {
      "text/plain": [
       "Index(['run_id', 'y_pred', 'max_prob', 'idx', 'media', 'which', 'model',\n",
       "       'hash', 'VPRO'],\n",
       "      dtype='object')"
      ]
     },
     "execution_count": 14,
     "metadata": {},
     "output_type": "execute_result"
    }
   ],
   "source": [
    "df.columns"
   ]
  },
  {
   "cell_type": "code",
   "execution_count": 15,
   "id": "eb009ec1",
   "metadata": {},
   "outputs": [
    {
     "data": {
      "text/html": [
       "<div>\n",
       "<style scoped>\n",
       "    .dataframe tbody tr th:only-of-type {\n",
       "        vertical-align: middle;\n",
       "    }\n",
       "\n",
       "    .dataframe tbody tr th {\n",
       "        vertical-align: top;\n",
       "    }\n",
       "\n",
       "    .dataframe thead th {\n",
       "        text-align: right;\n",
       "    }\n",
       "</style>\n",
       "<table border=\"1\" class=\"dataframe\">\n",
       "  <thead>\n",
       "    <tr style=\"text-align: right;\">\n",
       "      <th></th>\n",
       "      <th>run_id</th>\n",
       "      <th>y_pred</th>\n",
       "      <th>max_prob</th>\n",
       "      <th>idx</th>\n",
       "      <th>media</th>\n",
       "      <th>which</th>\n",
       "      <th>model</th>\n",
       "      <th>hash</th>\n",
       "      <th>VPRO</th>\n",
       "    </tr>\n",
       "  </thead>\n",
       "  <tbody>\n",
       "    <tr>\n",
       "      <th>0</th>\n",
       "      <td>monteadd2_EXOENZYME_13_monte_vpro_11_62_EXOENZ...</td>\n",
       "      <td>Weak</td>\n",
       "      <td>0.989477</td>\n",
       "      <td>monteadd2_EXOENZYME_13_monte_vpro_11_62_EXOENZ...</td>\n",
       "      <td>lowN</td>\n",
       "      <td>all</td>\n",
       "      <td>EXOENZYME</td>\n",
       "      <td>h8519271514136708373</td>\n",
       "      <td>vpro_11_62_EXOENZYME_C1_20_38</td>\n",
       "    </tr>\n",
       "    <tr>\n",
       "      <th>1</th>\n",
       "      <td>monteadd2_EXOENZYME_13_monte_vpro_11_62_EXOENZ...</td>\n",
       "      <td>Weak</td>\n",
       "      <td>0.989400</td>\n",
       "      <td>monteadd2_EXOENZYME_13_monte_vpro_11_62_EXOENZ...</td>\n",
       "      <td>lowN</td>\n",
       "      <td>all</td>\n",
       "      <td>EXOENZYME</td>\n",
       "      <td>h8519271514136708373</td>\n",
       "      <td>vpro_11_62_EXOENZYME_C1_22_48</td>\n",
       "    </tr>\n",
       "    <tr>\n",
       "      <th>2</th>\n",
       "      <td>monteadd2_EXOENZYME_13_monte_vpro_11_62_EXOENZ...</td>\n",
       "      <td>Other</td>\n",
       "      <td>0.528581</td>\n",
       "      <td>monteadd2_EXOENZYME_13_monte_vpro_11_62_EXOENZ...</td>\n",
       "      <td>lowN</td>\n",
       "      <td>all</td>\n",
       "      <td>EXOENZYME</td>\n",
       "      <td>h8519271514136708373</td>\n",
       "      <td>vpro_11_62_EXOENZYME_C1_54_56</td>\n",
       "    </tr>\n",
       "    <tr>\n",
       "      <th>3</th>\n",
       "      <td>monteadd2_EXOENZYME_13_monte_vpro_11_62_EXOENZ...</td>\n",
       "      <td>Axenic</td>\n",
       "      <td>0.624934</td>\n",
       "      <td>monteadd2_EXOENZYME_13_monte_vpro_11_62_EXOENZ...</td>\n",
       "      <td>lowN</td>\n",
       "      <td>all</td>\n",
       "      <td>EXOENZYME</td>\n",
       "      <td>h8519271514136708373</td>\n",
       "      <td>vpro_11_62_EXOENZYME_C1_94_13</td>\n",
       "    </tr>\n",
       "    <tr>\n",
       "      <th>4</th>\n",
       "      <td>monteadd2_EXOENZYME_13_monte_vpro_13_69_EXOENZ...</td>\n",
       "      <td>Axenic</td>\n",
       "      <td>0.968536</td>\n",
       "      <td>monteadd2_EXOENZYME_13_monte_vpro_13_69_EXOENZ...</td>\n",
       "      <td>lowN</td>\n",
       "      <td>all</td>\n",
       "      <td>EXOENZYME</td>\n",
       "      <td>h8519271514136708373</td>\n",
       "      <td>vpro_13_69_EXOENZYME_C1_28_83</td>\n",
       "    </tr>\n",
       "  </tbody>\n",
       "</table>\n",
       "</div>"
      ],
      "text/plain": [
       "                                              run_id  y_pred  max_prob  \\\n",
       "0  monteadd2_EXOENZYME_13_monte_vpro_11_62_EXOENZ...    Weak  0.989477   \n",
       "1  monteadd2_EXOENZYME_13_monte_vpro_11_62_EXOENZ...    Weak  0.989400   \n",
       "2  monteadd2_EXOENZYME_13_monte_vpro_11_62_EXOENZ...   Other  0.528581   \n",
       "3  monteadd2_EXOENZYME_13_monte_vpro_11_62_EXOENZ...  Axenic  0.624934   \n",
       "4  monteadd2_EXOENZYME_13_monte_vpro_13_69_EXOENZ...  Axenic  0.968536   \n",
       "\n",
       "                                                 idx media which      model  \\\n",
       "0  monteadd2_EXOENZYME_13_monte_vpro_11_62_EXOENZ...  lowN   all  EXOENZYME   \n",
       "1  monteadd2_EXOENZYME_13_monte_vpro_11_62_EXOENZ...  lowN   all  EXOENZYME   \n",
       "2  monteadd2_EXOENZYME_13_monte_vpro_11_62_EXOENZ...  lowN   all  EXOENZYME   \n",
       "3  monteadd2_EXOENZYME_13_monte_vpro_11_62_EXOENZ...  lowN   all  EXOENZYME   \n",
       "4  monteadd2_EXOENZYME_13_monte_vpro_13_69_EXOENZ...  lowN   all  EXOENZYME   \n",
       "\n",
       "                   hash                           VPRO  \n",
       "0  h8519271514136708373  vpro_11_62_EXOENZYME_C1_20_38  \n",
       "1  h8519271514136708373  vpro_11_62_EXOENZYME_C1_22_48  \n",
       "2  h8519271514136708373  vpro_11_62_EXOENZYME_C1_54_56  \n",
       "3  h8519271514136708373  vpro_11_62_EXOENZYME_C1_94_13  \n",
       "4  h8519271514136708373  vpro_13_69_EXOENZYME_C1_28_83  "
      ]
     },
     "execution_count": 15,
     "metadata": {},
     "output_type": "execute_result"
    }
   ],
   "source": [
    "df.head()"
   ]
  },
  {
   "cell_type": "code",
   "execution_count": 18,
   "id": "00b03091",
   "metadata": {},
   "outputs": [
    {
     "data": {
      "text/plain": [
       "<seaborn.axisgrid.FacetGrid at 0x7fb7a2f7c590>"
      ]
     },
     "execution_count": 18,
     "metadata": {},
     "output_type": "execute_result"
    },
    {
     "data": {
      "image/png": "[encoded data removed]",
      "text/plain": [
       "<Figure size 2400x400 with 6 Axes>"
      ]
     },
     "metadata": {},
     "output_type": "display_data"
    }
   ],
   "source": [
    "g = sns.catplot(\n",
    "    data=df,\n",
    "    y='model', order=morder, \n",
    "    col='y_pred', col_order=gorder,\n",
    "    palette=mpalette, hue='model', hue_order=morder, dodge=False,\n",
    "    kind='count',\n",
    "    facet_kws=dict(sharex=False, margin_titles=True),\n",
    "    sharex=False,\n",
    "    #col_wrap=3,\n",
    "    legend=False,\n",
    "    #aspect=2,\n",
    ")\n",
    "g.set_titles(col_template='{col_name}', row_template='{row_name}')\n",
    "g.set(xscale='log')\n",
    "#g.set_xticklabels(rotation=30)"
   ]
  },
  {
   "cell_type": "code",
   "execution_count": null,
   "id": "e2af1d8c",
   "metadata": {},
   "outputs": [],
   "source": []
  },
  {
   "cell_type": "code",
   "execution_count": 19,
   "id": "90906e3a",
   "metadata": {},
   "outputs": [
    {
     "data": {
      "text/html": [
       "<div>\n",
       "<style scoped>\n",
       "    .dataframe tbody tr th:only-of-type {\n",
       "        vertical-align: middle;\n",
       "    }\n",
       "\n",
       "    .dataframe tbody tr th {\n",
       "        vertical-align: top;\n",
       "    }\n",
       "\n",
       "    .dataframe thead th {\n",
       "        text-align: right;\n",
       "    }\n",
       "</style>\n",
       "<table border=\"1\" class=\"dataframe\">\n",
       "  <thead>\n",
       "    <tr style=\"text-align: right;\">\n",
       "      <th>y_pred</th>\n",
       "      <th>Strong</th>\n",
       "      <th>Sustained</th>\n",
       "      <th>Weak</th>\n",
       "      <th>Inhibited</th>\n",
       "      <th>Axenic</th>\n",
       "      <th>Other</th>\n",
       "    </tr>\n",
       "    <tr>\n",
       "      <th>model</th>\n",
       "      <th></th>\n",
       "      <th></th>\n",
       "      <th></th>\n",
       "      <th></th>\n",
       "      <th></th>\n",
       "      <th></th>\n",
       "    </tr>\n",
       "  </thead>\n",
       "  <tbody>\n",
       "    <tr>\n",
       "      <th>MIN</th>\n",
       "      <td>NaN</td>\n",
       "      <td>NaN</td>\n",
       "      <td>NaN</td>\n",
       "      <td>NaN</td>\n",
       "      <td>NaN</td>\n",
       "      <td>NaN</td>\n",
       "    </tr>\n",
       "    <tr>\n",
       "      <th>OVERFLOW</th>\n",
       "      <td>NaN</td>\n",
       "      <td>NaN</td>\n",
       "      <td>NaN</td>\n",
       "      <td>NaN</td>\n",
       "      <td>NaN</td>\n",
       "      <td>NaN</td>\n",
       "    </tr>\n",
       "    <tr>\n",
       "      <th>MIXOTROPH</th>\n",
       "      <td>NaN</td>\n",
       "      <td>NaN</td>\n",
       "      <td>NaN</td>\n",
       "      <td>NaN</td>\n",
       "      <td>NaN</td>\n",
       "      <td>NaN</td>\n",
       "    </tr>\n",
       "    <tr>\n",
       "      <th>EXOENZYME</th>\n",
       "      <td>90.0</td>\n",
       "      <td>1369.0</td>\n",
       "      <td>2568.0</td>\n",
       "      <td>1.0</td>\n",
       "      <td>4939.0</td>\n",
       "      <td>906.0</td>\n",
       "    </tr>\n",
       "    <tr>\n",
       "      <th>ROS</th>\n",
       "      <td>2866.0</td>\n",
       "      <td>140.0</td>\n",
       "      <td>2790.0</td>\n",
       "      <td>3.0</td>\n",
       "      <td>740.0</td>\n",
       "      <td>3341.0</td>\n",
       "    </tr>\n",
       "  </tbody>\n",
       "</table>\n",
       "</div>"
      ],
      "text/plain": [
       "y_pred     Strong  Sustained    Weak  Inhibited  Axenic   Other\n",
       "model                                                          \n",
       "MIN           NaN        NaN     NaN        NaN     NaN     NaN\n",
       "OVERFLOW      NaN        NaN     NaN        NaN     NaN     NaN\n",
       "MIXOTROPH     NaN        NaN     NaN        NaN     NaN     NaN\n",
       "EXOENZYME    90.0     1369.0  2568.0        1.0  4939.0   906.0\n",
       "ROS        2866.0      140.0  2790.0        3.0   740.0  3341.0"
      ]
     },
     "execution_count": 19,
     "metadata": {},
     "output_type": "execute_result"
    }
   ],
   "source": [
    "df.pivot_table(index='model', columns='y_pred', values='run_id', aggfunc='count', fill_value=0).reindex(index=morder, columns=gorder)"
   ]
  },
  {
   "cell_type": "code",
   "execution_count": 29,
   "id": "a3dbdbde",
   "metadata": {},
   "outputs": [
    {
     "data": {
      "text/plain": [
       "count    15868.000000\n",
       "mean         1.244832\n",
       "std          0.526348\n",
       "min          1.000000\n",
       "25%          1.000000\n",
       "50%          1.000000\n",
       "75%          1.000000\n",
       "max          6.000000\n",
       "dtype: float64"
      ]
     },
     "execution_count": 29,
     "metadata": {},
     "output_type": "execute_result"
    }
   ],
   "source": [
    "df.groupby(['model', 'VPRO']).size().describe()"
   ]
  },
  {
   "cell_type": "code",
   "execution_count": 22,
   "id": "e880d709",
   "metadata": {},
   "outputs": [
    {
     "data": {
      "text/plain": [
       "model      y_pred                \n",
       "EXOENZYME  Sustained,Axenic            47\n",
       "           Sustained,Axenic,Other       2\n",
       "           Sustained,Other             28\n",
       "           Sustained,Strong             6\n",
       "           Sustained,Weak              21\n",
       "           Weak                      2118\n",
       "           Weak,Axenic                 64\n",
       "           Weak,Other                  11\n",
       "           Weak,Sustained              17\n",
       "           Weak,Sustained,Axenic        2\n",
       "           Weak,Sustained,Other         1\n",
       "ROS        Axenic                     498\n",
       "           Axenic,Other                39\n",
       "           Axenic,Other,Strong          2\n",
       "           Axenic,Strong                7\n",
       "           Axenic,Sustained             1\n",
       "           Axenic,Weak                 14\n",
       "           Axenic,Weak,Other            1\n",
       "           Inhibited                    3\n",
       "           Other                     2149\n",
       "           Other,Axenic                30\n",
       "           Other,Axenic,Strong          1\n",
       "           Other,Strong               209\n",
       "           Other,Strong,Axenic          1\n",
       "           Other,Strong,Sustained       1\n",
       "           Other,Sustained              6\n",
       "           Other,Sustained,Axenic       2\n",
       "           Other,Sustained,Strong       2\n",
       "           Other,Weak                  33\n",
       "           Other,Weak,Strong            2\n",
       "           Strong                    1858\n",
       "           Strong,Axenic               10\n",
       "           Strong,Axenic,Other          1\n",
       "           Strong,Other               222\n",
       "           Strong,Other,Weak            2\n",
       "           Strong,Sustained            25\n",
       "           Strong,Sustained,Weak        1\n",
       "           Strong,Weak                 13\n",
       "           Strong,Weak,Other            4\n",
       "           Sustained                   65\n",
       "           Sustained,Other             13\n",
       "           Sustained,Other,Strong       3\n",
       "           Sustained,Strong            14\n",
       "           Sustained,Strong,Other       3\n",
       "           Sustained,Weak               2\n",
       "           Weak                      1985\n",
       "           Weak,Axenic                 17\n",
       "           Weak,Other                  30\n",
       "           Weak,Strong                 15\n",
       "           Weak,Sustained               1\n",
       "dtype: int64"
      ]
     },
     "execution_count": 22,
     "metadata": {},
     "output_type": "execute_result"
    }
   ],
   "source": [
    "df.groupby(['model', 'VPRO']).y_pred.unique().str.join(',').reset_index().groupby(['model','y_pred']).size().tail(50)"
   ]
  },
  {
   "cell_type": "code",
   "execution_count": 36,
   "id": "759554c6",
   "metadata": {
    "scrolled": false
   },
   "outputs": [
    {
     "data": {
      "image/png": "[encoded data removed]",
      "text/plain": [
       "<Figure size 1200x400 with 1 Axes>"
      ]
     },
     "metadata": {},
     "output_type": "display_data"
    },
    {
     "data": {
      "image/png": "[encoded data removed]",
      "text/plain": [
       "<Figure size 1200x400 with 1 Axes>"
      ]
     },
     "metadata": {},
     "output_type": "display_data"
    }
   ],
   "source": [
    "#fig, axs = plt.subplots(2, sharey=True, figsize=(10,5))\n",
    "for i,m in enumerate(['EXOENZYME', 'ROS']):\n",
    "        t = df.loc[\n",
    "            df.model.isin([m]) #& df.VPRO_cluster.isin([c])\n",
    "            #df.Group.isin(glist)\n",
    "        ].copy()\n",
    "        if t.shape[0]>0:\n",
    "            tnumdf = t.pivot_table(\n",
    "                index='VPRO', columns='y_pred', values='model', aggfunc='count', fill_value=0\n",
    "            )\n",
    "            #tnumdf = tnumdf.clip(lower=5)\n",
    "            tnumdf = tnumdf.reindex(columns=gorder)\n",
    "            tnumdf = tnumdf.sort_values(by=list(tnumdf.columns.to_list()), ascending=False)\n",
    "            t['VPRO_'] = pd.Categorical(t['VPRO'], tnumdf.index)\n",
    "            g = sns.displot(\n",
    "                data=t, lw=0.3,\n",
    "                hue='y_pred', x='VPRO_',  discrete=True, multiple='stack',\n",
    "                #hue_order=[gorder[-1]] + gorder[:-1], palette=[gpalette[-1]] + gpalette[:-1],\n",
    "                hue_order=reversed(gorder), palette=reversed(gpalette),\n",
    "                #ax=axs[i], \n",
    "                aspect=3,\n",
    "                legend=False,\n",
    "                \n",
    "                       )\n",
    "#         axs[i].set_xticks([])\n",
    "#         axs[i].set_yticks([0,200,400])\n",
    "#         axs[i].set_xlabel('')\n",
    "            plt.title(m)\n",
    "#         sns.despine()\n",
    "            g.set(xticklabels=[])\n",
    "\n",
    "            #g.set_titles(col_template='{col_name}', row_template='{row_name}')\n",
    "            #axs[i,j].set_title(f'{m} {c}')\n"
   ]
  },
  {
   "cell_type": "code",
   "execution_count": null,
   "id": "7613087e",
   "metadata": {
    "scrolled": false
   },
   "outputs": [],
   "source": [
    "fig, axs = plt.subplots(2, sharey=True, figsize=(10,5))\n",
    "for i,m in enumerate(['EXOENZYME', 'ROS']):\n",
    "        t = df.loc[\n",
    "            df.model.isin([m]) #& df.VPRO_cluster.isin([c])\n",
    "            #df.Group.isin(glist)\n",
    "        ].copy()\n",
    "        if t.shape[0]>0:\n",
    "            tnumdf = t.pivot_table(\n",
    "                index='VPRO', columns='y_pred', values='model', aggfunc='count', fill_value=0\n",
    "            ).reindex(columns=[ 'Axenic','Weak',  'Sustained','Strong',   'Inhibited','Other', ])\n",
    "            #tnumdf['total'] = tnumdf.sum(axis=1)        \n",
    "            tnumdf = tnumdf.sort_values(by=list(reversed(tnumdf.columns.to_list())))\n",
    "            t['VPRO_'] = pd.Categorical(t['VPRO'], reversed(tnumdf.index))\n",
    "            g = sns.histplot(\n",
    "                data=t, lw=0.3,\n",
    "                hue='y_pred', x='VPRO_',  discrete=True, multiple='stack',\n",
    "                hue_order=[gorder[-1]] + gorder[:-1], palette=[gpalette[-1]] + gpalette[:-1],\n",
    "                ax=axs[i], \n",
    "                #aspect=1,\n",
    "                legend=False,\n",
    "                       )\n",
    "        axs[i].set_xticks([])\n",
    "        axs[i].set_yticks([0,200,400])\n",
    "        axs[i].set_xlabel('')\n",
    "        axs[i].set_title(m, y=0.85)\n",
    "        sns.despine()\n",
    "            #g.set(xticklabels=[])\n",
    "            #g.set_titles(col_template='{col_name}', row_template='{row_name}')\n",
    "            #axs[i,j].set_title(f'{m} {c}')\n",
    "plt.show()\n"
   ]
  },
  {
   "cell_type": "code",
   "execution_count": null,
   "id": "b15e8b14",
   "metadata": {},
   "outputs": [],
   "source": []
  },
  {
   "cell_type": "code",
   "execution_count": null,
   "id": "18e0bfe8",
   "metadata": {},
   "outputs": [],
   "source": []
  }
 ],
 "metadata": {
  "kernelspec": {
   "display_name": "Python 3 (ipykernel)",
   "language": "python",
   "name": "python3"
  },
  "language_info": {
   "codemirror_mode": {
    "name": "ipython",
    "version": 3
   },
   "file_extension": ".py",
   "mimetype": "text/x-python",
   "name": "python",
   "nbconvert_exporter": "python",
   "pygments_lexer": "ipython3",
   "version": "3.11.4"
  }
 },
 "nbformat": 4,
 "nbformat_minor": 5
}
