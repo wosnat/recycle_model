{
 "cells": [
  {
   "cell_type": "code",
   "execution_count": null,
   "id": "0b5df45e",
   "metadata": {},
   "outputs": [],
   "source": [
    "import numpy as np\n",
    "import pandas as pd\n",
    "import matplotlib.pyplot as plt\n",
    "import seaborn as sns\n",
    "sns.set(style=\"white\", context='poster')\n",
    "import math"
   ]
  },
  {
   "cell_type": "code",
   "execution_count": null,
   "id": "6a2b0a82",
   "metadata": {},
   "outputs": [],
   "source": [
    "from scipy import stats"
   ]
  },
  {
   "cell_type": "code",
   "execution_count": null,
   "id": "4d435a10",
   "metadata": {},
   "outputs": [],
   "source": [
    "%load_ext autoreload\n",
    "%autoreload 2\n"
   ]
  },
  {
   "cell_type": "code",
   "execution_count": null,
   "id": "047a0867",
   "metadata": {},
   "outputs": [],
   "source": [
    "#from model_equations_separate_NC import *\n",
    "from model_equations_separate_NC_store_numba import *\n"
   ]
  },
  {
   "cell_type": "code",
   "execution_count": null,
   "id": "57109cb7-be73-4270-868e-7c1971fb6895",
   "metadata": {},
   "outputs": [],
   "source": [
    "gpalette = ['#332288', '#117733', '#44AA99', '#88CCEE', '#DDCC77', '#CC6677', '#AA4499', '#882255']\n",
    "gpalette1 = [\n",
    "    '#882255',\n",
    " #'#AA4499',\n",
    " '#CC6677',\n",
    " '#DDCC77',\n",
    " '#88CCEE',\n",
    " '#44AA99',\n",
    "# '#117733',\n",
    " '#332288'\n",
    "]\n",
    "sns.color_palette(gpalette)"
   ]
  },
  {
   "cell_type": "code",
   "execution_count": null,
   "id": "912d25d5-6889-40ef-9554-10671f675415",
   "metadata": {},
   "outputs": [],
   "source": [
    "\n",
    "\n",
    "sns.color_palette(gpalette1)"
   ]
  },
  {
   "cell_type": "code",
   "execution_count": null,
   "id": "67d02192-9933-4508-83bb-30cb779c8367",
   "metadata": {},
   "outputs": [],
   "source": [
    "list(reversed(gpalette))"
   ]
  },
  {
   "cell_type": "code",
   "execution_count": null,
   "id": "cb0123d0",
   "metadata": {},
   "outputs": [],
   "source": [
    "corder = ['C1', 'C2', 'C3', 'C4', 'C0']"
   ]
  },
  {
   "cell_type": "code",
   "execution_count": null,
   "id": "6df9ae5e",
   "metadata": {},
   "outputs": [],
   "source": [
    "morder = ['MIN', 'OVERFLOW', 'MIXOTROPH', 'EXOENZYME', 'ROS',]\n",
    "media_order = ['lowN', 'pro99']\n",
    "mpalette = 'twilight'\n",
    "mpalette = sns.color_palette(mpalette, n_colors=5)\n",
    "morder = morder[3:]\n",
    "mpalette = mpalette[3:]\n",
    "sns.color_palette(mpalette)"
   ]
  },
  {
   "cell_type": "raw",
   "id": "5235150b-4e6c-4bf5-a457-e93366a2380a",
   "metadata": {},
   "source": [
    "gorder = [ 'Strong', 'Sustained', 'Weak', 'Inhibited','Axenic' , 'Other']\n",
    "gpalette = sns.color_palette('Set2', n_colors=4).as_hex() + ['black' , 'lightgrey']\n",
    "sns.color_palette(gpalette)"
   ]
  },
  {
   "cell_type": "code",
   "execution_count": null,
   "id": "2baacfb3-e7f8-4167-bbdc-2c6901842522",
   "metadata": {},
   "outputs": [],
   "source": [
    "gorder = [ 'Strong', 'Sustained', 'Inhibited', 'Weak', 'Axenic',   'Other']\n",
    "gpalette = sns.color_palette('Set2', n_colors=4).as_hex() + ['black', 'lightgrey']\n",
    "gpalette = ['#882255', '#CC6677', '#332288', \n",
    "             '#44AA99','#88CCEE',\n",
    "            '#D0CFCA',  ]\n",
    "\n",
    "sns.color_palette(gpalette)"
   ]
  },
  {
   "cell_type": "code",
   "execution_count": null,
   "id": "29512801",
   "metadata": {},
   "outputs": [],
   "source": [
    "\n",
    "#HCOLOR = '#ffc58f'\n",
    "HCOLOR = '#ff7e06'\n",
    "HCOLOR = '#FF912B'\n",
    " \n",
    "HCOLOR_light = '#FFB876'\n",
    "HCOLOR_light2 = '#e4d96f'\n",
    "\n",
    "PCOLOR = '#5A9F68'\n",
    "PCOLOR_light = '#99cc99'\n",
    "PCOLOR_light2 = '#99ee99'\n",
    "\n",
    "DONCOLOR = '#7285b7'\n",
    "RDONCOLOR = 'black' #'#00334D'\n",
    "DINCOLOR = '#bbdaff' #'#000066'\n",
    "\n",
    "DOCCOLOR = '#cc6666'\n",
    "RDOCCOLOR = 'black' #'#00334D'\n",
    "DICCOLOR = '#ff9da4' #'#000066'\n",
    "\n",
    "SHCOLOR = '#ffa98f'\n",
    "SPCOLOR = '#326232'\n",
    "\n",
    "\n",
    "ccnpalette = [PCOLOR, PCOLOR_light, HCOLOR, HCOLOR_light, SPCOLOR, SHCOLOR,DONCOLOR, RDONCOLOR, DINCOLOR]\n",
    "ccnorder = ['Bp', 'Np', 'Bh','Nh',  'ABp', 'ABh', 'DON', 'RDON', 'DIN', ]\n",
    "cccpalette = [PCOLOR, PCOLOR_light, HCOLOR, HCOLOR_light, SPCOLOR, SHCOLOR, DOCCOLOR, RDOCCOLOR, DICCOLOR]\n",
    "cccorder = ['Bp[C]', 'Cp', 'Bh[C]', 'Ch', 'ABp[C]', 'ABh[C]', 'DOC', 'RDOC', 'DIC']\n",
    "ccxpalette = [PCOLOR, HCOLOR]\n",
    "ccxorder = ['Xp', 'Xh']\n",
    "hnpalette = [ HCOLOR_light, SPCOLOR, SHCOLOR, DONCOLOR, RDONCOLOR, DINCOLOR]\n",
    "hnorder = [ 'Bh', 'ABp', 'ABh', 'DON', 'RDON', 'DIN']\n",
    "hcpalette = [ HCOLOR_light, SPCOLOR, SHCOLOR, DOCCOLOR, RDOCCOLOR, DICCOLOR]\n",
    "hcorder = [ 'Bh[C]', 'ABp[C]', 'ABh[C]', 'DOC', 'RDOC', 'DIC']\n",
    "pnpalette = [ PCOLOR_light, SPCOLOR, SHCOLOR, DONCOLOR, RDONCOLOR, DINCOLOR]\n",
    "pnorder = [ 'Bp', 'ABp', 'ABh', 'DON', 'RDON', 'DIN']\n",
    "pcpalette = [ PCOLOR_light, SPCOLOR, SHCOLOR, DOCCOLOR, RDOCCOLOR, DICCOLOR]\n",
    "pcorder = [ 'Bp[C]', 'ABp[C]', 'ABh[C]', 'DOC', 'RDOC', 'DIC']\n",
    "sns.color_palette(ccnpalette + cccpalette, )\n",
    "# \n"
   ]
  },
  {
   "cell_type": "code",
   "execution_count": null,
   "id": "0d088251",
   "metadata": {},
   "outputs": [],
   "source": [
    "sns.color_palette([PCOLOR, PCOLOR_light, PCOLOR_light2,HCOLOR, '#9C6938',HCOLOR_light, HCOLOR_light2])"
   ]
  },
  {
   "cell_type": "code",
   "execution_count": null,
   "id": "73abd3d8",
   "metadata": {},
   "outputs": [],
   "source": [
    "sns.color_palette(['#C23210', '#D65F59', '#FF8A83', '#f3958f', '#9C6938', HCOLOR])"
   ]
  },
  {
   "cell_type": "code",
   "execution_count": null,
   "id": "c93a5978",
   "metadata": {},
   "outputs": [],
   "source": [
    "sns.color_palette('summer')"
   ]
  },
  {
   "cell_type": "code",
   "execution_count": null,
   "id": "aed92fd5",
   "metadata": {},
   "outputs": [],
   "source": [
    "sns.palettes.QUAL_PALETTES"
   ]
  },
  {
   "cell_type": "code",
   "execution_count": null,
   "id": "698592e4",
   "metadata": {},
   "outputs": [],
   "source": [
    "HCOLOR"
   ]
  },
  {
   "cell_type": "code",
   "execution_count": null,
   "id": "1aa81fa9",
   "metadata": {},
   "outputs": [],
   "source": [
    "ccnorder = ['Bp', 'Np','Bh',  'Nh', 'DIN','DON',  'RDON', ]\n",
    "ccnpalette = [PCOLOR, PCOLOR_light, HCOLOR, HCOLOR_light,DINCOLOR, DONCOLOR, RDONCOLOR, ]\n",
    "\n",
    "#Hex Codes: #262842, #293961, #2C497F, #8897BD, #E3E4FA\n",
    "#Hex Codes: #49593C, #945C39, #DF5F35, #EF9E84, #FFE3D1\n",
    "#Hex Codes: #5E1525, #C74F29, #E99E46, #B6C38D, #828144\n",
    "#Hex Codes: #094A25, #0C6B37, #F8B324, #EB442C, #BC2023\n",
    "#Hex Codes: #344E41, #3A5A40, #588157, #5A9F68, #BBD58E\n",
    "ccnpalette = [PCOLOR, PCOLOR_light, HCOLOR, HCOLOR_light,  '#4651a9', '#749BC2', '#91C8E4']\n",
    "#ccnpalette = ['#828144', '#B6C38D', '#E99E46', '#E7BB96', '#262842', '#2C497F', '#8897BD']\n",
    "cccorder = ['Bp[C]', 'Cp','Bh[C]',  'Ch', 'DIC','DOC',  'RDOC', ]\n",
    "cccpalette = [PCOLOR, PCOLOR_light, HCOLOR, HCOLOR_light,DICCOLOR, DOCCOLOR, RDOCCOLOR, ]\n",
    "#Hex Codes: #49593C, #945C39, #DF5F35, #EF9E84, #FFE3D1\n",
    "cccpalette = [PCOLOR, PCOLOR_light, HCOLOR, HCOLOR_light, '#C23210', '#D65F59', '#FF8A83']\n",
    "\n"
   ]
  },
  {
   "cell_type": "code",
   "execution_count": null,
   "id": "8742659c",
   "metadata": {},
   "outputs": [],
   "source": [
    "cccorder3 = ['Bp[C]', 'Cp','Bh[C]',  'Ch','DOC',  'RDOC', ]\n",
    "#cccpalette = [PCOLOR, PCOLOR_light, HCOLOR, HCOLOR_light,DICCOLOR, DOCCOLOR, RDOCCOLOR, ]\n",
    "#Hex Codes: #49593C, #945C39, #DF5F35, #EF9E84, #FFE3D1\n",
    "cccpalette3 = [PCOLOR, PCOLOR_light, HCOLOR, HCOLOR_light, '#D65F59', '#FF8A83']\n"
   ]
  },
  {
   "cell_type": "code",
   "execution_count": null,
   "id": "84eb18b3",
   "metadata": {},
   "outputs": [],
   "source": [
    "ccnorder1 = ['Bptotal[N]', 'Bhtotal[N]', 'DIN','DON',  'RDON', ]\n",
    "#ccnpalette1 = ['#3A5A40', '#D4AF37',  '#262842', '#2C497F', '#8897BD']\n",
    "#ccnpalette1 = ['#3A5A40', '#D4AF37',  '#4651a9', '#749BC2', '#91C8E4']\n",
    "ccnpalette1 = [PCOLOR,HCOLOR,  '#4651a9', '#749BC2', '#91C8E4']\n",
    "ccnpalette12 = [PCOLOR_light,HCOLOR_light,  '#4651a9', '#749BC2', '#91C8E4']\n",
    "\n",
    "cccorder1 = ['Bptotal[C]', 'Bhtotal[C]', 'DIC','DOC',  'RDOC', ]\n",
    "cccpalette1 = [PCOLOR,HCOLOR,  '#C23210', '#D65F59', '#FF8A83']\n",
    "cccpalette12 = [PCOLOR_light,HCOLOR_light,  '#C23210', '#D65F59', '#FF8A83']\n",
    "\n",
    "cccorder2 = ['Bptotal[C]', 'Bhtotal[C]', 'DOC',  'RDOC', ]\n",
    "cccpalette2 = [PCOLOR,HCOLOR,  '#D65F59', '#FF8A83']\n",
    "cccpalette22 = [PCOLOR_light,HCOLOR_light,  '#D65F59', '#FF8A83']\n",
    "\n",
    "sns.color_palette(cccpalette1)"
   ]
  },
  {
   "cell_type": "code",
   "execution_count": null,
   "id": "041f9573",
   "metadata": {},
   "outputs": [],
   "source": [
    "\n",
    " \n",
    "sns.color_palette([PCOLOR, HCOLOR, PCOLOR_light, HCOLOR_light] )\n"
   ]
  },
  {
   "cell_type": "code",
   "execution_count": null,
   "id": "10f7a882",
   "metadata": {},
   "outputs": [],
   "source": [
    "refdf = pd.read_excel('ML_model/reference_final.xlsx')"
   ]
  },
  {
   "cell_type": "code",
   "execution_count": null,
   "id": "5ba784b1",
   "metadata": {},
   "outputs": [],
   "source": [
    "dpath = '/fast_data/Osnat/RECYCLE_MODEL/results/shgo2/out'\n",
    "dpath = 'results'"
   ]
  },
  {
   "cell_type": "code",
   "execution_count": null,
   "id": "d516a829",
   "metadata": {},
   "outputs": [],
   "source": [
    "os.listdir('ML_model')"
   ]
  },
  {
   "cell_type": "code",
   "execution_count": null,
   "id": "323f8a48",
   "metadata": {},
   "outputs": [],
   "source": [
    "os.listdir(dpath)"
   ]
  },
  {
   "cell_type": "code",
   "execution_count": null,
   "id": "5254812c",
   "metadata": {},
   "outputs": [],
   "source": [
    "dpath = 'results'\n",
    "sim_df = pd.read_csv(os.path.join(dpath,'monte_add_het_clean_df.csv.gz',))\n",
    "sum_df = pd.read_csv(os.path.join(dpath,'monte_add_het_clean_sum.csv.gz',))\n",
    "# sim_df = pd.concat([\n",
    "#     sim_df1,\n",
    "#     sim_df2,\n",
    "# ])"
   ]
  },
  {
   "cell_type": "code",
   "execution_count": null,
   "id": "4be67ac6",
   "metadata": {},
   "outputs": [],
   "source": [
    "dpath = 'results'\n",
    "psim_df = pd.read_csv(os.path.join(dpath,'monte2_ponly_df.csv.gz',))\n",
    "psum_df = pd.read_csv(os.path.join(dpath,'monte2_ponly_sum.csv.gz',))\n",
    "pmse_df = pd.read_csv(os.path.join(dpath,'monte2_ponly_mse.csv.gz',))\n",
    "# sim_df = pd.concat([\n",
    "#     sim_df1,\n",
    "#     sim_df2,\n",
    "# ])"
   ]
  },
  {
   "cell_type": "code",
   "execution_count": null,
   "id": "c04ac921",
   "metadata": {},
   "outputs": [],
   "source": [
    "minmse_df = pd.read_csv('ML_model/monte_add_het_predicted_classes.csv.gz',)\n",
    "\n"
   ]
  },
  {
   "cell_type": "code",
   "execution_count": null,
   "id": "78e0c8e9",
   "metadata": {},
   "outputs": [],
   "source": [
    "pminmse_df = pd.read_csv('ML_model/monte_add_ponly_predicted_classes.csv.gz',)\n",
    "\n"
   ]
  },
  {
   "cell_type": "code",
   "execution_count": null,
   "id": "b5eae045",
   "metadata": {},
   "outputs": [],
   "source": [
    "minmse_df"
   ]
  },
  {
   "cell_type": "code",
   "execution_count": null,
   "id": "931bf4df",
   "metadata": {},
   "outputs": [],
   "source": [
    "# this notebook deals with ROS simulations\n",
    "model = 'OVERFLOW'"
   ]
  },
  {
   "cell_type": "code",
   "execution_count": null,
   "id": "261e4ed0",
   "metadata": {},
   "outputs": [],
   "source": [
    "minmse_df = minmse_df.loc[minmse_df.model.isin([model])]"
   ]
  },
  {
   "cell_type": "code",
   "execution_count": null,
   "id": "09de9eb5",
   "metadata": {},
   "outputs": [],
   "source": [
    "pminmse_df = pminmse_df.loc[pminmse_df.model.isin([model])]"
   ]
  },
  {
   "cell_type": "code",
   "execution_count": null,
   "id": "f3ad5dad",
   "metadata": {},
   "outputs": [],
   "source": [
    "\n",
    "vdf = minmse_df.pivot_table(index=['model','VPRO'], columns='y_pred', values='RMSE_filled', aggfunc='count', fill_value=0)"
   ]
  },
  {
   "cell_type": "code",
   "execution_count": null,
   "id": "4fd4f99f",
   "metadata": {},
   "outputs": [],
   "source": [
    "minmse_df.groupby('VPRO').y_pred.nunique().sort_values().tail(180)\n"
   ]
  },
  {
   "cell_type": "code",
   "execution_count": null,
   "id": "bf6b514d",
   "metadata": {},
   "outputs": [],
   "source": [
    "vdf['number_of_phenotypes'] =(vdf[gorder] != 0).sum(axis=1)\n",
    "vdf['number_of_phenotypes_ge3'] =(vdf[gorder] > 3).sum(axis=1)\n",
    "vdf['mean_number_per_phenotypes'] = vdf[gorder].mean(axis=1)"
   ]
  },
  {
   "cell_type": "code",
   "execution_count": null,
   "id": "e937b5f5",
   "metadata": {},
   "outputs": [],
   "source": [
    "vdf = vdf.reset_index()"
   ]
  },
  {
   "cell_type": "code",
   "execution_count": null,
   "id": "95ac1d9d",
   "metadata": {},
   "outputs": [],
   "source": [
    "vdf.describe()"
   ]
  },
  {
   "cell_type": "code",
   "execution_count": null,
   "id": "37471497",
   "metadata": {},
   "outputs": [],
   "source": [
    "vdf.loc[vdf.number_of_phenotypes_ge3.ge(4)].nlargest(20, 'mean_number_per_phenotypes')"
   ]
  },
  {
   "cell_type": "code",
   "execution_count": null,
   "id": "4381c199",
   "metadata": {},
   "outputs": [],
   "source": [
    "vdf.nlargest(20, 'Inhibited')"
   ]
  },
  {
   "cell_type": "raw",
   "id": "0a9fcb06",
   "metadata": {},
   "source": [
    "vpro_name = 'vpro_19_33_ROS_C0_1010'\n",
    "vpro_name = 'vpro_19_33_ROS_C0_78'\n",
    "vpro_name = 'vpro_19_33_ROS_C0_1023'\n",
    "\n"
   ]
  },
  {
   "cell_type": "raw",
   "id": "4c946b75",
   "metadata": {},
   "source": [
    "vdf.loc[vdf.VPRO.isin([vpro_name])]"
   ]
  },
  {
   "cell_type": "raw",
   "id": "a918ddfc",
   "metadata": {},
   "source": [
    "rminmse_df = minmse_df.loc[minmse_df.VPRO.isin([vpro_name])].reset_index()\n",
    "#rminmse_df = rminmse_df.loc[rminmse_df.groupby(['model','y_pred'])['RMSE_filled'].idxmin()]\n",
    "\n",
    "rminmse_df"
   ]
  },
  {
   "cell_type": "raw",
   "id": "815096f6",
   "metadata": {},
   "source": [
    "rpminmse_df = pminmse_df.loc[pminmse_df.VPRO.isin([vpro_name])].reset_index()\n",
    "\n",
    "rpminmse_df"
   ]
  },
  {
   "cell_type": "raw",
   "id": "ec0112e6",
   "metadata": {},
   "source": [
    "rminmse_df = minmse_df.loc[minmse_df.VPRO.isin([vpro_name])].reset_index()\n",
    "rminmse_df = rminmse_df.loc[rminmse_df.groupby(['model','y_pred'])['max_prob'].idxmax()]\n",
    "\n",
    "rminmse_df"
   ]
  },
  {
   "cell_type": "code",
   "execution_count": null,
   "id": "1b62badd",
   "metadata": {},
   "outputs": [],
   "source": [
    "minmse_df.model.unique()"
   ]
  },
  {
   "cell_type": "code",
   "execution_count": null,
   "id": "c763b254",
   "metadata": {},
   "outputs": [],
   "source": []
  },
  {
   "cell_type": "code",
   "execution_count": null,
   "id": "8f668871",
   "metadata": {},
   "outputs": [],
   "source": [
    "sim_df = sim_df.loc[sim_df.run_id.isin(minmse_df.run_id)].copy()\n",
    "pim_df = psim_df.loc[psim_df.run_id.isin(pminmse_df.run_id)].copy()\n"
   ]
  },
  {
   "cell_type": "code",
   "execution_count": null,
   "id": "5367f364",
   "metadata": {},
   "outputs": [],
   "source": [
    "rsum_df = sum_df.loc[sum_df.run_id.isin(minmse_df.run_id)].copy()"
   ]
  },
  {
   "cell_type": "code",
   "execution_count": null,
   "id": "7d596bff",
   "metadata": {},
   "outputs": [],
   "source": [
    "rpsum_df = psum_df.loc[psum_df.run_id.isin(pminmse_df.run_id)].copy()\n",
    "rpsum_df"
   ]
  },
  {
   "cell_type": "code",
   "execution_count": null,
   "id": "cbd10111",
   "metadata": {},
   "outputs": [],
   "source": [
    "sim_df.run_id.unique()"
   ]
  },
  {
   "cell_type": "code",
   "execution_count": null,
   "id": "605cf4b1",
   "metadata": {},
   "outputs": [],
   "source": [
    "pdf = psim_df.reset_index(drop=True)"
   ]
  },
  {
   "cell_type": "code",
   "execution_count": null,
   "id": "bc2f8934",
   "metadata": {},
   "outputs": [],
   "source": [
    "df = sim_df.reset_index(drop=True)"
   ]
  },
  {
   "cell_type": "code",
   "execution_count": null,
   "id": "9fd2922e",
   "metadata": {},
   "outputs": [],
   "source": [
    "df = pd.merge(df, minmse_df[['run_id', 'y_pred', 'Sample']], on='run_id')\n",
    "pdf = pd.merge(pdf, pmse_df[['run_id', 'Sample']], on='run_id')"
   ]
  },
  {
   "cell_type": "code",
   "execution_count": null,
   "id": "baec0e7a",
   "metadata": {},
   "outputs": [],
   "source": [
    "pdf['y_pred'] = 'Ctrl'"
   ]
  },
  {
   "cell_type": "code",
   "execution_count": null,
   "id": "f728656d",
   "metadata": {},
   "outputs": [],
   "source": [
    "pdf.columns"
   ]
  },
  {
   "cell_type": "code",
   "execution_count": null,
   "id": "1adbdf92",
   "metadata": {},
   "outputs": [],
   "source": [
    "df = df.drop(columns=['Unnamed: 0'])"
   ]
  },
  {
   "cell_type": "code",
   "execution_count": null,
   "id": "08f4bd93",
   "metadata": {},
   "outputs": [],
   "source": [
    "df.columns"
   ]
  },
  {
   "cell_type": "code",
   "execution_count": null,
   "id": "aabb58db",
   "metadata": {},
   "outputs": [],
   "source": []
  },
  {
   "cell_type": "code",
   "execution_count": null,
   "id": "76444b57",
   "metadata": {},
   "outputs": [],
   "source": [
    "mdf = df.melt(id_vars=['run_id', 'y_pred', 'Sample', 't', 'day'])"
   ]
  },
  {
   "cell_type": "raw",
   "id": "345b24e0",
   "metadata": {},
   "source": [
    "mpdf = pdf.melt(id_vars=['run_id', 'y_pred', 'Sample', 't', 'day'])"
   ]
  },
  {
   "cell_type": "raw",
   "id": "289f2600",
   "metadata": {},
   "source": [
    "mdf = pd.concat([mpdf, mdf], ignore_index=True)"
   ]
  },
  {
   "cell_type": "code",
   "execution_count": null,
   "id": "915264c4",
   "metadata": {},
   "outputs": [],
   "source": [
    "mdf"
   ]
  },
  {
   "cell_type": "code",
   "execution_count": null,
   "id": "bbf79b52",
   "metadata": {},
   "outputs": [],
   "source": [
    "mdf.variable.unique()"
   ]
  },
  {
   "cell_type": "code",
   "execution_count": null,
   "id": "9393f615",
   "metadata": {},
   "outputs": [],
   "source": [
    "# change from per sec to per day\n",
    "per_sec_vars = [\n",
    " 'gross_uptakeINp', 'gross_uptakeONp', 'gross_uptakeICp',\n",
    "       'gross_uptakeOCp', 'uptakeNp', 'uptakeCp',  'biosynthesisNp',\n",
    "       'respirationCp', 'biomass_breakdownCp', 'overflowNp', 'overflowCp',\n",
    "       'ROSproductionp', 'ROSlossp',\n",
    "       'deathbiomassNp', 'deathstoreNp', 'deathstoreCp', 'DON2DIN_exop',\n",
    "       'DON2DIN', 'additionalLossRatep', 'deathC_DOCp',\n",
    "       'deathN_DONp',\n",
    "       'gross_uptakeINh', 'gross_uptakeONh', 'gross_uptakeICh',\n",
    "       'gross_uptakeOCh', 'uptakeNh', 'uptakeCh', 'biosynthesisNh',\n",
    "       'respirationCh', 'biomass_breakdownCh', 'overflowNh', 'overflowCh',\n",
    "       'ROSproductionh', 'ROSlossh',\n",
    "       'deathbiomassNh', 'deathstoreNh', 'deathstoreCh', 'DON2DIN_exoh',\n",
    "       'additionalLossRateh',  'deathC_DOCh', 'deathN_DONh',\n",
    "\n",
    "]\n",
    "mask = mdf.variable.isin(per_sec_vars)\n",
    "mdf.loc[mask, 'value'] = mdf.loc[mask, 'value'] * seconds_in_day"
   ]
  },
  {
   "cell_type": "code",
   "execution_count": null,
   "id": "2eb7f964",
   "metadata": {},
   "outputs": [],
   "source": [
    "mdf['Strain'] = 'N/A'\n",
    "mdf.loc[mdf.variable.str.endswith('p'), 'Strain'] = 'PRO'\n",
    "mdf.loc[mdf.variable.str.endswith('h'), 'Strain'] = 'HET'\n",
    "mdf.loc[mdf.variable.str.startswith('Bp'), 'Strain'] = 'PRO'\n",
    "mdf.loc[mdf.variable.str.startswith('Bh'), 'Strain'] = 'HET'\n",
    "mdf['var'] = mdf['variable'].str[:-1]\n"
   ]
  },
  {
   "cell_type": "code",
   "execution_count": null,
   "id": "8ed1c3cc",
   "metadata": {},
   "outputs": [],
   "source": [
    "gorder"
   ]
  },
  {
   "cell_type": "raw",
   "id": "e3759df6",
   "metadata": {},
   "source": [
    "gorder1 = ['Ctrl', 'Strong', 'Sustained', 'Weak', 'Inhibited',  'Other']\n",
    "gpalette1 = ['red'] + gpalette[0:4] +gpalette[-1:]\n",
    "sns.color_palette(gpalette1)"
   ]
  },
  {
   "cell_type": "code",
   "execution_count": null,
   "id": "a3c76efa",
   "metadata": {},
   "outputs": [],
   "source": [
    "ccnorder1"
   ]
  },
  {
   "cell_type": "code",
   "execution_count": null,
   "id": "92bd4c3d",
   "metadata": {},
   "outputs": [],
   "source": [
    "minmse_df.y_pred.value_counts()"
   ]
  },
  {
   "cell_type": "code",
   "execution_count": null,
   "id": "3f2be4bc",
   "metadata": {},
   "outputs": [],
   "source": [
    "vars_to_explore = [\n",
    "    'Bp', 'Np', 'Cp', 'Bh', 'Nh', 'Ch', \n",
    "    'DON',  'DIN', 'DOC',\n",
    "        'ROS', \n",
    "    'gross_uptakeINp', 'gross_uptakeINh',\n",
    "        'gross_uptakeONh', 'gross_uptakeICp',\n",
    "         'gross_uptakeOCh',\n",
    "       'uptakeNp', 'uptakeNh', 'uptakeCp', 'uptakeCh', \n",
    "       'biosynthesisNp', 'biosynthesisNh', \n",
    "       #'ROSproductionp', 'ROSproductionh', 'ROSlossp', 'ROSlossh',\n",
    "        #'additionalLossRatep', 'additionalLossRateh',  \n",
    "    'deathC_DOCp', 'deathC_DOCh',\n",
    "       'deathN_DONp', 'deathN_DONh',\n",
    "    'overflowNp', 'overflowCp', 'overflowNh', 'overflowCh',\n",
    "]"
   ]
  },
  {
   "cell_type": "code",
   "execution_count": null,
   "id": "467db2e7",
   "metadata": {},
   "outputs": [],
   "source": []
  },
  {
   "cell_type": "code",
   "execution_count": null,
   "id": "4832228e",
   "metadata": {},
   "outputs": [],
   "source": [
    "sns.catplot(\n",
    "    data=mdf.loc[mdf.day.ge(3) & mdf.day.le(15) & mdf.variable.isin(vars_to_explore)],\n",
    "    x='y_pred', y='value', order=gorder,\n",
    "    hue='y_pred', hue_order=gorder, palette=gpalette, dodge=False,\n",
    "    col='variable', col_order=vars_to_explore, col_wrap=6,\n",
    "    sharey=False,\n",
    "    legend=False, kind='box',\n",
    ").set_titles(col_template='{col_name}', row_template ='{row_name}')\n"
   ]
  },
  {
   "cell_type": "code",
   "execution_count": null,
   "id": "2777065a",
   "metadata": {},
   "outputs": [],
   "source": []
  },
  {
   "cell_type": "code",
   "execution_count": null,
   "id": "8794edf9",
   "metadata": {},
   "outputs": [],
   "source": [
    "vars_to_explore2 = [\n",
    "    #'Bp', 'Np', 'Cp', 'Bh', 'Nh', 'Ch', \n",
    "    'DON',  'DIN', 'DOC',\n",
    "      #  'ROS', \n",
    "]\n",
    "vars_to_explore3 = [\n",
    "    'gross_uptakeINp', 'gross_uptakeINh',\n",
    "        'gross_uptakeONh', 'gross_uptakeICp',\n",
    "         'gross_uptakeOCh',\n",
    "       #'uptakeNp', 'uptakeNh', 'uptakeCp', 'uptakeCh', \n",
    "       #'biosynthesisNp', 'biosynthesisNh', \n",
    "]\n",
    "vars_to_explore4 = [\n",
    "    'overflowNp', 'overflowCp', 'overflowNh', 'overflowCh',\n",
    "]"
   ]
  },
  {
   "cell_type": "code",
   "execution_count": null,
   "id": "291809e6",
   "metadata": {},
   "outputs": [],
   "source": [
    "for v in vars_to_explore2:\n",
    "    g = sns.relplot(\n",
    "        data=mdf.loc[#mdf.day.ge(1)  & \n",
    "                     mdf.variable.isin([v])],\n",
    "        x='day', y='value', \n",
    "        hue='y_pred', hue_order=gorder, palette=gpalette, \n",
    "        #row='variable', row_order=vars_to_explore2,\n",
    "        col='y_pred', col_order=gorder,\n",
    "\n",
    "        legend=False, kind='line',\n",
    "        estimator=None, units='run_id',\n",
    "        ms=4, lw=1, alpha=0.8,\n",
    "    )\n",
    "    g.set(ylabel=v)\n",
    "\n",
    "    g.set_titles(col_template='{col_name}', row_template ='{row_name}')\n",
    "    plt.suptitle(v, y=1.01)\n",
    "    plt.show()\n"
   ]
  },
  {
   "cell_type": "code",
   "execution_count": null,
   "id": "179e01dc",
   "metadata": {},
   "outputs": [],
   "source": [
    "for v in vars_to_explore3:\n",
    "    g = sns.relplot(\n",
    "        data=mdf.loc[mdf.day.ge(1)  & \n",
    "                     mdf.variable.isin([v])],\n",
    "        x='day', y='value', \n",
    "        hue='y_pred', hue_order=gorder, palette=gpalette, \n",
    "        #row='variable', row_order=vars_to_explore2,\n",
    "        col='y_pred', col_order=gorder,\n",
    "\n",
    "        legend=False, kind='line',\n",
    "        estimator=None, units='run_id',\n",
    "        ms=4, lw=1, alpha=0.8,\n",
    "    )\n",
    "    g.set(ylabel=v)\n",
    "\n",
    "    g.set_titles(col_template='{col_name}', row_template ='{row_name}')\n",
    "    plt.suptitle(v, y=1.01)\n",
    "    plt.show()\n"
   ]
  },
  {
   "cell_type": "code",
   "execution_count": null,
   "id": "98d5790d",
   "metadata": {},
   "outputs": [],
   "source": [
    "for v in vars_to_explore4:\n",
    "    g = sns.relplot(\n",
    "        data=mdf.loc[mdf.day.ge(1)  & \n",
    "                     mdf.variable.isin([v])],\n",
    "        x='day', y='value', \n",
    "        hue='y_pred', hue_order=gorder, palette=gpalette, \n",
    "        #row='variable', row_order=vars_to_explore2,\n",
    "        col='y_pred', col_order=gorder,\n",
    "\n",
    "        legend=False, kind='line',\n",
    "        estimator=None, units='run_id',\n",
    "        ms=4, lw=1, alpha=0.8,\n",
    "    )\n",
    "    g.set(ylabel=v)\n",
    "\n",
    "    g.set_titles(col_template='{col_name}', row_template ='{row_name}')\n",
    "    plt.suptitle(v, y=1.01)\n",
    "    plt.show()\n"
   ]
  },
  {
   "cell_type": "code",
   "execution_count": null,
   "id": "d7e53c8b",
   "metadata": {},
   "outputs": [],
   "source": []
  },
  {
   "cell_type": "code",
   "execution_count": null,
   "id": "a1fe56db",
   "metadata": {},
   "outputs": [],
   "source": [
    "sum_df"
   ]
  },
  {
   "cell_type": "code",
   "execution_count": null,
   "id": "a7732b54",
   "metadata": {},
   "outputs": [],
   "source": [
    "het_params_to_update, het_bounds, het_log_params = get_param_tuning_values(model, 'HET')\n",
    "pro_params_to_update, pro_bounds, pro_log_params = get_param_tuning_values(model, 'PRO')\n"
   ]
  },
  {
   "cell_type": "code",
   "execution_count": null,
   "id": "f05d41f0",
   "metadata": {},
   "outputs": [],
   "source": [
    "mparams_df = rsum_df.melt(\n",
    "    id_vars=['run_id'], \n",
    "    value_vars=het_params_to_update+pro_params_to_update, \n",
    "    value_name='paramval', \n",
    "    var_name='param'\n",
    ")"
   ]
  },
  {
   "cell_type": "code",
   "execution_count": null,
   "id": "68deb362",
   "metadata": {},
   "outputs": [],
   "source": [
    "param_vals_map = get_param_vals(model)\n",
    "mparams_df['default'] = mparams_df['param'].map(param_vals_map)\n",
    "mparams_df['FC'] = np.log2(mparams_df.paramval / mparams_df.default)\n",
    "\n"
   ]
  },
  {
   "cell_type": "code",
   "execution_count": null,
   "id": "e7cce134",
   "metadata": {},
   "outputs": [],
   "source": [
    "mparams_df.describe()"
   ]
  },
  {
   "cell_type": "code",
   "execution_count": null,
   "id": "60163341",
   "metadata": {},
   "outputs": [],
   "source": [
    "mparams_df.param.unique()"
   ]
  },
  {
   "cell_type": "code",
   "execution_count": null,
   "id": "a2f12cfa-0729-46e0-8f29-ebb523746388",
   "metadata": {},
   "outputs": [],
   "source": [
    "minmse_df.columns"
   ]
  },
  {
   "cell_type": "code",
   "execution_count": null,
   "id": "3559459d",
   "metadata": {},
   "outputs": [],
   "source": [
    "mparams_df = pd.merge(mparams_df, minmse_df[['run_id', 'y_pred','VPRO']], on='run_id')\n"
   ]
  },
  {
   "cell_type": "code",
   "execution_count": null,
   "id": "9aa27c4c",
   "metadata": {},
   "outputs": [],
   "source": [
    "mparams_df.param.unique()"
   ]
  },
  {
   "cell_type": "code",
   "execution_count": null,
   "id": "adf79aa2",
   "metadata": {},
   "outputs": [],
   "source": [
    "mparams_df.dtypes"
   ]
  },
  {
   "cell_type": "code",
   "execution_count": null,
   "id": "8397ced5",
   "metadata": {},
   "outputs": [],
   "source": [
    "mparams_df['param1'] = mparams_df.param.str[:-1]"
   ]
  },
  {
   "cell_type": "code",
   "execution_count": null,
   "id": "348658ee",
   "metadata": {},
   "outputs": [],
   "source": [
    "mparams_df['Strain'] = mparams_df.param.str[-1].map({'p' : 'PRO', 'P': 'PRO', 'h': 'HET', 'H': 'HET'})"
   ]
  },
  {
   "cell_type": "code",
   "execution_count": null,
   "id": "c590a76f",
   "metadata": {},
   "outputs": [],
   "source": [
    "mparams_df[['param1', 'y_pred','Strain']]"
   ]
  },
  {
   "cell_type": "code",
   "execution_count": null,
   "id": "0e8d1f0e",
   "metadata": {},
   "outputs": [],
   "source": [
    "#IC is too different to share\n",
    "mask = mparams_df['param1'].str.endswith(('OC',  'ON', 'IN'))\n",
    "\n",
    "mparams_df.loc[mask, 'paramtype'] = mparams_df.loc[mask, 'param1'].str[:-2]\n",
    "mparams_df.loc[mask, 'nutrient'] = mparams_df.loc[mask, 'param1'].str[-2:]\n",
    "mparams_df"
   ]
  },
  {
   "cell_type": "code",
   "execution_count": null,
   "id": "86fb864b",
   "metadata": {},
   "outputs": [],
   "source": [
    "mparams_df.columns"
   ]
  },
  {
   "cell_type": "code",
   "execution_count": null,
   "id": "45c6a402",
   "metadata": {},
   "outputs": [],
   "source": [
    "params_per_sec = ['VmaxIN', 'VmaxOC', 'VmaxON', 'VmaxIC','M', 'Koverflow', \n",
    "                 ]\n",
    "\n",
    "mask = mparams_df.param1.isin(params_per_sec)\n",
    "mparams_df.loc[mask, 'paramval'] = mparams_df.loc[mask, 'paramval'] * seconds_in_day"
   ]
  },
  {
   "cell_type": "markdown",
   "id": "aaa509e9",
   "metadata": {},
   "source": [
    "## check to see if strong distribution is different than all non-strong"
   ]
  },
  {
   "cell_type": "code",
   "execution_count": null,
   "id": "04a6f062",
   "metadata": {},
   "outputs": [],
   "source": [
    "def _compute_ks(v):\n",
    "    ks_res = stats.ks_2samp(\n",
    "        mparams_df.loc[mparams_df.param.isin([v]) & mparams_df.y_pred.isin(['Strong']), 'FC'],\n",
    "        mparams_df.loc[mparams_df.param.isin([v]) & ~mparams_df.y_pred.isin(['Strong']), 'FC']\n",
    "    )    \n",
    "    return dict(param=v, pvalue=ks_res.pvalue, Kstest_statistic=ks_res.statistic, different_dist=ks_res.pvalue<=0.05)\n",
    "    \n",
    "ks_df = pd.DataFrame([_compute_ks(v) for v in mparams_df.param.unique()]).sort_values('pvalue').reset_index(drop=True)\n"
   ]
  },
  {
   "cell_type": "code",
   "execution_count": null,
   "id": "66543e53",
   "metadata": {},
   "outputs": [],
   "source": [
    "ks_df"
   ]
  },
  {
   "cell_type": "code",
   "execution_count": null,
   "id": "1400558c",
   "metadata": {},
   "outputs": [],
   "source": [
    "ks_df.loc[ks_df.different_dist].sort_values('param')"
   ]
  },
  {
   "cell_type": "code",
   "execution_count": null,
   "id": "262d842b",
   "metadata": {},
   "outputs": [],
   "source": [
    "significant_params = ks_df.loc[ks_df.different_dist].sort_values('param')['param']"
   ]
  },
  {
   "cell_type": "code",
   "execution_count": null,
   "id": "73fe540d-4e34-47fc-9e58-43ade1791fa7",
   "metadata": {},
   "outputs": [],
   "source": [
    "def _compute_ks(v):\n",
    "    ks_res = stats.ks_2samp(\n",
    "        mparams_df.loc[mparams_df.param.isin([v]) & mparams_df.y_pred.isin(['Sustained']), 'FC'],\n",
    "        mparams_df.loc[mparams_df.param.isin([v]) & ~mparams_df.y_pred.isin(['Sustained']), 'FC']\n",
    "    )    \n",
    "    return dict(param=v, pvalue=ks_res.pvalue, Kstest_statistic=ks_res.statistic, different_dist=ks_res.pvalue<=0.05)\n",
    "    \n",
    "ks2_df = pd.DataFrame([_compute_ks(v) for v in mparams_df.param.unique()]).sort_values('pvalue').reset_index(drop=True)\n"
   ]
  },
  {
   "cell_type": "code",
   "execution_count": null,
   "id": "3859f446-974a-4ac9-a8cf-deda44d688fd",
   "metadata": {},
   "outputs": [],
   "source": [
    "ks2_df"
   ]
  },
  {
   "cell_type": "code",
   "execution_count": null,
   "id": "91dac8d1-151a-40ea-9fff-80c9b2edfc7e",
   "metadata": {},
   "outputs": [],
   "source": [
    "ks2_df.loc[ks2_df.different_dist].sort_values('param')"
   ]
  },
  {
   "cell_type": "code",
   "execution_count": null,
   "id": "e35857c6-ef2b-479b-8719-3a3a91707411",
   "metadata": {},
   "outputs": [],
   "source": [
    "significant_params_strong_sustained = ks2_df.loc[ks2_df.different_dist].sort_values('param')['param']"
   ]
  },
  {
   "cell_type": "code",
   "execution_count": null,
   "id": "4d5b3b04-8ee1-4607-b071-fadb03656c65",
   "metadata": {},
   "outputs": [],
   "source": [
    "ks_merge_df = pd.merge(ks_df,ks2_df, on='param', suffixes=['_strong', '_sustained'])"
   ]
  },
  {
   "cell_type": "code",
   "execution_count": null,
   "id": "60c2d748-8ad7-42de-a49a-568908bf4769",
   "metadata": {},
   "outputs": [],
   "source": [
    "ks_merge_df.loc[ ks_merge_df.different_dist_strong != ks_merge_df.different_dist_sustained]\n"
   ]
  },
  {
   "cell_type": "code",
   "execution_count": null,
   "id": "002a45cf-7b3e-400e-a6ee-9c18075783c8",
   "metadata": {},
   "outputs": [],
   "source": [
    "significant_params_strong_sustained, significant_params"
   ]
  },
  {
   "cell_type": "code",
   "execution_count": null,
   "id": "b56ba458-3983-4d03-9f6e-53550eb17852",
   "metadata": {},
   "outputs": [],
   "source": [
    "significant_params_all = set(significant_params.to_list()+significant_params_strong_sustained.to_list())\n",
    "significant_params_all"
   ]
  },
  {
   "cell_type": "code",
   "execution_count": null,
   "id": "93dc4ec7-b03f-4217-a77a-4dffa40a9c07",
   "metadata": {},
   "outputs": [],
   "source": []
  },
  {
   "cell_type": "code",
   "execution_count": null,
   "id": "a74768f0-c78b-435f-b640-4ea3d8fec4b5",
   "metadata": {},
   "outputs": [],
   "source": []
  },
  {
   "cell_type": "code",
   "execution_count": null,
   "id": "c989e46c",
   "metadata": {},
   "outputs": [],
   "source": [
    "mmparams_df = mparams_df.pivot(\n",
    "    index=['run_id',  'y_pred', 'param1', 'paramtype',\n",
    "       'nutrient', ],\n",
    "    columns='Strain',\n",
    "    values='paramval'\n",
    ").reset_index()\n",
    "mmparams_df\n"
   ]
  },
  {
   "cell_type": "code",
   "execution_count": null,
   "id": "aca87e45",
   "metadata": {},
   "outputs": [],
   "source": [
    "fmparams_df = mparams_df.pivot(\n",
    "    index=['run_id',  'y_pred', 'param1', 'paramtype',\n",
    "       'nutrient', ],\n",
    "    columns='Strain',\n",
    "    values='FC'\n",
    ").reset_index()\n",
    "mmparams_df\n"
   ]
  },
  {
   "cell_type": "code",
   "execution_count": null,
   "id": "00d591eb",
   "metadata": {},
   "outputs": [],
   "source": [
    "mparams_df['is_Strong'] = 'Not Strong' \n",
    "mparams_df.loc[mparams_df.y_pred.isin(['Strong']), 'is_Strong'] = 'Strong' \n"
   ]
  },
  {
   "cell_type": "code",
   "execution_count": null,
   "id": "fa22c17d",
   "metadata": {},
   "outputs": [],
   "source": [
    "sns.displot(\n",
    "    data=mparams_df.loc[mparams_df.param.isin(significant_params)],\n",
    "    col='param', col_order=significant_params, col_wrap=6,\n",
    "    x='FC', \n",
    "    hue='is_Strong', hue_order=['Strong', 'Not Strong'], palette=['red', 'grey'],\n",
    "    kind='kde', common_norm=False, \n",
    "    facet_kws=dict(sharey=False),\n",
    "    \n",
    ").set_titles(col_template='{col_name}')#.set(ylim=(0,2))"
   ]
  },
  {
   "cell_type": "code",
   "execution_count": null,
   "id": "1a5bbd01-5fa7-4d89-ac39-a44e18133b10",
   "metadata": {},
   "outputs": [],
   "source": [
    "sns.displot(\n",
    "    data=mparams_df.loc[mparams_df.param.isin(significant_params)],\n",
    "    col='param', col_order=significant_params, col_wrap=6,\n",
    "    x='FC', \n",
    "    hue='is_Strong', hue_order=['Strong', 'Not Strong'], palette=['red', 'grey'],\n",
    "    kind='kde', common_norm=False, \n",
    "    #facet_kws=dict(sharey=False),\n",
    "    \n",
    ").set_titles(col_template='{col_name}')#.set(ylim=(0,1))"
   ]
  },
  {
   "cell_type": "code",
   "execution_count": null,
   "id": "0f935ad7",
   "metadata": {},
   "outputs": [],
   "source": [
    "g = sns.catplot(\n",
    "    data=mparams_df.loc[mparams_df.paramtype.isna()],\n",
    "    y='y_pred', x='paramval', kind='box',\n",
    "    sharex=False, \n",
    "    hue='y_pred', hue_order=gorder, palette=gpalette, order=gorder,\n",
    "    \n",
    "    col='param1', #col_order=het_params_to_update, \n",
    "    #col_wrap=6, \n",
    "    dodge=False,\n",
    "    row='Strain'\n",
    ")\n",
    "g.set_titles(col_template='{col_name}', row_template ='{row_name}')\n"
   ]
  },
  {
   "cell_type": "code",
   "execution_count": null,
   "id": "74adac35-f914-4b8e-beb7-374a3539bc63",
   "metadata": {},
   "outputs": [],
   "source": [
    "g = sns.catplot(\n",
    "    data=mparams_df.loc[~mparams_df.paramtype.isna()],\n",
    "    y='y_pred', x='paramval', kind='box',\n",
    "    sharex=False, \n",
    "    hue='y_pred', hue_order=gorder, palette=gpalette, order=gorder,\n",
    "    \n",
    "    col='param1', #col_order=het_params_to_update, \n",
    "    #col_wrap=6, \n",
    "    dodge=False,\n",
    "    row='Strain'\n",
    ")\n",
    "g.set_titles(col_template='{col_name}', row_template ='{row_name}')\n"
   ]
  },
  {
   "cell_type": "code",
   "execution_count": null,
   "id": "44dae869",
   "metadata": {},
   "outputs": [],
   "source": [
    "g = sns.displot(\n",
    "    data=mmparams_df.loc[ mmparams_df.y_pred.isin(['Strong'])].dropna(subset=['PRO', 'HET']),\n",
    "    y='HET', x='PRO', #kind='box',\n",
    "    facet_kws=dict(sharex=False, sharey=False), \n",
    "    #hue='y_pred', hue_order=gorder, palette=gpalette, order=gorder,\n",
    "    color=gpalette[0],\n",
    "    col='param1', #col_order=het_params_to_update, \n",
    "    #col_wrap=6, \n",
    "    #dodge=False,\n",
    "    #row='Strain'\n",
    "    #log_scale =True,\n",
    "    kind='kde',common_norm=False\n",
    ")\n",
    "g.set_titles(col_template='{col_name}', row_template ='{row_name}')\n"
   ]
  },
  {
   "cell_type": "code",
   "execution_count": null,
   "id": "ba233021",
   "metadata": {},
   "outputs": [],
   "source": [
    "g = sns.displot(\n",
    "    data=fmparams_df.loc[ mmparams_df.y_pred.isin(['Strong'])].dropna(subset=['PRO', 'HET']),\n",
    "    y='HET', x='PRO', #kind='box',\n",
    "    facet_kws=dict(sharex=False, sharey=False), \n",
    "    #hue='y_pred', hue_order=gorder, palette=gpalette, order=gorder,\n",
    "    color=gpalette[0],\n",
    "    col='param1', #col_order=het_params_to_update, \n",
    "    #col_wrap=6, \n",
    "    #dodge=False,\n",
    "    #row='Strain'\n",
    "    #log_scale =True,\n",
    "    kind='kde',common_norm=False\n",
    ")\n",
    "g.set_titles(col_template='{col_name}', row_template ='{row_name}')\n"
   ]
  },
  {
   "cell_type": "code",
   "execution_count": null,
   "id": "b6eca6a6",
   "metadata": {},
   "outputs": [],
   "source": [
    "\n",
    "mmparams_df.dropna(subset=['PRO', 'HET']).param1.unique()\n",
    "gorder1 = gorder[:5]\n",
    "gpalette1 = gpalette[:5] \n",
    "sns.color_palette(gpalette1)"
   ]
  },
  {
   "cell_type": "code",
   "execution_count": null,
   "id": "2cc160ba",
   "metadata": {},
   "outputs": [],
   "source": [
    "for v in ['KIN', 'Koverflow', 'M', 'VmaxIN', 'gammaD', ]:\n",
    "    \n",
    "    g = sns.displot(\n",
    "        data=mmparams_df.loc[mmparams_df.param1.isin([v]) & mmparams_df.y_pred.isin(gorder1)] .dropna(subset=['PRO', 'HET']),\n",
    "        y='HET', x='PRO', #kind='box',\n",
    "        #facet_kws=dict(sharex=False, sharey=False), \n",
    "        hue='y_pred', hue_order=gorder1, palette=gpalette1, #order=gorder,\n",
    "        #color=gpalette[0],\n",
    "        #col='param1', #col_order=het_params_to_update, \n",
    "        #col_wrap=6, \n",
    "        #dodge=False,\n",
    "        col='y_pred', col_order=gorder1,\n",
    "        #log_scale =True,\n",
    "        kind='kde',common_norm=False\n",
    "    )\n",
    "    g.set_titles(col_template='{col_name}', row_template ='{row_name}')\n",
    "    plt.suptitle(v)\n",
    "    plt.show()\n"
   ]
  },
  {
   "cell_type": "code",
   "execution_count": null,
   "id": "565df4ba-aa40-40c1-bedb-55b575763434",
   "metadata": {},
   "outputs": [],
   "source": [
    "significant_params"
   ]
  },
  {
   "cell_type": "code",
   "execution_count": null,
   "id": "f2a4b317",
   "metadata": {},
   "outputs": [],
   "source": [
    "for v in ['KIN', 'Koverflow',  'M', 'VmaxIN', 'gammaD', ]:\n",
    "    \n",
    "    g = sns.displot(\n",
    "        data=fmparams_df.loc[mmparams_df.param1.isin([v]) & mmparams_df.y_pred.isin(gorder1)] .dropna(subset=['PRO', 'HET']),\n",
    "        y='HET', x='PRO', #kind='box',\n",
    "        #facet_kws=dict(sharex=False, sharey=False), \n",
    "        hue='y_pred', hue_order=gorder1, palette=gpalette1, #order=gorder,\n",
    "        #color=gpalette[0],\n",
    "        #col='param1', #col_order=het_params_to_update, \n",
    "        #col_wrap=6, \n",
    "        #dodge=False,\n",
    "        col='y_pred', col_order=gorder1,\n",
    "        #log_scale =True,\n",
    "        kind='kde',common_norm=False\n",
    "    )\n",
    "    g.set_titles(col_template='{col_name}', row_template ='{row_name}')\n",
    "    plt.suptitle(v)\n",
    "    plt.show()\n"
   ]
  },
  {
   "cell_type": "code",
   "execution_count": null,
   "id": "1ad2a07d",
   "metadata": {},
   "outputs": [],
   "source": [
    "for v in ['KOC', 'KON', 'VmaxOC', 'VmaxON']:\n",
    "    \n",
    "    g = sns.displot(\n",
    "        data=fmparams_df.loc[fmparams_df.param1.isin([v]) & fmparams_df.y_pred.isin(gorder1)],\n",
    "        x='HET', #x='PRO', #kind='box',\n",
    "        #facet_kws=dict(sharex=False, sharey=False), \n",
    "        hue='y_pred', hue_order=gorder1, palette=gpalette1, #order=gorder,\n",
    "        #color=gpalette[0],\n",
    "        #col='param1', #col_order=het_params_to_update, \n",
    "        #col_wrap=6, \n",
    "        #dodge=False,\n",
    "        #col='y_pred', col_order=gorder1,\n",
    "        #log_scale =True,\n",
    "        kind='kde',common_norm=False\n",
    "    )\n",
    "    g.set_titles(col_template='{col_name}', row_template ='{row_name}')\n",
    "    plt.suptitle(v)\n",
    "    plt.show()\n"
   ]
  },
  {
   "cell_type": "code",
   "execution_count": null,
   "id": "0a2654cb",
   "metadata": {},
   "outputs": [],
   "source": []
  },
  {
   "cell_type": "code",
   "execution_count": null,
   "id": "6036f796",
   "metadata": {},
   "outputs": [],
   "source": [
    "vars_to_explore5 =  ['KIN', 'Koverflow',  'M', 'VmaxIN', 'gammaD', ]\n",
    "    \n",
    "g = sns.displot(\n",
    "    data=mmparams_df.loc[mmparams_df.param1.isin(vars_to_explore5) & \n",
    "                         mmparams_df.y_pred.isin(gorder1)] .dropna(subset=['PRO', 'HET']),\n",
    "    y='HET', x='PRO', #kind='box',\n",
    "    facet_kws=dict(sharex=False, sharey=False), \n",
    "    hue='y_pred', hue_order=reversed(gorder1), palette=reversed(gpalette1), #order=gorder,\n",
    "    #color=gpalette[0],\n",
    "    col='param1', col_order=vars_to_explore5, \n",
    "    #col_wrap=6, \n",
    "    #dodge=False,\n",
    "    #col='y_pred', col_order=gorder1,\n",
    "    #log_scale =True,\n",
    "    kind='kde',common_norm=False\n",
    ")\n",
    "g.set_titles(col_template='{col_name}', row_template ='{row_name}')\n",
    "#plt.suptitle(v)\n",
    "plt.show()\n"
   ]
  },
  {
   "cell_type": "code",
   "execution_count": null,
   "id": "13d117ea",
   "metadata": {},
   "outputs": [],
   "source": []
  },
  {
   "cell_type": "code",
   "execution_count": null,
   "id": "e1581d14",
   "metadata": {},
   "outputs": [],
   "source": [
    "vars_to_explore5 =  ['KIN', 'Koverflow',  'M', 'VmaxIN', 'gammaD', ]\n",
    "    \n",
    "g = sns.displot(\n",
    "    data=fmparams_df.loc[mmparams_df.param1.isin(vars_to_explore5) & \n",
    "                         mmparams_df.y_pred.isin(gorder1)] .dropna(subset=['PRO', 'HET']),\n",
    "    y='HET', x='PRO', #kind='box',\n",
    "    facet_kws=dict(sharex=False, sharey=False), \n",
    "    hue='y_pred', hue_order=reversed(gorder1), palette=reversed(gpalette1), #order=gorder,\n",
    "    #color=gpalette[0],\n",
    "    col='param1', col_order=vars_to_explore5, \n",
    "    #col_wrap=6, \n",
    "    #dodge=False,\n",
    "    #col='y_pred', col_order=gorder1,\n",
    "    #log_scale =True,\n",
    "    kind='kde',common_norm=False\n",
    ")\n",
    "g.set_titles(col_template='{col_name}', row_template ='{row_name}')\n",
    "#plt.suptitle(v)\n",
    "plt.show()\n"
   ]
  },
  {
   "cell_type": "code",
   "execution_count": null,
   "id": "b76db315",
   "metadata": {},
   "outputs": [],
   "source": [
    "g = sns.relplot(\n",
    "    data=mmparams_df.loc[~mmparams_df.paramtype.isna() & mmparams_df.y_pred.isin(['Strong'])],\n",
    "    y='HET', x='PRO', #kind='box',\n",
    "    facet_kws=dict(sharex=False, sharey=False), \n",
    "    #hue='y_pred', hue_order=gorder, palette=gpalette, order=gorder,\n",
    "    \n",
    "    col='param1', #col_order=het_params_to_update, \n",
    "    #col_wrap=6, \n",
    "    #dodge=False,\n",
    "    #row='Strain'\n",
    ")\n",
    "g.set_titles(col_template='{col_name}', row_template ='{row_name}')\n"
   ]
  },
  {
   "cell_type": "code",
   "execution_count": null,
   "id": "9c0c77c4",
   "metadata": {},
   "outputs": [],
   "source": [
    "g = sns.catplot(\n",
    "    data=mparams_df.loc[~mparams_df.paramtype.isna()],\n",
    "    y='y_pred', x='paramval', kind='box',\n",
    "    sharex=False, \n",
    "    hue='y_pred', hue_order=gorder, palette=gpalette, order=gorder,\n",
    "    \n",
    "    col='param1', #col_order=het_params_to_update, \n",
    "    #col_wrap=6, \n",
    "    dodge=False,\n",
    "    row='Strain'\n",
    ")\n",
    "g.set_titles(col_template='{col_name}', row_template ='{row_name}')\n"
   ]
  },
  {
   "cell_type": "code",
   "execution_count": null,
   "id": "5b3304ea",
   "metadata": {},
   "outputs": [],
   "source": [
    "fmparams_df.loc[fmparams_df.PRO.isna()].param1.unique()"
   ]
  },
  {
   "cell_type": "code",
   "execution_count": null,
   "id": "52e44917",
   "metadata": {},
   "outputs": [],
   "source": [
    "from matplotlib.colors import LogNorm, Normalize\n",
    "cols_for_heatmap = [\n",
    "    'Mh', #'Mp', \n",
    "    'gammaDh', 'gammaDp', \n",
    "    'KINh', 'KINp', 'KOCh', 'KONh',\n",
    "    #'VmaxICp', \n",
    "    'VmaxINh', #'VmaxINp',\n",
    "    'VmaxOCh', 'VmaxONh', \n",
    "    #'KlossROSh', 'KlossROSp',   'KprodROSh', 'KprodROSp', \n",
    "    'omegaH', 'omegaP'\n",
    "]\n",
    "pmparams_df = mparams_df.loc[mparams_df.y_pred.isin(['Strong'])].pivot(\n",
    "    index=['run_id'],  \n",
    "    #columns=['param1', 'paramtype',   'nutrient', 'Strain',],\n",
    "    columns=['param'],\n",
    "    values='FC'\n",
    ")\n",
    "sns.set_context('talk')\n",
    "sns.clustermap(\n",
    "    data=pmparams_df[significant_params],\n",
    "    yticklabels=[],\n",
    "    standard_scale=1,\n",
    "    cmap='viridis',robust=True,\n",
    "    #col_cluster=False,\n",
    "    #norm=LogNorm()\n",
    ")"
   ]
  },
  {
   "cell_type": "code",
   "execution_count": null,
   "id": "becd56a1",
   "metadata": {},
   "outputs": [],
   "source": [
    "significant_params_ros = [\n",
    "#     'KICp',\n",
    "#  'KINp',\n",
    " 'KlossROSh',\n",
    " 'KlossROSp',\n",
    " 'KprodROSh',\n",
    " 'KprodROSp',\n",
    "#  'Mh',\n",
    "#  'Mp',\n",
    "#  'VmaxICp',\n",
    "#  'VmaxINp',\n",
    "#  'gammaDh',\n",
    "#  'gammaDp',\n",
    " 'omegaP'\n",
    "]"
   ]
  },
  {
   "cell_type": "code",
   "execution_count": null,
   "id": "f906091b",
   "metadata": {},
   "outputs": [],
   "source": [
    "significant_params_growth = [\n",
    "     'KICp',\n",
    "  'KINp',\n",
    "# 'KlossROSh',\n",
    "# 'KlossROSp',\n",
    "# 'KprodROSh',\n",
    "# 'KprodROSp',\n",
    " 'Mh',\n",
    " 'Mp',\n",
    "#  'VmaxICp',\n",
    "#  'VmaxINp',\n",
    " 'gammaDh',\n",
    " 'gammaDp',\n",
    "#  'omegaP'\n",
    "]"
   ]
  },
  {
   "cell_type": "code",
   "execution_count": null,
   "id": "229a6625",
   "metadata": {},
   "outputs": [],
   "source": [
    "from matplotlib.colors import LogNorm, Normalize\n",
    "sns.set_context('talk')\n",
    "sns.clustermap(\n",
    "    data=pmparams_df[significant_params_ros],\n",
    "    yticklabels=[],\n",
    "    #standard_scale=1,\n",
    "    cmap='viridis',robust=True,\n",
    "    #col_cluster=False,\n",
    "    #norm=LogNorm()\n",
    ")"
   ]
  },
  {
   "cell_type": "code",
   "execution_count": null,
   "id": "c6d6dfbb",
   "metadata": {},
   "outputs": [],
   "source": [
    "sns.pairplot(\n",
    "    pmparams_df[significant_params_ros],\n",
    "    kind='kde', plot_kws=dict(common_norm=False), \n",
    "    corner=True,\n",
    ")"
   ]
  },
  {
   "cell_type": "code",
   "execution_count": null,
   "id": "d040c313",
   "metadata": {},
   "outputs": [],
   "source": [
    "from matplotlib.colors import LogNorm, Normalize\n",
    "sns.set_context('talk')\n",
    "sns.clustermap(\n",
    "    data=pmparams_df[significant_params_growth],\n",
    "    yticklabels=[],\n",
    "    #standard_scale=1,\n",
    "    cmap='viridis',robust=True,\n",
    "    #col_cluster=False,\n",
    "    #norm=LogNorm()\n",
    ")"
   ]
  },
  {
   "cell_type": "code",
   "execution_count": null,
   "id": "d4f600be",
   "metadata": {},
   "outputs": [],
   "source": [
    "sns.pairplot(\n",
    "    pmparams_df[significant_params_growth],\n",
    "    kind='kde', plot_kws=dict(common_norm=False), \n",
    "    corner=True,\n",
    ")"
   ]
  },
  {
   "cell_type": "code",
   "execution_count": null,
   "id": "62f40fd7",
   "metadata": {},
   "outputs": [],
   "source": [
    "from matplotlib.colors import LogNorm, Normalize\n",
    "cols_for_heatmap = [\n",
    "    #'Mh', 'Mp', 'gammaDh', 'gammaDp', \n",
    "    'KINh', 'KINp', 'KOCh', 'KONh',\n",
    "    #'VmaxICp', \n",
    "    'VmaxINh', 'VmaxINp', 'VmaxOCh', 'VmaxONh', \n",
    "    'KlossROSh', 'KlossROSp',   'KprodROSh', 'KprodROSp', \n",
    "    'omegaH', 'omegaP'\n",
    "]\n",
    "pmparams_df = mparams_df.loc[mparams_df.y_pred.isin(['Strong'])].pivot(\n",
    "    index=['run_id'],  \n",
    "    #columns=['param1', 'paramtype',   'nutrient', 'Strain',],\n",
    "    columns=['param'],\n",
    "    values='paramval'\n",
    ")\n",
    "pmparams_df = np.log(pmparams_df)\n",
    "sns.set_context('talk')\n",
    "sns.clustermap(\n",
    "    data=pmparams_df[cols_for_heatmap],\n",
    "    yticklabels=[],\n",
    "    standard_scale=1,\n",
    "    cmap='viridis',robust=True,\n",
    "    #col_cluster=False,\n",
    "    #norm=LogNorm()\n",
    ")"
   ]
  },
  {
   "cell_type": "code",
   "execution_count": null,
   "id": "63598379",
   "metadata": {},
   "outputs": [],
   "source": [
    "cols_for_heatmap1 = [\n",
    "    #'KINh', 'KINp', 'KOCh', 'KONh',\n",
    "    'KlossROSh', 'KlossROSp',   'KprodROSh', 'KprodROSp', \n",
    "    #'Mh', 'Mp', 'gammaDh', 'gammaDp', \n",
    "    #'VmaxICp', 'VmaxINh', 'VmaxINp', 'VmaxOCh', 'VmaxONh', \n",
    "    #'omegaH', 'omegaP'\n",
    "]\n",
    "sns.clustermap(\n",
    "    data=pmparams_df[cols_for_heatmap1],\n",
    "    yticklabels=[],\n",
    "    standard_scale=1,\n",
    "    cmap='viridis',\n",
    ")"
   ]
  },
  {
   "cell_type": "code",
   "execution_count": null,
   "id": "70381107",
   "metadata": {},
   "outputs": [],
   "source": [
    "cols_for_heatmap2 = [\n",
    "    'KINh', 'KINp', 'KOCh', 'KONh',\n",
    "    #'KlossROSh', 'KlossROSp',   'KprodROSh', 'KprodROSp', \n",
    "    #'Mh', 'Mp', 'gammaDh', 'gammaDp', \n",
    "    'VmaxICp', 'VmaxINh', 'VmaxINp', 'VmaxOCh', 'VmaxONh', \n",
    "    #'omegaH', 'omegaP'\n",
    "]\n",
    "sns.clustermap(\n",
    "    data=pmparams_df[cols_for_heatmap2],\n",
    "    yticklabels=[],\n",
    "    standard_scale=1,\n",
    "    cmap='viridis',\n",
    ")"
   ]
  },
  {
   "cell_type": "code",
   "execution_count": null,
   "id": "11d76550",
   "metadata": {},
   "outputs": [],
   "source": []
  },
  {
   "cell_type": "code",
   "execution_count": null,
   "id": "24c91a80-4306-4387-9142-0a4122ca6215",
   "metadata": {},
   "outputs": [],
   "source": []
  },
  {
   "cell_type": "code",
   "execution_count": null,
   "id": "52f69bfd-ec5a-479b-a448-4917e570cea9",
   "metadata": {},
   "outputs": [],
   "source": [
    "mparams_df"
   ]
  },
  {
   "cell_type": "code",
   "execution_count": null,
   "id": "8ab1ed6b-986c-4fa5-bc0b-95cb08cb95fa",
   "metadata": {},
   "outputs": [],
   "source": [
    "X = mparams_df.pivot(\n",
    "    index=['run_id', 'y_pred', 'VPRO'], columns='param', values='FC'\n",
    ")"
   ]
  },
  {
   "cell_type": "code",
   "execution_count": null,
   "id": "8a2b27c8-89c8-4989-aaf4-97ef7aa3ac34",
   "metadata": {},
   "outputs": [],
   "source": [
    "X"
   ]
  },
  {
   "cell_type": "code",
   "execution_count": null,
   "id": "d34bf003-bf23-449b-a6c3-04e9f24e45e0",
   "metadata": {},
   "outputs": [],
   "source": [
    "significant_params_strong_sustained, significant_params"
   ]
  },
  {
   "cell_type": "code",
   "execution_count": null,
   "id": "62d68773-0570-43dc-af22-8f41b62eb5f8",
   "metadata": {
    "scrolled": true
   },
   "outputs": [],
   "source": [
    "significant_params_all = list(set(significant_params.to_list()+significant_params_strong_sustained.to_list()))\n",
    "significant_params_all"
   ]
  },
  {
   "cell_type": "code",
   "execution_count": null,
   "id": "0b194800-a826-4950-ac98-48e20c10f965",
   "metadata": {},
   "outputs": [],
   "source": [
    "from sklearn.decomposition import PCA\n"
   ]
  },
  {
   "cell_type": "code",
   "execution_count": null,
   "id": "2f97718b-dd7a-423e-a66c-b33ef17cd09c",
   "metadata": {},
   "outputs": [],
   "source": [
    "pca =  PCA(n_components=10)\n",
    "Xpca = pca.fit_transform(X)\n",
    "explained_variance_ = pca.explained_variance_\n",
    "cols = [f'PCA{i} ({v:2.1f}%)' for i, v in enumerate(explained_variance_, start=1)]\n",
    "pcadf = pd.DataFrame(Xpca, columns=cols, index=X.index)\n",
    "pcadf.reset_index(inplace=True)\n"
   ]
  },
  {
   "cell_type": "code",
   "execution_count": null,
   "id": "7c31724f-86e7-4ae4-8a52-3b5367b6f5db",
   "metadata": {},
   "outputs": [],
   "source": [
    "explained_variance_"
   ]
  },
  {
   "cell_type": "code",
   "execution_count": null,
   "id": "fb359f72-1bcf-4ccd-8b3b-54b0ade4cb0f",
   "metadata": {},
   "outputs": [],
   "source": [
    "import colorcet as cc"
   ]
  },
  {
   "cell_type": "code",
   "execution_count": null,
   "id": "aa548045-7ec4-42e9-99a8-e8227e257359",
   "metadata": {},
   "outputs": [],
   "source": [
    "gorder"
   ]
  },
  {
   "cell_type": "code",
   "execution_count": null,
   "id": "1ea83cad-6196-4af2-b54a-fe6d68e0ae09",
   "metadata": {},
   "outputs": [],
   "source": [
    "y_pred_size_dict = {'Strong' : 55, 'Sustained' : 50, 'Weak' : 10, 'Inhibited' : 45, 'Axenic' : 10, 'Other' : 10}"
   ]
  },
  {
   "cell_type": "code",
   "execution_count": null,
   "id": "5116c542-88c6-4aae-ae44-a844ef55984a",
   "metadata": {},
   "outputs": [],
   "source": [
    "plt.rcParams[\"legend.markerscale\"] = 2\n",
    "sns.relplot(\n",
    "    data=pcadf, #.loc[~pcadf.y_pred.isin(['Other'])]\n",
    "    x=cols[0], y=cols[1],  #style='model', \n",
    "    aspect=1.4, alpha=0.5, height=10,\n",
    "    hue='y_pred', hue_order=reversed(gorder), palette=reversed(gpalette),\n",
    "    style = 'y_pred', size = 'y_pred', style_order=reversed(gorder), sizes=y_pred_size_dict,\n",
    ")\n",
    "\n",
    "plt.title(f'{model} - PCA - all params')\n"
   ]
  },
  {
   "cell_type": "code",
   "execution_count": null,
   "id": "8ec65995-ced3-4d7a-936f-3f58993edfce",
   "metadata": {},
   "outputs": [],
   "source": [
    "plt.rcParams[\"legend.markerscale\"] = 2\n",
    "sns.relplot(\n",
    "    data=pcadf, #.loc[~pcadf.y_pred.isin(['Other'])]\n",
    "    x=cols[2], y=cols[3],  #style='model', \n",
    "    aspect=1.4, alpha=0.5, height=10,\n",
    "    hue='y_pred', hue_order=reversed(gorder), palette=reversed(gpalette),\n",
    "    style = 'y_pred', size = 'y_pred', style_order=reversed(gorder), sizes=y_pred_size_dict,\n",
    ")\n",
    "\n",
    "plt.title(f'{model} - PCA - all params')\n"
   ]
  },
  {
   "cell_type": "code",
   "execution_count": null,
   "id": "f486638c-fe34-4bc9-8baa-3571ba076362",
   "metadata": {},
   "outputs": [],
   "source": [
    "plt.rcParams[\"legend.markerscale\"] = 2\n",
    "sns.relplot(\n",
    "    data=pcadf, #.loc[~pcadf.y_pred.isin(['Other'])]\n",
    "    x=cols[4], y=cols[5],  #style='model', \n",
    "    aspect=1.4, alpha=0.5, height=10,\n",
    "    hue='y_pred', hue_order=reversed(gorder), palette=reversed(gpalette),\n",
    "    style = 'y_pred', size = 'y_pred', style_order=reversed(gorder), sizes=y_pred_size_dict,\n",
    ")\n",
    "\n",
    "plt.title(f'{model} - PCA - all params')\n"
   ]
  },
  {
   "cell_type": "code",
   "execution_count": null,
   "id": "b6f030f8-74da-4f90-99c5-d5ea2f3e7185",
   "metadata": {},
   "outputs": [],
   "source": [
    "plt.rcParams[\"legend.markerscale\"] = 2\n",
    "sns.relplot(\n",
    "    data=pcadf, #.loc[~pcadf.y_pred.isin(['Other'])]\n",
    "    x=cols[6], y=cols[7],  #style='model', \n",
    "    aspect=1.4, alpha=0.5, height=10,\n",
    "    hue='y_pred', hue_order=reversed(gorder), palette=reversed(gpalette),\n",
    "    style = 'y_pred', size = 'y_pred', style_order=reversed(gorder), sizes=y_pred_size_dict,\n",
    ")\n",
    "\n",
    "plt.title(f'{model} - PCA - all params')\n"
   ]
  },
  {
   "cell_type": "code",
   "execution_count": null,
   "id": "a6eaed51-25d3-4bd0-810f-9dc0c8630571",
   "metadata": {},
   "outputs": [],
   "source": [
    "plt.rcParams[\"legend.markerscale\"] = 2\n",
    "sns.relplot(\n",
    "    data=pcadf, #.loc[~pcadf.y_pred.isin(['Other'])]\n",
    "    x=cols[8], y=cols[9],  #style='model', \n",
    "    aspect=1.4, alpha=0.5, height=10,\n",
    "    hue='y_pred', hue_order=reversed(gorder), palette=reversed(gpalette),\n",
    "    style = 'y_pred', size = 'y_pred', style_order=reversed(gorder), sizes=y_pred_size_dict,\n",
    ")\n",
    "\n",
    "plt.title(f'{model} - PCA - all params')\n"
   ]
  },
  {
   "cell_type": "code",
   "execution_count": null,
   "id": "d5d3e60b-246b-4caa-9a9e-4045efb5cf90",
   "metadata": {},
   "outputs": [],
   "source": [
    "plt.rcParams[\"legend.markerscale\"] = 2\n",
    "sns.relplot(\n",
    "    data=pcadf, #.loc[~pcadf.y_pred.isin(['Other'])]\n",
    "    x=cols[0], y=cols[1],  #style='model', \n",
    "    aspect=1.4, alpha=0.5, height=10,\n",
    "    hue='VPRO',  palette=cc.glasbey_dark,\n",
    "    style = 'y_pred', size = 'y_pred', style_order=reversed(gorder), sizes=y_pred_size_dict,\n",
    "    #s=10,\n",
    "    legend=False,\n",
    ")\n",
    "\n",
    "plt.title(f'{model} - PCA - all params')\n"
   ]
  },
  {
   "cell_type": "code",
   "execution_count": null,
   "id": "c8ed4d07-2687-4bd2-b71a-8b4cdead3bfa",
   "metadata": {},
   "outputs": [],
   "source": [
    "pca =  PCA(n_components=10)\n",
    "Xpca = pca.fit_transform(X[list(significant_params_all)])\n",
    "explained_variance_ = pca.explained_variance_\n",
    "cols = [f'PCA{i} ({v:2.1f}%)' for i, v in enumerate(explained_variance_, start=1)]\n",
    "pcadf = pd.DataFrame(Xpca, columns=cols, index=X.index)\n",
    "pcadf.reset_index(inplace=True)\n"
   ]
  },
  {
   "cell_type": "code",
   "execution_count": null,
   "id": "c796d49b-a864-4b84-bd0e-348a7db3b2ab",
   "metadata": {},
   "outputs": [],
   "source": [
    "pcadf"
   ]
  },
  {
   "cell_type": "code",
   "execution_count": null,
   "id": "592bdf02-5dbf-4610-a06b-df05d4e2fd29",
   "metadata": {},
   "outputs": [],
   "source": [
    "plt.rcParams[\"legend.markerscale\"] = 2\n",
    "sns.relplot(\n",
    "    data=pcadf, #.loc[~pcadf.y_pred.isin(['Other'])]\n",
    "    x=cols[0], y=cols[1],  #style='model', \n",
    "    aspect=1.4, alpha=0.5, height=10,\n",
    "    hue='y_pred', hue_order=reversed(gorder), palette=reversed(gpalette),\n",
    "    style = 'y_pred', size = 'y_pred', style_order=reversed(gorder), sizes=y_pred_size_dict,\n",
    ")\n",
    "\n",
    "plt.title(f'{model} - PCA - significant params')\n"
   ]
  },
  {
   "cell_type": "code",
   "execution_count": null,
   "id": "a1efb954-875e-4be8-aa67-edfabd70acd8",
   "metadata": {},
   "outputs": [],
   "source": [
    "plt.rcParams[\"legend.markerscale\"] = 2\n",
    "sns.relplot(\n",
    "    data=pcadf, #.loc[~pcadf.y_pred.isin(['Other'])]\n",
    "    x=cols[2], y=cols[3],  #style='model', \n",
    "    aspect=1.4, alpha=0.5, height=10,\n",
    "    hue='y_pred', hue_order=reversed(gorder), palette=reversed(gpalette),\n",
    "    style = 'y_pred', size = 'y_pred', style_order=reversed(gorder), sizes=y_pred_size_dict,\n",
    ")\n",
    "\n",
    "plt.title(f'{model} - PCA - significant params')\n"
   ]
  },
  {
   "cell_type": "code",
   "execution_count": null,
   "id": "cc9b2600-4743-42bd-9be1-14a616ba3bbd",
   "metadata": {},
   "outputs": [],
   "source": [
    "plt.rcParams[\"legend.markerscale\"] = 2\n",
    "sns.relplot(\n",
    "    data=pcadf, #.loc[~pcadf.y_pred.isin(['Other'])]\n",
    "    x=cols[4], y=cols[5],  #style='model', \n",
    "    aspect=1.4, alpha=0.5, height=10,\n",
    "    hue='y_pred', hue_order=reversed(gorder), palette=reversed(gpalette),\n",
    "    style = 'y_pred', size = 'y_pred', style_order=reversed(gorder), sizes=y_pred_size_dict,\n",
    ")\n",
    "\n",
    "plt.title(f'{model} - PCA - significant params')\n"
   ]
  },
  {
   "cell_type": "code",
   "execution_count": null,
   "id": "8ec56312-88d2-4c7c-bee3-95af567aa793",
   "metadata": {},
   "outputs": [],
   "source": [
    "plt.rcParams[\"legend.markerscale\"] = 2\n",
    "sns.relplot(\n",
    "    data=pcadf, #.loc[~pcadf.y_pred.isin(['Other'])]\n",
    "    x=cols[6], y=cols[7],  #style='model', \n",
    "    aspect=1.4, alpha=0.5, height=10,\n",
    "    hue='y_pred', hue_order=reversed(gorder), palette=reversed(gpalette),\n",
    "    style = 'y_pred', size = 'y_pred', style_order=reversed(gorder), sizes=y_pred_size_dict,\n",
    ")\n",
    "\n",
    "plt.title(f'{model} - PCA - significant params')\n"
   ]
  },
  {
   "cell_type": "code",
   "execution_count": null,
   "id": "71a43b7c-390a-4a51-a361-32ccee16d337",
   "metadata": {},
   "outputs": [],
   "source": [
    "plt.rcParams[\"legend.markerscale\"] = 2\n",
    "sns.relplot(\n",
    "    data=pcadf, #.loc[~pcadf.y_pred.isin(['Other'])]\n",
    "    x=cols[8], y=cols[9],  #style='model', \n",
    "    aspect=1.4, alpha=0.5, height=10,\n",
    "    hue='y_pred', hue_order=reversed(gorder), palette=reversed(gpalette),\n",
    "    style = 'y_pred', size = 'y_pred', style_order=reversed(gorder), sizes=y_pred_size_dict,\n",
    ")\n",
    "\n",
    "plt.title(f'{model} - PCA - significant params')\n"
   ]
  },
  {
   "cell_type": "code",
   "execution_count": null,
   "id": "201bdadb-a56e-4c9a-a599-1182bc905829",
   "metadata": {},
   "outputs": [],
   "source": [
    "plt.rcParams[\"legend.markerscale\"] = 2\n",
    "sns.relplot(\n",
    "    data=pcadf, #.loc[~pcadf.y_pred.isin(['Other'])]\n",
    "    x=cols[0], y=cols[1],  #style='model', \n",
    "    aspect=1.4, alpha=0.5, height=10,\n",
    "    hue='VPRO',  palette=cc.glasbey_dark,\n",
    "    style = 'y_pred', size = 'y_pred', style_order=reversed(gorder), sizes=y_pred_size_dict,\n",
    "    #s=10,\n",
    "    legend=False,\n",
    ")\n",
    "\n",
    "plt.title(f'{model} - PCA - significant params')\n"
   ]
  },
  {
   "cell_type": "code",
   "execution_count": null,
   "id": "f93f205e-4884-452a-8443-04a1c41563b8",
   "metadata": {},
   "outputs": [],
   "source": [
    "plt.rcParams[\"legend.markerscale\"] = 2\n",
    "sns.relplot(\n",
    "    data=pcadf, #.loc[~pcadf.y_pred.isin(['Other'])]\n",
    "    x=cols[2], y=cols[3],  #style='model', \n",
    "    aspect=1.4, alpha=0.5, height=10,\n",
    "    hue='VPRO',  palette=cc.glasbey_dark,\n",
    "    style = 'y_pred', size = 'y_pred', style_order=reversed(gorder), sizes=y_pred_size_dict,\n",
    "    #s=10,\n",
    "    legend=False,\n",
    ")\n",
    "\n",
    "plt.title(f'{model} - PCA - significant params')\n"
   ]
  },
  {
   "cell_type": "code",
   "execution_count": null,
   "id": "a4a79f86-2275-4391-abd6-32f4dcaf29c3",
   "metadata": {},
   "outputs": [],
   "source": [
    "plt.rcParams[\"legend.markerscale\"] = 2\n",
    "sns.relplot(\n",
    "    data=pcadf, #.loc[~pcadf.y_pred.isin(['Other'])]\n",
    "    x=cols[6], y=cols[7],  #style='model', \n",
    "    aspect=1.4, alpha=0.5, height=10,\n",
    "    hue='VPRO',  palette=cc.glasbey_dark,\n",
    "    style = 'y_pred', size = 'y_pred', style_order=reversed(gorder), sizes=y_pred_size_dict,\n",
    "    #s=10,\n",
    "    legend=False,\n",
    ")\n",
    "\n",
    "plt.title(f'{model} - PCA - significant params')\n"
   ]
  },
  {
   "cell_type": "code",
   "execution_count": null,
   "id": "347d5bd9-79af-4ae0-9c2a-45b0f3b6602c",
   "metadata": {},
   "outputs": [],
   "source": [
    "plt.rcParams[\"legend.markerscale\"] = 2\n",
    "sns.relplot(\n",
    "    data=pcadf, #.loc[~pcadf.y_pred.isin(['Other'])]\n",
    "    x=cols[4], y=cols[5],  #style='model', \n",
    "    aspect=1.4, alpha=0.5, height=10,\n",
    "    hue='VPRO',  palette=cc.glasbey_dark,\n",
    "    style = 'y_pred', size = 'y_pred', style_order=reversed(gorder), sizes=y_pred_size_dict,\n",
    "    #s=10,\n",
    "    legend=False,\n",
    ")\n",
    "\n",
    "plt.title(f'{model} - PCA - significant params')\n"
   ]
  },
  {
   "cell_type": "code",
   "execution_count": null,
   "id": "e53935cc-5ba1-4cbd-99f1-dabf01782832",
   "metadata": {},
   "outputs": [],
   "source": [
    "pca =  PCA(n_components=2)\n",
    "Xpca = pca.fit_transform(X[list(significant_params)])\n",
    "explained_variance_ = pca.explained_variance_\n",
    "cols = [f'PCA1 ({explained_variance_[0]:2.1f}%)', f'PCA2 ({explained_variance_[1]:2.1f}%)']\n",
    "pcadf = pd.DataFrame(Xpca, columns=cols, index=X.index)\n",
    "pcadf.reset_index(inplace=True)\n"
   ]
  },
  {
   "cell_type": "code",
   "execution_count": null,
   "id": "b5759cef-6d95-4879-b5e8-b28f600d0d8d",
   "metadata": {},
   "outputs": [],
   "source": [
    "pcadf['y_pred_size']  = pcadf.y_pred.map({'Strong' : 30, 'Sustained' : 20, 'Weak' : 1, 'Inhibited' : 25, 'Axenic' : 1, 'Other' : 1})"
   ]
  },
  {
   "cell_type": "code",
   "execution_count": null,
   "id": "38314896-92fa-4c0c-b88c-fd8554540fdf",
   "metadata": {},
   "outputs": [],
   "source": [
    "plt.rcParams[\"legend.markerscale\"] = 2\n",
    "sns.relplot(\n",
    "    data=pcadf, #.loc[~pcadf.y_pred.isin(['Other'])]\n",
    "    x=cols[0], y=cols[1],  #style='model', \n",
    "    aspect=1.4, alpha=0.5, height=10,\n",
    "    hue='y_pred', hue_order=gorder, palette=gpalette,\n",
    "    style = 'y_pred', size = 'y_pred_size', style_order=gorder, #sizes=(5,50),\n",
    ")\n",
    "\n",
    "plt.title(f'{model} - PCA - significant params')\n"
   ]
  },
  {
   "cell_type": "code",
   "execution_count": null,
   "id": "658f6ac4-6bb8-48e2-9bdb-2e79394b0375",
   "metadata": {},
   "outputs": [],
   "source": [
    "plt.rcParams[\"legend.markerscale\"] = 2\n",
    "sns.relplot(\n",
    "    data=pcadf, #.loc[~pcadf.y_pred.isin(['Other'])]\n",
    "    x=cols[0], y=cols[1],  #style='model', \n",
    "    aspect=1.4, alpha=0.5, height=10,\n",
    "    hue='VPRO',  palette=cc.glasbey_dark,\n",
    "    style = 'y_pred', size = 'y_pred_size', style_order=gorder,#sizes=(5,50),\n",
    "    #s=10,\n",
    "    legend=False,\n",
    ")\n",
    "\n",
    "plt.title(f'{model} - PCA - significant params')\n"
   ]
  },
  {
   "cell_type": "code",
   "execution_count": null,
   "id": "a0f7a0ac-d5ec-41e5-9675-266704157b72",
   "metadata": {},
   "outputs": [],
   "source": []
  },
  {
   "cell_type": "code",
   "execution_count": null,
   "id": "f861014d-f1a7-4cb3-a8e3-4de8b8c00cc2",
   "metadata": {},
   "outputs": [],
   "source": [
    "pca =  PCA(n_components=2)\n",
    "Xstrong = X.loc[X.index.get_level_values('y_pred').isin(['Strong', 'Sustained'])]\n",
    "Xpca = pca.fit_transform(Xstrong)\n",
    "\n",
    "explained_variance_ = pca.explained_variance_\n",
    "cols = [f'PCA1 ({explained_variance_[0]:2.1f}%)', f'PCA2 ({explained_variance_[1]:2.1f}%)']\n",
    "pcadf = pd.DataFrame(Xpca, columns=cols, index=Xstrong.index)\n",
    "pcadf.reset_index(inplace=True)\n"
   ]
  },
  {
   "cell_type": "code",
   "execution_count": null,
   "id": "0b10b9c7-9944-403d-9922-f5cc433339ce",
   "metadata": {},
   "outputs": [],
   "source": [
    "pcadf['y_pred_size']  = pcadf.y_pred.map({'Strong' : 30, 'Sustained' : 20, 'Weak' : 1, 'Inhibited' : 25, 'Axenic' : 1, 'Other' : 1})"
   ]
  },
  {
   "cell_type": "code",
   "execution_count": null,
   "id": "df7b70f3-bd15-4bb3-a9bd-3ccab7fb15fd",
   "metadata": {},
   "outputs": [],
   "source": [
    "plt.rcParams[\"legend.markerscale\"] = 2\n",
    "sns.relplot(\n",
    "    data=pcadf, #.loc[~pcadf.y_pred.isin(['Other'])]\n",
    "    x=cols[0], y=cols[1],  #style='model', \n",
    "    aspect=1.4, alpha=0.5, height=10,\n",
    "    hue='y_pred', hue_order=gorder, palette=gpalette,\n",
    "    style = 'y_pred', size = 'y_pred_size', style_order=gorder, #sizes=(5,50),\n",
    ")\n",
    "\n",
    "plt.title(f'{model} - PCA - Strong/Sustained - all params')\n"
   ]
  },
  {
   "cell_type": "code",
   "execution_count": null,
   "id": "4b81be29-86da-47fc-ab7c-079536ac3fd0",
   "metadata": {},
   "outputs": [],
   "source": [
    "plt.rcParams[\"legend.markerscale\"] = 2\n",
    "sns.relplot(\n",
    "    data=pcadf, #.loc[~pcadf.y_pred.isin(['Other'])]\n",
    "    x=cols[0], y=cols[1],  #style='model', \n",
    "    aspect=1.4, alpha=0.5, height=10,\n",
    "    hue='VPRO',  palette=cc.glasbey_dark,\n",
    "    style = 'y_pred', size = 'y_pred_size', style_order=gorder, #sizes=(5,50),\n",
    "    legend=False,\n",
    ")\n",
    "\n",
    "plt.title(f'{model} - PCA - Strong/Sustained - all params')\n"
   ]
  },
  {
   "cell_type": "code",
   "execution_count": null,
   "id": "090cf378-9dbf-4955-ac59-75079a48f68b",
   "metadata": {},
   "outputs": [],
   "source": [
    "pca =  PCA(n_components=2)\n",
    "Xstrong = X.loc[X.index.get_level_values('y_pred').isin(['Strong', 'Sustained']), list(significant_params_all)]\n",
    "Xpca = pca.fit_transform(Xstrong)\n",
    "\n",
    "explained_variance_ = pca.explained_variance_\n",
    "cols = [f'PCA1 ({explained_variance_[0]:2.1f}%)', f'PCA2 ({explained_variance_[1]:2.1f}%)']\n",
    "pcadf = pd.DataFrame(Xpca, columns=cols, index=Xstrong.index)\n",
    "pcadf.reset_index(inplace=True)\n"
   ]
  },
  {
   "cell_type": "code",
   "execution_count": null,
   "id": "14fc6728-f633-4303-98fc-59ccbd31266e",
   "metadata": {},
   "outputs": [],
   "source": [
    "pcadf['y_pred_size']  = pcadf.y_pred.map({'Strong' : 30, 'Sustained' : 20, 'Weak' : 1, 'Inhibited' : 25, 'Axenic' : 1, 'Other' : 1})"
   ]
  },
  {
   "cell_type": "code",
   "execution_count": null,
   "id": "46a5b1ae-3892-4679-b828-10d1084a042c",
   "metadata": {},
   "outputs": [],
   "source": [
    "plt.rcParams[\"legend.markerscale\"] = 2\n",
    "sns.relplot(\n",
    "    data=pcadf, #.loc[~pcadf.y_pred.isin(['Other'])]\n",
    "    x=cols[0], y=cols[1],  #style='model', \n",
    "    aspect=1.4, alpha=0.5, height=10,\n",
    "    hue='y_pred', hue_order=gorder, palette=gpalette,\n",
    "    style = 'y_pred', size = 'y_pred_size', style_order=gorder, #sizes=(5,50),\n",
    ")\n",
    "\n",
    "plt.title(f'{model} - PCA - Strong/Sustained - significant params')\n"
   ]
  },
  {
   "cell_type": "code",
   "execution_count": null,
   "id": "ce2f2621-6812-452c-8657-d94ebb0978d6",
   "metadata": {},
   "outputs": [],
   "source": [
    "plt.rcParams[\"legend.markerscale\"] = 2\n",
    "sns.relplot(\n",
    "    data=pcadf, #.loc[~pcadf.y_pred.isin(['Other'])]\n",
    "    x=cols[0], y=cols[1],  #style='model', \n",
    "    aspect=1.4, alpha=0.5, height=10,\n",
    "    hue='VPRO',  palette=cc.glasbey_dark,\n",
    "    style = 'y_pred', size = 'y_pred_size', style_order=gorder, #sizes=(5,50),\n",
    "    legend=False,\n",
    ")\n",
    "\n",
    "plt.title(f'{model} - PCA - Strong/Sustained - significant params')\n"
   ]
  },
  {
   "cell_type": "code",
   "execution_count": null,
   "id": "e90fcf75-0f33-4446-be23-d89834b21f81",
   "metadata": {},
   "outputs": [],
   "source": []
  },
  {
   "cell_type": "code",
   "execution_count": null,
   "id": "80fb3264-0ddd-4023-8d6d-2064bf34c4d7",
   "metadata": {},
   "outputs": [],
   "source": []
  }
 ],
 "metadata": {
  "kernelspec": {
   "display_name": "Python 3 (ipykernel)",
   "language": "python",
   "name": "python3"
  },
  "language_info": {
   "codemirror_mode": {
    "name": "ipython",
    "version": 3
   },
   "file_extension": ".py",
   "mimetype": "text/x-python",
   "name": "python",
   "nbconvert_exporter": "python",
   "pygments_lexer": "ipython3",
   "version": "3.11.7"
  }
 },
 "nbformat": 4,
 "nbformat_minor": 5
}
