{
 "cells": [
  {
   "cell_type": "code",
   "execution_count": 4,
   "id": "0b5df45e",
   "metadata": {},
   "outputs": [],
   "source": [
    "import numpy as np\n",
    "import pandas as pd\n",
    "import matplotlib.pyplot as plt\n",
    "import seaborn as sns\n",
    "import pprint\n",
    "sns.set(style=\"white\", context='poster')\n",
    "import math\n",
    "from scipy.integrate import solve_ivp"
   ]
  },
  {
   "cell_type": "code",
   "execution_count": 5,
   "id": "4d435a10",
   "metadata": {},
   "outputs": [
    {
     "name": "stdout",
     "output_type": "stream",
     "text": [
      "The autoreload extension is already loaded. To reload it, use:\n",
      "  %reload_ext autoreload\n"
     ]
    }
   ],
   "source": [
    "%load_ext autoreload\n",
    "%autoreload 2\n"
   ]
  },
  {
   "cell_type": "raw",
   "id": "8d879b54-5f8b-494e-8e8a-90d0e361cf88",
   "metadata": {},
   "source": [
    "#from model_equations_separate_NC import *\n",
    "from model_equations_separate_NC_store_numba import *\n"
   ]
  },
  {
   "cell_type": "code",
   "execution_count": 6,
   "id": "6df9ae5e",
   "metadata": {},
   "outputs": [
    {
     "data": {
      "text/html": [
       "<svg  width=\"165\" height=\"55\"><rect x=\"0\" y=\"0\" width=\"55\" height=\"55\" style=\"fill:#5e43a5;stroke-width:2;stroke:rgb(255,255,255)\"/><rect x=\"55\" y=\"0\" width=\"55\" height=\"55\" style=\"fill:#8e2c50;stroke-width:2;stroke:rgb(255,255,255)\"/><rect x=\"110\" y=\"0\" width=\"55\" height=\"55\" style=\"fill:#c6896c;stroke-width:2;stroke:rgb(255,255,255)\"/></svg>"
      ],
      "text/plain": [
       "[(0.3668108554010799, 0.26404857724525643, 0.6464799165290824),\n",
       " (0.5566322903496934, 0.17269677158182117, 0.31423043195101424),\n",
       " (0.775907907306857, 0.5355421788246119, 0.42413367909988375)]"
      ]
     },
     "execution_count": 6,
     "metadata": {},
     "output_type": "execute_result"
    }
   ],
   "source": [
    "morder = ['MIN', 'OVERFLOW', 'MIXOTROPH', 'EXOENZYME', 'ROS',]\n",
    "media_order = ['lowN', 'pro99']\n",
    "mpalette = 'twilight'\n",
    "mpalette = sns.color_palette(mpalette, n_colors=5)\n",
    "\n",
    "morder= [morder[1]] + morder[3:]\n",
    "mpalette= [mpalette[1]] + mpalette[3:]\n",
    "sns.color_palette(mpalette)\n"
   ]
  },
  {
   "cell_type": "code",
   "execution_count": 7,
   "id": "771741be",
   "metadata": {},
   "outputs": [
    {
     "data": {
      "text/html": [
       "<svg  width=\"330\" height=\"55\"><rect x=\"0\" y=\"0\" width=\"55\" height=\"55\" style=\"fill:#66c2a5;stroke-width:2;stroke:rgb(255,255,255)\"/><rect x=\"55\" y=\"0\" width=\"55\" height=\"55\" style=\"fill:#fc8d62;stroke-width:2;stroke:rgb(255,255,255)\"/><rect x=\"110\" y=\"0\" width=\"55\" height=\"55\" style=\"fill:#8da0cb;stroke-width:2;stroke:rgb(255,255,255)\"/><rect x=\"165\" y=\"0\" width=\"55\" height=\"55\" style=\"fill:#e78ac3;stroke-width:2;stroke:rgb(255,255,255)\"/><rect x=\"220\" y=\"0\" width=\"55\" height=\"55\" style=\"fill:#000000;stroke-width:2;stroke:rgb(255,255,255)\"/><rect x=\"275\" y=\"0\" width=\"55\" height=\"55\" style=\"fill:#d3d3d3;stroke-width:2;stroke:rgb(255,255,255)\"/></svg>"
      ],
      "text/plain": [
       "[(0.4, 0.7607843137254902, 0.6470588235294118),\n",
       " (0.9882352941176471, 0.5529411764705883, 0.3843137254901961),\n",
       " (0.5529411764705883, 0.6274509803921569, 0.796078431372549),\n",
       " (0.9058823529411765, 0.5411764705882353, 0.7647058823529411),\n",
       " (0.0, 0.0, 0.0),\n",
       " (0.8274509803921568, 0.8274509803921568, 0.8274509803921568)]"
      ]
     },
     "execution_count": 7,
     "metadata": {},
     "output_type": "execute_result"
    }
   ],
   "source": [
    "gorder = [ 'Strong', 'Sustained', 'Weak', 'Inhibited','Axenic', 'Other']\n",
    "gpalette = sns.color_palette('Set2', n_colors=4).as_hex() + ['black', 'lightgrey']\n",
    "sns.color_palette(gpalette)"
   ]
  },
  {
   "cell_type": "code",
   "execution_count": 8,
   "id": "29512801",
   "metadata": {},
   "outputs": [
    {
     "data": {
      "text/html": [
       "<svg  width=\"990\" height=\"55\"><rect x=\"0\" y=\"0\" width=\"55\" height=\"55\" style=\"fill:#99cc99;stroke-width:2;stroke:rgb(255,255,255)\"/><rect x=\"55\" y=\"0\" width=\"55\" height=\"55\" style=\"fill:#aad5aa;stroke-width:2;stroke:rgb(255,255,255)\"/><rect x=\"110\" y=\"0\" width=\"55\" height=\"55\" style=\"fill:#ffc58f;stroke-width:2;stroke:rgb(255,255,255)\"/><rect x=\"165\" y=\"0\" width=\"55\" height=\"55\" style=\"fill:#ffd2a9;stroke-width:2;stroke:rgb(255,255,255)\"/><rect x=\"220\" y=\"0\" width=\"55\" height=\"55\" style=\"fill:#326232;stroke-width:2;stroke:rgb(255,255,255)\"/><rect x=\"275\" y=\"0\" width=\"55\" height=\"55\" style=\"fill:#ffa98f;stroke-width:2;stroke:rgb(255,255,255)\"/><rect x=\"330\" y=\"0\" width=\"55\" height=\"55\" style=\"fill:#7285b7;stroke-width:2;stroke:rgb(255,255,255)\"/><rect x=\"385\" y=\"0\" width=\"55\" height=\"55\" style=\"fill:#000000;stroke-width:2;stroke:rgb(255,255,255)\"/><rect x=\"440\" y=\"0\" width=\"55\" height=\"55\" style=\"fill:#bbdaff;stroke-width:2;stroke:rgb(255,255,255)\"/><rect x=\"495\" y=\"0\" width=\"55\" height=\"55\" style=\"fill:#99cc99;stroke-width:2;stroke:rgb(255,255,255)\"/><rect x=\"550\" y=\"0\" width=\"55\" height=\"55\" style=\"fill:#aad5aa;stroke-width:2;stroke:rgb(255,255,255)\"/><rect x=\"605\" y=\"0\" width=\"55\" height=\"55\" style=\"fill:#ffc58f;stroke-width:2;stroke:rgb(255,255,255)\"/><rect x=\"660\" y=\"0\" width=\"55\" height=\"55\" style=\"fill:#ffd2a9;stroke-width:2;stroke:rgb(255,255,255)\"/><rect x=\"715\" y=\"0\" width=\"55\" height=\"55\" style=\"fill:#326232;stroke-width:2;stroke:rgb(255,255,255)\"/><rect x=\"770\" y=\"0\" width=\"55\" height=\"55\" style=\"fill:#ffa98f;stroke-width:2;stroke:rgb(255,255,255)\"/><rect x=\"825\" y=\"0\" width=\"55\" height=\"55\" style=\"fill:#cc6666;stroke-width:2;stroke:rgb(255,255,255)\"/><rect x=\"880\" y=\"0\" width=\"55\" height=\"55\" style=\"fill:#000000;stroke-width:2;stroke:rgb(255,255,255)\"/><rect x=\"935\" y=\"0\" width=\"55\" height=\"55\" style=\"fill:#ff9da4;stroke-width:2;stroke:rgb(255,255,255)\"/></svg>"
      ],
      "text/plain": [
       "[(0.6, 0.8, 0.6),\n",
       " (0.6666666666666666, 0.8352941176470589, 0.6666666666666666),\n",
       " (1.0, 0.7725490196078432, 0.5607843137254902),\n",
       " (1.0, 0.8235294117647058, 0.6627450980392157),\n",
       " (0.19607843137254902, 0.3843137254901961, 0.19607843137254902),\n",
       " (1.0, 0.6627450980392157, 0.5607843137254902),\n",
       " (0.4470588235294118, 0.5215686274509804, 0.7176470588235294),\n",
       " (0.0, 0.0, 0.0),\n",
       " (0.7333333333333333, 0.8549019607843137, 1.0),\n",
       " (0.6, 0.8, 0.6),\n",
       " (0.6666666666666666, 0.8352941176470589, 0.6666666666666666),\n",
       " (1.0, 0.7725490196078432, 0.5607843137254902),\n",
       " (1.0, 0.8235294117647058, 0.6627450980392157),\n",
       " (0.19607843137254902, 0.3843137254901961, 0.19607843137254902),\n",
       " (1.0, 0.6627450980392157, 0.5607843137254902),\n",
       " (0.8, 0.4, 0.4),\n",
       " (0.0, 0.0, 0.0),\n",
       " (1.0, 0.615686274509804, 0.6431372549019608)]"
      ]
     },
     "execution_count": 8,
     "metadata": {},
     "output_type": "execute_result"
    }
   ],
   "source": [
    "\n",
    "HCOLOR = '#ffc58f'\n",
    "HCOLOR_light = '#ffd2a9'\n",
    "PCOLOR = '#99cc99'\n",
    "PCOLOR_light = '#aad5aa'\n",
    "\n",
    "DONCOLOR = '#7285b7'\n",
    "RDONCOLOR = 'black' #'#00334D'\n",
    "DINCOLOR = '#bbdaff' #'#000066'\n",
    "\n",
    "DOCCOLOR = '#cc6666'\n",
    "RDOCCOLOR = 'black' #'#00334D'\n",
    "DICCOLOR = '#ff9da4' #'#000066'\n",
    "\n",
    "SHCOLOR = '#ffa98f'\n",
    "SPCOLOR = '#326232'\n",
    "\n",
    "\n",
    "ccnpalette = [PCOLOR, PCOLOR_light, HCOLOR, HCOLOR_light, SPCOLOR, SHCOLOR,DONCOLOR, RDONCOLOR, DINCOLOR]\n",
    "ccnorder = ['Bp', 'Np', 'Bh','Nh',  'ABp', 'ABh', 'DON', 'RDON', 'DIN', ]\n",
    "cccpalette = [PCOLOR, PCOLOR_light, HCOLOR, HCOLOR_light, SPCOLOR, SHCOLOR, DOCCOLOR, RDOCCOLOR, DICCOLOR]\n",
    "cccorder = ['Bp[C]', 'Cp', 'Bh[C]', 'Ch', 'ABp[C]', 'ABh[C]', 'DOC', 'RDOC', 'DIC']\n",
    "ccxpalette = [PCOLOR, HCOLOR]\n",
    "ccxorder = ['Xp', 'Xh']\n",
    "hnpalette = [ HCOLOR_light, SPCOLOR, SHCOLOR, DONCOLOR, RDONCOLOR, DINCOLOR]\n",
    "hnorder = [ 'Bh', 'ABp', 'ABh', 'DON', 'RDON', 'DIN']\n",
    "hcpalette = [ HCOLOR_light, SPCOLOR, SHCOLOR, DOCCOLOR, RDOCCOLOR, DICCOLOR]\n",
    "hcorder = [ 'Bh[C]', 'ABp[C]', 'ABh[C]', 'DOC', 'RDOC', 'DIC']\n",
    "pnpalette = [ PCOLOR_light, SPCOLOR, SHCOLOR, DONCOLOR, RDONCOLOR, DINCOLOR]\n",
    "pnorder = [ 'Bp', 'ABp', 'ABh', 'DON', 'RDON', 'DIN']\n",
    "pcpalette = [ PCOLOR_light, SPCOLOR, SHCOLOR, DOCCOLOR, RDOCCOLOR, DICCOLOR]\n",
    "pcorder = [ 'Bp[C]', 'ABp[C]', 'ABh[C]', 'DOC', 'RDOC', 'DIC']\n",
    "sns.color_palette(ccnpalette + cccpalette, )\n",
    "# \n"
   ]
  },
  {
   "cell_type": "code",
   "execution_count": 9,
   "id": "50aee2e4",
   "metadata": {},
   "outputs": [],
   "source": [
    "plt.rcParams['figure.dpi']= 300"
   ]
  },
  {
   "cell_type": "code",
   "execution_count": 10,
   "id": "041f9573",
   "metadata": {},
   "outputs": [
    {
     "data": {
      "text/html": [
       "<svg  width=\"220\" height=\"55\"><rect x=\"0\" y=\"0\" width=\"55\" height=\"55\" style=\"fill:#99cc99;stroke-width:2;stroke:rgb(255,255,255)\"/><rect x=\"55\" y=\"0\" width=\"55\" height=\"55\" style=\"fill:#ffc58f;stroke-width:2;stroke:rgb(255,255,255)\"/><rect x=\"110\" y=\"0\" width=\"55\" height=\"55\" style=\"fill:#aad5aa;stroke-width:2;stroke:rgb(255,255,255)\"/><rect x=\"165\" y=\"0\" width=\"55\" height=\"55\" style=\"fill:#ffd2a9;stroke-width:2;stroke:rgb(255,255,255)\"/></svg>"
      ],
      "text/plain": [
       "[(0.6, 0.8, 0.6),\n",
       " (1.0, 0.7725490196078432, 0.5607843137254902),\n",
       " (0.6666666666666666, 0.8352941176470589, 0.6666666666666666),\n",
       " (1.0, 0.8235294117647058, 0.6627450980392157)]"
      ]
     },
     "execution_count": 10,
     "metadata": {},
     "output_type": "execute_result"
    }
   ],
   "source": [
    "\n",
    " \n",
    "sns.color_palette([PCOLOR, HCOLOR, PCOLOR_light, HCOLOR_light] )\n"
   ]
  },
  {
   "cell_type": "code",
   "execution_count": 11,
   "id": "10f7a882",
   "metadata": {},
   "outputs": [
    {
     "ename": "FileNotFoundError",
     "evalue": "[Errno 2] No such file or directory: 'reference_10cc_axenic.xlsx'",
     "output_type": "error",
     "traceback": [
      "\u001b[0;31m---------------------------------------------------------------------------\u001b[0m",
      "\u001b[0;31mFileNotFoundError\u001b[0m                         Traceback (most recent call last)",
      "Cell \u001b[0;32mIn[11], line 1\u001b[0m\n\u001b[0;32m----> 1\u001b[0m refdf \u001b[38;5;241m=\u001b[39m pd\u001b[38;5;241m.\u001b[39mread_excel(\u001b[38;5;124m'\u001b[39m\u001b[38;5;124mreference_10cc_axenic.xlsx\u001b[39m\u001b[38;5;124m'\u001b[39m)\n\u001b[1;32m      2\u001b[0m refp99df \u001b[38;5;241m=\u001b[39m pd\u001b[38;5;241m.\u001b[39mread_excel(\u001b[38;5;124m'\u001b[39m\u001b[38;5;124mreference_pro99_axenic.xlsx\u001b[39m\u001b[38;5;124m'\u001b[39m)\n",
      "File \u001b[0;32m~/work/tools/anaconda3/lib/python3.11/site-packages/pandas/io/excel/_base.py:504\u001b[0m, in \u001b[0;36mread_excel\u001b[0;34m(io, sheet_name, header, names, index_col, usecols, dtype, engine, converters, true_values, false_values, skiprows, nrows, na_values, keep_default_na, na_filter, verbose, parse_dates, date_parser, date_format, thousands, decimal, comment, skipfooter, storage_options, dtype_backend, engine_kwargs)\u001b[0m\n\u001b[1;32m    502\u001b[0m \u001b[38;5;28;01mif\u001b[39;00m \u001b[38;5;129;01mnot\u001b[39;00m \u001b[38;5;28misinstance\u001b[39m(io, ExcelFile):\n\u001b[1;32m    503\u001b[0m     should_close \u001b[38;5;241m=\u001b[39m \u001b[38;5;28;01mTrue\u001b[39;00m\n\u001b[0;32m--> 504\u001b[0m     io \u001b[38;5;241m=\u001b[39m ExcelFile(\n\u001b[1;32m    505\u001b[0m         io,\n\u001b[1;32m    506\u001b[0m         storage_options\u001b[38;5;241m=\u001b[39mstorage_options,\n\u001b[1;32m    507\u001b[0m         engine\u001b[38;5;241m=\u001b[39mengine,\n\u001b[1;32m    508\u001b[0m         engine_kwargs\u001b[38;5;241m=\u001b[39mengine_kwargs,\n\u001b[1;32m    509\u001b[0m     )\n\u001b[1;32m    510\u001b[0m \u001b[38;5;28;01melif\u001b[39;00m engine \u001b[38;5;129;01mand\u001b[39;00m engine \u001b[38;5;241m!=\u001b[39m io\u001b[38;5;241m.\u001b[39mengine:\n\u001b[1;32m    511\u001b[0m     \u001b[38;5;28;01mraise\u001b[39;00m \u001b[38;5;167;01mValueError\u001b[39;00m(\n\u001b[1;32m    512\u001b[0m         \u001b[38;5;124m\"\u001b[39m\u001b[38;5;124mEngine should not be specified when passing \u001b[39m\u001b[38;5;124m\"\u001b[39m\n\u001b[1;32m    513\u001b[0m         \u001b[38;5;124m\"\u001b[39m\u001b[38;5;124man ExcelFile - ExcelFile already has the engine set\u001b[39m\u001b[38;5;124m\"\u001b[39m\n\u001b[1;32m    514\u001b[0m     )\n",
      "File \u001b[0;32m~/work/tools/anaconda3/lib/python3.11/site-packages/pandas/io/excel/_base.py:1563\u001b[0m, in \u001b[0;36mExcelFile.__init__\u001b[0;34m(self, path_or_buffer, engine, storage_options, engine_kwargs)\u001b[0m\n\u001b[1;32m   1561\u001b[0m     ext \u001b[38;5;241m=\u001b[39m \u001b[38;5;124m\"\u001b[39m\u001b[38;5;124mxls\u001b[39m\u001b[38;5;124m\"\u001b[39m\n\u001b[1;32m   1562\u001b[0m \u001b[38;5;28;01melse\u001b[39;00m:\n\u001b[0;32m-> 1563\u001b[0m     ext \u001b[38;5;241m=\u001b[39m inspect_excel_format(\n\u001b[1;32m   1564\u001b[0m         content_or_path\u001b[38;5;241m=\u001b[39mpath_or_buffer, storage_options\u001b[38;5;241m=\u001b[39mstorage_options\n\u001b[1;32m   1565\u001b[0m     )\n\u001b[1;32m   1566\u001b[0m     \u001b[38;5;28;01mif\u001b[39;00m ext \u001b[38;5;129;01mis\u001b[39;00m \u001b[38;5;28;01mNone\u001b[39;00m:\n\u001b[1;32m   1567\u001b[0m         \u001b[38;5;28;01mraise\u001b[39;00m \u001b[38;5;167;01mValueError\u001b[39;00m(\n\u001b[1;32m   1568\u001b[0m             \u001b[38;5;124m\"\u001b[39m\u001b[38;5;124mExcel file format cannot be determined, you must specify \u001b[39m\u001b[38;5;124m\"\u001b[39m\n\u001b[1;32m   1569\u001b[0m             \u001b[38;5;124m\"\u001b[39m\u001b[38;5;124man engine manually.\u001b[39m\u001b[38;5;124m\"\u001b[39m\n\u001b[1;32m   1570\u001b[0m         )\n",
      "File \u001b[0;32m~/work/tools/anaconda3/lib/python3.11/site-packages/pandas/io/excel/_base.py:1419\u001b[0m, in \u001b[0;36minspect_excel_format\u001b[0;34m(content_or_path, storage_options)\u001b[0m\n\u001b[1;32m   1416\u001b[0m \u001b[38;5;28;01mif\u001b[39;00m \u001b[38;5;28misinstance\u001b[39m(content_or_path, \u001b[38;5;28mbytes\u001b[39m):\n\u001b[1;32m   1417\u001b[0m     content_or_path \u001b[38;5;241m=\u001b[39m BytesIO(content_or_path)\n\u001b[0;32m-> 1419\u001b[0m \u001b[38;5;28;01mwith\u001b[39;00m get_handle(\n\u001b[1;32m   1420\u001b[0m     content_or_path, \u001b[38;5;124m\"\u001b[39m\u001b[38;5;124mrb\u001b[39m\u001b[38;5;124m\"\u001b[39m, storage_options\u001b[38;5;241m=\u001b[39mstorage_options, is_text\u001b[38;5;241m=\u001b[39m\u001b[38;5;28;01mFalse\u001b[39;00m\n\u001b[1;32m   1421\u001b[0m ) \u001b[38;5;28;01mas\u001b[39;00m handle:\n\u001b[1;32m   1422\u001b[0m     stream \u001b[38;5;241m=\u001b[39m handle\u001b[38;5;241m.\u001b[39mhandle\n\u001b[1;32m   1423\u001b[0m     stream\u001b[38;5;241m.\u001b[39mseek(\u001b[38;5;241m0\u001b[39m)\n",
      "File \u001b[0;32m~/work/tools/anaconda3/lib/python3.11/site-packages/pandas/io/common.py:872\u001b[0m, in \u001b[0;36mget_handle\u001b[0;34m(path_or_buf, mode, encoding, compression, memory_map, is_text, errors, storage_options)\u001b[0m\n\u001b[1;32m    863\u001b[0m         handle \u001b[38;5;241m=\u001b[39m \u001b[38;5;28mopen\u001b[39m(\n\u001b[1;32m    864\u001b[0m             handle,\n\u001b[1;32m    865\u001b[0m             ioargs\u001b[38;5;241m.\u001b[39mmode,\n\u001b[0;32m   (...)\u001b[0m\n\u001b[1;32m    868\u001b[0m             newline\u001b[38;5;241m=\u001b[39m\u001b[38;5;124m\"\u001b[39m\u001b[38;5;124m\"\u001b[39m,\n\u001b[1;32m    869\u001b[0m         )\n\u001b[1;32m    870\u001b[0m     \u001b[38;5;28;01melse\u001b[39;00m:\n\u001b[1;32m    871\u001b[0m         \u001b[38;5;66;03m# Binary mode\u001b[39;00m\n\u001b[0;32m--> 872\u001b[0m         handle \u001b[38;5;241m=\u001b[39m \u001b[38;5;28mopen\u001b[39m(handle, ioargs\u001b[38;5;241m.\u001b[39mmode)\n\u001b[1;32m    873\u001b[0m     handles\u001b[38;5;241m.\u001b[39mappend(handle)\n\u001b[1;32m    875\u001b[0m \u001b[38;5;66;03m# Convert BytesIO or file objects passed with an encoding\u001b[39;00m\n",
      "\u001b[0;31mFileNotFoundError\u001b[0m: [Errno 2] No such file or directory: 'reference_10cc_axenic.xlsx'"
     ]
    }
   ],
   "source": [
    "refdf = pd.read_excel('reference_10cc_axenic.xlsx')\n",
    "refp99df = pd.read_excel('reference_pro99_axenic.xlsx')\n"
   ]
  },
  {
   "cell_type": "code",
   "execution_count": null,
   "id": "5ba784b1",
   "metadata": {},
   "outputs": [],
   "source": [
    "dpath = '/fast_data/Osnat/RECYCLE_MODEL/results/shgo2/out'\n",
    "dpath = 'results'"
   ]
  },
  {
   "cell_type": "code",
   "execution_count": null,
   "id": "323f8a48",
   "metadata": {},
   "outputs": [],
   "source": [
    "os.listdir(dpath)"
   ]
  },
  {
   "cell_type": "code",
   "execution_count": null,
   "id": "710d3407",
   "metadata": {},
   "outputs": [],
   "source": []
  },
  {
   "cell_type": "code",
   "execution_count": null,
   "id": "c297fd3f",
   "metadata": {},
   "outputs": [],
   "source": [
    "pro99_mode = False \n",
    "which_organism = 'ponly'\n",
    "organism_to_tune = 'PRO'\n",
    "(var_names, init_var_vals, intermediate_names, calc_dydt, prepare_params_tuple\n",
    ") = get_constants_per_organism(pro99_mode, which_organism)\n",
    "for model in ['OVERFLOW', 'MIXOTROPH', 'ROS', 'MIN', 'EXOENZYME']:\n",
    "    params_to_update, bounds, log_params = get_param_tuning_values(model, organism_to_tune)\n",
    "    \n"
   ]
  },
  {
   "cell_type": "code",
   "execution_count": null,
   "id": "4cbea4df",
   "metadata": {},
   "outputs": [],
   "source": [
    "dpath = 'results'\n",
    "sum_df = pd.read_csv(os.path.join(dpath,'monte_add_het_clean_sum.csv.gz',))\n",
    "minmse_df = pd.read_csv('ML_model/monte_add_het_predicted_classes.csv.gz')\n"
   ]
  },
  {
   "cell_type": "code",
   "execution_count": null,
   "id": "dbb5a7ef",
   "metadata": {},
   "outputs": [],
   "source": [
    "strong_and_sustained_vpros = set(minmse_df.loc[minmse_df.y_pred.isin(['Strong', 'Sustained']), 'VPRO'])\n",
    "len(strong_and_sustained_vpros)"
   ]
  },
  {
   "cell_type": "code",
   "execution_count": null,
   "id": "2f433d58",
   "metadata": {},
   "outputs": [],
   "source": [
    "vdf1 = minmse_df.loc[~minmse_df.y_pred.isin(['Other'])].groupby(['model', 'VPRO']).y_pred.agg(lambda x : np.array2string(np.sort(x.unique()))).reset_index()\n",
    "vdf1"
   ]
  },
  {
   "cell_type": "code",
   "execution_count": null,
   "id": "2249c46e",
   "metadata": {},
   "outputs": [],
   "source": [
    "vdf1['y_pred'] = vdf1['y_pred'].str.replace(\"' '\", ',', regex=False)\n",
    "vdf1['y_pred'] = vdf1['y_pred'].str.replace(\"['\", '', regex=False)\n",
    "vdf1['y_pred'] = vdf1['y_pred'].str.replace(\"']\", '', regex=False)"
   ]
  },
  {
   "cell_type": "code",
   "execution_count": null,
   "id": "a9c00a75",
   "metadata": {},
   "outputs": [],
   "source": [
    "vdf1"
   ]
  },
  {
   "cell_type": "code",
   "execution_count": null,
   "id": "c5f2f442",
   "metadata": {},
   "outputs": [],
   "source": [
    "vdf1.groupby(['model', 'y_pred']).size().reset_index().pivot(index='y_pred', columns='model').fillna(0)"
   ]
  },
  {
   "cell_type": "code",
   "execution_count": null,
   "id": "3eb03cf3",
   "metadata": {},
   "outputs": [],
   "source": [
    "sum_df = pd.merge(minmse_df, \n",
    "                  sum_df, \n",
    "                  on='run_id', how='left')"
   ]
  },
  {
   "cell_type": "code",
   "execution_count": null,
   "id": "c3a93260",
   "metadata": {},
   "outputs": [],
   "source": [
    "sum_df"
   ]
  },
  {
   "cell_type": "markdown",
   "id": "66912a24",
   "metadata": {},
   "source": [
    "### vmax per cell\n",
    "\n",
    "uMN_per_cell = Qp = 12.5 fg/cell * 1e-9 fg->uM  / 14 (N MW)\n",
    "\n",
    "vmax_per_sec_per_uMN = uM sec -1 uM N -1\n",
    "\n",
    "vmax_per_day_per_uMN = vmax_per_sec_per_uMN * seconds_in_day\n",
    "\n",
    "vmax_per_day_per_cell = vmax_per_day_per_uMN * Qp\n",
    "\n",
    "\n"
   ]
  },
  {
   "cell_type": "code",
   "execution_count": null,
   "id": "838727bf",
   "metadata": {},
   "outputs": [],
   "source": [
    "sum_df.columns"
   ]
  },
  {
   "cell_type": "code",
   "execution_count": null,
   "id": "4a21adc4",
   "metadata": {},
   "outputs": [],
   "source": [
    "df = sum_df.copy()"
   ]
  },
  {
   "cell_type": "code",
   "execution_count": null,
   "id": "e38a27ad",
   "metadata": {},
   "outputs": [],
   "source": [
    "per_sec_params = [\n",
    "    'VmaxICp', 'VmaxICh', 'VmaxINp',\n",
    "    'VmaxINh', 'VmaxOCp', 'VmaxOCh', 'VmaxONp', 'VmaxONh', \n",
    "    #'KICp', 'KICh', 'KINp', 'KINh', 'KOCp', 'KOCh', 'KONp', 'KONh', \n",
    "    'Mp', 'Mh', #'gammaDp', 'gammaDh', 'Rp', 'Rh', 'QCmaxp', 'QCminp', 'QCmaxh', 'QCminh', \n",
    "    'KdecayDON', 'KprodEXOp',\n",
    "    'KprodEXOh',  'Koverflowp', 'Koverflowh', \n",
    "    'KprodROSp', 'KprodROSh', 'KlossROSp', 'KlossROSh', \n",
    "    'omegaP', 'omegaH', \n",
    "    ]\n",
    "for p in per_sec_params:\n",
    "    df[p] = df[p] * seconds_in_day"
   ]
  },
  {
   "cell_type": "code",
   "execution_count": null,
   "id": "98bd38c1",
   "metadata": {},
   "outputs": [],
   "source": []
  },
  {
   "cell_type": "raw",
   "id": "2dc6d47e",
   "metadata": {},
   "source": [
    "#     resources* = paramkns / (paramvmax/paramM - 1)\n",
    "\n",
    "sum_df['Vmax/K ICp'] = sum_df['VmaxICp'] / sum_df['KICp']\n",
    "sum_df['Vmax/K INp'] = sum_df['VmaxINp'] / sum_df['KINp']\n",
    "sum_df['R* INp'] = sum_df['KINp'] / (sum_df['VmaxINp'] / sum_df['Mp'] - 1)\n",
    "sum_df['R* ICp'] = sum_df['KICp'] / (sum_df['VmaxICp'] / sum_df['Mp'] - 1)\n",
    "sum_df['Vmax/Vmax Ip'] = sum_df['VmaxICp'] / sum_df['VmaxINp']\n",
    "\n"
   ]
  },
  {
   "cell_type": "code",
   "execution_count": null,
   "id": "180f5ab8",
   "metadata": {},
   "outputs": [],
   "source": [
    "sum_df.columns"
   ]
  },
  {
   "cell_type": "code",
   "execution_count": null,
   "id": "13b4814a",
   "metadata": {},
   "outputs": [],
   "source": []
  },
  {
   "cell_type": "code",
   "execution_count": null,
   "id": "41604dd2",
   "metadata": {},
   "outputs": [],
   "source": [
    "#additional_variables = [ 'Vmax/K ICp', 'Vmax/K INp', 'R* INp', 'R* ICp', 'Vmax/Vmax Ip']\n",
    "additional_variables = [ ]\n",
    "id_vars= ['run_id', 'y_pred', 'max_prob', 'idx',  'model', 'VPRO',]\n",
    "def _get_params_df(model):\n",
    "    pparams_to_update, bounds, log_params = get_param_tuning_values(model, 'PRO')\n",
    "    hparams_to_update, bounds, log_params = get_param_tuning_values(model, 'HET')\n",
    "    param_vals_map = get_param_vals(model)\n",
    "    for p in per_sec_params:\n",
    "        if p in param_vals_map:\n",
    "            param_vals_map[p] = param_vals_map[p] * seconds_in_day    \n",
    "\n",
    "\n",
    "    param_vals_df = df.loc[df.model.isin([model]), \n",
    "                                id_vars + pparams_to_update  + hparams_to_update + additional_variables]\n",
    "    mparam_vals = param_vals_df.melt( id_vars=id_vars)    \n",
    "    mparam_vals['default'] = mparam_vals['variable'].map(param_vals_map)\n",
    "    mparam_vals['FC'] = np.log2(mparam_vals.value / mparam_vals.default)\n",
    "    return mparam_vals\n",
    "mparams_df = pd.concat([_get_params_df(model) for model in morder], ignore_index=True)\n"
   ]
  },
  {
   "cell_type": "code",
   "execution_count": null,
   "id": "0d4a9929",
   "metadata": {},
   "outputs": [],
   "source": [
    "mparams_df.variable.unique()"
   ]
  },
  {
   "cell_type": "code",
   "execution_count": null,
   "id": "dccfac11",
   "metadata": {},
   "outputs": [],
   "source": [
    "mparams_df.loc[mparams_df.variable.isna()]"
   ]
  },
  {
   "cell_type": "code",
   "execution_count": null,
   "id": "847c57e0",
   "metadata": {},
   "outputs": [],
   "source": [
    "sns.set_context('poster')\n",
    "g = sns.catplot(\n",
    "    data=mparams_df.loc[~mparams_df['FC'].isna()].reset_index(), \n",
    "    col='variable', x='FC', y='model', col_wrap=6, order=morder,\n",
    "    hue='model', hue_order=morder, palette=mpalette, \n",
    "    legend=False,\n",
    ").set_titles(col_template='{col_name}', row_template='{row_name}').set(xlabel='log2FC')\n",
    "\n",
    "for (#row_val,\n",
    "     col_val), ax in g.axes_dict.items():\n",
    "    #refmean = refmaxday_df.loc[refmaxday_df['media'].isin([col_val]), col].mean()\n",
    "    for i in [-3,-2,-1,0,1,2,3]:\n",
    "        ax.axvline(i, color='red', ls='--', alpha=0.5, lw=0.5)\n"
   ]
  },
  {
   "cell_type": "code",
   "execution_count": null,
   "id": "4d6b059b",
   "metadata": {},
   "outputs": [],
   "source": [
    "sns.set_context('poster')\n",
    "for m in morder:\n",
    "    g = sns.catplot(\n",
    "        data=mparams_df.loc[~mparams_df['FC'].isna() & mparams_df.model.isin([m])].reset_index(), \n",
    "        col='variable', x='FC', y='y_pred', col_wrap=6, order=gorder,\n",
    "        hue='y_pred', hue_order=gorder, palette=gpalette, \n",
    "        #dodge=True,\n",
    "        legend=False,\n",
    "    ).set_titles(col_template='{col_name}', row_template='{row_name}').set(xlabel='log2FC')\n",
    "\n",
    "    for (#row_val,\n",
    "         col_val), ax in g.axes_dict.items():\n",
    "        #refmean = refmaxday_df.loc[refmaxday_df['media'].isin([col_val]), col].mean()\n",
    "        for i in [-3,-2,-1,0,1,2,3]:\n",
    "            ax.axvline(i, color='red', ls='--', alpha=0.5, lw=0.5)\n",
    "    plt.suptitle(m, y=1.02)"
   ]
  },
  {
   "cell_type": "code",
   "execution_count": null,
   "id": "f15d5300",
   "metadata": {},
   "outputs": [],
   "source": [
    "mparams_df.variable.unique()"
   ]
  },
  {
   "cell_type": "code",
   "execution_count": null,
   "id": "078e6ba1",
   "metadata": {},
   "outputs": [],
   "source": [
    "from scipy.stats import pearsonr\n",
    "\n",
    "def corrfunc(x, y, ax=None, **kws):\n",
    "    \"\"\"Plot the correlation coefficient in the top left hand corner of a plot.\"\"\"\n",
    "    r, _ = pearsonr(x, y)\n",
    "    ax = ax or plt.gca()\n",
    "    ax.annotate(f'ρ = {r:.2f}', xy=(.1, .9), xycoords=ax.transAxes)"
   ]
  },
  {
   "cell_type": "code",
   "execution_count": null,
   "id": "b2c428cb",
   "metadata": {},
   "outputs": [],
   "source": [
    "mparams_df.variable.nunique()"
   ]
  },
  {
   "cell_type": "code",
   "execution_count": null,
   "id": "7214f4bc",
   "metadata": {},
   "outputs": [],
   "source": [
    "def _get_corrs(model, y_pred):\n",
    "    cur_pparams_to_update, _, _ = get_param_tuning_values(model, 'PRO')\n",
    "    cur_hparams_to_update, _, _ = get_param_tuning_values(model, 'HET')\n",
    "    cur_params_to_update = cur_pparams_to_update + cur_hparams_to_update\n",
    "\n",
    "    tmp = mparams_df.loc[\n",
    "                    mparams_df.model.isin([model]) &\n",
    "                    mparams_df.y_pred.isin([y_pred]) \n",
    "                ]\n",
    "\n",
    "    mtmp = tmp.pivot_table(index='idx', columns='variable', values='FC')[cur_params_to_update]\n",
    "    corr_df = mtmp.corr()\n",
    "    trimask = np.triu(np.ones_like(corr_df, dtype=bool))    \n",
    "    corr_unstack = corr_df.mask(trimask).unstack().dropna()\n",
    "    res_df = corr_unstack.rename_axis(['var1', 'var2']).reset_index().rename(columns={0:'correlation'})\n",
    "    res_df['model'] = model\n",
    "    res_df['y_pred'] = y_pred\n",
    "    return res_df\n",
    "corr_df = pd.concat([_get_corrs(m, y) for m in morder for y in gorder], ignore_index=True)\n",
    "corr_df"
   ]
  },
  {
   "cell_type": "code",
   "execution_count": null,
   "id": "085c29e1",
   "metadata": {},
   "outputs": [],
   "source": [
    "corr_df['pair'] = corr_df.var1 +' / ' +  corr_df.var2"
   ]
  },
  {
   "cell_type": "code",
   "execution_count": null,
   "id": "f35392e7",
   "metadata": {},
   "outputs": [],
   "source": [
    "df.groupby(['y_pred','model'],).size()"
   ]
  },
  {
   "cell_type": "raw",
   "id": "cef22c7c",
   "metadata": {
    "scrolled": false
   },
   "source": [
    "sns.set_context('paper')\n",
    "for y in gorder:\n",
    "    corr_df_filtered = corr_df.loc[(corr_df.correlation > 0.3) | (corr_df.correlation < -0.3)]\n",
    "    corr_df_filtered = corr_df_filtered.loc[corr_df_filtered.y_pred.isin([y])]\n",
    "\n",
    "    pcorr_df = corr_df.loc[\n",
    "        corr_df.pair.isin(corr_df_filtered.pair) &\n",
    "        corr_df.y_pred.isin([y]) \n",
    "        \n",
    "    ].pivot_table(index='pair', columns=['model', 'y_pred' ], \n",
    "                                   values='correlation', fill_value=3, dropna=True)\n",
    "    pcorr_df = pcorr_df.reindex(columns=pcorr_df.columns.reindex(morder, level=0)[0])\n",
    "\n",
    "    g = sns.clustermap(\n",
    "        pcorr_df, \n",
    "        cmap='coolwarm', \n",
    "        mask=pcorr_df==3,\n",
    "        col_cluster=False,\n",
    "        annot=True, fmt='.2f',\n",
    "        figsize=(15,15),\n",
    "        vmax=1, vmin=-1,\n",
    "    )\n",
    "    ax = g.ax_heatmap  \n",
    "    plt.suptitle(y, y=1.02)\n",
    "    #for i in [2,4,6,8]:\n",
    "    #    ax.axvline(i, c='black')\n"
   ]
  },
  {
   "cell_type": "code",
   "execution_count": null,
   "id": "e99eec06",
   "metadata": {},
   "outputs": [],
   "source": [
    "sns.set_context('paper')\n",
    "for m in morder:\n",
    "    corr_df_filtered = corr_df.loc[(corr_df.correlation > 0.3) | (corr_df.correlation < -0.3)]\n",
    "    corr_df_filtered = corr_df_filtered.loc[corr_df_filtered.model.isin([m])]\n",
    "    if m == 'ROS':\n",
    "        corr_df_filtered = corr_df_filtered.loc[~corr_df_filtered.y_pred.isin(['Inhibited'])]\n",
    "        \n",
    "    \n",
    "    pcorr_df = corr_df.loc[\n",
    "        corr_df.pair.isin(corr_df_filtered.pair) &\n",
    "        corr_df.model.isin([m]) \n",
    "        \n",
    "    ].pivot_table(index='pair', columns=['model', 'y_pred' ], \n",
    "                                   values='correlation', fill_value=3, dropna=True)\n",
    "    pcorr_df = pcorr_df.reindex(columns=pcorr_df.columns.reindex(morder, level=0)[0])\n",
    "\n",
    "    g = sns.clustermap(\n",
    "        pcorr_df, \n",
    "        cmap='coolwarm', \n",
    "        mask=pcorr_df==3,\n",
    "        col_cluster=False,\n",
    "        annot=True, fmt='.2f',\n",
    "        figsize=(15,15),\n",
    "        vmax=1, vmin=-1,\n",
    "    )\n",
    "    ax = g.ax_heatmap  \n",
    "    plt.suptitle(m, y=1.02)\n",
    "    #for i in [2,4,6,8]:\n",
    "    #    ax.axvline(i, c='black')\n"
   ]
  },
  {
   "cell_type": "code",
   "execution_count": null,
   "id": "9f018f8f",
   "metadata": {},
   "outputs": [],
   "source": [
    "corr_df"
   ]
  },
  {
   "cell_type": "code",
   "execution_count": null,
   "id": "e6dbc847",
   "metadata": {},
   "outputs": [],
   "source": [
    "corr_df.loc[\n",
    "    (~corr_df.y_pred.isin(['Inhibited'])) &\n",
    "    (np.abs(corr_df.correlation) > 0.5)\n",
    "] .groupby(['model', 'pair']).size().reset_index().pivot(index='pair', columns='model')#.head(50)"
   ]
  },
  {
   "cell_type": "code",
   "execution_count": null,
   "id": "13d6f528",
   "metadata": {},
   "outputs": [],
   "source": [
    "corr_df.loc[\n",
    "    (corr_df.y_pred.isin(['Strong'])) &\n",
    "    (np.abs(corr_df.correlation) > 0.4)\n",
    "] .pivot(index='pair', columns='model', values='correlation')#.head(50)"
   ]
  },
  {
   "cell_type": "code",
   "execution_count": null,
   "id": "fb0b6afd",
   "metadata": {},
   "outputs": [],
   "source": [
    "for m in morder:\n",
    "    t = corr_df.loc[\n",
    "        (~corr_df.y_pred.isin(['Inhibited'])) &\n",
    "        corr_df.model.isin([m]) &\n",
    "        (np.abs(corr_df.correlation) > 0.4),\n",
    "        ['var1', 'var2']] \n",
    "    cols = list(set(t['var1']) | set(t['var2']))\n",
    "    print(m, cols)\n",
    "    d = df.loc[df.model.isin([m]), cols+['y_pred']]\n",
    "    sns.pairplot(data=d, hue='y_pred', palette=gpalette, hue_order=gorder)\n",
    "    plt.suptitle(m, y=1.01)\n",
    "    "
   ]
  },
  {
   "cell_type": "code",
   "execution_count": null,
   "id": "1be158cc",
   "metadata": {},
   "outputs": [],
   "source": [
    "KINp / Koverflowh \tNaN \t0.501060\n",
    "KINp / Koverflowp \tNaN \t-0.585207\n",
    "KINp / VmaxONh \tNaN \t0.621515\n",
    "KOCh / KONh \tNaN \t-0.582889\n",
    "Koverflowp / VmaxONh \tNaN \t-0.676780\n",
    "Mp / Koverflowh \tNaN \t0.622533\n",
    "Mp / Koverflowp \tNaN \t-0.542490\n",
    "VmaxICp / Mp \t0.621278 \tNaN\n",
    "VmaxICp / VmaxINp \t-0.726773 \t-0.533383\n",
    "VmaxINh / VmaxONh \tNaN \t0.655003\n",
    "VmaxINp / Mp \tNaN \t-0.567182"
   ]
  },
  {
   "cell_type": "code",
   "execution_count": null,
   "id": "fb0e6822",
   "metadata": {},
   "outputs": [],
   "source": [
    "pair_list = [\n",
    "#('KINp' , 'VmaxONh'),\n",
    "('KOCh' , 'KONh'),\n",
    "('KOCh' , 'KINp'),\n",
    "('KINp' , 'KINh'),\n",
    "#('VmaxICp' , 'Mp'),\n",
    "#('VmaxICp' , 'VmaxINp'),\n",
    "#('VmaxINh' , 'VmaxONh'),\n",
    "#('VmaxINp' , 'Mp'),\n",
    "    ('Mp', 'Mh'),\n",
    "    ('gammaDp', 'gammaDh'),\n",
    "    \n",
    "    \n",
    "]\n",
    "\n",
    "pair_list_ROS = [\n",
    "('Mh' , 'KlossROSh'),\n",
    "('Mp' , 'KlossROSh'),\n",
    "('Mp' , 'omegaP'),\n",
    "    \n",
    "]\n",
    "\n",
    "pair_list_OVERFLOW = [\n",
    "('KINp' , 'Koverflowh'),\n",
    "('KINp' , 'Koverflowp'),\n",
    "('Koverflowp' , 'VmaxONh'),\n",
    "('Mh' , 'Koverflowh'),\n",
    "('Mp' , 'Koverflowh' ),\n",
    "('Mp' , 'Koverflowp'),\n",
    "]\n",
    "\n"
   ]
  },
  {
   "cell_type": "code",
   "execution_count": null,
   "id": "0c25d4cd",
   "metadata": {},
   "outputs": [],
   "source": [
    "sns.set_context('poster')\n",
    "for v1, v2 in pair_list:\n",
    "        sns.relplot(\n",
    "            data=df,\n",
    "            x=v1, y=v2,\n",
    "            row='model', row_order=morder, \n",
    "            col='y_pred', col_order=gorder,\n",
    "            hue='y_pred', hue_order=gorder, palette=gpalette,\n",
    "            facet_kws=dict(margin_titles=True)\n",
    "        ).set_titles(row_template='{row_name}', col_template='{col_name}')\n",
    "        plt.show()"
   ]
  },
  {
   "cell_type": "code",
   "execution_count": null,
   "id": "52aa33a6",
   "metadata": {},
   "outputs": [],
   "source": [
    "sns.set_context('poster')\n",
    "rdf = df.loc[df.model.isin(['ROS'])]\n",
    "for v1, v2 in pair_list_ROS:\n",
    "        sns.relplot(\n",
    "            data=df,\n",
    "            x=v1, y=v2,\n",
    "            #row='model', row_order=morder, \n",
    "            col='y_pred', col_order=gorder,\n",
    "            hue='y_pred', hue_order=gorder, palette=gpalette,\n",
    "            facet_kws=dict(margin_titles=True)\n",
    "        ).set_titles(row_template='{row_name}', col_template='{col_name}')\n",
    "        plt.show()"
   ]
  },
  {
   "cell_type": "code",
   "execution_count": null,
   "id": "40af6628",
   "metadata": {},
   "outputs": [],
   "source": [
    "df['gammaDh*Mh'] = df.gammaDh * df.Mh\n",
    "df['gammaDp*Mp'] = df.gammaDp * df.Mp\n"
   ]
  },
  {
   "cell_type": "code",
   "execution_count": null,
   "id": "c70f3768",
   "metadata": {},
   "outputs": [],
   "source": [
    "sns.set_context('poster')\n",
    "for v1, v2 in [\n",
    "    ('gammaDp*Mp', 'gammaDh*Mh'),\n",
    "    ('gammaDp', 'Mp'),\n",
    "    ('gammaDh', 'Mh'),\n",
    "              ]:\n",
    "        sns.relplot(\n",
    "            data=df,\n",
    "            x=v1, y=v2,\n",
    "            row='model', row_order=morder, \n",
    "            col='y_pred', col_order=gorder,\n",
    "            hue='y_pred', hue_order=gorder, palette=gpalette,\n",
    "            facet_kws=dict(margin_titles=True)\n",
    "        ).set_titles(row_template='{row_name}', col_template='{col_name}')\n",
    "        plt.show()"
   ]
  },
  {
   "cell_type": "code",
   "execution_count": null,
   "id": "a63d0cb6",
   "metadata": {},
   "outputs": [],
   "source": []
  }
 ],
 "metadata": {
  "kernelspec": {
   "display_name": "Python 3 (ipykernel)",
   "language": "python",
   "name": "python3"
  },
  "language_info": {
   "codemirror_mode": {
    "name": "ipython",
    "version": 3
   },
   "file_extension": ".py",
   "mimetype": "text/x-python",
   "name": "python",
   "nbconvert_exporter": "python",
   "pygments_lexer": "ipython3",
   "version": "3.11.7"
  }
 },
 "nbformat": 4,
 "nbformat_minor": 5
}
