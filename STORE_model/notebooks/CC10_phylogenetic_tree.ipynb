{
 "cells": [
  {
   "cell_type": "code",
   "execution_count": 1,
   "id": "f52de6cd-520a-4ee6-bace-70552ddca45f",
   "metadata": {},
   "outputs": [],
   "source": [
    "import numpy as np\n",
    "import pandas as pd\n",
    "import matplotlib.pyplot as plt\n",
    "import seaborn as sns\n",
    "import pprint\n",
    "sns.set(style=\"white\", context='poster', font_scale=3)\n",
    "import math\n",
    "from scipy.integrate import solve_ivp"
   ]
  },
  {
   "cell_type": "code",
   "execution_count": 2,
   "id": "7998d39b-e5fd-4289-bbf7-d1e547f378a1",
   "metadata": {},
   "outputs": [],
   "source": [
    "%config InlineBackend.figure_formats = ['svg']"
   ]
  },
  {
   "cell_type": "code",
   "execution_count": 3,
   "id": "28fc9eec-fe5f-498b-a32b-83330606b2f5",
   "metadata": {},
   "outputs": [],
   "source": [
    "import seaborn_figure_settings"
   ]
  },
  {
   "cell_type": "code",
   "execution_count": 4,
   "id": "002a40bc-57d9-44fb-9784-754552254804",
   "metadata": {},
   "outputs": [
    {
     "ename": "NameError",
     "evalue": "name 'os' is not defined",
     "output_type": "error",
     "traceback": [
      "\u001b[0;31m---------------------------------------------------------------------------\u001b[0m",
      "\u001b[0;31mNameError\u001b[0m                                 Traceback (most recent call last)",
      "Cell \u001b[0;32mIn[4], line 1\u001b[0m\n\u001b[0;32m----> 1\u001b[0m save_dpath \u001b[38;5;241m=\u001b[39m os\u001b[38;5;241m.\u001b[39mpath\u001b[38;5;241m.\u001b[39mjoin(\u001b[38;5;124m'\u001b[39m\u001b[38;5;124m../notebooks/figures/\u001b[39m\u001b[38;5;124m'\u001b[39m, \u001b[38;5;124m'\u001b[39m\u001b[38;5;124mFig1\u001b[39m\u001b[38;5;124m'\u001b[39m)\n\u001b[1;32m      2\u001b[0m os\u001b[38;5;241m.\u001b[39mmakedirs(save_dpath,exist_ok\u001b[38;5;241m=\u001b[39m\u001b[38;5;28;01mTrue\u001b[39;00m)\n",
      "\u001b[0;31mNameError\u001b[0m: name 'os' is not defined"
     ]
    }
   ],
   "source": [
    "save_dpath = os.path.join('../notebooks/figures/', 'Fig1')\n",
    "os.makedirs(save_dpath,exist_ok=True)"
   ]
  },
  {
   "cell_type": "code",
   "execution_count": null,
   "id": "699a8a28-8879-48c5-ae69-7ae66dbe4576",
   "metadata": {},
   "outputs": [],
   "source": [
    "gorder = [ 'Strong', 'Sustained', 'Inhibited', 'Weak', ]\n",
    "gpalette = ['#882255', '#CC6677', '#332288', \n",
    "             '#44AA99',  ]\n",
    "\n",
    "sns.color_palette(gpalette)"
   ]
  },
  {
   "cell_type": "code",
   "execution_count": null,
   "id": "63aa65ef-b3ee-4bb6-a027-2bb6bfba610a",
   "metadata": {},
   "outputs": [],
   "source": [
    "import os\n",
    "os.listdir()"
   ]
  },
  {
   "cell_type": "code",
   "execution_count": null,
   "id": "c5f500a2-0eb0-40df-bc3f-13d377422d76",
   "metadata": {},
   "outputs": [],
   "source": [
    "pairwise_dist_df = pd.read_excel( 'phylodata/phyloDist.xlsx', sheet_name='phyloDist')\n",
    "metadata_df = pd.read_excel( 'phylodata/phyloDist.xlsx', sheet_name='metadata')\n"
   ]
  },
  {
   "cell_type": "code",
   "execution_count": null,
   "id": "9e1500e2-1ad1-4fdc-972b-d58239c3c91d",
   "metadata": {},
   "outputs": [],
   "source": [
    "metadata_df"
   ]
  },
  {
   "cell_type": "code",
   "execution_count": null,
   "id": "af9eb3f7-5d8e-4ac8-8ce2-de878e8dcede",
   "metadata": {},
   "outputs": [],
   "source": [
    "# remove e coli\n",
    "metadata_df = metadata_df.loc[~metadata_df['Name'].isin(['Escherichia coli'])]\n",
    "metadata_df"
   ]
  },
  {
   "cell_type": "code",
   "execution_count": null,
   "id": "0d00888d-1480-4d5e-8b4a-278eb6148042",
   "metadata": {},
   "outputs": [],
   "source": []
  },
  {
   "cell_type": "code",
   "execution_count": null,
   "id": "81b47d7b-fbaf-4973-8751-a2f96749b4d6",
   "metadata": {},
   "outputs": [],
   "source": [
    "gene_matrix_df = pd.read_excel( 'phylodata/genes.xlsx')\n",
    "trait_matrix_df = pd.read_excel( 'phylodata/traits.xlsx')\n"
   ]
  },
  {
   "cell_type": "code",
   "execution_count": null,
   "id": "0e082909-5e07-4007-bf5c-8ce39ed60d51",
   "metadata": {},
   "outputs": [],
   "source": [
    "phylo_matrix_df = pd.read_csv( 'phylodata/gtdbtk_r220_cophen_dist.csv', index_col=0)\n",
    "phylo_matrix_df"
   ]
  },
  {
   "cell_type": "code",
   "execution_count": null,
   "id": "5e742eea-fdc7-4734-9994-5be0c9c3c578",
   "metadata": {},
   "outputs": [],
   "source": [
    "gene_matrix_df"
   ]
  },
  {
   "cell_type": "code",
   "execution_count": null,
   "id": "410e191b-845a-4e40-887b-1c27f32934d2",
   "metadata": {},
   "outputs": [],
   "source": [
    "metadata_df"
   ]
  },
  {
   "cell_type": "code",
   "execution_count": null,
   "id": "d19f72a9-1c30-41bd-a221-3eebee1c362a",
   "metadata": {},
   "outputs": [],
   "source": [
    "small_pairwise_dist_df = pairwise_dist_df.loc[\n",
    "    pairwise_dist_df.strain1.isin(metadata_df.strain_nickname) &\n",
    "    pairwise_dist_df.strain2.isin(metadata_df.strain_nickname) \n",
    "]"
   ]
  },
  {
   "cell_type": "code",
   "execution_count": null,
   "id": "a8062f0f-f660-4ead-9885-b586299b9838",
   "metadata": {},
   "outputs": [],
   "source": [
    "phylo_dist_matrix = small_pairwise_dist_df.pivot(index='strain1', columns='strain2')"
   ]
  },
  {
   "cell_type": "code",
   "execution_count": null,
   "id": "d0626b9a-c29b-4927-ae74-28dce2b4a278",
   "metadata": {},
   "outputs": [],
   "source": []
  },
  {
   "cell_type": "code",
   "execution_count": null,
   "id": "4c599e55-72e2-4713-9928-dc6b3fe4953f",
   "metadata": {},
   "outputs": [],
   "source": [
    "gene_dist_matrix = gene_matrix_df.loc[gene_matrix_df['strain.nickname'].isin(metadata_df.strain_nickname)]\n",
    "gene_dist_matrix.index = gene_dist_matrix['strain.nickname']\n",
    "gene_dist_matrix =  gene_dist_matrix[metadata_df.strain_nickname]\n",
    "gene_dist_matrix = gene_dist_matrix.reindex(index=metadata_df.strain_nickname)\n",
    "gene_dist_matrix\n",
    "\n"
   ]
  },
  {
   "cell_type": "code",
   "execution_count": null,
   "id": "fa5858d4-0145-4623-8c7a-0824c42d3a4d",
   "metadata": {},
   "outputs": [],
   "source": []
  },
  {
   "cell_type": "code",
   "execution_count": null,
   "id": "255301bc-6d7e-4f3c-bfa0-fd9997519751",
   "metadata": {},
   "outputs": [],
   "source": [
    "trait_matrix_df"
   ]
  },
  {
   "cell_type": "code",
   "execution_count": null,
   "id": "104d8420-16ac-4d07-ba27-773be5e446a0",
   "metadata": {},
   "outputs": [],
   "source": [
    "trait_dist_matrix = trait_matrix_df.loc[trait_matrix_df['strain'].isin(metadata_df.strain_nickname)]\n",
    "trait_dist_matrix.index = trait_dist_matrix['strain']\n",
    "trait_dist_matrix =  trait_dist_matrix[metadata_df.strain_nickname]\n",
    "trait_dist_matrix = trait_dist_matrix.reindex(index=metadata_df.strain_nickname)\n",
    "trait_dist_matrix\n",
    "\n"
   ]
  },
  {
   "cell_type": "code",
   "execution_count": null,
   "id": "15547726-62a7-4186-8d0f-618c1e2e92b4",
   "metadata": {},
   "outputs": [],
   "source": [
    "gene_dist_matrix = gene_matrix_df.loc[gene_matrix_df['strain.nickname'].isin(metadata_df.strain_nickname)]\n",
    "gene_dist_matrix.index = gene_dist_matrix['strain.nickname']\n",
    "gene_dist_matrix =  gene_dist_matrix[metadata_df.strain_nickname]\n",
    "gene_dist_matrix = gene_dist_matrix.reindex(index=metadata_df.strain_nickname)\n",
    "gene_dist_matrix\n",
    "\n"
   ]
  },
  {
   "cell_type": "code",
   "execution_count": null,
   "id": "fa6ef86a-bb83-4bf8-93a4-7b7d8f6d4841",
   "metadata": {},
   "outputs": [],
   "source": [
    "metadata_df.loc[~metadata_df.strain_nickname.isin(pairwise_dist_df.strain1)]"
   ]
  },
  {
   "cell_type": "code",
   "execution_count": null,
   "id": "02c62646-2d2d-40c5-80c0-3e92ead93168",
   "metadata": {},
   "outputs": [],
   "source": [
    "phylo_matrix_df =  phylo_matrix_df[metadata_df.strain_nickname]\n",
    "phylo_matrix_df = phylo_matrix_df.reindex(index=metadata_df.strain_nickname)\n",
    "phylo_matrix_df\n"
   ]
  },
  {
   "cell_type": "code",
   "execution_count": null,
   "id": "de21cfbe-c50e-407b-b8be-48a8e8bdd46e",
   "metadata": {},
   "outputs": [],
   "source": [
    "dist_matrix = phylo_matrix_df\n",
    "title = 'Tree based on phylo distance'"
   ]
  },
  {
   "cell_type": "code",
   "execution_count": null,
   "id": "99163cdf-4c7d-4465-bc98-7a555d6311bb",
   "metadata": {},
   "outputs": [],
   "source": [
    "phylo_matrix_df"
   ]
  },
  {
   "cell_type": "code",
   "execution_count": null,
   "id": "6e1f3d23-f764-49e3-85b1-7e0364e706d0",
   "metadata": {},
   "outputs": [],
   "source": [
    "metadata_df.strain_nickname.astype(str)"
   ]
  },
  {
   "cell_type": "code",
   "execution_count": null,
   "id": "5e56bbf2-f4df-4afa-8f6a-c8e6ba29078a",
   "metadata": {},
   "outputs": [],
   "source": [
    "dist_matrix.index"
   ]
  },
  {
   "cell_type": "code",
   "execution_count": null,
   "id": "f3058ca9-a633-4d97-953a-9cdf6fb6bef3",
   "metadata": {},
   "outputs": [],
   "source": [
    "from matplotlib.pyplot import figure\n",
    "\n",
    "from scipy.cluster.hierarchy import dendrogram, linkage\n",
    "from scipy.spatial.distance import squareform\n",
    "\n",
    "\n",
    "figure(figsize=(1.5, 5))\n",
    "\n",
    "name_map = metadata_df.Name\n",
    "name_map.index= metadata_df.strain_nickname.astype(str)\n",
    "\n",
    "label_colors = metadata_df.Group.map(dict(zip(gorder,gpalette)))\n",
    "label_colors.index= metadata_df.Name\n",
    "\n",
    "dists = squareform(dist_matrix)\n",
    "linkage_matrix = linkage(dists, \"single\")\n",
    "dendrogram(\n",
    "    linkage_matrix, \n",
    "    labels=dist_matrix.index.map(name_map), \n",
    "    orientation='left', \n",
    "    link_color_func=lambda k: 'black',\n",
    "    leaf_font_size=24,\n",
    ")\n",
    "#plt.title(\"test\")\n",
    "\n",
    "\n",
    "ax = plt.gca()\n",
    "xlbls = ax.get_ymajorticklabels()\n",
    "for lbl in xlbls:\n",
    "    lbl.set_color(label_colors[lbl.get_text()])\n",
    "\n",
    "\n",
    "sns.despine(left=True, bottom=True)\n",
    "plt.xticks([])\n",
    "#plt.title(title)\n",
    "plt.show()"
   ]
  },
  {
   "cell_type": "code",
   "execution_count": null,
   "id": "7b1ccbfa-2e55-4483-b29b-a138c0da4d13",
   "metadata": {},
   "outputs": [],
   "source": [
    "from matplotlib.pyplot import figure\n",
    "\n",
    "from scipy.cluster.hierarchy import dendrogram, linkage\n",
    "from scipy.spatial.distance import squareform\n",
    "\n",
    "\n",
    "figure(figsize=(1.2, 18))\n",
    "\n",
    "name_map = metadata_df.Name\n",
    "name_map.index= metadata_df.strain_nickname.astype(str)\n",
    "\n",
    "label_colors = metadata_df.Group.map(dict(zip(gorder,gpalette)))\n",
    "label_colors.index= metadata_df.Name\n",
    "\n",
    "dists = squareform(dist_matrix)\n",
    "linkage_matrix = linkage(dists, \"single\")\n",
    "dendrogram(\n",
    "    linkage_matrix, \n",
    "    labels=dist_matrix.index.map(name_map), \n",
    "    orientation='left', \n",
    "    link_color_func=lambda k: 'black',\n",
    "    leaf_font_size=24,\n",
    "    #facecolor='none',\n",
    ")\n",
    "#plt.title(\"test\")\n",
    "\n",
    "\n",
    "ax = plt.gca()\n",
    "xlbls = ax.get_ymajorticklabels()\n",
    "for lbl in xlbls:\n",
    "    lbl.set_color(label_colors[lbl.get_text()])\n",
    "\n",
    "\n",
    "sns.despine(left=True, bottom=True)\n",
    "plt.xticks([])\n",
    "#plt.title(title)\n",
    "save_fpath = os.path.join(save_dpath, 'fig_1_heterotroph_tree.svg')\n",
    "plt.savefig(save_fpath, format='svg', dpi=1200)\n",
    "plt.show()\n"
   ]
  },
  {
   "cell_type": "code",
   "execution_count": null,
   "id": "5c162daa-f88e-4d2b-9ef1-60cbf4d3c87e",
   "metadata": {},
   "outputs": [],
   "source": [
    "label_colors = metadata_df.Group.map(dict(zip(gorder,gpalette)))\n",
    "label_colors.index= metadata_df.Name\n"
   ]
  },
  {
   "cell_type": "code",
   "execution_count": null,
   "id": "35e369a0-f002-42d5-b8d9-7fec02289d56",
   "metadata": {},
   "outputs": [],
   "source": [
    "# tree order of strains\n",
    "list(reversed([lbl.get_text() for lbl in xlbls]))"
   ]
  },
  {
   "cell_type": "code",
   "execution_count": null,
   "id": "72a896d1-6b8f-4850-93b2-b9189fff0401",
   "metadata": {},
   "outputs": [],
   "source": [
    "# tree order of groups\n",
    "\n",
    "groupmap = metadata_df.Group\n",
    "groupmap.index= metadata_df.Name\n",
    "\n",
    "list(reversed([groupmap[lbl.get_text()] for lbl in xlbls]))"
   ]
  },
  {
   "cell_type": "code",
   "execution_count": null,
   "id": "8202abcd-e6d3-4560-b8a5-9b5fa705489b",
   "metadata": {},
   "outputs": [],
   "source": [
    "dist_matrix = gene_dist_matrix\n",
    "title = 'Tree based on genes distance'"
   ]
  },
  {
   "cell_type": "code",
   "execution_count": null,
   "id": "b277258c-36f4-481d-b105-c121d8a56c45",
   "metadata": {},
   "outputs": [],
   "source": [
    "from matplotlib.pyplot import figure\n",
    "\n",
    "from scipy.cluster.hierarchy import dendrogram, linkage\n",
    "from scipy.spatial.distance import squareform\n",
    "\n",
    "\n",
    "figure(figsize=(3, 3))\n",
    "\n",
    "name_map = metadata_df.Name\n",
    "name_map.index= metadata_df.strain_nickname\n",
    "\n",
    "label_colors = metadata_df.Group.map(dict(zip(gorder,gpalette)))\n",
    "label_colors.index= metadata_df.Name\n",
    "\n",
    "dists = squareform(dist_matrix)\n",
    "linkage_matrix = linkage(dists, \"single\")\n",
    "dendrogram(\n",
    "    linkage_matrix, \n",
    "    labels=dist_matrix.index.map(name_map), \n",
    "    orientation='left', \n",
    "    link_color_func=lambda k: 'black'\n",
    ")\n",
    "#plt.title(\"test\")\n",
    "\n",
    "\n",
    "ax = plt.gca()\n",
    "xlbls = ax.get_ymajorticklabels()\n",
    "for lbl in xlbls:\n",
    "    lbl.set_color(label_colors[lbl.get_text()])\n",
    "\n",
    "\n",
    "sns.despine(left=True, bottom=True)\n",
    "plt.xticks([])\n",
    "plt.title(title)\n",
    "plt.show()"
   ]
  },
  {
   "cell_type": "code",
   "execution_count": null,
   "id": "cb77eec9-d84d-4bb2-8e1a-6ab654a95b62",
   "metadata": {},
   "outputs": [],
   "source": [
    "dist_matrix = trait_dist_matrix\n",
    "title = 'Tree based on trait distance'"
   ]
  },
  {
   "cell_type": "code",
   "execution_count": null,
   "id": "95fdcf51-b768-4224-85dd-cfca3aa9a043",
   "metadata": {},
   "outputs": [],
   "source": []
  },
  {
   "cell_type": "code",
   "execution_count": null,
   "id": "63d97a4d-10ba-43ff-bb7a-65ef22937606",
   "metadata": {},
   "outputs": [],
   "source": [
    "from matplotlib.pyplot import figure\n",
    "\n",
    "from scipy.cluster.hierarchy import dendrogram, linkage\n",
    "from scipy.spatial.distance import squareform\n",
    "\n",
    "\n",
    "figure(figsize=(3, 3))\n",
    "\n",
    "name_map = metadata_df.Name\n",
    "name_map.index= metadata_df.strain_nickname\n",
    "\n",
    "label_colors = metadata_df.Group.map(dict(zip(gorder,gpalette)))\n",
    "label_colors.index= metadata_df.Name\n",
    "\n",
    "dists = squareform(dist_matrix)\n",
    "linkage_matrix = linkage(dists, \"single\")\n",
    "dendrogram(\n",
    "    linkage_matrix, \n",
    "    labels=dist_matrix.index.map(name_map), \n",
    "    orientation='left', \n",
    "    link_color_func=lambda k: 'black'\n",
    ")\n",
    "#plt.title(\"test\")\n",
    "\n",
    "\n",
    "ax = plt.gca()\n",
    "xlbls = ax.get_ymajorticklabels()\n",
    "for lbl in xlbls:\n",
    "    lbl.set_color(label_colors[lbl.get_text()])\n",
    "\n",
    "\n",
    "sns.despine(left=True, bottom=True)\n",
    "plt.xticks([])\n",
    "plt.title(title)\n",
    "plt.show()"
   ]
  },
  {
   "cell_type": "code",
   "execution_count": null,
   "id": "4586795b-9b37-4dc0-a99c-3095ffeb217d",
   "metadata": {},
   "outputs": [],
   "source": [
    "dist_matrix = phylo_dist_matrix\n",
    "title = 'Tree based on phylo distance'"
   ]
  },
  {
   "cell_type": "code",
   "execution_count": null,
   "id": "7bb24f7a-3de1-4376-8af2-44ca4d72275f",
   "metadata": {},
   "outputs": [],
   "source": [
    "from matplotlib.pyplot import figure\n",
    "\n",
    "from scipy.cluster.hierarchy import dendrogram, linkage\n",
    "from scipy.spatial.distance import squareform\n",
    "\n",
    "\n",
    "figure(figsize=(3, 3))\n",
    "\n",
    "name_map = metadata_df.Name\n",
    "name_map.index= metadata_df.strain_nickname\n",
    "\n",
    "label_colors = metadata_df.Group.map(dict(zip(gorder,gpalette)))\n",
    "label_colors.index= metadata_df.Name\n",
    "\n",
    "dists = squareform(dist_matrix)\n",
    "linkage_matrix = linkage(dists, \"single\")\n",
    "dendrogram(\n",
    "    linkage_matrix, \n",
    "    labels=dist_matrix.index.map(name_map), \n",
    "    orientation='left', \n",
    "    link_color_func=lambda k: 'black'\n",
    ")\n",
    "#plt.title(\"test\")\n",
    "\n",
    "\n",
    "ax = plt.gca()\n",
    "xlbls = ax.get_ymajorticklabels()\n",
    "for lbl in xlbls:\n",
    "    lbl.set_color(label_colors[lbl.get_text()])\n",
    "\n",
    "\n",
    "sns.despine(left=True, bottom=True)\n",
    "plt.xticks([])\n",
    "plt.title(title)\n",
    "plt.show()"
   ]
  },
  {
   "cell_type": "code",
   "execution_count": null,
   "id": "1cc4a9b0-012a-4cd5-95f4-3e852988358a",
   "metadata": {},
   "outputs": [],
   "source": []
  }
 ],
 "metadata": {
  "kernelspec": {
   "display_name": "Python 3 (ipykernel)",
   "language": "python",
   "name": "python3"
  },
  "language_info": {
   "codemirror_mode": {
    "name": "ipython",
    "version": 3
   },
   "file_extension": ".py",
   "mimetype": "text/x-python",
   "name": "python",
   "nbconvert_exporter": "python",
   "pygments_lexer": "ipython3",
   "version": "3.11.7"
  }
 },
 "nbformat": 4,
 "nbformat_minor": 5
}
