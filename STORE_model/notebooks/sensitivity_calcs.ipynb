{
 "cells": [
  {
   "cell_type": "code",
   "execution_count": 1,
   "id": "8ff10f65-6f62-4176-8426-172fe461a6c5",
   "metadata": {},
   "outputs": [],
   "source": [
    "import numpy as np\n",
    "import pandas as pd\n",
    "import matplotlib.pyplot as plt\n",
    "import seaborn as sns\n",
    "sns.set(style=\"white\", context='poster')\n",
    "import math"
   ]
  },
  {
   "cell_type": "code",
   "execution_count": 2,
   "id": "301f58cd-73e9-4ffc-bad4-1499283b63dd",
   "metadata": {},
   "outputs": [],
   "source": [
    "%load_ext autoreload\n",
    "%autoreload 2\n"
   ]
  },
  {
   "cell_type": "code",
   "execution_count": 3,
   "id": "fbb869fc-2e47-4380-871d-066addd9eb9f",
   "metadata": {},
   "outputs": [],
   "source": [
    "import sys\n",
    "sys.path.append('..')\n",
    "from model_equations_separate_NC_store_numba import *\n"
   ]
  },
  {
   "cell_type": "code",
   "execution_count": 4,
   "id": "b5c39407-c430-49ce-8866-b4dc540001a7",
   "metadata": {},
   "outputs": [],
   "source": [
    "    (var_names, init_var_vals, intermediate_names, calc_dydt, prepare_params_tuple\n",
    "        ) = get_constants_per_organism(False, 'all', \n",
    "                                       [])\n"
   ]
  },
  {
   "cell_type": "code",
   "execution_count": 5,
   "id": "956dbcf8-3c1d-4cff-9690-e877fd56d11f",
   "metadata": {},
   "outputs": [
    {
     "name": "stdout",
     "output_type": "stream",
     "text": [
      "Bp 0.892857142857143\n",
      "Np 0.0\n",
      "Cp 0.0\n",
      "Bh 28.571428571428573\n",
      "Nh 0.0\n",
      "Ch 0.0\n",
      "DON 3.0\n",
      "RDON 0.0\n",
      "DIN 100.0\n",
      "DOC 19.875\n",
      "RDOC 0.0\n",
      "DIC 2241.552301207755\n",
      "ROS 0.2\n"
     ]
    }
   ],
   "source": [
    "for n,v in zip(var_names, init_var_vals):\n",
    "    print(n,v)"
   ]
  },
  {
   "cell_type": "code",
   "execution_count": 6,
   "id": "8e5432cf-d539-4663-b7b5-ecf89ae97386",
   "metadata": {},
   "outputs": [
    {
     "data": {
      "text/plain": [
       "7.142857142857143e-11"
      ]
     },
     "execution_count": 6,
     "metadata": {},
     "output_type": "execute_result"
    }
   ],
   "source": [
    " 1e-9 / 14"
   ]
  },
  {
   "cell_type": "code",
   "execution_count": 7,
   "id": "85752474-99e1-4201-92fb-d0ecab9715aa",
   "metadata": {},
   "outputs": [
    {
     "name": "stdout",
     "output_type": "stream",
     "text": [
      "7 0.5\n",
      "12.5 0.8928571428571429\n",
      "20 1.4285714285714286\n"
     ]
    }
   ],
   "source": [
    "for i in [7,12.5,20]:\n",
    "    print(i, i * 1e9  * 1e-9 / 14)\n"
   ]
  },
  {
   "cell_type": "code",
   "execution_count": 8,
   "id": "712a60f1-11d6-4f75-827a-e36e4e619487",
   "metadata": {},
   "outputs": [
    {
     "data": {
      "text/plain": [
       "6.625"
      ]
     },
     "execution_count": 8,
     "metadata": {},
     "output_type": "execute_result"
    }
   ],
   "source": [
    "R_CN"
   ]
  },
  {
   "cell_type": "code",
   "execution_count": 12,
   "id": "b2463a9f-cbb9-4a03-96ce-3f43ea401f22",
   "metadata": {},
   "outputs": [
    {
     "data": {
      "text/plain": [
       "(0.892857142857143, 5.915178571428572)"
      ]
     },
     "execution_count": 12,
     "metadata": {},
     "output_type": "execute_result"
    }
   ],
   "source": [
    "initN = 0.892857142857143\n",
    "initC = initN * R_CN\n",
    "initN, initC"
   ]
  },
  {
   "cell_type": "code",
   "execution_count": 13,
   "id": "c24d53a7-c014-4b9e-80bb-711e997fb0a8",
   "metadata": {},
   "outputs": [
    {
     "name": "stdout",
     "output_type": "stream",
     "text": [
      "4 -2.34375\n",
      "6.625 0.0\n",
      "8 1.227678571428572\n"
     ]
    }
   ],
   "source": [
    "for C2N in (4, 6.625, 8):\n",
    "    #C2N = (initC + storeC) / initN\n",
    "    # C2N * initN = (initC + storeC)\n",
    "    # storeC = C2N * initN - initC \n",
    "    print(C2N, C2N * initN - initC)\n",
    "    "
   ]
  },
  {
   "cell_type": "code",
   "execution_count": null,
   "id": "2c6c8779-03da-4a15-8095-8df3ff0ab854",
   "metadata": {},
   "outputs": [],
   "source": []
  }
 ],
 "metadata": {
  "kernelspec": {
   "display_name": "Python 3 (ipykernel)",
   "language": "python",
   "name": "python3"
  },
  "language_info": {
   "codemirror_mode": {
    "name": "ipython",
    "version": 3
   },
   "file_extension": ".py",
   "mimetype": "text/x-python",
   "name": "python",
   "nbconvert_exporter": "python",
   "pygments_lexer": "ipython3",
   "version": "3.11.7"
  }
 },
 "nbformat": 4,
 "nbformat_minor": 5
}
