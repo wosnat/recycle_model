{
 "cells": [
  {
   "cell_type": "code",
   "execution_count": 1,
   "id": "0b5df45e",
   "metadata": {},
   "outputs": [],
   "source": [
    "import numpy as np\n",
    "import pandas as pd\n",
    "import matplotlib.pyplot as plt\n",
    "import seaborn as sns\n",
    "sns.set(style=\"white\", context='poster')\n",
    "import math"
   ]
  },
  {
   "cell_type": "code",
   "execution_count": 2,
   "id": "4d435a10",
   "metadata": {},
   "outputs": [],
   "source": [
    "%load_ext autoreload\n",
    "%autoreload 2\n"
   ]
  },
  {
   "cell_type": "code",
   "execution_count": 3,
   "id": "047a0867",
   "metadata": {},
   "outputs": [],
   "source": [
    "import sys\n",
    "sys.path.append('..')\n",
    "from model_equations_separate_NC_store_numba import *\n"
   ]
  },
  {
   "cell_type": "code",
   "execution_count": 4,
   "id": "6df9ae5e",
   "metadata": {},
   "outputs": [
    {
     "data": {
      "text/html": [
       "<svg  width=\"220\" height=\"55\"><rect x=\"0\" y=\"0\" width=\"55\" height=\"55\" style=\"fill:#426b69;stroke-width:2;stroke:rgb(255,255,255)\"/><rect x=\"55\" y=\"0\" width=\"55\" height=\"55\" style=\"fill:#9b7874;stroke-width:2;stroke:rgb(255,255,255)\"/><rect x=\"110\" y=\"0\" width=\"55\" height=\"55\" style=\"fill:#b191ff;stroke-width:2;stroke:rgb(255,255,255)\"/><rect x=\"165\" y=\"0\" width=\"55\" height=\"55\" style=\"fill:#84dcc6;stroke-width:2;stroke:rgb(255,255,255)\"/></svg>"
      ],
      "text/plain": [
       "[(0.25882352941176473, 0.4196078431372549, 0.4117647058823529),\n",
       " (0.6078431372549019, 0.47058823529411764, 0.4549019607843137),\n",
       " (0.6941176470588235, 0.5686274509803921, 1.0),\n",
       " (0.5176470588235295, 0.8627450980392157, 0.7764705882352941)]"
      ]
     },
     "execution_count": 4,
     "metadata": {},
     "output_type": "execute_result"
    }
   ],
   "source": [
    "morder = ['EXOENZYME','OVERFLOW',   'ROS','MIXOTROPH',]#'MIN', ]\n",
    "media_order = ['lowN', 'pro99']\n",
    "mpalette = [ '#426b69', '#9b7874', '#b191ff', '#84dcc6',]# '#d6d4a0',]\n",
    "sns.color_palette(mpalette)"
   ]
  },
  {
   "cell_type": "code",
   "execution_count": 5,
   "id": "9af56848-75a6-4cdb-8656-4e70c18fd803",
   "metadata": {},
   "outputs": [],
   "source": [
    "morder1 = morder[:-1]\n",
    "mpalette1 = mpalette[:-1]"
   ]
  },
  {
   "cell_type": "code",
   "execution_count": 6,
   "id": "13290bb6",
   "metadata": {},
   "outputs": [
    {
     "data": {
      "text/html": [
       "<svg  width=\"330\" height=\"55\"><rect x=\"0\" y=\"0\" width=\"55\" height=\"55\" style=\"fill:#882255;stroke-width:2;stroke:rgb(255,255,255)\"/><rect x=\"55\" y=\"0\" width=\"55\" height=\"55\" style=\"fill:#cc6677;stroke-width:2;stroke:rgb(255,255,255)\"/><rect x=\"110\" y=\"0\" width=\"55\" height=\"55\" style=\"fill:#332288;stroke-width:2;stroke:rgb(255,255,255)\"/><rect x=\"165\" y=\"0\" width=\"55\" height=\"55\" style=\"fill:#44aa99;stroke-width:2;stroke:rgb(255,255,255)\"/><rect x=\"220\" y=\"0\" width=\"55\" height=\"55\" style=\"fill:#88ccee;stroke-width:2;stroke:rgb(255,255,255)\"/><rect x=\"275\" y=\"0\" width=\"55\" height=\"55\" style=\"fill:#d0cfca;stroke-width:2;stroke:rgb(255,255,255)\"/></svg>"
      ],
      "text/plain": [
       "[(0.5333333333333333, 0.13333333333333333, 0.3333333333333333),\n",
       " (0.8, 0.4, 0.4666666666666667),\n",
       " (0.2, 0.13333333333333333, 0.5333333333333333),\n",
       " (0.26666666666666666, 0.6666666666666666, 0.6),\n",
       " (0.5333333333333333, 0.8, 0.9333333333333333),\n",
       " (0.8156862745098039, 0.8117647058823529, 0.792156862745098)]"
      ]
     },
     "execution_count": 6,
     "metadata": {},
     "output_type": "execute_result"
    }
   ],
   "source": [
    "gorder = [ 'Strong', 'Sustained', 'Inhibited', 'Weak', 'Neutral',   'Other']\n",
    "gpalette = sns.color_palette('Set2', n_colors=4).as_hex() + ['black', 'lightgrey']\n",
    "gpalette = ['#882255', '#CC6677', '#332288', \n",
    "             '#44AA99','#88CCEE',\n",
    "            '#D0CFCA',  ]\n",
    "\n",
    "sns.color_palette(gpalette)"
   ]
  },
  {
   "cell_type": "code",
   "execution_count": 7,
   "id": "29512801",
   "metadata": {},
   "outputs": [
    {
     "data": {
      "text/html": [
       "<svg  width=\"990\" height=\"55\"><rect x=\"0\" y=\"0\" width=\"55\" height=\"55\" style=\"fill:#99cc99;stroke-width:2;stroke:rgb(255,255,255)\"/><rect x=\"55\" y=\"0\" width=\"55\" height=\"55\" style=\"fill:#aad5aa;stroke-width:2;stroke:rgb(255,255,255)\"/><rect x=\"110\" y=\"0\" width=\"55\" height=\"55\" style=\"fill:#ffc58f;stroke-width:2;stroke:rgb(255,255,255)\"/><rect x=\"165\" y=\"0\" width=\"55\" height=\"55\" style=\"fill:#ffd2a9;stroke-width:2;stroke:rgb(255,255,255)\"/><rect x=\"220\" y=\"0\" width=\"55\" height=\"55\" style=\"fill:#326232;stroke-width:2;stroke:rgb(255,255,255)\"/><rect x=\"275\" y=\"0\" width=\"55\" height=\"55\" style=\"fill:#ffa98f;stroke-width:2;stroke:rgb(255,255,255)\"/><rect x=\"330\" y=\"0\" width=\"55\" height=\"55\" style=\"fill:#7285b7;stroke-width:2;stroke:rgb(255,255,255)\"/><rect x=\"385\" y=\"0\" width=\"55\" height=\"55\" style=\"fill:#000000;stroke-width:2;stroke:rgb(255,255,255)\"/><rect x=\"440\" y=\"0\" width=\"55\" height=\"55\" style=\"fill:#bbdaff;stroke-width:2;stroke:rgb(255,255,255)\"/><rect x=\"495\" y=\"0\" width=\"55\" height=\"55\" style=\"fill:#99cc99;stroke-width:2;stroke:rgb(255,255,255)\"/><rect x=\"550\" y=\"0\" width=\"55\" height=\"55\" style=\"fill:#aad5aa;stroke-width:2;stroke:rgb(255,255,255)\"/><rect x=\"605\" y=\"0\" width=\"55\" height=\"55\" style=\"fill:#ffc58f;stroke-width:2;stroke:rgb(255,255,255)\"/><rect x=\"660\" y=\"0\" width=\"55\" height=\"55\" style=\"fill:#ffd2a9;stroke-width:2;stroke:rgb(255,255,255)\"/><rect x=\"715\" y=\"0\" width=\"55\" height=\"55\" style=\"fill:#326232;stroke-width:2;stroke:rgb(255,255,255)\"/><rect x=\"770\" y=\"0\" width=\"55\" height=\"55\" style=\"fill:#ffa98f;stroke-width:2;stroke:rgb(255,255,255)\"/><rect x=\"825\" y=\"0\" width=\"55\" height=\"55\" style=\"fill:#cc6666;stroke-width:2;stroke:rgb(255,255,255)\"/><rect x=\"880\" y=\"0\" width=\"55\" height=\"55\" style=\"fill:#000000;stroke-width:2;stroke:rgb(255,255,255)\"/><rect x=\"935\" y=\"0\" width=\"55\" height=\"55\" style=\"fill:#ff9da4;stroke-width:2;stroke:rgb(255,255,255)\"/></svg>"
      ],
      "text/plain": [
       "[(0.6, 0.8, 0.6),\n",
       " (0.6666666666666666, 0.8352941176470589, 0.6666666666666666),\n",
       " (1.0, 0.7725490196078432, 0.5607843137254902),\n",
       " (1.0, 0.8235294117647058, 0.6627450980392157),\n",
       " (0.19607843137254902, 0.3843137254901961, 0.19607843137254902),\n",
       " (1.0, 0.6627450980392157, 0.5607843137254902),\n",
       " (0.4470588235294118, 0.5215686274509804, 0.7176470588235294),\n",
       " (0.0, 0.0, 0.0),\n",
       " (0.7333333333333333, 0.8549019607843137, 1.0),\n",
       " (0.6, 0.8, 0.6),\n",
       " (0.6666666666666666, 0.8352941176470589, 0.6666666666666666),\n",
       " (1.0, 0.7725490196078432, 0.5607843137254902),\n",
       " (1.0, 0.8235294117647058, 0.6627450980392157),\n",
       " (0.19607843137254902, 0.3843137254901961, 0.19607843137254902),\n",
       " (1.0, 0.6627450980392157, 0.5607843137254902),\n",
       " (0.8, 0.4, 0.4),\n",
       " (0.0, 0.0, 0.0),\n",
       " (1.0, 0.615686274509804, 0.6431372549019608)]"
      ]
     },
     "execution_count": 7,
     "metadata": {},
     "output_type": "execute_result"
    }
   ],
   "source": [
    "\n",
    "HCOLOR = '#ffc58f'\n",
    "HCOLOR_light = '#ffd2a9'\n",
    "PCOLOR = '#99cc99'\n",
    "PCOLOR_light = '#aad5aa'\n",
    "\n",
    "DONCOLOR = '#7285b7'\n",
    "RDONCOLOR = 'black' #'#00334D'\n",
    "DINCOLOR = '#bbdaff' #'#000066'\n",
    "\n",
    "DOCCOLOR = '#cc6666'\n",
    "RDOCCOLOR = 'black' #'#00334D'\n",
    "DICCOLOR = '#ff9da4' #'#000066'\n",
    "\n",
    "SHCOLOR = '#ffa98f'\n",
    "SPCOLOR = '#326232'\n",
    "\n",
    "\n",
    "ccnpalette = [PCOLOR, PCOLOR_light, HCOLOR, HCOLOR_light, SPCOLOR, SHCOLOR,DONCOLOR, RDONCOLOR, DINCOLOR]\n",
    "ccnorder = ['Bp', 'Np', 'Bh','Nh',  'ABp', 'ABh', 'DON', 'RDON', 'DIN', ]\n",
    "cccpalette = [PCOLOR, PCOLOR_light, HCOLOR, HCOLOR_light, SPCOLOR, SHCOLOR, DOCCOLOR, RDOCCOLOR, DICCOLOR]\n",
    "cccorder = ['Bp[C]', 'Cp', 'Bh[C]', 'Ch', 'ABp[C]', 'ABh[C]', 'DOC', 'RDOC', 'DIC']\n",
    "ccxpalette = [PCOLOR, HCOLOR]\n",
    "ccxorder = ['Xp', 'Xh']\n",
    "hnpalette = [ HCOLOR_light, SPCOLOR, SHCOLOR, DONCOLOR, RDONCOLOR, DINCOLOR]\n",
    "hnorder = [ 'Bh', 'ABp', 'ABh', 'DON', 'RDON', 'DIN']\n",
    "hcpalette = [ HCOLOR_light, SPCOLOR, SHCOLOR, DOCCOLOR, RDOCCOLOR, DICCOLOR]\n",
    "hcorder = [ 'Bh[C]', 'ABp[C]', 'ABh[C]', 'DOC', 'RDOC', 'DIC']\n",
    "pnpalette = [ PCOLOR_light, SPCOLOR, SHCOLOR, DONCOLOR, RDONCOLOR, DINCOLOR]\n",
    "pnorder = [ 'Bp', 'ABp', 'ABh', 'DON', 'RDON', 'DIN']\n",
    "pcpalette = [ PCOLOR_light, SPCOLOR, SHCOLOR, DOCCOLOR, RDOCCOLOR, DICCOLOR]\n",
    "pcorder = [ 'Bp[C]', 'ABp[C]', 'ABh[C]', 'DOC', 'RDOC', 'DIC']\n",
    "sns.color_palette(ccnpalette + cccpalette, )\n",
    "# \n"
   ]
  },
  {
   "cell_type": "code",
   "execution_count": 8,
   "id": "1aa81fa9",
   "metadata": {},
   "outputs": [
    {
     "data": {
      "text/html": [
       "<svg  width=\"385\" height=\"55\"><rect x=\"0\" y=\"0\" width=\"55\" height=\"55\" style=\"fill:#2f6755;stroke-width:2;stroke:rgb(255,255,255)\"/><rect x=\"55\" y=\"0\" width=\"55\" height=\"55\" style=\"fill:#98a69a;stroke-width:2;stroke:rgb(255,255,255)\"/><rect x=\"110\" y=\"0\" width=\"55\" height=\"55\" style=\"fill:#7d5c54;stroke-width:2;stroke:rgb(255,255,255)\"/><rect x=\"165\" y=\"0\" width=\"55\" height=\"55\" style=\"fill:#e7bb96;stroke-width:2;stroke:rgb(255,255,255)\"/><rect x=\"220\" y=\"0\" width=\"55\" height=\"55\" style=\"fill:#df5f35;stroke-width:2;stroke:rgb(255,255,255)\"/><rect x=\"275\" y=\"0\" width=\"55\" height=\"55\" style=\"fill:#ef9e84;stroke-width:2;stroke:rgb(255,255,255)\"/><rect x=\"330\" y=\"0\" width=\"55\" height=\"55\" style=\"fill:#ffd8d1;stroke-width:2;stroke:rgb(255,255,255)\"/></svg>"
      ],
      "text/plain": [
       "[(0.1843137254901961, 0.403921568627451, 0.3333333333333333),\n",
       " (0.596078431372549, 0.6509803921568628, 0.6039215686274509),\n",
       " (0.49019607843137253, 0.3607843137254902, 0.32941176470588235),\n",
       " (0.9058823529411765, 0.7333333333333333, 0.5882352941176471),\n",
       " (0.8745098039215686, 0.37254901960784315, 0.20784313725490197),\n",
       " (0.9372549019607843, 0.6196078431372549, 0.5176470588235295),\n",
       " (1.0, 0.8470588235294118, 0.8196078431372549)]"
      ]
     },
     "execution_count": 8,
     "metadata": {},
     "output_type": "execute_result"
    }
   ],
   "source": [
    "ccnorder = ['Bp', 'Np','Bh',  'Nh', 'DIN','DON',  'RDON', ]\n",
    "ccnpalette = [PCOLOR, PCOLOR_light, HCOLOR, HCOLOR_light,DINCOLOR, DONCOLOR, RDONCOLOR, ]\n",
    "\n",
    "#Hex Codes: #262842, #293961, #2C497F, #8897BD, #E3E4FA\n",
    "#Hex Codes: #49593C, #945C39, #DF5F35, #EF9E84, #FFE3D1\n",
    "#Hex Codes: #5E1525, #C74F29, #E99E46, #B6C38D, #828144\n",
    "ccnpalette = ['#2F6755', '#98A69A', '#7d5c54', '#E7BB96', '#262842', '#2C497F', '#8897BD']\n",
    "#ccnpalette = ['#828144', '#B6C38D', '#E99E46', '#E7BB96', '#262842', '#2C497F', '#8897BD']\n",
    "cccorder = ['Bp[C]', 'Cp','Bh[C]',  'Ch', 'DIC','DOC',  'RDOC', ]\n",
    "cccpalette = [PCOLOR, PCOLOR_light, HCOLOR, HCOLOR_light,DICCOLOR, DOCCOLOR, RDOCCOLOR, ]\n",
    "#Hex Codes: #49593C, #945C39, #DF5F35, #EF9E84, #FFE3D1\n",
    "cccpalette = ['#2F6755', '#98A69A', '#7d5c54', '#E7BB96', '#DF5F35', '#EF9E84', '#ffd8d1']\n",
    "\n",
    "sns.color_palette(cccpalette)"
   ]
  },
  {
   "cell_type": "code",
   "execution_count": 9,
   "id": "041f9573",
   "metadata": {},
   "outputs": [
    {
     "data": {
      "text/html": [
       "<svg  width=\"220\" height=\"55\"><rect x=\"0\" y=\"0\" width=\"55\" height=\"55\" style=\"fill:#99cc99;stroke-width:2;stroke:rgb(255,255,255)\"/><rect x=\"55\" y=\"0\" width=\"55\" height=\"55\" style=\"fill:#ffc58f;stroke-width:2;stroke:rgb(255,255,255)\"/><rect x=\"110\" y=\"0\" width=\"55\" height=\"55\" style=\"fill:#aad5aa;stroke-width:2;stroke:rgb(255,255,255)\"/><rect x=\"165\" y=\"0\" width=\"55\" height=\"55\" style=\"fill:#ffd2a9;stroke-width:2;stroke:rgb(255,255,255)\"/></svg>"
      ],
      "text/plain": [
       "[(0.6, 0.8, 0.6),\n",
       " (1.0, 0.7725490196078432, 0.5607843137254902),\n",
       " (0.6666666666666666, 0.8352941176470589, 0.6666666666666666),\n",
       " (1.0, 0.8235294117647058, 0.6627450980392157)]"
      ]
     },
     "execution_count": 9,
     "metadata": {},
     "output_type": "execute_result"
    }
   ],
   "source": [
    "\n",
    " \n",
    "sns.color_palette([PCOLOR, HCOLOR, PCOLOR_light, HCOLOR_light] )\n"
   ]
  },
  {
   "cell_type": "code",
   "execution_count": 10,
   "id": "10f7a882",
   "metadata": {},
   "outputs": [],
   "source": [
    "refdf = pd.read_excel('../ML_model/reference_final.xlsx')"
   ]
  },
  {
   "cell_type": "code",
   "execution_count": 11,
   "id": "5ba784b1",
   "metadata": {},
   "outputs": [],
   "source": [
    "dpath = '/fast_data/Osnat/RECYCLE_MODEL/results/shgo2/out'\n",
    "dpath = '../results'\n",
    "dpath = '../results/final/het'"
   ]
  },
  {
   "cell_type": "code",
   "execution_count": 12,
   "id": "4a13519f-082a-41db-b765-e6b6766b8e9f",
   "metadata": {},
   "outputs": [],
   "source": [
    "fnames_predicted_classes = [\n",
    "    'predicted_classes_monte_add_het_clean.csv.gz',\n",
    "    'predicted_classes_monte_het_clean.csv.gz',\n",
    "    'predicted_classes_monte_het_add_100per_vpro_EXOENZYME.csv.gz',\n",
    "    'predicted_classes_monte_het_add_100per_vpro_OVERFLOW.csv.gz',\n",
    "    'predicted_classes_monte_het_add_100per_vpro_ROS.csv.gz',\n",
    "    'predicted_classes_monte_het_extend_100per_vpro_EXOENZYME.csv.gz',\n",
    "    'predicted_classes_monte_het_extend_100per_vpro_MIXOTROPH.csv.gz',\n",
    "    'predicted_classes_monte_het_extend_100per_vpro_OVERFLOW.csv.gz',\n",
    "    'predicted_classes_monte_het_extend_100per_vpro_ROS.csv.gz',\n",
    "    'predicted_classes_monte_het_extend_EXOENZYME.csv.gz',\n",
    "    'predicted_classes_monte_het_extend_MIXOTROPH.csv.gz',\n",
    "    'predicted_classes_monte_het_extend_OVERFLOW.csv.gz',\n",
    "    'predicted_classes_monte_het_extend_ROS.csv.gz',\n",
    "    'predicted_classes_monte_het_multi.csv.gz',\n",
    "    'predicted_classes_monte_het_round2_100per_vpro_ROS.csv.gz',\n",
    "    'predicted_classes_monte_ROS_round2_het.csv.gz',\n",
    "]"
   ]
  },
  {
   "cell_type": "code",
   "execution_count": 13,
   "id": "2d22c118-b4e4-471b-8757-91d5ebfd8a45",
   "metadata": {},
   "outputs": [],
   "source": [
    "fnames_df = [\n",
    "    'monte_add_het_clean_clean_df.csv.gz',\n",
    "    'monte_het_add_100per_vpro_EXOENZYME_clean_df.csv.gz',\n",
    "    'monte_het_add_100per_vpro_OVERFLOW_clean_df.csv.gz',\n",
    "    'monte_het_add_100per_vpro_ROS_clean_df.csv.gz',\n",
    "    'monte_het_clean_clean_df.csv.gz',\n",
    "    'monte_het_extend_100per_vpro_EXOENZYME_clean_df.csv.gz',\n",
    "    'monte_het_extend_100per_vpro_MIXOTROPH_clean_df.csv.gz',\n",
    "    'monte_het_extend_100per_vpro_OVERFLOW_clean_df.csv.gz',\n",
    "    'monte_het_extend_100per_vpro_ROS_clean_df.csv.gz',\n",
    "    'monte_het_extend_EXOENZYME_clean_df.csv.gz',\n",
    "    'monte_het_extend_MIXOTROPH_clean_df.csv.gz',\n",
    "    'monte_het_extend_OVERFLOW_clean_df.csv.gz',\n",
    "    'monte_het_extend_ROS_clean_df.csv.gz',\n",
    "    'monte_het_multi_clean_df.csv.gz',\n",
    "    'monte_het_round2_100per_vpro_ROS_clean_df.csv.gz',\n",
    "    'monte_ROS_round2_het_clean_df.csv.gz',\n",
    "]"
   ]
  },
  {
   "cell_type": "code",
   "execution_count": null,
   "id": "964dd692-4a4c-4339-8fa0-8d5192969451",
   "metadata": {},
   "outputs": [],
   "source": [
    "sum_df = pd.concat([pd.read_csv(os.path.join(dpath, f)) for f in fnames_df], ignore_index=True)"
   ]
  },
  {
   "cell_type": "code",
   "execution_count": null,
   "id": "df64326a-e968-468a-9c82-1d51f7616909",
   "metadata": {},
   "outputs": [],
   "source": [
    "sum_df = sum_df.drop(columns=['Unnamed: 0'])"
   ]
  },
  {
   "cell_type": "code",
   "execution_count": null,
   "id": "e5b6b7c3-fb8c-42af-9225-d72f30456234",
   "metadata": {},
   "outputs": [],
   "source": [
    "vpro_df = pd.read_csv('../ML_model/versatile_vpros.csv')"
   ]
  },
  {
   "cell_type": "code",
   "execution_count": null,
   "id": "01e5c7c8-5806-4fdc-9cb7-a8fdd61a3adc",
   "metadata": {},
   "outputs": [],
   "source": [
    "minmse_df = pd.concat([pd.read_csv(os.path.join(dpath, f)) for f in fnames_predicted_classes], ignore_index=True)"
   ]
  },
  {
   "cell_type": "code",
   "execution_count": null,
   "id": "4bf4edbb-5366-4d10-bc01-5c26f3df5e66",
   "metadata": {},
   "outputs": [],
   "source": [
    "minmse_df.VPRO = minmse_df.VPRO.str.replace('_monte_', '' ,regex=False)"
   ]
  },
  {
   "cell_type": "code",
   "execution_count": null,
   "id": "f7ad2a19-2cd1-4a9c-9f81-938f25151af2",
   "metadata": {},
   "outputs": [],
   "source": [
    "minmse_df = minmse_df.loc[minmse_df.model.isin(morder)]"
   ]
  },
  {
   "cell_type": "code",
   "execution_count": null,
   "id": "f29da08b-005f-498b-b0b9-118d01b5b62a",
   "metadata": {},
   "outputs": [],
   "source": [
    "vpro_df = vpro_df.loc[vpro_df.model.isin(morder) & vpro_df.Versatile]"
   ]
  },
  {
   "cell_type": "code",
   "execution_count": null,
   "id": "e6bce53c-43a1-446e-9475-19065c29708b",
   "metadata": {},
   "outputs": [],
   "source": [
    "minmse_df.columns"
   ]
  },
  {
   "cell_type": "code",
   "execution_count": null,
   "id": "1df85bde-5848-4e8b-b943-5ceac0641688",
   "metadata": {},
   "outputs": [],
   "source": [
    "minmse_df_vers = pd.merge(\n",
    "    vpro_df[['model', 'Phase', 'VPRO', 'Versatile',]],\n",
    "    minmse_df[['run_id', 'y_pred',  'VPRO', 'Sample', 'max_prob']],\n",
    "    on='VPRO', how='left')\n",
    "minmse_df_vers"
   ]
  },
  {
   "cell_type": "code",
   "execution_count": null,
   "id": "0efe2c09-f893-43af-9a80-6a23f0c96f26",
   "metadata": {},
   "outputs": [],
   "source": [
    "df = pd.merge(minmse_df_vers, sum_df, on='run_id', how='left')"
   ]
  },
  {
   "cell_type": "code",
   "execution_count": null,
   "id": "ccd8e00d-2826-4fda-bca6-5df6c96dd3a1",
   "metadata": {},
   "outputs": [],
   "source": []
  },
  {
   "cell_type": "code",
   "execution_count": null,
   "id": "84524eb9-c3bd-4997-a059-63f0fae52a59",
   "metadata": {},
   "outputs": [],
   "source": []
  },
  {
   "cell_type": "code",
   "execution_count": null,
   "id": "8b2a12ee",
   "metadata": {},
   "outputs": [],
   "source": [
    "df.columns"
   ]
  },
  {
   "cell_type": "code",
   "execution_count": null,
   "id": "a85e3a37",
   "metadata": {},
   "outputs": [],
   "source": [
    "df = df.reset_index(drop=True)"
   ]
  },
  {
   "cell_type": "markdown",
   "id": "b5081a88-b26a-4596-88b0-c7c996d032f9",
   "metadata": {},
   "source": [
    "# BIO GEO chemical"
   ]
  },
  {
   "cell_type": "code",
   "execution_count": null,
   "id": "1b62badd",
   "metadata": {},
   "outputs": [],
   "source": [
    "df['total C biomass'] = df['Bptotal[C]'] + df['Bhtotal[C]']\n",
    "df['HET/PRO C biomass ratio'] = df['Bhtotal[C]'] / df['Bptotal[C]']\n",
    "df['PRO/HET C biomass ratio'] = df['Bptotal[C]'] / df['Bhtotal[C]']\n"
   ]
  },
  {
   "cell_type": "code",
   "execution_count": null,
   "id": "9f22f388-2f90-43cd-b878-9dc3a02eda77",
   "metadata": {},
   "outputs": [],
   "source": [
    "df['total N biomass'] = df['Bptotal[N]'] + df['Bhtotal[N]']\n",
    "df['HET/PRO N biomass ratio'] = df['Bhtotal[N]'] / df['Bptotal[N]']\n",
    "df['PRO/HET N biomass ratio'] = df['Bptotal[N]'] / df['Bhtotal[N]']\n",
    "df['biomass C/N ratio'] = (df['Bhtotal[C]'] + df['Bptotal[C]']) / (df['Bhtotal[N]'] + df['Bptotal[N]'])\n"
   ]
  },
  {
   "cell_type": "markdown",
   "id": "173f36d6-cda2-4b27-850e-8645828bef3a",
   "metadata": {},
   "source": [
    "# total PP and total N uptake"
   ]
  },
  {
   "cell_type": "code",
   "execution_count": null,
   "id": "0967f964-4c02-49bc-9766-7dcb38e02161",
   "metadata": {},
   "outputs": [],
   "source": []
  },
  {
   "cell_type": "code",
   "execution_count": null,
   "id": "a6170444-e195-441b-a5cf-d44cf0bd51fe",
   "metadata": {},
   "outputs": [],
   "source": [
    "sim_df_filtered = df"
   ]
  },
  {
   "cell_type": "markdown",
   "id": "97a88047-2640-420b-830f-69c777b0c136",
   "metadata": {},
   "source": [
    "# efficiency \n",
    "# Total carbon fixation integrated vs final fixed carbon\n",
    "# New production N vs recycled production\n"
   ]
  },
  {
   "cell_type": "code",
   "execution_count": null,
   "id": "b8e5e5c9-5775-4cb6-b997-ed21f313f631",
   "metadata": {},
   "outputs": [],
   "source": [
    "from scipy import integrate\n",
    "def _integrate_column(x, collist):\n",
    "    return pd.Series({colname :  integrate.simpson(x[colname], x=x['t']) for colname in collist})\n",
    "        "
   ]
  },
  {
   "cell_type": "code",
   "execution_count": null,
   "id": "0fa92cf8-9d7c-4194-91f5-eced9c30797c",
   "metadata": {},
   "outputs": [],
   "source": [
    "sim_df_filtered.columns"
   ]
  },
  {
   "cell_type": "code",
   "execution_count": null,
   "id": "c6163377-fbaa-470e-8baa-1d0ba7ca153b",
   "metadata": {},
   "outputs": [],
   "source": [
    "collist = [\n",
    "    'Bp', 'Np', 'Cp', 'Bh', 'Nh', 'Ch', 'DON', 'RDON', 'DIN',\n",
    "       'DOC', 'RDOC', 'DIC', 'ROS', 'gross_uptakeINp',\n",
    "       'gross_uptakeINh', 'gross_uptakeONp', 'gross_uptakeONh',\n",
    "       'gross_uptakeICp', 'gross_uptakeICh', 'gross_uptakeOCp',\n",
    "       'gross_uptakeOCh', \n",
    "        #'biosynthesisNp', 'biosynthesisNh', \n",
    "    'respirationCp',\n",
    "       'respirationCh', #'biomass_breakdownCp', 'biomass_breakdownCh',\n",
    "       'overflowNp', 'overflowNh', 'overflowCp', 'overflowCh', #'Bp[C]',\n",
    "       'Bptotal[N]', 'Bptotal[C]', #'Bh[C]', \n",
    "    'Bhtotal[N]', 'Bhtotal[C]',\n",
    "       'ROSproductionp', 'ROSproductionh', 'ROSlossp', 'ROSlossh',\n",
    "       #'deathbiomassNp', 'deathbiomassNh', 'deathstoreNp', 'deathstoreNh',\n",
    "       #'deathstoreCp', 'deathstoreCh', \n",
    "    #'DON2DIN_exop', \n",
    "    'DON2DIN_exoh',\n",
    "       'DON2DIN', 'additionalLossRatep', 'additionalLossRateh', \n",
    "    #'regNp',\n",
    "      # 'regNh', 'regCp', 'regCh', \n",
    "    'deathC_DOCp', 'deathC_DOCh', 'deathN_DONp',\n",
    "       'deathN_DONh',\n",
    "]\n",
    "total_gross_uptake = sim_df_filtered.groupby('run_id').apply(lambda x: _integrate_column(x, collist))"
   ]
  },
  {
   "cell_type": "code",
   "execution_count": null,
   "id": "473571ed-fee8-41bf-a06c-b096ba4978cb",
   "metadata": {},
   "outputs": [],
   "source": [
    "total_gross_uptake = total_gross_uptake.reset_index()"
   ]
  },
  {
   "cell_type": "code",
   "execution_count": null,
   "id": "fe20a32b-b019-4113-850f-fafb5f03a7a3",
   "metadata": {},
   "outputs": [],
   "source": [
    "N_uptake_cols = ['gross_uptakeINp', 'gross_uptakeINh', 'gross_uptakeONp', 'gross_uptakeONh']\n",
    "total_gross_uptake['PP'] = total_gross_uptake['gross_uptakeICp']\n",
    "total_gross_uptake['Total N uptake'] = total_gross_uptake[N_uptake_cols].sum(axis=1)\n"
   ]
  },
  {
   "cell_type": "code",
   "execution_count": null,
   "id": "d7e53c8b",
   "metadata": {},
   "outputs": [],
   "source": [
    "df['total fixed C'] = df['total C biomass'] + df['DOC'] + df['RDOC']"
   ]
  },
  {
   "cell_type": "code",
   "execution_count": null,
   "id": "69ece364",
   "metadata": {},
   "outputs": [],
   "source": [
    "last_day_df = df.loc[df.groupby('run_id').day.idxmax()]"
   ]
  },
  {
   "cell_type": "code",
   "execution_count": null,
   "id": "4b6e66cd",
   "metadata": {},
   "outputs": [],
   "source": [
    "max_biomass_C_df = df.loc[df.groupby('run_id')['total C biomass'].idxmax()]"
   ]
  },
  {
   "cell_type": "code",
   "execution_count": null,
   "id": "138fd1f1-a930-4078-b915-e524fa2373c9",
   "metadata": {},
   "outputs": [],
   "source": [
    "max_biomass_N_df = df.loc[df.groupby('run_id')['total N biomass'].idxmax()]"
   ]
  },
  {
   "cell_type": "code",
   "execution_count": null,
   "id": "4d62b6d6-6a7f-4324-98b4-c5bdcb78befa",
   "metadata": {},
   "outputs": [],
   "source": [
    "gorder1 = ['Strong', 'Sustained', 'Weak','Inhibited',  ]\n",
    "gpalette1 = gpalette[:2] + [gpalette[3], gpalette[2], ]\n",
    "sns.color_palette(gpalette1)"
   ]
  },
  {
   "cell_type": "code",
   "execution_count": null,
   "id": "2f1430ff-e139-48fa-b847-e55014af8223",
   "metadata": {},
   "outputs": [],
   "source": [
    "id_keys = ['run_id', 'y_pred', 'max_prob', #'idx', 'media', 'which', \n",
    "           'model',\n",
    "        #'hash', \n",
    "           'VPRO', ]\n",
    "comb_df = pd.merge(\n",
    "    last_day_df[id_keys + ['total fixed C','RDOC', 'DOC']], \n",
    "    max_biomass_C_df[id_keys + ['HET/PRO C biomass ratio','PRO/HET C biomass ratio','total C biomass', 'Bptotal[C]','Bhtotal[C]',]], \n",
    "    on=id_keys,\n",
    "    \n",
    ")\n",
    "comb_df = pd.merge(\n",
    "    comb_df, \n",
    "    max_biomass_N_df[id_keys + ['HET/PRO N biomass ratio','PRO/HET N biomass ratio','total N biomass', 'Bptotal[N]','Bhtotal[N]',]], \n",
    "    on=id_keys,\n",
    "    \n",
    ")\n",
    "\n"
   ]
  },
  {
   "cell_type": "code",
   "execution_count": null,
   "id": "7fd07b11-1055-4901-86c8-028dd372362f",
   "metadata": {},
   "outputs": [],
   "source": [
    "comb_df = pd.merge(\n",
    "    comb_df, \n",
    "    total_gross_uptake[['run_id', 'PP', 'Total N uptake']], \n",
    "    on='run_id',\n",
    "    \n",
    ")\n"
   ]
  },
  {
   "cell_type": "code",
   "execution_count": null,
   "id": "8f79d4d6-f53c-4d8b-a8b9-23a1cf9bc743",
   "metadata": {},
   "outputs": [],
   "source": [
    "comb_df['PP / total fixed C'] = comb_df['PP'] / comb_df['total fixed C'] \n",
    "comb_df['N reuse'] = comb_df['Total N uptake'] / (INIT_DIN + INIT_DON)\n",
    "\n"
   ]
  },
  {
   "cell_type": "code",
   "execution_count": null,
   "id": "5adcae5c-5489-4708-9d3f-5fdfec7c4745",
   "metadata": {},
   "outputs": [],
   "source": [
    "comb_df = comb_df.reset_index().copy()"
   ]
  },
  {
   "cell_type": "code",
   "execution_count": null,
   "id": "8259935d",
   "metadata": {},
   "outputs": [],
   "source": [
    "comb_df"
   ]
  },
  {
   "cell_type": "code",
   "execution_count": null,
   "id": "ffbb36fc-8f34-4782-935d-c0c332b7afde",
   "metadata": {},
   "outputs": [],
   "source": [
    "#runids = min_mse_df.loc[min_mse_df.Mode.isin(['Monte']),'run_id'].sample(500, ignore_index=True)\n",
    "g = sns.relplot(\n",
    "    data=df.loc[df['Bptotal[C]'].ge(5)& df['Bhtotal[C]'].ge(5)],\n",
    "    x='day',\n",
    "    y='PRO/HET C biomass ratio',\n",
    "    hue='y_pred', hue_order=reversed(gorder),\n",
    "    kind='line', lw=1,\n",
    "    estimator=None, units='run_id', palette=reversed(gpalette),\n",
    "    col='model', col_order=morder, #col_wrap=3,\n",
    "    legend=False,\n",
    "        #aspect=1, height=3,\n",
    "    #facet_kws=dict(margin_titles=True)\n",
    "\n",
    ").set_titles(row_template='{row_name}', col_template='{col_name}').set(ylabel='', )\n",
    "g.set(ylabel='PRO/HET C ratio')\n",
    "#plt.suptitle('Montecarlo')\n",
    "#plt.subplots_adjust(hspace=0.1, wspace=0.1)\n",
    "#g.set(ylim=(0, 11))\n",
    "for col_val, ax in g.axes_dict.items():\n",
    "    ax.axhline(1,lw=3, ls='--')\n",
    "\n",
    "g.set(yscale='log', )\n",
    "plt.show()"
   ]
  },
  {
   "cell_type": "code",
   "execution_count": null,
   "id": "36bc5ca7-818d-460f-9dc7-a360ccb6f099",
   "metadata": {},
   "outputs": [],
   "source": [
    "#runids = min_mse_df.loc[min_mse_df.Mode.isin(['Monte']),'run_id'].sample(500, ignore_index=True)\n",
    "g = sns.relplot(\n",
    "    data=df.loc[df['Bptotal[C]'].ge(5)& df['Bhtotal[C]'].ge(5)],\n",
    "    x='day',\n",
    "    y='total N biomass',\n",
    "    hue='y_pred', hue_order=reversed(gorder),\n",
    "    kind='line', lw=1,\n",
    "    estimator=None, units='run_id', palette=reversed(gpalette),\n",
    "    col='model', col_order=morder, #col_wrap=3,\n",
    "    legend=False,\n",
    "        #aspect=1, height=3,\n",
    "    #facet_kws=dict(margin_titles=True)\n",
    "\n",
    ").set_titles(row_template='{row_name}', col_template='{col_name}')#.set(ylabel='', )\n",
    "#g.set(ylabel='PRO/HET C ratio')\n",
    "\n",
    "plt.show()"
   ]
  },
  {
   "cell_type": "code",
   "execution_count": null,
   "id": "4341496d-dd4b-4269-a4b1-d6d10ad9f37f",
   "metadata": {},
   "outputs": [],
   "source": [
    "#runids = min_mse_df.loc[min_mse_df.Mode.isin(['Monte']),'run_id'].sample(500, ignore_index=True)\n",
    "g = sns.relplot(\n",
    "    data=df.loc[df['Bptotal[C]'].ge(5)& df['Bhtotal[C]'].ge(5)],\n",
    "    x='day',\n",
    "    y='total C biomass',\n",
    "    hue='y_pred', hue_order=reversed(gorder),\n",
    "    kind='line', lw=1,\n",
    "    estimator=None, units='run_id', palette=reversed(gpalette),\n",
    "    col='model', col_order=morder, #col_wrap=3,\n",
    "    legend=False,\n",
    "        #aspect=1, height=3,\n",
    "    #facet_kws=dict(margin_titles=True)\n",
    "\n",
    ").set_titles(row_template='{row_name}', col_template='{col_name}')# .set(ylabel='', )\n",
    "#g.set(ylabel='PRO/HET C ratio')\n",
    "\n",
    "plt.show()"
   ]
  },
  {
   "cell_type": "code",
   "execution_count": null,
   "id": "9e97205b-62ff-4dbd-8d3a-5c8ceed424d1",
   "metadata": {},
   "outputs": [],
   "source": [
    "#runids = min_mse_df.loc[min_mse_df.Mode.isin(['Monte']),'run_id'].sample(500, ignore_index=True)\n",
    "g = sns.relplot(\n",
    "    data=df.loc[df['Bptotal[C]'].ge(5)& df['Bhtotal[C]'].ge(5)],\n",
    "    x='day',\n",
    "    y='biomass C/N ratio',\n",
    "    hue='y_pred', hue_order=reversed(gorder),\n",
    "    kind='line', lw=1,\n",
    "    estimator=None, units='run_id', palette=reversed(gpalette),\n",
    "    col='model', col_order=morder, #col_wrap=3,\n",
    "    legend=False,\n",
    "        #aspect=1, height=3,\n",
    "    #facet_kws=dict(margin_titles=True)\n",
    "\n",
    ").set_titles(row_template='{row_name}', col_template='{col_name}').set(ylabel='', )\n",
    "g.set(ylabel='biomass C/N ratio')\n",
    "#plt.suptitle('Montecarlo')\n",
    "#plt.subplots_adjust(hspace=0.1, wspace=0.1)\n",
    "#g.set(ylim=(0, 11))\n",
    "#for col_val, ax in g.axes_dict.items():\n",
    "#    ax.axhline(1,lw=3, ls='--')\n",
    "\n",
    "#g.set(yscale='log', )\n",
    "plt.show()"
   ]
  },
  {
   "cell_type": "code",
   "execution_count": null,
   "id": "2783e900",
   "metadata": {},
   "outputs": [],
   "source": [
    "plt.rcParams[\"legend.markerscale\"] = 2.5\n",
    "g = sns.relplot(\n",
    "    data=comb_df.loc[~comb_df.y_pred.isin(['Axenic', 'Other'])],    \n",
    "    hue='y_pred', hue_order=reversed(gorder1), palette=reversed(gpalette1),\n",
    "    x='Bptotal[C]', y='Bhtotal[C]',\n",
    "    col='model', col_order=morder,\n",
    "    s=10, lw=0,\n",
    "    \n",
    ")\n",
    "\n",
    "for col_val, ax in g.axes_dict.items():\n",
    "    ax.axline((0,0), (850,850),lw=1, ls='--')\n",
    "g.set(ylim=(0,900),xlim=(0,900), )\n",
    "g.set_titles(col_template='{col_name}', row_template='{row_name}')\n",
    "plt.show()"
   ]
  },
  {
   "cell_type": "code",
   "execution_count": null,
   "id": "d455efeb-a743-463c-8a60-2fa902a72b78",
   "metadata": {},
   "outputs": [],
   "source": [
    "plt.rcParams[\"legend.markerscale\"] = 2.5\n",
    "g = sns.relplot(\n",
    "    data=comb_df.loc[~comb_df.y_pred.isin(['Axenic', 'Other'])],    \n",
    "    hue='y_pred', hue_order=reversed(gorder1), palette=reversed(gpalette1),\n",
    "    x='Bptotal[N]', y='Bhtotal[N]',\n",
    "    col='model', col_order=morder,\n",
    "    s=10, lw=0,\n",
    "    \n",
    ")\n",
    "\n",
    "for col_val, ax in g.axes_dict.items():\n",
    "    ax.axline((0,0), (100,100),lw=1, ls='--')\n",
    "#g.set(ylim=(0,900),xlim=(0,900), )\n",
    "g.set_titles(col_template='{col_name}', row_template='{row_name}')\n",
    "plt.show()"
   ]
  },
  {
   "cell_type": "code",
   "execution_count": null,
   "id": "773b151f-85e7-4771-bf1c-c0472e052d7c",
   "metadata": {},
   "outputs": [],
   "source": [
    "plt.rcParams[\"legend.markerscale\"] = 2.5\n",
    "g = sns.relplot(\n",
    "    data=comb_df.loc[~comb_df.y_pred.isin(['Axenic', 'Other', ])],    \n",
    "    col='y_pred', col_order=reversed(gorder1), #palette=reversed(gpalette1),\n",
    "    x='Bptotal[C]', y='Bhtotal[C]',\n",
    "    hue='model', hue_order=morder, palette=mpalette,\n",
    "    s=10, lw=0, alpha=0.8,\n",
    "    \n",
    ")\n",
    "\n",
    "for col_val, ax in g.axes_dict.items():\n",
    "    ax.axline((0,0), (100,100),lw=1, ls='--')\n",
    "#g.set(ylim=(0,900),xlim=(0,900), )\n",
    "g.set_titles(col_template='{col_name}', row_template='{row_name}')\n",
    "plt.show()"
   ]
  },
  {
   "cell_type": "code",
   "execution_count": null,
   "id": "5caaa6f8-46c9-42a3-ac8b-d80f4d1b53c7",
   "metadata": {},
   "outputs": [],
   "source": [
    "plt.rcParams[\"legend.markerscale\"] = 2.5\n",
    "g = sns.relplot(\n",
    "    data=comb_df.loc[~comb_df.y_pred.isin(['Axenic', 'Other'])],    \n",
    "    hue='y_pred', hue_order=reversed(gorder1), palette=reversed(gpalette1),\n",
    "    x='total fixed C', y='PRO/HET C biomass ratio',\n",
    "    col='model', col_order=morder,\n",
    "    s=10, lw=0,\n",
    "    \n",
    ")\n",
    "for col_val, ax in g.axes_dict.items():\n",
    "    ax.axhline(1,lw=1, ls='--')\n",
    "\n",
    "#g.set(ylim=(0,850),xlim=(0,850), )\n",
    "g.set(yscale='log', #ylim=(5e-3, 40)\n",
    "     )\n",
    "g.set_titles(col_template='{col_name}', row_template='{row_name}')\n",
    "plt.show()"
   ]
  },
  {
   "cell_type": "code",
   "execution_count": null,
   "id": "1ce65f68-6a2f-411c-a741-d59942a4e055",
   "metadata": {},
   "outputs": [],
   "source": [
    "plt.rcParams[\"legend.markerscale\"] = 2.5\n",
    "g = sns.relplot(\n",
    "    data=comb_df.loc[~comb_df.y_pred.isin(['Axenic', 'Other'])],    \n",
    "    hue='y_pred', hue_order=reversed(gorder1), palette=reversed(gpalette1),\n",
    "    y='total fixed C', x='PP',\n",
    "    col='model', col_order=morder,\n",
    "    s=10, lw=0,\n",
    "    \n",
    ")\n",
    "for col_val, ax in g.axes_dict.items():\n",
    "    ax.axline((0,0), (2000,2000),lw=1, ls='--')\n",
    "\n",
    "# #g.set(ylim=(0,850),xlim=(0,850), )\n",
    "# g.set(yscale='log', #ylim=(5e-3, 40)\n",
    "#      )\n",
    "g.set(ylabel='net PP', xlabel='gross PP')\n",
    "g.set_titles(col_template='{col_name}', row_template='{row_name}')\n",
    "plt.show()"
   ]
  },
  {
   "cell_type": "code",
   "execution_count": null,
   "id": "b1d57f0a-696d-46b1-b8d0-d030861c6b8e",
   "metadata": {},
   "outputs": [],
   "source": [
    "plt.rcParams[\"legend.markerscale\"] = 2.5\n",
    "g = sns.relplot(\n",
    "    data=comb_df.loc[~comb_df.y_pred.isin(['Axenic', 'Other'])],    \n",
    "    hue='y_pred', hue_order=reversed(gorder1), palette=reversed(gpalette1),\n",
    "    y='RDOC', x='PP',\n",
    "    col='model', col_order=morder,\n",
    "    s=10, lw=0,\n",
    "    \n",
    ")\n",
    "for col_val, ax in g.axes_dict.items():\n",
    "    ax.axline((0,0), (200,200),lw=1, ls='--')\n",
    "\n",
    "# #g.set(ylim=(0,850),xlim=(0,850), )\n",
    "# g.set(yscale='log', #ylim=(5e-3, 40)\n",
    "#      )\n",
    "g.set(ylabel='final RDOC', xlabel='gross PP')\n",
    "g.set_titles(col_template='{col_name}', row_template='{row_name}')\n",
    "plt.show()"
   ]
  },
  {
   "cell_type": "code",
   "execution_count": null,
   "id": "e843dbd2-f215-4b34-b397-d12a258a3cb7",
   "metadata": {},
   "outputs": [],
   "source": [
    "plt.rcParams[\"legend.markerscale\"] = 2.5\n",
    "g = sns.relplot(\n",
    "    data=comb_df.loc[~comb_df.y_pred.isin(['Axenic', 'Other'])],    \n",
    "    hue='y_pred', hue_order=reversed(gorder1), palette=reversed(gpalette1),\n",
    "    y='RDOC', x='DOC',\n",
    "    col='model', col_order=morder,\n",
    "    s=10, lw=0,\n",
    "    \n",
    ")\n",
    "for col_val, ax in g.axes_dict.items():\n",
    "    ax.axline((0,0), (200,200),lw=1, ls='--')\n",
    "\n",
    "# #g.set(ylim=(0,850),xlim=(0,850), )\n",
    "# g.set(yscale='log', #ylim=(5e-3, 40)\n",
    "#      )\n",
    "g.set(ylabel='final RDOC', xlabel='final DOC')\n",
    "g.set_titles(col_template='{col_name}', row_template='{row_name}')\n",
    "plt.show()"
   ]
  },
  {
   "cell_type": "code",
   "execution_count": null,
   "id": "4a7b9ee7-0840-46ec-8e92-bad0cabd953d",
   "metadata": {},
   "outputs": [],
   "source": [
    "plt.rcParams[\"legend.markerscale\"] = 2.5\n",
    "g = sns.relplot(\n",
    "    data=comb_df.loc[~comb_df.y_pred.isin(['Axenic', 'Other', ])],    \n",
    "    col='y_pred', col_order=reversed(gorder1), #palette=reversed(gpalette1),\n",
    "    x='total fixed C', y='PRO/HET C biomass ratio',\n",
    "    hue='model', hue_order=morder, palette=mpalette,\n",
    "    s=10, lw=0, alpha=0.8,\n",
    "    \n",
    ")\n",
    "g.set(yscale='log') #ylim=(5e-3, 40)\n",
    "\n",
    "# for col_val, ax in g.axes_dict.items():\n",
    "#     ax.axline((0,0), (100,100),lw=1, ls='--')\n",
    "#g.set(ylim=(0,900),xlim=(0,900), )\n",
    "g.set_titles(col_template='{col_name}', row_template='{row_name}')\n",
    "plt.show()"
   ]
  },
  {
   "cell_type": "code",
   "execution_count": null,
   "id": "d318af48-242b-475f-a28f-d11f5f245692",
   "metadata": {},
   "outputs": [],
   "source": [
    "plt.rcParams[\"legend.markerscale\"] = 2.5\n",
    "g = sns.relplot(\n",
    "    data=comb_df.loc[~comb_df.y_pred.isin(['Axenic', 'Other'])],    \n",
    "    hue='y_pred', hue_order=reversed(gorder1), palette=reversed(gpalette1),\n",
    "    x='total fixed C', y='total C biomass',\n",
    "    col='model', col_order=morder,\n",
    "    s=10, lw=0,\n",
    "    \n",
    ")\n",
    "#for col_val, ax in g.axes_dict.items():\n",
    "#    ax.axhline(1,lw=1, ls='--')\n",
    "\n",
    "#g.set(ylim=(0,850),xlim=(0,850), )\n",
    "#g.set(yscale='log', #ylim=(5e-3, 40)\n",
    "#     )\n",
    "g.set_titles(col_template='{col_name}', row_template='{row_name}')\n",
    "plt.show()"
   ]
  },
  {
   "cell_type": "code",
   "execution_count": null,
   "id": "547ebfb2-7841-4d79-9688-5655bebad77e",
   "metadata": {},
   "outputs": [],
   "source": [
    "plt.rcParams[\"legend.markerscale\"] = 2.5\n",
    "g = sns.relplot(\n",
    "    data=comb_df.loc[~comb_df.y_pred.isin(['Axenic', 'Other'])],    \n",
    "    hue='y_pred', hue_order=reversed(gorder1), palette=reversed(gpalette1),\n",
    "    x='total fixed C', y='PRO/HET C biomass ratio',\n",
    "    col='model', col_order=morder,\n",
    "    s=10, lw=0,\n",
    "    \n",
    ")\n",
    "for col_val, ax in g.axes_dict.items():\n",
    "    ax.axhline(1,lw=1, ls='--')\n",
    "\n",
    "#g.set(ylim=(0,850),xlim=(0,850), )\n",
    "g.set(yscale='log', #ylim=(5e-3, 40)\n",
    "     )\n",
    "g.set_titles(col_template='{col_name}', row_template='{row_name}')\n",
    "plt.show()"
   ]
  },
  {
   "cell_type": "code",
   "execution_count": null,
   "id": "bc69146c-7489-4617-8b8f-adc1aa80f459",
   "metadata": {},
   "outputs": [],
   "source": [
    "plt.rcParams[\"legend.markerscale\"] = 2.5\n",
    "g = sns.relplot(\n",
    "    data=comb_df.loc[~comb_df.y_pred.isin(['Axenic', 'Other'])],    \n",
    "    hue='y_pred', hue_order=reversed(gorder1), palette=reversed(gpalette1),\n",
    "    y='PRO/HET C biomass ratio',\n",
    "    x='PRO/HET N biomass ratio',\n",
    "    col='model', col_order=morder,\n",
    "    s=10, lw=0,\n",
    "    \n",
    ")\n",
    "for col_val, ax in g.axes_dict.items():\n",
    "    ax.axhline(1,lw=1, ls='--')\n",
    "    ax.axvline(1,lw=1, ls='--')\n",
    "\n",
    "#g.set(ylim=(0,850),xlim=(0,850), )\n",
    "g.set(yscale='log', xscale='log', #ylim=(5e-3, 40)\n",
    "     )\n",
    "g.set_titles(col_template='{col_name}', row_template='{row_name}')\n",
    "plt.show()"
   ]
  },
  {
   "cell_type": "code",
   "execution_count": null,
   "id": "d70b4ead-72b0-4c31-9eb6-39da886e3671",
   "metadata": {},
   "outputs": [],
   "source": [
    "comb_df.loc[~comb_df.y_pred.isin(['Axenic', 'Other']), 'HET/PRO C biomass ratio'].describe()"
   ]
  },
  {
   "cell_type": "code",
   "execution_count": null,
   "id": "81420cf8",
   "metadata": {},
   "outputs": [],
   "source": [
    "gorder"
   ]
  },
  {
   "cell_type": "code",
   "execution_count": null,
   "id": "a33fffcb",
   "metadata": {},
   "outputs": [],
   "source": [
    "g = sns.catplot(\n",
    "    data=comb_df.loc[~comb_df.y_pred.isin(['Axenic', 'Other'])],\n",
    "     y='total fixed C', \n",
    "    hue='model', hue_order=morder, palette=mpalette,\n",
    "    x='y_pred', order=gorder1, #dodge=False,\n",
    "    #col='model', col_order=morder,\n",
    "    kind='box', aspect=2,\n",
    ")\n",
    "g.set_titles(col_template='{col_name}', row_template='{row_name}')\n",
    "g.set(ylabel='net PP')\n",
    "plt.show()"
   ]
  },
  {
   "cell_type": "code",
   "execution_count": null,
   "id": "c686c344",
   "metadata": {},
   "outputs": [],
   "source": [
    "g = sns.catplot(\n",
    "    data=comb_df.loc[~comb_df.y_pred.isin(['Axenic', 'Other'])],\n",
    "     y='total fixed C', \n",
    "    hue='y_pred', hue_order=gorder1, palette=gpalette1,\n",
    "    x='model', order=morder,\n",
    "    kind='box',\n",
    "    aspect=2.5,\n",
    ")\n",
    "#g.set(ylim=(0,1300))\n",
    "g.set(ylabel='net PP')\n",
    "\n",
    "plt.show()"
   ]
  },
  {
   "cell_type": "code",
   "execution_count": null,
   "id": "0f986c01-8723-4b20-96e0-525b7bd5b3bb",
   "metadata": {},
   "outputs": [],
   "source": [
    "g = sns.catplot(\n",
    "    data=comb_df.loc[~comb_df.y_pred.isin(['Axenic', 'Other'])],\n",
    "     y='total C biomass', \n",
    "    hue='y_pred', hue_order=gorder1, palette=gpalette1,\n",
    "    x='model', order=morder,\n",
    "    kind='box',\n",
    "    aspect=2.5,\n",
    ")\n",
    "#plt.axhline\n",
    "g.set(ylim=(0,1300))\n",
    "\n",
    "plt.show()"
   ]
  },
  {
   "cell_type": "code",
   "execution_count": null,
   "id": "3dad3cce-2756-45d1-abf7-d486480b1b7c",
   "metadata": {},
   "outputs": [],
   "source": [
    "g = sns.catplot(\n",
    "    data=comb_df.loc[~comb_df.y_pred.isin(['Axenic', 'Other'])],\n",
    "     y='total C biomass', \n",
    "    x='y_pred', order=gorder1, palette=mpalette,\n",
    "    hue='model', hue_order=morder,\n",
    "    kind='box',\n",
    "    aspect=2.5,\n",
    ")\n",
    "plt.axhline\n",
    "#g.set(ylim=(0,1300))\n",
    "\n",
    "plt.show()"
   ]
  },
  {
   "cell_type": "code",
   "execution_count": null,
   "id": "2dc06163-48a7-43ce-ac08-ce5409c76391",
   "metadata": {},
   "outputs": [],
   "source": [
    "g = sns.catplot(\n",
    "    data=comb_df.loc[~comb_df.y_pred.isin(['Axenic', 'Other'])],\n",
    "     y='total N biomass', \n",
    "    x='y_pred', order=gorder1, palette=mpalette,\n",
    "    hue='model', hue_order=morder,\n",
    "    kind='box',\n",
    "    aspect=2.5,\n",
    ")\n",
    "plt.axhline\n",
    "#g.set(ylim=(0,1300))\n",
    "\n",
    "plt.show()"
   ]
  },
  {
   "cell_type": "code",
   "execution_count": null,
   "id": "664a81f8-51ff-4925-91ef-53baed2b50c2",
   "metadata": {},
   "outputs": [],
   "source": [
    "g = sns.catplot(\n",
    "    data=comb_df.loc[~comb_df.y_pred.isin(['Axenic', 'Other'])],\n",
    "     y='Bhtotal[C]', \n",
    "    hue='y_pred', hue_order=gorder1, palette=gpalette1,\n",
    "    x='model', order=morder,\n",
    "    kind='box',\n",
    "    aspect=2.5,\n",
    ")\n",
    "g.set(ylabel='Het biomass (uM C)')\n",
    "\n",
    "plt.show()"
   ]
  },
  {
   "cell_type": "code",
   "execution_count": null,
   "id": "bc118db6-ed45-4507-b614-33902b55870e",
   "metadata": {},
   "outputs": [],
   "source": [
    "g = sns.catplot(\n",
    "    data=comb_df.loc[~comb_df.y_pred.isin(['Axenic', 'Other'])],\n",
    "     y='Bhtotal[C]', \n",
    "    x='y_pred', order=gorder1, palette=mpalette,\n",
    "    hue='model', hue_order=morder,\n",
    "    kind='box',\n",
    "    aspect=2.5,\n",
    ")\n",
    "g.set(ylabel='Het biomass (uM C)')\n",
    "\n",
    "plt.show()"
   ]
  },
  {
   "cell_type": "code",
   "execution_count": null,
   "id": "48ab3657-def0-4f3c-8394-23de738a8f9c",
   "metadata": {},
   "outputs": [],
   "source": [
    "g = sns.catplot(\n",
    "    data=comb_df.loc[~comb_df.y_pred.isin(['Axenic', 'Other'])],\n",
    "     y='Bptotal[C]', \n",
    "    x='y_pred', order=gorder1, palette=mpalette,\n",
    "    hue='model', hue_order=morder,\n",
    "    kind='box',\n",
    "    aspect=2.5,\n",
    ")\n",
    "g.set(ylabel='Pro biomass (uM C)')\n",
    "\n",
    "plt.show()"
   ]
  },
  {
   "cell_type": "code",
   "execution_count": null,
   "id": "ebcb5c3e-d6dc-4969-815b-63eefaa76e43",
   "metadata": {},
   "outputs": [],
   "source": [
    "g = sns.catplot(\n",
    "    data=comb_df.loc[~comb_df.y_pred.isin(['Axenic', 'Other'])],\n",
    "     y='PRO/HET C biomass ratio', \n",
    "    hue='y_pred', hue_order=gorder1, palette=gpalette1,\n",
    "    x='model', order=morder,\n",
    "    kind='box',\n",
    "    aspect=2.5,\n",
    ")\n",
    "g.set(#ylim=(5e-2,20),\n",
    "      yscale='log')\n",
    "plt.axhline(1,lw=1, ls='--')\n",
    "\n",
    "plt.show()"
   ]
  },
  {
   "cell_type": "code",
   "execution_count": null,
   "id": "c7e44bcd-da3e-4508-8ba9-b5486d8496aa",
   "metadata": {},
   "outputs": [],
   "source": [
    "g = sns.catplot(\n",
    "    data=comb_df.loc[~comb_df.y_pred.isin(['Axenic', 'Other'])],\n",
    "     y='PRO/HET N biomass ratio', \n",
    "    hue='y_pred', hue_order=gorder1, palette=gpalette1,\n",
    "    x='model', order=morder,\n",
    "    kind='box',\n",
    "    aspect=2.5,\n",
    ")\n",
    "g.set(#ylim=(5e-2,20),\n",
    "      yscale='log')\n",
    "plt.axhline(1,lw=1, ls='--')\n",
    "\n",
    "plt.show()"
   ]
  },
  {
   "cell_type": "code",
   "execution_count": null,
   "id": "520d8ec4-6456-4a7e-95e2-320e6c7ef729",
   "metadata": {},
   "outputs": [],
   "source": [
    "comb_df.columns"
   ]
  },
  {
   "cell_type": "code",
   "execution_count": null,
   "id": "8d7dc0c7-382a-4772-9fe9-ad5b0c2662a5",
   "metadata": {},
   "outputs": [],
   "source": [
    "g = sns.catplot(\n",
    "    data=comb_df.loc[~comb_df.y_pred.isin(['Axenic', 'Other'])],\n",
    "     y='total C biomass', \n",
    "    hue='y_pred', hue_order=gorder1, palette=gpalette1,\n",
    "    x='model', order=morder,\n",
    "    kind='box',\n",
    "    aspect=2.5,\n",
    ")\n",
    "#g.set(#ylim=(5e-2,20),\n",
    "#      yscale='log')\n",
    "#plt.axhline(1,lw=1, ls='--')\n",
    "\n",
    "plt.show()"
   ]
  },
  {
   "cell_type": "code",
   "execution_count": null,
   "id": "1d2eb402-a1f3-46e4-b5d1-516fc15d371e",
   "metadata": {},
   "outputs": [],
   "source": [
    "g = sns.catplot(\n",
    "    data=comb_df.loc[~comb_df.y_pred.isin(['Axenic', 'Other'])],\n",
    "     y='PP', \n",
    "    hue='y_pred', hue_order=gorder1, palette=gpalette1,\n",
    "    x='model', order=morder,\n",
    "    kind='box',\n",
    "    aspect=2.5,\n",
    ")\n",
    "#g.set(#ylim=(5e-2,20),\n",
    "#      yscale='log')\n",
    "#plt.axhline(1,lw=1, ls='--')\n",
    "g.set(ylabel='gross PP')\n",
    "\n",
    "plt.show()"
   ]
  },
  {
   "cell_type": "code",
   "execution_count": null,
   "id": "686b9bd3-622b-4ed5-940b-84231f15a91d",
   "metadata": {},
   "outputs": [],
   "source": [
    "g = sns.catplot(\n",
    "    data=comb_df.loc[~comb_df.y_pred.isin(['Axenic', 'Other'])],\n",
    "     y='N reuse', \n",
    "    hue='y_pred', hue_order=gorder1, palette=gpalette1,\n",
    "    x='model', order=morder,\n",
    "    kind='box',\n",
    "    aspect=2.5,\n",
    ")\n",
    "#g.set(#ylim=(5e-2,20),\n",
    "#      yscale='log')\n",
    "#plt.axhline(1,lw=1, ls='--')\n",
    "\n",
    "plt.show()"
   ]
  },
  {
   "cell_type": "code",
   "execution_count": null,
   "id": "8a0723ae-5fbd-4145-a7c6-3457c69f3a7b",
   "metadata": {},
   "outputs": [],
   "source": [
    "g = sns.catplot(\n",
    "    data=comb_df.loc[~comb_df.y_pred.isin(['Axenic', 'Other'])],\n",
    "     y='RDOC', \n",
    "    hue='y_pred', hue_order=gorder1, palette=gpalette1,\n",
    "    x='model', order=morder,\n",
    "    kind='box',\n",
    "    aspect=2.5,\n",
    ")\n",
    "#g.set(#ylim=(5e-2,20),\n",
    "#      yscale='log')\n",
    "#plt.axhline(1,lw=1, ls='--')\n",
    "\n",
    "plt.show()"
   ]
  },
  {
   "cell_type": "code",
   "execution_count": null,
   "id": "2e717d73-97a1-419a-b1f5-30c40556146f",
   "metadata": {},
   "outputs": [],
   "source": [
    "g = sns.catplot(\n",
    "    data=comb_df.loc[~comb_df.y_pred.isin(['Axenic', 'Other'])],\n",
    "     y='DOC', \n",
    "    hue='y_pred', hue_order=gorder1, palette=gpalette1,\n",
    "    x='model', order=morder,\n",
    "    kind='box',\n",
    "    aspect=2.5,\n",
    ")\n",
    "#g.set(#ylim=(5e-2,20),\n",
    "#      yscale='log')\n",
    "#plt.axhline(1,lw=1, ls='--')\n",
    "\n",
    "plt.show()"
   ]
  },
  {
   "cell_type": "code",
   "execution_count": null,
   "id": "3d610490-5ee3-490c-bc7e-767f21cb7e4a",
   "metadata": {},
   "outputs": [],
   "source": [
    "comb_df['total fixed C / PP'] = comb_df['total fixed C'] / comb_df['PP']\n",
    "comb_df['N reuse'] = comb_df['Total N uptake'] / (INIT_DIN + INIT_DON)\n",
    "\n"
   ]
  },
  {
   "cell_type": "code",
   "execution_count": null,
   "id": "4424ef76-bd79-43f3-9369-53291fd373ee",
   "metadata": {},
   "outputs": [],
   "source": []
  },
  {
   "cell_type": "code",
   "execution_count": null,
   "id": "3935926e-c378-48f1-b324-c522e4d4562f",
   "metadata": {},
   "outputs": [],
   "source": [
    "g = sns.catplot(\n",
    "    data=comb_df.loc[~comb_df.y_pred.isin(['Axenic', 'Other'])],\n",
    "     y='total fixed C / PP', \n",
    "    hue='y_pred', hue_order=gorder1, palette=gpalette1,\n",
    "    x='model', order=morder,\n",
    "    kind='box',\n",
    "    aspect=2.5,\n",
    ")\n",
    "#g.set(#ylim=(5e-2,20),\n",
    "#      yscale='log')\n",
    "#plt.axhline(1,lw=1, ls='--')\n",
    "g.set(ylabel='net / gross PP')\n",
    "\n",
    "plt.show()"
   ]
  },
  {
   "cell_type": "code",
   "execution_count": null,
   "id": "207ed7d6-c546-440f-aecd-55d17348bf36",
   "metadata": {},
   "outputs": [],
   "source": []
  },
  {
   "cell_type": "code",
   "execution_count": null,
   "id": "33ae169b-e3d2-47d6-af9a-df41e38096d5",
   "metadata": {},
   "outputs": [],
   "source": []
  },
  {
   "cell_type": "code",
   "execution_count": null,
   "id": "b3d0d166-8625-4a2d-aeee-adf6719bb179",
   "metadata": {},
   "outputs": [],
   "source": []
  },
  {
   "cell_type": "code",
   "execution_count": null,
   "id": "d4a99458-fcac-4cfa-8720-899f131f6833",
   "metadata": {},
   "outputs": [],
   "source": []
  },
  {
   "cell_type": "code",
   "execution_count": null,
   "id": "c0d3c678-439a-4aa8-a430-0ea240facecf",
   "metadata": {},
   "outputs": [],
   "source": []
  },
  {
   "cell_type": "code",
   "execution_count": null,
   "id": "c0102ab5-33cb-4458-9d20-af6e123068a8",
   "metadata": {},
   "outputs": [],
   "source": []
  },
  {
   "cell_type": "code",
   "execution_count": null,
   "id": "76576c7d-ef42-4943-a989-3e624a36e4d8",
   "metadata": {},
   "outputs": [],
   "source": []
  },
  {
   "cell_type": "code",
   "execution_count": null,
   "id": "ad277380-4fcc-48cc-89f3-171d82fe2a2c",
   "metadata": {},
   "outputs": [],
   "source": []
  },
  {
   "cell_type": "code",
   "execution_count": null,
   "id": "36bb353b-156e-46f2-9b75-c8a3fe17a883",
   "metadata": {},
   "outputs": [],
   "source": []
  }
 ],
 "metadata": {
  "kernelspec": {
   "display_name": "Python 3 (ipykernel)",
   "language": "python",
   "name": "python3"
  },
  "language_info": {
   "codemirror_mode": {
    "name": "ipython",
    "version": 3
   },
   "file_extension": ".py",
   "mimetype": "text/x-python",
   "name": "python",
   "nbconvert_exporter": "python",
   "pygments_lexer": "ipython3",
   "version": "3.11.7"
  }
 },
 "nbformat": 4,
 "nbformat_minor": 5
}
