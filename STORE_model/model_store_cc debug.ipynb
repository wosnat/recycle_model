{
 "cells": [
  {
   "cell_type": "code",
   "execution_count": 1,
   "id": "0b5df45e",
   "metadata": {},
   "outputs": [],
   "source": [
    "import numpy as np\n",
    "import pandas as pd\n",
    "import matplotlib.pyplot as plt\n",
    "import seaborn as sns\n",
    "import pprint\n",
    "sns.set(style=\"white\", context='poster')\n",
    "from sympy import *\n",
    "import math\n",
    "init_printing(use_unicode=True)\n",
    "from scipy.integrate import solve_ivp"
   ]
  },
  {
   "cell_type": "code",
   "execution_count": 2,
   "id": "d0fc6121",
   "metadata": {},
   "outputs": [],
   "source": [
    "from numba import njit"
   ]
  },
  {
   "cell_type": "code",
   "execution_count": 3,
   "id": "1e965d96",
   "metadata": {},
   "outputs": [],
   "source": [
    "import numba"
   ]
  },
  {
   "cell_type": "markdown",
   "id": "ec94ccd8",
   "metadata": {},
   "source": [
    "levenberg optimization"
   ]
  },
  {
   "cell_type": "code",
   "execution_count": 4,
   "id": "4d435a10",
   "metadata": {},
   "outputs": [],
   "source": [
    "%load_ext autoreload\n",
    "%autoreload 2\n"
   ]
  },
  {
   "cell_type": "code",
   "execution_count": 5,
   "id": "047a0867",
   "metadata": {},
   "outputs": [],
   "source": [
    "#from model_equations_separate_NC import *\n",
    "from model_equations_separate_NC_store_numba import *\n"
   ]
  },
  {
   "cell_type": "code",
   "execution_count": 6,
   "id": "29512801",
   "metadata": {},
   "outputs": [
    {
     "data": {
      "image/png": "[encoded data removed]",
      "text/html": [
       "<svg  width=\"990\" height=\"55\"><rect x=\"0\" y=\"0\" width=\"55\" height=\"55\" style=\"fill:#99cc99;stroke-width:2;stroke:rgb(255,255,255)\"/><rect x=\"55\" y=\"0\" width=\"55\" height=\"55\" style=\"fill:#aad5aa;stroke-width:2;stroke:rgb(255,255,255)\"/><rect x=\"110\" y=\"0\" width=\"55\" height=\"55\" style=\"fill:#ffc58f;stroke-width:2;stroke:rgb(255,255,255)\"/><rect x=\"165\" y=\"0\" width=\"55\" height=\"55\" style=\"fill:#ffd2a9;stroke-width:2;stroke:rgb(255,255,255)\"/><rect x=\"220\" y=\"0\" width=\"55\" height=\"55\" style=\"fill:#326232;stroke-width:2;stroke:rgb(255,255,255)\"/><rect x=\"275\" y=\"0\" width=\"55\" height=\"55\" style=\"fill:#ffa98f;stroke-width:2;stroke:rgb(255,255,255)\"/><rect x=\"330\" y=\"0\" width=\"55\" height=\"55\" style=\"fill:#7285b7;stroke-width:2;stroke:rgb(255,255,255)\"/><rect x=\"385\" y=\"0\" width=\"55\" height=\"55\" style=\"fill:#000000;stroke-width:2;stroke:rgb(255,255,255)\"/><rect x=\"440\" y=\"0\" width=\"55\" height=\"55\" style=\"fill:#bbdaff;stroke-width:2;stroke:rgb(255,255,255)\"/><rect x=\"495\" y=\"0\" width=\"55\" height=\"55\" style=\"fill:#99cc99;stroke-width:2;stroke:rgb(255,255,255)\"/><rect x=\"550\" y=\"0\" width=\"55\" height=\"55\" style=\"fill:#aad5aa;stroke-width:2;stroke:rgb(255,255,255)\"/><rect x=\"605\" y=\"0\" width=\"55\" height=\"55\" style=\"fill:#ffc58f;stroke-width:2;stroke:rgb(255,255,255)\"/><rect x=\"660\" y=\"0\" width=\"55\" height=\"55\" style=\"fill:#ffd2a9;stroke-width:2;stroke:rgb(255,255,255)\"/><rect x=\"715\" y=\"0\" width=\"55\" height=\"55\" style=\"fill:#326232;stroke-width:2;stroke:rgb(255,255,255)\"/><rect x=\"770\" y=\"0\" width=\"55\" height=\"55\" style=\"fill:#ffa98f;stroke-width:2;stroke:rgb(255,255,255)\"/><rect x=\"825\" y=\"0\" width=\"55\" height=\"55\" style=\"fill:#cc6666;stroke-width:2;stroke:rgb(255,255,255)\"/><rect x=\"880\" y=\"0\" width=\"55\" height=\"55\" style=\"fill:#000000;stroke-width:2;stroke:rgb(255,255,255)\"/><rect x=\"935\" y=\"0\" width=\"55\" height=\"55\" style=\"fill:#ff9da4;stroke-width:2;stroke:rgb(255,255,255)\"/></svg>"
      ],
      "text/latex": [
       "$\\displaystyle \\left[ \\left( 0.6, \\  0.8, \\  0.6\\right), \\  \\left( 0.666666666666667, \\  0.835294117647059, \\  0.666666666666667\\right), \\  \\left( 1.0, \\  0.772549019607843, \\  0.56078431372549\\right), \\  \\left( 1.0, \\  0.823529411764706, \\  0.662745098039216\\right), \\  \\left( 0.196078431372549, \\  0.384313725490196, \\  0.196078431372549\\right), \\  \\left( 1.0, \\  0.662745098039216, \\  0.56078431372549\\right), \\  \\left( 0.447058823529412, \\  0.52156862745098, \\  0.717647058823529\\right), \\  \\left( 0.0, \\  0.0, \\  0.0\\right), \\  \\left( 0.733333333333333, \\  0.854901960784314, \\  1.0\\right), \\  \\left( 0.6, \\  0.8, \\  0.6\\right), \\  \\left( 0.666666666666667, \\  0.835294117647059, \\  0.666666666666667\\right), \\  \\left( 1.0, \\  0.772549019607843, \\  0.56078431372549\\right), \\  \\left( 1.0, \\  0.823529411764706, \\  0.662745098039216\\right), \\  \\left( 0.196078431372549, \\  0.384313725490196, \\  0.196078431372549\\right), \\  \\left( 1.0, \\  0.662745098039216, \\  0.56078431372549\\right), \\  \\left( 0.8, \\  0.4, \\  0.4\\right), \\  \\left( 0.0, \\  0.0, \\  0.0\\right), \\  \\left( 1.0, \\  0.615686274509804, \\  0.643137254901961\\right)\\right]$"
      ],
      "text/plain": [
       "[(0.6, 0.8, 0.6), (0.6666666666666666, 0.8352941176470589, 0.6666666666666666)\n",
       ", (1.0, 0.7725490196078432, 0.5607843137254902), (1.0, 0.8235294117647058, 0.6\n",
       "627450980392157), (0.19607843137254902, 0.3843137254901961, 0.1960784313725490\n",
       "2), (1.0, 0.6627450980392157, 0.5607843137254902), (0.4470588235294118, 0.5215\n",
       "686274509804, 0.7176470588235294), (0.0, 0.0, 0.0), (0.7333333333333333, 0.854\n",
       "9019607843137, 1.0), (0.6, 0.8, 0.6), (0.6666666666666666, 0.8352941176470589,\n",
       " 0.6666666666666666), (1.0, 0.7725490196078432, 0.5607843137254902), (1.0, 0.8\n",
       "235294117647058, 0.6627450980392157), (0.19607843137254902, 0.3843137254901961\n",
       ", 0.19607843137254902), (1.0, 0.6627450980392157, 0.5607843137254902), (0.8, 0\n",
       ".4, 0.4), (0.0, 0.0, 0.0), (1.0, 0.615686274509804, 0.6431372549019608)]"
      ]
     },
     "execution_count": 6,
     "metadata": {},
     "output_type": "execute_result"
    }
   ],
   "source": [
    "\n",
    "HCOLOR = '#ffc58f'\n",
    "HCOLOR_light = '#ffd2a9'\n",
    "PCOLOR = '#99cc99'\n",
    "PCOLOR_light = '#aad5aa'\n",
    "\n",
    "DONCOLOR = '#7285b7'\n",
    "RDONCOLOR = 'black' #'#00334D'\n",
    "DINCOLOR = '#bbdaff' #'#000066'\n",
    "\n",
    "DOCCOLOR = '#cc6666'\n",
    "RDOCCOLOR = 'black' #'#00334D'\n",
    "DICCOLOR = '#ff9da4' #'#000066'\n",
    "\n",
    "SHCOLOR = '#ffa98f'\n",
    "SPCOLOR = '#326232'\n",
    "\n",
    "\n",
    "ccnpalette = [PCOLOR, PCOLOR_light, HCOLOR, HCOLOR_light, SPCOLOR, SHCOLOR,DONCOLOR, RDONCOLOR, DINCOLOR]\n",
    "ccnorder = ['Bp', 'Np', 'Bh','Nh',  'ABp', 'ABh', 'DON', 'RDON', 'DIN', ]\n",
    "cccpalette = [PCOLOR, PCOLOR_light, HCOLOR, HCOLOR_light, SPCOLOR, SHCOLOR, DOCCOLOR, RDOCCOLOR, DICCOLOR]\n",
    "cccorder = ['Bp[C]', 'Cp', 'Bh[C]', 'Ch', 'ABp[C]', 'ABh[C]', 'DOC', 'RDOC', 'DIC']\n",
    "ccxpalette = [PCOLOR, HCOLOR]\n",
    "ccxorder = ['Xp', 'Xh']\n",
    "hnpalette = [ HCOLOR_light, SPCOLOR, SHCOLOR, DONCOLOR, RDONCOLOR, DINCOLOR]\n",
    "hnorder = [ 'Bh', 'ABp', 'ABh', 'DON', 'RDON', 'DIN']\n",
    "hcpalette = [ HCOLOR_light, SPCOLOR, SHCOLOR, DOCCOLOR, RDOCCOLOR, DICCOLOR]\n",
    "hcorder = [ 'Bh[C]', 'ABp[C]', 'ABh[C]', 'DOC', 'RDOC', 'DIC']\n",
    "pnpalette = [ PCOLOR_light, SPCOLOR, SHCOLOR, DONCOLOR, RDONCOLOR, DINCOLOR]\n",
    "pnorder = [ 'Bp', 'ABp', 'ABh', 'DON', 'RDON', 'DIN']\n",
    "pcpalette = [ PCOLOR_light, SPCOLOR, SHCOLOR, DOCCOLOR, RDOCCOLOR, DICCOLOR]\n",
    "pcorder = [ 'Bp[C]', 'ABp[C]', 'ABh[C]', 'DOC', 'RDOC', 'DIC']\n",
    "sns.color_palette(ccnpalette + cccpalette, )\n",
    "# \n"
   ]
  },
  {
   "cell_type": "code",
   "execution_count": 7,
   "id": "041f9573",
   "metadata": {},
   "outputs": [
    {
     "data": {
      "image/png": "[encoded data removed]",
      "text/html": [
       "<svg  width=\"220\" height=\"55\"><rect x=\"0\" y=\"0\" width=\"55\" height=\"55\" style=\"fill:#99cc99;stroke-width:2;stroke:rgb(255,255,255)\"/><rect x=\"55\" y=\"0\" width=\"55\" height=\"55\" style=\"fill:#ffc58f;stroke-width:2;stroke:rgb(255,255,255)\"/><rect x=\"110\" y=\"0\" width=\"55\" height=\"55\" style=\"fill:#aad5aa;stroke-width:2;stroke:rgb(255,255,255)\"/><rect x=\"165\" y=\"0\" width=\"55\" height=\"55\" style=\"fill:#ffd2a9;stroke-width:2;stroke:rgb(255,255,255)\"/></svg>"
      ],
      "text/latex": [
       "$\\displaystyle \\left[ \\left( 0.6, \\  0.8, \\  0.6\\right), \\  \\left( 1.0, \\  0.772549019607843, \\  0.56078431372549\\right), \\  \\left( 0.666666666666667, \\  0.835294117647059, \\  0.666666666666667\\right), \\  \\left( 1.0, \\  0.823529411764706, \\  0.662745098039216\\right)\\right]$"
      ],
      "text/plain": [
       "[(0.6, 0.8, 0.6), (1.0, 0.7725490196078432, 0.5607843137254902), (0.6666666666\n",
       "666666, 0.8352941176470589, 0.6666666666666666), (1.0, 0.8235294117647058, 0.6\n",
       "627450980392157)]"
      ]
     },
     "execution_count": 7,
     "metadata": {},
     "output_type": "execute_result"
    }
   ],
   "source": [
    "\n",
    " \n",
    "sns.color_palette([PCOLOR, HCOLOR, PCOLOR_light, HCOLOR_light] )\n"
   ]
  },
  {
   "cell_type": "code",
   "execution_count": 8,
   "id": "0f714019",
   "metadata": {},
   "outputs": [],
   "source": [
    "refdf = pd.read_excel('reference_10cc_axenic.xlsx')\n"
   ]
  },
  {
   "cell_type": "code",
   "execution_count": 9,
   "id": "b2ff81b3",
   "metadata": {},
   "outputs": [
    {
     "data": {
      "text/plain": [
       "Index(['day', 'Sample', 'id', 'replicate', 'transfer', 'transfer day',\n",
       "       'heterotroph', 'full name', 'FL', 'Group', 'predicted', 'ref_Bp[N]',\n",
       "       'ref_Bp[C]', 't'],\n",
       "      dtype='object')"
      ]
     },
     "execution_count": 9,
     "metadata": {},
     "output_type": "execute_result"
    }
   ],
   "source": [
    "refdf.columns"
   ]
  },
  {
   "cell_type": "code",
   "execution_count": 10,
   "id": "7bac0919",
   "metadata": {},
   "outputs": [],
   "source": [
    "    model='MIN'\n",
    "    json =[]\n",
    "    dpath = 'tmp'\n",
    "    pro99_mode = False\n",
    "    which_organism = 'ponly'\n",
    "    t_eval = None\n",
    "    maxday = 140\n",
    "    if dpath != '':\n",
    "        os.makedirs(dpath, exist_ok=True)\n",
    "\n",
    "    ref_csv= 'reference_10cc_axenic.xlsx'\n",
    "    refdf = pd.read_excel(ref_csv)\n",
    "    refdf['ref_Bp[N]'] = refdf['ref_Bp[N]'].clip(lower=4)\n",
    "    refdf['ref_Bp[C]'] = refdf['ref_Bp[C]'].clip(lower=4)\n",
    "    refdf['log_ref_Bp[N]'] = np.log(refdf['ref_Bp[N]'])\n",
    "    refdf['log_ref_Bp[C]'] = np.log(refdf['ref_Bp[C]'])\n",
    "\n",
    "\n",
    "    new_param_vals = get_param_vals_from_json_list(model, json)\n",
    "    suffix = get_runid_unique_suffix(pro99_mode, which_organism, model, new_param_vals)\n",
    "    t_eval, t_end = get_t_eval_and_t_end(t_eval, refdf, maxday)\n",
    "    (var_names, init_var_vals, intermediate_names, calc_dydt, prepare_params_tuple\n",
    "        ) = get_constants_per_organism(pro99_mode, which_organism)\n"
   ]
  },
  {
   "cell_type": "code",
   "execution_count": 12,
   "id": "a17d4c9a",
   "metadata": {},
   "outputs": [],
   "source": [
    "    perr, new_param_vals, df, mse_df,  =  run_solver_from_new_params(\n",
    "        new_param_vals, refdf, init_var_vals, \n",
    "        calc_dydt, prepare_params_tuple, t_end , t_eval, var_names, intermediate_names, return_dfs=True\n",
    "    )\n"
   ]
  },
  {
   "cell_type": "code",
   "execution_count": 13,
   "id": "10f02b73",
   "metadata": {},
   "outputs": [
    {
     "data": {
      "text/html": [
       "<div>\n",
       "<style scoped>\n",
       "    .dataframe tbody tr th:only-of-type {\n",
       "        vertical-align: middle;\n",
       "    }\n",
       "\n",
       "    .dataframe tbody tr th {\n",
       "        vertical-align: top;\n",
       "    }\n",
       "\n",
       "    .dataframe thead th {\n",
       "        text-align: right;\n",
       "    }\n",
       "</style>\n",
       "<table border=\"1\" class=\"dataframe\">\n",
       "  <thead>\n",
       "    <tr style=\"text-align: right;\">\n",
       "      <th></th>\n",
       "      <th>Sample</th>\n",
       "      <th>full name</th>\n",
       "      <th>Group</th>\n",
       "      <th>RMSE_Bptotal[N]</th>\n",
       "      <th>RMSE_Bptotal[C]</th>\n",
       "      <th>RMSE_log_Bptotal[N]</th>\n",
       "      <th>RMSE_log_Bptotal[C]</th>\n",
       "      <th>compare_points</th>\n",
       "      <th>RMSE</th>\n",
       "      <th>lRMSE</th>\n",
       "    </tr>\n",
       "  </thead>\n",
       "  <tbody>\n",
       "    <tr>\n",
       "      <th>0</th>\n",
       "      <td>1A0</td>\n",
       "      <td>Axenic</td>\n",
       "      <td>Axenic</td>\n",
       "      <td>6.838047</td>\n",
       "      <td>67.177407</td>\n",
       "      <td>2.363544</td>\n",
       "      <td>1.855270</td>\n",
       "      <td>74.0</td>\n",
       "      <td>459.362275</td>\n",
       "      <td>4.385014</td>\n",
       "    </tr>\n",
       "    <tr>\n",
       "      <th>1</th>\n",
       "      <td>1B0</td>\n",
       "      <td>Axenic</td>\n",
       "      <td>Axenic</td>\n",
       "      <td>6.567046</td>\n",
       "      <td>63.688658</td>\n",
       "      <td>2.382849</td>\n",
       "      <td>1.876870</td>\n",
       "      <td>74.0</td>\n",
       "      <td>418.246340</td>\n",
       "      <td>4.472300</td>\n",
       "    </tr>\n",
       "    <tr>\n",
       "      <th>2</th>\n",
       "      <td>1C0</td>\n",
       "      <td>Axenic</td>\n",
       "      <td>Axenic</td>\n",
       "      <td>6.283163</td>\n",
       "      <td>64.283686</td>\n",
       "      <td>2.387140</td>\n",
       "      <td>1.876704</td>\n",
       "      <td>74.0</td>\n",
       "      <td>403.904897</td>\n",
       "      <td>4.479956</td>\n",
       "    </tr>\n",
       "  </tbody>\n",
       "</table>\n",
       "</div>"
      ],
      "text/plain": [
       "  Sample full name   Group  RMSE_Bptotal[N]  RMSE_Bptotal[C]  \\\n",
       "0    1A0    Axenic  Axenic         6.838047        67.177407   \n",
       "1    1B0    Axenic  Axenic         6.567046        63.688658   \n",
       "2    1C0    Axenic  Axenic         6.283163        64.283686   \n",
       "\n",
       "   RMSE_log_Bptotal[N]  RMSE_log_Bptotal[C]  compare_points        RMSE  \\\n",
       "0             2.363544             1.855270            74.0  459.362275   \n",
       "1             2.382849             1.876870            74.0  418.246340   \n",
       "2             2.387140             1.876704            74.0  403.904897   \n",
       "\n",
       "      lRMSE  \n",
       "0  4.385014  \n",
       "1  4.472300  \n",
       "2  4.479956  "
      ]
     },
     "execution_count": 13,
     "metadata": {},
     "output_type": "execute_result"
    }
   ],
   "source": [
    "mse_df"
   ]
  },
  {
   "cell_type": "code",
   "execution_count": 35,
   "id": "d0c9cbd9",
   "metadata": {},
   "outputs": [],
   "source": [
    "    par_tuple = prepare_params_tuple(new_param_vals)\n",
    "    sol = run_solver(calc_dydt, init_var_vals, par_tuple, t_end , t_eval)\n",
    "    df = solver2df(\n",
    "        sol, var_names, par_tuple=par_tuple, \n",
    "        intermediate_names=intermediate_names, calc_dydt=calc_dydt)\n"
   ]
  },
  {
   "cell_type": "code",
   "execution_count": 18,
   "id": "c8aed3ef",
   "metadata": {},
   "outputs": [
    {
     "data": {
      "text/html": [
       "<div>\n",
       "<style scoped>\n",
       "    .dataframe tbody tr th:only-of-type {\n",
       "        vertical-align: middle;\n",
       "    }\n",
       "\n",
       "    .dataframe tbody tr th {\n",
       "        vertical-align: top;\n",
       "    }\n",
       "\n",
       "    .dataframe thead th {\n",
       "        text-align: right;\n",
       "    }\n",
       "</style>\n",
       "<table border=\"1\" class=\"dataframe\">\n",
       "  <thead>\n",
       "    <tr style=\"text-align: right;\">\n",
       "      <th></th>\n",
       "      <th>Bp</th>\n",
       "      <th>Np</th>\n",
       "      <th>Cp</th>\n",
       "      <th>DON</th>\n",
       "      <th>RDON</th>\n",
       "      <th>DIN</th>\n",
       "      <th>DOC</th>\n",
       "      <th>RDOC</th>\n",
       "      <th>DIC</th>\n",
       "      <th>ROS</th>\n",
       "      <th>...</th>\n",
       "      <th>uptakeCp</th>\n",
       "      <th>QCp</th>\n",
       "      <th>biosynthesisNp</th>\n",
       "      <th>respirationCp</th>\n",
       "      <th>biomass_breakdownCp</th>\n",
       "      <th>overflowNp</th>\n",
       "      <th>overflowCp</th>\n",
       "      <th>Bp[C]</th>\n",
       "      <th>Bptotal[N]</th>\n",
       "      <th>Bptotal[C]</th>\n",
       "    </tr>\n",
       "  </thead>\n",
       "  <tbody>\n",
       "    <tr>\n",
       "      <th>0</th>\n",
       "      <td>8.928571e-01</td>\n",
       "      <td>0.000000e+00</td>\n",
       "      <td>0.000000e+00</td>\n",
       "      <td>20.000000</td>\n",
       "      <td>0.000000</td>\n",
       "      <td>1.000000e+02</td>\n",
       "      <td>132.500000</td>\n",
       "      <td>0.000000</td>\n",
       "      <td>2241.552301</td>\n",
       "      <td>0.2</td>\n",
       "      <td>...</td>\n",
       "      <td>8.064369e-05</td>\n",
       "      <td>6.625000</td>\n",
       "      <td>4.260421e-10</td>\n",
       "      <td>1.232330e-05</td>\n",
       "      <td>0.0</td>\n",
       "      <td>0.0</td>\n",
       "      <td>0.0</td>\n",
       "      <td>5.915179e+00</td>\n",
       "      <td>8.928571e-01</td>\n",
       "      <td>5.915179e+00</td>\n",
       "    </tr>\n",
       "    <tr>\n",
       "      <th>1</th>\n",
       "      <td>1.501619e+00</td>\n",
       "      <td>5.542196e-01</td>\n",
       "      <td>2.894456e+00</td>\n",
       "      <td>20.242800</td>\n",
       "      <td>0.030928</td>\n",
       "      <td>9.856329e+01</td>\n",
       "      <td>134.068550</td>\n",
       "      <td>0.194899</td>\n",
       "      <td>2233.286796</td>\n",
       "      <td>0.2</td>\n",
       "      <td>...</td>\n",
       "      <td>1.508206e-04</td>\n",
       "      <td>6.246931</td>\n",
       "      <td>1.529224e-05</td>\n",
       "      <td>2.173855e-05</td>\n",
       "      <td>0.0</td>\n",
       "      <td>0.0</td>\n",
       "      <td>0.0</td>\n",
       "      <td>9.948223e+00</td>\n",
       "      <td>2.055838e+00</td>\n",
       "      <td>1.284268e+01</td>\n",
       "    </tr>\n",
       "    <tr>\n",
       "      <th>2</th>\n",
       "      <td>3.161910e+00</td>\n",
       "      <td>1.180893e+00</td>\n",
       "      <td>6.163789e+00</td>\n",
       "      <td>20.748967</td>\n",
       "      <td>0.097160</td>\n",
       "      <td>9.570393e+01</td>\n",
       "      <td>137.320844</td>\n",
       "      <td>0.608422</td>\n",
       "      <td>2217.106225</td>\n",
       "      <td>0.2</td>\n",
       "      <td>...</td>\n",
       "      <td>3.179238e-04</td>\n",
       "      <td>6.242844</td>\n",
       "      <td>3.256506e-05</td>\n",
       "      <td>4.579832e-05</td>\n",
       "      <td>0.0</td>\n",
       "      <td>0.0</td>\n",
       "      <td>0.0</td>\n",
       "      <td>2.094765e+01</td>\n",
       "      <td>4.342803e+00</td>\n",
       "      <td>2.711144e+01</td>\n",
       "    </tr>\n",
       "    <tr>\n",
       "      <th>3</th>\n",
       "      <td>4.726309e+00</td>\n",
       "      <td>1.765308e+00</td>\n",
       "      <td>9.214309e+00</td>\n",
       "      <td>21.224876</td>\n",
       "      <td>0.159449</td>\n",
       "      <td>9.301691e+01</td>\n",
       "      <td>140.378525</td>\n",
       "      <td>0.997282</td>\n",
       "      <td>2202.170942</td>\n",
       "      <td>0.2</td>\n",
       "      <td>...</td>\n",
       "      <td>4.752217e-04</td>\n",
       "      <td>6.242837</td>\n",
       "      <td>4.868182e-05</td>\n",
       "      <td>6.845801e-05</td>\n",
       "      <td>0.0</td>\n",
       "      <td>0.0</td>\n",
       "      <td>0.0</td>\n",
       "      <td>3.131180e+01</td>\n",
       "      <td>6.491617e+00</td>\n",
       "      <td>4.052611e+01</td>\n",
       "    </tr>\n",
       "    <tr>\n",
       "      <th>4</th>\n",
       "      <td>9.467501e+00</td>\n",
       "      <td>3.535778e+00</td>\n",
       "      <td>1.845718e+01</td>\n",
       "      <td>22.667166</td>\n",
       "      <td>0.348222</td>\n",
       "      <td>8.487419e+01</td>\n",
       "      <td>149.645186</td>\n",
       "      <td>2.175772</td>\n",
       "      <td>2157.347960</td>\n",
       "      <td>0.2</td>\n",
       "      <td>...</td>\n",
       "      <td>9.518993e-04</td>\n",
       "      <td>6.242992</td>\n",
       "      <td>9.751454e-05</td>\n",
       "      <td>1.371314e-04</td>\n",
       "      <td>0.0</td>\n",
       "      <td>0.0</td>\n",
       "      <td>0.0</td>\n",
       "      <td>6.272220e+01</td>\n",
       "      <td>1.300328e+01</td>\n",
       "      <td>8.117937e+01</td>\n",
       "    </tr>\n",
       "    <tr>\n",
       "      <th>...</th>\n",
       "      <td>...</td>\n",
       "      <td>...</td>\n",
       "      <td>...</td>\n",
       "      <td>...</td>\n",
       "      <td>...</td>\n",
       "      <td>...</td>\n",
       "      <td>...</td>\n",
       "      <td>...</td>\n",
       "      <td>...</td>\n",
       "      <td>...</td>\n",
       "      <td>...</td>\n",
       "      <td>...</td>\n",
       "      <td>...</td>\n",
       "      <td>...</td>\n",
       "      <td>...</td>\n",
       "      <td>...</td>\n",
       "      <td>...</td>\n",
       "      <td>...</td>\n",
       "      <td>...</td>\n",
       "      <td>...</td>\n",
       "      <td>...</td>\n",
       "    </tr>\n",
       "    <tr>\n",
       "      <th>69</th>\n",
       "      <td>6.800456e-08</td>\n",
       "      <td>5.250612e-22</td>\n",
       "      <td>2.032323e-07</td>\n",
       "      <td>110.417835</td>\n",
       "      <td>10.475022</td>\n",
       "      <td>1.662638e-15</td>\n",
       "      <td>815.276639</td>\n",
       "      <td>90.336642</td>\n",
       "      <td>2241.542808</td>\n",
       "      <td>0.2</td>\n",
       "      <td>...</td>\n",
       "      <td>7.033812e-13</td>\n",
       "      <td>9.613510</td>\n",
       "      <td>1.837774e-26</td>\n",
       "      <td>9.386035e-13</td>\n",
       "      <td>0.0</td>\n",
       "      <td>0.0</td>\n",
       "      <td>0.0</td>\n",
       "      <td>4.505302e-07</td>\n",
       "      <td>6.800456e-08</td>\n",
       "      <td>6.537625e-07</td>\n",
       "    </tr>\n",
       "    <tr>\n",
       "      <th>70</th>\n",
       "      <td>2.553048e-08</td>\n",
       "      <td>1.971195e-22</td>\n",
       "      <td>7.629810e-08</td>\n",
       "      <td>110.417835</td>\n",
       "      <td>10.475022</td>\n",
       "      <td>1.662633e-15</td>\n",
       "      <td>815.276639</td>\n",
       "      <td>90.336642</td>\n",
       "      <td>2241.546632</td>\n",
       "      <td>0.2</td>\n",
       "      <td>...</td>\n",
       "      <td>2.640655e-13</td>\n",
       "      <td>9.613510</td>\n",
       "      <td>6.899405e-27</td>\n",
       "      <td>3.523734e-13</td>\n",
       "      <td>0.0</td>\n",
       "      <td>0.0</td>\n",
       "      <td>0.0</td>\n",
       "      <td>1.691394e-07</td>\n",
       "      <td>2.553048e-08</td>\n",
       "      <td>2.454375e-07</td>\n",
       "    </tr>\n",
       "    <tr>\n",
       "      <th>71</th>\n",
       "      <td>1.417799e-08</td>\n",
       "      <td>1.094674e-22</td>\n",
       "      <td>4.237106e-08</td>\n",
       "      <td>110.417835</td>\n",
       "      <td>10.475022</td>\n",
       "      <td>1.662632e-15</td>\n",
       "      <td>815.276639</td>\n",
       "      <td>90.336642</td>\n",
       "      <td>2241.548140</td>\n",
       "      <td>0.2</td>\n",
       "      <td>...</td>\n",
       "      <td>1.466450e-13</td>\n",
       "      <td>9.613510</td>\n",
       "      <td>3.831483e-27</td>\n",
       "      <td>1.956855e-13</td>\n",
       "      <td>0.0</td>\n",
       "      <td>0.0</td>\n",
       "      <td>0.0</td>\n",
       "      <td>9.392916e-08</td>\n",
       "      <td>1.417799e-08</td>\n",
       "      <td>1.363002e-07</td>\n",
       "    </tr>\n",
       "    <tr>\n",
       "      <th>72</th>\n",
       "      <td>7.801750e-09</td>\n",
       "      <td>6.023681e-23</td>\n",
       "      <td>2.331561e-08</td>\n",
       "      <td>110.417835</td>\n",
       "      <td>10.475022</td>\n",
       "      <td>1.662631e-15</td>\n",
       "      <td>815.276639</td>\n",
       "      <td>90.336642</td>\n",
       "      <td>2241.549263</td>\n",
       "      <td>0.2</td>\n",
       "      <td>...</td>\n",
       "      <td>8.069465e-14</td>\n",
       "      <td>9.613510</td>\n",
       "      <td>2.108357e-27</td>\n",
       "      <td>1.076803e-13</td>\n",
       "      <td>0.0</td>\n",
       "      <td>0.0</td>\n",
       "      <td>0.0</td>\n",
       "      <td>5.168659e-08</td>\n",
       "      <td>7.801750e-09</td>\n",
       "      <td>7.500220e-08</td>\n",
       "    </tr>\n",
       "    <tr>\n",
       "      <th>73</th>\n",
       "      <td>1.929864e-09</td>\n",
       "      <td>1.490029e-23</td>\n",
       "      <td>5.767419e-09</td>\n",
       "      <td>110.417835</td>\n",
       "      <td>10.475022</td>\n",
       "      <td>1.662630e-15</td>\n",
       "      <td>815.276639</td>\n",
       "      <td>90.336642</td>\n",
       "      <td>2241.550844</td>\n",
       "      <td>0.2</td>\n",
       "      <td>...</td>\n",
       "      <td>1.996087e-14</td>\n",
       "      <td>9.613510</td>\n",
       "      <td>5.215271e-28</td>\n",
       "      <td>2.663612e-14</td>\n",
       "      <td>0.0</td>\n",
       "      <td>0.0</td>\n",
       "      <td>0.0</td>\n",
       "      <td>1.278535e-08</td>\n",
       "      <td>1.929864e-09</td>\n",
       "      <td>1.855277e-08</td>\n",
       "    </tr>\n",
       "  </tbody>\n",
       "</table>\n",
       "<p>74 rows × 27 columns</p>\n",
       "</div>"
      ],
      "text/plain": [
       "              Bp            Np            Cp         DON       RDON  \\\n",
       "0   8.928571e-01  0.000000e+00  0.000000e+00   20.000000   0.000000   \n",
       "1   1.501619e+00  5.542196e-01  2.894456e+00   20.242800   0.030928   \n",
       "2   3.161910e+00  1.180893e+00  6.163789e+00   20.748967   0.097160   \n",
       "3   4.726309e+00  1.765308e+00  9.214309e+00   21.224876   0.159449   \n",
       "4   9.467501e+00  3.535778e+00  1.845718e+01   22.667166   0.348222   \n",
       "..           ...           ...           ...         ...        ...   \n",
       "69  6.800456e-08  5.250612e-22  2.032323e-07  110.417835  10.475022   \n",
       "70  2.553048e-08  1.971195e-22  7.629810e-08  110.417835  10.475022   \n",
       "71  1.417799e-08  1.094674e-22  4.237106e-08  110.417835  10.475022   \n",
       "72  7.801750e-09  6.023681e-23  2.331561e-08  110.417835  10.475022   \n",
       "73  1.929864e-09  1.490029e-23  5.767419e-09  110.417835  10.475022   \n",
       "\n",
       "             DIN         DOC       RDOC          DIC  ROS  ...      uptakeCp  \\\n",
       "0   1.000000e+02  132.500000   0.000000  2241.552301  0.2  ...  8.064369e-05   \n",
       "1   9.856329e+01  134.068550   0.194899  2233.286796  0.2  ...  1.508206e-04   \n",
       "2   9.570393e+01  137.320844   0.608422  2217.106225  0.2  ...  3.179238e-04   \n",
       "3   9.301691e+01  140.378525   0.997282  2202.170942  0.2  ...  4.752217e-04   \n",
       "4   8.487419e+01  149.645186   2.175772  2157.347960  0.2  ...  9.518993e-04   \n",
       "..           ...         ...        ...          ...  ...  ...           ...   \n",
       "69  1.662638e-15  815.276639  90.336642  2241.542808  0.2  ...  7.033812e-13   \n",
       "70  1.662633e-15  815.276639  90.336642  2241.546632  0.2  ...  2.640655e-13   \n",
       "71  1.662632e-15  815.276639  90.336642  2241.548140  0.2  ...  1.466450e-13   \n",
       "72  1.662631e-15  815.276639  90.336642  2241.549263  0.2  ...  8.069465e-14   \n",
       "73  1.662630e-15  815.276639  90.336642  2241.550844  0.2  ...  1.996087e-14   \n",
       "\n",
       "         QCp  biosynthesisNp  respirationCp  biomass_breakdownCp  overflowNp  \\\n",
       "0   6.625000    4.260421e-10   1.232330e-05                  0.0         0.0   \n",
       "1   6.246931    1.529224e-05   2.173855e-05                  0.0         0.0   \n",
       "2   6.242844    3.256506e-05   4.579832e-05                  0.0         0.0   \n",
       "3   6.242837    4.868182e-05   6.845801e-05                  0.0         0.0   \n",
       "4   6.242992    9.751454e-05   1.371314e-04                  0.0         0.0   \n",
       "..       ...             ...            ...                  ...         ...   \n",
       "69  9.613510    1.837774e-26   9.386035e-13                  0.0         0.0   \n",
       "70  9.613510    6.899405e-27   3.523734e-13                  0.0         0.0   \n",
       "71  9.613510    3.831483e-27   1.956855e-13                  0.0         0.0   \n",
       "72  9.613510    2.108357e-27   1.076803e-13                  0.0         0.0   \n",
       "73  9.613510    5.215271e-28   2.663612e-14                  0.0         0.0   \n",
       "\n",
       "    overflowCp         Bp[C]    Bptotal[N]    Bptotal[C]  \n",
       "0          0.0  5.915179e+00  8.928571e-01  5.915179e+00  \n",
       "1          0.0  9.948223e+00  2.055838e+00  1.284268e+01  \n",
       "2          0.0  2.094765e+01  4.342803e+00  2.711144e+01  \n",
       "3          0.0  3.131180e+01  6.491617e+00  4.052611e+01  \n",
       "4          0.0  6.272220e+01  1.300328e+01  8.117937e+01  \n",
       "..         ...           ...           ...           ...  \n",
       "69         0.0  4.505302e-07  6.800456e-08  6.537625e-07  \n",
       "70         0.0  1.691394e-07  2.553048e-08  2.454375e-07  \n",
       "71         0.0  9.392916e-08  1.417799e-08  1.363002e-07  \n",
       "72         0.0  5.168659e-08  7.801750e-09  7.500220e-08  \n",
       "73         0.0  1.278535e-08  1.929864e-09  1.855277e-08  \n",
       "\n",
       "[74 rows x 27 columns]"
      ]
     },
     "execution_count": 18,
     "metadata": {},
     "output_type": "execute_result"
    }
   ],
   "source": [
    "df"
   ]
  },
  {
   "cell_type": "code",
   "execution_count": 19,
   "id": "b3f6d831",
   "metadata": {},
   "outputs": [],
   "source": [
    "    mse_df = None\n",
    "    perr = 1e6 # very large number for error\n"
   ]
  },
  {
   "cell_type": "code",
   "execution_count": 29,
   "id": "1f3c96d4",
   "metadata": {},
   "outputs": [],
   "source": [
    "            mse_df = compute_mse(df, refdf, refcol= ['ref_Bp[N]', 'ref_Bp[C]'], col=['Bptotal[N]', 'Bptotal[C]'], timecol='t', tolerance=100)\n"
   ]
  },
  {
   "cell_type": "code",
   "execution_count": 23,
   "id": "4848d0c6",
   "metadata": {},
   "outputs": [],
   "source": [
    "refcol= ['ref_Bp[N]', 'ref_Bp[C]']\n",
    "col=['Bptotal[N]', 'Bptotal[C]']\n",
    "timecol='t'\n",
    "tolerance=100\n",
    "    #print (x)\n",
    "#newcols = [timecol] + col\n",
    "df1 = df[[timecol] + col].dropna().copy()\n",
    "df1[col] = df1[col].clip(lower=4)\n",
    "# mse_df = refdf.groupby(['Sample', 'full name', 'Group',]\n",
    "#                     ).apply(lambda y : _mse(df1, y, refcol= refcol, col=col, timecol=timecol, tolerance=tolerance))\n",
    "# mse_df = mse_df.reset_index()\n",
    "# return mse_df\n"
   ]
  },
  {
   "cell_type": "code",
   "execution_count": 26,
   "id": "e68992a3",
   "metadata": {},
   "outputs": [],
   "source": [
    "def _mse(x, refdf, refcol, col, timecol, tolerance):\n",
    "    #print(x.columns)\n",
    "    tdf = pd.merge_asof(x, refdf[[timecol] + refcol], on=timecol, direction='nearest', tolerance=tolerance).dropna()\n",
    "\n",
    "    mse_dict = {f'MSE_{c}': mean_squared_error(tdf[c], tdf[rc]) for c,rc in zip(col, refcol)}\n",
    "    mse_dict['compare_points'] = tdf.shape[0]\n",
    "    return pd.Series(mse_dict)\n"
   ]
  },
  {
   "cell_type": "code",
   "execution_count": 27,
   "id": "5e246e54",
   "metadata": {},
   "outputs": [],
   "source": [
    "mse_df = refdf.groupby(['Sample', 'full name', 'Group',]\n",
    "                    ).apply(lambda y : _mse(df1, y, refcol= refcol, col=col, timecol=timecol, tolerance=tolerance))\n"
   ]
  },
  {
   "cell_type": "code",
   "execution_count": 36,
   "id": "1a910438",
   "metadata": {},
   "outputs": [
    {
     "data": {
      "text/html": [
       "<div>\n",
       "<style scoped>\n",
       "    .dataframe tbody tr th:only-of-type {\n",
       "        vertical-align: middle;\n",
       "    }\n",
       "\n",
       "    .dataframe tbody tr th {\n",
       "        vertical-align: top;\n",
       "    }\n",
       "\n",
       "    .dataframe thead th {\n",
       "        text-align: right;\n",
       "    }\n",
       "</style>\n",
       "<table border=\"1\" class=\"dataframe\">\n",
       "  <thead>\n",
       "    <tr style=\"text-align: right;\">\n",
       "      <th></th>\n",
       "      <th>Sample</th>\n",
       "      <th>full name</th>\n",
       "      <th>Group</th>\n",
       "      <th>RMSE_Bptotal[N]</th>\n",
       "      <th>RMSE_Bptotal[C]</th>\n",
       "      <th>RMSE</th>\n",
       "      <th>compare_points</th>\n",
       "    </tr>\n",
       "  </thead>\n",
       "  <tbody>\n",
       "    <tr>\n",
       "      <th>0</th>\n",
       "      <td>1A0</td>\n",
       "      <td>Axenic</td>\n",
       "      <td>Axenic</td>\n",
       "      <td>6.838047</td>\n",
       "      <td>67.177407</td>\n",
       "      <td>459.362275</td>\n",
       "      <td>74.0</td>\n",
       "    </tr>\n",
       "    <tr>\n",
       "      <th>1</th>\n",
       "      <td>1B0</td>\n",
       "      <td>Axenic</td>\n",
       "      <td>Axenic</td>\n",
       "      <td>6.567046</td>\n",
       "      <td>63.688658</td>\n",
       "      <td>418.246340</td>\n",
       "      <td>74.0</td>\n",
       "    </tr>\n",
       "    <tr>\n",
       "      <th>2</th>\n",
       "      <td>1C0</td>\n",
       "      <td>Axenic</td>\n",
       "      <td>Axenic</td>\n",
       "      <td>6.283163</td>\n",
       "      <td>64.283686</td>\n",
       "      <td>403.904897</td>\n",
       "      <td>74.0</td>\n",
       "    </tr>\n",
       "  </tbody>\n",
       "</table>\n",
       "</div>"
      ],
      "text/plain": [
       "  Sample full name   Group  RMSE_Bptotal[N]  RMSE_Bptotal[C]        RMSE  \\\n",
       "0    1A0    Axenic  Axenic         6.838047        67.177407  459.362275   \n",
       "1    1B0    Axenic  Axenic         6.567046        63.688658  418.246340   \n",
       "2    1C0    Axenic  Axenic         6.283163        64.283686  403.904897   \n",
       "\n",
       "   compare_points  \n",
       "0            74.0  \n",
       "1            74.0  \n",
       "2            74.0  "
      ]
     },
     "execution_count": 36,
     "metadata": {},
     "output_type": "execute_result"
    }
   ],
   "source": [
    "mse_df"
   ]
  },
  {
   "cell_type": "code",
   "execution_count": 37,
   "id": "2074c9a9",
   "metadata": {},
   "outputs": [],
   "source": [
    "        param_sensitivity =2\n",
    "        organism_to_tune = 'PRO'\n",
    "        number_of_runs = 5\n",
    "        parameter, sensitivity_values = get_param_sensitivity_values(\n",
    "            param_sensitivity, model, organism_to_tune, number_of_runs)\n"
   ]
  },
  {
   "cell_type": "code",
   "execution_count": 38,
   "id": "32bbee97",
   "metadata": {},
   "outputs": [
    {
     "data": {
      "text/plain": [
       "array([2.31481481e-07, 5.17608328e-07, 1.15740741e-06, 2.58804164e-06,\n",
       "       5.78703704e-06])"
      ]
     },
     "execution_count": 38,
     "metadata": {},
     "output_type": "execute_result"
    }
   ],
   "source": [
    "sensitivity_values"
   ]
  },
  {
   "cell_type": "code",
   "execution_count": 60,
   "id": "f46ac4c9",
   "metadata": {},
   "outputs": [
    {
     "name": "stdout",
     "output_type": "stream",
     "text": [
      "tmp_E_leakp_0_2.314814814814816e-07_lowN_ponly_MIN_h2914781599285612379\n",
      "MSE: 1238.01533931916\n",
      "tmp_E_leakp_1_5.176083281249514e-07_lowN_ponly_MIN_h2914781599285612379\n",
      "MSE: 836.4312881915904\n",
      "tmp_E_leakp_2_1.1574074074074072e-06_lowN_ponly_MIN_h2914781599285612379\n",
      "MSE: 403.87895900940646\n",
      "tmp_E_leakp_3_2.588041640624755e-06_lowN_ponly_MIN_h2914781599285612379\n",
      "MSE: 82.40680882717648\n",
      "tmp_E_leakp_4_5.787037037037031e-06_lowN_ponly_MIN_h2914781599285612379\n",
      "MSE: 337.85576232800435\n"
     ]
    }
   ],
   "source": [
    "        for i,v in enumerate(sensitivity_values):\n",
    "            new_param_vals[parameter] = v\n",
    "            run_id='tmp'\n",
    "            run_id = f\"{run_id}_{parameter}_{i}_{v}{suffix}\"\n",
    "            print(run_id)\n",
    "            \n",
    "            MSE_err = run_solver_from_new_params_and_save(\n",
    "                new_param_vals, refdf, dpath, \n",
    "                run_id, init_var_vals, \n",
    "                calc_dydt, prepare_params_tuple, t_end , t_eval, var_names, intermediate_names,\n",
    "            )\n",
    "            print ('MSE:', MSE_err)\n"
   ]
  },
  {
   "cell_type": "code",
   "execution_count": 61,
   "id": "994950e4",
   "metadata": {},
   "outputs": [],
   "source": [
    "from run_shgo_ponly import *"
   ]
  },
  {
   "cell_type": "code",
   "execution_count": 62,
   "id": "64a1466f",
   "metadata": {},
   "outputs": [
    {
     "data": {
      "text/plain": [
       "['.ipynb_checkpoints',\n",
       " 'calc_csat.py',\n",
       " 'model_equations_separate_NC_store.py',\n",
       " 'model_equations_separate_NC_store_numba.py',\n",
       " 'Model_Parameters Store model.xlsx',\n",
       " 'model_param_sensitivity_ponly.ipynb',\n",
       " 'model_store_cc debug.ipynb',\n",
       " 'model_store_cc.ipynb',\n",
       " 'model_store_ponly.ipynb',\n",
       " 'model_store_ponly_find_lsq_x0.ipynb',\n",
       " 'reference_10cc.xlsx',\n",
       " 'reference_10cc_axenic.xlsx',\n",
       " 'reference_pro99_axenic.xlsx',\n",
       " 'results',\n",
       " 'results_postprocess.py',\n",
       " 'run_files',\n",
       " 'run_least_squares_het.py',\n",
       " 'run_least_squares_ponly.py',\n",
       " 'run_monte.py',\n",
       " 'run_shgo_ponly.py',\n",
       " 'tmp',\n",
       " 'VPRO',\n",
       " '__pycache__']"
      ]
     },
     "execution_count": 62,
     "metadata": {},
     "output_type": "execute_result"
    }
   ],
   "source": [
    "os.listdir()"
   ]
  },
  {
   "cell_type": "code",
   "execution_count": 63,
   "id": "c9425f57",
   "metadata": {},
   "outputs": [],
   "source": [
    "\n",
    "    out_dpath = dpath\n",
    "    ref_fpath =  'reference_10cc_axenic.xlsx'\n",
    "    ref_pro99_fpath =  'reference_pro99_axenic.xlsx'\n",
    "    json_list = []"
   ]
  },
  {
   "cell_type": "code",
   "execution_count": 18,
   "id": "da8d2e2c",
   "metadata": {},
   "outputs": [],
   "source": [
    "    ref_df = pd.read_excel(ref_fpath)\n",
    "    ref_pro99_df = pd.read_excel(ref_pro99_fpath)\n",
    "    ref_df = ref_df.sort_values(['t','Sample'])\n",
    "    ref_pro99_df = ref_pro99_df.sort_values(['t','Sample'])\n",
    "\n",
    "    Y = pd.concat([ref_df['ref_Bp'], ref_pro99_df['ref_Bp']]).to_numpy()\n",
    "    Y = np.clip(Y, a_min=4, a_max=None)\n",
    "\n",
    "    new_param_vals = get_param_vals_from_json_list(model, json_list)\n",
    "    #TODO\n",
    "    t_eval, t_end = get_t_eval_and_t_end(None, refdf, maxday=140)\n",
    "    t_eval_pro99, t_end_pro99 = get_t_eval_and_t_end(None, ref_pro99_df, maxday=140)\n",
    "    (var_names, init_var_vals, intermediate_names, calc_dydt, prepare_params_tuple\n",
    "        ) = get_constants_per_organism(False, which_organism)\n",
    "    (_, init_var_pro99_vals, _, _, _) = get_constants_per_organism(True, which_organism)\n",
    "\n",
    "\n",
    "    params_to_update, bounds, log_params = get_param_tuning_values(model, organism_to_tune)\n",
    "\n",
    "    # start with the defalt params\n",
    "    x0 = np.array([np.log(param_vals[i]) if lg else param_vals[i] for i, lg in zip(params_to_update, log_params)])\n",
    "\n",
    "    bounds_logged = [(np.log(b[0]),  np.log(b[1]))  if lg else b for b,lg in zip(bounds, log_params)]\n",
    "    param_bounds =  bounds_logged\n",
    "\n",
    "    # print('shgo(',\n",
    "        # fun, param_bounds, \n",
    "        # #minimizer_kwargs=dict(\n",
    "            # #jac=jac_for_minimize, \n",
    "    # #        hess=hess_for_minimize, \n",
    "    # #        options=dict(disp=True, maxiter=3), method='L-BFGS-B'),\n",
    "    # #    options=dict(jac=\n",
    "                # jac_for_minimize)\n",
    "\n",
    "    additional_params = (\n",
    "        Y, params_to_update, new_param_vals, log_params, \n",
    "        calc_dydt, prepare_params_tuple, var_names, \n",
    "        init_var_vals, t_end , t_eval, ref_df, \n",
    "        init_var_pro99_vals, t_end_pro99 , t_eval_pro99, ref_pro99_df\n",
    "    ) \n"
   ]
  },
  {
   "cell_type": "code",
   "execution_count": 19,
   "id": "6911033d",
   "metadata": {},
   "outputs": [
    {
     "name": "stdout",
     "output_type": "stream",
     "text": [
      "[-13.66932805   0.8        -13.66932805  -1.94665483  -1.94665483\n",
      " -10.17179686  -8.22588671]\n"
     ]
    },
    {
     "data": {
      "image/png": "[encoded data removed]",
      "text/latex": [
       "$\\displaystyle 1267276.62835996$"
      ],
      "text/plain": [
       "1267276.628359964"
      ]
     },
     "execution_count": 19,
     "metadata": {},
     "output_type": "execute_result"
    }
   ],
   "source": [
    "fun(x0, additional_params)"
   ]
  },
  {
   "cell_type": "code",
   "execution_count": 20,
   "id": "9bacf6be",
   "metadata": {},
   "outputs": [
    {
     "name": "stdout",
     "output_type": "stream",
     "text": [
      "[-13.66932805   0.8        -13.66932805  -1.94665483  -1.94665483\n",
      " -10.17179686  -8.22588671]\n",
      "[-13.66932804   0.8        -13.66932805  -1.94665483  -1.94665483\n",
      " -10.17179686  -8.22588671]\n",
      "[-13.66932805   0.80000001 -13.66932805  -1.94665483  -1.94665483\n",
      " -10.17179686  -8.22588671]\n",
      "[-13.66932805   0.8        -13.66932804  -1.94665483  -1.94665483\n",
      " -10.17179686  -8.22588671]\n",
      "[-13.66932805   0.8        -13.66932805  -1.94665482  -1.94665483\n",
      " -10.17179686  -8.22588671]\n",
      "[-13.66932805   0.8        -13.66932805  -1.94665483  -1.94665482\n",
      " -10.17179686  -8.22588671]\n",
      "[-13.66932805   0.8        -13.66932805  -1.94665483  -1.94665483\n",
      " -10.17179685  -8.22588671]\n",
      "[-13.66932805   0.8        -13.66932805  -1.94665483  -1.94665483\n",
      " -10.17179686  -8.2258867 ]\n"
     ]
    }
   ],
   "source": [
    "j =jac(x0, additional_params)"
   ]
  },
  {
   "cell_type": "code",
   "execution_count": 21,
   "id": "d110abbf",
   "metadata": {},
   "outputs": [
    {
     "data": {
      "image/png": "[encoded data removed]",
      "text/latex": [
       "$\\displaystyle 2048184.49785193$"
      ],
      "text/plain": [
       "2048184.4978519347"
      ]
     },
     "execution_count": 21,
     "metadata": {},
     "output_type": "execute_result"
    }
   ],
   "source": [
    "np.max(j)"
   ]
  },
  {
   "cell_type": "code",
   "execution_count": 44,
   "id": "76a0dcee",
   "metadata": {},
   "outputs": [
    {
     "data": {
      "text/plain": [
       "array([[0., 0., 0., ..., 0., 0., 0.],\n",
       "       [0., 0., 0., ..., 0., 0., 0.],\n",
       "       [0., 0., 0., ..., 0., 0., 0.],\n",
       "       ...,\n",
       "       [0., 0., 0., ..., 0., 0., 0.],\n",
       "       [0., 0., 0., ..., 0., 0., 0.],\n",
       "       [0., 0., 0., ..., 0., 0., 0.]])"
      ]
     },
     "execution_count": 44,
     "metadata": {},
     "output_type": "execute_result"
    }
   ],
   "source": [
    "j"
   ]
  },
  {
   "cell_type": "code",
   "execution_count": 45,
   "id": "6d35d79d",
   "metadata": {},
   "outputs": [
    {
     "name": "stdout",
     "output_type": "stream",
     "text": [
      "4.31 s ± 39.7 ms per loop (mean ± std. dev. of 2 runs, 2 loops each)\n"
     ]
    }
   ],
   "source": [
    "%timeit -n 2 -r 2 fun(x0, additional_params)"
   ]
  },
  {
   "cell_type": "code",
   "execution_count": 52,
   "id": "71833c31",
   "metadata": {},
   "outputs": [
    {
     "data": {
      "text/plain": [
       "['Mp', 'gammaDp', 'E_leakp', 'KINp', 'KICp', 'VmaxINp', 'VmaxICp']"
      ]
     },
     "execution_count": 52,
     "metadata": {},
     "output_type": "execute_result"
    }
   ],
   "source": [
    "params_to_update"
   ]
  },
  {
   "cell_type": "code",
   "execution_count": 23,
   "id": "6f9f6f9e",
   "metadata": {},
   "outputs": [],
   "source": [
    "l_bounds, u_bounds = tuple(zip(*param_bounds))"
   ]
  },
  {
   "cell_type": "code",
   "execution_count": 24,
   "id": "c1fcc4b2",
   "metadata": {},
   "outputs": [
    {
     "data": {
      "image/png": "[encoded data removed]",
      "text/latex": [
       "$\\displaystyle \\left[ \\left( -15.2787659602203, \\  -12.0598901353521\\right), \\  \\left( 0.1, \\  0.9\\right), \\  \\left( -15.2787659602203, \\  -12.0598901353521\\right), \\  \\left( -3.55609274187821, \\  -0.337216917010012\\right), \\  \\left( -3.55609274187821, \\  -0.337216917010012\\right), \\  \\left( -11.7812347698201, \\  -8.56235894495188\\right), \\  \\left( -9.83532462076477, \\  -6.61644879589657\\right)\\right]$"
      ],
      "text/plain": [
       "[(-15.278765960220293, -12.059890135352093), (0.1, 0.9), (-15.278765960220293,\n",
       " -12.059890135352093), (-3.5560927418782127, -0.33721691701001194), (-3.556092\n",
       "7418782127, -0.33721691701001194), (-11.781234769820083, -8.562358944951882), \n",
       "(-9.83532462076477, -6.616448795896569)]"
      ]
     },
     "execution_count": 24,
     "metadata": {},
     "output_type": "execute_result"
    }
   ],
   "source": [
    "param_bounds"
   ]
  },
  {
   "cell_type": "code",
   "execution_count": 25,
   "id": "cd9a79c5",
   "metadata": {},
   "outputs": [],
   "source": [
    "from scipy.stats import qmc\n",
    "sampler = qmc.Sobol(d=len(params_to_update))\n",
    "sample = sampler.random_base2(m=3)\n",
    "sample_scaled = qmc.scale(sample, l_bounds, u_bounds)"
   ]
  },
  {
   "cell_type": "code",
   "execution_count": 26,
   "id": "b9502039",
   "metadata": {},
   "outputs": [
    {
     "data": {
      "text/plain": [
       "array([[-14.82156512,   0.71526835, -13.10694417,  -2.82211221,\n",
       "         -1.70220346, -10.28632915,  -6.86842204],\n",
       "       [-13.01476924,   0.46154313, -15.10488091,  -1.05166423,\n",
       "         -2.41703912,  -9.27743825,  -8.3904943 ],\n",
       "       [-12.0600254 ,   0.62382078, -12.26575605,  -2.23549826,\n",
       "         -2.85067081,  -9.37128692,  -8.00953066],\n",
       "       [-13.8744649 ,   0.15249262, -14.28785805,  -1.68943261,\n",
       "         -0.51342915, -11.59973184,  -9.73268443],\n",
       "       [-14.16981765,   0.51543789, -14.68333604,  -1.400565  ,\n",
       "         -1.100827  , -10.92865318,  -7.45360532],\n",
       "       [-12.75929103,   0.26137694, -13.49070605,  -2.47335183,\n",
       "         -3.42235012,  -8.73783444,  -9.3768345 ],\n",
       "       [-13.62435109,   0.82359643, -13.91763943,  -0.43511787,\n",
       "         -2.24608308, -10.03976843,  -7.32476676],\n",
       "       [-15.03034071,   0.35271382, -12.6988797 ,  -3.48985519,\n",
       "         -1.5218157 , -11.03598444,  -8.64435839]])"
      ]
     },
     "execution_count": 26,
     "metadata": {},
     "output_type": "execute_result"
    }
   ],
   "source": [
    "sample_scaled"
   ]
  },
  {
   "cell_type": "code",
   "execution_count": 35,
   "id": "bce2fc79",
   "metadata": {},
   "outputs": [
    {
     "name": "stdout",
     "output_type": "stream",
     "text": [
      "[-14.82156512   0.71526835 -13.10694417  -2.82211221  -1.70220346\n",
      " -10.28632915  -6.86842204]\n",
      "[-13.01476924   0.46154313 -15.10488091  -1.05166423  -2.41703912\n",
      "  -9.27743825  -8.3904943 ]\n",
      "[-12.0600254    0.62382078 -12.26575605  -2.23549826  -2.85067081\n",
      "  -9.37128692  -8.00953066]\n",
      "[-13.8744649    0.15249262 -14.28785805  -1.68943261  -0.51342915\n",
      " -11.59973184  -9.73268443]\n",
      "[-14.16981765   0.51543789 -14.68333604  -1.400565    -1.100827\n",
      " -10.92865318  -7.45360532]\n",
      "[-12.75929103   0.26137694 -13.49070605  -2.47335183  -3.42235012\n",
      "  -8.73783444  -9.3768345 ]\n",
      "[-13.62435109   0.82359643 -13.91763943  -0.43511787  -2.24608308\n",
      " -10.03976843  -7.32476676]\n",
      "[-15.03034071   0.35271382 -12.6988797   -3.48985519  -1.5218157\n",
      " -11.03598444  -8.64435839]\n"
     ]
    }
   ],
   "source": [
    "    SSE_list = [fun(X, additional_params) for X in sample_scaled]\n"
   ]
  },
  {
   "cell_type": "code",
   "execution_count": 41,
   "id": "f2e1a63c",
   "metadata": {},
   "outputs": [
    {
     "data": {
      "text/plain": [
       "array([[3.65658823e-07, 7.15268354e-01, 2.03107738e-06, 5.94801753e-02,\n",
       "        1.82281431e-01, 3.40960455e-05, 1.04011704e-03],\n",
       "       [2.22719137e-06, 4.61543131e-01, 2.75444160e-07, 3.49355856e-01,\n",
       "        8.91852942e-02, 9.35103674e-05, 2.27015038e-04],\n",
       "       [5.78625433e-06, 6.23820782e-01, 4.71031368e-06, 1.06938833e-01,\n",
       "        5.78055315e-02, 8.51337572e-05, 3.32280637e-04],\n",
       "       [9.42749814e-07, 1.52492625e-01, 6.23536801e-07, 1.84624249e-01,\n",
       "        5.98439914e-01, 9.16854605e-06, 5.93128591e-05],\n",
       "       [7.01659457e-07, 5.15437889e-01, 4.19863558e-07, 2.46457675e-01,\n",
       "        3.32595913e-01, 1.79368521e-05, 5.79349102e-04],\n",
       "       [2.87547976e-06, 2.61376941e-01, 1.38376010e-06, 8.43018192e-02,\n",
       "        3.26356470e-02, 1.60400870e-04, 8.46627789e-05],\n",
       "       [1.21065250e-06, 8.23596430e-01, 9.02913183e-07, 6.47188379e-01,\n",
       "        1.05812875e-01, 4.36298751e-05, 6.59013353e-04],\n",
       "       [2.96760415e-07, 3.52713823e-01, 3.05454565e-06, 3.05052892e-02,\n",
       "        2.18315133e-01, 1.61113843e-05, 1.76117637e-04]])"
      ]
     },
     "execution_count": 41,
     "metadata": {},
     "output_type": "execute_result"
    }
   ],
   "source": [
    "sample_unlogged =np.copy(sample_scaled)\n",
    "sample_unlogged[:, log_params] = np.exp(sample_unlogged[:, log_params])\n",
    "sample_unlogged"
   ]
  },
  {
   "cell_type": "code",
   "execution_count": 42,
   "id": "04e8fb9c",
   "metadata": {},
   "outputs": [],
   "source": [
    "df = pd.DataFrame(sample_unlogged, columns=params_to_update)"
   ]
  },
  {
   "cell_type": "code",
   "execution_count": 43,
   "id": "9f7ef6f6",
   "metadata": {},
   "outputs": [],
   "source": [
    "df['SSE'] = SSE_list"
   ]
  },
  {
   "cell_type": "code",
   "execution_count": 44,
   "id": "6d94ccf0",
   "metadata": {},
   "outputs": [
    {
     "data": {
      "text/html": [
       "<div>\n",
       "<style scoped>\n",
       "    .dataframe tbody tr th:only-of-type {\n",
       "        vertical-align: middle;\n",
       "    }\n",
       "\n",
       "    .dataframe tbody tr th {\n",
       "        vertical-align: top;\n",
       "    }\n",
       "\n",
       "    .dataframe thead th {\n",
       "        text-align: right;\n",
       "    }\n",
       "</style>\n",
       "<table border=\"1\" class=\"dataframe\">\n",
       "  <thead>\n",
       "    <tr style=\"text-align: right;\">\n",
       "      <th></th>\n",
       "      <th>Mp</th>\n",
       "      <th>gammaDp</th>\n",
       "      <th>E_leakp</th>\n",
       "      <th>KINp</th>\n",
       "      <th>KICp</th>\n",
       "      <th>VmaxINp</th>\n",
       "      <th>VmaxICp</th>\n",
       "      <th>SSE</th>\n",
       "    </tr>\n",
       "  </thead>\n",
       "  <tbody>\n",
       "    <tr>\n",
       "      <th>0</th>\n",
       "      <td>3.656588e-07</td>\n",
       "      <td>0.715268</td>\n",
       "      <td>2.031077e-06</td>\n",
       "      <td>0.059480</td>\n",
       "      <td>0.182281</td>\n",
       "      <td>0.000034</td>\n",
       "      <td>0.001040</td>\n",
       "      <td>1.272749e+06</td>\n",
       "    </tr>\n",
       "    <tr>\n",
       "      <th>1</th>\n",
       "      <td>2.227191e-06</td>\n",
       "      <td>0.461543</td>\n",
       "      <td>2.754442e-07</td>\n",
       "      <td>0.349356</td>\n",
       "      <td>0.089185</td>\n",
       "      <td>0.000094</td>\n",
       "      <td>0.000227</td>\n",
       "      <td>1.238919e+06</td>\n",
       "    </tr>\n",
       "    <tr>\n",
       "      <th>2</th>\n",
       "      <td>5.786254e-06</td>\n",
       "      <td>0.623821</td>\n",
       "      <td>4.710314e-06</td>\n",
       "      <td>0.106939</td>\n",
       "      <td>0.057806</td>\n",
       "      <td>0.000085</td>\n",
       "      <td>0.000332</td>\n",
       "      <td>5.678182e+05</td>\n",
       "    </tr>\n",
       "    <tr>\n",
       "      <th>3</th>\n",
       "      <td>9.427498e-07</td>\n",
       "      <td>0.152493</td>\n",
       "      <td>6.235368e-07</td>\n",
       "      <td>0.184624</td>\n",
       "      <td>0.598440</td>\n",
       "      <td>0.000009</td>\n",
       "      <td>0.000059</td>\n",
       "      <td>1.769270e+06</td>\n",
       "    </tr>\n",
       "    <tr>\n",
       "      <th>4</th>\n",
       "      <td>7.016595e-07</td>\n",
       "      <td>0.515438</td>\n",
       "      <td>4.198636e-07</td>\n",
       "      <td>0.246458</td>\n",
       "      <td>0.332596</td>\n",
       "      <td>0.000018</td>\n",
       "      <td>0.000579</td>\n",
       "      <td>4.729382e+06</td>\n",
       "    </tr>\n",
       "    <tr>\n",
       "      <th>5</th>\n",
       "      <td>2.875480e-06</td>\n",
       "      <td>0.261377</td>\n",
       "      <td>1.383760e-06</td>\n",
       "      <td>0.084302</td>\n",
       "      <td>0.032636</td>\n",
       "      <td>0.000160</td>\n",
       "      <td>0.000085</td>\n",
       "      <td>1.992642e+06</td>\n",
       "    </tr>\n",
       "    <tr>\n",
       "      <th>6</th>\n",
       "      <td>1.210653e-06</td>\n",
       "      <td>0.823596</td>\n",
       "      <td>9.029132e-07</td>\n",
       "      <td>0.647188</td>\n",
       "      <td>0.105813</td>\n",
       "      <td>0.000044</td>\n",
       "      <td>0.000659</td>\n",
       "      <td>1.817238e+06</td>\n",
       "    </tr>\n",
       "    <tr>\n",
       "      <th>7</th>\n",
       "      <td>2.967604e-07</td>\n",
       "      <td>0.352714</td>\n",
       "      <td>3.054546e-06</td>\n",
       "      <td>0.030505</td>\n",
       "      <td>0.218315</td>\n",
       "      <td>0.000016</td>\n",
       "      <td>0.000176</td>\n",
       "      <td>1.829472e+06</td>\n",
       "    </tr>\n",
       "  </tbody>\n",
       "</table>\n",
       "</div>"
      ],
      "text/plain": [
       "             Mp   gammaDp       E_leakp      KINp      KICp   VmaxINp  \\\n",
       "0  3.656588e-07  0.715268  2.031077e-06  0.059480  0.182281  0.000034   \n",
       "1  2.227191e-06  0.461543  2.754442e-07  0.349356  0.089185  0.000094   \n",
       "2  5.786254e-06  0.623821  4.710314e-06  0.106939  0.057806  0.000085   \n",
       "3  9.427498e-07  0.152493  6.235368e-07  0.184624  0.598440  0.000009   \n",
       "4  7.016595e-07  0.515438  4.198636e-07  0.246458  0.332596  0.000018   \n",
       "5  2.875480e-06  0.261377  1.383760e-06  0.084302  0.032636  0.000160   \n",
       "6  1.210653e-06  0.823596  9.029132e-07  0.647188  0.105813  0.000044   \n",
       "7  2.967604e-07  0.352714  3.054546e-06  0.030505  0.218315  0.000016   \n",
       "\n",
       "    VmaxICp           SSE  \n",
       "0  0.001040  1.272749e+06  \n",
       "1  0.000227  1.238919e+06  \n",
       "2  0.000332  5.678182e+05  \n",
       "3  0.000059  1.769270e+06  \n",
       "4  0.000579  4.729382e+06  \n",
       "5  0.000085  1.992642e+06  \n",
       "6  0.000659  1.817238e+06  \n",
       "7  0.000176  1.829472e+06  "
      ]
     },
     "execution_count": 44,
     "metadata": {},
     "output_type": "execute_result"
    }
   ],
   "source": [
    "df"
   ]
  },
  {
   "cell_type": "code",
   "execution_count": 45,
   "id": "2020de0b",
   "metadata": {},
   "outputs": [
    {
     "data": {
      "text/html": [
       "<div>\n",
       "<style scoped>\n",
       "    .dataframe tbody tr th:only-of-type {\n",
       "        vertical-align: middle;\n",
       "    }\n",
       "\n",
       "    .dataframe tbody tr th {\n",
       "        vertical-align: top;\n",
       "    }\n",
       "\n",
       "    .dataframe thead th {\n",
       "        text-align: right;\n",
       "    }\n",
       "</style>\n",
       "<table border=\"1\" class=\"dataframe\">\n",
       "  <thead>\n",
       "    <tr style=\"text-align: right;\">\n",
       "      <th></th>\n",
       "      <th>Mp</th>\n",
       "      <th>gammaDp</th>\n",
       "      <th>E_leakp</th>\n",
       "      <th>KINp</th>\n",
       "      <th>KICp</th>\n",
       "      <th>VmaxINp</th>\n",
       "      <th>VmaxICp</th>\n",
       "      <th>SSE</th>\n",
       "    </tr>\n",
       "  </thead>\n",
       "  <tbody>\n",
       "    <tr>\n",
       "      <th>2</th>\n",
       "      <td>5.786254e-06</td>\n",
       "      <td>0.623821</td>\n",
       "      <td>4.710314e-06</td>\n",
       "      <td>0.106939</td>\n",
       "      <td>0.057806</td>\n",
       "      <td>0.000085</td>\n",
       "      <td>0.000332</td>\n",
       "      <td>5.678182e+05</td>\n",
       "    </tr>\n",
       "    <tr>\n",
       "      <th>1</th>\n",
       "      <td>2.227191e-06</td>\n",
       "      <td>0.461543</td>\n",
       "      <td>2.754442e-07</td>\n",
       "      <td>0.349356</td>\n",
       "      <td>0.089185</td>\n",
       "      <td>0.000094</td>\n",
       "      <td>0.000227</td>\n",
       "      <td>1.238919e+06</td>\n",
       "    </tr>\n",
       "    <tr>\n",
       "      <th>0</th>\n",
       "      <td>3.656588e-07</td>\n",
       "      <td>0.715268</td>\n",
       "      <td>2.031077e-06</td>\n",
       "      <td>0.059480</td>\n",
       "      <td>0.182281</td>\n",
       "      <td>0.000034</td>\n",
       "      <td>0.001040</td>\n",
       "      <td>1.272749e+06</td>\n",
       "    </tr>\n",
       "  </tbody>\n",
       "</table>\n",
       "</div>"
      ],
      "text/plain": [
       "             Mp   gammaDp       E_leakp      KINp      KICp   VmaxINp  \\\n",
       "2  5.786254e-06  0.623821  4.710314e-06  0.106939  0.057806  0.000085   \n",
       "1  2.227191e-06  0.461543  2.754442e-07  0.349356  0.089185  0.000094   \n",
       "0  3.656588e-07  0.715268  2.031077e-06  0.059480  0.182281  0.000034   \n",
       "\n",
       "    VmaxICp           SSE  \n",
       "2  0.000332  5.678182e+05  \n",
       "1  0.000227  1.238919e+06  \n",
       "0  0.001040  1.272749e+06  "
      ]
     },
     "execution_count": 45,
     "metadata": {},
     "output_type": "execute_result"
    }
   ],
   "source": [
    "df.nsmallest(n=3, columns='SSE')"
   ]
  },
  {
   "cell_type": "code",
   "execution_count": 50,
   "id": "2fe726d5",
   "metadata": {},
   "outputs": [
    {
     "data": {
      "text/plain": [
       "'1.7.3'"
      ]
     },
     "execution_count": 50,
     "metadata": {},
     "output_type": "execute_result"
    }
   ],
   "source": [
    "import scipy\n",
    "scipy.__version__"
   ]
  },
  {
   "cell_type": "code",
   "execution_count": 65,
   "id": "35c67f29",
   "metadata": {},
   "outputs": [],
   "source": [
    "sobol = 2"
   ]
  },
  {
   "cell_type": "code",
   "execution_count": 69,
   "id": "5ba784b1",
   "metadata": {},
   "outputs": [
    {
     "name": "stdout",
     "output_type": "stream",
     "text": [
      "tmp_E_leakp_4_5.787037037037031e-06_lowN_ponly_MIN_h2914781599285612379_0_lowN_ponly_MIN_h2914781599285612379\n",
      "MSE: 623.9201492409909\n",
      "tmp_E_leakp_4_5.787037037037031e-06_lowN_ponly_MIN_h2914781599285612379_1_lowN_ponly_MIN_h2914781599285612379\n",
      "MSE: 7686.435150257532\n",
      "tmp_E_leakp_4_5.787037037037031e-06_lowN_ponly_MIN_h2914781599285612379_2_lowN_ponly_MIN_h2914781599285612379\n",
      "MSE: 818.0208627730144\n",
      "tmp_E_leakp_4_5.787037037037031e-06_lowN_ponly_MIN_h2914781599285612379_3_lowN_ponly_MIN_h2914781599285612379\n",
      "MSE: 1469.529086598164\n"
     ]
    },
    {
     "name": "stderr",
     "output_type": "stream",
     "text": [
      "C:\\Users\\Osnat\\anaconda3\\lib\\site-packages\\pandas\\core\\arraylike.py:397: RuntimeWarning: invalid value encountered in log\n",
      "  result = getattr(ufunc, method)(*inputs, **kwargs)\n"
     ]
    }
   ],
   "source": [
    "        params_to_update, bounds, log_params = get_param_tuning_values(model, organism_to_tune)\n",
    "        bounds_logged = [(np.log(b[0]),  np.log(b[1]))  if lg else b for b,lg in zip(bounds, log_params)]\n",
    "        param_bounds =  bounds_logged\n",
    "        sample = get_sobol_sample(param_bounds, m=sobol)\n",
    "        for i,X in enumerate(sample):\n",
    "            sen_run_id = f\"{run_id}_{i}{suffix}\"\n",
    "            print(sen_run_id)\n",
    "            \n",
    "            MSE_err = run_solver_from_X_and_save(\n",
    "                X, params_to_update, new_param_vals, refdf, out_dpath, sen_run_id, \n",
    "                log_params, init_var_vals, \n",
    "                calc_dydt, prepare_params_tuple, t_end , t_eval, var_names, intermediate_names)\n",
    "            print ('MSE:', MSE_err)\n"
   ]
  },
  {
   "cell_type": "code",
   "execution_count": null,
   "id": "971f001b",
   "metadata": {},
   "outputs": [],
   "source": []
  }
 ],
 "metadata": {
  "kernelspec": {
   "display_name": "Python 3 (ipykernel)",
   "language": "python",
   "name": "python3"
  },
  "language_info": {
   "codemirror_mode": {
    "name": "ipython",
    "version": 3
   },
   "file_extension": ".py",
   "mimetype": "text/x-python",
   "name": "python",
   "nbconvert_exporter": "python",
   "pygments_lexer": "ipython3",
   "version": "3.9.12"
  }
 },
 "nbformat": 4,
 "nbformat_minor": 5
}
