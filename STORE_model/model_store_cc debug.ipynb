{
 "cells": [
  {
   "cell_type": "code",
   "execution_count": 1,
   "id": "0b5df45e",
   "metadata": {},
   "outputs": [],
   "source": [
    "import numpy as np\n",
    "import pandas as pd\n",
    "import matplotlib.pyplot as plt\n",
    "import seaborn as sns\n",
    "import pprint\n",
    "sns.set(style=\"white\", context='poster')\n",
    "from sympy import *\n",
    "import math\n",
    "init_printing(use_unicode=True)\n",
    "from scipy.integrate import solve_ivp"
   ]
  },
  {
   "cell_type": "code",
   "execution_count": 2,
   "id": "d0fc6121",
   "metadata": {},
   "outputs": [],
   "source": [
    "from numba import njit"
   ]
  },
  {
   "cell_type": "code",
   "execution_count": 3,
   "id": "1e965d96",
   "metadata": {},
   "outputs": [],
   "source": [
    "import numba"
   ]
  },
  {
   "cell_type": "markdown",
   "id": "ec94ccd8",
   "metadata": {},
   "source": [
    "levenberg optimization"
   ]
  },
  {
   "cell_type": "code",
   "execution_count": 4,
   "id": "4d435a10",
   "metadata": {},
   "outputs": [],
   "source": [
    "%load_ext autoreload\n",
    "%autoreload 2\n"
   ]
  },
  {
   "cell_type": "code",
   "execution_count": 6,
   "id": "047a0867",
   "metadata": {},
   "outputs": [],
   "source": [
    "#from model_equations_separate_NC import *\n",
    "from model_equations_separate_NC_store_numba import *\n"
   ]
  },
  {
   "cell_type": "code",
   "execution_count": 7,
   "id": "29512801",
   "metadata": {},
   "outputs": [
    {
     "data": {
      "image/png": "[encoded data removed]",
      "text/html": [
       "<svg  width=\"990\" height=\"55\"><rect x=\"0\" y=\"0\" width=\"55\" height=\"55\" style=\"fill:#99cc99;stroke-width:2;stroke:rgb(255,255,255)\"/><rect x=\"55\" y=\"0\" width=\"55\" height=\"55\" style=\"fill:#aad5aa;stroke-width:2;stroke:rgb(255,255,255)\"/><rect x=\"110\" y=\"0\" width=\"55\" height=\"55\" style=\"fill:#ffc58f;stroke-width:2;stroke:rgb(255,255,255)\"/><rect x=\"165\" y=\"0\" width=\"55\" height=\"55\" style=\"fill:#ffd2a9;stroke-width:2;stroke:rgb(255,255,255)\"/><rect x=\"220\" y=\"0\" width=\"55\" height=\"55\" style=\"fill:#326232;stroke-width:2;stroke:rgb(255,255,255)\"/><rect x=\"275\" y=\"0\" width=\"55\" height=\"55\" style=\"fill:#ffa98f;stroke-width:2;stroke:rgb(255,255,255)\"/><rect x=\"330\" y=\"0\" width=\"55\" height=\"55\" style=\"fill:#7285b7;stroke-width:2;stroke:rgb(255,255,255)\"/><rect x=\"385\" y=\"0\" width=\"55\" height=\"55\" style=\"fill:#000000;stroke-width:2;stroke:rgb(255,255,255)\"/><rect x=\"440\" y=\"0\" width=\"55\" height=\"55\" style=\"fill:#bbdaff;stroke-width:2;stroke:rgb(255,255,255)\"/><rect x=\"495\" y=\"0\" width=\"55\" height=\"55\" style=\"fill:#99cc99;stroke-width:2;stroke:rgb(255,255,255)\"/><rect x=\"550\" y=\"0\" width=\"55\" height=\"55\" style=\"fill:#aad5aa;stroke-width:2;stroke:rgb(255,255,255)\"/><rect x=\"605\" y=\"0\" width=\"55\" height=\"55\" style=\"fill:#ffc58f;stroke-width:2;stroke:rgb(255,255,255)\"/><rect x=\"660\" y=\"0\" width=\"55\" height=\"55\" style=\"fill:#ffd2a9;stroke-width:2;stroke:rgb(255,255,255)\"/><rect x=\"715\" y=\"0\" width=\"55\" height=\"55\" style=\"fill:#326232;stroke-width:2;stroke:rgb(255,255,255)\"/><rect x=\"770\" y=\"0\" width=\"55\" height=\"55\" style=\"fill:#ffa98f;stroke-width:2;stroke:rgb(255,255,255)\"/><rect x=\"825\" y=\"0\" width=\"55\" height=\"55\" style=\"fill:#cc6666;stroke-width:2;stroke:rgb(255,255,255)\"/><rect x=\"880\" y=\"0\" width=\"55\" height=\"55\" style=\"fill:#000000;stroke-width:2;stroke:rgb(255,255,255)\"/><rect x=\"935\" y=\"0\" width=\"55\" height=\"55\" style=\"fill:#ff9da4;stroke-width:2;stroke:rgb(255,255,255)\"/></svg>"
      ],
      "text/latex": [
       "$\\displaystyle \\left[ \\left( 0.6, \\  0.8, \\  0.6\\right), \\  \\left( 0.666666666666667, \\  0.835294117647059, \\  0.666666666666667\\right), \\  \\left( 1.0, \\  0.772549019607843, \\  0.56078431372549\\right), \\  \\left( 1.0, \\  0.823529411764706, \\  0.662745098039216\\right), \\  \\left( 0.196078431372549, \\  0.384313725490196, \\  0.196078431372549\\right), \\  \\left( 1.0, \\  0.662745098039216, \\  0.56078431372549\\right), \\  \\left( 0.447058823529412, \\  0.52156862745098, \\  0.717647058823529\\right), \\  \\left( 0.0, \\  0.0, \\  0.0\\right), \\  \\left( 0.733333333333333, \\  0.854901960784314, \\  1.0\\right), \\  \\left( 0.6, \\  0.8, \\  0.6\\right), \\  \\left( 0.666666666666667, \\  0.835294117647059, \\  0.666666666666667\\right), \\  \\left( 1.0, \\  0.772549019607843, \\  0.56078431372549\\right), \\  \\left( 1.0, \\  0.823529411764706, \\  0.662745098039216\\right), \\  \\left( 0.196078431372549, \\  0.384313725490196, \\  0.196078431372549\\right), \\  \\left( 1.0, \\  0.662745098039216, \\  0.56078431372549\\right), \\  \\left( 0.8, \\  0.4, \\  0.4\\right), \\  \\left( 0.0, \\  0.0, \\  0.0\\right), \\  \\left( 1.0, \\  0.615686274509804, \\  0.643137254901961\\right)\\right]$"
      ],
      "text/plain": [
       "[(0.6, 0.8, 0.6), (0.6666666666666666, 0.8352941176470589, 0.6666666666666666)\n",
       ", (1.0, 0.7725490196078432, 0.5607843137254902), (1.0, 0.8235294117647058, 0.6\n",
       "627450980392157), (0.19607843137254902, 0.3843137254901961, 0.1960784313725490\n",
       "2), (1.0, 0.6627450980392157, 0.5607843137254902), (0.4470588235294118, 0.5215\n",
       "686274509804, 0.7176470588235294), (0.0, 0.0, 0.0), (0.7333333333333333, 0.854\n",
       "9019607843137, 1.0), (0.6, 0.8, 0.6), (0.6666666666666666, 0.8352941176470589,\n",
       " 0.6666666666666666), (1.0, 0.7725490196078432, 0.5607843137254902), (1.0, 0.8\n",
       "235294117647058, 0.6627450980392157), (0.19607843137254902, 0.3843137254901961\n",
       ", 0.19607843137254902), (1.0, 0.6627450980392157, 0.5607843137254902), (0.8, 0\n",
       ".4, 0.4), (0.0, 0.0, 0.0), (1.0, 0.615686274509804, 0.6431372549019608)]"
      ]
     },
     "execution_count": 7,
     "metadata": {},
     "output_type": "execute_result"
    }
   ],
   "source": [
    "\n",
    "HCOLOR = '#ffc58f'\n",
    "HCOLOR_light = '#ffd2a9'\n",
    "PCOLOR = '#99cc99'\n",
    "PCOLOR_light = '#aad5aa'\n",
    "\n",
    "DONCOLOR = '#7285b7'\n",
    "RDONCOLOR = 'black' #'#00334D'\n",
    "DINCOLOR = '#bbdaff' #'#000066'\n",
    "\n",
    "DOCCOLOR = '#cc6666'\n",
    "RDOCCOLOR = 'black' #'#00334D'\n",
    "DICCOLOR = '#ff9da4' #'#000066'\n",
    "\n",
    "SHCOLOR = '#ffa98f'\n",
    "SPCOLOR = '#326232'\n",
    "\n",
    "\n",
    "ccnpalette = [PCOLOR, PCOLOR_light, HCOLOR, HCOLOR_light, SPCOLOR, SHCOLOR,DONCOLOR, RDONCOLOR, DINCOLOR]\n",
    "ccnorder = ['Bp', 'Np', 'Bh','Nh',  'ABp', 'ABh', 'DON', 'RDON', 'DIN', ]\n",
    "cccpalette = [PCOLOR, PCOLOR_light, HCOLOR, HCOLOR_light, SPCOLOR, SHCOLOR, DOCCOLOR, RDOCCOLOR, DICCOLOR]\n",
    "cccorder = ['Bp[C]', 'Cp', 'Bh[C]', 'Ch', 'ABp[C]', 'ABh[C]', 'DOC', 'RDOC', 'DIC']\n",
    "ccxpalette = [PCOLOR, HCOLOR]\n",
    "ccxorder = ['Xp', 'Xh']\n",
    "hnpalette = [ HCOLOR_light, SPCOLOR, SHCOLOR, DONCOLOR, RDONCOLOR, DINCOLOR]\n",
    "hnorder = [ 'Bh', 'ABp', 'ABh', 'DON', 'RDON', 'DIN']\n",
    "hcpalette = [ HCOLOR_light, SPCOLOR, SHCOLOR, DOCCOLOR, RDOCCOLOR, DICCOLOR]\n",
    "hcorder = [ 'Bh[C]', 'ABp[C]', 'ABh[C]', 'DOC', 'RDOC', 'DIC']\n",
    "pnpalette = [ PCOLOR_light, SPCOLOR, SHCOLOR, DONCOLOR, RDONCOLOR, DINCOLOR]\n",
    "pnorder = [ 'Bp', 'ABp', 'ABh', 'DON', 'RDON', 'DIN']\n",
    "pcpalette = [ PCOLOR_light, SPCOLOR, SHCOLOR, DOCCOLOR, RDOCCOLOR, DICCOLOR]\n",
    "pcorder = [ 'Bp[C]', 'ABp[C]', 'ABh[C]', 'DOC', 'RDOC', 'DIC']\n",
    "sns.color_palette(ccnpalette + cccpalette, )\n",
    "# \n"
   ]
  },
  {
   "cell_type": "code",
   "execution_count": 8,
   "id": "041f9573",
   "metadata": {},
   "outputs": [
    {
     "data": {
      "image/png": "[encoded data removed]",
      "text/html": [
       "<svg  width=\"220\" height=\"55\"><rect x=\"0\" y=\"0\" width=\"55\" height=\"55\" style=\"fill:#99cc99;stroke-width:2;stroke:rgb(255,255,255)\"/><rect x=\"55\" y=\"0\" width=\"55\" height=\"55\" style=\"fill:#ffc58f;stroke-width:2;stroke:rgb(255,255,255)\"/><rect x=\"110\" y=\"0\" width=\"55\" height=\"55\" style=\"fill:#aad5aa;stroke-width:2;stroke:rgb(255,255,255)\"/><rect x=\"165\" y=\"0\" width=\"55\" height=\"55\" style=\"fill:#ffd2a9;stroke-width:2;stroke:rgb(255,255,255)\"/></svg>"
      ],
      "text/latex": [
       "$\\displaystyle \\left[ \\left( 0.6, \\  0.8, \\  0.6\\right), \\  \\left( 1.0, \\  0.772549019607843, \\  0.56078431372549\\right), \\  \\left( 0.666666666666667, \\  0.835294117647059, \\  0.666666666666667\\right), \\  \\left( 1.0, \\  0.823529411764706, \\  0.662745098039216\\right)\\right]$"
      ],
      "text/plain": [
       "[(0.6, 0.8, 0.6), (1.0, 0.7725490196078432, 0.5607843137254902), (0.6666666666\n",
       "666666, 0.8352941176470589, 0.6666666666666666), (1.0, 0.8235294117647058, 0.6\n",
       "627450980392157)]"
      ]
     },
     "execution_count": 8,
     "metadata": {},
     "output_type": "execute_result"
    }
   ],
   "source": [
    "\n",
    " \n",
    "sns.color_palette([PCOLOR, HCOLOR, PCOLOR_light, HCOLOR_light] )\n"
   ]
  },
  {
   "cell_type": "code",
   "execution_count": 9,
   "id": "0f714019",
   "metadata": {},
   "outputs": [],
   "source": [
    "refdf = pd.read_excel('reference_10cc_axenic.xlsx')\n"
   ]
  },
  {
   "cell_type": "code",
   "execution_count": 10,
   "id": "b2ff81b3",
   "metadata": {},
   "outputs": [
    {
     "data": {
      "text/plain": [
       "Index(['day', 'Sample', 'id', 'replicate', 'transfer', 'transfer day',\n",
       "       'heterotroph', 'full name', 'FL', 'Group', 'predicted', 'ref_Bp', 'LOD',\n",
       "       't'],\n",
       "      dtype='object')"
      ]
     },
     "execution_count": 10,
     "metadata": {},
     "output_type": "execute_result"
    }
   ],
   "source": [
    "refdf.columns"
   ]
  },
  {
   "cell_type": "code",
   "execution_count": 13,
   "id": "7bac0919",
   "metadata": {},
   "outputs": [],
   "source": [
    "    model='MIN'\n",
    "    json =[]\n",
    "    dpath = 'tmp'\n",
    "    pro99_mode = False\n",
    "    which_organism = 'ponly'\n",
    "    t_eval = None\n",
    "    maxday = 140\n",
    "    if dpath != '':\n",
    "        os.makedirs(dpath, exist_ok=True)\n",
    "\n",
    "    ref_csv= 'reference_10cc_axenic.xlsx'\n",
    "    refdf = pd.read_excel(ref_csv)\n",
    "    refdf['ref_Bp'] = refdf['ref_Bp'].clip(lower=4)\n",
    "\n",
    "\n",
    "    new_param_vals = get_param_vals_from_json_list(model, json)\n",
    "    suffix = get_runid_unique_suffix(pro99_mode, which_organism, model, new_param_vals)\n",
    "    t_eval, t_end = get_t_eval_and_t_end(t_eval, refdf, maxday)\n",
    "    (var_names, init_var_vals, intermediate_names, calc_dydt, prepare_params_tuple\n",
    "        ) = get_constants_per_organism(pro99_mode, which_organism)\n"
   ]
  },
  {
   "cell_type": "code",
   "execution_count": 15,
   "id": "f280b08b",
   "metadata": {},
   "outputs": [
    {
     "name": "stdout",
     "output_type": "stream",
     "text": [
      "MSE: 170.04610123765713\n"
     ]
    }
   ],
   "source": [
    "        run_id='tmp'\n",
    "        run_id = f'{run_id}{suffix}'\n",
    "        MSE_err = run_solver_from_new_params_and_save(\n",
    "            new_param_vals, refdf, dpath, \n",
    "            run_id, init_var_vals, \n",
    "            calc_dydt, prepare_params_tuple, t_end , t_eval, var_names, intermediate_names,\n",
    "        )\n",
    "\n",
    "        print ('MSE:', MSE_err)\n"
   ]
  },
  {
   "cell_type": "code",
   "execution_count": 22,
   "id": "0b4efc0c",
   "metadata": {},
   "outputs": [],
   "source": [
    "        param_sensitivity =2\n",
    "        organism_to_tune = 'PRO'\n",
    "        number_of_runs = 5\n",
    "        parameter, sensitivity_values = get_param_sensitivity_values(\n",
    "            param_sensitivity, model, organism_to_tune, number_of_runs)\n"
   ]
  },
  {
   "cell_type": "code",
   "execution_count": 23,
   "id": "0fee1f93",
   "metadata": {},
   "outputs": [
    {
     "data": {
      "text/plain": [
       "array([2.31481481e-07, 5.17608328e-07, 1.15740741e-06, 2.58804164e-06,\n",
       "       5.78703704e-06])"
      ]
     },
     "execution_count": 23,
     "metadata": {},
     "output_type": "execute_result"
    }
   ],
   "source": [
    "sensitivity_values"
   ]
  },
  {
   "cell_type": "code",
   "execution_count": 25,
   "id": "be295776",
   "metadata": {},
   "outputs": [
    {
     "name": "stdout",
     "output_type": "stream",
     "text": [
      "tmp_E_leakp_0_2.314814814814816e-07_lowN_ponly_MIN_h-1553020579808776996\n",
      "MSE: 117.94991568659184\n",
      "tmp_E_leakp_1_5.176083281249514e-07_lowN_ponly_MIN_h-1553020579808776996\n",
      "MSE: 128.0988664441089\n",
      "tmp_E_leakp_2_1.1574074074074072e-06_lowN_ponly_MIN_h-1553020579808776996\n",
      "MSE: 170.04610123780535\n",
      "tmp_E_leakp_3_2.588041640624755e-06_lowN_ponly_MIN_h-1553020579808776996\n",
      "MSE: 227.87269120146124\n",
      "tmp_E_leakp_4_5.787037037037031e-06_lowN_ponly_MIN_h-1553020579808776996\n",
      "MSE: 260.57111990580785\n"
     ]
    }
   ],
   "source": [
    "        for i,v in enumerate(sensitivity_values):\n",
    "            new_param_vals[parameter] = v\n",
    "            run_id='tmp'\n",
    "            run_id = f\"{run_id}_{parameter}_{i}_{v}{suffix}\"\n",
    "            print(run_id)\n",
    "            \n",
    "            MSE_err = run_solver_from_new_params_and_save(\n",
    "                new_param_vals, refdf, dpath, \n",
    "                run_id, init_var_vals, \n",
    "                calc_dydt, prepare_params_tuple, t_end , t_eval, var_names, intermediate_names,\n",
    "            )\n",
    "            print ('MSE:', MSE_err)\n"
   ]
  },
  {
   "cell_type": "code",
   "execution_count": 26,
   "id": "bc3a7863",
   "metadata": {},
   "outputs": [],
   "source": [
    "from run_shgo_ponly import *"
   ]
  },
  {
   "cell_type": "code",
   "execution_count": 27,
   "id": "523975d5",
   "metadata": {},
   "outputs": [
    {
     "data": {
      "text/plain": [
       "['.ipynb_checkpoints',\n",
       " 'calc_csat.py',\n",
       " 'model_equations_separate_NC_store.py',\n",
       " 'model_equations_separate_NC_store_numba.py',\n",
       " 'Model_Parameters Store model.xlsx',\n",
       " 'model_store_cc debug.ipynb',\n",
       " 'model_store_cc.ipynb',\n",
       " 'model_store_ponly.ipynb',\n",
       " 'reference_10cc.xlsx',\n",
       " 'reference_10cc_axenic.xlsx',\n",
       " 'reference_pro99_axenic.xlsx',\n",
       " 'results_postprocess.py',\n",
       " 'run_files',\n",
       " 'run_least_squares_het.py',\n",
       " 'run_least_squares_ponly.py',\n",
       " 'run_monte.py',\n",
       " 'run_shgo_ponly.py',\n",
       " 'tmp',\n",
       " '__pycache__']"
      ]
     },
     "execution_count": 27,
     "metadata": {},
     "output_type": "execute_result"
    }
   ],
   "source": [
    "os.listdir()"
   ]
  },
  {
   "cell_type": "code",
   "execution_count": 32,
   "id": "f88089b5",
   "metadata": {},
   "outputs": [],
   "source": [
    "\n",
    "    out_dpath = dpath\n",
    "    ref_fpath =  'reference_10cc_axenic.xlsx'\n",
    "    ref_pro99_fpath =  'reference_pro99_axenic.xlsx'\n",
    "    json_list = []"
   ]
  },
  {
   "cell_type": "code",
   "execution_count": 38,
   "id": "400451d3",
   "metadata": {},
   "outputs": [],
   "source": [
    "    ref_df = pd.read_excel(ref_fpath)\n",
    "    ref_pro99_df = pd.read_excel(ref_pro99_fpath)\n",
    "    ref_df = ref_df.sort_values(['t','Sample'])\n",
    "    ref_pro99_df = ref_pro99_df.sort_values(['t','Sample'])\n",
    "\n",
    "    Y = pd.concat([ref_df['ref_Bp'], ref_pro99_df['ref_Bp']]).to_numpy()\n",
    "    Y = np.clip(Y, a_min=4, a_max=None)\n",
    "\n",
    "    new_param_vals = get_param_vals_from_json_list(model, json_list)\n",
    "    #TODO\n",
    "    t_eval, t_end = get_t_eval_and_t_end(None, refdf, maxday=140)\n",
    "    t_eval_pro99, t_end_pro99 = get_t_eval_and_t_end(None, ref_pro99_df, maxday=140)\n",
    "    (var_names, init_var_vals, intermediate_names, calc_dydt, prepare_params_tuple\n",
    "        ) = get_constants_per_organism(False, which_organism)\n",
    "    (_, init_var_pro99_vals, _, _, _) = get_constants_per_organism(True, which_organism)\n",
    "\n",
    "\n",
    "    params_to_update, bounds, log_params = get_param_tuning_values(model, organism_to_tune)\n",
    "\n",
    "    # start with the defalt params\n",
    "    x0 = np.array([np.log(param_vals[i]) if lg else param_vals[i] for i, lg in zip(params_to_update, log_params)])\n",
    "\n",
    "    bounds_logged = [(np.log(b[0]),  np.log(b[1]))  if lg else b for b,lg in zip(bounds, log_params)]\n",
    "    param_bounds =  bounds_logged\n",
    "\n",
    "    # print('shgo(',\n",
    "        # fun, param_bounds, \n",
    "        # #minimizer_kwargs=dict(\n",
    "            # #jac=jac_for_minimize, \n",
    "    # #        hess=hess_for_minimize, \n",
    "    # #        options=dict(disp=True, maxiter=3), method='L-BFGS-B'),\n",
    "    # #    options=dict(jac=\n",
    "                # jac_for_minimize)\n",
    "\n",
    "    additional_params = (\n",
    "        Y, params_to_update, new_param_vals, log_params, \n",
    "        calc_dydt, prepare_params_tuple, var_names, \n",
    "        init_var_vals, t_end , t_eval, ref_df, \n",
    "        init_var_pro99_vals, t_end_pro99 , t_eval_pro99, ref_pro99_df\n",
    "    ) \n"
   ]
  },
  {
   "cell_type": "code",
   "execution_count": 40,
   "id": "8bc109bb",
   "metadata": {},
   "outputs": [
    {
     "data": {
      "image/png": "[encoded data removed]",
      "text/latex": [
       "$\\displaystyle 1267276.62835996$"
      ],
      "text/plain": [
       "1267276.628359964"
      ]
     },
     "execution_count": 40,
     "metadata": {},
     "output_type": "execute_result"
    }
   ],
   "source": [
    "fun(x0, additional_params)"
   ]
  },
  {
   "cell_type": "code",
   "execution_count": 42,
   "id": "07863819",
   "metadata": {},
   "outputs": [],
   "source": [
    "j =jac(x0, additional_params)"
   ]
  },
  {
   "cell_type": "code",
   "execution_count": 43,
   "id": "3a72cca4",
   "metadata": {},
   "outputs": [
    {
     "data": {
      "image/png": "[encoded data removed]",
      "text/latex": [
       "$\\displaystyle 2048184.49785193$"
      ],
      "text/plain": [
       "2048184.4978519347"
      ]
     },
     "execution_count": 43,
     "metadata": {},
     "output_type": "execute_result"
    }
   ],
   "source": [
    "np.max(j)"
   ]
  },
  {
   "cell_type": "code",
   "execution_count": 44,
   "id": "5ea97cf4",
   "metadata": {},
   "outputs": [
    {
     "data": {
      "text/plain": [
       "array([[0., 0., 0., ..., 0., 0., 0.],\n",
       "       [0., 0., 0., ..., 0., 0., 0.],\n",
       "       [0., 0., 0., ..., 0., 0., 0.],\n",
       "       ...,\n",
       "       [0., 0., 0., ..., 0., 0., 0.],\n",
       "       [0., 0., 0., ..., 0., 0., 0.],\n",
       "       [0., 0., 0., ..., 0., 0., 0.]])"
      ]
     },
     "execution_count": 44,
     "metadata": {},
     "output_type": "execute_result"
    }
   ],
   "source": [
    "j"
   ]
  },
  {
   "cell_type": "code",
   "execution_count": 45,
   "id": "380c0305",
   "metadata": {},
   "outputs": [
    {
     "name": "stdout",
     "output_type": "stream",
     "text": [
      "4.31 s ± 39.7 ms per loop (mean ± std. dev. of 2 runs, 2 loops each)\n"
     ]
    }
   ],
   "source": [
    "%timeit -n 2 -r 2 fun(x0, additional_params)"
   ]
  },
  {
   "cell_type": "code",
   "execution_count": null,
   "id": "d9bff14d",
   "metadata": {},
   "outputs": [
    {
     "name": "stdout",
     "output_type": "stream",
     "text": [
      "Splitting first generation\n",
      "Generating sampling points\n"
     ]
    }
   ],
   "source": [
    "    number_of_runs = 100\n",
    "    res = shgo(\n",
    "        fun, param_bounds, args=(additional_params,), \n",
    "        n=number_of_runs, iters=1, sampling_method='sobol',\n",
    "        minimizer_kwargs=dict(\n",
    "            #jac=jac_for_minimize, \n",
    "            hess=hess_for_minimize, \n",
    "            options=dict(disp=True, maxiter=3), method='L-BFGS-B'),\n",
    "        options=dict(jac=jac_for_minimize,disp=True),\n",
    "    )\n"
   ]
  },
  {
   "cell_type": "code",
   "execution_count": null,
   "id": "de4b8f85",
   "metadata": {},
   "outputs": [],
   "source": []
  }
 ],
 "metadata": {
  "kernelspec": {
   "display_name": "Python 3 (ipykernel)",
   "language": "python",
   "name": "python3"
  },
  "language_info": {
   "codemirror_mode": {
    "name": "ipython",
    "version": 3
   },
   "file_extension": ".py",
   "mimetype": "text/x-python",
   "name": "python",
   "nbconvert_exporter": "python",
   "pygments_lexer": "ipython3",
   "version": "3.9.12"
  }
 },
 "nbformat": 4,
 "nbformat_minor": 5
}
