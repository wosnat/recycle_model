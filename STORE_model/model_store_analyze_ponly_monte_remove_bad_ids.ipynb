{
 "cells": [
  {
   "cell_type": "code",
   "execution_count": 1,
   "id": "0b5df45e",
   "metadata": {},
   "outputs": [],
   "source": [
    "import numpy as np\n",
    "import pandas as pd\n",
    "import matplotlib.pyplot as plt\n",
    "import seaborn as sns\n",
    "sns.set(style=\"white\", context='poster')\n",
    "import math"
   ]
  },
  {
   "cell_type": "code",
   "execution_count": 2,
   "id": "4d435a10",
   "metadata": {},
   "outputs": [],
   "source": [
    "%load_ext autoreload\n",
    "%autoreload 2\n"
   ]
  },
  {
   "cell_type": "code",
   "execution_count": 3,
   "id": "047a0867",
   "metadata": {},
   "outputs": [],
   "source": [
    "#from model_equations_separate_NC import *\n",
    "from model_equations_separate_NC_store_numba import *\n"
   ]
  },
  {
   "cell_type": "code",
   "execution_count": 4,
   "id": "6df9ae5e",
   "metadata": {},
   "outputs": [
    {
     "data": {
      "text/html": [
       "<svg  width=\"275\" height=\"55\"><rect x=\"0\" y=\"0\" width=\"55\" height=\"55\" style=\"fill:#7ba1c2;stroke-width:2;stroke:rgb(255,255,255)\"/><rect x=\"55\" y=\"0\" width=\"55\" height=\"55\" style=\"fill:#5e43a5;stroke-width:2;stroke:rgb(255,255,255)\"/><rect x=\"110\" y=\"0\" width=\"55\" height=\"55\" style=\"fill:#2f1436;stroke-width:2;stroke:rgb(255,255,255)\"/><rect x=\"165\" y=\"0\" width=\"55\" height=\"55\" style=\"fill:#8e2c50;stroke-width:2;stroke:rgb(255,255,255)\"/><rect x=\"220\" y=\"0\" width=\"55\" height=\"55\" style=\"fill:#c6896c;stroke-width:2;stroke:rgb(255,255,255)\"/></svg>"
      ],
      "text/plain": [
       "[(0.4828677867260272, 0.6304330455306234, 0.761915371498953),\n",
       " (0.3668108554010799, 0.26404857724525643, 0.6464799165290824),\n",
       " (0.18488035509396164, 0.07942573027972388, 0.21307651648984993),\n",
       " (0.5566322903496934, 0.17269677158182117, 0.31423043195101424),\n",
       " (0.775907907306857, 0.5355421788246119, 0.42413367909988375)]"
      ]
     },
     "execution_count": 4,
     "metadata": {},
     "output_type": "execute_result"
    }
   ],
   "source": [
    "morder = ['MIN', 'OVERFLOW', 'MIXOTROPH', 'EXOENZYME', 'ROS',]\n",
    "media_order = ['lowN', 'pro99']\n",
    "mpalette = 'twilight'\n",
    "sns.color_palette(mpalette, n_colors=5)\n"
   ]
  },
  {
   "cell_type": "code",
   "execution_count": 5,
   "id": "193932a0",
   "metadata": {},
   "outputs": [
    {
     "data": {
      "text/html": [
       "<svg  width=\"330\" height=\"55\"><rect x=\"0\" y=\"0\" width=\"55\" height=\"55\" style=\"fill:#66c2a5;stroke-width:2;stroke:rgb(255,255,255)\"/><rect x=\"55\" y=\"0\" width=\"55\" height=\"55\" style=\"fill:#fc8d62;stroke-width:2;stroke:rgb(255,255,255)\"/><rect x=\"110\" y=\"0\" width=\"55\" height=\"55\" style=\"fill:#8da0cb;stroke-width:2;stroke:rgb(255,255,255)\"/><rect x=\"165\" y=\"0\" width=\"55\" height=\"55\" style=\"fill:#e78ac3;stroke-width:2;stroke:rgb(255,255,255)\"/><rect x=\"220\" y=\"0\" width=\"55\" height=\"55\" style=\"fill:#000000;stroke-width:2;stroke:rgb(255,255,255)\"/><rect x=\"275\" y=\"0\" width=\"55\" height=\"55\" style=\"fill:#d3d3d3;stroke-width:2;stroke:rgb(255,255,255)\"/></svg>"
      ],
      "text/plain": [
       "[(0.4, 0.7607843137254902, 0.6470588235294118),\n",
       " (0.9882352941176471, 0.5529411764705883, 0.3843137254901961),\n",
       " (0.5529411764705883, 0.6274509803921569, 0.796078431372549),\n",
       " (0.9058823529411765, 0.5411764705882353, 0.7647058823529411),\n",
       " (0.0, 0.0, 0.0),\n",
       " (0.8274509803921568, 0.8274509803921568, 0.8274509803921568)]"
      ]
     },
     "execution_count": 5,
     "metadata": {},
     "output_type": "execute_result"
    }
   ],
   "source": [
    "gorder = [ 'Strong', 'Sustained', 'Weak', 'Inhibited','Axenic', 'Other']\n",
    "gpalette = sns.color_palette('Set2', n_colors=4).as_hex() + ['black', 'lightgrey']\n",
    "sns.color_palette(gpalette)"
   ]
  },
  {
   "cell_type": "code",
   "execution_count": 6,
   "id": "29512801",
   "metadata": {},
   "outputs": [
    {
     "data": {
      "text/html": [
       "<svg  width=\"990\" height=\"55\"><rect x=\"0\" y=\"0\" width=\"55\" height=\"55\" style=\"fill:#99cc99;stroke-width:2;stroke:rgb(255,255,255)\"/><rect x=\"55\" y=\"0\" width=\"55\" height=\"55\" style=\"fill:#aad5aa;stroke-width:2;stroke:rgb(255,255,255)\"/><rect x=\"110\" y=\"0\" width=\"55\" height=\"55\" style=\"fill:#ffc58f;stroke-width:2;stroke:rgb(255,255,255)\"/><rect x=\"165\" y=\"0\" width=\"55\" height=\"55\" style=\"fill:#ffd2a9;stroke-width:2;stroke:rgb(255,255,255)\"/><rect x=\"220\" y=\"0\" width=\"55\" height=\"55\" style=\"fill:#326232;stroke-width:2;stroke:rgb(255,255,255)\"/><rect x=\"275\" y=\"0\" width=\"55\" height=\"55\" style=\"fill:#ffa98f;stroke-width:2;stroke:rgb(255,255,255)\"/><rect x=\"330\" y=\"0\" width=\"55\" height=\"55\" style=\"fill:#7285b7;stroke-width:2;stroke:rgb(255,255,255)\"/><rect x=\"385\" y=\"0\" width=\"55\" height=\"55\" style=\"fill:#000000;stroke-width:2;stroke:rgb(255,255,255)\"/><rect x=\"440\" y=\"0\" width=\"55\" height=\"55\" style=\"fill:#bbdaff;stroke-width:2;stroke:rgb(255,255,255)\"/><rect x=\"495\" y=\"0\" width=\"55\" height=\"55\" style=\"fill:#99cc99;stroke-width:2;stroke:rgb(255,255,255)\"/><rect x=\"550\" y=\"0\" width=\"55\" height=\"55\" style=\"fill:#aad5aa;stroke-width:2;stroke:rgb(255,255,255)\"/><rect x=\"605\" y=\"0\" width=\"55\" height=\"55\" style=\"fill:#ffc58f;stroke-width:2;stroke:rgb(255,255,255)\"/><rect x=\"660\" y=\"0\" width=\"55\" height=\"55\" style=\"fill:#ffd2a9;stroke-width:2;stroke:rgb(255,255,255)\"/><rect x=\"715\" y=\"0\" width=\"55\" height=\"55\" style=\"fill:#326232;stroke-width:2;stroke:rgb(255,255,255)\"/><rect x=\"770\" y=\"0\" width=\"55\" height=\"55\" style=\"fill:#ffa98f;stroke-width:2;stroke:rgb(255,255,255)\"/><rect x=\"825\" y=\"0\" width=\"55\" height=\"55\" style=\"fill:#cc6666;stroke-width:2;stroke:rgb(255,255,255)\"/><rect x=\"880\" y=\"0\" width=\"55\" height=\"55\" style=\"fill:#000000;stroke-width:2;stroke:rgb(255,255,255)\"/><rect x=\"935\" y=\"0\" width=\"55\" height=\"55\" style=\"fill:#ff9da4;stroke-width:2;stroke:rgb(255,255,255)\"/></svg>"
      ],
      "text/plain": [
       "[(0.6, 0.8, 0.6),\n",
       " (0.6666666666666666, 0.8352941176470589, 0.6666666666666666),\n",
       " (1.0, 0.7725490196078432, 0.5607843137254902),\n",
       " (1.0, 0.8235294117647058, 0.6627450980392157),\n",
       " (0.19607843137254902, 0.3843137254901961, 0.19607843137254902),\n",
       " (1.0, 0.6627450980392157, 0.5607843137254902),\n",
       " (0.4470588235294118, 0.5215686274509804, 0.7176470588235294),\n",
       " (0.0, 0.0, 0.0),\n",
       " (0.7333333333333333, 0.8549019607843137, 1.0),\n",
       " (0.6, 0.8, 0.6),\n",
       " (0.6666666666666666, 0.8352941176470589, 0.6666666666666666),\n",
       " (1.0, 0.7725490196078432, 0.5607843137254902),\n",
       " (1.0, 0.8235294117647058, 0.6627450980392157),\n",
       " (0.19607843137254902, 0.3843137254901961, 0.19607843137254902),\n",
       " (1.0, 0.6627450980392157, 0.5607843137254902),\n",
       " (0.8, 0.4, 0.4),\n",
       " (0.0, 0.0, 0.0),\n",
       " (1.0, 0.615686274509804, 0.6431372549019608)]"
      ]
     },
     "execution_count": 6,
     "metadata": {},
     "output_type": "execute_result"
    }
   ],
   "source": [
    "\n",
    "HCOLOR = '#ffc58f'\n",
    "HCOLOR_light = '#ffd2a9'\n",
    "PCOLOR = '#99cc99'\n",
    "PCOLOR_light = '#aad5aa'\n",
    "\n",
    "DONCOLOR = '#7285b7'\n",
    "RDONCOLOR = 'black' #'#00334D'\n",
    "DINCOLOR = '#bbdaff' #'#000066'\n",
    "\n",
    "DOCCOLOR = '#cc6666'\n",
    "RDOCCOLOR = 'black' #'#00334D'\n",
    "DICCOLOR = '#ff9da4' #'#000066'\n",
    "\n",
    "SHCOLOR = '#ffa98f'\n",
    "SPCOLOR = '#326232'\n",
    "\n",
    "\n",
    "ccnpalette = [PCOLOR, PCOLOR_light, HCOLOR, HCOLOR_light, SPCOLOR, SHCOLOR,DONCOLOR, RDONCOLOR, DINCOLOR]\n",
    "ccnorder = ['Bp', 'Np', 'Bh','Nh',  'ABp', 'ABh', 'DON', 'RDON', 'DIN', ]\n",
    "cccpalette = [PCOLOR, PCOLOR_light, HCOLOR, HCOLOR_light, SPCOLOR, SHCOLOR, DOCCOLOR, RDOCCOLOR, DICCOLOR]\n",
    "cccorder = ['Bp[C]', 'Cp', 'Bh[C]', 'Ch', 'ABp[C]', 'ABh[C]', 'DOC', 'RDOC', 'DIC']\n",
    "ccxpalette = [PCOLOR, HCOLOR]\n",
    "ccxorder = ['Xp', 'Xh']\n",
    "hnpalette = [ HCOLOR_light, SPCOLOR, SHCOLOR, DONCOLOR, RDONCOLOR, DINCOLOR]\n",
    "hnorder = [ 'Bh', 'ABp', 'ABh', 'DON', 'RDON', 'DIN']\n",
    "hcpalette = [ HCOLOR_light, SPCOLOR, SHCOLOR, DOCCOLOR, RDOCCOLOR, DICCOLOR]\n",
    "hcorder = [ 'Bh[C]', 'ABp[C]', 'ABh[C]', 'DOC', 'RDOC', 'DIC']\n",
    "pnpalette = [ PCOLOR_light, SPCOLOR, SHCOLOR, DONCOLOR, RDONCOLOR, DINCOLOR]\n",
    "pnorder = [ 'Bp', 'ABp', 'ABh', 'DON', 'RDON', 'DIN']\n",
    "pcpalette = [ PCOLOR_light, SPCOLOR, SHCOLOR, DOCCOLOR, RDOCCOLOR, DICCOLOR]\n",
    "pcorder = [ 'Bp[C]', 'ABp[C]', 'ABh[C]', 'DOC', 'RDOC', 'DIC']\n",
    "sns.color_palette(ccnpalette + cccpalette, )\n",
    "# \n"
   ]
  },
  {
   "cell_type": "code",
   "execution_count": 7,
   "id": "041f9573",
   "metadata": {},
   "outputs": [
    {
     "data": {
      "text/html": [
       "<svg  width=\"220\" height=\"55\"><rect x=\"0\" y=\"0\" width=\"55\" height=\"55\" style=\"fill:#99cc99;stroke-width:2;stroke:rgb(255,255,255)\"/><rect x=\"55\" y=\"0\" width=\"55\" height=\"55\" style=\"fill:#ffc58f;stroke-width:2;stroke:rgb(255,255,255)\"/><rect x=\"110\" y=\"0\" width=\"55\" height=\"55\" style=\"fill:#aad5aa;stroke-width:2;stroke:rgb(255,255,255)\"/><rect x=\"165\" y=\"0\" width=\"55\" height=\"55\" style=\"fill:#ffd2a9;stroke-width:2;stroke:rgb(255,255,255)\"/></svg>"
      ],
      "text/plain": [
       "[(0.6, 0.8, 0.6),\n",
       " (1.0, 0.7725490196078432, 0.5607843137254902),\n",
       " (0.6666666666666666, 0.8352941176470589, 0.6666666666666666),\n",
       " (1.0, 0.8235294117647058, 0.6627450980392157)]"
      ]
     },
     "execution_count": 7,
     "metadata": {},
     "output_type": "execute_result"
    }
   ],
   "source": [
    "\n",
    " \n",
    "sns.color_palette([PCOLOR, HCOLOR, PCOLOR_light, HCOLOR_light] )\n"
   ]
  },
  {
   "cell_type": "code",
   "execution_count": 8,
   "id": "10f7a882",
   "metadata": {},
   "outputs": [],
   "source": [
    "refdf = pd.read_excel('ML_model/reference_final.xlsx')"
   ]
  },
  {
   "cell_type": "code",
   "execution_count": 9,
   "id": "5ba784b1",
   "metadata": {},
   "outputs": [],
   "source": [
    "dpath = '/fast_data/Osnat/RECYCLE_MODEL/results/shgo2/out'\n",
    "dpath = 'results'"
   ]
  },
  {
   "cell_type": "code",
   "execution_count": 10,
   "id": "323f8a48",
   "metadata": {},
   "outputs": [
    {
     "data": {
      "text/plain": [
       "['monte_ponly_fix_EXOENZYME_sum.csv.gz',\n",
       " 'monte_ponly_clean_mse.csv.gz',\n",
       " 'monte2_ponly_sum.csv.gz',\n",
       " 'sensitivity_vmax2_df.csv.gz',\n",
       " 'monte_ponly_clean_df.csv.gz',\n",
       " 'monte_het_minmse.csv.gz',\n",
       " 'sensitivity_df.csv.gz',\n",
       " 'monte_ponly_fix_EXOENZYME_df.csv.gz',\n",
       " 'default_initial_lowN_ponly_MIN_h4139617574487472499_sum.csv.gz',\n",
       " 'monte_add_het_mse.csv.gz',\n",
       " 'monte_ponly_df.csv.gz',\n",
       " 'default_initial_lowN_ponly_MIN_h4139617574487472499_mse.csv.gz',\n",
       " 'default_initial_lowN_ponly_MIN_h4139617574487472499_df.csv.gz',\n",
       " 'baseline_df.csv.gz',\n",
       " 'results_old_26122023',\n",
       " 'monte_het_clean_sum.csv.gz',\n",
       " 'baseline_sum.csv.gz',\n",
       " 'monte2_add_het_mse.csv.gz',\n",
       " 'monte_strong_ponly_clean_df.csv.gz',\n",
       " 'sensitivity_vmax2_sum.csv.gz',\n",
       " 'monte_strong_ponly_sum.csv.gz',\n",
       " 'monte_add_het_df.csv.gz',\n",
       " 'sensitivity_vmax_mse.csv.gz',\n",
       " 'monte_ponly_mse.csv.gz',\n",
       " 'monte2_add_het_sum.csv.gz',\n",
       " 'monte_ponly_sum.csv.gz',\n",
       " 'monte_het_clean_mse.csv.gz',\n",
       " 'monte_strong_ponly_df.csv.gz',\n",
       " 'sensitivity_sum.csv.gz',\n",
       " 'sensitivity_vmax2_mse.csv.gz',\n",
       " 'sensitivity_vmax_df.csv.gz',\n",
       " 'monte_het_mse.csv.gz',\n",
       " 'monte_add_het_clean_mse.csv.gz',\n",
       " 'monte_strong_ponly_clean_sum.csv.gz',\n",
       " 'monte_het_sum.csv.gz',\n",
       " 'monte_strong_ponly_mse.csv.gz',\n",
       " 'monte_ponly_clean_sum.csv.gz',\n",
       " 'monte_ponly_fix_EXOENZYME_mse.csv.gz',\n",
       " 'monte2_add_het_df.csv.gz',\n",
       " 'sensitivity_mse.csv.gz',\n",
       " 'monte_het_df.csv.gz',\n",
       " 'monte_add_het_clean_sum.csv.gz',\n",
       " 'monte2_ponly_df.csv.gz',\n",
       " 'sensitivity_vmax_sum.csv.gz',\n",
       " 'monte_add_het_clean_df.csv.gz',\n",
       " 'monte_strong_ponly_clean_mse.csv.gz',\n",
       " 'monte_add_het_sum.csv.gz',\n",
       " 'monte2_ponly_mse.csv.gz',\n",
       " 'baseline_mse.csv.gz',\n",
       " 'monte_het_clean_df.csv.gz']"
      ]
     },
     "execution_count": 10,
     "metadata": {},
     "output_type": "execute_result"
    }
   ],
   "source": [
    "os.listdir(dpath)"
   ]
  },
  {
   "cell_type": "code",
   "execution_count": 11,
   "id": "c297fd3f",
   "metadata": {},
   "outputs": [],
   "source": [
    "pro99_mode = False \n",
    "which_organism = 'ponly'\n",
    "(var_names, init_var_vals, intermediate_names, calc_dydt, prepare_params_tuple\n",
    ") = get_constants_per_organism(pro99_mode, which_organism)\n",
    "    \n"
   ]
  },
  {
   "cell_type": "code",
   "execution_count": 12,
   "id": "aa1264e5",
   "metadata": {},
   "outputs": [
    {
     "data": {
      "text/plain": [
       "['Bp', 'Np', 'Cp', 'DON', 'RDON', 'DIN', 'DOC', 'RDOC', 'DIC', 'ROS']"
      ]
     },
     "execution_count": 12,
     "metadata": {},
     "output_type": "execute_result"
    }
   ],
   "source": [
    "var_names"
   ]
  },
  {
   "cell_type": "markdown",
   "id": "c5938620",
   "metadata": {},
   "source": [
    "# main monte"
   ]
  },
  {
   "cell_type": "code",
   "execution_count": 13,
   "id": "5254812c",
   "metadata": {},
   "outputs": [],
   "source": [
    "dpath = 'results'\n",
    "sim_df = pd.read_csv(os.path.join(dpath,'monte_ponly_df.csv.gz',))\n",
    "mse_df = pd.read_csv(os.path.join(dpath,'monte_ponly_mse.csv.gz',))\n",
    "sum_df = pd.read_csv(os.path.join(dpath,'monte_ponly_sum.csv.gz',))\n",
    "\n",
    "# sim_df = pd.concat([\n",
    "#     sim_df1,\n",
    "#     sim_df2,\n",
    "# ])"
   ]
  },
  {
   "cell_type": "code",
   "execution_count": 22,
   "id": "25c0cac5",
   "metadata": {},
   "outputs": [],
   "source": [
    "sum_df[['id', 'media', 'which', 'model', 'hash']] = sum_df.run_id.str.rsplit('_', n=4, expand=True)\n",
    "mse_df[['id', 'media', 'which', 'model', 'hash']] = mse_df.run_id.str.rsplit('_', n=4, expand=True)\n",
    "sim_df[['id', 'media', 'which', 'model', 'hash']] = sim_df.run_id.str.rsplit('_', n=4, expand=True)\n",
    "\n",
    "sum_df['idx'] = sum_df['id'] + '_' + sum_df['model']\n",
    "mse_df['idx'] = mse_df['id'] + '_' + mse_df['model']\n",
    "sim_df['idx'] = sim_df['id'] + '_' + sim_df['model']"
   ]
  },
  {
   "cell_type": "code",
   "execution_count": 33,
   "id": "50632b89",
   "metadata": {},
   "outputs": [],
   "source": [
    "sim_df.drop(columns=['id', 'media', 'which', 'model', 'hash'], inplace=True)\n",
    "mse_df.drop(columns=['id', 'media', 'which', 'model', 'hash'], inplace=True)\n",
    "sum_df.drop(columns=['id', 'media', 'which', 'model', 'hash'], inplace=True)\n"
   ]
  },
  {
   "cell_type": "code",
   "execution_count": 23,
   "id": "c04ac921",
   "metadata": {},
   "outputs": [
    {
     "data": {
      "text/plain": [
       "134"
      ]
     },
     "execution_count": 23,
     "metadata": {},
     "output_type": "execute_result"
    }
   ],
   "source": [
    "min_values = sim_df[var_names+['idx']].groupby('idx').min().min(axis=1)\n",
    "bad_ids_negative_values = set(min_values[min_values< -1e-9].index)\n",
    "len(bad_ids_negative_values)"
   ]
  },
  {
   "cell_type": "code",
   "execution_count": 24,
   "id": "67e7ec7f",
   "metadata": {},
   "outputs": [
    {
     "data": {
      "text/plain": [
       "2"
      ]
     },
     "execution_count": 24,
     "metadata": {},
     "output_type": "execute_result"
    }
   ],
   "source": [
    "max_values = sim_df[var_names+['idx']].groupby('idx').max().max(axis=1)\n",
    "bad_ids_toolarge_values = set(max_values[max_values > 1e9].index)\n",
    "len(bad_ids_toolarge_values)"
   ]
  },
  {
   "cell_type": "code",
   "execution_count": 25,
   "id": "e43d8a16",
   "metadata": {},
   "outputs": [
    {
     "data": {
      "text/plain": [
       "63"
      ]
     },
     "execution_count": 25,
     "metadata": {},
     "output_type": "execute_result"
    }
   ],
   "source": [
    "mse_df['ref_compare_points'] = mse_df.media.map({'lowN' : 74, 'pro99': 58})\n",
    "bad_ids_missing_points = set(mse_df.loc[mse_df.ref_compare_points != mse_df.compare_points, 'idx' ])\n",
    "len(bad_ids_missing_points)"
   ]
  },
  {
   "cell_type": "code",
   "execution_count": null,
   "id": "ff45638d",
   "metadata": {},
   "outputs": [],
   "source": []
  },
  {
   "cell_type": "code",
   "execution_count": 28,
   "id": "3641093a",
   "metadata": {},
   "outputs": [
    {
     "data": {
      "text/plain": [
       "134"
      ]
     },
     "execution_count": 28,
     "metadata": {},
     "output_type": "execute_result"
    }
   ],
   "source": [
    "bad_ids = set(bad_ids_missing_points) | set(bad_ids_negative_values) | set(bad_ids_toolarge_values)\n",
    "len(bad_ids)"
   ]
  },
  {
   "cell_type": "code",
   "execution_count": 29,
   "id": "63db214f",
   "metadata": {},
   "outputs": [],
   "source": [
    "sim_df = sim_df.loc[~sim_df['idx'].isin(bad_ids)]\n",
    "mse_df = mse_df.loc[~mse_df['idx'].isin(bad_ids)]\n",
    "sum_df = sum_df.loc[~sum_df['idx'].isin(bad_ids)]\n"
   ]
  },
  {
   "cell_type": "code",
   "execution_count": 34,
   "id": "8b2a12ee",
   "metadata": {},
   "outputs": [
    {
     "data": {
      "text/plain": [
       "Index(['Bp', 'Np', 'Cp', 'DON', 'RDON', 'DIN', 'DOC', 'RDOC', 'DIC', 'ROS',\n",
       "       't', 'day', 'gross_uptakeINp', 'gross_uptakeONp', 'gross_uptakeICp',\n",
       "       'gross_uptakeOCp', 'uptakeNp', 'uptakeCp', 'QCp', 'biosynthesisNp',\n",
       "       'respirationCp', 'biomass_breakdownCp', 'overflowNp', 'overflowCp',\n",
       "       'Bp[C]', 'Bptotal[N]', 'Bptotal[C]', 'run_id', 'idx'],\n",
       "      dtype='object')"
      ]
     },
     "execution_count": 34,
     "metadata": {},
     "output_type": "execute_result"
    }
   ],
   "source": [
    "sim_df.columns"
   ]
  },
  {
   "cell_type": "code",
   "execution_count": 35,
   "id": "0349acf3",
   "metadata": {},
   "outputs": [],
   "source": [
    "sim_df.to_csv(os.path.join(dpath,'monte_ponly_clean_df.csv.gz',), index=False)\n",
    "mse_df.to_csv(os.path.join(dpath,'monte_ponly_clean_mse.csv.gz',), index=False)\n",
    "sum_df.to_csv(os.path.join(dpath,'monte_ponly_clean_sum.csv.gz',), index=False)\n"
   ]
  },
  {
   "cell_type": "markdown",
   "id": "44f8b5f1",
   "metadata": {},
   "source": [
    "# additional strong simulations"
   ]
  },
  {
   "cell_type": "code",
   "execution_count": 44,
   "id": "9ba77c43",
   "metadata": {},
   "outputs": [],
   "source": [
    "dpath = 'results'\n",
    "sim_df = pd.read_csv(os.path.join(dpath,'monte2_ponly_df.csv.gz',))\n",
    "mse_df = pd.read_csv(os.path.join(dpath,'monte2_ponly_mse.csv.gz',))\n",
    "sum_df = pd.read_csv(os.path.join(dpath,'monte2_ponly_sum.csv.gz',))\n",
    "\n",
    "# sim_df = pd.concat([\n",
    "#     sim_df1,\n",
    "#     sim_df2,\n",
    "# ])"
   ]
  },
  {
   "cell_type": "code",
   "execution_count": 45,
   "id": "55b6954a",
   "metadata": {},
   "outputs": [],
   "source": [
    "sum_df[['id', 'media', 'which', 'model', 'hash']] = sum_df.run_id.str.rsplit('_', n=4, expand=True)\n",
    "mse_df[['id', 'media', 'which', 'model', 'hash']] = mse_df.run_id.str.rsplit('_', n=4, expand=True)\n",
    "sim_df[['id', 'media', 'which', 'model', 'hash']] = sim_df.run_id.str.rsplit('_', n=4, expand=True)\n",
    "\n",
    "sum_df['idx'] = sum_df['id'] + '_' + sum_df['model']\n",
    "mse_df['idx'] = mse_df['id'] + '_' + mse_df['model']\n",
    "sim_df['idx'] = sim_df['id'] + '_' + sim_df['model']"
   ]
  },
  {
   "cell_type": "code",
   "execution_count": 46,
   "id": "9bfc9126",
   "metadata": {},
   "outputs": [
    {
     "data": {
      "text/plain": [
       "98"
      ]
     },
     "execution_count": 46,
     "metadata": {},
     "output_type": "execute_result"
    }
   ],
   "source": [
    "min_values = sim_df[var_names+['idx']].groupby('idx').min().min(axis=1)\n",
    "bad_ids_negative_values = set(min_values[min_values< -1e-9].index)\n",
    "len(bad_ids_negative_values)"
   ]
  },
  {
   "cell_type": "code",
   "execution_count": 47,
   "id": "25e757e1",
   "metadata": {},
   "outputs": [
    {
     "data": {
      "text/plain": [
       "4"
      ]
     },
     "execution_count": 47,
     "metadata": {},
     "output_type": "execute_result"
    }
   ],
   "source": [
    "max_values = sim_df[var_names+['idx']].groupby('idx').max().max(axis=1)\n",
    "bad_ids_toolarge_values = set(max_values[max_values > 1e9].index)\n",
    "len(bad_ids_toolarge_values)"
   ]
  },
  {
   "cell_type": "code",
   "execution_count": 48,
   "id": "e12c67cd",
   "metadata": {},
   "outputs": [
    {
     "data": {
      "text/plain": [
       "46"
      ]
     },
     "execution_count": 48,
     "metadata": {},
     "output_type": "execute_result"
    }
   ],
   "source": [
    "mse_df['ref_compare_points'] = mse_df.media.map({'lowN' : 74, 'pro99': 58})\n",
    "bad_ids_missing_points = set(mse_df.loc[mse_df.ref_compare_points != mse_df.compare_points, 'idx' ])\n",
    "len(bad_ids_missing_points)"
   ]
  },
  {
   "cell_type": "code",
   "execution_count": null,
   "id": "2a591ae4",
   "metadata": {},
   "outputs": [],
   "source": []
  },
  {
   "cell_type": "code",
   "execution_count": 49,
   "id": "1c3d2a53",
   "metadata": {},
   "outputs": [
    {
     "data": {
      "text/plain": [
       "98"
      ]
     },
     "execution_count": 49,
     "metadata": {},
     "output_type": "execute_result"
    }
   ],
   "source": [
    "bad_ids = set(bad_ids_missing_points) | set(bad_ids_negative_values) | set(bad_ids_toolarge_values)\n",
    "len(bad_ids)"
   ]
  },
  {
   "cell_type": "code",
   "execution_count": 50,
   "id": "d25f0246",
   "metadata": {},
   "outputs": [],
   "source": [
    "sim_df = sim_df.loc[~sim_df['idx'].isin(bad_ids)]\n",
    "mse_df = mse_df.loc[~mse_df['idx'].isin(bad_ids)]\n",
    "sum_df = sum_df.loc[~sum_df['idx'].isin(bad_ids)]\n"
   ]
  },
  {
   "cell_type": "code",
   "execution_count": 51,
   "id": "91eb4b67",
   "metadata": {},
   "outputs": [],
   "source": [
    "sim_df.drop(columns=['id', 'media', 'which', 'model', 'hash'], inplace=True)\n",
    "mse_df.drop(columns=['id', 'media', 'which', 'model', 'hash'], inplace=True)\n",
    "sum_df.drop(columns=['id', 'media', 'which', 'model', 'hash'], inplace=True)\n"
   ]
  },
  {
   "cell_type": "code",
   "execution_count": 52,
   "id": "c9ef3c1d",
   "metadata": {},
   "outputs": [
    {
     "data": {
      "text/plain": [
       "Index(['Bp', 'Np', 'Cp', 'DON', 'RDON', 'DIN', 'DOC', 'RDOC', 'DIC', 'ROS',\n",
       "       't', 'day', 'gross_uptakeINp', 'gross_uptakeONp', 'gross_uptakeICp',\n",
       "       'gross_uptakeOCp', 'uptakeNp', 'uptakeCp', 'QCp', 'biosynthesisNp',\n",
       "       'respirationCp', 'biomass_breakdownCp', 'overflowNp', 'overflowCp',\n",
       "       'Bp[C]', 'Bptotal[N]', 'Bptotal[C]', 'run_id', 'idx'],\n",
       "      dtype='object')"
      ]
     },
     "execution_count": 52,
     "metadata": {},
     "output_type": "execute_result"
    }
   ],
   "source": [
    "sim_df.columns"
   ]
  },
  {
   "cell_type": "code",
   "execution_count": 53,
   "id": "8fc12bbd",
   "metadata": {},
   "outputs": [],
   "source": [
    "sim_df.to_csv(os.path.join(dpath,'monte_strong_ponly_clean_df.csv.gz',), index=False)\n",
    "mse_df.to_csv(os.path.join(dpath,'monte_strong_ponly_clean_mse.csv.gz',), index=False)\n",
    "sum_df.to_csv(os.path.join(dpath,'monte_strong_ponly_clean_sum.csv.gz',), index=False)\n"
   ]
  },
  {
   "cell_type": "markdown",
   "id": "b18c0dd6",
   "metadata": {},
   "source": [
    "# bug fix in overflow model"
   ]
  },
  {
   "cell_type": "code",
   "execution_count": 23,
   "id": "ae6c4779",
   "metadata": {},
   "outputs": [],
   "source": [
    "dpath = 'results'\n",
    "sim_df = pd.read_csv(os.path.join(dpath,'monte_ponly_fix_OVERFLOW_df.csv.gz',))\n",
    "mse_df = pd.read_csv(os.path.join(dpath,'monte_ponly_fix_OVERFLOW_mse.csv.gz',))\n",
    "sum_df = pd.read_csv(os.path.join(dpath,'monte_ponly_fix_OVERFLOW_sum.csv.gz',))\n",
    "\n",
    "# sim_df = pd.concat([\n",
    "#     sim_df1,\n",
    "#     sim_df2,\n",
    "# ])"
   ]
  },
  {
   "cell_type": "code",
   "execution_count": 24,
   "id": "401452e5",
   "metadata": {},
   "outputs": [],
   "source": [
    "sum_df[['id', 'media', 'which', 'model', 'hash']] = sum_df.run_id.str.rsplit('_', n=4, expand=True)\n",
    "mse_df[['id', 'media', 'which', 'model', 'hash']] = mse_df.run_id.str.rsplit('_', n=4, expand=True)\n",
    "sim_df[['id', 'media', 'which', 'model', 'hash']] = sim_df.run_id.str.rsplit('_', n=4, expand=True)\n",
    "\n",
    "sum_df['idx'] = sum_df['id'] + '_' + sum_df['model']\n",
    "mse_df['idx'] = mse_df['id'] + '_' + mse_df['model']\n",
    "sim_df['idx'] = sim_df['id'] + '_' + sim_df['model']"
   ]
  },
  {
   "cell_type": "code",
   "execution_count": 25,
   "id": "57125ec3",
   "metadata": {},
   "outputs": [
    {
     "data": {
      "text/plain": [
       "45"
      ]
     },
     "execution_count": 25,
     "metadata": {},
     "output_type": "execute_result"
    }
   ],
   "source": [
    "min_values = sim_df[var_names+['idx']].groupby('idx').min().min(axis=1)\n",
    "bad_ids_negative_values = set(min_values[min_values< -1e-9].index)\n",
    "len(bad_ids_negative_values)"
   ]
  },
  {
   "cell_type": "code",
   "execution_count": 26,
   "id": "aeb6435c",
   "metadata": {},
   "outputs": [
    {
     "data": {
      "text/plain": [
       "1"
      ]
     },
     "execution_count": 26,
     "metadata": {},
     "output_type": "execute_result"
    }
   ],
   "source": [
    "max_values = sim_df[var_names+['idx']].groupby('idx').max().max(axis=1)\n",
    "bad_ids_toolarge_values = set(max_values[max_values > 1e9].index)\n",
    "len(bad_ids_toolarge_values)"
   ]
  },
  {
   "cell_type": "code",
   "execution_count": 27,
   "id": "7a201427",
   "metadata": {},
   "outputs": [
    {
     "data": {
      "text/plain": [
       "22"
      ]
     },
     "execution_count": 27,
     "metadata": {},
     "output_type": "execute_result"
    }
   ],
   "source": [
    "mse_df['ref_compare_points'] = mse_df.media.map({'lowN' : 74, 'pro99': 58})\n",
    "bad_ids_missing_points = set(mse_df.loc[mse_df.ref_compare_points != mse_df.compare_points, 'idx' ])\n",
    "len(bad_ids_missing_points)"
   ]
  },
  {
   "cell_type": "code",
   "execution_count": null,
   "id": "aa7772b4",
   "metadata": {},
   "outputs": [],
   "source": []
  },
  {
   "cell_type": "code",
   "execution_count": 28,
   "id": "44a8e2d5",
   "metadata": {},
   "outputs": [
    {
     "data": {
      "text/plain": [
       "45"
      ]
     },
     "execution_count": 28,
     "metadata": {},
     "output_type": "execute_result"
    }
   ],
   "source": [
    "bad_ids = set(bad_ids_missing_points) | set(bad_ids_negative_values) | set(bad_ids_toolarge_values)\n",
    "len(bad_ids)"
   ]
  },
  {
   "cell_type": "code",
   "execution_count": 29,
   "id": "2aa1cf97",
   "metadata": {},
   "outputs": [],
   "source": [
    "sim_df = sim_df.loc[~sim_df['idx'].isin(bad_ids)]\n",
    "mse_df = mse_df.loc[~mse_df['idx'].isin(bad_ids)]\n",
    "sum_df = sum_df.loc[~sum_df['idx'].isin(bad_ids)]\n"
   ]
  },
  {
   "cell_type": "code",
   "execution_count": 30,
   "id": "34a36f93",
   "metadata": {},
   "outputs": [],
   "source": [
    "sim_df.drop(columns=['id', 'media', 'which', 'model', 'hash'], inplace=True)\n",
    "mse_df.drop(columns=['id', 'media', 'which', 'model', 'hash'], inplace=True)\n",
    "sum_df.drop(columns=['id', 'media', 'which', 'model', 'hash'], inplace=True)\n"
   ]
  },
  {
   "cell_type": "code",
   "execution_count": 31,
   "id": "70277d2b",
   "metadata": {},
   "outputs": [
    {
     "data": {
      "text/plain": [
       "Index(['Bp', 'Np', 'Cp', 'DON', 'RDON', 'DIN', 'DOC', 'RDOC', 'DIC', 'ROS',\n",
       "       't', 'day', 'gross_uptakeINp', 'gross_uptakeONp', 'gross_uptakeICp',\n",
       "       'gross_uptakeOCp', 'uptakeNp', 'uptakeCp', 'QCp', 'biosynthesisNp',\n",
       "       'respirationCp', 'biomass_breakdownCp', 'overflowNp', 'overflowCp',\n",
       "       'ROSproductionp', 'ROSlossp', 'deathbiomassNp', 'deathstoreNp',\n",
       "       'deathstoreCp', 'DON2DIN_exop', 'DON2DIN', 'additionalLossRatep',\n",
       "       'regNp', 'regCp', 'deathC_DOCp', 'deathN_DONp', 'Bp[C]', 'Bptotal[N]',\n",
       "       'Bptotal[C]', 'run_id', 'idx'],\n",
       "      dtype='object')"
      ]
     },
     "execution_count": 31,
     "metadata": {},
     "output_type": "execute_result"
    }
   ],
   "source": [
    "sim_df.columns"
   ]
  },
  {
   "cell_type": "code",
   "execution_count": 32,
   "id": "eb0c6aef",
   "metadata": {},
   "outputs": [],
   "source": [
    "sim_df.to_csv(os.path.join(dpath,'monte_ponly_fix_OVERFLOW_clean_df.csv.gz',), index=False)\n",
    "mse_df.to_csv(os.path.join(dpath,'monte_ponly_fix_OVERFLOW_clean_mse.csv.gz',), index=False)\n",
    "sum_df.to_csv(os.path.join(dpath,'monte_ponly_fix_OVERFLOW_clean_sum.csv.gz',), index=False)\n"
   ]
  },
  {
   "cell_type": "code",
   "execution_count": null,
   "id": "cc29a202",
   "metadata": {},
   "outputs": [],
   "source": []
  }
 ],
 "metadata": {
  "kernelspec": {
   "display_name": "Python 3 (ipykernel)",
   "language": "python",
   "name": "python3"
  },
  "language_info": {
   "codemirror_mode": {
    "name": "ipython",
    "version": 3
   },
   "file_extension": ".py",
   "mimetype": "text/x-python",
   "name": "python",
   "nbconvert_exporter": "python",
   "pygments_lexer": "ipython3",
   "version": "3.11.4"
  }
 },
 "nbformat": 4,
 "nbformat_minor": 5
}
