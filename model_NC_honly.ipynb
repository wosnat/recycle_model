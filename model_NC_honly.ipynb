{
 "cells": [
  {
   "cell_type": "code",
   "execution_count": 1,
   "id": "0b5df45e",
   "metadata": {},
   "outputs": [],
   "source": [
    "import numpy as np\n",
    "import pandas as pd\n",
    "import matplotlib.pyplot as plt\n",
    "import seaborn as sns\n",
    "import pprint\n",
    "sns.set(style=\"white\", context='poster')\n",
    "from sympy import *\n",
    "import math\n",
    "init_printing(use_unicode=True)\n",
    "from scipy.integrate import solve_ivp"
   ]
  },
  {
   "cell_type": "code",
   "execution_count": 2,
   "id": "4d435a10",
   "metadata": {},
   "outputs": [],
   "source": [
    "%load_ext autoreload\n",
    "%autoreload 2\n"
   ]
  },
  {
   "cell_type": "code",
   "execution_count": 3,
   "id": "047a0867",
   "metadata": {},
   "outputs": [],
   "source": [
    "from model_equations_separate_NC_sep_vmax import *"
   ]
  },
  {
   "cell_type": "code",
   "execution_count": 4,
   "id": "a83858b8",
   "metadata": {},
   "outputs": [
    {
     "data": {
      "image/png": "[encoded data removed]",
      "text/html": [
       "<svg  width=\"770\" height=\"55\"><rect x=\"0\" y=\"0\" width=\"55\" height=\"55\" style=\"fill:#99cc99;stroke-width:2;stroke:rgb(255,255,255)\"/><rect x=\"55\" y=\"0\" width=\"55\" height=\"55\" style=\"fill:#ffc58f;stroke-width:2;stroke:rgb(255,255,255)\"/><rect x=\"110\" y=\"0\" width=\"55\" height=\"55\" style=\"fill:#326232;stroke-width:2;stroke:rgb(255,255,255)\"/><rect x=\"165\" y=\"0\" width=\"55\" height=\"55\" style=\"fill:#ffa98f;stroke-width:2;stroke:rgb(255,255,255)\"/><rect x=\"220\" y=\"0\" width=\"55\" height=\"55\" style=\"fill:#7285b7;stroke-width:2;stroke:rgb(255,255,255)\"/><rect x=\"275\" y=\"0\" width=\"55\" height=\"55\" style=\"fill:#000000;stroke-width:2;stroke:rgb(255,255,255)\"/><rect x=\"330\" y=\"0\" width=\"55\" height=\"55\" style=\"fill:#bbdaff;stroke-width:2;stroke:rgb(255,255,255)\"/><rect x=\"385\" y=\"0\" width=\"55\" height=\"55\" style=\"fill:#99cc99;stroke-width:2;stroke:rgb(255,255,255)\"/><rect x=\"440\" y=\"0\" width=\"55\" height=\"55\" style=\"fill:#ffc58f;stroke-width:2;stroke:rgb(255,255,255)\"/><rect x=\"495\" y=\"0\" width=\"55\" height=\"55\" style=\"fill:#326232;stroke-width:2;stroke:rgb(255,255,255)\"/><rect x=\"550\" y=\"0\" width=\"55\" height=\"55\" style=\"fill:#ffa98f;stroke-width:2;stroke:rgb(255,255,255)\"/><rect x=\"605\" y=\"0\" width=\"55\" height=\"55\" style=\"fill:#cc6666;stroke-width:2;stroke:rgb(255,255,255)\"/><rect x=\"660\" y=\"0\" width=\"55\" height=\"55\" style=\"fill:#000000;stroke-width:2;stroke:rgb(255,255,255)\"/><rect x=\"715\" y=\"0\" width=\"55\" height=\"55\" style=\"fill:#ff9da4;stroke-width:2;stroke:rgb(255,255,255)\"/></svg>"
      ],
      "text/latex": [
       "$\\displaystyle \\left[ \\left( 0.6, \\  0.8, \\  0.6\\right), \\  \\left( 1.0, \\  0.772549019607843, \\  0.56078431372549\\right), \\  \\left( 0.196078431372549, \\  0.384313725490196, \\  0.196078431372549\\right), \\  \\left( 1.0, \\  0.662745098039216, \\  0.56078431372549\\right), \\  \\left( 0.447058823529412, \\  0.52156862745098, \\  0.717647058823529\\right), \\  \\left( 0.0, \\  0.0, \\  0.0\\right), \\  \\left( 0.733333333333333, \\  0.854901960784314, \\  1.0\\right), \\  \\left( 0.6, \\  0.8, \\  0.6\\right), \\  \\left( 1.0, \\  0.772549019607843, \\  0.56078431372549\\right), \\  \\left( 0.196078431372549, \\  0.384313725490196, \\  0.196078431372549\\right), \\  \\left( 1.0, \\  0.662745098039216, \\  0.56078431372549\\right), \\  \\left( 0.8, \\  0.4, \\  0.4\\right), \\  \\left( 0.0, \\  0.0, \\  0.0\\right), \\  \\left( 1.0, \\  0.615686274509804, \\  0.643137254901961\\right)\\right]$"
      ],
      "text/plain": [
       "[(0.6, 0.8, 0.6), (1.0, 0.7725490196078432, 0.5607843137254902), (0.1960784313\n",
       "7254902, 0.3843137254901961, 0.19607843137254902), (1.0, 0.6627450980392157, 0\n",
       ".5607843137254902), (0.4470588235294118, 0.5215686274509804, 0.717647058823529\n",
       "4), (0.0, 0.0, 0.0), (0.7333333333333333, 0.8549019607843137, 1.0), (0.6, 0.8,\n",
       " 0.6), (1.0, 0.7725490196078432, 0.5607843137254902), (0.19607843137254902, 0.\n",
       "3843137254901961, 0.19607843137254902), (1.0, 0.6627450980392157, 0.5607843137\n",
       "254902), (0.8, 0.4, 0.4), (0.0, 0.0, 0.0), (1.0, 0.615686274509804, 0.64313725\n",
       "49019608)]"
      ]
     },
     "execution_count": 4,
     "metadata": {},
     "output_type": "execute_result"
    }
   ],
   "source": [
    "\n",
    "HCOLOR = '#ffc58f'\n",
    "HCOLOR_light = '#ffd2a9'\n",
    "PCOLOR = '#99cc99'\n",
    "PCOLOR_light = '#aad5aa'\n",
    "\n",
    "DONCOLOR = '#7285b7'\n",
    "RDONCOLOR = 'black' #'#00334D'\n",
    "DINCOLOR = '#bbdaff' #'#000066'\n",
    "\n",
    "DOCCOLOR = '#cc6666'\n",
    "RDOCCOLOR = 'black' #'#00334D'\n",
    "DICCOLOR = '#ff9da4' #'#000066'\n",
    "\n",
    "SHCOLOR = '#ffa98f'\n",
    "SPCOLOR = '#326232'\n",
    "\n",
    "\n",
    "ccnpalette = [PCOLOR, HCOLOR, SPCOLOR, SHCOLOR,DONCOLOR, RDONCOLOR, DINCOLOR]\n",
    "ccnorder = ['Bp', 'Bh', 'ABp', 'ABh', 'DON', 'RDON', 'DIN', ]\n",
    "cccpalette = [PCOLOR, HCOLOR, SPCOLOR, SHCOLOR, DOCCOLOR, RDOCCOLOR, DICCOLOR]\n",
    "cccorder = ['Bp[C]', 'Bh[C]', 'ABp[C]', 'ABh[C]', 'DOC', 'RDOC', 'DIC']\n",
    "ccxpalette = [PCOLOR, HCOLOR]\n",
    "ccxorder = ['Xp', 'Xh']\n",
    "hnpalette = [ HCOLOR_light, SPCOLOR, SHCOLOR, DONCOLOR, RDONCOLOR, DINCOLOR]\n",
    "hnorder = [ 'Bh', 'ABp', 'ABh', 'DON', 'RDON', 'DIN']\n",
    "hcpalette = [ HCOLOR_light, SPCOLOR, SHCOLOR, DOCCOLOR, RDOCCOLOR, DICCOLOR]\n",
    "hcorder = [ 'Bh[C]', 'ABp[C]', 'ABh[C]', 'DOC', 'RDOC', 'DIC']\n",
    "pnpalette = [ PCOLOR_light, SPCOLOR, SHCOLOR, DONCOLOR, RDONCOLOR, DINCOLOR]\n",
    "pnorder = [ 'Bp', 'ABp', 'ABh', 'DON', 'RDON', 'DIN']\n",
    "pcpalette = [ PCOLOR_light, SPCOLOR, SHCOLOR, DOCCOLOR, RDOCCOLOR, DICCOLOR]\n",
    "pcorder = [ 'Bp[C]', 'ABp[C]', 'ABh[C]', 'DOC', 'RDOC', 'DIC']\n",
    "sns.color_palette(ccnpalette + cccpalette, )\n",
    "# \n"
   ]
  },
  {
   "cell_type": "code",
   "execution_count": 5,
   "id": "0f714019",
   "metadata": {},
   "outputs": [],
   "source": [
    "refdf = pd.read_csv('prelim_bottle.csv')\n"
   ]
  },
  {
   "cell_type": "code",
   "execution_count": 6,
   "id": "4242de6b",
   "metadata": {},
   "outputs": [
    {
     "name": "stdout",
     "output_type": "stream",
     "text": [
      "Mh  = 1.16e-06, 1.00e-01\n",
      "Mp  = 1.16e-06, 1.00e-01\n",
      "gammaDp  = 6.00e-01, 5.18e+04\n",
      "gammaDh  = 6.00e-01, 5.18e+04\n",
      "Rp  = 7.00e+00, 6.05e+05\n",
      "Rh  = 4.50e+00, 3.89e+05\n",
      "EOp  = 1.16e-06, 1.00e-01\n",
      "EIp  = 0.00e+00, 0.00e+00\n",
      "EOh  = 1.16e-06, 1.00e-01\n",
      "EIh  = 0.00e+00, 0.00e+00\n",
      "KONp  = 1.43e-01, 1.23e+04\n",
      "KINp  = 1.43e-01, 1.23e+04\n",
      "KOCp  = 1.43e-01, 1.23e+04\n",
      "KICp  = 1.43e-01, 1.23e+04\n",
      "KONh  = 2.50e-01, 2.16e+04\n",
      "KINh  = 2.50e-01, 2.16e+04\n",
      "KOCh  = 2.50e-01, 2.16e+04\n",
      "KICh  = 2.50e-01, 2.16e+04\n",
      "VmaxONp  = 1.62e-06, 1.40e-01\n",
      "VmaxINp  = 8.10e-06, 7.00e-01\n",
      "VmaxOCp  = 1.13e-05, 9.80e-01\n",
      "VmaxICp  = 5.67e-05, 4.90e+00\n",
      "VmaxONh  = 1.50e-05, 1.30e+00\n",
      "VmaxINh  = 1.50e-05, 1.30e+00\n",
      "VmaxOCh  = 6.77e-05, 5.85e+00\n",
      "VmaxICh  = 0.00e+00, 0.00e+00\n",
      "Oh  = 1.00e+00, 8.64e+04\n",
      "Op  = 1.00e+00, 8.64e+04\n",
      "E_ROSp  = 6.48e-07, 5.60e-02\n",
      "E_ROSh  = 4.05e-07, 3.50e-02\n",
      "VmaxROSh  = 7.70e-06, 6.65e-01\n",
      "K_ROSh  = 2.50e-01, 2.16e+04\n",
      "omegaP  = 1.00e-02, 8.64e+02\n",
      "omegaH  = 1.00e-05, 8.64e-01\n",
      "ROS_decay  = 1.16e-07, 1.00e-02\n",
      "KABp  = 1.43e-01, 1.23e+04\n",
      "KABh  = 1.43e-01, 1.23e+04\n",
      "EABp  = 6.48e-17, 5.60e-12\n",
      "EABh  = 4.05e-17, 3.50e-12\n",
      "decayABh  = 1.16e-07, 1.00e-02\n",
      "decayABp  = 1.16e-07, 1.00e-02\n",
      "MABp  = 1.16e-07, 1.00e-02\n",
      "MABh  = 1.16e-07, 1.00e-02\n",
      "r0p  = 2.08e-06, 1.80e-01\n",
      "r0h  = 2.08e-06, 1.80e-01\n",
      "bp  = 1.00e-02, 8.64e+02\n",
      "bh  = 1.00e-02, 8.64e+02\n"
     ]
    }
   ],
   "source": [
    "print_params()"
   ]
  },
  {
   "cell_type": "code",
   "execution_count": 7,
   "id": "2e414e17",
   "metadata": {},
   "outputs": [
    {
     "data": {
      "image/png": "[encoded data removed]",
      "text/latex": [
       "$\\displaystyle \\left( 0.523598775598299, \\  4.18879020478639, \\  0.648229926406612, \\  2.61095488843198, \\  1.78571428571429 \\cdot 10^{-9}, \\  2.85714285714286 \\cdot 10^{-9}\\right)$"
      ],
      "text/plain": [
       "(0.5235987755982988, 4.1887902047863905, 0.6482299264066116, 2.610954888431983\n",
       "5, 1.785714285714286e-09, 2.857142857142857e-09)"
      ]
     },
     "execution_count": 7,
     "metadata": {},
     "output_type": "execute_result"
    }
   ],
   "source": [
    "pro_vol, alt_vol, pro_vol**0.67, alt_vol**0.67, Qp, Qh"
   ]
  },
  {
   "cell_type": "code",
   "execution_count": 8,
   "id": "ad1b5f2e",
   "metadata": {},
   "outputs": [],
   "source": [
    "var_names, init_vars, calc_dydt, interm_names, intermediate_func = get_honly_data(param_vals)"
   ]
  },
  {
   "cell_type": "code",
   "execution_count": 9,
   "id": "c2dd65a1",
   "metadata": {},
   "outputs": [
    {
     "name": "stdout",
     "output_type": "stream",
     "text": [
      "dBh/dt = 2.99e-04, init Bh = 2.86e+01, newval = 2.86e+01\n",
      "dDON/dt = 5.26e-05, init DON = 2.00e+01, newval = 2.00e+01\n",
      "dRDON/dt = 1.32e-05, init RDON = 0.00e+00, newval = 1.32e-05\n",
      "dDIN/dt = -3.65e-04, init DIN = 1.00e+02, newval = 1.00e+02\n",
      "dDOC/dt = -1.69e-03, init DOC = 1.32e+02, newval = 1.32e+02\n",
      "dRDOC/dt = 5.95e-05, init RDOC = 0.00e+00, newval = 5.95e-05\n",
      "dDIC/dt = 2.87e-04, init DIC = 2.24e+03, newval = 2.24e+03\n",
      "dROS/dt = -8.61e-05, init ROS = 2.00e-01, newval = 2.00e-01\n",
      "dABp/dt = 0.00e+00, init ABp = 0.00e+00, newval = 0.00e+00\n",
      "dABh/dt = 1.16e-15, init ABh = 0.00e+00, newval = 1.16e-15\n"
     ]
    }
   ],
   "source": [
    "print_dydt0(calc_dydt, var_names, init_vars)\n"
   ]
  },
  {
   "cell_type": "code",
   "execution_count": 10,
   "id": "b33ba069",
   "metadata": {},
   "outputs": [
    {
     "name": "stdout",
     "output_type": "stream",
     "text": [
      "Xh   = 1.00e+10\n",
      "limINh = 9.98e-01\n",
      "limONh = 9.88e-01\n",
      "limICh = 1.00e+00\n",
      "limOCh = 9.98e-01\n",
      "gross_uptakeINh = 4.29e-04\n",
      "gross_uptakeONh = 4.25e-04\n",
      "gross_uptakeICh = 0.00e+00\n",
      "gross_uptakeOCh = 1.93e-03\n",
      "net_uptakeNh = 4.29e-04\n",
      "overflowNh = 4.24e-04\n",
      "overflowCh = -1.30e-18\n",
      "deathh = 3.31e-05\n",
      "leakinessOh = 3.31e-05\n",
      "leakinessIh = 0.00e+00\n",
      "ROSbreakdownh = 9.77e-05\n",
      "respirationh = 6.38e-05\n",
      "dic_air_water_exchange = -9.11e-18\n"
     ]
    }
   ],
   "source": [
    "print_intermediate0(intermediate_func, interm_names, init_vars)\n"
   ]
  },
  {
   "cell_type": "code",
   "execution_count": 11,
   "id": "8e758d7e",
   "metadata": {},
   "outputs": [
    {
     "name": "stdout",
     "output_type": "stream",
     "text": [
      "dBh/dt + dDON/dt + dRDON/dt + dDIN/dt = -1.1574400292369003e-15\n"
     ]
    }
   ],
   "source": [
    "biomass_diff0_honly(calc_dydt, var_names,init_vars)\n"
   ]
  },
  {
   "cell_type": "code",
   "execution_count": 12,
   "id": "e6a7da6f",
   "metadata": {},
   "outputs": [
    {
     "data": {
      "image/png": "[encoded data removed]",
      "text/latex": [
       "$\\displaystyle \\left[ 28.5714285714286, \\  20, \\  0, \\  100, \\  132.5, \\  0, \\  2241.55230120776, \\  0.2, \\  0, \\  0\\right]$"
      ],
      "text/plain": [
       "[28.571428571428573, 20, 0, 100, 132.5, 0, 2241.552301207755, 0.2, 0, 0]"
      ]
     },
     "execution_count": 12,
     "metadata": {},
     "output_type": "execute_result"
    }
   ],
   "source": [
    "init_vars"
   ]
  },
  {
   "cell_type": "code",
   "execution_count": 13,
   "id": "74e3defb",
   "metadata": {},
   "outputs": [
    {
     "data": {
      "text/plain": [
       "['Bh', 'DON', 'RDON', 'DIN', 'DOC', 'RDOC', 'DIC', 'ROS', 'ABp', 'ABh']"
      ]
     },
     "execution_count": 13,
     "metadata": {},
     "output_type": "execute_result"
    }
   ],
   "source": [
    "var_names"
   ]
  },
  {
   "cell_type": "code",
   "execution_count": 14,
   "id": "e828643a",
   "metadata": {},
   "outputs": [
    {
     "name": "stdout",
     "output_type": "stream",
     "text": [
      "simulation time 16.734375\n"
     ]
    }
   ],
   "source": [
    "sol = run_solver(calc_dydt, init_vars, days=140, t_eval=get_t_eval(maxday=140, step = 3600*4, ref_times = refdf['t']))\n",
    "#sol = run_solver(calc_dydt, init_vars)"
   ]
  },
  {
   "cell_type": "code",
   "execution_count": 15,
   "id": "1bf62af1",
   "metadata": {},
   "outputs": [
    {
     "ename": "TypeError",
     "evalue": "solver2df() missing 1 required positional argument: 'param_vals'",
     "output_type": "error",
     "traceback": [
      "\u001b[1;31m---------------------------------------------------------------------------\u001b[0m",
      "\u001b[1;31mTypeError\u001b[0m                                 Traceback (most recent call last)",
      "Input \u001b[1;32mIn [15]\u001b[0m, in \u001b[0;36m<cell line: 1>\u001b[1;34m()\u001b[0m\n\u001b[1;32m----> 1\u001b[0m df, mdf \u001b[38;5;241m=\u001b[39m \u001b[43msolver2df\u001b[49m\u001b[43m(\u001b[49m\u001b[43msol\u001b[49m\u001b[43m,\u001b[49m\u001b[43m \u001b[49m\u001b[43mvar_names\u001b[49m\u001b[43m,\u001b[49m\u001b[43m \u001b[49m\u001b[43minterm_names\u001b[49m\u001b[43m,\u001b[49m\u001b[43m \u001b[49m\u001b[43mintermediate_func\u001b[49m\u001b[43m)\u001b[49m\n",
      "\u001b[1;31mTypeError\u001b[0m: solver2df() missing 1 required positional argument: 'param_vals'"
     ]
    }
   ],
   "source": [
    "df, mdf = solver2df(sol, var_names, interm_names, intermediate_func)"
   ]
  },
  {
   "cell_type": "code",
   "execution_count": null,
   "id": "9e243435",
   "metadata": {},
   "outputs": [],
   "source": [
    "df.head()"
   ]
  },
  {
   "cell_type": "code",
   "execution_count": null,
   "id": "d3c767da",
   "metadata": {},
   "outputs": [],
   "source": [
    "sns.relplot(data=mdf, x='day', y='value', hue='variable',\n",
    "            kind='line', \n",
    "            col='variable', col_wrap=6, facet_kws=dict(sharey=False),\n",
    "            legend=False,\n",
    "           ).set_titles(row_template = '{row_name}', col_template = '{col_name}')"
   ]
  },
  {
   "cell_type": "code",
   "execution_count": null,
   "id": "4edb115a",
   "metadata": {},
   "outputs": [],
   "source": [
    "refdf.columns"
   ]
  },
  {
   "cell_type": "code",
   "execution_count": null,
   "id": "da1f9fce",
   "metadata": {
    "scrolled": false
   },
   "outputs": [],
   "source": [
    "g = sns.relplot(data=mdf.loc[mdf.variable.isin(hnorder)], \n",
    "            x='day', y='value', hue='variable',\n",
    "            kind='line', \n",
    "            lw=5 , legend=False,\n",
    "            palette=hnpalette, hue_order=hnorder,\n",
    "           ).set(ylabel='umol/l')\n",
    "sns.scatterplot(data=refdf, x='day', y='Bh[N]', ax=g.ax, s=100, legend=False, color=HCOLOR_light, marker='P')\n",
    "\n",
    "g = sns.relplot(data=mdf.loc[mdf.variable.isin(hcorder)], \n",
    "            x='day', y='value', hue='variable',\n",
    "            kind='line', \n",
    "            lw=5, legend=False,\n",
    "            palette=hcpalette, hue_order=hcorder,\n",
    "           ).set(ylabel='umol/l')\n",
    "sns.scatterplot(data=refdf, x='day', y='Bh[C]', ax=g.ax, s=100, legend=False, color=HCOLOR_light, marker='P')\n",
    "\n",
    "g = sns.relplot(data=mdf.loc[mdf.variable.isin(['Xh'])], \n",
    "            x='day', y='value', hue='variable',\n",
    "            kind='line', \n",
    "            lw=5, legend=False,\n",
    "            palette=[HCOLOR_light], \n",
    "           ).set(ylabel='cells/l')\n",
    "#sns.scatterplot(data=refdf, x='day', y='cc mit9312', ax=g.ax, s=100, legend=False, color=PCOLOR)\n",
    "sns.scatterplot(data=refdf, x='day', y='1A3', ax=g.ax, s=100, legend=False, color=HCOLOR_light, marker='P')\n"
   ]
  },
  {
   "cell_type": "code",
   "execution_count": null,
   "id": "32df5872",
   "metadata": {
    "scrolled": false
   },
   "outputs": [],
   "source": [
    "sns.relplot(data=mdf.loc[mdf.variable.isin(hnorder)], \n",
    "            x='day', y='value', hue='variable',\n",
    "            kind='line', \n",
    "            lw=5,\n",
    "            palette=hnpalette, hue_order=hnorder, legend=False,\n",
    "           ).set(ylabel='umol/l', yscale='log', ylim=(1e-1,4e2))\n",
    "\n",
    "sns.relplot(data=mdf.loc[mdf.variable.isin(hcorder)], \n",
    "            x='day', y='value', hue='variable',\n",
    "            kind='line', \n",
    "            lw=5,\n",
    "            palette=hcpalette, hue_order=hcorder, legend=False,\n",
    "           ).set(ylabel='umol/l', yscale='log', ylim=(1e-1,1e4))\n",
    "\n",
    "g = sns.relplot(data=mdf.loc[mdf.variable.isin(['Xh'])], \n",
    "            x='day', y='value', hue='variable',\n",
    "            kind='line', \n",
    "            lw=5, legend=False,\n",
    "            palette=[HCOLOR_light], \n",
    "           ).set(ylabel='cells/l', yscale='log')\n",
    "#sns.scatterplot(data=refdf, x='day', y='cc mit9312', ax=g.ax, s=100, legend=False, color=PCOLOR)\n",
    "sns.scatterplot(data=refdf, x='day', y='1A3', ax=g.ax, s=100, legend=False,color=HCOLOR_light, marker='P')\n"
   ]
  },
  {
   "cell_type": "code",
   "execution_count": null,
   "id": "6b31c770",
   "metadata": {},
   "outputs": [],
   "source": [
    "from matplotlib.colors import LinearSegmentedColormap\n",
    "df[hnorder+ ['day']].plot.area(x='day', \n",
    "                                colormap=LinearSegmentedColormap.from_list(\"\", hnpalette) \n",
    "                               )\n",
    "plt.legend(loc='upper right', bbox_to_anchor =(1.5,1))\n",
    "plt.show()\n",
    "df[hcorder+ ['day']].plot.area(x='day', \n",
    "                                colormap=LinearSegmentedColormap.from_list(\"\", hcpalette) \n",
    "                               )\n",
    "plt.legend(loc='upper right', bbox_to_anchor =(1.5,1))\n",
    "plt.show()"
   ]
  },
  {
   "cell_type": "code",
   "execution_count": null,
   "id": "a84dff55",
   "metadata": {},
   "outputs": [],
   "source": [
    "len(param_vals)"
   ]
  },
  {
   "cell_type": "code",
   "execution_count": null,
   "id": "833bf766",
   "metadata": {},
   "outputs": [],
   "source": [
    "df.min()"
   ]
  },
  {
   "cell_type": "code",
   "execution_count": null,
   "id": "1a9f4bc3",
   "metadata": {},
   "outputs": [],
   "source": [
    "dir(sol)"
   ]
  },
  {
   "cell_type": "code",
   "execution_count": null,
   "id": "7dddb36d",
   "metadata": {},
   "outputs": [],
   "source": []
  }
 ],
 "metadata": {
  "kernelspec": {
   "display_name": "Python 3 (ipykernel)",
   "language": "python",
   "name": "python3"
  },
  "language_info": {
   "codemirror_mode": {
    "name": "ipython",
    "version": 3
   },
   "file_extension": ".py",
   "mimetype": "text/x-python",
   "name": "python",
   "nbconvert_exporter": "python",
   "pygments_lexer": "ipython3",
   "version": "3.9.12"
  }
 },
 "nbformat": 4,
 "nbformat_minor": 5
}
