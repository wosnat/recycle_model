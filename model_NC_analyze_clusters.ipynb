{
 "cells": [
  {
   "cell_type": "code",
   "execution_count": 1,
   "id": "0b5df45e",
   "metadata": {},
   "outputs": [],
   "source": [
    "import numpy as np\n",
    "import pandas as pd\n",
    "import matplotlib.pyplot as plt\n",
    "import seaborn as sns\n",
    "import pprint\n",
    "sns.set(style=\"white\", context='poster')\n",
    "from sympy import *\n",
    "import math\n",
    "init_printing(use_unicode=True)\n",
    "from scipy.integrate import solve_ivp"
   ]
  },
  {
   "cell_type": "code",
   "execution_count": 2,
   "id": "4d435a10",
   "metadata": {},
   "outputs": [],
   "source": [
    "%load_ext autoreload\n",
    "%autoreload 2\n"
   ]
  },
  {
   "cell_type": "code",
   "execution_count": 3,
   "id": "047a0867",
   "metadata": {},
   "outputs": [],
   "source": [
    "from model_equations_separate_NC_sep_vmax import *"
   ]
  },
  {
   "cell_type": "code",
   "execution_count": 4,
   "id": "3bcd38d1",
   "metadata": {},
   "outputs": [],
   "source": [
    "import run_sensitivity"
   ]
  },
  {
   "cell_type": "raw",
   "id": "808e4e0f",
   "metadata": {},
   "source": [
    "import results_postprocess"
   ]
  },
  {
   "cell_type": "raw",
   "id": "5af7ae1e",
   "metadata": {},
   "source": [
    "dpath = r'C:\\Users\\wosnat\\OneDrive - University of Haifa\\Documents\\results\\recycle_model\\res\\de1'\n",
    "results_postprocess.concat_csvs(\n",
    "    [dpath], \n",
    "    r'C:\\Users\\wosnat\\OneDrive - University of Haifa\\Documents\\results\\recycle_model\\res',\n",
    "    'differential_evolution_1'\n",
    ")"
   ]
  },
  {
   "cell_type": "code",
   "execution_count": 5,
   "id": "a83858b8",
   "metadata": {},
   "outputs": [
    {
     "data": {
      "image/png": "[encoded data removed]",
      "text/html": [
       "<svg  width=\"770\" height=\"55\"><rect x=\"0\" y=\"0\" width=\"55\" height=\"55\" style=\"fill:#7285b7;stroke-width:2;stroke:rgb(255,255,255)\"/><rect x=\"55\" y=\"0\" width=\"55\" height=\"55\" style=\"fill:#000000;stroke-width:2;stroke:rgb(255,255,255)\"/><rect x=\"110\" y=\"0\" width=\"55\" height=\"55\" style=\"fill:#bbdaff;stroke-width:2;stroke:rgb(255,255,255)\"/><rect x=\"165\" y=\"0\" width=\"55\" height=\"55\" style=\"fill:#326232;stroke-width:2;stroke:rgb(255,255,255)\"/><rect x=\"220\" y=\"0\" width=\"55\" height=\"55\" style=\"fill:#ffa98f;stroke-width:2;stroke:rgb(255,255,255)\"/><rect x=\"275\" y=\"0\" width=\"55\" height=\"55\" style=\"fill:#99cc99;stroke-width:2;stroke:rgb(255,255,255)\"/><rect x=\"330\" y=\"0\" width=\"55\" height=\"55\" style=\"fill:#ffc58f;stroke-width:2;stroke:rgb(255,255,255)\"/><rect x=\"385\" y=\"0\" width=\"55\" height=\"55\" style=\"fill:#326232;stroke-width:2;stroke:rgb(255,255,255)\"/><rect x=\"440\" y=\"0\" width=\"55\" height=\"55\" style=\"fill:#ffa98f;stroke-width:2;stroke:rgb(255,255,255)\"/><rect x=\"495\" y=\"0\" width=\"55\" height=\"55\" style=\"fill:#cc6666;stroke-width:2;stroke:rgb(255,255,255)\"/><rect x=\"550\" y=\"0\" width=\"55\" height=\"55\" style=\"fill:#000000;stroke-width:2;stroke:rgb(255,255,255)\"/><rect x=\"605\" y=\"0\" width=\"55\" height=\"55\" style=\"fill:#ff9da4;stroke-width:2;stroke:rgb(255,255,255)\"/><rect x=\"660\" y=\"0\" width=\"55\" height=\"55\" style=\"fill:#99cc99;stroke-width:2;stroke:rgb(255,255,255)\"/><rect x=\"715\" y=\"0\" width=\"55\" height=\"55\" style=\"fill:#ffc58f;stroke-width:2;stroke:rgb(255,255,255)\"/></svg>"
      ],
      "text/latex": [
       "$\\displaystyle \\left[ \\left( 0.4470588235294118, \\  0.5215686274509804, \\  0.7176470588235294\\right), \\  \\left( 0.0, \\  0.0, \\  0.0\\right), \\  \\left( 0.7333333333333333, \\  0.8549019607843137, \\  1.0\\right), \\  \\left( 0.19607843137254902, \\  0.3843137254901961, \\  0.19607843137254902\\right), \\  \\left( 1.0, \\  0.6627450980392157, \\  0.5607843137254902\\right), \\  \\left( 0.6, \\  0.8, \\  0.6\\right), \\  \\left( 1.0, \\  0.7725490196078432, \\  0.5607843137254902\\right), \\  \\left( 0.19607843137254902, \\  0.3843137254901961, \\  0.19607843137254902\\right), \\  \\left( 1.0, \\  0.6627450980392157, \\  0.5607843137254902\\right), \\  \\left( 0.8, \\  0.4, \\  0.4\\right), \\  \\left( 0.0, \\  0.0, \\  0.0\\right), \\  \\left( 1.0, \\  0.615686274509804, \\  0.6431372549019608\\right), \\  \\left( 0.6, \\  0.8, \\  0.6\\right), \\  \\left( 1.0, \\  0.7725490196078432, \\  0.5607843137254902\\right)\\right]$"
      ],
      "text/plain": [
       "[(0.4470588235294118, 0.5215686274509804, 0.7176470588235294), (0.0, 0.0, 0.0)\n",
       ", (0.7333333333333333, 0.8549019607843137, 1.0), (0.19607843137254902, 0.38431\n",
       "37254901961, 0.19607843137254902), (1.0, 0.6627450980392157, 0.560784313725490\n",
       "2), (0.6, 0.8, 0.6), (1.0, 0.7725490196078432, 0.5607843137254902), (0.1960784\n",
       "3137254902, 0.3843137254901961, 0.19607843137254902), (1.0, 0.6627450980392157\n",
       ", 0.5607843137254902), (0.8, 0.4, 0.4), (0.0, 0.0, 0.0), (1.0, 0.6156862745098\n",
       "04, 0.6431372549019608), (0.6, 0.8, 0.6), (1.0, 0.7725490196078432, 0.56078431\n",
       "37254902)]"
      ]
     },
     "execution_count": 5,
     "metadata": {},
     "output_type": "execute_result"
    }
   ],
   "source": [
    "\n",
    "HCOLOR = '#ffc58f'\n",
    "HCOLOR_light = '#ffd2a9'\n",
    "PCOLOR = '#99cc99'\n",
    "PCOLOR_light = '#aad5aa'\n",
    "\n",
    "DONCOLOR = '#7285b7'\n",
    "RDONCOLOR = 'black' #'#00334D'\n",
    "DINCOLOR = '#bbdaff' #'#000066'\n",
    "\n",
    "DOCCOLOR = '#cc6666'\n",
    "RDOCCOLOR = 'black' #'#00334D'\n",
    "DICCOLOR = '#ff9da4' #'#000066'\n",
    "\n",
    "SHCOLOR = '#ffa98f'\n",
    "SPCOLOR = '#326232'\n",
    "\n",
    "\n",
    "ccnpalette = [DONCOLOR, RDONCOLOR, DINCOLOR,SPCOLOR, SHCOLOR,PCOLOR, HCOLOR, ]\n",
    "ccnorder = ['DON', 'RDON', 'DIN', 'Sp', 'Sh', 'Bp', 'Bh', ]\n",
    "cccpalette = [ SPCOLOR, SHCOLOR, DOCCOLOR, RDOCCOLOR, DICCOLOR, PCOLOR, HCOLOR,]\n",
    "cccorder = ['Sp[C]', 'Sh[C]', 'DOC', 'RDOC', 'DIC', 'Bp[C]', 'Bh[C]', ]\n",
    "ccxpalette = [PCOLOR, HCOLOR]\n",
    "ccxorder = ['Xp', 'Xh']\n",
    "hnpalette = [ HCOLOR_light, SPCOLOR, SHCOLOR, DONCOLOR, RDONCOLOR, DINCOLOR]\n",
    "hnorder = [ 'Bh', 'Sp', 'Sh', 'DON', 'RDON', 'DIN']\n",
    "hcpalette = [ HCOLOR_light, SPCOLOR, SHCOLOR, DOCCOLOR, RDOCCOLOR, DICCOLOR]\n",
    "hcorder = [ 'Bh[C]', 'Sp[C]', 'Sh[C]', 'DOC', 'RDOC', 'DIC']\n",
    "pnpalette = [ PCOLOR_light, SPCOLOR, SHCOLOR, DONCOLOR, RDONCOLOR, DINCOLOR]\n",
    "pnorder = [ 'Bp', 'Sp', 'Sh', 'DON', 'RDON', 'DIN']\n",
    "pcpalette = [ PCOLOR_light, SPCOLOR, SHCOLOR, DOCCOLOR, RDOCCOLOR, DICCOLOR]\n",
    "pcorder = [ 'Bp[C]', 'Sp[C]', 'Sh[C]', 'DOC', 'RDOC', 'DIC']\n",
    "sns.color_palette(ccnpalette + cccpalette, )\n",
    "# \n"
   ]
  },
  {
   "cell_type": "code",
   "execution_count": 6,
   "id": "0f714019",
   "metadata": {},
   "outputs": [],
   "source": [
    "refdf = pd.read_csv('prelim_bottle.csv')\n"
   ]
  },
  {
   "cell_type": "code",
   "execution_count": 8,
   "id": "4242de6b",
   "metadata": {},
   "outputs": [],
   "source": [
    "dpath = r'C:\\Users\\wosnat\\OneDrive - University of Haifa\\Documents\\results\\recycle_model'\n",
    "df = pd.read_csv(os.path.join(dpath,'cluster_assignment.csv.gz' )) \n"
   ]
  },
  {
   "cell_type": "code",
   "execution_count": 9,
   "id": "7078d185",
   "metadata": {},
   "outputs": [
    {
     "data": {
      "text/html": [
       "<div>\n",
       "<style scoped>\n",
       "    .dataframe tbody tr th:only-of-type {\n",
       "        vertical-align: middle;\n",
       "    }\n",
       "\n",
       "    .dataframe tbody tr th {\n",
       "        vertical-align: top;\n",
       "    }\n",
       "\n",
       "    .dataframe thead th {\n",
       "        text-align: right;\n",
       "    }\n",
       "</style>\n",
       "<table border=\"1\" class=\"dataframe\">\n",
       "  <thead>\n",
       "    <tr style=\"text-align: right;\">\n",
       "      <th></th>\n",
       "      <th>Unnamed: 0</th>\n",
       "      <th>Unnamed: 0.1</th>\n",
       "      <th>M_h</th>\n",
       "      <th>M_p</th>\n",
       "      <th>gamma^D_p</th>\n",
       "      <th>gamma^D_h</th>\n",
       "      <th>R_p</th>\n",
       "      <th>R_h</th>\n",
       "      <th>E^O_p</th>\n",
       "      <th>E^I_p</th>\n",
       "      <th>...</th>\n",
       "      <th>logerror</th>\n",
       "      <th>message</th>\n",
       "      <th>type</th>\n",
       "      <th>max_nonzero_day</th>\n",
       "      <th>negative</th>\n",
       "      <th>zero</th>\n",
       "      <th>cluster</th>\n",
       "      <th>cluster2</th>\n",
       "      <th>UMAP1</th>\n",
       "      <th>UMAP2</th>\n",
       "    </tr>\n",
       "  </thead>\n",
       "  <tbody>\n",
       "    <tr>\n",
       "      <th>0</th>\n",
       "      <td>0</td>\n",
       "      <td>0</td>\n",
       "      <td>4.502398e-06</td>\n",
       "      <td>3.996791e-06</td>\n",
       "      <td>0.365975</td>\n",
       "      <td>0.070244</td>\n",
       "      <td>6.625</td>\n",
       "      <td>6.625</td>\n",
       "      <td>0.000009</td>\n",
       "      <td>0.000010</td>\n",
       "      <td>...</td>\n",
       "      <td>8.631307</td>\n",
       "      <td>NaN</td>\n",
       "      <td>de3</td>\n",
       "      <td>8.779167</td>\n",
       "      <td>False</td>\n",
       "      <td>False</td>\n",
       "      <td>5.0</td>\n",
       "      <td>5.0</td>\n",
       "      <td>8.551019</td>\n",
       "      <td>14.969038</td>\n",
       "    </tr>\n",
       "    <tr>\n",
       "      <th>1</th>\n",
       "      <td>1</td>\n",
       "      <td>0</td>\n",
       "      <td>4.001982e-06</td>\n",
       "      <td>7.086781e-06</td>\n",
       "      <td>0.040492</td>\n",
       "      <td>0.911524</td>\n",
       "      <td>6.625</td>\n",
       "      <td>6.625</td>\n",
       "      <td>0.000003</td>\n",
       "      <td>0.000001</td>\n",
       "      <td>...</td>\n",
       "      <td>8.619667</td>\n",
       "      <td>NaN</td>\n",
       "      <td>de3</td>\n",
       "      <td>25.720139</td>\n",
       "      <td>False</td>\n",
       "      <td>False</td>\n",
       "      <td>5.0</td>\n",
       "      <td>5.0</td>\n",
       "      <td>9.525745</td>\n",
       "      <td>11.655981</td>\n",
       "    </tr>\n",
       "    <tr>\n",
       "      <th>2</th>\n",
       "      <td>2</td>\n",
       "      <td>0</td>\n",
       "      <td>5.660195e-06</td>\n",
       "      <td>1.106181e-05</td>\n",
       "      <td>0.701770</td>\n",
       "      <td>0.569487</td>\n",
       "      <td>6.625</td>\n",
       "      <td>6.625</td>\n",
       "      <td>0.000004</td>\n",
       "      <td>0.000007</td>\n",
       "      <td>...</td>\n",
       "      <td>8.618590</td>\n",
       "      <td>NaN</td>\n",
       "      <td>de3</td>\n",
       "      <td>22.753472</td>\n",
       "      <td>False</td>\n",
       "      <td>False</td>\n",
       "      <td>-1.0</td>\n",
       "      <td>7.0</td>\n",
       "      <td>0.573815</td>\n",
       "      <td>11.419992</td>\n",
       "    </tr>\n",
       "    <tr>\n",
       "      <th>3</th>\n",
       "      <td>3</td>\n",
       "      <td>0</td>\n",
       "      <td>7.570845e-06</td>\n",
       "      <td>9.444341e-06</td>\n",
       "      <td>0.079173</td>\n",
       "      <td>0.384086</td>\n",
       "      <td>6.625</td>\n",
       "      <td>6.625</td>\n",
       "      <td>0.000007</td>\n",
       "      <td>0.000001</td>\n",
       "      <td>...</td>\n",
       "      <td>8.635134</td>\n",
       "      <td>NaN</td>\n",
       "      <td>de3</td>\n",
       "      <td>8.779167</td>\n",
       "      <td>False</td>\n",
       "      <td>False</td>\n",
       "      <td>-1.0</td>\n",
       "      <td>7.0</td>\n",
       "      <td>-1.609419</td>\n",
       "      <td>9.430687</td>\n",
       "    </tr>\n",
       "    <tr>\n",
       "      <th>4</th>\n",
       "      <td>4</td>\n",
       "      <td>0</td>\n",
       "      <td>6.165933e-07</td>\n",
       "      <td>1.176978e-08</td>\n",
       "      <td>0.201885</td>\n",
       "      <td>0.221401</td>\n",
       "      <td>6.625</td>\n",
       "      <td>6.625</td>\n",
       "      <td>0.000008</td>\n",
       "      <td>0.000005</td>\n",
       "      <td>...</td>\n",
       "      <td>8.634655</td>\n",
       "      <td>NaN</td>\n",
       "      <td>de3</td>\n",
       "      <td>8.779167</td>\n",
       "      <td>False</td>\n",
       "      <td>False</td>\n",
       "      <td>-1.0</td>\n",
       "      <td>10.0</td>\n",
       "      <td>3.171893</td>\n",
       "      <td>3.971223</td>\n",
       "    </tr>\n",
       "  </tbody>\n",
       "</table>\n",
       "<p>5 rows × 60 columns</p>\n",
       "</div>"
      ],
      "text/plain": [
       "   Unnamed: 0  Unnamed: 0.1           M_h           M_p  gamma^D_p  gamma^D_h  \\\n",
       "0           0             0  4.502398e-06  3.996791e-06   0.365975   0.070244   \n",
       "1           1             0  4.001982e-06  7.086781e-06   0.040492   0.911524   \n",
       "2           2             0  5.660195e-06  1.106181e-05   0.701770   0.569487   \n",
       "3           3             0  7.570845e-06  9.444341e-06   0.079173   0.384086   \n",
       "4           4             0  6.165933e-07  1.176978e-08   0.201885   0.221401   \n",
       "\n",
       "     R_p    R_h     E^O_p     E^I_p  ...  logerror  message  type  \\\n",
       "0  6.625  6.625  0.000009  0.000010  ...  8.631307      NaN   de3   \n",
       "1  6.625  6.625  0.000003  0.000001  ...  8.619667      NaN   de3   \n",
       "2  6.625  6.625  0.000004  0.000007  ...  8.618590      NaN   de3   \n",
       "3  6.625  6.625  0.000007  0.000001  ...  8.635134      NaN   de3   \n",
       "4  6.625  6.625  0.000008  0.000005  ...  8.634655      NaN   de3   \n",
       "\n",
       "   max_nonzero_day  negative   zero  cluster  cluster2     UMAP1      UMAP2  \n",
       "0         8.779167     False  False      5.0       5.0  8.551019  14.969038  \n",
       "1        25.720139     False  False      5.0       5.0  9.525745  11.655981  \n",
       "2        22.753472     False  False     -1.0       7.0  0.573815  11.419992  \n",
       "3         8.779167     False  False     -1.0       7.0 -1.609419   9.430687  \n",
       "4         8.779167     False  False     -1.0      10.0  3.171893   3.971223  \n",
       "\n",
       "[5 rows x 60 columns]"
      ]
     },
     "execution_count": 9,
     "metadata": {},
     "output_type": "execute_result"
    }
   ],
   "source": [
    "df.head()"
   ]
  },
  {
   "cell_type": "code",
   "execution_count": 10,
   "id": "f1a718c3",
   "metadata": {},
   "outputs": [
    {
     "data": {
      "text/plain": [
       "Index(['Unnamed: 0', 'Unnamed: 0.1', 'M_h', 'M_p', 'gamma^D_p', 'gamma^D_h',\n",
       "       'R_p', 'R_h', 'E^O_p', 'E^I_p', 'E^O_h', 'E^I_h', 'K^ON_p', 'K^IN_p',\n",
       "       'K^OC_p', 'K^IC_p', 'K^ON_h', 'K^IN_h', 'K^OC_h', 'K^IC_h', 'Vmax^ON_p',\n",
       "       'Vmax^IN_p', 'Vmax^OC_p', 'Vmax^IC_p', 'Vmax^ON_h', 'Vmax^IN_h',\n",
       "       'Vmax^OC_h', 'Vmax^IC_h', 'O_p', 'O_h', 'epsilon', 'VTmax', 'KT_h',\n",
       "       'omega', 'K^S_p', 'K^S_h', 'E^S_p', 'E^S_h', 'M^S_p', 'M^S_h', 'tau',\n",
       "       'r0_p', 'r0_h', 'b_p', 'b_h', 'run_id', 'status', 'h_err', 'p_err',\n",
       "       'error', 'logerror', 'message', 'type', 'max_nonzero_day', 'negative',\n",
       "       'zero', 'cluster', 'cluster2', 'UMAP1', 'UMAP2'],\n",
       "      dtype='object')"
      ]
     },
     "execution_count": 10,
     "metadata": {},
     "output_type": "execute_result"
    }
   ],
   "source": [
    "df.columns"
   ]
  },
  {
   "cell_type": "code",
   "execution_count": 28,
   "id": "c22539d8",
   "metadata": {},
   "outputs": [],
   "source": [
    "x_cols = run_sensitivity.params_to_update\n",
    "# ['M_h', 'M_p', 'gamma^D_p', 'gamma^D_h',\n",
    "#        'R_p', 'R_h', 'E^O_p', 'E^I_p', 'E^O_h', 'E^I_h', 'K^ON_p', 'K^IN_p',\n",
    "#        'K^OC_p', 'K^IC_p', 'K^ON_h', 'K^IN_h', 'K^OC_h', 'K^IC_h', 'Vmax^ON_p',\n",
    "#        'Vmax^IN_p', 'Vmax^OC_p', 'Vmax^IC_p', 'Vmax^ON_h', 'Vmax^IN_h',\n",
    "#        'Vmax^OC_h', 'Vmax^IC_h', 'O_p', 'O_h', 'epsilon', 'VTmax', 'KT_h',\n",
    "#        'omega', 'K^S_p', 'K^S_h', 'E^S_p', 'E^S_h', 'M^S_p', 'M^S_h', 'tau',\n",
    "#        'r0_p', 'r0_h', 'b_p', 'b_h',]\n",
    "\n",
    "y_col = 'cluster2'"
   ]
  },
  {
   "cell_type": "code",
   "execution_count": 29,
   "id": "c286daf2",
   "metadata": {},
   "outputs": [
    {
     "data": {
      "text/plain": [
       "(array([ 5., -1.,  3., nan,  2.,  6.,  4.,  0.,  1.]),\n",
       " array(['5.0', '7.0', '10.0', '3.0', 'zero', '2.0', '6.0', 'negative',\n",
       "        '8.0', '4.0', '0.0', '1.0', '9.0'], dtype=object))"
      ]
     },
     "execution_count": 29,
     "metadata": {},
     "output_type": "execute_result"
    }
   ],
   "source": [
    "df.cluster.unique(), df.cluster2.unique()"
   ]
  },
  {
   "cell_type": "code",
   "execution_count": 30,
   "id": "21a63aaa",
   "metadata": {},
   "outputs": [
    {
     "data": {
      "image/png": "[encoded data removed]",
      "text/latex": [
       "$\\displaystyle 0.8695741086511959$"
      ],
      "text/plain": [
       "0.8695741086511959"
      ]
     },
     "execution_count": 30,
     "metadata": {},
     "output_type": "execute_result"
    }
   ],
   "source": [
    "from sklearn.ensemble import HistGradientBoostingClassifier\n",
    "X = df[x_cols]\n",
    "y = df[y_col]\n",
    "clf = HistGradientBoostingClassifier().fit(X, y)\n",
    "clf.score(X, y)"
   ]
  },
  {
   "cell_type": "code",
   "execution_count": null,
   "id": "caee0a8b",
   "metadata": {
    "scrolled": false
   },
   "outputs": [],
   "source": [
    "sns.set_context('paper')\n",
    "from sklearn.inspection import PartialDependenceDisplay\n",
    "\n",
    "features = [3, 2, (3, 2)]\n",
    "group = 3\n",
    "for i in range(0, X.columns.shape[0]-3, 3):\n",
    "    PartialDependenceDisplay.from_estimator(clf, X, [i, i+1, i+2], target='zero')\n"
   ]
  },
  {
   "cell_type": "code",
   "execution_count": 19,
   "id": "62da271c",
   "metadata": {},
   "outputs": [
    {
     "data": {
      "text/plain": [
       "array(['0.0', '1.0', '10.0', '2.0', '3.0', '4.0', '5.0', '6.0', '7.0',\n",
       "       '8.0', '9.0', 'negative', 'zero'], dtype=object)"
      ]
     },
     "execution_count": 19,
     "metadata": {},
     "output_type": "execute_result"
    }
   ],
   "source": [
    "clf.classes_"
   ]
  },
  {
   "cell_type": "code",
   "execution_count": 24,
   "id": "7519f12c",
   "metadata": {},
   "outputs": [
    {
     "data": {
      "image/png": "[encoded data removed]",
      "text/latex": [
       "$\\displaystyle \\left( 43\\right)$"
      ],
      "text/plain": [
       "(43,)"
      ]
     },
     "execution_count": 24,
     "metadata": {},
     "output_type": "execute_result"
    }
   ],
   "source": [
    "X.columns.shape"
   ]
  },
  {
   "cell_type": "code",
   "execution_count": null,
   "id": "7f4535ec",
   "metadata": {},
   "outputs": [],
   "source": []
  }
 ],
 "metadata": {
  "kernelspec": {
   "display_name": "Python 3 (ipykernel)",
   "language": "python",
   "name": "python3"
  },
  "language_info": {
   "codemirror_mode": {
    "name": "ipython",
    "version": 3
   },
   "file_extension": ".py",
   "mimetype": "text/x-python",
   "name": "python",
   "nbconvert_exporter": "python",
   "pygments_lexer": "ipython3",
   "version": "3.7.1"
  }
 },
 "nbformat": 4,
 "nbformat_minor": 5
}
